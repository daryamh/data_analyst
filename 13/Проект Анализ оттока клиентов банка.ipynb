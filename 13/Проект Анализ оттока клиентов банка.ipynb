{
 "cells": [
  {
   "cell_type": "markdown",
   "metadata": {},
   "source": [
    "<div style=\"border:solid green 2px; padding: 20px\">\n",
    "\n",
    "<b>Привет, Дарья!</b>\n",
    "\n",
    "Меня зовут Алина Соловьева и я буду проверять твою работу. Попробую помочь сделать тебе её еще лучше! В Практикуме принято общени на ты, но если это дискомфортно, то сообщи об этом)\n",
    "\n",
    "Ниже ты найдешь мои комментарии - пожалуйста, не перемещай, не изменяй и не удаляй их. Я буду использовать цветовую разметку:\n",
    "\n",
    "<div class=\"alert alert-danger\">\n",
    "<b>Комментарий ревьюера:</b>☁️Так выделены самые важные замечания. Без их отработки проект не будет принят. </div>\n",
    "\n",
    "<div class=\"alert alert-warning\">\n",
    "<b>Комментарий ревьюера:</b>⛅️ Так выделены небольшие замечания.Такие замечания в проекте допустимы, это пространство для улучшений в будущем.\n",
    "</div>\n",
    "\n",
    "<div class=\"alert alert-success\">\n",
    "<b>Комментарий ревьюера:</b>☀️Так я выделяю успешные идеи.</div>\n",
    "\n",
    "Давай работать над проектом в диалоге: если ты что-то меняешь в проекте или отвечаешь на мои комменатри — пиши об этом. Мне будет легче отследить изменения, если ты выделишь свои комментарии:\n",
    "<div class=\"alert alert-info\"> <b>Комментарий студента:</b> Например, вот так.</div>\n",
    "\n",
    "Всё это поможет выполнить повторную проверку твоего проекта оперативнее."
   ]
  },
  {
   "cell_type": "markdown",
   "metadata": {},
   "source": [
    "# Анализ оттока клиентов банка"
   ]
  },
  {
   "cell_type": "markdown",
   "metadata": {},
   "source": [
    "**Презентация:** https://disk.yandex.ru/i/XjR_p8t46EM5mw\n",
    "\n",
    "**Цель проекта:** анализ оттока клиентов и сегментирование пользователей, которые склонны уходить из банка.\n",
    "\n",
    "В нашем распоряжении датасет с данными о клиентах банка «Метанпром». Банк располагается в Ярославле и областных городах: Ростов Великий и Рыбинск. \n",
    "\n",
    "**В ходе проекта необходимо:**\n",
    "1. Провести предобработку и исследовательский анализ данных.\n",
    "2. Определить признаки, которые сильнее всего влияют на отток.\n",
    "3. Провести корреляционный анализ метрик с признаком оттока.\n",
    "4. Проверить гипотезы\n",
    "5. Провести сегментирование пользователей, проверить соответствие сегментов требованиям и дать рекомендации по работе с клиентами для каждого сегмента.\n",
    "\n",
    "Датасет `bank_scrooge.csv` сожержит:\n",
    "- `USERID` — идентификатор пользователя;\n",
    "- `score` — баллы кредитного скоринга;\n",
    "- `city` — город;\n",
    "- `gender` — пол;\n",
    "- `age` — возраст;\n",
    "- `equity` — количество баллов собственности;\n",
    "- `balance` — баланс на счете;\n",
    "- `products` — количество продуктов, которыми пользуется клиент;\n",
    "- `credit_card` — есть ли кредитная карта;\n",
    "- `last_activity` — активный клиент;\n",
    "- `EST_SALARY` — оценочный доход клиента;\n",
    "- `сhurn` — признак оттока."
   ]
  },
  {
   "cell_type": "markdown",
   "metadata": {},
   "source": [
    "<div class=\"alert alert-success\">\n",
    "<b>Комментарий ревьюера:</b>☀️Хорошо, что есть введение - это важная часть проекта.</div>"
   ]
  },
  {
   "cell_type": "code",
   "execution_count": 1,
   "metadata": {},
   "outputs": [],
   "source": [
    "# Импортируем библиотеки\n",
    "import pandas as pd\n",
    "import matplotlib.pyplot as plt\n",
    "import matplotlib.ticker as ticker\n",
    "import seaborn as sns\n",
    "import numpy as np\n",
    "from scipy import stats as st"
   ]
  },
  {
   "cell_type": "markdown",
   "metadata": {},
   "source": [
    "## Загрузка данных и подготовка к анализу"
   ]
  },
  {
   "cell_type": "markdown",
   "metadata": {},
   "source": [
    "### Загрузка данных"
   ]
  },
  {
   "cell_type": "code",
   "execution_count": 2,
   "metadata": {},
   "outputs": [],
   "source": [
    "# Загрузим датасет из файла\n",
    "bank_clients = pd.read_csv('/datasets/bank_scrooge.csv')"
   ]
  },
  {
   "cell_type": "markdown",
   "metadata": {},
   "source": [
    "<div class=\"alert alert-warning\">\n",
    "<b>Комментарий ревьюера:</b>☀️В будущем для подгрузки данных рекомендую использовать конструкцию try-except или os.path, так удобнее работать с файлом локально.</div>"
   ]
  },
  {
   "cell_type": "code",
   "execution_count": 3,
   "metadata": {},
   "outputs": [],
   "source": [
    "# Напишем функцию, выводящую первые пять строк датафрейма и общую информацию о нем\n",
    "def df_info(df, df_name):\n",
    "    display(df.head(5))\n",
    "    print()\n",
    "    print('\\033[1m' + f\"Информация для датафрейма '{df_name}':\" + '\\033[0m')\n",
    "    df.info()\n",
    "    print()\n",
    "    display(df.describe().round(2))"
   ]
  },
  {
   "cell_type": "code",
   "execution_count": 4,
   "metadata": {},
   "outputs": [
    {
     "data": {
      "text/html": [
       "<div>\n",
       "<style scoped>\n",
       "    .dataframe tbody tr th:only-of-type {\n",
       "        vertical-align: middle;\n",
       "    }\n",
       "\n",
       "    .dataframe tbody tr th {\n",
       "        vertical-align: top;\n",
       "    }\n",
       "\n",
       "    .dataframe thead th {\n",
       "        text-align: right;\n",
       "    }\n",
       "</style>\n",
       "<table border=\"1\" class=\"dataframe\">\n",
       "  <thead>\n",
       "    <tr style=\"text-align: right;\">\n",
       "      <th></th>\n",
       "      <th>USERID</th>\n",
       "      <th>score</th>\n",
       "      <th>city</th>\n",
       "      <th>gender</th>\n",
       "      <th>age</th>\n",
       "      <th>equity</th>\n",
       "      <th>balance</th>\n",
       "      <th>products</th>\n",
       "      <th>credit_card</th>\n",
       "      <th>last_activity</th>\n",
       "      <th>EST_SALARY</th>\n",
       "      <th>churn</th>\n",
       "    </tr>\n",
       "  </thead>\n",
       "  <tbody>\n",
       "    <tr>\n",
       "      <th>0</th>\n",
       "      <td>183012</td>\n",
       "      <td>850.0</td>\n",
       "      <td>Рыбинск</td>\n",
       "      <td>Ж</td>\n",
       "      <td>25.0</td>\n",
       "      <td>1</td>\n",
       "      <td>59214.82</td>\n",
       "      <td>2</td>\n",
       "      <td>0</td>\n",
       "      <td>1</td>\n",
       "      <td>75719.14</td>\n",
       "      <td>1</td>\n",
       "    </tr>\n",
       "    <tr>\n",
       "      <th>1</th>\n",
       "      <td>146556</td>\n",
       "      <td>861.0</td>\n",
       "      <td>Рыбинск</td>\n",
       "      <td>Ж</td>\n",
       "      <td>37.0</td>\n",
       "      <td>5</td>\n",
       "      <td>850594.33</td>\n",
       "      <td>3</td>\n",
       "      <td>1</td>\n",
       "      <td>0</td>\n",
       "      <td>86621.77</td>\n",
       "      <td>0</td>\n",
       "    </tr>\n",
       "    <tr>\n",
       "      <th>2</th>\n",
       "      <td>120722</td>\n",
       "      <td>892.0</td>\n",
       "      <td>Рыбинск</td>\n",
       "      <td>Ж</td>\n",
       "      <td>30.0</td>\n",
       "      <td>0</td>\n",
       "      <td>NaN</td>\n",
       "      <td>1</td>\n",
       "      <td>1</td>\n",
       "      <td>1</td>\n",
       "      <td>107683.34</td>\n",
       "      <td>0</td>\n",
       "    </tr>\n",
       "    <tr>\n",
       "      <th>3</th>\n",
       "      <td>225363</td>\n",
       "      <td>866.0</td>\n",
       "      <td>Ярославль</td>\n",
       "      <td>Ж</td>\n",
       "      <td>51.0</td>\n",
       "      <td>5</td>\n",
       "      <td>1524746.26</td>\n",
       "      <td>2</td>\n",
       "      <td>0</td>\n",
       "      <td>1</td>\n",
       "      <td>174423.53</td>\n",
       "      <td>1</td>\n",
       "    </tr>\n",
       "    <tr>\n",
       "      <th>4</th>\n",
       "      <td>157978</td>\n",
       "      <td>730.0</td>\n",
       "      <td>Ярославль</td>\n",
       "      <td>М</td>\n",
       "      <td>34.0</td>\n",
       "      <td>5</td>\n",
       "      <td>174.00</td>\n",
       "      <td>1</td>\n",
       "      <td>1</td>\n",
       "      <td>0</td>\n",
       "      <td>67353.16</td>\n",
       "      <td>1</td>\n",
       "    </tr>\n",
       "  </tbody>\n",
       "</table>\n",
       "</div>"
      ],
      "text/plain": [
       "   USERID  score       city gender   age  equity     balance  products  \\\n",
       "0  183012  850.0    Рыбинск      Ж  25.0       1    59214.82         2   \n",
       "1  146556  861.0    Рыбинск      Ж  37.0       5   850594.33         3   \n",
       "2  120722  892.0    Рыбинск      Ж  30.0       0         NaN         1   \n",
       "3  225363  866.0  Ярославль      Ж  51.0       5  1524746.26         2   \n",
       "4  157978  730.0  Ярославль      М  34.0       5      174.00         1   \n",
       "\n",
       "   credit_card  last_activity  EST_SALARY  churn  \n",
       "0            0              1    75719.14      1  \n",
       "1            1              0    86621.77      0  \n",
       "2            1              1   107683.34      0  \n",
       "3            0              1   174423.53      1  \n",
       "4            1              0    67353.16      1  "
      ]
     },
     "metadata": {},
     "output_type": "display_data"
    },
    {
     "name": "stdout",
     "output_type": "stream",
     "text": [
      "\n",
      "\u001b[1mИнформация для датафрейма 'bank_clients':\u001b[0m\n",
      "<class 'pandas.core.frame.DataFrame'>\n",
      "RangeIndex: 10000 entries, 0 to 9999\n",
      "Data columns (total 12 columns):\n",
      " #   Column         Non-Null Count  Dtype  \n",
      "---  ------         --------------  -----  \n",
      " 0   USERID         10000 non-null  int64  \n",
      " 1   score          10000 non-null  float64\n",
      " 2   city           10000 non-null  object \n",
      " 3   gender         10000 non-null  object \n",
      " 4   age            9974 non-null   float64\n",
      " 5   equity         10000 non-null  int64  \n",
      " 6   balance        7705 non-null   float64\n",
      " 7   products       10000 non-null  int64  \n",
      " 8   credit_card    10000 non-null  int64  \n",
      " 9   last_activity  10000 non-null  int64  \n",
      " 10  EST_SALARY     10000 non-null  float64\n",
      " 11  churn          10000 non-null  int64  \n",
      "dtypes: float64(4), int64(6), object(2)\n",
      "memory usage: 937.6+ KB\n",
      "\n"
     ]
    },
    {
     "data": {
      "text/html": [
       "<div>\n",
       "<style scoped>\n",
       "    .dataframe tbody tr th:only-of-type {\n",
       "        vertical-align: middle;\n",
       "    }\n",
       "\n",
       "    .dataframe tbody tr th {\n",
       "        vertical-align: top;\n",
       "    }\n",
       "\n",
       "    .dataframe thead th {\n",
       "        text-align: right;\n",
       "    }\n",
       "</style>\n",
       "<table border=\"1\" class=\"dataframe\">\n",
       "  <thead>\n",
       "    <tr style=\"text-align: right;\">\n",
       "      <th></th>\n",
       "      <th>USERID</th>\n",
       "      <th>score</th>\n",
       "      <th>age</th>\n",
       "      <th>equity</th>\n",
       "      <th>balance</th>\n",
       "      <th>products</th>\n",
       "      <th>credit_card</th>\n",
       "      <th>last_activity</th>\n",
       "      <th>EST_SALARY</th>\n",
       "      <th>churn</th>\n",
       "    </tr>\n",
       "  </thead>\n",
       "  <tbody>\n",
       "    <tr>\n",
       "      <th>count</th>\n",
       "      <td>10000.00</td>\n",
       "      <td>10000.00</td>\n",
       "      <td>9974.00</td>\n",
       "      <td>10000.00</td>\n",
       "      <td>7.705000e+03</td>\n",
       "      <td>10000.00</td>\n",
       "      <td>10000.00</td>\n",
       "      <td>10000.00</td>\n",
       "      <td>10000.00</td>\n",
       "      <td>10000.00</td>\n",
       "    </tr>\n",
       "    <tr>\n",
       "      <th>mean</th>\n",
       "      <td>171814.71</td>\n",
       "      <td>848.70</td>\n",
       "      <td>42.73</td>\n",
       "      <td>2.63</td>\n",
       "      <td>8.277943e+05</td>\n",
       "      <td>1.87</td>\n",
       "      <td>0.68</td>\n",
       "      <td>0.52</td>\n",
       "      <td>147866.89</td>\n",
       "      <td>0.18</td>\n",
       "    </tr>\n",
       "    <tr>\n",
       "      <th>std</th>\n",
       "      <td>33708.24</td>\n",
       "      <td>65.45</td>\n",
       "      <td>12.18</td>\n",
       "      <td>1.98</td>\n",
       "      <td>1.980614e+06</td>\n",
       "      <td>0.79</td>\n",
       "      <td>0.47</td>\n",
       "      <td>0.50</td>\n",
       "      <td>139388.51</td>\n",
       "      <td>0.39</td>\n",
       "    </tr>\n",
       "    <tr>\n",
       "      <th>min</th>\n",
       "      <td>94561.00</td>\n",
       "      <td>642.00</td>\n",
       "      <td>18.00</td>\n",
       "      <td>0.00</td>\n",
       "      <td>0.000000e+00</td>\n",
       "      <td>0.00</td>\n",
       "      <td>0.00</td>\n",
       "      <td>0.00</td>\n",
       "      <td>2546.30</td>\n",
       "      <td>0.00</td>\n",
       "    </tr>\n",
       "    <tr>\n",
       "      <th>25%</th>\n",
       "      <td>142810.25</td>\n",
       "      <td>802.00</td>\n",
       "      <td>33.00</td>\n",
       "      <td>0.00</td>\n",
       "      <td>2.955542e+05</td>\n",
       "      <td>1.00</td>\n",
       "      <td>0.00</td>\n",
       "      <td>0.00</td>\n",
       "      <td>75251.90</td>\n",
       "      <td>0.00</td>\n",
       "    </tr>\n",
       "    <tr>\n",
       "      <th>50%</th>\n",
       "      <td>172728.00</td>\n",
       "      <td>853.00</td>\n",
       "      <td>40.00</td>\n",
       "      <td>3.00</td>\n",
       "      <td>5.242722e+05</td>\n",
       "      <td>2.00</td>\n",
       "      <td>1.00</td>\n",
       "      <td>1.00</td>\n",
       "      <td>119658.10</td>\n",
       "      <td>0.00</td>\n",
       "    </tr>\n",
       "    <tr>\n",
       "      <th>75%</th>\n",
       "      <td>201261.75</td>\n",
       "      <td>900.00</td>\n",
       "      <td>51.00</td>\n",
       "      <td>4.00</td>\n",
       "      <td>9.807058e+05</td>\n",
       "      <td>2.00</td>\n",
       "      <td>1.00</td>\n",
       "      <td>1.00</td>\n",
       "      <td>174500.54</td>\n",
       "      <td>0.00</td>\n",
       "    </tr>\n",
       "    <tr>\n",
       "      <th>max</th>\n",
       "      <td>229145.00</td>\n",
       "      <td>1000.00</td>\n",
       "      <td>86.00</td>\n",
       "      <td>9.00</td>\n",
       "      <td>1.191136e+08</td>\n",
       "      <td>5.00</td>\n",
       "      <td>1.00</td>\n",
       "      <td>1.00</td>\n",
       "      <td>1395064.45</td>\n",
       "      <td>1.00</td>\n",
       "    </tr>\n",
       "  </tbody>\n",
       "</table>\n",
       "</div>"
      ],
      "text/plain": [
       "          USERID     score      age    equity       balance  products  \\\n",
       "count   10000.00  10000.00  9974.00  10000.00  7.705000e+03  10000.00   \n",
       "mean   171814.71    848.70    42.73      2.63  8.277943e+05      1.87   \n",
       "std     33708.24     65.45    12.18      1.98  1.980614e+06      0.79   \n",
       "min     94561.00    642.00    18.00      0.00  0.000000e+00      0.00   \n",
       "25%    142810.25    802.00    33.00      0.00  2.955542e+05      1.00   \n",
       "50%    172728.00    853.00    40.00      3.00  5.242722e+05      2.00   \n",
       "75%    201261.75    900.00    51.00      4.00  9.807058e+05      2.00   \n",
       "max    229145.00   1000.00    86.00      9.00  1.191136e+08      5.00   \n",
       "\n",
       "       credit_card  last_activity  EST_SALARY     churn  \n",
       "count     10000.00       10000.00    10000.00  10000.00  \n",
       "mean          0.68           0.52   147866.89      0.18  \n",
       "std           0.47           0.50   139388.51      0.39  \n",
       "min           0.00           0.00     2546.30      0.00  \n",
       "25%           0.00           0.00    75251.90      0.00  \n",
       "50%           1.00           1.00   119658.10      0.00  \n",
       "75%           1.00           1.00   174500.54      0.00  \n",
       "max           1.00           1.00  1395064.45      1.00  "
      ]
     },
     "metadata": {},
     "output_type": "display_data"
    }
   ],
   "source": [
    "# Выведем на экран первые пять строк датафрейма и общую информацию о нем\n",
    "df_info(bank_clients, 'bank_clients')"
   ]
  },
  {
   "cell_type": "markdown",
   "metadata": {},
   "source": [
    "Мы ознакомились с таблицей. В загруженном датафрейме `bank_clients` 12 столбцов и 10000 строк. Исходя из информации, выведенной выше, можем заметить, что имена столбцов заданы не корректно, в некоторых столбцах есть пропуски.\n",
    "\n",
    "Столбцам `score` и `age` больше подходит тип данных int, так как возраст клиента не может быть дробным, а значения кредитного рейтинга целые числа.\n",
    "\n",
    "Перейдем к предобработке данных."
   ]
  },
  {
   "cell_type": "markdown",
   "metadata": {},
   "source": [
    "<div class=\"alert alert-success\">\n",
    "<b>Комментарий ревьюера:</b>☀️Отличный первичный взгляд на данные.</div>"
   ]
  },
  {
   "cell_type": "markdown",
   "metadata": {},
   "source": [
    "### Предобработка данных"
   ]
  },
  {
   "cell_type": "markdown",
   "metadata": {},
   "source": [
    "#### Работа с названиями столбцов"
   ]
  },
  {
   "cell_type": "code",
   "execution_count": 5,
   "metadata": {},
   "outputs": [
    {
     "name": "stdout",
     "output_type": "stream",
     "text": [
      "Index(['user_id', 'score', 'city', 'gender', 'age', 'equity', 'balance',\n",
      "       'products', 'credit_card', 'last_activity', 'est_salary', 'churn'],\n",
      "      dtype='object')\n"
     ]
    }
   ],
   "source": [
    "# Переименуем столбцы датафрейма в соответствии с принятыми правилами названия\n",
    "bank_clients.columns = bank_clients.columns.str.lower()\n",
    "\n",
    "# Разделим слова в названии столбца `userid` нижним подчеркиванием\n",
    "bank_clients = bank_clients.rename(columns={\n",
    "    'userid': 'user_id'\n",
    "})\n",
    "\n",
    "# Проверим, все ли получилось\n",
    "print(bank_clients.columns)"
   ]
  },
  {
   "cell_type": "markdown",
   "metadata": {},
   "source": [
    "Столбцы переименованы в соответствии с устоявшимися правилами."
   ]
  },
  {
   "cell_type": "markdown",
   "metadata": {},
   "source": [
    "#### Работа с типами данных"
   ]
  },
  {
   "cell_type": "markdown",
   "metadata": {},
   "source": [
    "Чтобы изменить тип данных столбца `age`, сначала выведем на экран уникальные значения столбца и количество пропусков. "
   ]
  },
  {
   "cell_type": "code",
   "execution_count": 6,
   "metadata": {},
   "outputs": [
    {
     "name": "stdout",
     "output_type": "stream",
     "text": [
      "Уникальные значения столбца 'age': [25. 37. 30. 51. 34. 56. 39. 38. 54. 67. 52. 41. 31. 28. 35. 42. 45. 53.\n",
      " 40. 43. 47. 48. 61. 62. 36. 26. 27. 60. 72. 50. 46. 55. 58. 71. 44. 49.\n",
      " 33. 32. 66. 29. 68. 73. 69. 59. 21. 65. 57. 63. 80. 24. 70. 77. 64. 23.\n",
      " 20. 18. 19. 78. 74. 76. 22. 75. nan 83. 82. 81. 84. 79. 86.]\n",
      "\n",
      "Количество пропусков в столбце 'age': 26\n"
     ]
    }
   ],
   "source": [
    "# Выведем на экран уникальные значения столбца `age` и суммарное количество пропусков\n",
    "print(f\"Уникальные значения столбца 'age': {bank_clients['age'].unique()}\")\n",
    "print()\n",
    "print(f\"Количество пропусков в столбце 'age': {bank_clients['age'].isna().sum()}\")"
   ]
  },
  {
   "cell_type": "markdown",
   "metadata": {},
   "source": [
    "В столбце `age` 26 пропусков. Возможно, при создании договора с клиентом, данные были заполнены некорректно или, при выгрузке из базы данных, возникла техническая ошибка, и данные выгрузились не полностью. Так как пропусков немного, удалим их, и изменим тип данных на целочисленный."
   ]
  },
  {
   "cell_type": "code",
   "execution_count": 7,
   "metadata": {},
   "outputs": [],
   "source": [
    "# Заполним пропуски в столбце `age` на 0 и изменим тип данных на целочисленный int\n",
    "# bank_clients['age'] = bank_clients['age'].fillna(0).astype(int)\n",
    "\n",
    "# Удалим пропуски в столбце `age` и изменим тип данных на целочисленный int\n",
    "bank_clients = bank_clients.dropna(subset=['age'])\n",
    "bank_clients['age'] = bank_clients['age'].astype(int)\n",
    "\n",
    "# В столбце `score` нет пропусков, поэтому изменение типов данных пройдет без ошибок\n",
    "bank_clients['score'] = bank_clients['score'].astype(int)"
   ]
  },
  {
   "cell_type": "markdown",
   "metadata": {},
   "source": [
    "<div class=\"alert alert-warning\">\n",
    "<b>Комментарий ревьюера:</b>☀️Вообще говоря эти пропуски нужно удалить, т.к. их немного.</div>"
   ]
  },
  {
   "cell_type": "markdown",
   "metadata": {},
   "source": [
    "<div class=\"alert alert-info\"> \n",
    "<b>Комментарий студента:</b> \n",
    "    \n",
    "Хорошо! Пропуски удалила, прошлый код с заменой на ноль закомментировала. Это привело к ряду изменений в работе:\n",
    "- Везде, где в выводах упоминала замену пропусков в этом столбце, исправила на то, что мы их удалили.\n",
    "- Все изменившиеся цифры и доли (хоть и незначительно) в выводах по всей работе поменяла. \n",
    "- В поиске дубликатов по `user_id` в сочетании со столбцами `score`, `balance` и `est_salary` больше дубликатов не найдено. Я выводы подправила, но удалять совсем эти проверки не стала. \n",
    "\n",
    "</div>"
   ]
  },
  {
   "cell_type": "markdown",
   "metadata": {},
   "source": [
    "\n",
    "<div class=\"alert alert-success\">\n",
    "<b>Комментарий ревьюера v2.0:</b>☀️Супер!!</div>"
   ]
  },
  {
   "cell_type": "markdown",
   "metadata": {},
   "source": [
    "#### Работа с пропусками"
   ]
  },
  {
   "cell_type": "code",
   "execution_count": 8,
   "metadata": {},
   "outputs": [
    {
     "name": "stdout",
     "output_type": "stream",
     "text": [
      "user_id             0\n",
      "score               0\n",
      "city                0\n",
      "gender              0\n",
      "age                 0\n",
      "equity              0\n",
      "balance          2279\n",
      "products            0\n",
      "credit_card         0\n",
      "last_activity       0\n",
      "est_salary          0\n",
      "churn               0\n",
      "dtype: int64\n"
     ]
    }
   ],
   "source": [
    "# Выведем на экран количество пропусков в каждом столбце\n",
    "print(bank_clients.isna().sum())"
   ]
  },
  {
   "cell_type": "markdown",
   "metadata": {},
   "source": [
    "В предыдущем шаге мы удалили пропуски в столбце `age`, т.к. их немного и это не повлияет на результат дальнейшего исследования.\n",
    "\n",
    "Осталось 2279 пропусков в столбце `balance`, это почти 23% от всех данных, удалять их точно нельзя. Возможно, пропуск в данных - это нулевой баланс на счете клиента. Проверим, есть ли в данных этого столбца нулевой баланс."
   ]
  },
  {
   "cell_type": "code",
   "execution_count": 9,
   "metadata": {},
   "outputs": [
    {
     "name": "stdout",
     "output_type": "stream",
     "text": [
      "3900     0.0\n",
      "6757     0.0\n",
      "6164     6.0\n",
      "3918     7.0\n",
      "2876    20.0\n",
      "        ... \n",
      "9976     NaN\n",
      "9984     NaN\n",
      "9993     NaN\n",
      "9996     NaN\n",
      "9997     NaN\n",
      "Name: balance, Length: 9974, dtype: float64\n"
     ]
    }
   ],
   "source": [
    "# Отсортируем данные столбца `balance` по возрастанию\n",
    "print(bank_clients['balance'].sort_values())"
   ]
  },
  {
   "cell_type": "markdown",
   "metadata": {},
   "source": [
    "Два клиента имеют нулевой баланс, далее мы видим клиентов с 6 у.е. и больше. Значит эти пропуски не означают, что на счету клиента нулевой баланс. Рассмотрим пропуски в разрезе других параметров, характеризующих клиента."
   ]
  },
  {
   "cell_type": "code",
   "execution_count": 10,
   "metadata": {},
   "outputs": [
    {
     "data": {
      "text/html": [
       "<div>\n",
       "<style scoped>\n",
       "    .dataframe tbody tr th:only-of-type {\n",
       "        vertical-align: middle;\n",
       "    }\n",
       "\n",
       "    .dataframe tbody tr th {\n",
       "        vertical-align: top;\n",
       "    }\n",
       "\n",
       "    .dataframe thead th {\n",
       "        text-align: right;\n",
       "    }\n",
       "</style>\n",
       "<table border=\"1\" class=\"dataframe\">\n",
       "  <thead>\n",
       "    <tr style=\"text-align: right;\">\n",
       "      <th></th>\n",
       "      <th>user_id</th>\n",
       "      <th>score</th>\n",
       "      <th>age</th>\n",
       "      <th>equity</th>\n",
       "      <th>balance</th>\n",
       "      <th>products</th>\n",
       "      <th>credit_card</th>\n",
       "      <th>last_activity</th>\n",
       "      <th>est_salary</th>\n",
       "      <th>churn</th>\n",
       "    </tr>\n",
       "  </thead>\n",
       "  <tbody>\n",
       "    <tr>\n",
       "      <th>count</th>\n",
       "      <td>2279.000</td>\n",
       "      <td>2279.000</td>\n",
       "      <td>2279.000</td>\n",
       "      <td>2279.000</td>\n",
       "      <td>0.0</td>\n",
       "      <td>2279.000</td>\n",
       "      <td>2279.000</td>\n",
       "      <td>2279.000</td>\n",
       "      <td>2279.000</td>\n",
       "      <td>2279.000</td>\n",
       "    </tr>\n",
       "    <tr>\n",
       "      <th>mean</th>\n",
       "      <td>171904.886</td>\n",
       "      <td>865.357</td>\n",
       "      <td>42.093</td>\n",
       "      <td>0.051</td>\n",
       "      <td>NaN</td>\n",
       "      <td>1.163</td>\n",
       "      <td>0.815</td>\n",
       "      <td>0.549</td>\n",
       "      <td>226345.417</td>\n",
       "      <td>0.006</td>\n",
       "    </tr>\n",
       "    <tr>\n",
       "      <th>std</th>\n",
       "      <td>33303.215</td>\n",
       "      <td>89.554</td>\n",
       "      <td>11.942</td>\n",
       "      <td>0.227</td>\n",
       "      <td>NaN</td>\n",
       "      <td>0.404</td>\n",
       "      <td>0.388</td>\n",
       "      <td>0.498</td>\n",
       "      <td>199825.591</td>\n",
       "      <td>0.075</td>\n",
       "    </tr>\n",
       "    <tr>\n",
       "      <th>min</th>\n",
       "      <td>114182.000</td>\n",
       "      <td>642.000</td>\n",
       "      <td>18.000</td>\n",
       "      <td>0.000</td>\n",
       "      <td>NaN</td>\n",
       "      <td>0.000</td>\n",
       "      <td>0.000</td>\n",
       "      <td>0.000</td>\n",
       "      <td>20274.030</td>\n",
       "      <td>0.000</td>\n",
       "    </tr>\n",
       "    <tr>\n",
       "      <th>25%</th>\n",
       "      <td>142992.500</td>\n",
       "      <td>871.000</td>\n",
       "      <td>33.000</td>\n",
       "      <td>0.000</td>\n",
       "      <td>NaN</td>\n",
       "      <td>1.000</td>\n",
       "      <td>1.000</td>\n",
       "      <td>0.000</td>\n",
       "      <td>120217.385</td>\n",
       "      <td>0.000</td>\n",
       "    </tr>\n",
       "    <tr>\n",
       "      <th>50%</th>\n",
       "      <td>172304.000</td>\n",
       "      <td>903.000</td>\n",
       "      <td>40.000</td>\n",
       "      <td>0.000</td>\n",
       "      <td>NaN</td>\n",
       "      <td>1.000</td>\n",
       "      <td>1.000</td>\n",
       "      <td>1.000</td>\n",
       "      <td>174347.870</td>\n",
       "      <td>0.000</td>\n",
       "    </tr>\n",
       "    <tr>\n",
       "      <th>75%</th>\n",
       "      <td>201257.000</td>\n",
       "      <td>922.000</td>\n",
       "      <td>49.000</td>\n",
       "      <td>0.000</td>\n",
       "      <td>NaN</td>\n",
       "      <td>1.000</td>\n",
       "      <td>1.000</td>\n",
       "      <td>1.000</td>\n",
       "      <td>240372.775</td>\n",
       "      <td>0.000</td>\n",
       "    </tr>\n",
       "    <tr>\n",
       "      <th>max</th>\n",
       "      <td>229145.000</td>\n",
       "      <td>990.000</td>\n",
       "      <td>86.000</td>\n",
       "      <td>3.000</td>\n",
       "      <td>NaN</td>\n",
       "      <td>3.000</td>\n",
       "      <td>1.000</td>\n",
       "      <td>1.000</td>\n",
       "      <td>1333687.360</td>\n",
       "      <td>1.000</td>\n",
       "    </tr>\n",
       "  </tbody>\n",
       "</table>\n",
       "</div>"
      ],
      "text/plain": [
       "          user_id     score       age    equity  balance  products  \\\n",
       "count    2279.000  2279.000  2279.000  2279.000      0.0  2279.000   \n",
       "mean   171904.886   865.357    42.093     0.051      NaN     1.163   \n",
       "std     33303.215    89.554    11.942     0.227      NaN     0.404   \n",
       "min    114182.000   642.000    18.000     0.000      NaN     0.000   \n",
       "25%    142992.500   871.000    33.000     0.000      NaN     1.000   \n",
       "50%    172304.000   903.000    40.000     0.000      NaN     1.000   \n",
       "75%    201257.000   922.000    49.000     0.000      NaN     1.000   \n",
       "max    229145.000   990.000    86.000     3.000      NaN     3.000   \n",
       "\n",
       "       credit_card  last_activity   est_salary     churn  \n",
       "count     2279.000       2279.000     2279.000  2279.000  \n",
       "mean         0.815          0.549   226345.417     0.006  \n",
       "std          0.388          0.498   199825.591     0.075  \n",
       "min          0.000          0.000    20274.030     0.000  \n",
       "25%          1.000          0.000   120217.385     0.000  \n",
       "50%          1.000          1.000   174347.870     0.000  \n",
       "75%          1.000          1.000   240372.775     0.000  \n",
       "max          1.000          1.000  1333687.360     1.000  "
      ]
     },
     "metadata": {},
     "output_type": "display_data"
    }
   ],
   "source": [
    "# Выведем на экран таблицу с описанием всех столбцов, где пропущены знаечния в столбце `balance`, \n",
    "# округлим значения до трех знаков после запятой\n",
    "display(bank_clients.loc[bank_clients['balance'].isna()].describe().round(3))"
   ]
  },
  {
   "cell_type": "markdown",
   "metadata": {},
   "source": [
    "Из таблицы выше видно, что пропуски в столбце `balance` имеют клиенты с низким уровнем оценки стоимости имущества (почти всегда это 0), в основном имеющие один продукт от банка и в большинстве случаев это кредитная карта. Почти все клиенты с пропусками в столбце `balance` не собираются уходить из банка.\n",
    "\n",
    "Эти пропуски мы оставим без изменений, потому что они составляют большую долю данных, которую удалять определенно точно нельзя. Но и заменить их нечем, т.к., в рамках проекта, это невосполнимая информация, а происхождение этих пропусков остается неизвестным."
   ]
  },
  {
   "cell_type": "markdown",
   "metadata": {},
   "source": [
    "<div class=\"alert alert-success\">\n",
    "<b>Комментарий ревьюера:</b>☀️Хороший анализ пропусков!</div>"
   ]
  },
  {
   "cell_type": "markdown",
   "metadata": {},
   "source": [
    "#### Работа с дубликатами"
   ]
  },
  {
   "cell_type": "code",
   "execution_count": 11,
   "metadata": {},
   "outputs": [],
   "source": [
    "# Напишем функцию, выводящую информацию о дубикатах\n",
    "def duplicates(df, df_name):\n",
    "    # Проверим явные дубликаты\n",
    "    print('\\033[1m' + f\"Количество явных дубликатов в таблице '{df_name}':\" + '\\033[0m')\n",
    "    print(f'{df.duplicated().sum()}')\n",
    "    print()\n",
    "    \n",
    "    # Для проверки неявных дубликатов, выведем уникальные значения всех столбцов заданного датафрейма\n",
    "    for column in df:\n",
    "        print('\\033[1m' + f'Количества уникальных значений для столбца {column}:' + '\\033[0m')\n",
    "        print(df[column].value_counts())\n",
    "        print()"
   ]
  },
  {
   "cell_type": "code",
   "execution_count": 12,
   "metadata": {
    "scrolled": false
   },
   "outputs": [
    {
     "name": "stdout",
     "output_type": "stream",
     "text": [
      "\u001b[1mКоличество явных дубликатов в таблице 'bank_clients':\u001b[0m\n",
      "0\n",
      "\n",
      "\u001b[1mКоличества уникальных значений для столбца user_id:\u001b[0m\n",
      "120258    2\n",
      "217643    2\n",
      "199312    2\n",
      "170312    2\n",
      "200863    2\n",
      "         ..\n",
      "181682    1\n",
      "179637    1\n",
      "173494    1\n",
      "175543    1\n",
      "215039    1\n",
      "Name: user_id, Length: 9924, dtype: int64\n",
      "\n",
      "\u001b[1mКоличества уникальных значений для столбца score:\u001b[0m\n",
      "900    80\n",
      "889    75\n",
      "899    70\n",
      "894    69\n",
      "912    68\n",
      "       ..\n",
      "666     1\n",
      "667     1\n",
      "995     1\n",
      "998     1\n",
      "671     1\n",
      "Name: score, Length: 348, dtype: int64\n",
      "\n",
      "\u001b[1mКоличества уникальных значений для столбца city:\u001b[0m\n",
      "Ярославль    5875\n",
      "Рыбинск      2683\n",
      "Ростов       1416\n",
      "Name: city, dtype: int64\n",
      "\n",
      "\u001b[1mКоличества уникальных значений для столбца gender:\u001b[0m\n",
      "М    4991\n",
      "Ж    4983\n",
      "Name: gender, dtype: int64\n",
      "\n",
      "\u001b[1mКоличества уникальных значений для столбца age:\u001b[0m\n",
      "36    414\n",
      "37    402\n",
      "33    392\n",
      "35    388\n",
      "34    384\n",
      "     ... \n",
      "83      3\n",
      "84      2\n",
      "86      2\n",
      "82      2\n",
      "79      2\n",
      "Name: age, Length: 68, dtype: int64\n",
      "\n",
      "\u001b[1mКоличества уникальных значений для столбца equity:\u001b[0m\n",
      "0    2576\n",
      "5    1915\n",
      "4    1847\n",
      "3    1541\n",
      "2    1051\n",
      "1     773\n",
      "6     161\n",
      "7      80\n",
      "8      17\n",
      "9      13\n",
      "Name: equity, dtype: int64\n",
      "\n",
      "\u001b[1mКоличества уникальных значений для столбца balance:\u001b[0m\n",
      "0.00          2\n",
      "26.00         2\n",
      "38.00         2\n",
      "39.00         2\n",
      "1500606.59    1\n",
      "             ..\n",
      "550479.58     1\n",
      "293093.40     1\n",
      "1376231.33    1\n",
      "276.00        1\n",
      "345502.13     1\n",
      "Name: balance, Length: 7691, dtype: int64\n",
      "\n",
      "\u001b[1mКоличества уникальных значений для столбца products:\u001b[0m\n",
      "2    5119\n",
      "1    3323\n",
      "3    1038\n",
      "4     474\n",
      "5      19\n",
      "0       1\n",
      "Name: products, dtype: int64\n",
      "\n",
      "\u001b[1mКоличества уникальных значений для столбца credit_card:\u001b[0m\n",
      "1    6784\n",
      "0    3190\n",
      "Name: credit_card, dtype: int64\n",
      "\n",
      "\u001b[1mКоличества уникальных значений для столбца last_activity:\u001b[0m\n",
      "1    5215\n",
      "0    4759\n",
      "Name: last_activity, dtype: int64\n",
      "\n",
      "\u001b[1mКоличества уникальных значений для столбца est_salary:\u001b[0m\n",
      "176348.18    2\n",
      "49742.87     2\n",
      "108250.17    2\n",
      "433829.32    1\n",
      "49401.58     1\n",
      "            ..\n",
      "175268.85    1\n",
      "27364.84     1\n",
      "17831.63     1\n",
      "104939.86    1\n",
      "117835.34    1\n",
      "Name: est_salary, Length: 9971, dtype: int64\n",
      "\n",
      "\u001b[1mКоличества уникальных значений для столбца churn:\u001b[0m\n",
      "0    8155\n",
      "1    1819\n",
      "Name: churn, dtype: int64\n",
      "\n"
     ]
    }
   ],
   "source": [
    "# Проверим наличие дубликатов в датафрейме `bank_clients`\n",
    "duplicates(bank_clients, 'bank_clients')"
   ]
  },
  {
   "cell_type": "markdown",
   "metadata": {},
   "source": [
    "Явных дубликатов в датафрейме не найдено. \n",
    "\n",
    "Однако мы видим, что есть дубликаты в столбце `user_id`, которых быть явно не должно, т.к. в `user_id` хранятся уникальные id пользователей. В столбце `products` мы видим, что у одного из клиентов количество продуктов банка равно нулю. Это явная аномалия. Также есть четыре двойных повторения значений в столбце `est_salary`, однако зарплата клиентов может совпадать. Рассмотрим эти данные более подробно."
   ]
  },
  {
   "cell_type": "code",
   "execution_count": 13,
   "metadata": {
    "scrolled": true
   },
   "outputs": [
    {
     "data": {
      "text/html": [
       "<div>\n",
       "<style scoped>\n",
       "    .dataframe tbody tr th:only-of-type {\n",
       "        vertical-align: middle;\n",
       "    }\n",
       "\n",
       "    .dataframe tbody tr th {\n",
       "        vertical-align: top;\n",
       "    }\n",
       "\n",
       "    .dataframe thead th {\n",
       "        text-align: right;\n",
       "    }\n",
       "</style>\n",
       "<table border=\"1\" class=\"dataframe\">\n",
       "  <thead>\n",
       "    <tr style=\"text-align: right;\">\n",
       "      <th></th>\n",
       "      <th>user_id</th>\n",
       "      <th>score</th>\n",
       "      <th>city</th>\n",
       "      <th>gender</th>\n",
       "      <th>age</th>\n",
       "      <th>equity</th>\n",
       "      <th>balance</th>\n",
       "      <th>products</th>\n",
       "      <th>credit_card</th>\n",
       "      <th>last_activity</th>\n",
       "      <th>est_salary</th>\n",
       "      <th>churn</th>\n",
       "    </tr>\n",
       "  </thead>\n",
       "  <tbody>\n",
       "    <tr>\n",
       "      <th>1893</th>\n",
       "      <td>116540</td>\n",
       "      <td>883</td>\n",
       "      <td>Рыбинск</td>\n",
       "      <td>Ж</td>\n",
       "      <td>55</td>\n",
       "      <td>1</td>\n",
       "      <td>362756.49</td>\n",
       "      <td>3</td>\n",
       "      <td>0</td>\n",
       "      <td>1</td>\n",
       "      <td>175920.48</td>\n",
       "      <td>1</td>\n",
       "    </tr>\n",
       "    <tr>\n",
       "      <th>7694</th>\n",
       "      <td>116540</td>\n",
       "      <td>887</td>\n",
       "      <td>Ярославль</td>\n",
       "      <td>Ж</td>\n",
       "      <td>38</td>\n",
       "      <td>0</td>\n",
       "      <td>NaN</td>\n",
       "      <td>1</td>\n",
       "      <td>0</td>\n",
       "      <td>1</td>\n",
       "      <td>119247.61</td>\n",
       "      <td>0</td>\n",
       "    </tr>\n",
       "    <tr>\n",
       "      <th>4866</th>\n",
       "      <td>117943</td>\n",
       "      <td>855</td>\n",
       "      <td>Рыбинск</td>\n",
       "      <td>Ж</td>\n",
       "      <td>32</td>\n",
       "      <td>6</td>\n",
       "      <td>1036832.93</td>\n",
       "      <td>4</td>\n",
       "      <td>1</td>\n",
       "      <td>1</td>\n",
       "      <td>107792.71</td>\n",
       "      <td>1</td>\n",
       "    </tr>\n",
       "    <tr>\n",
       "      <th>7542</th>\n",
       "      <td>117943</td>\n",
       "      <td>880</td>\n",
       "      <td>Ярославль</td>\n",
       "      <td>Ж</td>\n",
       "      <td>40</td>\n",
       "      <td>0</td>\n",
       "      <td>NaN</td>\n",
       "      <td>1</td>\n",
       "      <td>1</td>\n",
       "      <td>0</td>\n",
       "      <td>137718.93</td>\n",
       "      <td>0</td>\n",
       "    </tr>\n",
       "    <tr>\n",
       "      <th>5863</th>\n",
       "      <td>120258</td>\n",
       "      <td>908</td>\n",
       "      <td>Рыбинск</td>\n",
       "      <td>Ж</td>\n",
       "      <td>38</td>\n",
       "      <td>4</td>\n",
       "      <td>2213581.63</td>\n",
       "      <td>2</td>\n",
       "      <td>0</td>\n",
       "      <td>1</td>\n",
       "      <td>160327.77</td>\n",
       "      <td>1</td>\n",
       "    </tr>\n",
       "    <tr>\n",
       "      <th>5896</th>\n",
       "      <td>120258</td>\n",
       "      <td>905</td>\n",
       "      <td>Ярославль</td>\n",
       "      <td>М</td>\n",
       "      <td>30</td>\n",
       "      <td>0</td>\n",
       "      <td>NaN</td>\n",
       "      <td>1</td>\n",
       "      <td>1</td>\n",
       "      <td>1</td>\n",
       "      <td>146427.96</td>\n",
       "      <td>0</td>\n",
       "    </tr>\n",
       "    <tr>\n",
       "      <th>1411</th>\n",
       "      <td>123461</td>\n",
       "      <td>829</td>\n",
       "      <td>Ярославль</td>\n",
       "      <td>Ж</td>\n",
       "      <td>59</td>\n",
       "      <td>0</td>\n",
       "      <td>96222.44</td>\n",
       "      <td>2</td>\n",
       "      <td>0</td>\n",
       "      <td>1</td>\n",
       "      <td>102771.55</td>\n",
       "      <td>1</td>\n",
       "    </tr>\n",
       "    <tr>\n",
       "      <th>8638</th>\n",
       "      <td>123461</td>\n",
       "      <td>934</td>\n",
       "      <td>Рыбинск</td>\n",
       "      <td>М</td>\n",
       "      <td>34</td>\n",
       "      <td>0</td>\n",
       "      <td>NaN</td>\n",
       "      <td>2</td>\n",
       "      <td>1</td>\n",
       "      <td>0</td>\n",
       "      <td>291619.27</td>\n",
       "      <td>0</td>\n",
       "    </tr>\n",
       "    <tr>\n",
       "      <th>9775</th>\n",
       "      <td>124450</td>\n",
       "      <td>758</td>\n",
       "      <td>Рыбинск</td>\n",
       "      <td>Ж</td>\n",
       "      <td>36</td>\n",
       "      <td>0</td>\n",
       "      <td>73574.07</td>\n",
       "      <td>2</td>\n",
       "      <td>0</td>\n",
       "      <td>1</td>\n",
       "      <td>79963.59</td>\n",
       "      <td>0</td>\n",
       "    </tr>\n",
       "    <tr>\n",
       "      <th>8164</th>\n",
       "      <td>124450</td>\n",
       "      <td>859</td>\n",
       "      <td>Ярославль</td>\n",
       "      <td>Ж</td>\n",
       "      <td>38</td>\n",
       "      <td>6</td>\n",
       "      <td>516811.20</td>\n",
       "      <td>1</td>\n",
       "      <td>1</td>\n",
       "      <td>1</td>\n",
       "      <td>95144.63</td>\n",
       "      <td>1</td>\n",
       "    </tr>\n",
       "    <tr>\n",
       "      <th>4850</th>\n",
       "      <td>126368</td>\n",
       "      <td>909</td>\n",
       "      <td>Ярославль</td>\n",
       "      <td>Ж</td>\n",
       "      <td>30</td>\n",
       "      <td>4</td>\n",
       "      <td>1322623.29</td>\n",
       "      <td>2</td>\n",
       "      <td>0</td>\n",
       "      <td>1</td>\n",
       "      <td>140675.66</td>\n",
       "      <td>1</td>\n",
       "    </tr>\n",
       "    <tr>\n",
       "      <th>5420</th>\n",
       "      <td>126368</td>\n",
       "      <td>832</td>\n",
       "      <td>Рыбинск</td>\n",
       "      <td>Ж</td>\n",
       "      <td>33</td>\n",
       "      <td>0</td>\n",
       "      <td>NaN</td>\n",
       "      <td>1</td>\n",
       "      <td>0</td>\n",
       "      <td>0</td>\n",
       "      <td>118465.34</td>\n",
       "      <td>0</td>\n",
       "    </tr>\n",
       "    <tr>\n",
       "      <th>3988</th>\n",
       "      <td>129785</td>\n",
       "      <td>904</td>\n",
       "      <td>Рыбинск</td>\n",
       "      <td>М</td>\n",
       "      <td>33</td>\n",
       "      <td>5</td>\n",
       "      <td>2427737.60</td>\n",
       "      <td>3</td>\n",
       "      <td>0</td>\n",
       "      <td>1</td>\n",
       "      <td>188856.75</td>\n",
       "      <td>1</td>\n",
       "    </tr>\n",
       "    <tr>\n",
       "      <th>9504</th>\n",
       "      <td>129785</td>\n",
       "      <td>949</td>\n",
       "      <td>Ярославль</td>\n",
       "      <td>М</td>\n",
       "      <td>43</td>\n",
       "      <td>0</td>\n",
       "      <td>NaN</td>\n",
       "      <td>1</td>\n",
       "      <td>1</td>\n",
       "      <td>1</td>\n",
       "      <td>166845.37</td>\n",
       "      <td>0</td>\n",
       "    </tr>\n",
       "    <tr>\n",
       "      <th>2138</th>\n",
       "      <td>131419</td>\n",
       "      <td>739</td>\n",
       "      <td>Рыбинск</td>\n",
       "      <td>Ж</td>\n",
       "      <td>37</td>\n",
       "      <td>3</td>\n",
       "      <td>1307941.65</td>\n",
       "      <td>3</td>\n",
       "      <td>0</td>\n",
       "      <td>0</td>\n",
       "      <td>103867.47</td>\n",
       "      <td>0</td>\n",
       "    </tr>\n",
       "    <tr>\n",
       "      <th>904</th>\n",
       "      <td>131419</td>\n",
       "      <td>934</td>\n",
       "      <td>Ярославль</td>\n",
       "      <td>М</td>\n",
       "      <td>35</td>\n",
       "      <td>5</td>\n",
       "      <td>2348335.95</td>\n",
       "      <td>2</td>\n",
       "      <td>0</td>\n",
       "      <td>0</td>\n",
       "      <td>217105.13</td>\n",
       "      <td>1</td>\n",
       "    </tr>\n",
       "    <tr>\n",
       "      <th>1608</th>\n",
       "      <td>140377</td>\n",
       "      <td>802</td>\n",
       "      <td>Ярославль</td>\n",
       "      <td>М</td>\n",
       "      <td>26</td>\n",
       "      <td>3</td>\n",
       "      <td>539863.29</td>\n",
       "      <td>4</td>\n",
       "      <td>1</td>\n",
       "      <td>1</td>\n",
       "      <td>112167.83</td>\n",
       "      <td>1</td>\n",
       "    </tr>\n",
       "    <tr>\n",
       "      <th>7487</th>\n",
       "      <td>140377</td>\n",
       "      <td>930</td>\n",
       "      <td>Рыбинск</td>\n",
       "      <td>Ж</td>\n",
       "      <td>34</td>\n",
       "      <td>5</td>\n",
       "      <td>1123967.02</td>\n",
       "      <td>1</td>\n",
       "      <td>1</td>\n",
       "      <td>1</td>\n",
       "      <td>148336.26</td>\n",
       "      <td>0</td>\n",
       "    </tr>\n",
       "    <tr>\n",
       "      <th>2276</th>\n",
       "      <td>141265</td>\n",
       "      <td>858</td>\n",
       "      <td>Ярославль</td>\n",
       "      <td>М</td>\n",
       "      <td>37</td>\n",
       "      <td>4</td>\n",
       "      <td>471599.16</td>\n",
       "      <td>2</td>\n",
       "      <td>1</td>\n",
       "      <td>1</td>\n",
       "      <td>148806.88</td>\n",
       "      <td>1</td>\n",
       "    </tr>\n",
       "    <tr>\n",
       "      <th>5569</th>\n",
       "      <td>141265</td>\n",
       "      <td>811</td>\n",
       "      <td>Рыбинск</td>\n",
       "      <td>Ж</td>\n",
       "      <td>33</td>\n",
       "      <td>3</td>\n",
       "      <td>1044316.88</td>\n",
       "      <td>2</td>\n",
       "      <td>1</td>\n",
       "      <td>0</td>\n",
       "      <td>46055.32</td>\n",
       "      <td>0</td>\n",
       "    </tr>\n",
       "    <tr>\n",
       "      <th>5369</th>\n",
       "      <td>143592</td>\n",
       "      <td>885</td>\n",
       "      <td>Рыбинск</td>\n",
       "      <td>Ж</td>\n",
       "      <td>56</td>\n",
       "      <td>4</td>\n",
       "      <td>1201087.46</td>\n",
       "      <td>2</td>\n",
       "      <td>1</td>\n",
       "      <td>1</td>\n",
       "      <td>88223.89</td>\n",
       "      <td>1</td>\n",
       "    </tr>\n",
       "    <tr>\n",
       "      <th>5557</th>\n",
       "      <td>143592</td>\n",
       "      <td>764</td>\n",
       "      <td>Ярославль</td>\n",
       "      <td>Ж</td>\n",
       "      <td>68</td>\n",
       "      <td>3</td>\n",
       "      <td>508919.15</td>\n",
       "      <td>2</td>\n",
       "      <td>0</td>\n",
       "      <td>1</td>\n",
       "      <td>71211.66</td>\n",
       "      <td>0</td>\n",
       "    </tr>\n",
       "    <tr>\n",
       "      <th>8364</th>\n",
       "      <td>148826</td>\n",
       "      <td>909</td>\n",
       "      <td>Рыбинск</td>\n",
       "      <td>Ж</td>\n",
       "      <td>32</td>\n",
       "      <td>0</td>\n",
       "      <td>NaN</td>\n",
       "      <td>3</td>\n",
       "      <td>1</td>\n",
       "      <td>0</td>\n",
       "      <td>28843.54</td>\n",
       "      <td>0</td>\n",
       "    </tr>\n",
       "    <tr>\n",
       "      <th>5252</th>\n",
       "      <td>148826</td>\n",
       "      <td>895</td>\n",
       "      <td>Ярославль</td>\n",
       "      <td>М</td>\n",
       "      <td>32</td>\n",
       "      <td>5</td>\n",
       "      <td>1470273.14</td>\n",
       "      <td>2</td>\n",
       "      <td>0</td>\n",
       "      <td>0</td>\n",
       "      <td>118058.52</td>\n",
       "      <td>1</td>\n",
       "    </tr>\n",
       "    <tr>\n",
       "      <th>946</th>\n",
       "      <td>149365</td>\n",
       "      <td>877</td>\n",
       "      <td>Ярославль</td>\n",
       "      <td>М</td>\n",
       "      <td>41</td>\n",
       "      <td>5</td>\n",
       "      <td>819182.01</td>\n",
       "      <td>2</td>\n",
       "      <td>0</td>\n",
       "      <td>0</td>\n",
       "      <td>212316.47</td>\n",
       "      <td>1</td>\n",
       "    </tr>\n",
       "    <tr>\n",
       "      <th>8272</th>\n",
       "      <td>149365</td>\n",
       "      <td>793</td>\n",
       "      <td>Рыбинск</td>\n",
       "      <td>Ж</td>\n",
       "      <td>61</td>\n",
       "      <td>0</td>\n",
       "      <td>476496.99</td>\n",
       "      <td>2</td>\n",
       "      <td>1</td>\n",
       "      <td>1</td>\n",
       "      <td>46147.06</td>\n",
       "      <td>0</td>\n",
       "    </tr>\n",
       "    <tr>\n",
       "      <th>2439</th>\n",
       "      <td>150667</td>\n",
       "      <td>813</td>\n",
       "      <td>Рыбинск</td>\n",
       "      <td>Ж</td>\n",
       "      <td>44</td>\n",
       "      <td>0</td>\n",
       "      <td>62504.47</td>\n",
       "      <td>4</td>\n",
       "      <td>1</td>\n",
       "      <td>0</td>\n",
       "      <td>152393.79</td>\n",
       "      <td>1</td>\n",
       "    </tr>\n",
       "    <tr>\n",
       "      <th>9267</th>\n",
       "      <td>150667</td>\n",
       "      <td>931</td>\n",
       "      <td>Ярославль</td>\n",
       "      <td>М</td>\n",
       "      <td>41</td>\n",
       "      <td>0</td>\n",
       "      <td>NaN</td>\n",
       "      <td>1</td>\n",
       "      <td>0</td>\n",
       "      <td>0</td>\n",
       "      <td>261904.44</td>\n",
       "      <td>0</td>\n",
       "    </tr>\n",
       "    <tr>\n",
       "      <th>690</th>\n",
       "      <td>152479</td>\n",
       "      <td>768</td>\n",
       "      <td>Рыбинск</td>\n",
       "      <td>Ж</td>\n",
       "      <td>42</td>\n",
       "      <td>0</td>\n",
       "      <td>126787.79</td>\n",
       "      <td>4</td>\n",
       "      <td>1</td>\n",
       "      <td>1</td>\n",
       "      <td>143233.23</td>\n",
       "      <td>1</td>\n",
       "    </tr>\n",
       "    <tr>\n",
       "      <th>5705</th>\n",
       "      <td>152479</td>\n",
       "      <td>723</td>\n",
       "      <td>Ярославль</td>\n",
       "      <td>Ж</td>\n",
       "      <td>22</td>\n",
       "      <td>0</td>\n",
       "      <td>NaN</td>\n",
       "      <td>1</td>\n",
       "      <td>1</td>\n",
       "      <td>0</td>\n",
       "      <td>83955.65</td>\n",
       "      <td>0</td>\n",
       "    </tr>\n",
       "    <tr>\n",
       "      <th>3274</th>\n",
       "      <td>155765</td>\n",
       "      <td>863</td>\n",
       "      <td>Ярославль</td>\n",
       "      <td>М</td>\n",
       "      <td>30</td>\n",
       "      <td>5</td>\n",
       "      <td>1036114.50</td>\n",
       "      <td>5</td>\n",
       "      <td>1</td>\n",
       "      <td>1</td>\n",
       "      <td>150744.50</td>\n",
       "      <td>1</td>\n",
       "    </tr>\n",
       "    <tr>\n",
       "      <th>5197</th>\n",
       "      <td>155765</td>\n",
       "      <td>923</td>\n",
       "      <td>Рыбинск</td>\n",
       "      <td>М</td>\n",
       "      <td>30</td>\n",
       "      <td>0</td>\n",
       "      <td>NaN</td>\n",
       "      <td>1</td>\n",
       "      <td>1</td>\n",
       "      <td>1</td>\n",
       "      <td>120296.60</td>\n",
       "      <td>0</td>\n",
       "    </tr>\n",
       "    <tr>\n",
       "      <th>1080</th>\n",
       "      <td>155872</td>\n",
       "      <td>896</td>\n",
       "      <td>Ярославль</td>\n",
       "      <td>М</td>\n",
       "      <td>36</td>\n",
       "      <td>3</td>\n",
       "      <td>1113656.92</td>\n",
       "      <td>3</td>\n",
       "      <td>0</td>\n",
       "      <td>1</td>\n",
       "      <td>291176.85</td>\n",
       "      <td>1</td>\n",
       "    </tr>\n",
       "    <tr>\n",
       "      <th>9363</th>\n",
       "      <td>155872</td>\n",
       "      <td>714</td>\n",
       "      <td>Рыбинск</td>\n",
       "      <td>Ж</td>\n",
       "      <td>29</td>\n",
       "      <td>0</td>\n",
       "      <td>NaN</td>\n",
       "      <td>1</td>\n",
       "      <td>1</td>\n",
       "      <td>0</td>\n",
       "      <td>118052.84</td>\n",
       "      <td>0</td>\n",
       "    </tr>\n",
       "    <tr>\n",
       "      <th>3936</th>\n",
       "      <td>160075</td>\n",
       "      <td>899</td>\n",
       "      <td>Ярославль</td>\n",
       "      <td>М</td>\n",
       "      <td>34</td>\n",
       "      <td>4</td>\n",
       "      <td>1647814.67</td>\n",
       "      <td>4</td>\n",
       "      <td>1</td>\n",
       "      <td>0</td>\n",
       "      <td>151888.42</td>\n",
       "      <td>1</td>\n",
       "    </tr>\n",
       "    <tr>\n",
       "      <th>9508</th>\n",
       "      <td>160075</td>\n",
       "      <td>824</td>\n",
       "      <td>Рыбинск</td>\n",
       "      <td>Ж</td>\n",
       "      <td>57</td>\n",
       "      <td>3</td>\n",
       "      <td>355047.33</td>\n",
       "      <td>2</td>\n",
       "      <td>0</td>\n",
       "      <td>0</td>\n",
       "      <td>64351.81</td>\n",
       "      <td>0</td>\n",
       "    </tr>\n",
       "    <tr>\n",
       "      <th>8733</th>\n",
       "      <td>162053</td>\n",
       "      <td>786</td>\n",
       "      <td>Ярославль</td>\n",
       "      <td>М</td>\n",
       "      <td>29</td>\n",
       "      <td>4</td>\n",
       "      <td>205824.97</td>\n",
       "      <td>3</td>\n",
       "      <td>1</td>\n",
       "      <td>0</td>\n",
       "      <td>121371.73</td>\n",
       "      <td>0</td>\n",
       "    </tr>\n",
       "    <tr>\n",
       "      <th>5629</th>\n",
       "      <td>162053</td>\n",
       "      <td>921</td>\n",
       "      <td>Рыбинск</td>\n",
       "      <td>М</td>\n",
       "      <td>33</td>\n",
       "      <td>3</td>\n",
       "      <td>857011.13</td>\n",
       "      <td>2</td>\n",
       "      <td>1</td>\n",
       "      <td>1</td>\n",
       "      <td>113512.57</td>\n",
       "      <td>1</td>\n",
       "    </tr>\n",
       "    <tr>\n",
       "      <th>6786</th>\n",
       "      <td>163207</td>\n",
       "      <td>838</td>\n",
       "      <td>Ярославль</td>\n",
       "      <td>Ж</td>\n",
       "      <td>42</td>\n",
       "      <td>4</td>\n",
       "      <td>652776.60</td>\n",
       "      <td>2</td>\n",
       "      <td>1</td>\n",
       "      <td>1</td>\n",
       "      <td>97545.36</td>\n",
       "      <td>0</td>\n",
       "    </tr>\n",
       "    <tr>\n",
       "      <th>3564</th>\n",
       "      <td>163207</td>\n",
       "      <td>853</td>\n",
       "      <td>Рыбинск</td>\n",
       "      <td>М</td>\n",
       "      <td>42</td>\n",
       "      <td>4</td>\n",
       "      <td>543839.62</td>\n",
       "      <td>1</td>\n",
       "      <td>1</td>\n",
       "      <td>1</td>\n",
       "      <td>105281.97</td>\n",
       "      <td>1</td>\n",
       "    </tr>\n",
       "    <tr>\n",
       "      <th>7271</th>\n",
       "      <td>164676</td>\n",
       "      <td>790</td>\n",
       "      <td>Рыбинск</td>\n",
       "      <td>Ж</td>\n",
       "      <td>77</td>\n",
       "      <td>1</td>\n",
       "      <td>111202.01</td>\n",
       "      <td>1</td>\n",
       "      <td>1</td>\n",
       "      <td>0</td>\n",
       "      <td>32835.45</td>\n",
       "      <td>0</td>\n",
       "    </tr>\n",
       "    <tr>\n",
       "      <th>58</th>\n",
       "      <td>164676</td>\n",
       "      <td>860</td>\n",
       "      <td>Ярославль</td>\n",
       "      <td>М</td>\n",
       "      <td>37</td>\n",
       "      <td>5</td>\n",
       "      <td>648594.03</td>\n",
       "      <td>2</td>\n",
       "      <td>1</td>\n",
       "      <td>1</td>\n",
       "      <td>213586.86</td>\n",
       "      <td>1</td>\n",
       "    </tr>\n",
       "    <tr>\n",
       "      <th>9785</th>\n",
       "      <td>168998</td>\n",
       "      <td>895</td>\n",
       "      <td>Рыбинск</td>\n",
       "      <td>М</td>\n",
       "      <td>44</td>\n",
       "      <td>0</td>\n",
       "      <td>282653.53</td>\n",
       "      <td>3</td>\n",
       "      <td>0</td>\n",
       "      <td>0</td>\n",
       "      <td>255296.47</td>\n",
       "      <td>0</td>\n",
       "    </tr>\n",
       "    <tr>\n",
       "      <th>5020</th>\n",
       "      <td>168998</td>\n",
       "      <td>886</td>\n",
       "      <td>Ярославль</td>\n",
       "      <td>Ж</td>\n",
       "      <td>35</td>\n",
       "      <td>4</td>\n",
       "      <td>394780.61</td>\n",
       "      <td>2</td>\n",
       "      <td>1</td>\n",
       "      <td>1</td>\n",
       "      <td>510577.10</td>\n",
       "      <td>1</td>\n",
       "    </tr>\n",
       "    <tr>\n",
       "      <th>790</th>\n",
       "      <td>170312</td>\n",
       "      <td>901</td>\n",
       "      <td>Ярославль</td>\n",
       "      <td>М</td>\n",
       "      <td>33</td>\n",
       "      <td>4</td>\n",
       "      <td>3276783.93</td>\n",
       "      <td>3</td>\n",
       "      <td>0</td>\n",
       "      <td>1</td>\n",
       "      <td>358700.96</td>\n",
       "      <td>1</td>\n",
       "    </tr>\n",
       "    <tr>\n",
       "      <th>3039</th>\n",
       "      <td>170312</td>\n",
       "      <td>813</td>\n",
       "      <td>Рыбинск</td>\n",
       "      <td>Ж</td>\n",
       "      <td>47</td>\n",
       "      <td>3</td>\n",
       "      <td>370027.67</td>\n",
       "      <td>2</td>\n",
       "      <td>0</td>\n",
       "      <td>0</td>\n",
       "      <td>129835.56</td>\n",
       "      <td>0</td>\n",
       "    </tr>\n",
       "    <tr>\n",
       "      <th>4587</th>\n",
       "      <td>171751</td>\n",
       "      <td>874</td>\n",
       "      <td>Рыбинск</td>\n",
       "      <td>Ж</td>\n",
       "      <td>26</td>\n",
       "      <td>5</td>\n",
       "      <td>292054.42</td>\n",
       "      <td>2</td>\n",
       "      <td>0</td>\n",
       "      <td>1</td>\n",
       "      <td>20528.56</td>\n",
       "      <td>1</td>\n",
       "    </tr>\n",
       "    <tr>\n",
       "      <th>9653</th>\n",
       "      <td>171751</td>\n",
       "      <td>862</td>\n",
       "      <td>Ярославль</td>\n",
       "      <td>М</td>\n",
       "      <td>42</td>\n",
       "      <td>4</td>\n",
       "      <td>481992.19</td>\n",
       "      <td>2</td>\n",
       "      <td>1</td>\n",
       "      <td>0</td>\n",
       "      <td>71816.86</td>\n",
       "      <td>0</td>\n",
       "    </tr>\n",
       "    <tr>\n",
       "      <th>6756</th>\n",
       "      <td>172142</td>\n",
       "      <td>751</td>\n",
       "      <td>Рыбинск</td>\n",
       "      <td>Ж</td>\n",
       "      <td>69</td>\n",
       "      <td>3</td>\n",
       "      <td>396568.03</td>\n",
       "      <td>2</td>\n",
       "      <td>0</td>\n",
       "      <td>1</td>\n",
       "      <td>45608.45</td>\n",
       "      <td>0</td>\n",
       "    </tr>\n",
       "    <tr>\n",
       "      <th>2941</th>\n",
       "      <td>172142</td>\n",
       "      <td>896</td>\n",
       "      <td>Ярославль</td>\n",
       "      <td>Ж</td>\n",
       "      <td>30</td>\n",
       "      <td>4</td>\n",
       "      <td>1009073.14</td>\n",
       "      <td>4</td>\n",
       "      <td>1</td>\n",
       "      <td>0</td>\n",
       "      <td>70866.29</td>\n",
       "      <td>1</td>\n",
       "    </tr>\n",
       "    <tr>\n",
       "      <th>7753</th>\n",
       "      <td>175730</td>\n",
       "      <td>846</td>\n",
       "      <td>Ярославль</td>\n",
       "      <td>Ж</td>\n",
       "      <td>32</td>\n",
       "      <td>7</td>\n",
       "      <td>216764.74</td>\n",
       "      <td>4</td>\n",
       "      <td>1</td>\n",
       "      <td>1</td>\n",
       "      <td>77100.85</td>\n",
       "      <td>1</td>\n",
       "    </tr>\n",
       "    <tr>\n",
       "      <th>9970</th>\n",
       "      <td>175730</td>\n",
       "      <td>816</td>\n",
       "      <td>Рыбинск</td>\n",
       "      <td>М</td>\n",
       "      <td>36</td>\n",
       "      <td>4</td>\n",
       "      <td>477892.07</td>\n",
       "      <td>3</td>\n",
       "      <td>1</td>\n",
       "      <td>0</td>\n",
       "      <td>81100.60</td>\n",
       "      <td>0</td>\n",
       "    </tr>\n",
       "    <tr>\n",
       "      <th>8705</th>\n",
       "      <td>181526</td>\n",
       "      <td>895</td>\n",
       "      <td>Рыбинск</td>\n",
       "      <td>М</td>\n",
       "      <td>29</td>\n",
       "      <td>0</td>\n",
       "      <td>NaN</td>\n",
       "      <td>1</td>\n",
       "      <td>1</td>\n",
       "      <td>1</td>\n",
       "      <td>124786.53</td>\n",
       "      <td>0</td>\n",
       "    </tr>\n",
       "    <tr>\n",
       "      <th>2989</th>\n",
       "      <td>181526</td>\n",
       "      <td>918</td>\n",
       "      <td>Ярославль</td>\n",
       "      <td>Ж</td>\n",
       "      <td>37</td>\n",
       "      <td>5</td>\n",
       "      <td>1366382.35</td>\n",
       "      <td>4</td>\n",
       "      <td>1</td>\n",
       "      <td>1</td>\n",
       "      <td>97932.95</td>\n",
       "      <td>1</td>\n",
       "    </tr>\n",
       "    <tr>\n",
       "      <th>9146</th>\n",
       "      <td>183510</td>\n",
       "      <td>800</td>\n",
       "      <td>Рыбинск</td>\n",
       "      <td>Ж</td>\n",
       "      <td>42</td>\n",
       "      <td>7</td>\n",
       "      <td>473293.81</td>\n",
       "      <td>2</td>\n",
       "      <td>1</td>\n",
       "      <td>0</td>\n",
       "      <td>54049.88</td>\n",
       "      <td>0</td>\n",
       "    </tr>\n",
       "    <tr>\n",
       "      <th>8584</th>\n",
       "      <td>183510</td>\n",
       "      <td>922</td>\n",
       "      <td>Ярославль</td>\n",
       "      <td>М</td>\n",
       "      <td>26</td>\n",
       "      <td>5</td>\n",
       "      <td>448542.42</td>\n",
       "      <td>3</td>\n",
       "      <td>0</td>\n",
       "      <td>1</td>\n",
       "      <td>66063.13</td>\n",
       "      <td>1</td>\n",
       "    </tr>\n",
       "    <tr>\n",
       "      <th>3106</th>\n",
       "      <td>185748</td>\n",
       "      <td>912</td>\n",
       "      <td>Ярославль</td>\n",
       "      <td>Ж</td>\n",
       "      <td>47</td>\n",
       "      <td>5</td>\n",
       "      <td>1598218.98</td>\n",
       "      <td>2</td>\n",
       "      <td>0</td>\n",
       "      <td>0</td>\n",
       "      <td>180256.98</td>\n",
       "      <td>0</td>\n",
       "    </tr>\n",
       "    <tr>\n",
       "      <th>150</th>\n",
       "      <td>185748</td>\n",
       "      <td>850</td>\n",
       "      <td>Рыбинск</td>\n",
       "      <td>М</td>\n",
       "      <td>36</td>\n",
       "      <td>5</td>\n",
       "      <td>1203376.67</td>\n",
       "      <td>2</td>\n",
       "      <td>0</td>\n",
       "      <td>1</td>\n",
       "      <td>89401.82</td>\n",
       "      <td>1</td>\n",
       "    </tr>\n",
       "    <tr>\n",
       "      <th>5454</th>\n",
       "      <td>188957</td>\n",
       "      <td>853</td>\n",
       "      <td>Ярославль</td>\n",
       "      <td>М</td>\n",
       "      <td>35</td>\n",
       "      <td>1</td>\n",
       "      <td>374959.62</td>\n",
       "      <td>2</td>\n",
       "      <td>1</td>\n",
       "      <td>1</td>\n",
       "      <td>197600.97</td>\n",
       "      <td>1</td>\n",
       "    </tr>\n",
       "    <tr>\n",
       "      <th>6005</th>\n",
       "      <td>188957</td>\n",
       "      <td>882</td>\n",
       "      <td>Рыбинск</td>\n",
       "      <td>Ж</td>\n",
       "      <td>64</td>\n",
       "      <td>3</td>\n",
       "      <td>893392.91</td>\n",
       "      <td>3</td>\n",
       "      <td>1</td>\n",
       "      <td>0</td>\n",
       "      <td>69622.58</td>\n",
       "      <td>0</td>\n",
       "    </tr>\n",
       "    <tr>\n",
       "      <th>1583</th>\n",
       "      <td>190253</td>\n",
       "      <td>726</td>\n",
       "      <td>Ярославль</td>\n",
       "      <td>М</td>\n",
       "      <td>49</td>\n",
       "      <td>0</td>\n",
       "      <td>NaN</td>\n",
       "      <td>1</td>\n",
       "      <td>1</td>\n",
       "      <td>1</td>\n",
       "      <td>177700.78</td>\n",
       "      <td>0</td>\n",
       "    </tr>\n",
       "    <tr>\n",
       "      <th>231</th>\n",
       "      <td>190253</td>\n",
       "      <td>823</td>\n",
       "      <td>Рыбинск</td>\n",
       "      <td>М</td>\n",
       "      <td>37</td>\n",
       "      <td>4</td>\n",
       "      <td>373348.39</td>\n",
       "      <td>2</td>\n",
       "      <td>0</td>\n",
       "      <td>1</td>\n",
       "      <td>131947.92</td>\n",
       "      <td>1</td>\n",
       "    </tr>\n",
       "    <tr>\n",
       "      <th>3859</th>\n",
       "      <td>191520</td>\n",
       "      <td>773</td>\n",
       "      <td>Рыбинск</td>\n",
       "      <td>М</td>\n",
       "      <td>36</td>\n",
       "      <td>3</td>\n",
       "      <td>1219918.08</td>\n",
       "      <td>4</td>\n",
       "      <td>1</td>\n",
       "      <td>1</td>\n",
       "      <td>119933.13</td>\n",
       "      <td>1</td>\n",
       "    </tr>\n",
       "    <tr>\n",
       "      <th>7931</th>\n",
       "      <td>191520</td>\n",
       "      <td>767</td>\n",
       "      <td>Ярославль</td>\n",
       "      <td>М</td>\n",
       "      <td>45</td>\n",
       "      <td>0</td>\n",
       "      <td>NaN</td>\n",
       "      <td>1</td>\n",
       "      <td>1</td>\n",
       "      <td>1</td>\n",
       "      <td>880005.05</td>\n",
       "      <td>0</td>\n",
       "    </tr>\n",
       "    <tr>\n",
       "      <th>9659</th>\n",
       "      <td>195884</td>\n",
       "      <td>767</td>\n",
       "      <td>Рыбинск</td>\n",
       "      <td>Ж</td>\n",
       "      <td>45</td>\n",
       "      <td>1</td>\n",
       "      <td>335652.56</td>\n",
       "      <td>3</td>\n",
       "      <td>1</td>\n",
       "      <td>1</td>\n",
       "      <td>100197.67</td>\n",
       "      <td>0</td>\n",
       "    </tr>\n",
       "    <tr>\n",
       "      <th>2226</th>\n",
       "      <td>195884</td>\n",
       "      <td>906</td>\n",
       "      <td>Ярославль</td>\n",
       "      <td>М</td>\n",
       "      <td>49</td>\n",
       "      <td>6</td>\n",
       "      <td>1354552.83</td>\n",
       "      <td>2</td>\n",
       "      <td>0</td>\n",
       "      <td>0</td>\n",
       "      <td>270678.42</td>\n",
       "      <td>1</td>\n",
       "    </tr>\n",
       "    <tr>\n",
       "      <th>4870</th>\n",
       "      <td>197364</td>\n",
       "      <td>889</td>\n",
       "      <td>Ярославль</td>\n",
       "      <td>М</td>\n",
       "      <td>33</td>\n",
       "      <td>0</td>\n",
       "      <td>NaN</td>\n",
       "      <td>2</td>\n",
       "      <td>1</td>\n",
       "      <td>1</td>\n",
       "      <td>96173.48</td>\n",
       "      <td>0</td>\n",
       "    </tr>\n",
       "    <tr>\n",
       "      <th>161</th>\n",
       "      <td>197364</td>\n",
       "      <td>928</td>\n",
       "      <td>Рыбинск</td>\n",
       "      <td>Ж</td>\n",
       "      <td>53</td>\n",
       "      <td>6</td>\n",
       "      <td>1347183.86</td>\n",
       "      <td>2</td>\n",
       "      <td>0</td>\n",
       "      <td>1</td>\n",
       "      <td>168189.49</td>\n",
       "      <td>1</td>\n",
       "    </tr>\n",
       "    <tr>\n",
       "      <th>8822</th>\n",
       "      <td>199312</td>\n",
       "      <td>911</td>\n",
       "      <td>Рыбинск</td>\n",
       "      <td>Ж</td>\n",
       "      <td>43</td>\n",
       "      <td>0</td>\n",
       "      <td>NaN</td>\n",
       "      <td>2</td>\n",
       "      <td>1</td>\n",
       "      <td>1</td>\n",
       "      <td>152189.72</td>\n",
       "      <td>0</td>\n",
       "    </tr>\n",
       "    <tr>\n",
       "      <th>2499</th>\n",
       "      <td>199312</td>\n",
       "      <td>948</td>\n",
       "      <td>Ярославль</td>\n",
       "      <td>М</td>\n",
       "      <td>41</td>\n",
       "      <td>5</td>\n",
       "      <td>3095721.85</td>\n",
       "      <td>4</td>\n",
       "      <td>1</td>\n",
       "      <td>1</td>\n",
       "      <td>307234.69</td>\n",
       "      <td>1</td>\n",
       "    </tr>\n",
       "    <tr>\n",
       "      <th>9035</th>\n",
       "      <td>200863</td>\n",
       "      <td>933</td>\n",
       "      <td>Рыбинск</td>\n",
       "      <td>М</td>\n",
       "      <td>29</td>\n",
       "      <td>7</td>\n",
       "      <td>766924.56</td>\n",
       "      <td>2</td>\n",
       "      <td>0</td>\n",
       "      <td>1</td>\n",
       "      <td>89323.33</td>\n",
       "      <td>1</td>\n",
       "    </tr>\n",
       "    <tr>\n",
       "      <th>9175</th>\n",
       "      <td>200863</td>\n",
       "      <td>832</td>\n",
       "      <td>Ярославль</td>\n",
       "      <td>М</td>\n",
       "      <td>42</td>\n",
       "      <td>5</td>\n",
       "      <td>620064.73</td>\n",
       "      <td>2</td>\n",
       "      <td>0</td>\n",
       "      <td>0</td>\n",
       "      <td>188054.46</td>\n",
       "      <td>0</td>\n",
       "    </tr>\n",
       "    <tr>\n",
       "      <th>1513</th>\n",
       "      <td>208081</td>\n",
       "      <td>873</td>\n",
       "      <td>Ярославль</td>\n",
       "      <td>М</td>\n",
       "      <td>31</td>\n",
       "      <td>2</td>\n",
       "      <td>232814.75</td>\n",
       "      <td>2</td>\n",
       "      <td>1</td>\n",
       "      <td>1</td>\n",
       "      <td>122505.86</td>\n",
       "      <td>1</td>\n",
       "    </tr>\n",
       "    <tr>\n",
       "      <th>2998</th>\n",
       "      <td>208081</td>\n",
       "      <td>821</td>\n",
       "      <td>Рыбинск</td>\n",
       "      <td>Ж</td>\n",
       "      <td>62</td>\n",
       "      <td>3</td>\n",
       "      <td>493608.26</td>\n",
       "      <td>2</td>\n",
       "      <td>1</td>\n",
       "      <td>1</td>\n",
       "      <td>33491.45</td>\n",
       "      <td>0</td>\n",
       "    </tr>\n",
       "    <tr>\n",
       "      <th>5840</th>\n",
       "      <td>208738</td>\n",
       "      <td>839</td>\n",
       "      <td>Ярославль</td>\n",
       "      <td>М</td>\n",
       "      <td>60</td>\n",
       "      <td>5</td>\n",
       "      <td>1102438.37</td>\n",
       "      <td>2</td>\n",
       "      <td>0</td>\n",
       "      <td>1</td>\n",
       "      <td>116500.81</td>\n",
       "      <td>0</td>\n",
       "    </tr>\n",
       "    <tr>\n",
       "      <th>1580</th>\n",
       "      <td>208738</td>\n",
       "      <td>897</td>\n",
       "      <td>Рыбинск</td>\n",
       "      <td>Ж</td>\n",
       "      <td>45</td>\n",
       "      <td>5</td>\n",
       "      <td>859018.19</td>\n",
       "      <td>2</td>\n",
       "      <td>1</td>\n",
       "      <td>1</td>\n",
       "      <td>145510.08</td>\n",
       "      <td>1</td>\n",
       "    </tr>\n",
       "    <tr>\n",
       "      <th>3350</th>\n",
       "      <td>208815</td>\n",
       "      <td>877</td>\n",
       "      <td>Рыбинск</td>\n",
       "      <td>М</td>\n",
       "      <td>25</td>\n",
       "      <td>4</td>\n",
       "      <td>239421.18</td>\n",
       "      <td>1</td>\n",
       "      <td>1</td>\n",
       "      <td>1</td>\n",
       "      <td>48638.00</td>\n",
       "      <td>1</td>\n",
       "    </tr>\n",
       "    <tr>\n",
       "      <th>5570</th>\n",
       "      <td>208815</td>\n",
       "      <td>773</td>\n",
       "      <td>Ярославль</td>\n",
       "      <td>М</td>\n",
       "      <td>39</td>\n",
       "      <td>4</td>\n",
       "      <td>288110.09</td>\n",
       "      <td>2</td>\n",
       "      <td>1</td>\n",
       "      <td>0</td>\n",
       "      <td>56971.91</td>\n",
       "      <td>0</td>\n",
       "    </tr>\n",
       "    <tr>\n",
       "      <th>7453</th>\n",
       "      <td>210627</td>\n",
       "      <td>864</td>\n",
       "      <td>Ярославль</td>\n",
       "      <td>Ж</td>\n",
       "      <td>38</td>\n",
       "      <td>4</td>\n",
       "      <td>1527225.32</td>\n",
       "      <td>4</td>\n",
       "      <td>1</td>\n",
       "      <td>1</td>\n",
       "      <td>162999.17</td>\n",
       "      <td>1</td>\n",
       "    </tr>\n",
       "    <tr>\n",
       "      <th>8521</th>\n",
       "      <td>210627</td>\n",
       "      <td>804</td>\n",
       "      <td>Рыбинск</td>\n",
       "      <td>М</td>\n",
       "      <td>30</td>\n",
       "      <td>2</td>\n",
       "      <td>347818.88</td>\n",
       "      <td>3</td>\n",
       "      <td>1</td>\n",
       "      <td>0</td>\n",
       "      <td>129015.25</td>\n",
       "      <td>0</td>\n",
       "    </tr>\n",
       "    <tr>\n",
       "      <th>869</th>\n",
       "      <td>210662</td>\n",
       "      <td>962</td>\n",
       "      <td>Ярославль</td>\n",
       "      <td>Ж</td>\n",
       "      <td>54</td>\n",
       "      <td>5</td>\n",
       "      <td>5069231.39</td>\n",
       "      <td>1</td>\n",
       "      <td>1</td>\n",
       "      <td>1</td>\n",
       "      <td>955144.85</td>\n",
       "      <td>1</td>\n",
       "    </tr>\n",
       "    <tr>\n",
       "      <th>1837</th>\n",
       "      <td>210662</td>\n",
       "      <td>896</td>\n",
       "      <td>Рыбинск</td>\n",
       "      <td>Ж</td>\n",
       "      <td>37</td>\n",
       "      <td>0</td>\n",
       "      <td>NaN</td>\n",
       "      <td>2</td>\n",
       "      <td>0</td>\n",
       "      <td>0</td>\n",
       "      <td>90916.04</td>\n",
       "      <td>0</td>\n",
       "    </tr>\n",
       "    <tr>\n",
       "      <th>4986</th>\n",
       "      <td>210792</td>\n",
       "      <td>884</td>\n",
       "      <td>Рыбинск</td>\n",
       "      <td>М</td>\n",
       "      <td>48</td>\n",
       "      <td>4</td>\n",
       "      <td>2228037.20</td>\n",
       "      <td>2</td>\n",
       "      <td>0</td>\n",
       "      <td>1</td>\n",
       "      <td>207978.09</td>\n",
       "      <td>1</td>\n",
       "    </tr>\n",
       "    <tr>\n",
       "      <th>7814</th>\n",
       "      <td>210792</td>\n",
       "      <td>839</td>\n",
       "      <td>Ярославль</td>\n",
       "      <td>М</td>\n",
       "      <td>42</td>\n",
       "      <td>2</td>\n",
       "      <td>662646.97</td>\n",
       "      <td>1</td>\n",
       "      <td>1</td>\n",
       "      <td>0</td>\n",
       "      <td>138403.60</td>\n",
       "      <td>0</td>\n",
       "    </tr>\n",
       "    <tr>\n",
       "      <th>1359</th>\n",
       "      <td>211130</td>\n",
       "      <td>833</td>\n",
       "      <td>Ярославль</td>\n",
       "      <td>М</td>\n",
       "      <td>55</td>\n",
       "      <td>3</td>\n",
       "      <td>1231184.90</td>\n",
       "      <td>4</td>\n",
       "      <td>0</td>\n",
       "      <td>1</td>\n",
       "      <td>187758.38</td>\n",
       "      <td>1</td>\n",
       "    </tr>\n",
       "    <tr>\n",
       "      <th>3817</th>\n",
       "      <td>211130</td>\n",
       "      <td>918</td>\n",
       "      <td>Рыбинск</td>\n",
       "      <td>Ж</td>\n",
       "      <td>55</td>\n",
       "      <td>0</td>\n",
       "      <td>NaN</td>\n",
       "      <td>2</td>\n",
       "      <td>1</td>\n",
       "      <td>1</td>\n",
       "      <td>244202.04</td>\n",
       "      <td>0</td>\n",
       "    </tr>\n",
       "    <tr>\n",
       "      <th>9880</th>\n",
       "      <td>217412</td>\n",
       "      <td>886</td>\n",
       "      <td>Ярославль</td>\n",
       "      <td>Ж</td>\n",
       "      <td>35</td>\n",
       "      <td>3</td>\n",
       "      <td>1026172.14</td>\n",
       "      <td>2</td>\n",
       "      <td>1</td>\n",
       "      <td>0</td>\n",
       "      <td>53099.16</td>\n",
       "      <td>0</td>\n",
       "    </tr>\n",
       "    <tr>\n",
       "      <th>7055</th>\n",
       "      <td>217412</td>\n",
       "      <td>879</td>\n",
       "      <td>Рыбинск</td>\n",
       "      <td>М</td>\n",
       "      <td>42</td>\n",
       "      <td>5</td>\n",
       "      <td>568140.15</td>\n",
       "      <td>3</td>\n",
       "      <td>0</td>\n",
       "      <td>0</td>\n",
       "      <td>231658.67</td>\n",
       "      <td>1</td>\n",
       "    </tr>\n",
       "    <tr>\n",
       "      <th>4611</th>\n",
       "      <td>217619</td>\n",
       "      <td>903</td>\n",
       "      <td>Рыбинск</td>\n",
       "      <td>Ж</td>\n",
       "      <td>59</td>\n",
       "      <td>5</td>\n",
       "      <td>844055.83</td>\n",
       "      <td>2</td>\n",
       "      <td>0</td>\n",
       "      <td>1</td>\n",
       "      <td>133999.76</td>\n",
       "      <td>1</td>\n",
       "    </tr>\n",
       "    <tr>\n",
       "      <th>5807</th>\n",
       "      <td>217619</td>\n",
       "      <td>766</td>\n",
       "      <td>Ярославль</td>\n",
       "      <td>М</td>\n",
       "      <td>52</td>\n",
       "      <td>2</td>\n",
       "      <td>218199.47</td>\n",
       "      <td>1</td>\n",
       "      <td>1</td>\n",
       "      <td>0</td>\n",
       "      <td>120356.44</td>\n",
       "      <td>0</td>\n",
       "    </tr>\n",
       "    <tr>\n",
       "      <th>4186</th>\n",
       "      <td>217643</td>\n",
       "      <td>804</td>\n",
       "      <td>Рыбинск</td>\n",
       "      <td>Ж</td>\n",
       "      <td>40</td>\n",
       "      <td>2</td>\n",
       "      <td>301836.65</td>\n",
       "      <td>2</td>\n",
       "      <td>1</td>\n",
       "      <td>1</td>\n",
       "      <td>81137.22</td>\n",
       "      <td>0</td>\n",
       "    </tr>\n",
       "    <tr>\n",
       "      <th>1970</th>\n",
       "      <td>217643</td>\n",
       "      <td>845</td>\n",
       "      <td>Ярославль</td>\n",
       "      <td>М</td>\n",
       "      <td>29</td>\n",
       "      <td>5</td>\n",
       "      <td>733098.45</td>\n",
       "      <td>4</td>\n",
       "      <td>1</td>\n",
       "      <td>1</td>\n",
       "      <td>41443.01</td>\n",
       "      <td>1</td>\n",
       "    </tr>\n",
       "    <tr>\n",
       "      <th>9406</th>\n",
       "      <td>217826</td>\n",
       "      <td>790</td>\n",
       "      <td>Рыбинск</td>\n",
       "      <td>Ж</td>\n",
       "      <td>46</td>\n",
       "      <td>4</td>\n",
       "      <td>430414.80</td>\n",
       "      <td>2</td>\n",
       "      <td>1</td>\n",
       "      <td>1</td>\n",
       "      <td>49400.37</td>\n",
       "      <td>0</td>\n",
       "    </tr>\n",
       "    <tr>\n",
       "      <th>4623</th>\n",
       "      <td>217826</td>\n",
       "      <td>842</td>\n",
       "      <td>Ярославль</td>\n",
       "      <td>М</td>\n",
       "      <td>39</td>\n",
       "      <td>4</td>\n",
       "      <td>439747.65</td>\n",
       "      <td>2</td>\n",
       "      <td>0</td>\n",
       "      <td>1</td>\n",
       "      <td>116736.75</td>\n",
       "      <td>1</td>\n",
       "    </tr>\n",
       "    <tr>\n",
       "      <th>1740</th>\n",
       "      <td>220816</td>\n",
       "      <td>840</td>\n",
       "      <td>Ярославль</td>\n",
       "      <td>Ж</td>\n",
       "      <td>41</td>\n",
       "      <td>3</td>\n",
       "      <td>1193287.13</td>\n",
       "      <td>2</td>\n",
       "      <td>1</td>\n",
       "      <td>1</td>\n",
       "      <td>76434.94</td>\n",
       "      <td>1</td>\n",
       "    </tr>\n",
       "    <tr>\n",
       "      <th>2302</th>\n",
       "      <td>220816</td>\n",
       "      <td>934</td>\n",
       "      <td>Рыбинск</td>\n",
       "      <td>Ж</td>\n",
       "      <td>74</td>\n",
       "      <td>5</td>\n",
       "      <td>1294285.39</td>\n",
       "      <td>3</td>\n",
       "      <td>1</td>\n",
       "      <td>0</td>\n",
       "      <td>95606.80</td>\n",
       "      <td>0</td>\n",
       "    </tr>\n",
       "    <tr>\n",
       "      <th>2597</th>\n",
       "      <td>226719</td>\n",
       "      <td>990</td>\n",
       "      <td>Ярославль</td>\n",
       "      <td>М</td>\n",
       "      <td>37</td>\n",
       "      <td>4</td>\n",
       "      <td>14648692.14</td>\n",
       "      <td>2</td>\n",
       "      <td>0</td>\n",
       "      <td>0</td>\n",
       "      <td>934412.61</td>\n",
       "      <td>1</td>\n",
       "    </tr>\n",
       "    <tr>\n",
       "      <th>4216</th>\n",
       "      <td>226719</td>\n",
       "      <td>903</td>\n",
       "      <td>Рыбинск</td>\n",
       "      <td>Ж</td>\n",
       "      <td>63</td>\n",
       "      <td>0</td>\n",
       "      <td>NaN</td>\n",
       "      <td>1</td>\n",
       "      <td>1</td>\n",
       "      <td>0</td>\n",
       "      <td>138582.58</td>\n",
       "      <td>0</td>\n",
       "    </tr>\n",
       "    <tr>\n",
       "      <th>8205</th>\n",
       "      <td>227795</td>\n",
       "      <td>840</td>\n",
       "      <td>Рыбинск</td>\n",
       "      <td>М</td>\n",
       "      <td>34</td>\n",
       "      <td>2</td>\n",
       "      <td>350768.03</td>\n",
       "      <td>1</td>\n",
       "      <td>1</td>\n",
       "      <td>0</td>\n",
       "      <td>102036.14</td>\n",
       "      <td>1</td>\n",
       "    </tr>\n",
       "    <tr>\n",
       "      <th>8497</th>\n",
       "      <td>227795</td>\n",
       "      <td>839</td>\n",
       "      <td>Ярославль</td>\n",
       "      <td>М</td>\n",
       "      <td>34</td>\n",
       "      <td>2</td>\n",
       "      <td>326593.14</td>\n",
       "      <td>2</td>\n",
       "      <td>1</td>\n",
       "      <td>0</td>\n",
       "      <td>103314.92</td>\n",
       "      <td>0</td>\n",
       "    </tr>\n",
       "  </tbody>\n",
       "</table>\n",
       "</div>"
      ],
      "text/plain": [
       "      user_id  score       city gender  age  equity      balance  products  \\\n",
       "1893   116540    883    Рыбинск      Ж   55       1    362756.49         3   \n",
       "7694   116540    887  Ярославль      Ж   38       0          NaN         1   \n",
       "4866   117943    855    Рыбинск      Ж   32       6   1036832.93         4   \n",
       "7542   117943    880  Ярославль      Ж   40       0          NaN         1   \n",
       "5863   120258    908    Рыбинск      Ж   38       4   2213581.63         2   \n",
       "5896   120258    905  Ярославль      М   30       0          NaN         1   \n",
       "1411   123461    829  Ярославль      Ж   59       0     96222.44         2   \n",
       "8638   123461    934    Рыбинск      М   34       0          NaN         2   \n",
       "9775   124450    758    Рыбинск      Ж   36       0     73574.07         2   \n",
       "8164   124450    859  Ярославль      Ж   38       6    516811.20         1   \n",
       "4850   126368    909  Ярославль      Ж   30       4   1322623.29         2   \n",
       "5420   126368    832    Рыбинск      Ж   33       0          NaN         1   \n",
       "3988   129785    904    Рыбинск      М   33       5   2427737.60         3   \n",
       "9504   129785    949  Ярославль      М   43       0          NaN         1   \n",
       "2138   131419    739    Рыбинск      Ж   37       3   1307941.65         3   \n",
       "904    131419    934  Ярославль      М   35       5   2348335.95         2   \n",
       "1608   140377    802  Ярославль      М   26       3    539863.29         4   \n",
       "7487   140377    930    Рыбинск      Ж   34       5   1123967.02         1   \n",
       "2276   141265    858  Ярославль      М   37       4    471599.16         2   \n",
       "5569   141265    811    Рыбинск      Ж   33       3   1044316.88         2   \n",
       "5369   143592    885    Рыбинск      Ж   56       4   1201087.46         2   \n",
       "5557   143592    764  Ярославль      Ж   68       3    508919.15         2   \n",
       "8364   148826    909    Рыбинск      Ж   32       0          NaN         3   \n",
       "5252   148826    895  Ярославль      М   32       5   1470273.14         2   \n",
       "946    149365    877  Ярославль      М   41       5    819182.01         2   \n",
       "8272   149365    793    Рыбинск      Ж   61       0    476496.99         2   \n",
       "2439   150667    813    Рыбинск      Ж   44       0     62504.47         4   \n",
       "9267   150667    931  Ярославль      М   41       0          NaN         1   \n",
       "690    152479    768    Рыбинск      Ж   42       0    126787.79         4   \n",
       "5705   152479    723  Ярославль      Ж   22       0          NaN         1   \n",
       "3274   155765    863  Ярославль      М   30       5   1036114.50         5   \n",
       "5197   155765    923    Рыбинск      М   30       0          NaN         1   \n",
       "1080   155872    896  Ярославль      М   36       3   1113656.92         3   \n",
       "9363   155872    714    Рыбинск      Ж   29       0          NaN         1   \n",
       "3936   160075    899  Ярославль      М   34       4   1647814.67         4   \n",
       "9508   160075    824    Рыбинск      Ж   57       3    355047.33         2   \n",
       "8733   162053    786  Ярославль      М   29       4    205824.97         3   \n",
       "5629   162053    921    Рыбинск      М   33       3    857011.13         2   \n",
       "6786   163207    838  Ярославль      Ж   42       4    652776.60         2   \n",
       "3564   163207    853    Рыбинск      М   42       4    543839.62         1   \n",
       "7271   164676    790    Рыбинск      Ж   77       1    111202.01         1   \n",
       "58     164676    860  Ярославль      М   37       5    648594.03         2   \n",
       "9785   168998    895    Рыбинск      М   44       0    282653.53         3   \n",
       "5020   168998    886  Ярославль      Ж   35       4    394780.61         2   \n",
       "790    170312    901  Ярославль      М   33       4   3276783.93         3   \n",
       "3039   170312    813    Рыбинск      Ж   47       3    370027.67         2   \n",
       "4587   171751    874    Рыбинск      Ж   26       5    292054.42         2   \n",
       "9653   171751    862  Ярославль      М   42       4    481992.19         2   \n",
       "6756   172142    751    Рыбинск      Ж   69       3    396568.03         2   \n",
       "2941   172142    896  Ярославль      Ж   30       4   1009073.14         4   \n",
       "7753   175730    846  Ярославль      Ж   32       7    216764.74         4   \n",
       "9970   175730    816    Рыбинск      М   36       4    477892.07         3   \n",
       "8705   181526    895    Рыбинск      М   29       0          NaN         1   \n",
       "2989   181526    918  Ярославль      Ж   37       5   1366382.35         4   \n",
       "9146   183510    800    Рыбинск      Ж   42       7    473293.81         2   \n",
       "8584   183510    922  Ярославль      М   26       5    448542.42         3   \n",
       "3106   185748    912  Ярославль      Ж   47       5   1598218.98         2   \n",
       "150    185748    850    Рыбинск      М   36       5   1203376.67         2   \n",
       "5454   188957    853  Ярославль      М   35       1    374959.62         2   \n",
       "6005   188957    882    Рыбинск      Ж   64       3    893392.91         3   \n",
       "1583   190253    726  Ярославль      М   49       0          NaN         1   \n",
       "231    190253    823    Рыбинск      М   37       4    373348.39         2   \n",
       "3859   191520    773    Рыбинск      М   36       3   1219918.08         4   \n",
       "7931   191520    767  Ярославль      М   45       0          NaN         1   \n",
       "9659   195884    767    Рыбинск      Ж   45       1    335652.56         3   \n",
       "2226   195884    906  Ярославль      М   49       6   1354552.83         2   \n",
       "4870   197364    889  Ярославль      М   33       0          NaN         2   \n",
       "161    197364    928    Рыбинск      Ж   53       6   1347183.86         2   \n",
       "8822   199312    911    Рыбинск      Ж   43       0          NaN         2   \n",
       "2499   199312    948  Ярославль      М   41       5   3095721.85         4   \n",
       "9035   200863    933    Рыбинск      М   29       7    766924.56         2   \n",
       "9175   200863    832  Ярославль      М   42       5    620064.73         2   \n",
       "1513   208081    873  Ярославль      М   31       2    232814.75         2   \n",
       "2998   208081    821    Рыбинск      Ж   62       3    493608.26         2   \n",
       "5840   208738    839  Ярославль      М   60       5   1102438.37         2   \n",
       "1580   208738    897    Рыбинск      Ж   45       5    859018.19         2   \n",
       "3350   208815    877    Рыбинск      М   25       4    239421.18         1   \n",
       "5570   208815    773  Ярославль      М   39       4    288110.09         2   \n",
       "7453   210627    864  Ярославль      Ж   38       4   1527225.32         4   \n",
       "8521   210627    804    Рыбинск      М   30       2    347818.88         3   \n",
       "869    210662    962  Ярославль      Ж   54       5   5069231.39         1   \n",
       "1837   210662    896    Рыбинск      Ж   37       0          NaN         2   \n",
       "4986   210792    884    Рыбинск      М   48       4   2228037.20         2   \n",
       "7814   210792    839  Ярославль      М   42       2    662646.97         1   \n",
       "1359   211130    833  Ярославль      М   55       3   1231184.90         4   \n",
       "3817   211130    918    Рыбинск      Ж   55       0          NaN         2   \n",
       "9880   217412    886  Ярославль      Ж   35       3   1026172.14         2   \n",
       "7055   217412    879    Рыбинск      М   42       5    568140.15         3   \n",
       "4611   217619    903    Рыбинск      Ж   59       5    844055.83         2   \n",
       "5807   217619    766  Ярославль      М   52       2    218199.47         1   \n",
       "4186   217643    804    Рыбинск      Ж   40       2    301836.65         2   \n",
       "1970   217643    845  Ярославль      М   29       5    733098.45         4   \n",
       "9406   217826    790    Рыбинск      Ж   46       4    430414.80         2   \n",
       "4623   217826    842  Ярославль      М   39       4    439747.65         2   \n",
       "1740   220816    840  Ярославль      Ж   41       3   1193287.13         2   \n",
       "2302   220816    934    Рыбинск      Ж   74       5   1294285.39         3   \n",
       "2597   226719    990  Ярославль      М   37       4  14648692.14         2   \n",
       "4216   226719    903    Рыбинск      Ж   63       0          NaN         1   \n",
       "8205   227795    840    Рыбинск      М   34       2    350768.03         1   \n",
       "8497   227795    839  Ярославль      М   34       2    326593.14         2   \n",
       "\n",
       "      credit_card  last_activity  est_salary  churn  \n",
       "1893            0              1   175920.48      1  \n",
       "7694            0              1   119247.61      0  \n",
       "4866            1              1   107792.71      1  \n",
       "7542            1              0   137718.93      0  \n",
       "5863            0              1   160327.77      1  \n",
       "5896            1              1   146427.96      0  \n",
       "1411            0              1   102771.55      1  \n",
       "8638            1              0   291619.27      0  \n",
       "9775            0              1    79963.59      0  \n",
       "8164            1              1    95144.63      1  \n",
       "4850            0              1   140675.66      1  \n",
       "5420            0              0   118465.34      0  \n",
       "3988            0              1   188856.75      1  \n",
       "9504            1              1   166845.37      0  \n",
       "2138            0              0   103867.47      0  \n",
       "904             0              0   217105.13      1  \n",
       "1608            1              1   112167.83      1  \n",
       "7487            1              1   148336.26      0  \n",
       "2276            1              1   148806.88      1  \n",
       "5569            1              0    46055.32      0  \n",
       "5369            1              1    88223.89      1  \n",
       "5557            0              1    71211.66      0  \n",
       "8364            1              0    28843.54      0  \n",
       "5252            0              0   118058.52      1  \n",
       "946             0              0   212316.47      1  \n",
       "8272            1              1    46147.06      0  \n",
       "2439            1              0   152393.79      1  \n",
       "9267            0              0   261904.44      0  \n",
       "690             1              1   143233.23      1  \n",
       "5705            1              0    83955.65      0  \n",
       "3274            1              1   150744.50      1  \n",
       "5197            1              1   120296.60      0  \n",
       "1080            0              1   291176.85      1  \n",
       "9363            1              0   118052.84      0  \n",
       "3936            1              0   151888.42      1  \n",
       "9508            0              0    64351.81      0  \n",
       "8733            1              0   121371.73      0  \n",
       "5629            1              1   113512.57      1  \n",
       "6786            1              1    97545.36      0  \n",
       "3564            1              1   105281.97      1  \n",
       "7271            1              0    32835.45      0  \n",
       "58              1              1   213586.86      1  \n",
       "9785            0              0   255296.47      0  \n",
       "5020            1              1   510577.10      1  \n",
       "790             0              1   358700.96      1  \n",
       "3039            0              0   129835.56      0  \n",
       "4587            0              1    20528.56      1  \n",
       "9653            1              0    71816.86      0  \n",
       "6756            0              1    45608.45      0  \n",
       "2941            1              0    70866.29      1  \n",
       "7753            1              1    77100.85      1  \n",
       "9970            1              0    81100.60      0  \n",
       "8705            1              1   124786.53      0  \n",
       "2989            1              1    97932.95      1  \n",
       "9146            1              0    54049.88      0  \n",
       "8584            0              1    66063.13      1  \n",
       "3106            0              0   180256.98      0  \n",
       "150             0              1    89401.82      1  \n",
       "5454            1              1   197600.97      1  \n",
       "6005            1              0    69622.58      0  \n",
       "1583            1              1   177700.78      0  \n",
       "231             0              1   131947.92      1  \n",
       "3859            1              1   119933.13      1  \n",
       "7931            1              1   880005.05      0  \n",
       "9659            1              1   100197.67      0  \n",
       "2226            0              0   270678.42      1  \n",
       "4870            1              1    96173.48      0  \n",
       "161             0              1   168189.49      1  \n",
       "8822            1              1   152189.72      0  \n",
       "2499            1              1   307234.69      1  \n",
       "9035            0              1    89323.33      1  \n",
       "9175            0              0   188054.46      0  \n",
       "1513            1              1   122505.86      1  \n",
       "2998            1              1    33491.45      0  \n",
       "5840            0              1   116500.81      0  \n",
       "1580            1              1   145510.08      1  \n",
       "3350            1              1    48638.00      1  \n",
       "5570            1              0    56971.91      0  \n",
       "7453            1              1   162999.17      1  \n",
       "8521            1              0   129015.25      0  \n",
       "869             1              1   955144.85      1  \n",
       "1837            0              0    90916.04      0  \n",
       "4986            0              1   207978.09      1  \n",
       "7814            1              0   138403.60      0  \n",
       "1359            0              1   187758.38      1  \n",
       "3817            1              1   244202.04      0  \n",
       "9880            1              0    53099.16      0  \n",
       "7055            0              0   231658.67      1  \n",
       "4611            0              1   133999.76      1  \n",
       "5807            1              0   120356.44      0  \n",
       "4186            1              1    81137.22      0  \n",
       "1970            1              1    41443.01      1  \n",
       "9406            1              1    49400.37      0  \n",
       "4623            0              1   116736.75      1  \n",
       "1740            1              1    76434.94      1  \n",
       "2302            1              0    95606.80      0  \n",
       "2597            0              0   934412.61      1  \n",
       "4216            1              0   138582.58      0  \n",
       "8205            1              0   102036.14      1  \n",
       "8497            1              0   103314.92      0  "
      ]
     },
     "metadata": {},
     "output_type": "display_data"
    }
   ],
   "source": [
    "# Сделаем так, чтобы выводились все строки\n",
    "pd.set_option('display.max_rows', None)\n",
    "\n",
    "# Выведем на экран строки датафрейма `bank_clients` с дубликатами в столбце `user_id`, с сортировкой также по этому столбцу\n",
    "display(bank_clients.loc[bank_clients['user_id'].duplicated(keep=False)].sort_values(by='user_id'))"
   ]
  },
  {
   "cell_type": "markdown",
   "metadata": {},
   "source": [
    "Почти всегда под одним `user_id` скрывается два абсолютно разных пользователя: с разным полом, возрастом, балансом, зарплатой и остальными параметрами. Однако сразу заметно, что в рамках одного `user_id`, в паре всегда присутствуют два разных города (Ярославь и Рыбинск). Возможно, это были разные базы данных двух городов, при соединении которых некоторые `user_id` задублировались.\n",
    "\n",
    "Однако рассмотрим дубликаты в столбеце `user_id` в сочетании с другими параметрами, совпадение с которыми было бы большой редкостью: `score`, `balance` и `est_salary`."
   ]
  },
  {
   "cell_type": "code",
   "execution_count": 14,
   "metadata": {},
   "outputs": [
    {
     "data": {
      "text/html": [
       "<div>\n",
       "<style scoped>\n",
       "    .dataframe tbody tr th:only-of-type {\n",
       "        vertical-align: middle;\n",
       "    }\n",
       "\n",
       "    .dataframe tbody tr th {\n",
       "        vertical-align: top;\n",
       "    }\n",
       "\n",
       "    .dataframe thead th {\n",
       "        text-align: right;\n",
       "    }\n",
       "</style>\n",
       "<table border=\"1\" class=\"dataframe\">\n",
       "  <thead>\n",
       "    <tr style=\"text-align: right;\">\n",
       "      <th></th>\n",
       "      <th>user_id</th>\n",
       "      <th>score</th>\n",
       "      <th>city</th>\n",
       "      <th>gender</th>\n",
       "      <th>age</th>\n",
       "      <th>equity</th>\n",
       "      <th>balance</th>\n",
       "      <th>products</th>\n",
       "      <th>credit_card</th>\n",
       "      <th>last_activity</th>\n",
       "      <th>est_salary</th>\n",
       "      <th>churn</th>\n",
       "    </tr>\n",
       "  </thead>\n",
       "  <tbody>\n",
       "  </tbody>\n",
       "</table>\n",
       "</div>"
      ],
      "text/plain": [
       "Empty DataFrame\n",
       "Columns: [user_id, score, city, gender, age, equity, balance, products, credit_card, last_activity, est_salary, churn]\n",
       "Index: []"
      ]
     },
     "metadata": {},
     "output_type": "display_data"
    }
   ],
   "source": [
    "# Выведем на экран строки датафрейма `bank_clients` с дубликатами в столбцах `user_id` и `score`\n",
    "display(bank_clients.loc[bank_clients[['user_id', 'score']].duplicated(keep=False)].sort_values(by='user_id'))"
   ]
  },
  {
   "cell_type": "code",
   "execution_count": 15,
   "metadata": {},
   "outputs": [
    {
     "data": {
      "text/html": [
       "<div>\n",
       "<style scoped>\n",
       "    .dataframe tbody tr th:only-of-type {\n",
       "        vertical-align: middle;\n",
       "    }\n",
       "\n",
       "    .dataframe tbody tr th {\n",
       "        vertical-align: top;\n",
       "    }\n",
       "\n",
       "    .dataframe thead th {\n",
       "        text-align: right;\n",
       "    }\n",
       "</style>\n",
       "<table border=\"1\" class=\"dataframe\">\n",
       "  <thead>\n",
       "    <tr style=\"text-align: right;\">\n",
       "      <th></th>\n",
       "      <th>user_id</th>\n",
       "      <th>score</th>\n",
       "      <th>city</th>\n",
       "      <th>gender</th>\n",
       "      <th>age</th>\n",
       "      <th>equity</th>\n",
       "      <th>balance</th>\n",
       "      <th>products</th>\n",
       "      <th>credit_card</th>\n",
       "      <th>last_activity</th>\n",
       "      <th>est_salary</th>\n",
       "      <th>churn</th>\n",
       "    </tr>\n",
       "  </thead>\n",
       "  <tbody>\n",
       "  </tbody>\n",
       "</table>\n",
       "</div>"
      ],
      "text/plain": [
       "Empty DataFrame\n",
       "Columns: [user_id, score, city, gender, age, equity, balance, products, credit_card, last_activity, est_salary, churn]\n",
       "Index: []"
      ]
     },
     "metadata": {},
     "output_type": "display_data"
    }
   ],
   "source": [
    "# Выведем на экран строки датафрейма `bank_clients` с дубликатами в столбцах `user_id` и `balance`\n",
    "display(bank_clients.loc[bank_clients[['user_id', 'balance']].duplicated(keep=False)].sort_values(by='user_id'))"
   ]
  },
  {
   "cell_type": "code",
   "execution_count": 16,
   "metadata": {
    "scrolled": true
   },
   "outputs": [
    {
     "data": {
      "text/html": [
       "<div>\n",
       "<style scoped>\n",
       "    .dataframe tbody tr th:only-of-type {\n",
       "        vertical-align: middle;\n",
       "    }\n",
       "\n",
       "    .dataframe tbody tr th {\n",
       "        vertical-align: top;\n",
       "    }\n",
       "\n",
       "    .dataframe thead th {\n",
       "        text-align: right;\n",
       "    }\n",
       "</style>\n",
       "<table border=\"1\" class=\"dataframe\">\n",
       "  <thead>\n",
       "    <tr style=\"text-align: right;\">\n",
       "      <th></th>\n",
       "      <th>user_id</th>\n",
       "      <th>score</th>\n",
       "      <th>city</th>\n",
       "      <th>gender</th>\n",
       "      <th>age</th>\n",
       "      <th>equity</th>\n",
       "      <th>balance</th>\n",
       "      <th>products</th>\n",
       "      <th>credit_card</th>\n",
       "      <th>last_activity</th>\n",
       "      <th>est_salary</th>\n",
       "      <th>churn</th>\n",
       "    </tr>\n",
       "  </thead>\n",
       "  <tbody>\n",
       "  </tbody>\n",
       "</table>\n",
       "</div>"
      ],
      "text/plain": [
       "Empty DataFrame\n",
       "Columns: [user_id, score, city, gender, age, equity, balance, products, credit_card, last_activity, est_salary, churn]\n",
       "Index: []"
      ]
     },
     "metadata": {},
     "output_type": "display_data"
    }
   ],
   "source": [
    "# Выведем на экран строки датафрейма `bank_clients` с дубликатами в столбцах `user_id` и `est_salary`\n",
    "display(bank_clients.loc[bank_clients[['user_id', 'est_salary']].duplicated(keep=False)].sort_values(by='user_id'))"
   ]
  },
  {
   "cell_type": "markdown",
   "metadata": {},
   "source": [
    "Критически редких и неправдоподобных совпадений по `user_id` найдено не было, все клинеты - разные люди. Скорее всего, при выгрузке из базы данных был сбой. Эти строки оставляем без изменений.\n",
    "\n",
    "Однако, мы также хотели рассмотреть более подробно несколько совпадений по столбцу `est_salary`. "
   ]
  },
  {
   "cell_type": "code",
   "execution_count": 17,
   "metadata": {},
   "outputs": [
    {
     "data": {
      "text/html": [
       "<div>\n",
       "<style scoped>\n",
       "    .dataframe tbody tr th:only-of-type {\n",
       "        vertical-align: middle;\n",
       "    }\n",
       "\n",
       "    .dataframe tbody tr th {\n",
       "        vertical-align: top;\n",
       "    }\n",
       "\n",
       "    .dataframe thead th {\n",
       "        text-align: right;\n",
       "    }\n",
       "</style>\n",
       "<table border=\"1\" class=\"dataframe\">\n",
       "  <thead>\n",
       "    <tr style=\"text-align: right;\">\n",
       "      <th></th>\n",
       "      <th>user_id</th>\n",
       "      <th>score</th>\n",
       "      <th>city</th>\n",
       "      <th>gender</th>\n",
       "      <th>age</th>\n",
       "      <th>equity</th>\n",
       "      <th>balance</th>\n",
       "      <th>products</th>\n",
       "      <th>credit_card</th>\n",
       "      <th>last_activity</th>\n",
       "      <th>est_salary</th>\n",
       "      <th>churn</th>\n",
       "    </tr>\n",
       "  </thead>\n",
       "  <tbody>\n",
       "    <tr>\n",
       "      <th>513</th>\n",
       "      <td>120675</td>\n",
       "      <td>832</td>\n",
       "      <td>Рыбинск</td>\n",
       "      <td>Ж</td>\n",
       "      <td>37</td>\n",
       "      <td>2</td>\n",
       "      <td>430220.82</td>\n",
       "      <td>2</td>\n",
       "      <td>1</td>\n",
       "      <td>1</td>\n",
       "      <td>49742.87</td>\n",
       "      <td>0</td>\n",
       "    </tr>\n",
       "    <tr>\n",
       "      <th>2442</th>\n",
       "      <td>152240</td>\n",
       "      <td>861</td>\n",
       "      <td>Ростов</td>\n",
       "      <td>Ж</td>\n",
       "      <td>60</td>\n",
       "      <td>3</td>\n",
       "      <td>599546.80</td>\n",
       "      <td>2</td>\n",
       "      <td>0</td>\n",
       "      <td>1</td>\n",
       "      <td>49742.87</td>\n",
       "      <td>0</td>\n",
       "    </tr>\n",
       "    <tr>\n",
       "      <th>4642</th>\n",
       "      <td>133759</td>\n",
       "      <td>831</td>\n",
       "      <td>Ярославль</td>\n",
       "      <td>М</td>\n",
       "      <td>50</td>\n",
       "      <td>5</td>\n",
       "      <td>560145.71</td>\n",
       "      <td>2</td>\n",
       "      <td>1</td>\n",
       "      <td>1</td>\n",
       "      <td>108250.17</td>\n",
       "      <td>0</td>\n",
       "    </tr>\n",
       "    <tr>\n",
       "      <th>6050</th>\n",
       "      <td>202056</td>\n",
       "      <td>979</td>\n",
       "      <td>Рыбинск</td>\n",
       "      <td>Ж</td>\n",
       "      <td>30</td>\n",
       "      <td>2</td>\n",
       "      <td>820572.71</td>\n",
       "      <td>3</td>\n",
       "      <td>1</td>\n",
       "      <td>0</td>\n",
       "      <td>108250.17</td>\n",
       "      <td>0</td>\n",
       "    </tr>\n",
       "    <tr>\n",
       "      <th>884</th>\n",
       "      <td>214629</td>\n",
       "      <td>772</td>\n",
       "      <td>Ярославль</td>\n",
       "      <td>М</td>\n",
       "      <td>53</td>\n",
       "      <td>2</td>\n",
       "      <td>335295.37</td>\n",
       "      <td>2</td>\n",
       "      <td>1</td>\n",
       "      <td>1</td>\n",
       "      <td>176348.18</td>\n",
       "      <td>0</td>\n",
       "    </tr>\n",
       "    <tr>\n",
       "      <th>8376</th>\n",
       "      <td>217828</td>\n",
       "      <td>947</td>\n",
       "      <td>Ярославль</td>\n",
       "      <td>М</td>\n",
       "      <td>30</td>\n",
       "      <td>5</td>\n",
       "      <td>393215.11</td>\n",
       "      <td>1</td>\n",
       "      <td>1</td>\n",
       "      <td>0</td>\n",
       "      <td>176348.18</td>\n",
       "      <td>0</td>\n",
       "    </tr>\n",
       "  </tbody>\n",
       "</table>\n",
       "</div>"
      ],
      "text/plain": [
       "      user_id  score       city gender  age  equity    balance  products  \\\n",
       "513    120675    832    Рыбинск      Ж   37       2  430220.82         2   \n",
       "2442   152240    861     Ростов      Ж   60       3  599546.80         2   \n",
       "4642   133759    831  Ярославль      М   50       5  560145.71         2   \n",
       "6050   202056    979    Рыбинск      Ж   30       2  820572.71         3   \n",
       "884    214629    772  Ярославль      М   53       2  335295.37         2   \n",
       "8376   217828    947  Ярославль      М   30       5  393215.11         1   \n",
       "\n",
       "      credit_card  last_activity  est_salary  churn  \n",
       "513             1              1    49742.87      0  \n",
       "2442            0              1    49742.87      0  \n",
       "4642            1              1   108250.17      0  \n",
       "6050            1              0   108250.17      0  \n",
       "884             1              1   176348.18      0  \n",
       "8376            1              0   176348.18      0  "
      ]
     },
     "metadata": {},
     "output_type": "display_data"
    }
   ],
   "source": [
    "# Выведем на экран строки датафрейма `bank_clients` с дубликатами в столбце `est_salary`, с сортировкой также по этому столбцу\n",
    "display(bank_clients.loc[bank_clients['est_salary'].duplicated(keep=False)].sort_values(by='est_salary'))"
   ]
  },
  {
   "cell_type": "markdown",
   "metadata": {},
   "source": [
    "Из таблицы видно, что неявные дубликаты по зарплате, как и предполагалось, это просто совпадения, их имеют совершенно разные клиенты."
   ]
  },
  {
   "cell_type": "markdown",
   "metadata": {},
   "source": [
    "<div class=\"alert alert-success\">\n",
    "<b>Комментарий ревьюера:</b>☀️Тут все супер!</div>"
   ]
  },
  {
   "cell_type": "markdown",
   "metadata": {},
   "source": [
    "#### Работа с аномалиями\n",
    "В предыдущем шаге при поиске дубликатов мы обнаружили одного клиента с нулевым количеством продуктов. Рассмотрим эту строку."
   ]
  },
  {
   "cell_type": "code",
   "execution_count": 18,
   "metadata": {},
   "outputs": [
    {
     "data": {
      "text/html": [
       "<div>\n",
       "<style scoped>\n",
       "    .dataframe tbody tr th:only-of-type {\n",
       "        vertical-align: middle;\n",
       "    }\n",
       "\n",
       "    .dataframe tbody tr th {\n",
       "        vertical-align: top;\n",
       "    }\n",
       "\n",
       "    .dataframe thead th {\n",
       "        text-align: right;\n",
       "    }\n",
       "</style>\n",
       "<table border=\"1\" class=\"dataframe\">\n",
       "  <thead>\n",
       "    <tr style=\"text-align: right;\">\n",
       "      <th></th>\n",
       "      <th>user_id</th>\n",
       "      <th>score</th>\n",
       "      <th>city</th>\n",
       "      <th>gender</th>\n",
       "      <th>age</th>\n",
       "      <th>equity</th>\n",
       "      <th>balance</th>\n",
       "      <th>products</th>\n",
       "      <th>credit_card</th>\n",
       "      <th>last_activity</th>\n",
       "      <th>est_salary</th>\n",
       "      <th>churn</th>\n",
       "    </tr>\n",
       "  </thead>\n",
       "  <tbody>\n",
       "    <tr>\n",
       "      <th>8957</th>\n",
       "      <td>147837</td>\n",
       "      <td>962</td>\n",
       "      <td>Рыбинск</td>\n",
       "      <td>Ж</td>\n",
       "      <td>79</td>\n",
       "      <td>3</td>\n",
       "      <td>NaN</td>\n",
       "      <td>0</td>\n",
       "      <td>0</td>\n",
       "      <td>0</td>\n",
       "      <td>25063.96</td>\n",
       "      <td>1</td>\n",
       "    </tr>\n",
       "  </tbody>\n",
       "</table>\n",
       "</div>"
      ],
      "text/plain": [
       "      user_id  score     city gender  age  equity  balance  products  \\\n",
       "8957   147837    962  Рыбинск      Ж   79       3      NaN         0   \n",
       "\n",
       "      credit_card  last_activity  est_salary  churn  \n",
       "8957            0              0    25063.96      1  "
      ]
     },
     "metadata": {},
     "output_type": "display_data"
    }
   ],
   "source": [
    "# Выведем на экран строку с нулем в столбце `products`\n",
    "display(bank_clients.query('products == 0'))"
   ]
  },
  {
   "cell_type": "markdown",
   "metadata": {},
   "source": [
    "Это явная аномалия, этот клиент помечен как отточный, возможно он уже ушел, но по какой-то технической причине остался в базе данных. Принимаем решение о ее удалении, т.к. на общие результаты удаление этой строки повлияет незначительно."
   ]
  },
  {
   "cell_type": "code",
   "execution_count": 19,
   "metadata": {},
   "outputs": [],
   "source": [
    "# Удалим строку клиента с нулем в столбце `products`\n",
    "# bank_clients.drop(8957, inplace=True)\n",
    "bank_clients = bank_clients.query('products != 0')"
   ]
  },
  {
   "cell_type": "markdown",
   "metadata": {},
   "source": [
    "<div class=\"alert alert-danger\">\n",
    "<b>Комментарий ревьюера:</b>В коде не должно быть чисел, введенных вручную.</div>"
   ]
  },
  {
   "cell_type": "markdown",
   "metadata": {},
   "source": [
    "<div class=\"alert alert-info\"> \n",
    "<b>Комментарий студента:</b> Исправила! Предыдущий код закомментировала\n",
    "\n",
    "</div>"
   ]
  },
  {
   "cell_type": "markdown",
   "metadata": {},
   "source": [
    "\n",
    "<div class=\"alert alert-success\">\n",
    "<b>Комментарий ревьюера v2.0:</b>☀️Есть!</div>"
   ]
  },
  {
   "cell_type": "markdown",
   "metadata": {},
   "source": [
    "Рассмотрим также столбцы `balance` и `est_salary` на предмет выбросов. "
   ]
  },
  {
   "cell_type": "code",
   "execution_count": 20,
   "metadata": {},
   "outputs": [
    {
     "data": {
      "text/plain": [
       "count         7695.00\n",
       "mean        827245.59\n",
       "std        1980327.41\n",
       "min              0.00\n",
       "25%         295698.71\n",
       "50%         524295.33\n",
       "75%         980051.21\n",
       "max      119113552.01\n",
       "Name: balance, dtype: object"
      ]
     },
     "metadata": {},
     "output_type": "display_data"
    },
    {
     "data": {
      "image/png": "[encoded data removed]",
      "text/plain": [
       "<Figure size 504x720 with 1 Axes>"
      ]
     },
     "metadata": {
      "needs_background": "light"
     },
     "output_type": "display_data"
    }
   ],
   "source": [
    "# Выведем на экран описание данных столбца `balance`\n",
    "display(bank_clients['balance'].describe().apply(lambda x: f'{float(x):.2f}'))\n",
    "\n",
    "# Зададим размер графика\n",
    "plt.figure(figsize=(7,10))\n",
    "\n",
    "# Настроим формат оси Y\n",
    "formatter = ticker.ScalarFormatter(useMathText=False)\n",
    "formatter.set_scientific(False)\n",
    "plt.gca().yaxis.set_major_formatter(formatter)\n",
    "\n",
    "# Построим диаграмму размаха для параметра `balance`\n",
    "bank_clients.boxplot('balance')\n",
    "plt.title(f\"Распределение данных столбца balance\")\n",
    "plt.xlabel(f\"Название столбца\")\n",
    "plt.ylabel(f\"Баланс на счете клиента, у.е.\")\n",
    "plt.show()"
   ]
  },
  {
   "cell_type": "markdown",
   "metadata": {},
   "source": [
    "<div class=\"alert alert-danger\">\n",
    "<b>Комментарий ревьюера:</b>Все графики в проекте должны быть ясны вне контекста. Нужно подписать оси + заголовок. Если исследование проводится на русском языке, то и оси должны быть названы на русском. Пожалуйста, исправь это везде по проекту, где требуется.</div>"
   ]
  },
  {
   "cell_type": "markdown",
   "metadata": {},
   "source": [
    "<div class=\"alert alert-info\"> \n",
    "<b>Комментарий студента:</b> Поняла! Везде, где встречается, исправила.\n",
    "\n",
    "</div>"
   ]
  },
  {
   "cell_type": "markdown",
   "metadata": {},
   "source": [
    "\n",
    "<div class=\"alert alert-success\">\n",
    "<b>Комментарий ревьюера v2.0:</b>☀️Спасибо за исправления, внесенные в графики!</div>"
   ]
  },
  {
   "cell_type": "markdown",
   "metadata": {},
   "source": [
    "Мы видим запредельно аномальные значения баланса: около 119, 65, 43 млн. у.е.. Такой баланс на счету нескольких клиентов банка возможен и реален (например, кто-то только что продал квартиру или машину, кто-то мог долго копить), удалять эти значения мы не будем.\n",
    "\n",
    "В основном же данные располагаются в диапазоне до 2 млн. у.е. Медианный баланс клиентов - 524 295 у.е."
   ]
  },
  {
   "cell_type": "code",
   "execution_count": 21,
   "metadata": {},
   "outputs": [
    {
     "data": {
      "text/plain": [
       "count       9973.00\n",
       "mean      147799.12\n",
       "std       139287.08\n",
       "min         2546.30\n",
       "25%        75252.02\n",
       "50%       119643.06\n",
       "75%       174499.96\n",
       "max      1395064.45\n",
       "Name: est_salary, dtype: object"
      ]
     },
     "metadata": {},
     "output_type": "display_data"
    },
    {
     "data": {
      "image/png": "[encoded data removed]",
      "text/plain": [
       "<Figure size 504x1080 with 1 Axes>"
      ]
     },
     "metadata": {
      "needs_background": "light"
     },
     "output_type": "display_data"
    }
   ],
   "source": [
    "# Выведем на экран описание данных столбца `est_salary`\n",
    "display(bank_clients['est_salary'].describe().apply(lambda x: f'{float(x):.2f}'))\n",
    "\n",
    "# Зададим размер графика\n",
    "plt.figure(figsize=(7,15))\n",
    "\n",
    "# Настроим формат оси Y\n",
    "formatter = ticker.ScalarFormatter(useMathText=False)\n",
    "formatter.set_scientific(False)\n",
    "plt.gca().yaxis.set_major_formatter(formatter)\n",
    "\n",
    "# Построим диаграмму размаха для параметра `est_salary`\n",
    "bank_clients.boxplot('est_salary')\n",
    "plt.title(f\"Распределение данных столбца est_salary\")\n",
    "plt.xlabel(f\"Название столбца\")\n",
    "plt.ylabel(f\"Оценочный доход клиента, у.е.\")\n",
    "plt.show()"
   ]
  },
  {
   "cell_type": "markdown",
   "metadata": {},
   "source": [
    "Максимальная зарплата почти 1,4 млн. у.е. Мы видим большое количество выбросов, однако они тоже вполне реальны и не требуют удаления. В основном клиенты имеют доход до 330 тыс. у.е. Медианное значение зарплаты клиентов - почти 120 тыс. у.е. Минимальный доход клиента составляет 2546 у.е."
   ]
  },
  {
   "cell_type": "markdown",
   "metadata": {},
   "source": [
    "#### Преобразование категориальных переменных в столбцах `city` и `gender`\n",
    "Для того, чтобы можно было смотреть корреляции и применять среднее по столбцам с неупорядоченными категориальными данными, используем метод pd.get_dummies() и преобразуем категориальные переменные в фиктивные переменные. Метод возвращает новый датафрейм с двоичными столбцами для отдельных значений, присутствующих в исходных данных. \n",
    "\n",
    "1 - наличие этого значения, 0 — отсутствие."
   ]
  },
  {
   "cell_type": "code",
   "execution_count": 22,
   "metadata": {},
   "outputs": [
    {
     "data": {
      "text/html": [
       "<div>\n",
       "<style scoped>\n",
       "    .dataframe tbody tr th:only-of-type {\n",
       "        vertical-align: middle;\n",
       "    }\n",
       "\n",
       "    .dataframe tbody tr th {\n",
       "        vertical-align: top;\n",
       "    }\n",
       "\n",
       "    .dataframe thead th {\n",
       "        text-align: right;\n",
       "    }\n",
       "</style>\n",
       "<table border=\"1\" class=\"dataframe\">\n",
       "  <thead>\n",
       "    <tr style=\"text-align: right;\">\n",
       "      <th></th>\n",
       "      <th>user_id</th>\n",
       "      <th>score</th>\n",
       "      <th>city</th>\n",
       "      <th>gender</th>\n",
       "      <th>age</th>\n",
       "      <th>equity</th>\n",
       "      <th>balance</th>\n",
       "      <th>products</th>\n",
       "      <th>credit_card</th>\n",
       "      <th>last_activity</th>\n",
       "      <th>est_salary</th>\n",
       "      <th>churn</th>\n",
       "      <th>city_rostov</th>\n",
       "      <th>city_rybinsk</th>\n",
       "      <th>city_yaroslavl</th>\n",
       "      <th>gender_female</th>\n",
       "      <th>gender_male</th>\n",
       "    </tr>\n",
       "  </thead>\n",
       "  <tbody>\n",
       "    <tr>\n",
       "      <th>0</th>\n",
       "      <td>183012</td>\n",
       "      <td>850</td>\n",
       "      <td>Рыбинск</td>\n",
       "      <td>Ж</td>\n",
       "      <td>25</td>\n",
       "      <td>1</td>\n",
       "      <td>59214.82</td>\n",
       "      <td>2</td>\n",
       "      <td>0</td>\n",
       "      <td>1</td>\n",
       "      <td>75719.14</td>\n",
       "      <td>1</td>\n",
       "      <td>0</td>\n",
       "      <td>1</td>\n",
       "      <td>0</td>\n",
       "      <td>1</td>\n",
       "      <td>0</td>\n",
       "    </tr>\n",
       "    <tr>\n",
       "      <th>1</th>\n",
       "      <td>146556</td>\n",
       "      <td>861</td>\n",
       "      <td>Рыбинск</td>\n",
       "      <td>Ж</td>\n",
       "      <td>37</td>\n",
       "      <td>5</td>\n",
       "      <td>850594.33</td>\n",
       "      <td>3</td>\n",
       "      <td>1</td>\n",
       "      <td>0</td>\n",
       "      <td>86621.77</td>\n",
       "      <td>0</td>\n",
       "      <td>0</td>\n",
       "      <td>1</td>\n",
       "      <td>0</td>\n",
       "      <td>1</td>\n",
       "      <td>0</td>\n",
       "    </tr>\n",
       "    <tr>\n",
       "      <th>2</th>\n",
       "      <td>120722</td>\n",
       "      <td>892</td>\n",
       "      <td>Рыбинск</td>\n",
       "      <td>Ж</td>\n",
       "      <td>30</td>\n",
       "      <td>0</td>\n",
       "      <td>NaN</td>\n",
       "      <td>1</td>\n",
       "      <td>1</td>\n",
       "      <td>1</td>\n",
       "      <td>107683.34</td>\n",
       "      <td>0</td>\n",
       "      <td>0</td>\n",
       "      <td>1</td>\n",
       "      <td>0</td>\n",
       "      <td>1</td>\n",
       "      <td>0</td>\n",
       "    </tr>\n",
       "    <tr>\n",
       "      <th>3</th>\n",
       "      <td>225363</td>\n",
       "      <td>866</td>\n",
       "      <td>Ярославль</td>\n",
       "      <td>Ж</td>\n",
       "      <td>51</td>\n",
       "      <td>5</td>\n",
       "      <td>1524746.26</td>\n",
       "      <td>2</td>\n",
       "      <td>0</td>\n",
       "      <td>1</td>\n",
       "      <td>174423.53</td>\n",
       "      <td>1</td>\n",
       "      <td>0</td>\n",
       "      <td>0</td>\n",
       "      <td>1</td>\n",
       "      <td>1</td>\n",
       "      <td>0</td>\n",
       "    </tr>\n",
       "    <tr>\n",
       "      <th>4</th>\n",
       "      <td>157978</td>\n",
       "      <td>730</td>\n",
       "      <td>Ярославль</td>\n",
       "      <td>М</td>\n",
       "      <td>34</td>\n",
       "      <td>5</td>\n",
       "      <td>174.00</td>\n",
       "      <td>1</td>\n",
       "      <td>1</td>\n",
       "      <td>0</td>\n",
       "      <td>67353.16</td>\n",
       "      <td>1</td>\n",
       "      <td>0</td>\n",
       "      <td>0</td>\n",
       "      <td>1</td>\n",
       "      <td>0</td>\n",
       "      <td>1</td>\n",
       "    </tr>\n",
       "  </tbody>\n",
       "</table>\n",
       "</div>"
      ],
      "text/plain": [
       "   user_id  score       city gender  age  equity     balance  products  \\\n",
       "0   183012    850    Рыбинск      Ж   25       1    59214.82         2   \n",
       "1   146556    861    Рыбинск      Ж   37       5   850594.33         3   \n",
       "2   120722    892    Рыбинск      Ж   30       0         NaN         1   \n",
       "3   225363    866  Ярославль      Ж   51       5  1524746.26         2   \n",
       "4   157978    730  Ярославль      М   34       5      174.00         1   \n",
       "\n",
       "   credit_card  last_activity  est_salary  churn  city_rostov  city_rybinsk  \\\n",
       "0            0              1    75719.14      1            0             1   \n",
       "1            1              0    86621.77      0            0             1   \n",
       "2            1              1   107683.34      0            0             1   \n",
       "3            0              1   174423.53      1            0             0   \n",
       "4            1              0    67353.16      1            0             0   \n",
       "\n",
       "   city_yaroslavl  gender_female  gender_male  \n",
       "0               0              1            0  \n",
       "1               0              1            0  \n",
       "2               0              1            0  \n",
       "3               1              1            0  \n",
       "4               1              0            1  "
      ]
     },
     "execution_count": 22,
     "metadata": {},
     "output_type": "execute_result"
    }
   ],
   "source": [
    "# Создадим копии столбцов `city` и `gender`\n",
    "bank_clients['city_new'] = bank_clients['city']\n",
    "bank_clients['gender_new'] = bank_clients['gender']\n",
    "\n",
    "# Используем метод get_dummies() для преобразования категориальных переменных в новых столбцах\n",
    "bank_clients = pd.get_dummies(bank_clients, columns=['city_new', 'gender_new'])\n",
    "\n",
    "# Переименуем полученные столбцы\n",
    "bank_clients = bank_clients.rename(columns={\n",
    "    'city_new_Ростов': 'city_rostov',\n",
    "    'city_new_Рыбинск': 'city_rybinsk',\n",
    "    'city_new_Ярославль': 'city_yaroslavl',\n",
    "    'gender_new_Ж': 'gender_female',\n",
    "    'gender_new_М': 'gender_male'\n",
    "})\n",
    "\n",
    "# Выведем на экран первые пять строк полученного датафрейма\n",
    "bank_clients.head()"
   ]
  },
  {
   "cell_type": "markdown",
   "metadata": {},
   "source": [
    "Новый датафрейм с двоичными столбцами `city_rostov`, `city_rybinsk`, `city_yaroslavl`, `gender_female`, `gender_male` успешно получен. При этом старые столбцы `city` и `gender` также сохранены."
   ]
  },
  {
   "cell_type": "markdown",
   "metadata": {},
   "source": [
    "<div class=\"alert alert-success\">\n",
    "<b>Комментарий ревьюера:</b>☀️Новые столбцы добавлены корректно.\n",
    "</div>"
   ]
  },
  {
   "cell_type": "markdown",
   "metadata": {},
   "source": [
    "#### Вывод по разделу\n",
    "В ходе предобработки данных:\n",
    "- Столбцы были переименованы в соответствии с устоявшимися правилами.\n",
    "- В столбце `age` было надено 26 пропусков, они были удалены, т.к. их немного.\n",
    "- Тип данных столбцов `score` и `age` заменили на целочисленный.\n",
    "- В столбце `balance` было надено 2279 пропусков, они были оставлены без изменений, т.к. они составляют почти 23% всех данных, это весомая часть. Мы рассмотрели их в совокупности с другими характеристиками, пришли к выводу, что пропуски имеют клиенты с низким уровнем оценки стоимости имущества (почти всегда это 0), в основном имеющие один продукт от банка и в большинстве случаев это кредитная карта. Почти все клиенты с пропусками в столбце `balance` не собираются уходить из банка. Обработать эти пропуски не представляется возможным, т.к., в рамках проекта, это невосполнимая информация.\n",
    "- Явных дубликатов в датафрейме не найдено.\n",
    "- В столбце `user_id`, несмотря на то, что там хранятся уникальные id пользователей, были найдены неявные дубликаты. При более подробном рассмотрении в сочетании с другими параметрами, критически редких и неправдоподобных совпадений найдено не было, все клинеты - разные люди. Вероятнее всего, при выгрузке из базы данных был сбой. Эти строки оставили без изменений.\n",
    "- В столбце `est_salary` также было найдено три пары клиентов с одинаковой зарлпатой, однако было выявлено, что это просто совпадения, их имеют совершенно разные клиенты.\n",
    "- В столбце `products` обнаружили у одного из клиентов количество продуктов банка равно нулю. Эта строка была удалена.\n",
    "- Рассмотрели аномалии в столбцах `balance` и `est_salary`. Приняли решение оставить их.\n",
    "- Для дальнейшего корреляционного анализа для столбцов `city` и `gender` был применен метод, создающий датафрейм с двоичными столбцами для отдельных значений, присутствующих в исходных данных."
   ]
  },
  {
   "cell_type": "markdown",
   "metadata": {},
   "source": [
    "<div class=\"alert alert-success\">\n",
    "<b>Комментарий ревьюера:</b>☀️В целом, по предобработке все хорошо. Можно приступать к исследовательскому анализу данных.</div>"
   ]
  },
  {
   "cell_type": "markdown",
   "metadata": {},
   "source": [
    "## Исследовательский анализ данных\n",
    "Найдем признаки, которые сильнее всего влияют на отток. Исследуем общее количество клиентов, число отточных клиентов и их соотношение по каждому параметру с визуализацией."
   ]
  },
  {
   "cell_type": "markdown",
   "metadata": {},
   "source": [
    "### Анализ влияния метрики score на отток клиентов"
   ]
  },
  {
   "cell_type": "code",
   "execution_count": 23,
   "metadata": {
    "scrolled": true
   },
   "outputs": [],
   "source": [
    "# Напишем функцию, выводящую гистограмму с соотношением отточных и лояльных клиентов по параметру category_name\n",
    "def df_category_name_hist(df, category_name, graph_name):\n",
    "    \n",
    "    # Зададим размер датафрейма и построим гистограмму с соотношением отточных и лояльных клиентов по category_name\n",
    "    plt.figure(figsize=(15,7))\n",
    "    sns.histplot(data=df, x=category_name, hue='churn', bins=80, alpha=0.4, common_norm=False, stat='density')\n",
    "    \n",
    "    # Зададим остальные натсройки графика\n",
    "    plt.title(f\"Гистограмма с соотношением отточных и лояльных клиентов по {category_name}\")\n",
    "    plt.xlabel(f\"{graph_name}\")\n",
    "    plt.ylabel(f\"Плотность\")\n",
    "    plt.grid(axis='y')\n",
    "    \n",
    "    # Задаем диапазон и шаг подписей значений оси X\n",
    "    x_min = df[category_name].min()\n",
    "    x_max = df[category_name].max()\n",
    "    step = round((x_max - x_min) / 20, 0)\n",
    "    plt.xticks(np.arange(x_min, x_max + step, step))\n",
    "    \n",
    "    # Выведем полученную гистограмму на экран\n",
    "    plt.show()"
   ]
  },
  {
   "cell_type": "code",
   "execution_count": 24,
   "metadata": {},
   "outputs": [
    {
     "data": {
      "image/png": "[encoded data removed]",
      "text/plain": [
       "<Figure size 1080x504 with 1 Axes>"
      ]
     },
     "metadata": {
      "needs_background": "light"
     },
     "output_type": "display_data"
    }
   ],
   "source": [
    "# Вызовем функицю df_category_name_hist для параметра `score`\n",
    "df_category_name_hist(bank_clients, 'score', 'Баллы кредитного скоринга')"
   ]
  },
  {
   "cell_type": "markdown",
   "metadata": {},
   "source": [
    "По полученой гистограмме видим, что клиенты с баллами кредитного скоринга в диапазоне от 840 до 900 имеют высокий отток. Рассмотрим диапазон этих клиентов более детально."
   ]
  },
  {
   "cell_type": "code",
   "execution_count": 25,
   "metadata": {},
   "outputs": [],
   "source": [
    "# Напишем функцию, выводящую общую информацию о полученном срезе\n",
    "def query_info(df):\n",
    "    print(f\"Всего клиентов в срезе: {df['churn'].count()}\")\n",
    "    print(f\"Количество отточных клиентов в срезе: {df['churn'].sum()}\")\n",
    "    print(f\"Количество лояльных клиентов в срезе: {df['churn'].count() - df['churn'].sum()}\")\n",
    "    print(f\"Доля отточных клиентов в срезе: {round(df['churn'].sum()/df['churn'].count()*100, 2)}%\")\n",
    "    print(f\"Доля клиентов в срезе от общего числа клиентов банка: {round(df['churn'].count()/bank_clients['user_id'].count()*100, 2)}%\")"
   ]
  },
  {
   "cell_type": "code",
   "execution_count": 26,
   "metadata": {},
   "outputs": [
    {
     "name": "stdout",
     "output_type": "stream",
     "text": [
      "Всего клиентов в срезе: 3195\n",
      "Количество отточных клиентов в срезе: 821\n",
      "Количество лояльных клиентов в срезе: 2374\n",
      "Доля отточных клиентов в срезе: 25.7%\n",
      "Доля клиентов в срезе от общего числа клиентов банка: 32.04%\n"
     ]
    }
   ],
   "source": [
    "# Создадим срез, в который попадут клиенты с кредитным рейтингом от 840 до 900\n",
    "bank_clinets_score_840_900 = bank_clients.query('840 <= score <= 900')\n",
    "\n",
    "# Выведем информацию о срезе с клиентами с кредитным рейтингом от 840 до 900\n",
    "query_info(bank_clinets_score_840_900)"
   ]
  },
  {
   "cell_type": "markdown",
   "metadata": {},
   "source": [
    "Доля отточных клиентов с кредитным скорингом 840-900 составляет 25.7%, что выше, чем средний рейтинг оттока по банку. Доля клиентов этой категории от общего числа клиентов банка существенная и составляет 32.04%."
   ]
  },
  {
   "cell_type": "markdown",
   "metadata": {},
   "source": [
    "### Анализ влияния города проживания на отток клиентов"
   ]
  },
  {
   "cell_type": "code",
   "execution_count": 27,
   "metadata": {},
   "outputs": [],
   "source": [
    "# Напишем функцию, выводящую срез по заданному параметру category_name с общим числом клиентов, \n",
    "# количеством отточных и лояльных клиентов и долей отточных клиентов от общего числа\n",
    "def df_category_counts(df, category_name, graph_name):\n",
    "    \n",
    "    category_name_counts = df.pivot_table(index=category_name, values='churn', aggfunc=['count', 'sum']).sort_values(by=category_name).reset_index()\n",
    "    category_name_counts.columns = [category_name, 'total', 'churn']\n",
    "    category_name_counts['loyal'] = category_name_counts['total'] - category_name_counts['churn']\n",
    "    category_name_counts['total_ratio'] = round(category_name_counts['total'] / df['user_id'].count() * 100, 2)\n",
    "    category_name_counts['churn_ratio'] = round(category_name_counts['churn'] / category_name_counts['total'] * 100, 2)\n",
    "    display(category_name_counts)\n",
    "    \n",
    "    # Построим диаграмму с отточных и лояльных клиентов по category_name\n",
    "    category_name_counts.plot(x=category_name, y=['churn', 'loyal'], kind='bar', figsize=(10, 7))\n",
    "    \n",
    "    # Зададим остальные натсройки графика и выведем на экран\n",
    "    plt.title(f\"Количество отточных и лояльных клиентов по {category_name}\")\n",
    "    plt.ylabel(f\"Количество клиентов\")\n",
    "    plt.xlabel(f\"{graph_name}\")\n",
    "    plt.xticks(rotation=30)\n",
    "    plt.grid()\n",
    "    plt.show()\n",
    "\n",
    "    # Построим диаграмму с долей отточных клиентов от общего числа клиентов категории по category_name\n",
    "    category_name_counts.plot(x=category_name, y='churn_ratio', kind='bar', figsize=(10, 7), legend=False)\n",
    "    \n",
    "    # Зададим линию среднего уровня оттока\n",
    "    plt.axhline(y=bank_clients['churn'].mean()*100, color='red', linestyle='--')\n",
    "    \n",
    "    # Зададим остальные натсройки графика и выведем на экран\n",
    "    plt.title(f\"Доля отточных клиентов по {category_name}\")\n",
    "    plt.ylabel(f\"Процент отточных клиентов, %\")\n",
    "    plt.xlabel(f\"{graph_name}\")\n",
    "    plt.xticks(rotation=30)\n",
    "    plt.grid()\n",
    "    plt.show()"
   ]
  },
  {
   "cell_type": "code",
   "execution_count": 28,
   "metadata": {},
   "outputs": [
    {
     "data": {
      "text/html": [
       "<div>\n",
       "<style scoped>\n",
       "    .dataframe tbody tr th:only-of-type {\n",
       "        vertical-align: middle;\n",
       "    }\n",
       "\n",
       "    .dataframe tbody tr th {\n",
       "        vertical-align: top;\n",
       "    }\n",
       "\n",
       "    .dataframe thead th {\n",
       "        text-align: right;\n",
       "    }\n",
       "</style>\n",
       "<table border=\"1\" class=\"dataframe\">\n",
       "  <thead>\n",
       "    <tr style=\"text-align: right;\">\n",
       "      <th></th>\n",
       "      <th>city</th>\n",
       "      <th>total</th>\n",
       "      <th>churn</th>\n",
       "      <th>loyal</th>\n",
       "      <th>total_ratio</th>\n",
       "      <th>churn_ratio</th>\n",
       "    </tr>\n",
       "  </thead>\n",
       "  <tbody>\n",
       "    <tr>\n",
       "      <th>0</th>\n",
       "      <td>Ростов</td>\n",
       "      <td>1416</td>\n",
       "      <td>265</td>\n",
       "      <td>1151</td>\n",
       "      <td>14.20</td>\n",
       "      <td>18.71</td>\n",
       "    </tr>\n",
       "    <tr>\n",
       "      <th>1</th>\n",
       "      <td>Рыбинск</td>\n",
       "      <td>2682</td>\n",
       "      <td>436</td>\n",
       "      <td>2246</td>\n",
       "      <td>26.89</td>\n",
       "      <td>16.26</td>\n",
       "    </tr>\n",
       "    <tr>\n",
       "      <th>2</th>\n",
       "      <td>Ярославль</td>\n",
       "      <td>5875</td>\n",
       "      <td>1117</td>\n",
       "      <td>4758</td>\n",
       "      <td>58.91</td>\n",
       "      <td>19.01</td>\n",
       "    </tr>\n",
       "  </tbody>\n",
       "</table>\n",
       "</div>"
      ],
      "text/plain": [
       "        city  total  churn  loyal  total_ratio  churn_ratio\n",
       "0     Ростов   1416    265   1151        14.20        18.71\n",
       "1    Рыбинск   2682    436   2246        26.89        16.26\n",
       "2  Ярославль   5875   1117   4758        58.91        19.01"
      ]
     },
     "metadata": {},
     "output_type": "display_data"
    },
    {
     "data": {
      "image/png": "[encoded data removed]",
      "text/plain": [
       "<Figure size 720x504 with 1 Axes>"
      ]
     },
     "metadata": {
      "needs_background": "light"
     },
     "output_type": "display_data"
    },
    {
     "data": {
      "image/png": "[encoded data removed]",
      "text/plain": [
       "<Figure size 720x504 with 1 Axes>"
      ]
     },
     "metadata": {
      "needs_background": "light"
     },
     "output_type": "display_data"
    }
   ],
   "source": [
    "# Вызовем функицю df_category_counts для параметра `city`\n",
    "df_category_counts(bank_clients, 'city', 'Город')"
   ]
  },
  {
   "cell_type": "markdown",
   "metadata": {},
   "source": [
    "Доля отточных клиентов в Ростове и Ярославле примерно одинаковая и составляет около 19% от общего числа клиентов из этого города. Эти показатели выше, чем средняя доля оттока по всему банку. Стоит обратить внимание, что клиенты из Ярославля составляют почти 59% всех клиентов банка. Немного ниже доля оттока в Рыбинске, хотя и незначительно. Она составляет 16%."
   ]
  },
  {
   "cell_type": "markdown",
   "metadata": {},
   "source": [
    "### Анализ влияния пола на отток клиентов"
   ]
  },
  {
   "cell_type": "code",
   "execution_count": 29,
   "metadata": {},
   "outputs": [
    {
     "data": {
      "text/html": [
       "<div>\n",
       "<style scoped>\n",
       "    .dataframe tbody tr th:only-of-type {\n",
       "        vertical-align: middle;\n",
       "    }\n",
       "\n",
       "    .dataframe tbody tr th {\n",
       "        vertical-align: top;\n",
       "    }\n",
       "\n",
       "    .dataframe thead th {\n",
       "        text-align: right;\n",
       "    }\n",
       "</style>\n",
       "<table border=\"1\" class=\"dataframe\">\n",
       "  <thead>\n",
       "    <tr style=\"text-align: right;\">\n",
       "      <th></th>\n",
       "      <th>gender</th>\n",
       "      <th>total</th>\n",
       "      <th>churn</th>\n",
       "      <th>loyal</th>\n",
       "      <th>total_ratio</th>\n",
       "      <th>churn_ratio</th>\n",
       "    </tr>\n",
       "  </thead>\n",
       "  <tbody>\n",
       "    <tr>\n",
       "      <th>0</th>\n",
       "      <td>Ж</td>\n",
       "      <td>4982</td>\n",
       "      <td>635</td>\n",
       "      <td>4347</td>\n",
       "      <td>49.95</td>\n",
       "      <td>12.75</td>\n",
       "    </tr>\n",
       "    <tr>\n",
       "      <th>1</th>\n",
       "      <td>М</td>\n",
       "      <td>4991</td>\n",
       "      <td>1183</td>\n",
       "      <td>3808</td>\n",
       "      <td>50.05</td>\n",
       "      <td>23.70</td>\n",
       "    </tr>\n",
       "  </tbody>\n",
       "</table>\n",
       "</div>"
      ],
      "text/plain": [
       "  gender  total  churn  loyal  total_ratio  churn_ratio\n",
       "0      Ж   4982    635   4347        49.95        12.75\n",
       "1      М   4991   1183   3808        50.05        23.70"
      ]
     },
     "metadata": {},
     "output_type": "display_data"
    },
    {
     "data": {
      "image/png": "[encoded data removed]",
      "text/plain": [
       "<Figure size 720x504 with 1 Axes>"
      ]
     },
     "metadata": {
      "needs_background": "light"
     },
     "output_type": "display_data"
    },
    {
     "data": {
      "image/png": "[encoded data removed]",
      "text/plain": [
       "<Figure size 720x504 with 1 Axes>"
      ]
     },
     "metadata": {
      "needs_background": "light"
     },
     "output_type": "display_data"
    }
   ],
   "source": [
    "# Вызовем функицю df_category_counts для параметра `gender`\n",
    "df_category_counts(bank_clients, 'gender', 'Пол')"
   ]
  },
  {
   "cell_type": "markdown",
   "metadata": {},
   "source": [
    "Исходя из таблицы и графиков видно, что, несмотря на то, что в категории `gender` примерно равное количество мужчин и женщин, доля отточных клиентов среди мужчин значительно выше, чем среди женщин, и составляет 23.7%. Это больше, чем средний уровень оттока по всему банку. "
   ]
  },
  {
   "cell_type": "markdown",
   "metadata": {},
   "source": [
    "### Анализ влияния возраста на отток клиентов"
   ]
  },
  {
   "cell_type": "code",
   "execution_count": 30,
   "metadata": {},
   "outputs": [
    {
     "data": {
      "image/png": "[encoded data removed]",
      "text/plain": [
       "<Figure size 1080x504 with 1 Axes>"
      ]
     },
     "metadata": {
      "needs_background": "light"
     },
     "output_type": "display_data"
    }
   ],
   "source": [
    "# Вызовем функицю df_category_name_hist для параметра `age`\n",
    "df_category_name_hist(bank_clients, 'age', 'Возраст клиента')"
   ]
  },
  {
   "cell_type": "markdown",
   "metadata": {},
   "source": [
    "Заметим интересные для нас возрастные диапазоны: от 25 до 35 и от 50 до 60 лет. Создадим срезы и рассмотрим их более подробно."
   ]
  },
  {
   "cell_type": "code",
   "execution_count": 31,
   "metadata": {},
   "outputs": [],
   "source": [
    "# Создадим срезы, в которые попадут клиенты в возрастах от 25 до 35 и от 50 до 60 лет\n",
    "bank_clients_age_25_35 = bank_clients.query('25 <= age <= 35')\n",
    "bank_clients_age_50_60 = bank_clients.query('50 <= age <= 60')"
   ]
  },
  {
   "cell_type": "code",
   "execution_count": 32,
   "metadata": {},
   "outputs": [
    {
     "name": "stdout",
     "output_type": "stream",
     "text": [
      "Всего клиентов в срезе: 3055\n",
      "Количество отточных клиентов в срезе: 665\n",
      "Количество лояльных клиентов в срезе: 2390\n",
      "Доля отточных клиентов в срезе: 21.77%\n",
      "Доля клиентов в срезе от общего числа клиентов банка: 30.63%\n"
     ]
    },
    {
     "data": {
      "text/html": [
       "<div>\n",
       "<style scoped>\n",
       "    .dataframe tbody tr th:only-of-type {\n",
       "        vertical-align: middle;\n",
       "    }\n",
       "\n",
       "    .dataframe tbody tr th {\n",
       "        vertical-align: top;\n",
       "    }\n",
       "\n",
       "    .dataframe thead th {\n",
       "        text-align: right;\n",
       "    }\n",
       "</style>\n",
       "<table border=\"1\" class=\"dataframe\">\n",
       "  <thead>\n",
       "    <tr style=\"text-align: right;\">\n",
       "      <th></th>\n",
       "      <th>age</th>\n",
       "      <th>total</th>\n",
       "      <th>churn</th>\n",
       "      <th>loyal</th>\n",
       "      <th>total_ratio</th>\n",
       "      <th>churn_ratio</th>\n",
       "    </tr>\n",
       "  </thead>\n",
       "  <tbody>\n",
       "    <tr>\n",
       "      <th>0</th>\n",
       "      <td>25</td>\n",
       "      <td>140</td>\n",
       "      <td>31</td>\n",
       "      <td>109</td>\n",
       "      <td>4.58</td>\n",
       "      <td>22.14</td>\n",
       "    </tr>\n",
       "    <tr>\n",
       "      <th>1</th>\n",
       "      <td>26</td>\n",
       "      <td>155</td>\n",
       "      <td>39</td>\n",
       "      <td>116</td>\n",
       "      <td>5.07</td>\n",
       "      <td>25.16</td>\n",
       "    </tr>\n",
       "    <tr>\n",
       "      <th>2</th>\n",
       "      <td>27</td>\n",
       "      <td>171</td>\n",
       "      <td>53</td>\n",
       "      <td>118</td>\n",
       "      <td>5.60</td>\n",
       "      <td>30.99</td>\n",
       "    </tr>\n",
       "    <tr>\n",
       "      <th>3</th>\n",
       "      <td>28</td>\n",
       "      <td>210</td>\n",
       "      <td>48</td>\n",
       "      <td>162</td>\n",
       "      <td>6.87</td>\n",
       "      <td>22.86</td>\n",
       "    </tr>\n",
       "    <tr>\n",
       "      <th>4</th>\n",
       "      <td>29</td>\n",
       "      <td>236</td>\n",
       "      <td>62</td>\n",
       "      <td>174</td>\n",
       "      <td>7.73</td>\n",
       "      <td>26.27</td>\n",
       "    </tr>\n",
       "    <tr>\n",
       "      <th>5</th>\n",
       "      <td>30</td>\n",
       "      <td>275</td>\n",
       "      <td>53</td>\n",
       "      <td>222</td>\n",
       "      <td>9.00</td>\n",
       "      <td>19.27</td>\n",
       "    </tr>\n",
       "    <tr>\n",
       "      <th>6</th>\n",
       "      <td>31</td>\n",
       "      <td>324</td>\n",
       "      <td>66</td>\n",
       "      <td>258</td>\n",
       "      <td>10.61</td>\n",
       "      <td>20.37</td>\n",
       "    </tr>\n",
       "    <tr>\n",
       "      <th>7</th>\n",
       "      <td>32</td>\n",
       "      <td>380</td>\n",
       "      <td>76</td>\n",
       "      <td>304</td>\n",
       "      <td>12.44</td>\n",
       "      <td>20.00</td>\n",
       "    </tr>\n",
       "    <tr>\n",
       "      <th>8</th>\n",
       "      <td>33</td>\n",
       "      <td>392</td>\n",
       "      <td>72</td>\n",
       "      <td>320</td>\n",
       "      <td>12.83</td>\n",
       "      <td>18.37</td>\n",
       "    </tr>\n",
       "    <tr>\n",
       "      <th>9</th>\n",
       "      <td>34</td>\n",
       "      <td>384</td>\n",
       "      <td>91</td>\n",
       "      <td>293</td>\n",
       "      <td>12.57</td>\n",
       "      <td>23.70</td>\n",
       "    </tr>\n",
       "    <tr>\n",
       "      <th>10</th>\n",
       "      <td>35</td>\n",
       "      <td>388</td>\n",
       "      <td>74</td>\n",
       "      <td>314</td>\n",
       "      <td>12.70</td>\n",
       "      <td>19.07</td>\n",
       "    </tr>\n",
       "  </tbody>\n",
       "</table>\n",
       "</div>"
      ],
      "text/plain": [
       "    age  total  churn  loyal  total_ratio  churn_ratio\n",
       "0    25    140     31    109         4.58        22.14\n",
       "1    26    155     39    116         5.07        25.16\n",
       "2    27    171     53    118         5.60        30.99\n",
       "3    28    210     48    162         6.87        22.86\n",
       "4    29    236     62    174         7.73        26.27\n",
       "5    30    275     53    222         9.00        19.27\n",
       "6    31    324     66    258        10.61        20.37\n",
       "7    32    380     76    304        12.44        20.00\n",
       "8    33    392     72    320        12.83        18.37\n",
       "9    34    384     91    293        12.57        23.70\n",
       "10   35    388     74    314        12.70        19.07"
      ]
     },
     "metadata": {},
     "output_type": "display_data"
    },
    {
     "data": {
      "image/png": "[encoded data removed]",
      "text/plain": [
       "<Figure size 720x504 with 1 Axes>"
      ]
     },
     "metadata": {
      "needs_background": "light"
     },
     "output_type": "display_data"
    },
    {
     "data": {
      "image/png": "[encoded data removed]",
      "text/plain": [
       "<Figure size 720x504 with 1 Axes>"
      ]
     },
     "metadata": {
      "needs_background": "light"
     },
     "output_type": "display_data"
    },
    {
     "data": {
      "text/plain": [
       "None"
      ]
     },
     "metadata": {},
     "output_type": "display_data"
    }
   ],
   "source": [
    "# Выведем информацию о срезе с клиентами возратсного диапазона от 25 до 35 лет\n",
    "query_info(bank_clients_age_25_35)\n",
    "\n",
    "# Вызовем функицю df_category_counts для среза с возрастным диапазоном от 25 до 35 лет по параметру `age`\n",
    "display(df_category_counts(bank_clients_age_25_35, 'age', 'Возраст клиента'))"
   ]
  },
  {
   "cell_type": "markdown",
   "metadata": {},
   "source": [
    "Общая доля отточных клиентов в возрасте от 25 до 35 лет составляет 21.77%, это 30.63% всех клиентов. Уровень оттока выше среднего уровня оттока по банку в каждом возрасте из диапазона. Стоит отметить, что клиентов от 31 до 35 заметно больше, чем клиентов в возрасте от 25 до 30."
   ]
  },
  {
   "cell_type": "code",
   "execution_count": 33,
   "metadata": {},
   "outputs": [
    {
     "name": "stdout",
     "output_type": "stream",
     "text": [
      "Всего клиентов в срезе: 1768\n",
      "Количество отточных клиентов в срезе: 468\n",
      "Количество лояльных клиентов в срезе: 1300\n",
      "Доля отточных клиентов в срезе: 26.47%\n",
      "Доля клиентов в срезе от общего числа клиентов банка: 17.73%\n"
     ]
    },
    {
     "data": {
      "text/html": [
       "<div>\n",
       "<style scoped>\n",
       "    .dataframe tbody tr th:only-of-type {\n",
       "        vertical-align: middle;\n",
       "    }\n",
       "\n",
       "    .dataframe tbody tr th {\n",
       "        vertical-align: top;\n",
       "    }\n",
       "\n",
       "    .dataframe thead th {\n",
       "        text-align: right;\n",
       "    }\n",
       "</style>\n",
       "<table border=\"1\" class=\"dataframe\">\n",
       "  <thead>\n",
       "    <tr style=\"text-align: right;\">\n",
       "      <th></th>\n",
       "      <th>age</th>\n",
       "      <th>total</th>\n",
       "      <th>churn</th>\n",
       "      <th>loyal</th>\n",
       "      <th>total_ratio</th>\n",
       "      <th>churn_ratio</th>\n",
       "    </tr>\n",
       "  </thead>\n",
       "  <tbody>\n",
       "    <tr>\n",
       "      <th>0</th>\n",
       "      <td>50</td>\n",
       "      <td>190</td>\n",
       "      <td>36</td>\n",
       "      <td>154</td>\n",
       "      <td>10.75</td>\n",
       "      <td>18.95</td>\n",
       "    </tr>\n",
       "    <tr>\n",
       "      <th>1</th>\n",
       "      <td>51</td>\n",
       "      <td>168</td>\n",
       "      <td>38</td>\n",
       "      <td>130</td>\n",
       "      <td>9.50</td>\n",
       "      <td>22.62</td>\n",
       "    </tr>\n",
       "    <tr>\n",
       "      <th>2</th>\n",
       "      <td>52</td>\n",
       "      <td>154</td>\n",
       "      <td>50</td>\n",
       "      <td>104</td>\n",
       "      <td>8.71</td>\n",
       "      <td>32.47</td>\n",
       "    </tr>\n",
       "    <tr>\n",
       "      <th>3</th>\n",
       "      <td>53</td>\n",
       "      <td>175</td>\n",
       "      <td>41</td>\n",
       "      <td>134</td>\n",
       "      <td>9.90</td>\n",
       "      <td>23.43</td>\n",
       "    </tr>\n",
       "    <tr>\n",
       "      <th>4</th>\n",
       "      <td>54</td>\n",
       "      <td>139</td>\n",
       "      <td>47</td>\n",
       "      <td>92</td>\n",
       "      <td>7.86</td>\n",
       "      <td>33.81</td>\n",
       "    </tr>\n",
       "    <tr>\n",
       "      <th>5</th>\n",
       "      <td>55</td>\n",
       "      <td>165</td>\n",
       "      <td>46</td>\n",
       "      <td>119</td>\n",
       "      <td>9.33</td>\n",
       "      <td>27.88</td>\n",
       "    </tr>\n",
       "    <tr>\n",
       "      <th>6</th>\n",
       "      <td>56</td>\n",
       "      <td>149</td>\n",
       "      <td>47</td>\n",
       "      <td>102</td>\n",
       "      <td>8.43</td>\n",
       "      <td>31.54</td>\n",
       "    </tr>\n",
       "    <tr>\n",
       "      <th>7</th>\n",
       "      <td>57</td>\n",
       "      <td>161</td>\n",
       "      <td>42</td>\n",
       "      <td>119</td>\n",
       "      <td>9.11</td>\n",
       "      <td>26.09</td>\n",
       "    </tr>\n",
       "    <tr>\n",
       "      <th>8</th>\n",
       "      <td>58</td>\n",
       "      <td>169</td>\n",
       "      <td>51</td>\n",
       "      <td>118</td>\n",
       "      <td>9.56</td>\n",
       "      <td>30.18</td>\n",
       "    </tr>\n",
       "    <tr>\n",
       "      <th>9</th>\n",
       "      <td>59</td>\n",
       "      <td>130</td>\n",
       "      <td>34</td>\n",
       "      <td>96</td>\n",
       "      <td>7.35</td>\n",
       "      <td>26.15</td>\n",
       "    </tr>\n",
       "    <tr>\n",
       "      <th>10</th>\n",
       "      <td>60</td>\n",
       "      <td>168</td>\n",
       "      <td>36</td>\n",
       "      <td>132</td>\n",
       "      <td>9.50</td>\n",
       "      <td>21.43</td>\n",
       "    </tr>\n",
       "  </tbody>\n",
       "</table>\n",
       "</div>"
      ],
      "text/plain": [
       "    age  total  churn  loyal  total_ratio  churn_ratio\n",
       "0    50    190     36    154        10.75        18.95\n",
       "1    51    168     38    130         9.50        22.62\n",
       "2    52    154     50    104         8.71        32.47\n",
       "3    53    175     41    134         9.90        23.43\n",
       "4    54    139     47     92         7.86        33.81\n",
       "5    55    165     46    119         9.33        27.88\n",
       "6    56    149     47    102         8.43        31.54\n",
       "7    57    161     42    119         9.11        26.09\n",
       "8    58    169     51    118         9.56        30.18\n",
       "9    59    130     34     96         7.35        26.15\n",
       "10   60    168     36    132         9.50        21.43"
      ]
     },
     "metadata": {},
     "output_type": "display_data"
    },
    {
     "data": {
      "image/png": "[encoded data removed]",
      "text/plain": [
       "<Figure size 720x504 with 1 Axes>"
      ]
     },
     "metadata": {
      "needs_background": "light"
     },
     "output_type": "display_data"
    },
    {
     "data": {
      "image/png": "[encoded data removed]",
      "text/plain": [
       "<Figure size 720x504 with 1 Axes>"
      ]
     },
     "metadata": {
      "needs_background": "light"
     },
     "output_type": "display_data"
    },
    {
     "data": {
      "text/plain": [
       "None"
      ]
     },
     "metadata": {},
     "output_type": "display_data"
    }
   ],
   "source": [
    "# Выведем информацию о срезе с клиентами возратсного диапазона от 50 до 60 лет\n",
    "query_info(bank_clients_age_50_60)\n",
    "\n",
    "# Вызовем функицю df_category_counts для среза с возрастным диапазоном от 50 до 60 лет по параметру `age`\n",
    "display(df_category_counts(bank_clients_age_50_60, 'age', 'Возраст клиента'))"
   ]
  },
  {
   "cell_type": "markdown",
   "metadata": {},
   "source": [
    "Общая доля отточных клиентов в возрасте от 50 до 60 лет составляет 26.47%, однако это 17.73% всех клиентов банка, почти вдвое меньше, чем клиентов предыдущей возрастной категории. Уровень оттока выше среднего уровня оттока по банку в каждом возрасте из диапазона. Здесь количество клиентов каждого возраста распределилось равномерно."
   ]
  },
  {
   "cell_type": "markdown",
   "metadata": {},
   "source": [
    "<div class=\"alert alert-success\">\n",
    "<b>Комментарий ревьюера:</b>☀️Тут очень хорошо!</div>"
   ]
  },
  {
   "cell_type": "markdown",
   "metadata": {},
   "source": [
    "### Анализ влияния метрики equity на отток клиентов"
   ]
  },
  {
   "cell_type": "code",
   "execution_count": 34,
   "metadata": {},
   "outputs": [
    {
     "data": {
      "text/html": [
       "<div>\n",
       "<style scoped>\n",
       "    .dataframe tbody tr th:only-of-type {\n",
       "        vertical-align: middle;\n",
       "    }\n",
       "\n",
       "    .dataframe tbody tr th {\n",
       "        vertical-align: top;\n",
       "    }\n",
       "\n",
       "    .dataframe thead th {\n",
       "        text-align: right;\n",
       "    }\n",
       "</style>\n",
       "<table border=\"1\" class=\"dataframe\">\n",
       "  <thead>\n",
       "    <tr style=\"text-align: right;\">\n",
       "      <th></th>\n",
       "      <th>equity</th>\n",
       "      <th>total</th>\n",
       "      <th>churn</th>\n",
       "      <th>loyal</th>\n",
       "      <th>total_ratio</th>\n",
       "      <th>churn_ratio</th>\n",
       "    </tr>\n",
       "  </thead>\n",
       "  <tbody>\n",
       "    <tr>\n",
       "      <th>0</th>\n",
       "      <td>0</td>\n",
       "      <td>2576</td>\n",
       "      <td>90</td>\n",
       "      <td>2486</td>\n",
       "      <td>25.83</td>\n",
       "      <td>3.49</td>\n",
       "    </tr>\n",
       "    <tr>\n",
       "      <th>1</th>\n",
       "      <td>1</td>\n",
       "      <td>773</td>\n",
       "      <td>93</td>\n",
       "      <td>680</td>\n",
       "      <td>7.75</td>\n",
       "      <td>12.03</td>\n",
       "    </tr>\n",
       "    <tr>\n",
       "      <th>2</th>\n",
       "      <td>2</td>\n",
       "      <td>1051</td>\n",
       "      <td>166</td>\n",
       "      <td>885</td>\n",
       "      <td>10.54</td>\n",
       "      <td>15.79</td>\n",
       "    </tr>\n",
       "    <tr>\n",
       "      <th>3</th>\n",
       "      <td>3</td>\n",
       "      <td>1540</td>\n",
       "      <td>321</td>\n",
       "      <td>1219</td>\n",
       "      <td>15.44</td>\n",
       "      <td>20.84</td>\n",
       "    </tr>\n",
       "    <tr>\n",
       "      <th>4</th>\n",
       "      <td>4</td>\n",
       "      <td>1847</td>\n",
       "      <td>464</td>\n",
       "      <td>1383</td>\n",
       "      <td>18.52</td>\n",
       "      <td>25.12</td>\n",
       "    </tr>\n",
       "    <tr>\n",
       "      <th>5</th>\n",
       "      <td>5</td>\n",
       "      <td>1915</td>\n",
       "      <td>576</td>\n",
       "      <td>1339</td>\n",
       "      <td>19.20</td>\n",
       "      <td>30.08</td>\n",
       "    </tr>\n",
       "    <tr>\n",
       "      <th>6</th>\n",
       "      <td>6</td>\n",
       "      <td>161</td>\n",
       "      <td>58</td>\n",
       "      <td>103</td>\n",
       "      <td>1.61</td>\n",
       "      <td>36.02</td>\n",
       "    </tr>\n",
       "    <tr>\n",
       "      <th>7</th>\n",
       "      <td>7</td>\n",
       "      <td>80</td>\n",
       "      <td>37</td>\n",
       "      <td>43</td>\n",
       "      <td>0.80</td>\n",
       "      <td>46.25</td>\n",
       "    </tr>\n",
       "    <tr>\n",
       "      <th>8</th>\n",
       "      <td>8</td>\n",
       "      <td>17</td>\n",
       "      <td>6</td>\n",
       "      <td>11</td>\n",
       "      <td>0.17</td>\n",
       "      <td>35.29</td>\n",
       "    </tr>\n",
       "    <tr>\n",
       "      <th>9</th>\n",
       "      <td>9</td>\n",
       "      <td>13</td>\n",
       "      <td>7</td>\n",
       "      <td>6</td>\n",
       "      <td>0.13</td>\n",
       "      <td>53.85</td>\n",
       "    </tr>\n",
       "  </tbody>\n",
       "</table>\n",
       "</div>"
      ],
      "text/plain": [
       "   equity  total  churn  loyal  total_ratio  churn_ratio\n",
       "0       0   2576     90   2486        25.83         3.49\n",
       "1       1    773     93    680         7.75        12.03\n",
       "2       2   1051    166    885        10.54        15.79\n",
       "3       3   1540    321   1219        15.44        20.84\n",
       "4       4   1847    464   1383        18.52        25.12\n",
       "5       5   1915    576   1339        19.20        30.08\n",
       "6       6    161     58    103         1.61        36.02\n",
       "7       7     80     37     43         0.80        46.25\n",
       "8       8     17      6     11         0.17        35.29\n",
       "9       9     13      7      6         0.13        53.85"
      ]
     },
     "metadata": {},
     "output_type": "display_data"
    },
    {
     "data": {
      "image/png": "[encoded data removed]",
      "text/plain": [
       "<Figure size 720x504 with 1 Axes>"
      ]
     },
     "metadata": {
      "needs_background": "light"
     },
     "output_type": "display_data"
    },
    {
     "data": {
      "image/png": "[encoded data removed]",
      "text/plain": [
       "<Figure size 720x504 with 1 Axes>"
      ]
     },
     "metadata": {
      "needs_background": "light"
     },
     "output_type": "display_data"
    }
   ],
   "source": [
    "# Вызовем функицю df_category_counts для параметра `equity`\n",
    "df_category_counts(bank_clients, 'equity', 'Количество баллов собственности')"
   ]
  },
  {
   "cell_type": "markdown",
   "metadata": {},
   "source": [
    "Анализируя показатель оттока по оценке стоимости имущества, на первый взгляд может показаться, что чем выше уровень оценки, тем выше уровень оттока. Однако стоит обратить внимание на долю клиентов с конкретной оценкой от общего числа клиентов банка. Клиенты с оценками 6, 7, 8, 9 хоть и имеют высокую долю оттока, но их число в каждой подкатегории не превышает 161 человека, поэтому каждый клиент сильно влияет на уровень оттока. \n",
    "\n",
    "А вот пользователи с оценками 3, 4, 5 составляют большую долю клиентов банка и имеют показатели оттока выше, чем средний по банку."
   ]
  },
  {
   "cell_type": "markdown",
   "metadata": {},
   "source": [
    "### Анализ влияния баланса на счете на отток клиентов"
   ]
  },
  {
   "cell_type": "markdown",
   "metadata": {},
   "source": [
    "Напомним, что в этом параметре нет значений для почти 23% всех клиентов. Ранее мы выяснили, что пропуски в столбце `balance` имеют клиенты с низким уровнем оценки стоимости имущества (почти всегда это 0), в основном имеющие один продукт от банка и в большинстве случаев это кредитная карта. Почти все клиенты с пропусками в столбце `balance` не собираются уходить из банка.\n",
    "\n",
    "Мы увидели большое количество выбросов, однако в основном данные располагаются в диапазоне от 0 до 2 млн. у.е.. Поэтому, для более понятного отображения, установим на графике лимит и построим график вручную, без использования ранее построеной функции."
   ]
  },
  {
   "cell_type": "code",
   "execution_count": 35,
   "metadata": {},
   "outputs": [
    {
     "data": {
      "image/png": "[encoded data removed]",
      "text/plain": [
       "<Figure size 1080x504 with 1 Axes>"
      ]
     },
     "metadata": {
      "needs_background": "light"
     },
     "output_type": "display_data"
    }
   ],
   "source": [
    "# Зададим размер датафрейма и построим гистограмму с соотношением отточных и лояльных клиентов по category_name\n",
    "plt.figure(figsize=(15,7))\n",
    "sns.histplot(data=bank_clients, x='balance', hue='churn', bins=700, alpha=0.4, common_norm=False, stat='density')\n",
    "\n",
    "# Зададим остальные натсройки графика\n",
    "plt.title(f\"Гистограмма с соотношением отточных и лояльных клиентов по balance\")\n",
    "plt.xlabel(f\"Баланс на счете клиента, у.е.\")\n",
    "plt.ylabel(f\"Плотность\")\n",
    "plt.grid(axis='y')\n",
    "plt.xlim(0, 6000000)\n",
    "\n",
    "# Настроим формат оси Y\n",
    "formatter = ticker.ScalarFormatter(useMathText=False)\n",
    "formatter.set_scientific(False)\n",
    "plt.gca().yaxis.set_major_formatter(formatter)\n",
    "\n",
    "# Настроим формат оси X\n",
    "formatter = ticker.ScalarFormatter(useMathText=False)\n",
    "formatter.set_scientific(False)\n",
    "plt.gca().xaxis.set_major_formatter(formatter)\n",
    "\n",
    "# Задаем диапазон и шаг подписей значений оси X\n",
    "x_min = bank_clients['balance'].min()\n",
    "x_max = bank_clients['balance'].max()\n",
    "step = 200000\n",
    "plt.xticks(np.arange(x_min, 6000000, step), rotation=90)\n",
    "   \n",
    "# Выведем полученную гистограмму на экран\n",
    "plt.show()"
   ]
  },
  {
   "cell_type": "markdown",
   "metadata": {},
   "source": [
    "По гистограмме видно, что отток превышает лояльных клиентов от баланса приблизительно от 700 тыс. у.е. Рассмотрим этот диапазон более подробно."
   ]
  },
  {
   "cell_type": "code",
   "execution_count": 36,
   "metadata": {},
   "outputs": [
    {
     "name": "stdout",
     "output_type": "stream",
     "text": [
      "Всего клиентов в срезе: 2786\n",
      "Количество отточных клиентов в срезе: 947\n",
      "Количество лояльных клиентов в срезе: 1839\n",
      "Доля отточных клиентов в срезе: 33.99%\n",
      "Доля клиентов в срезе от общего числа клиентов банка: 27.94%\n"
     ]
    }
   ],
   "source": [
    "# Создадим срез, в который попадут клиенты с балансом от 700 тыс. до 4 млн. у.е.\n",
    "bank_clinets_balance_700_4000 = bank_clients.query('700000 <= balance <= 4000000')\n",
    "\n",
    "# Выведем информацию о срезе с клиентами с кредитным рейтингом от 840 до 900\n",
    "query_info(bank_clinets_balance_700_4000)"
   ]
  },
  {
   "cell_type": "markdown",
   "metadata": {},
   "source": [
    "Получился достаточно весомый срез с почти 28% всех клиентов банка. Уровень оттока клиентов с балансом в диапазоне от 700 тыс. до 4 млн. у.е. составляет 33.99% и значительно превышает средний уровень оттока по всему банку."
   ]
  },
  {
   "cell_type": "markdown",
   "metadata": {},
   "source": [
    "### Анализ влияния количества продуктов, которыми пользуется клиент, на отток"
   ]
  },
  {
   "cell_type": "code",
   "execution_count": 37,
   "metadata": {},
   "outputs": [
    {
     "data": {
      "text/html": [
       "<div>\n",
       "<style scoped>\n",
       "    .dataframe tbody tr th:only-of-type {\n",
       "        vertical-align: middle;\n",
       "    }\n",
       "\n",
       "    .dataframe tbody tr th {\n",
       "        vertical-align: top;\n",
       "    }\n",
       "\n",
       "    .dataframe thead th {\n",
       "        text-align: right;\n",
       "    }\n",
       "</style>\n",
       "<table border=\"1\" class=\"dataframe\">\n",
       "  <thead>\n",
       "    <tr style=\"text-align: right;\">\n",
       "      <th></th>\n",
       "      <th>products</th>\n",
       "      <th>total</th>\n",
       "      <th>churn</th>\n",
       "      <th>loyal</th>\n",
       "      <th>total_ratio</th>\n",
       "      <th>churn_ratio</th>\n",
       "    </tr>\n",
       "  </thead>\n",
       "  <tbody>\n",
       "    <tr>\n",
       "      <th>0</th>\n",
       "      <td>1</td>\n",
       "      <td>3323</td>\n",
       "      <td>235</td>\n",
       "      <td>3088</td>\n",
       "      <td>33.32</td>\n",
       "      <td>7.07</td>\n",
       "    </tr>\n",
       "    <tr>\n",
       "      <th>1</th>\n",
       "      <td>2</td>\n",
       "      <td>5119</td>\n",
       "      <td>978</td>\n",
       "      <td>4141</td>\n",
       "      <td>51.33</td>\n",
       "      <td>19.11</td>\n",
       "    </tr>\n",
       "    <tr>\n",
       "      <th>2</th>\n",
       "      <td>3</td>\n",
       "      <td>1038</td>\n",
       "      <td>297</td>\n",
       "      <td>741</td>\n",
       "      <td>10.41</td>\n",
       "      <td>28.61</td>\n",
       "    </tr>\n",
       "    <tr>\n",
       "      <th>3</th>\n",
       "      <td>4</td>\n",
       "      <td>474</td>\n",
       "      <td>300</td>\n",
       "      <td>174</td>\n",
       "      <td>4.75</td>\n",
       "      <td>63.29</td>\n",
       "    </tr>\n",
       "    <tr>\n",
       "      <th>4</th>\n",
       "      <td>5</td>\n",
       "      <td>19</td>\n",
       "      <td>8</td>\n",
       "      <td>11</td>\n",
       "      <td>0.19</td>\n",
       "      <td>42.11</td>\n",
       "    </tr>\n",
       "  </tbody>\n",
       "</table>\n",
       "</div>"
      ],
      "text/plain": [
       "   products  total  churn  loyal  total_ratio  churn_ratio\n",
       "0         1   3323    235   3088        33.32         7.07\n",
       "1         2   5119    978   4141        51.33        19.11\n",
       "2         3   1038    297    741        10.41        28.61\n",
       "3         4    474    300    174         4.75        63.29\n",
       "4         5     19      8     11         0.19        42.11"
      ]
     },
     "metadata": {},
     "output_type": "display_data"
    },
    {
     "data": {
      "image/png": "[encoded data removed]",
      "text/plain": [
       "<Figure size 720x504 with 1 Axes>"
      ]
     },
     "metadata": {
      "needs_background": "light"
     },
     "output_type": "display_data"
    },
    {
     "data": {
      "image/png": "[encoded data removed]",
      "text/plain": [
       "<Figure size 720x504 with 1 Axes>"
      ]
     },
     "metadata": {
      "needs_background": "light"
     },
     "output_type": "display_data"
    }
   ],
   "source": [
    "# Вызовем функицю df_category_counts для параметра `products`\n",
    "df_category_counts(bank_clients, 'products', 'Количество продуктов, которыми пользуется клиент')"
   ]
  },
  {
   "cell_type": "markdown",
   "metadata": {},
   "source": [
    "<div class=\"alert alert-warning\">\n",
    "<b>Комментарий ревьюера:</b>☀️Еще раз напоминаю, что необходимо поправить графики - подписи осей должны быть на русском языке.\n",
    "    "
   ]
  },
  {
   "cell_type": "markdown",
   "metadata": {},
   "source": [
    "<div class=\"alert alert-info\"> \n",
    "<b>Комментарий студента:</b> Да, везде подправила! :)\n",
    "\n",
    "</div>"
   ]
  },
  {
   "cell_type": "markdown",
   "metadata": {},
   "source": [
    "По графикам мы видим, что, если у клиента количество продуктов два и более, то его уровень оттока становится выше среднего по банку. Однако заметно сильный отток у клиентов с четырьмя (63.29%), пятью (42.11%) и тремя продуктами (28.61%)."
   ]
  },
  {
   "cell_type": "markdown",
   "metadata": {},
   "source": [
    "### Анализ влияния наличия кредитной карты на отток клиентов\n",
    "Напомним обозначения: 0 - кредитная карта банка у клиента отсутствует, 1 - клиент имеет кредитную карту банка."
   ]
  },
  {
   "cell_type": "code",
   "execution_count": 38,
   "metadata": {},
   "outputs": [
    {
     "data": {
      "text/html": [
       "<div>\n",
       "<style scoped>\n",
       "    .dataframe tbody tr th:only-of-type {\n",
       "        vertical-align: middle;\n",
       "    }\n",
       "\n",
       "    .dataframe tbody tr th {\n",
       "        vertical-align: top;\n",
       "    }\n",
       "\n",
       "    .dataframe thead th {\n",
       "        text-align: right;\n",
       "    }\n",
       "</style>\n",
       "<table border=\"1\" class=\"dataframe\">\n",
       "  <thead>\n",
       "    <tr style=\"text-align: right;\">\n",
       "      <th></th>\n",
       "      <th>credit_card</th>\n",
       "      <th>total</th>\n",
       "      <th>churn</th>\n",
       "      <th>loyal</th>\n",
       "      <th>total_ratio</th>\n",
       "      <th>churn_ratio</th>\n",
       "    </tr>\n",
       "  </thead>\n",
       "  <tbody>\n",
       "    <tr>\n",
       "      <th>0</th>\n",
       "      <td>0</td>\n",
       "      <td>3189</td>\n",
       "      <td>815</td>\n",
       "      <td>2374</td>\n",
       "      <td>31.98</td>\n",
       "      <td>25.56</td>\n",
       "    </tr>\n",
       "    <tr>\n",
       "      <th>1</th>\n",
       "      <td>1</td>\n",
       "      <td>6784</td>\n",
       "      <td>1003</td>\n",
       "      <td>5781</td>\n",
       "      <td>68.02</td>\n",
       "      <td>14.78</td>\n",
       "    </tr>\n",
       "  </tbody>\n",
       "</table>\n",
       "</div>"
      ],
      "text/plain": [
       "   credit_card  total  churn  loyal  total_ratio  churn_ratio\n",
       "0            0   3189    815   2374        31.98        25.56\n",
       "1            1   6784   1003   5781        68.02        14.78"
      ]
     },
     "metadata": {},
     "output_type": "display_data"
    },
    {
     "data": {
      "image/png": "[encoded data removed]",
      "text/plain": [
       "<Figure size 720x504 with 1 Axes>"
      ]
     },
     "metadata": {
      "needs_background": "light"
     },
     "output_type": "display_data"
    },
    {
     "data": {
      "image/png": "[encoded data removed]",
      "text/plain": [
       "<Figure size 720x504 with 1 Axes>"
      ]
     },
     "metadata": {
      "needs_background": "light"
     },
     "output_type": "display_data"
    }
   ],
   "source": [
    "# Вызовем функицю df_category_counts для параметра `credit_card`\n",
    "df_category_counts(bank_clients, 'credit_card', 'Наличие кредитной карты')"
   ]
  },
  {
   "cell_type": "markdown",
   "metadata": {},
   "source": [
    "Несмотря на то, что клиентов с кредитной картой банка почти вдвое больше, чем клиентов без нее, уровень оттока клиентов без кредитной карты значительно выше и составляет 25.56%. "
   ]
  },
  {
   "cell_type": "markdown",
   "metadata": {},
   "source": [
    "### Анализ влияния показателя активности клиента на отток\n",
    "Напомним обозначения: 0 - в последние 30 дней клиент не совершал никаких действий с продуктом, 1 - в последние 30 дней клиент совершал какие-то действия и операции с продуктом."
   ]
  },
  {
   "cell_type": "code",
   "execution_count": 39,
   "metadata": {},
   "outputs": [
    {
     "data": {
      "text/html": [
       "<div>\n",
       "<style scoped>\n",
       "    .dataframe tbody tr th:only-of-type {\n",
       "        vertical-align: middle;\n",
       "    }\n",
       "\n",
       "    .dataframe tbody tr th {\n",
       "        vertical-align: top;\n",
       "    }\n",
       "\n",
       "    .dataframe thead th {\n",
       "        text-align: right;\n",
       "    }\n",
       "</style>\n",
       "<table border=\"1\" class=\"dataframe\">\n",
       "  <thead>\n",
       "    <tr style=\"text-align: right;\">\n",
       "      <th></th>\n",
       "      <th>last_activity</th>\n",
       "      <th>total</th>\n",
       "      <th>churn</th>\n",
       "      <th>loyal</th>\n",
       "      <th>total_ratio</th>\n",
       "      <th>churn_ratio</th>\n",
       "    </tr>\n",
       "  </thead>\n",
       "  <tbody>\n",
       "    <tr>\n",
       "      <th>0</th>\n",
       "      <td>0</td>\n",
       "      <td>4758</td>\n",
       "      <td>541</td>\n",
       "      <td>4217</td>\n",
       "      <td>47.71</td>\n",
       "      <td>11.37</td>\n",
       "    </tr>\n",
       "    <tr>\n",
       "      <th>1</th>\n",
       "      <td>1</td>\n",
       "      <td>5215</td>\n",
       "      <td>1277</td>\n",
       "      <td>3938</td>\n",
       "      <td>52.29</td>\n",
       "      <td>24.49</td>\n",
       "    </tr>\n",
       "  </tbody>\n",
       "</table>\n",
       "</div>"
      ],
      "text/plain": [
       "   last_activity  total  churn  loyal  total_ratio  churn_ratio\n",
       "0              0   4758    541   4217        47.71        11.37\n",
       "1              1   5215   1277   3938        52.29        24.49"
      ]
     },
     "metadata": {},
     "output_type": "display_data"
    },
    {
     "data": {
      "image/png": "[encoded data removed]",
      "text/plain": [
       "<Figure size 720x504 with 1 Axes>"
      ]
     },
     "metadata": {
      "needs_background": "light"
     },
     "output_type": "display_data"
    },
    {
     "data": {
      "image/png": "[encoded data removed]",
      "text/plain": [
       "<Figure size 720x504 with 1 Axes>"
      ]
     },
     "metadata": {
      "needs_background": "light"
     },
     "output_type": "display_data"
    }
   ],
   "source": [
    "# Вызовем функицю df_category_counts для параметра `last_activity`\n",
    "df_category_counts(bank_clients, 'last_activity', 'Показатель активности клиента')"
   ]
  },
  {
   "cell_type": "markdown",
   "metadata": {},
   "source": [
    "Среди неактивных клиентов есть отточные, но они составляют всего 11.37%. Удивительно, но значительную долю клиентов, собирающихся расторгунть договор с банком, составляют активные пользователи, более 24%, что превышает средний уровень оттока по банку."
   ]
  },
  {
   "cell_type": "markdown",
   "metadata": {},
   "source": [
    "### Анализ влияния метрики est_salary на отток клиентов\n",
    "В предобработке данных мы увидели большое количество выбросов, однако в основном данные располагаются в диапазоне до 300 тыс. у.е. Поэтому, для более понятного отображения, установим на графике лимит и построим график вручную, без использования ранее построеной функции."
   ]
  },
  {
   "cell_type": "code",
   "execution_count": 40,
   "metadata": {},
   "outputs": [
    {
     "data": {
      "image/png": "[encoded data removed]",
      "text/plain": [
       "<Figure size 1080x504 with 1 Axes>"
      ]
     },
     "metadata": {
      "needs_background": "light"
     },
     "output_type": "display_data"
    }
   ],
   "source": [
    "# Зададим размер датафрейма и построим гистограмму с соотношением отточных и лояльных клиентов по category_name\n",
    "plt.figure(figsize=(15,7))\n",
    "sns.histplot(data=bank_clients, x='est_salary', hue='churn', bins=400, alpha=0.4, common_norm=False, stat='density')\n",
    "\n",
    "# Зададим остальные натсройки графика\n",
    "plt.title(f\"Гистограмма с соотношением отточных и лояльных клиентов по est_salary\")\n",
    "plt.xlabel(f\"Оценочный доход клиента, у.е.\")\n",
    "plt.ylabel(f\"Плотность\")\n",
    "plt.grid(axis='y')\n",
    "plt.xlim(0, 400000)\n",
    "\n",
    "# Настроим формат оси Y\n",
    "formatter = ticker.ScalarFormatter(useMathText=False)\n",
    "formatter.set_scientific(False)\n",
    "plt.gca().yaxis.set_major_formatter(formatter)\n",
    "\n",
    "# Настроим формат оси X\n",
    "formatter = ticker.ScalarFormatter(useMathText=False)\n",
    "formatter.set_scientific(False)\n",
    "plt.gca().xaxis.set_major_formatter(formatter)\n",
    "\n",
    "# Задаем диапазон и шаг подписей значений оси X\n",
    "x_min = bank_clients['est_salary'].min()\n",
    "x_max = bank_clients['est_salary'].max()\n",
    "step = 10000\n",
    "plt.xticks(np.arange(0, 400000, step), rotation=90)\n",
    "   \n",
    "# Выведем полученную гистограмму на экран\n",
    "plt.show()"
   ]
  },
  {
   "cell_type": "markdown",
   "metadata": {},
   "source": [
    "По гистограмме мы видим, что почти на всем диапазоне количество отточных и лояльных клиентов примерно одинаково. Можно отдельно выделить диапазон от 100 до 210 тыс. у.е., где число отточных клиентов превышает количество лояльных, и рассмотреть его подробнее."
   ]
  },
  {
   "cell_type": "code",
   "execution_count": 41,
   "metadata": {},
   "outputs": [
    {
     "name": "stdout",
     "output_type": "stream",
     "text": [
      "Всего клиентов в срезе: 4517\n",
      "Количество отточных клиентов в срезе: 925\n",
      "Количество лояльных клиентов в срезе: 3592\n",
      "Доля отточных клиентов в срезе: 20.48%\n",
      "Доля клиентов в срезе от общего числа клиентов банка: 45.29%\n"
     ]
    }
   ],
   "source": [
    "# Создадим срез, в который попадут клиенты с балансом от 700 тыс. до 4 млн. у.е.\n",
    "bank_clinets_est_salary_100_210 = bank_clients.query('100000 <= est_salary <= 210000')\n",
    "\n",
    "# Выведем информацию о срезе с клиентами с кредитным рейтингом от 840 до 900\n",
    "query_info(bank_clinets_est_salary_100_210)"
   ]
  },
  {
   "cell_type": "markdown",
   "metadata": {},
   "source": [
    "Это достаточно большой диапазон, составляющий 45% всех клиентов банка. Несмотря на то, что уровень оттока (20.48%) превышает средний уровень оттока по банку, для такого большого диапазона является не критино влияющим. "
   ]
  },
  {
   "cell_type": "markdown",
   "metadata": {},
   "source": [
    "### Корреляция параметров с оттоком `churn`"
   ]
  },
  {
   "cell_type": "code",
   "execution_count": 42,
   "metadata": {},
   "outputs": [
    {
     "name": "stdout",
     "output_type": "stream",
     "text": [
      "Корреляция между score и churn: 0.106\n",
      "Корреляция между age и churn: -0.05\n",
      "Корреляция между equity и churn: 0.27\n",
      "Корреляция между balance и churn: 0.086\n",
      "Корреляция между products и churn: 0.301\n",
      "Корреляция между credit_card и churn: -0.13\n",
      "Корреляция между last_activity и churn: 0.17\n",
      "Корреляция между est_salary и churn: 0.002\n",
      "Корреляция между city_rostov и churn: 0.005\n",
      "Корреляция между city_rybinsk и churn: -0.031\n",
      "Корреляция между city_yaroslavl и churn: 0.024\n",
      "Корреляция между gender_female и churn: -0.142\n",
      "Корреляция между gender_male и churn: 0.142\n"
     ]
    }
   ],
   "source": [
    "# Создадим цикл, считающий корреляцию столбца и оттока `churn`\n",
    "for column in bank_clients[['score', 'age','equity', 'balance', 'products', 'credit_card', 'last_activity', 'est_salary', 'city_rostov', 'city_rybinsk', 'city_yaroslavl', 'gender_female', 'gender_male']].columns:\n",
    "    category_churn_correlation = round(bank_clients[column].corr(bank_clients['churn']), 3)\n",
    "    print(f\"Корреляция между {column} и churn: {category_churn_correlation}\")"
   ]
  },
  {
   "cell_type": "markdown",
   "metadata": {},
   "source": [
    "Исходя из расчетов видно, что наибольшая зависимость оттока `churn` связана со столбцами: `products` и `equity`. При формировании сегментов, на них мы обратим внимание в первую очередь. Чуть меньше связь с: `last_activity`, `gender_male`, `gender_female`, `credit_card` и `score`. Наименьшая корреляция оттока `churn`, почти равная нулю, со столбцами `balance`, `age`, `city_rybinsk`, `city_yaroslavl`, `city_rostov` и `est_salary`."
   ]
  },
  {
   "cell_type": "markdown",
   "metadata": {},
   "source": [
    "<div class=\"alert alert-success\">\n",
    "<b>Комментарий ревьюера:</b>☀️Да, тут согласна с тобой.</div>"
   ]
  },
  {
   "cell_type": "markdown",
   "metadata": {},
   "source": [
    "### Вывод по разделу\n",
    "Мы провели анализ влияния метрик на отток клиентов и получили следующие параметры с наибольшим уровнем оттока, которые можно использовать при сегментировании:\n",
    "- клиенты с баллами кредитного скоринга в диапазоне от 840 до 900 (доля оттока - 25.7%, доля от всех клиентов банка - 32.04%);\n",
    "- по городам уровень оттока не критично большой, однако можно рассмотреть клиентов из Ярославля доля оттока - 19.01%, доля от всех клиентов банка - 58.91%);\n",
    "- клиенты - мужчины (доля оттока - 23.7%, доля от всех клиентов банка - 50.05%);\n",
    "- клиенты в возрасте от 25 до 35 лет (доля оттока - 21.77%, доля от всех клиентов банка - 30.63%);\n",
    "- клиенты в возрасте от 50 до 60 лет (доля оттока - 26.47%, доля от всех клиентов банка - 17.73%);\n",
    "- клиенты с оценками стоимости имущества 3, 4, 5;\n",
    "- клиенты с балансом в диапазоне от 700 тыс. до 4 млн. у.е. (доля оттока - 33.99%, доля от всех клиентов банка - 27.94%);\n",
    "- клиенты с 3, 4 или 5 продуктами банка;\n",
    "- клиенты без кредитной карты (доля оттока - 25.56%, доля от всех клиентов банка - 31.98%);\n",
    "- клиент, показывающий активность последние 30 дней (доля оттока - 24.49%, доля от всех клиентов банка - 52.29%);\n",
    "- уровень дохода клиента не сильно влияет на отток, можно выделить сегмент с заработком от 100 до 210 тыс. у.е., но это очень крупный сегмент, с уровнем оттока почти равным среднему по банку.\n",
    "\n",
    "Корреляционный анализ метрик с уровнем оттока `churn` показал наиболее сильную связь со столбцами: `products` и `equity`, чуть меньше зависимость с `last_activity`, `gender_male`, `gender_female`, `credit_card` и `score`. Это необходимо учитывать при формировании сегментов."
   ]
  },
  {
   "cell_type": "markdown",
   "metadata": {},
   "source": [
    "<div class=\"alert alert-success\">\n",
    "<b>Комментарий ревьюера:</b>☀️У тебя получились хорошие выводы, с этим невозможно поспорить :)</div>"
   ]
  },
  {
   "cell_type": "markdown",
   "metadata": {},
   "source": [
    "## Статистический анализ данных"
   ]
  },
  {
   "cell_type": "markdown",
   "metadata": {},
   "source": [
    "### Проверка гипотезы различия дохода между теми клиентами, которые ушли и теми, которые остались\n",
    "**Нулевая гипотеза (H0):** Уровень дохода клиентов, которые ушли и уровень дохода клиентов, которые остались, равны.\n",
    "\n",
    "**Альтернативная гипотеза (H1):** Уровень дохода клиентов, которые ушли и уровень дохода клиентов, которые остались, не равны.\n",
    "\n",
    "Для проверки гипотезы проведем t-test. В данном случае мы имеем две независимые выборки, поэтому будем использовать метод `scipy.stats.ttest_ind`. Уровень статистической значимости `alpha` зададим 0.05. В первую очередь создадим выборки и проверим их размер."
   ]
  },
  {
   "cell_type": "code",
   "execution_count": 43,
   "metadata": {},
   "outputs": [
    {
     "name": "stdout",
     "output_type": "stream",
     "text": [
      "Размер выборки с лояльными клиентами: 8155\n",
      "Размер выборки с отточными клиентами: 1818\n"
     ]
    }
   ],
   "source": [
    "# Создадим выборки по оттоку `churn` с доходами `est_salary`\n",
    "bank_clients_churn_0 = bank_clients.query('churn == 0')['est_salary']\n",
    "bank_clients_churn_1 = bank_clients.query('churn == 1')['est_salary']\n",
    "\n",
    "# Посчитаем размеры полученных выборок\n",
    "print(f'Размер выборки с лояльными клиентами: {bank_clients_churn_0.count()}')\n",
    "print(f'Размер выборки с отточными клиентами: {bank_clients_churn_1.count()}')"
   ]
  },
  {
   "cell_type": "markdown",
   "metadata": {},
   "source": [
    "Поскольку выборки разного размера, укажем параметр `equal_var=False`."
   ]
  },
  {
   "cell_type": "code",
   "execution_count": 44,
   "metadata": {},
   "outputs": [
    {
     "name": "stdout",
     "output_type": "stream",
     "text": [
      "P-значение: 0.8354803526840116\n",
      "Не получилось отвергнуть нулевую гипотезу\n",
      "\n",
      "\u001b[1mПроверка\u001b[0m\n",
      "Средний доход лояльных клиентов: 147674.64\n",
      "Средний доход отточных клиентов: 148357.48\n"
     ]
    }
   ],
   "source": [
    "# Проверим гипотезу, используя метод scipy.stats.ttest_ind, используем параметр equal_var=False, т.к. выборки не равны\n",
    "# Зададим критический уровень статистической значимости, если p-value окажется меньше него, отвергнем гипотезу\n",
    "alpha = 0.05\n",
    "\n",
    "results = st.ttest_ind(bank_clients_churn_0, bank_clients_churn_1, equal_var=False)\n",
    "\n",
    "print('P-значение:', results.pvalue)\n",
    "\n",
    "if results.pvalue < alpha:\n",
    "    print('Отвергаем нулевую гипотезу')\n",
    "    print()\n",
    "else:\n",
    "    print('Не получилось отвергнуть нулевую гипотезу')\n",
    "    print()\n",
    "    \n",
    "# Для провекри выведем средние значения проверяемых переменных\n",
    "print('\\033[1m' + f'Проверка' + '\\033[0m')\n",
    "print(f'Средний доход лояльных клиентов: {round((bank_clients_churn_0.mean()), 2)}')\n",
    "print(f'Средний доход отточных клиентов: {round((bank_clients_churn_1.mean()), 2)}')"
   ]
  },
  {
   "cell_type": "markdown",
   "metadata": {},
   "source": [
    "В результате t-теста мы можем сделать вывод о том, что различия в доходах между клиентами, которые ушли (отточные) и клиентами, которые остались (лояльные) не имеют статистической значимости."
   ]
  },
  {
   "cell_type": "markdown",
   "metadata": {},
   "source": [
    "### Проверка гипотезы о различии возраста отточных и лояльных клиентов-мужчин\n",
    "\n",
    "**Нулевая гипотеза (H0):** Возраст клиентов-мужчин, которые ушли и возраст клиентов-мужчин, которые остались, равны.\n",
    "\n",
    "**Альтернативная гипотеза (H1):** Возраст клиентов-мужчин, которые ушли и возраст клиентов-мужчин, которые остались, не равны.\n",
    "\n",
    "Аналогично предыдущей гипотезе, проведем t-test методом `scipy.stats.ttest_ind`. Уровень статистической значимости `alpha` зададим 0.05. Создадим выборки и проверим их размер."
   ]
  },
  {
   "cell_type": "code",
   "execution_count": 45,
   "metadata": {},
   "outputs": [
    {
     "name": "stdout",
     "output_type": "stream",
     "text": [
      "Размер выборки с лояльными клиентами: 3808\n",
      "Размер выборки с отточными клиентами: 1183\n"
     ]
    }
   ],
   "source": [
    "# Создадим выборки по оттоку `churn` с доходами `est_salary`\n",
    "bank_clients_churn_0 = bank_clients.query('churn == 0 and gender == \"М\"')['age']\n",
    "bank_clients_churn_1 = bank_clients.query('churn == 1 and gender == \"М\"')['age']\n",
    "\n",
    "# Посчитаем размеры полученных выборок\n",
    "print(f'Размер выборки с лояльными клиентами: {bank_clients_churn_0.count()}')\n",
    "print(f'Размер выборки с отточными клиентами: {bank_clients_churn_1.count()}')"
   ]
  },
  {
   "cell_type": "markdown",
   "metadata": {},
   "source": [
    "Поскольку выборки также разного размера, укажем параметр `equal_var=False`."
   ]
  },
  {
   "cell_type": "code",
   "execution_count": 46,
   "metadata": {},
   "outputs": [
    {
     "name": "stdout",
     "output_type": "stream",
     "text": [
      "P-значение: 0.30056575423317844\n",
      "Не получилось отвергнуть нулевую гипотезу\n",
      "\n",
      "\u001b[1mПроверка\u001b[0m\n",
      "Средний возраст лояльных клиентов-мужчин: 40.06\n",
      "Средний возраст отточных клиентов-мужчин: 40.43\n"
     ]
    }
   ],
   "source": [
    "# Проверим гипотезу, используя метод scipy.stats.ttest_ind, используем параметр equal_var=False, т.к. выборки не равны\n",
    "# Зададим критический уровень статистической значимости, если p-value окажется меньше него, отвергнем гипотезу\n",
    "alpha = 0.05\n",
    "\n",
    "results = st.ttest_ind(bank_clients_churn_0, bank_clients_churn_1, equal_var=False)\n",
    "\n",
    "print('P-значение:', results.pvalue)\n",
    "\n",
    "if results.pvalue < alpha:\n",
    "    print('Отвергаем нулевую гипотезу')\n",
    "    print()\n",
    "else:\n",
    "    print('Не получилось отвергнуть нулевую гипотезу')\n",
    "    print()\n",
    "    \n",
    "# Для провекри выведем средние значения проверяемых переменных\n",
    "print('\\033[1m' + f'Проверка' + '\\033[0m')\n",
    "print(f'Средний возраст лояльных клиентов-мужчин: {round((bank_clients_churn_0.mean()), 2)}')\n",
    "print(f'Средний возраст отточных клиентов-мужчин: {round((bank_clients_churn_1.mean()), 2)}')"
   ]
  },
  {
   "cell_type": "markdown",
   "metadata": {},
   "source": [
    "В результате этого тестирования гипотезы мы можем сделать вывод о том, что возраст клиентов-мужчин, которые ушли (отточные) и клиентов-мужчин, которые остались (лояльные) примерно одинаковый, различия не имеют статистической значимости."
   ]
  },
  {
   "cell_type": "markdown",
   "metadata": {},
   "source": [
    "<div class=\"alert alert-success\">\n",
    "<b>Комментарий ревьюера:</b>☀️По блоку проверки гипотез все хорошо. Здорово, что ты обосновала выбор критерия проверки.</div>"
   ]
  },
  {
   "cell_type": "markdown",
   "metadata": {},
   "source": [
    "## Сегментирование пользователей\n",
    "На этапе исследовательского анализа данных мы пришли выделили признаки, которые сильнее всего влияют на отток. На основе комбинаций этих признаков мы можем выделить сегменты отточных клиентов. Напомним эти признаки:\n",
    "- **клиенты с баллами кредитного скоринга в диапазоне от 840 до 900 (доля оттока - 25.7%, доля от всех клиентов банка - 32.04%)**;\n",
    "- по городам уровень оттока не критично большой, однако можно рассмотреть клиентов из Ярославля доля оттока - 19.01%, доля от всех клиентов банка - 58.91%);\n",
    "- **клиенты - мужчины (доля оттока - 23.7%, доля от всех клиентов банка - 50.05%)**;\n",
    "- **клиенты в возрасте от 25 до 35 лет (доля оттока - 21.77%, доля от всех клиентов банка - 30.63%)**;\n",
    "- клиенты в возрасте от 50 до 60 лет (доля оттока - 26.47%, доля от всех клиентов банка - 17.73%);\n",
    "- **клиенты с оценками стоимости имущества 3, 4, 5**;\n",
    "- клиенты с балансом в диапазоне от 700 тыс. до 4 млн. у.е. (доля оттока - 33.99%, доля от всех клиентов банка - 27.94%);\n",
    "- **клиенты с 3, 4 или 5 продуктами банка**;\n",
    "- **клиенты без кредитной карты (доля оттока - 25.56%, доля от всех клиентов банка - 31.98%)**;\n",
    "- клиент, показывающий активность последние 30 дней (доля оттока - 24.49%, доля от всех клиентов банка - 52.29%);\n",
    "- уровень дохода клиента не сильно влияет на отток, можно выделить сегмент с заработком от 100 до 210 тыс. у.е., но это очень крупный сегмент, с уровнем оттока почти равным среднему по банку.\n",
    "\n",
    "Корреляционный анализ метрик с уровнем оттока `churn` показал наиболее сильную связь со столбцами: **`products`** и **`equity`**, чуть меньше зависимость с `last_activity`, **`gender_male`**, `gender_female`, **`credit_card`** и **`score`**.\n",
    "\n",
    "**Требования к сегментам:**\n",
    "- Число клиентов в сегменте не менее 700 человек.\n",
    "- Уровень оттока сегмента выше среднего уровня оттока по банку (> 18%).\n",
    "\n",
    "Жирным шрифтом выделены параметры, которые были использованы при сегментации ниже."
   ]
  },
  {
   "cell_type": "markdown",
   "metadata": {},
   "source": [
    "### Сегмент 1\n",
    "**Описание сегмента:** клиенты без кредитной карты с количеством продуктов банка от 3 до 5."
   ]
  },
  {
   "cell_type": "code",
   "execution_count": 47,
   "metadata": {
    "scrolled": true
   },
   "outputs": [
    {
     "name": "stdout",
     "output_type": "stream",
     "text": [
      "Всего клиентов в срезе: 820\n",
      "Количество отточных клиентов в срезе: 265\n",
      "Количество лояльных клиентов в срезе: 555\n",
      "Доля отточных клиентов в срезе: 32.32%\n",
      "Доля клиентов в срезе от общего числа клиентов банка: 8.22%\n"
     ]
    }
   ],
   "source": [
    "# Создадим выборку клиентов без кредитной карты с количеством продуктов банка от 3 до 5\n",
    "bank_clients_segment_1 = bank_clients.query('products == [3, 4, 5] and credit_card == 0')\n",
    "\n",
    "# Посчитаем параметры для проверки сегмента\n",
    "query_info(bank_clients_segment_1)"
   ]
  },
  {
   "cell_type": "markdown",
   "metadata": {},
   "source": [
    "Полученый сегмент соответсвтует требованиям. Доля отточных клиентов в этом сегменте: 32.32%."
   ]
  },
  {
   "cell_type": "markdown",
   "metadata": {},
   "source": [
    "### Сегмент 2\n",
    "**Описание сегмента:** клиенты с кредитным скорингом от 840 до 900 c оценкой имущества 3, 4 или 5."
   ]
  },
  {
   "cell_type": "code",
   "execution_count": 48,
   "metadata": {
    "scrolled": true
   },
   "outputs": [
    {
     "name": "stdout",
     "output_type": "stream",
     "text": [
      "Всего клиентов в срезе: 2010\n",
      "Количество отточных клиентов в срезе: 654\n",
      "Количество лояльных клиентов в срезе: 1356\n",
      "Доля отточных клиентов в срезе: 32.54%\n",
      "Доля клиентов в срезе от общего числа клиентов банка: 20.15%\n"
     ]
    }
   ],
   "source": [
    "# Создадим выборку клиентов с кредитным скорингом от 840 до 900 c оценкой имущества 3, 4 или 5\n",
    "bank_clients_segment_2 = bank_clients.query('840 <= score <= 900 and equity == [3, 4, 5]')\n",
    "\n",
    "# Посчитаем параметры для проверки сегмента\n",
    "query_info(bank_clients_segment_2)"
   ]
  },
  {
   "cell_type": "markdown",
   "metadata": {},
   "source": [
    "Полученый сегмент соответсвтует требованиям. Доля отточных клиентов в этом сегменте: 32.54%."
   ]
  },
  {
   "cell_type": "markdown",
   "metadata": {},
   "source": [
    "### Сегмент 3\n",
    "**Описание сегмента:** клиенты-мужчины в возрасте от 25 до 35 лет."
   ]
  },
  {
   "cell_type": "code",
   "execution_count": 49,
   "metadata": {},
   "outputs": [
    {
     "name": "stdout",
     "output_type": "stream",
     "text": [
      "Всего клиентов в срезе: 1780\n",
      "Количество отточных клиентов в срезе: 454\n",
      "Количество лояльных клиентов в срезе: 1326\n",
      "Доля отточных клиентов в срезе: 25.51%\n",
      "Доля клиентов в срезе от общего числа клиентов банка: 17.85%\n"
     ]
    }
   ],
   "source": [
    "# Создадим выборку клиентов-мужчин в возрасте от 25 до 35 лет\n",
    "bank_clients_segment_3 = bank_clients.query('gender == \"М\" and 25 <= age <= 35')\n",
    "\n",
    "# Посчитаем параметры для проверки сегмента\n",
    "query_info(bank_clients_segment_3)"
   ]
  },
  {
   "cell_type": "markdown",
   "metadata": {},
   "source": [
    "Полученый сегмент соответсвтует требованиям. Доля отточных клиентов в этом сегменте: 25.51%."
   ]
  },
  {
   "cell_type": "markdown",
   "metadata": {},
   "source": [
    "### Визуализация сегментов\n",
    "Визуализиурем все сегменты на одном графике. Для начала, создадим датафрейм, объединяющий информацию обо всех сегментах."
   ]
  },
  {
   "cell_type": "code",
   "execution_count": 50,
   "metadata": {},
   "outputs": [
    {
     "data": {
      "text/html": [
       "<div>\n",
       "<style scoped>\n",
       "    .dataframe tbody tr th:only-of-type {\n",
       "        vertical-align: middle;\n",
       "    }\n",
       "\n",
       "    .dataframe tbody tr th {\n",
       "        vertical-align: top;\n",
       "    }\n",
       "\n",
       "    .dataframe thead th {\n",
       "        text-align: right;\n",
       "    }\n",
       "</style>\n",
       "<table border=\"1\" class=\"dataframe\">\n",
       "  <thead>\n",
       "    <tr style=\"text-align: right;\">\n",
       "      <th></th>\n",
       "      <th>segment</th>\n",
       "      <th>total</th>\n",
       "      <th>churn</th>\n",
       "      <th>loyal</th>\n",
       "      <th>churn_ratio</th>\n",
       "      <th>total_ratio</th>\n",
       "    </tr>\n",
       "  </thead>\n",
       "  <tbody>\n",
       "    <tr>\n",
       "      <th>0</th>\n",
       "      <td>Сегмент 1</td>\n",
       "      <td>820</td>\n",
       "      <td>265</td>\n",
       "      <td>555</td>\n",
       "      <td>32.32</td>\n",
       "      <td>8.22</td>\n",
       "    </tr>\n",
       "    <tr>\n",
       "      <th>1</th>\n",
       "      <td>Сегмент 2</td>\n",
       "      <td>2010</td>\n",
       "      <td>654</td>\n",
       "      <td>1356</td>\n",
       "      <td>32.54</td>\n",
       "      <td>20.15</td>\n",
       "    </tr>\n",
       "    <tr>\n",
       "      <th>2</th>\n",
       "      <td>Сегмент 3</td>\n",
       "      <td>1780</td>\n",
       "      <td>454</td>\n",
       "      <td>1326</td>\n",
       "      <td>25.51</td>\n",
       "      <td>17.85</td>\n",
       "    </tr>\n",
       "  </tbody>\n",
       "</table>\n",
       "</div>"
      ],
      "text/plain": [
       "     segment  total  churn  loyal  churn_ratio  total_ratio\n",
       "0  Сегмент 1    820    265    555        32.32         8.22\n",
       "1  Сегмент 2   2010    654   1356        32.54        20.15\n",
       "2  Сегмент 3   1780    454   1326        25.51        17.85"
      ]
     },
     "metadata": {},
     "output_type": "display_data"
    },
    {
     "data": {
      "image/png": "[encoded data removed]",
      "text/plain": [
       "<Figure size 720x504 with 1 Axes>"
      ]
     },
     "metadata": {
      "needs_background": "light"
     },
     "output_type": "display_data"
    },
    {
     "data": {
      "image/png": "[encoded data removed]",
      "text/plain": [
       "<Figure size 720x504 with 1 Axes>"
      ]
     },
     "metadata": {
      "needs_background": "light"
     },
     "output_type": "display_data"
    }
   ],
   "source": [
    "# Создадим общий датафрейм с информацией по сегментам\n",
    "data = {'segment': ['Сегмент 1', 'Сегмент 2', 'Сегмент 3'],\n",
    "        'total': [bank_clients_segment_1['churn'].count(),\n",
    "                  bank_clients_segment_2['churn'].count(),\n",
    "                  bank_clients_segment_3['churn'].count()],\n",
    "        'churn': [bank_clients_segment_1['churn'].sum(),\n",
    "                  bank_clients_segment_2['churn'].sum(),\n",
    "                  bank_clients_segment_3['churn'].sum()],\n",
    "        'loyal': [bank_clients_segment_1['churn'].count() - bank_clients_segment_1['churn'].sum(),\n",
    "                  bank_clients_segment_2['churn'].count() - bank_clients_segment_2['churn'].sum(),\n",
    "                  bank_clients_segment_3['churn'].count() - bank_clients_segment_3['churn'].sum()],\n",
    "        'churn_ratio': [round(bank_clients_segment_1['churn'].sum() / bank_clients_segment_1['churn'].count() * 100, 2),\n",
    "                                   round(bank_clients_segment_2['churn'].sum() / bank_clients_segment_2['churn'].count() * 100, 2),\n",
    "                                   round(bank_clients_segment_3['churn'].sum() / bank_clients_segment_3['churn'].count() * 100, 2)],\n",
    "        'total_ratio': [round(bank_clients_segment_1['churn'].count() / bank_clients['churn'].count() * 100, 2),\n",
    "                                                                    round(bank_clients_segment_2['churn'].count() / bank_clients['churn'].count() * 100, 2),\n",
    "                                                                    round(bank_clients_segment_3['churn'].count() / bank_clients['churn'].count() * 100, 2)]}\n",
    "df = pd.DataFrame(data)\n",
    "display(df)\n",
    "\n",
    "# Построим диаграмму с общим количеством клиентов в сегменте, числом отточных и лояльных клиентов\n",
    "df.plot(x='segment', y=['total', 'churn', 'loyal'], kind='bar', figsize=(10, 7))\n",
    "plt.title(f\"Количество клиентов в сегментах\")\n",
    "plt.ylabel(f\"Количество клиентов\")\n",
    "plt.xlabel(f\"Сегменты\")\n",
    "plt.xticks(rotation=30)\n",
    "plt.legend()\n",
    "plt.grid()\n",
    "plt.show()\n",
    "\n",
    "# Построим диаграмму с долей отточных клиентов, проведем линию среднего уровня оттока по всему банку\n",
    "df.plot(x='segment', y='churn_ratio', kind='bar', figsize=(10, 7))\n",
    "plt.axhline(y=bank_clients['churn'].mean()*100, color='red', linestyle='--')\n",
    "plt.title(f\"Доля отточных клиентов\")\n",
    "plt.ylabel(f\"Процент отточных клиентов, %\")\n",
    "plt.xlabel(f\"Сегменты\")\n",
    "plt.xticks(rotation=30)\n",
    "plt.grid()\n",
    "plt.show()"
   ]
  },
  {
   "cell_type": "markdown",
   "metadata": {},
   "source": [
    "Таким образом, Сегмент 2 оказался самым большим по объему и с самым высоким уровнем оттока. Самым меньшим оказался Сегемент 1, а уровень оттока меньше всего у Сегмента 3."
   ]
  },
  {
   "cell_type": "markdown",
   "metadata": {},
   "source": [
    "<div class=\"alert alert-success\">\n",
    "<b>Комментарий ревьюера:</b>☀️Все супер, задача выполнена! Молодец :) Отдельное спасибо за визуализацию.</div>"
   ]
  },
  {
   "cell_type": "markdown",
   "metadata": {},
   "source": [
    "## Вывод и рекомендации"
   ]
  },
  {
   "cell_type": "markdown",
   "metadata": {},
   "source": [
    "В рамках проекта был проведен анализ данных клиентов \"Метанпромбанка\".\n",
    "\n",
    "В первую очерель была выполнена предобработка данных, в ходе которой были переименованы столбцы, изменены типы данных в столбцах, обработаны пропуски и дубликаты, исследованы аномалии и добавлены дополнительные столбцы для дальнейшего исследования.\n",
    "\n",
    "После провели исследовательский анализ влияния метрик на отток клиентов и получили список параметров с наибольшим уровнем оттока, которые позже использовали при сегментировании. Провели корреляционный анализ всех метрик с оттоком `churn`.\n",
    "\n",
    "Следующим этапом провели статистический анализ, проверив две гипотезы:\n",
    "- Гипотеза различия дохода между теми клиентами, которые ушли и теми, которые остались.\n",
    "- Гипотеза различия возраста отточных и лояльных клиентов-мужчин.\n",
    "\n",
    "В результате t-тестов обе нулевые гипотезы отвергнуты не были. Различия в доходах между клиентами, которые ушли (отточные) и клиентами, которые остались (лояльные) не имеют статистической значимости, как и возраст отточных и лояльных клиентов-мужчин. Он примерно одинаковый, различия не имеют статистической значимости.\n",
    "\n",
    "Последним шагом мы выбрали признаки для сегментации отточных пользователей, на основе которых сформировали сегменты:\n",
    "- Сегмент 1: клиенты без кредитной карты с количеством продуктов банка от 3 до 5.\n",
    "- Сегмент 2: клиенты с кредитным скорингом от 840 до 900 c оценкой имущества 3, 4 или 5.\n",
    "- Сегмент 3: клиенты-мужчины в возрасте от 25 до 35 лет.\n",
    "\n",
    "Сегмент 2 оказался самым большим по объему и с самым высоким уровнем оттока (32.52%). Самым меньшим оказался Сегемент 1 (820 чел.), а уровень оттока меньше всего у Сегмента 3 (25.51%).\n",
    "\n",
    "**Рекомендации по работе с сегментами:**\n",
    "1. Для первого сегмента: предложить завести кредитную карту банка с увеличенным беспроцентным периодом.\n",
    "2. Для второго сегмента: предложить кредитные продукты или продукты страхования собственности, чтобы удержать их в банке.\n",
    "3. Для третьего сегмента: в этом сегменте преимущественно молодые люди, поэтому можно предложить им категории кэшбэка, покупки в которых совершает клиент, также предложить выгодные условия по ипотеке или автокредиту."
   ]
  },
  {
   "cell_type": "markdown",
   "metadata": {},
   "source": [
    "<div class=\"alert alert-warning\">\n",
    "<b>Комментарий ревьюера:</b>☀️Дарья, спасибо тебе за содержательный общий вывод и в целом за весь проект. Все получилось отлично, ты хорошо справилась с задачей, осталось только подправить графики. Отправляю тебе проект, чтобы ты ознакомилась с моими комментариями и оставила свои. Молодец! </div>"
   ]
  },
  {
   "cell_type": "markdown",
   "metadata": {},
   "source": [
    "<div class=\"alert alert-info\"> \n",
    "<b>Комментарий студента:</b> Большое спасибо за ревью! Все ошибки исправила, в презентацию графики вставила новые, с подписями.\n",
    "\n",
    "</div>"
   ]
  },
  {
   "cell_type": "markdown",
   "metadata": {},
   "source": [
    "\n",
    "<div class=\"alert alert-success\">\n",
    "<b>Комментарий ревьюера v2.0:</b>☀️Дарья, спасибо за правки и исправления, внесенные в проект. Сейчас все принято :) Поздравляю тебя ! Желаю успехов на поприще аналитики!</div>"
   ]
  }
 ],
 "metadata": {
  "ExecuteTimeLog": [
   {
    "duration": 931,
    "start_time": "2024-12-03T08:46:28.477Z"
   },
   {
    "duration": 112,
    "start_time": "2024-12-03T08:46:29.410Z"
   },
   {
    "duration": 0,
    "start_time": "2024-12-03T08:46:29.525Z"
   },
   {
    "duration": 0,
    "start_time": "2024-12-03T08:46:29.526Z"
   },
   {
    "duration": 0,
    "start_time": "2024-12-03T08:46:29.528Z"
   },
   {
    "duration": 0,
    "start_time": "2024-12-03T08:46:29.530Z"
   },
   {
    "duration": 0,
    "start_time": "2024-12-03T08:46:29.532Z"
   },
   {
    "duration": 0,
    "start_time": "2024-12-03T08:46:29.533Z"
   },
   {
    "duration": 110,
    "start_time": "2024-12-03T08:47:01.475Z"
   },
   {
    "duration": 669,
    "start_time": "2024-12-03T08:47:07.110Z"
   },
   {
    "duration": 47,
    "start_time": "2024-12-03T08:47:07.782Z"
   },
   {
    "duration": 9,
    "start_time": "2024-12-03T08:47:07.831Z"
   },
   {
    "duration": 111,
    "start_time": "2024-12-03T08:47:07.841Z"
   },
   {
    "duration": 5,
    "start_time": "2024-12-03T08:47:07.954Z"
   },
   {
    "duration": 55,
    "start_time": "2024-12-03T08:47:07.960Z"
   },
   {
    "duration": 50,
    "start_time": "2024-12-03T08:47:08.017Z"
   },
   {
    "duration": 27,
    "start_time": "2024-12-03T08:47:08.069Z"
   },
   {
    "duration": 643,
    "start_time": "2024-12-03T08:52:04.227Z"
   },
   {
    "duration": 48,
    "start_time": "2024-12-03T08:52:04.873Z"
   },
   {
    "duration": 4,
    "start_time": "2024-12-03T08:52:04.922Z"
   },
   {
    "duration": 67,
    "start_time": "2024-12-03T08:52:04.928Z"
   },
   {
    "duration": 4,
    "start_time": "2024-12-03T08:52:04.998Z"
   },
   {
    "duration": 29,
    "start_time": "2024-12-03T08:52:05.004Z"
   },
   {
    "duration": 5,
    "start_time": "2024-12-03T08:52:05.035Z"
   },
   {
    "duration": 13,
    "start_time": "2024-12-03T08:52:05.042Z"
   },
   {
    "duration": 8,
    "start_time": "2024-12-03T09:02:18.894Z"
   },
   {
    "duration": 8,
    "start_time": "2024-12-03T09:03:04.874Z"
   },
   {
    "duration": 6,
    "start_time": "2024-12-03T09:03:54.005Z"
   },
   {
    "duration": 76,
    "start_time": "2024-12-03T09:05:24.453Z"
   },
   {
    "duration": 37,
    "start_time": "2024-12-03T09:11:24.847Z"
   },
   {
    "duration": 41,
    "start_time": "2024-12-03T09:25:15.580Z"
   },
   {
    "duration": 73,
    "start_time": "2024-12-03T09:36:17.020Z"
   },
   {
    "duration": 5,
    "start_time": "2024-12-03T09:36:19.674Z"
   },
   {
    "duration": 29,
    "start_time": "2024-12-03T09:36:22.842Z"
   },
   {
    "duration": 9,
    "start_time": "2024-12-03T09:58:23.005Z"
   },
   {
    "duration": 14,
    "start_time": "2024-12-03T09:58:44.656Z"
   },
   {
    "duration": 14,
    "start_time": "2024-12-03T10:05:37.531Z"
   },
   {
    "duration": 7,
    "start_time": "2024-12-03T10:06:09.611Z"
   },
   {
    "duration": 10,
    "start_time": "2024-12-03T10:06:29.560Z"
   },
   {
    "duration": 86,
    "start_time": "2024-12-03T10:08:54.726Z"
   },
   {
    "duration": 246,
    "start_time": "2024-12-03T10:09:03.416Z"
   },
   {
    "duration": 14,
    "start_time": "2024-12-03T10:09:15.182Z"
   },
   {
    "duration": 15,
    "start_time": "2024-12-03T10:09:39.575Z"
   },
   {
    "duration": 7,
    "start_time": "2024-12-03T10:25:39.013Z"
   },
   {
    "duration": 15,
    "start_time": "2024-12-03T10:25:56.882Z"
   },
   {
    "duration": 88,
    "start_time": "2024-12-03T10:26:20.635Z"
   },
   {
    "duration": 9,
    "start_time": "2024-12-03T10:26:29.030Z"
   },
   {
    "duration": 10,
    "start_time": "2024-12-03T10:26:44.166Z"
   },
   {
    "duration": 5,
    "start_time": "2024-12-03T10:27:00.667Z"
   },
   {
    "duration": 8,
    "start_time": "2024-12-03T10:27:02.332Z"
   },
   {
    "duration": 647,
    "start_time": "2024-12-03T10:27:11.417Z"
   },
   {
    "duration": 47,
    "start_time": "2024-12-03T10:27:12.066Z"
   },
   {
    "duration": 3,
    "start_time": "2024-12-03T10:27:12.114Z"
   },
   {
    "duration": 69,
    "start_time": "2024-12-03T10:27:12.119Z"
   },
   {
    "duration": 9,
    "start_time": "2024-12-03T10:27:12.189Z"
   },
   {
    "duration": 17,
    "start_time": "2024-12-03T10:27:12.199Z"
   },
   {
    "duration": 4,
    "start_time": "2024-12-03T10:27:12.218Z"
   },
   {
    "duration": 17,
    "start_time": "2024-12-03T10:27:12.223Z"
   },
   {
    "duration": 7,
    "start_time": "2024-12-03T10:27:12.242Z"
   },
   {
    "duration": 47,
    "start_time": "2024-12-03T10:27:12.252Z"
   },
   {
    "duration": 4,
    "start_time": "2024-12-03T10:27:12.300Z"
   },
   {
    "duration": 48,
    "start_time": "2024-12-03T10:27:12.305Z"
   },
   {
    "duration": 14,
    "start_time": "2024-12-03T10:27:12.355Z"
   },
   {
    "duration": 21,
    "start_time": "2024-12-03T10:27:12.371Z"
   },
   {
    "duration": 21,
    "start_time": "2024-12-03T10:27:12.394Z"
   },
   {
    "duration": 696,
    "start_time": "2024-12-03T10:28:14.887Z"
   },
   {
    "duration": 51,
    "start_time": "2024-12-03T10:28:15.585Z"
   },
   {
    "duration": 11,
    "start_time": "2024-12-03T10:28:15.637Z"
   },
   {
    "duration": 98,
    "start_time": "2024-12-03T10:28:15.650Z"
   },
   {
    "duration": 6,
    "start_time": "2024-12-03T10:28:15.750Z"
   },
   {
    "duration": 5,
    "start_time": "2024-12-03T10:28:15.758Z"
   },
   {
    "duration": 49,
    "start_time": "2024-12-03T10:28:15.765Z"
   },
   {
    "duration": 21,
    "start_time": "2024-12-03T10:28:15.816Z"
   },
   {
    "duration": 12,
    "start_time": "2024-12-03T10:28:15.839Z"
   },
   {
    "duration": 41,
    "start_time": "2024-12-03T10:28:15.852Z"
   },
   {
    "duration": 4,
    "start_time": "2024-12-03T10:28:15.894Z"
   },
   {
    "duration": 73,
    "start_time": "2024-12-03T10:28:15.899Z"
   },
   {
    "duration": 16,
    "start_time": "2024-12-03T10:28:15.973Z"
   },
   {
    "duration": 12,
    "start_time": "2024-12-03T10:28:15.991Z"
   },
   {
    "duration": 8,
    "start_time": "2024-12-03T10:28:16.005Z"
   },
   {
    "duration": 9,
    "start_time": "2024-12-03T10:28:50.994Z"
   },
   {
    "duration": 1198,
    "start_time": "2024-12-03T10:30:05.324Z"
   },
   {
    "duration": 48,
    "start_time": "2024-12-03T10:30:06.524Z"
   },
   {
    "duration": 3,
    "start_time": "2024-12-03T10:30:06.573Z"
   },
   {
    "duration": 103,
    "start_time": "2024-12-03T10:30:06.578Z"
   },
   {
    "duration": 5,
    "start_time": "2024-12-03T10:30:06.683Z"
   },
   {
    "duration": 35,
    "start_time": "2024-12-03T10:30:06.690Z"
   },
   {
    "duration": 16,
    "start_time": "2024-12-03T10:30:06.727Z"
   },
   {
    "duration": 11,
    "start_time": "2024-12-03T10:30:06.745Z"
   },
   {
    "duration": 6,
    "start_time": "2024-12-03T10:30:06.758Z"
   },
   {
    "duration": 53,
    "start_time": "2024-12-03T10:30:06.766Z"
   },
   {
    "duration": 57,
    "start_time": "2024-12-03T10:30:06.821Z"
   },
   {
    "duration": 56,
    "start_time": "2024-12-03T10:30:06.880Z"
   },
   {
    "duration": 18,
    "start_time": "2024-12-03T10:30:06.938Z"
   },
   {
    "duration": 6,
    "start_time": "2024-12-03T10:30:06.958Z"
   },
   {
    "duration": 13,
    "start_time": "2024-12-03T10:30:06.966Z"
   },
   {
    "duration": 628,
    "start_time": "2024-12-03T10:30:25.647Z"
   },
   {
    "duration": 48,
    "start_time": "2024-12-03T10:30:26.277Z"
   },
   {
    "duration": 4,
    "start_time": "2024-12-03T10:30:26.327Z"
   },
   {
    "duration": 88,
    "start_time": "2024-12-03T10:30:26.333Z"
   },
   {
    "duration": 6,
    "start_time": "2024-12-03T10:30:26.423Z"
   },
   {
    "duration": 13,
    "start_time": "2024-12-03T10:30:26.432Z"
   },
   {
    "duration": 5,
    "start_time": "2024-12-03T10:30:26.447Z"
   },
   {
    "duration": 31,
    "start_time": "2024-12-03T10:30:26.453Z"
   },
   {
    "duration": 39,
    "start_time": "2024-12-03T10:30:26.485Z"
   },
   {
    "duration": 59,
    "start_time": "2024-12-03T10:30:26.526Z"
   },
   {
    "duration": 4,
    "start_time": "2024-12-03T10:30:26.586Z"
   },
   {
    "duration": 45,
    "start_time": "2024-12-03T10:30:26.591Z"
   },
   {
    "duration": 15,
    "start_time": "2024-12-03T10:30:26.637Z"
   },
   {
    "duration": 15,
    "start_time": "2024-12-03T10:30:26.654Z"
   },
   {
    "duration": 5,
    "start_time": "2024-12-03T10:30:26.670Z"
   },
   {
    "duration": 30,
    "start_time": "2024-12-03T10:30:26.676Z"
   },
   {
    "duration": 662,
    "start_time": "2024-12-03T10:32:30.808Z"
   },
   {
    "duration": 49,
    "start_time": "2024-12-03T10:32:31.472Z"
   },
   {
    "duration": 4,
    "start_time": "2024-12-03T10:32:31.522Z"
   },
   {
    "duration": 92,
    "start_time": "2024-12-03T10:32:31.527Z"
   },
   {
    "duration": 5,
    "start_time": "2024-12-03T10:32:31.622Z"
   },
   {
    "duration": 45,
    "start_time": "2024-12-03T10:32:31.629Z"
   },
   {
    "duration": 5,
    "start_time": "2024-12-03T10:32:31.676Z"
   },
   {
    "duration": 84,
    "start_time": "2024-12-03T10:32:31.683Z"
   },
   {
    "duration": 36,
    "start_time": "2024-12-03T10:32:31.768Z"
   },
   {
    "duration": 93,
    "start_time": "2024-12-03T10:32:31.806Z"
   },
   {
    "duration": 4,
    "start_time": "2024-12-03T10:32:31.901Z"
   },
   {
    "duration": 49,
    "start_time": "2024-12-03T10:32:31.906Z"
   },
   {
    "duration": 22,
    "start_time": "2024-12-03T10:32:31.957Z"
   },
   {
    "duration": 24,
    "start_time": "2024-12-03T10:32:31.981Z"
   },
   {
    "duration": 24,
    "start_time": "2024-12-03T10:32:32.006Z"
   },
   {
    "duration": 26,
    "start_time": "2024-12-03T10:32:32.031Z"
   },
   {
    "duration": 736,
    "start_time": "2024-12-03T10:33:03.923Z"
   },
   {
    "duration": 49,
    "start_time": "2024-12-03T10:33:04.660Z"
   },
   {
    "duration": 4,
    "start_time": "2024-12-03T10:33:04.710Z"
   },
   {
    "duration": 87,
    "start_time": "2024-12-03T10:33:04.716Z"
   },
   {
    "duration": 5,
    "start_time": "2024-12-03T10:33:04.804Z"
   },
   {
    "duration": 19,
    "start_time": "2024-12-03T10:33:04.811Z"
   },
   {
    "duration": 26,
    "start_time": "2024-12-03T10:33:04.832Z"
   },
   {
    "duration": 9,
    "start_time": "2024-12-03T10:33:04.859Z"
   },
   {
    "duration": 6,
    "start_time": "2024-12-03T10:33:04.869Z"
   },
   {
    "duration": 49,
    "start_time": "2024-12-03T10:33:04.878Z"
   },
   {
    "duration": 4,
    "start_time": "2024-12-03T10:33:04.928Z"
   },
   {
    "duration": 32,
    "start_time": "2024-12-03T10:33:04.933Z"
   },
   {
    "duration": 36,
    "start_time": "2024-12-03T10:33:04.966Z"
   },
   {
    "duration": 34,
    "start_time": "2024-12-03T10:33:05.003Z"
   },
   {
    "duration": 5,
    "start_time": "2024-12-03T10:33:05.039Z"
   },
   {
    "duration": 35,
    "start_time": "2024-12-03T10:33:05.045Z"
   },
   {
    "duration": 4,
    "start_time": "2024-12-03T10:33:17.060Z"
   },
   {
    "duration": 693,
    "start_time": "2024-12-03T10:33:21.590Z"
   },
   {
    "duration": 48,
    "start_time": "2024-12-03T10:33:22.285Z"
   },
   {
    "duration": 4,
    "start_time": "2024-12-03T10:33:22.334Z"
   },
   {
    "duration": 75,
    "start_time": "2024-12-03T10:33:22.339Z"
   },
   {
    "duration": 5,
    "start_time": "2024-12-03T10:33:22.417Z"
   },
   {
    "duration": 16,
    "start_time": "2024-12-03T10:33:22.423Z"
   },
   {
    "duration": 18,
    "start_time": "2024-12-03T10:33:22.441Z"
   },
   {
    "duration": 9,
    "start_time": "2024-12-03T10:33:22.460Z"
   },
   {
    "duration": 9,
    "start_time": "2024-12-03T10:33:22.472Z"
   },
   {
    "duration": 60,
    "start_time": "2024-12-03T10:33:22.483Z"
   },
   {
    "duration": 13,
    "start_time": "2024-12-03T10:33:22.545Z"
   },
   {
    "duration": 44,
    "start_time": "2024-12-03T10:33:22.559Z"
   },
   {
    "duration": 16,
    "start_time": "2024-12-03T10:33:22.604Z"
   },
   {
    "duration": 54,
    "start_time": "2024-12-03T10:33:22.622Z"
   },
   {
    "duration": 17,
    "start_time": "2024-12-03T10:33:22.678Z"
   },
   {
    "duration": 44,
    "start_time": "2024-12-03T10:33:22.697Z"
   },
   {
    "duration": 649,
    "start_time": "2024-12-03T10:36:07.439Z"
   },
   {
    "duration": 48,
    "start_time": "2024-12-03T10:36:08.090Z"
   },
   {
    "duration": 3,
    "start_time": "2024-12-03T10:36:08.140Z"
   },
   {
    "duration": 83,
    "start_time": "2024-12-03T10:36:08.145Z"
   },
   {
    "duration": 5,
    "start_time": "2024-12-03T10:36:08.230Z"
   },
   {
    "duration": 21,
    "start_time": "2024-12-03T10:36:08.237Z"
   },
   {
    "duration": 13,
    "start_time": "2024-12-03T10:36:08.259Z"
   },
   {
    "duration": 7,
    "start_time": "2024-12-03T10:36:08.274Z"
   },
   {
    "duration": 8,
    "start_time": "2024-12-03T10:36:08.283Z"
   },
   {
    "duration": 45,
    "start_time": "2024-12-03T10:36:08.292Z"
   },
   {
    "duration": 5,
    "start_time": "2024-12-03T10:36:08.339Z"
   },
   {
    "duration": 35,
    "start_time": "2024-12-03T10:36:08.345Z"
   },
   {
    "duration": 22,
    "start_time": "2024-12-03T10:36:08.399Z"
   },
   {
    "duration": 39,
    "start_time": "2024-12-03T10:36:08.424Z"
   },
   {
    "duration": 17,
    "start_time": "2024-12-03T10:36:08.465Z"
   },
   {
    "duration": 48,
    "start_time": "2024-12-03T10:36:08.483Z"
   },
   {
    "duration": 14,
    "start_time": "2024-12-03T10:36:41.384Z"
   },
   {
    "duration": 4,
    "start_time": "2024-12-03T10:37:18.239Z"
   },
   {
    "duration": 57,
    "start_time": "2024-12-03T10:37:24.081Z"
   },
   {
    "duration": 1323,
    "start_time": "2024-12-03T10:37:29.163Z"
   },
   {
    "duration": 48,
    "start_time": "2024-12-03T10:37:30.489Z"
   },
   {
    "duration": 13,
    "start_time": "2024-12-03T10:37:30.540Z"
   },
   {
    "duration": 95,
    "start_time": "2024-12-03T10:37:30.555Z"
   },
   {
    "duration": 5,
    "start_time": "2024-12-03T10:37:30.652Z"
   },
   {
    "duration": 20,
    "start_time": "2024-12-03T10:37:30.659Z"
   },
   {
    "duration": 51,
    "start_time": "2024-12-03T10:37:30.680Z"
   },
   {
    "duration": 14,
    "start_time": "2024-12-03T10:37:30.733Z"
   },
   {
    "duration": 42,
    "start_time": "2024-12-03T10:37:30.749Z"
   },
   {
    "duration": 70,
    "start_time": "2024-12-03T10:37:30.793Z"
   },
   {
    "duration": 17,
    "start_time": "2024-12-03T10:37:30.864Z"
   },
   {
    "duration": 63,
    "start_time": "2024-12-03T10:37:30.882Z"
   },
   {
    "duration": 16,
    "start_time": "2024-12-03T10:37:30.947Z"
   },
   {
    "duration": 21,
    "start_time": "2024-12-03T10:37:30.964Z"
   },
   {
    "duration": 17,
    "start_time": "2024-12-03T10:37:30.987Z"
   },
   {
    "duration": 27,
    "start_time": "2024-12-03T10:37:31.006Z"
   },
   {
    "duration": 16,
    "start_time": "2024-12-03T10:37:56.030Z"
   },
   {
    "duration": 13,
    "start_time": "2024-12-03T10:38:02.238Z"
   },
   {
    "duration": 677,
    "start_time": "2024-12-03T10:38:11.576Z"
   },
   {
    "duration": 47,
    "start_time": "2024-12-03T10:38:12.255Z"
   },
   {
    "duration": 20,
    "start_time": "2024-12-03T10:38:12.304Z"
   },
   {
    "duration": 88,
    "start_time": "2024-12-03T10:38:12.326Z"
   },
   {
    "duration": 6,
    "start_time": "2024-12-03T10:38:12.417Z"
   },
   {
    "duration": 17,
    "start_time": "2024-12-03T10:38:12.424Z"
   },
   {
    "duration": 4,
    "start_time": "2024-12-03T10:38:12.443Z"
   },
   {
    "duration": 15,
    "start_time": "2024-12-03T10:38:12.449Z"
   },
   {
    "duration": 6,
    "start_time": "2024-12-03T10:38:12.465Z"
   },
   {
    "duration": 62,
    "start_time": "2024-12-03T10:38:12.472Z"
   },
   {
    "duration": 4,
    "start_time": "2024-12-03T10:38:12.536Z"
   },
   {
    "duration": 47,
    "start_time": "2024-12-03T10:38:12.541Z"
   },
   {
    "duration": 21,
    "start_time": "2024-12-03T10:38:12.589Z"
   },
   {
    "duration": 25,
    "start_time": "2024-12-03T10:38:12.612Z"
   },
   {
    "duration": 23,
    "start_time": "2024-12-03T10:38:12.639Z"
   },
   {
    "duration": 13,
    "start_time": "2024-12-03T10:38:12.663Z"
   },
   {
    "duration": 651,
    "start_time": "2024-12-03T10:38:38.352Z"
   },
   {
    "duration": 49,
    "start_time": "2024-12-03T10:38:39.005Z"
   },
   {
    "duration": 4,
    "start_time": "2024-12-03T10:38:39.055Z"
   },
   {
    "duration": 68,
    "start_time": "2024-12-03T10:38:39.060Z"
   },
   {
    "duration": 6,
    "start_time": "2024-12-03T10:38:39.130Z"
   },
   {
    "duration": 38,
    "start_time": "2024-12-03T10:38:39.138Z"
   },
   {
    "duration": 40,
    "start_time": "2024-12-03T10:38:39.177Z"
   },
   {
    "duration": 22,
    "start_time": "2024-12-03T10:38:39.219Z"
   },
   {
    "duration": 28,
    "start_time": "2024-12-03T10:38:39.244Z"
   },
   {
    "duration": 41,
    "start_time": "2024-12-03T10:38:39.274Z"
   },
   {
    "duration": 5,
    "start_time": "2024-12-03T10:38:39.316Z"
   },
   {
    "duration": 36,
    "start_time": "2024-12-03T10:38:39.322Z"
   },
   {
    "duration": 15,
    "start_time": "2024-12-03T10:38:39.359Z"
   },
   {
    "duration": 14,
    "start_time": "2024-12-03T10:38:39.397Z"
   },
   {
    "duration": 19,
    "start_time": "2024-12-03T10:38:39.412Z"
   },
   {
    "duration": 31,
    "start_time": "2024-12-03T10:38:39.433Z"
   },
   {
    "duration": 614,
    "start_time": "2024-12-03T10:38:52.852Z"
   },
   {
    "duration": 49,
    "start_time": "2024-12-03T10:38:53.468Z"
   },
   {
    "duration": 3,
    "start_time": "2024-12-03T10:38:53.518Z"
   },
   {
    "duration": 69,
    "start_time": "2024-12-03T10:38:53.524Z"
   },
   {
    "duration": 5,
    "start_time": "2024-12-03T10:38:53.598Z"
   },
   {
    "duration": 10,
    "start_time": "2024-12-03T10:38:53.604Z"
   },
   {
    "duration": 24,
    "start_time": "2024-12-03T10:38:53.615Z"
   },
   {
    "duration": 18,
    "start_time": "2024-12-03T10:38:53.641Z"
   },
   {
    "duration": 57,
    "start_time": "2024-12-03T10:38:53.660Z"
   },
   {
    "duration": 40,
    "start_time": "2024-12-03T10:38:53.719Z"
   },
   {
    "duration": 4,
    "start_time": "2024-12-03T10:38:53.760Z"
   },
   {
    "duration": 37,
    "start_time": "2024-12-03T10:38:53.765Z"
   },
   {
    "duration": 16,
    "start_time": "2024-12-03T10:38:53.803Z"
   },
   {
    "duration": 28,
    "start_time": "2024-12-03T10:38:53.820Z"
   },
   {
    "duration": 85,
    "start_time": "2024-12-03T10:38:53.850Z"
   },
   {
    "duration": 0,
    "start_time": "2024-12-03T10:38:53.937Z"
   },
   {
    "duration": 695,
    "start_time": "2024-12-03T10:39:20.169Z"
   },
   {
    "duration": 47,
    "start_time": "2024-12-03T10:39:20.866Z"
   },
   {
    "duration": 4,
    "start_time": "2024-12-03T10:39:20.914Z"
   },
   {
    "duration": 79,
    "start_time": "2024-12-03T10:39:20.919Z"
   },
   {
    "duration": 5,
    "start_time": "2024-12-03T10:39:21.000Z"
   },
   {
    "duration": 19,
    "start_time": "2024-12-03T10:39:21.007Z"
   },
   {
    "duration": 16,
    "start_time": "2024-12-03T10:39:21.028Z"
   },
   {
    "duration": 34,
    "start_time": "2024-12-03T10:39:21.046Z"
   },
   {
    "duration": 22,
    "start_time": "2024-12-03T10:39:21.082Z"
   },
   {
    "duration": 75,
    "start_time": "2024-12-03T10:39:21.106Z"
   },
   {
    "duration": 4,
    "start_time": "2024-12-03T10:39:21.183Z"
   },
   {
    "duration": 32,
    "start_time": "2024-12-03T10:39:21.189Z"
   },
   {
    "duration": 15,
    "start_time": "2024-12-03T10:39:21.223Z"
   },
   {
    "duration": 14,
    "start_time": "2024-12-03T10:39:21.241Z"
   },
   {
    "duration": 34,
    "start_time": "2024-12-03T10:39:21.257Z"
   },
   {
    "duration": 37,
    "start_time": "2024-12-03T10:39:21.292Z"
   },
   {
    "duration": 14,
    "start_time": "2024-12-03T10:39:42.035Z"
   },
   {
    "duration": 670,
    "start_time": "2024-12-03T10:48:22.317Z"
   },
   {
    "duration": 47,
    "start_time": "2024-12-03T10:48:22.989Z"
   },
   {
    "duration": 3,
    "start_time": "2024-12-03T10:48:23.038Z"
   },
   {
    "duration": 64,
    "start_time": "2024-12-03T10:48:23.043Z"
   },
   {
    "duration": 6,
    "start_time": "2024-12-03T10:48:23.110Z"
   },
   {
    "duration": 8,
    "start_time": "2024-12-03T10:48:23.117Z"
   },
   {
    "duration": 4,
    "start_time": "2024-12-03T10:48:23.126Z"
   },
   {
    "duration": 7,
    "start_time": "2024-12-03T10:48:23.131Z"
   },
   {
    "duration": 16,
    "start_time": "2024-12-03T10:48:23.139Z"
   },
   {
    "duration": 67,
    "start_time": "2024-12-03T10:48:23.157Z"
   },
   {
    "duration": 4,
    "start_time": "2024-12-03T10:48:23.225Z"
   },
   {
    "duration": 32,
    "start_time": "2024-12-03T10:48:23.230Z"
   },
   {
    "duration": 15,
    "start_time": "2024-12-03T10:48:23.263Z"
   },
   {
    "duration": 13,
    "start_time": "2024-12-03T10:48:23.297Z"
   },
   {
    "duration": 693,
    "start_time": "2024-12-03T10:49:37.939Z"
   },
   {
    "duration": 49,
    "start_time": "2024-12-03T10:49:38.634Z"
   },
   {
    "duration": 4,
    "start_time": "2024-12-03T10:49:38.685Z"
   },
   {
    "duration": 92,
    "start_time": "2024-12-03T10:49:38.692Z"
   },
   {
    "duration": 5,
    "start_time": "2024-12-03T10:49:38.786Z"
   },
   {
    "duration": 20,
    "start_time": "2024-12-03T10:49:38.793Z"
   },
   {
    "duration": 10,
    "start_time": "2024-12-03T10:49:38.815Z"
   },
   {
    "duration": 10,
    "start_time": "2024-12-03T10:49:38.826Z"
   },
   {
    "duration": 32,
    "start_time": "2024-12-03T10:49:38.837Z"
   },
   {
    "duration": 44,
    "start_time": "2024-12-03T10:49:38.871Z"
   },
   {
    "duration": 3,
    "start_time": "2024-12-03T10:49:38.917Z"
   },
   {
    "duration": 39,
    "start_time": "2024-12-03T10:49:38.922Z"
   },
   {
    "duration": 35,
    "start_time": "2024-12-03T10:49:38.963Z"
   },
   {
    "duration": 16,
    "start_time": "2024-12-03T10:49:38.999Z"
   },
   {
    "duration": 11,
    "start_time": "2024-12-03T10:49:39.016Z"
   },
   {
    "duration": 690,
    "start_time": "2024-12-03T10:50:10.563Z"
   },
   {
    "duration": 47,
    "start_time": "2024-12-03T10:50:11.255Z"
   },
   {
    "duration": 5,
    "start_time": "2024-12-03T10:50:11.304Z"
   },
   {
    "duration": 77,
    "start_time": "2024-12-03T10:50:11.311Z"
   },
   {
    "duration": 6,
    "start_time": "2024-12-03T10:50:11.398Z"
   },
   {
    "duration": 25,
    "start_time": "2024-12-03T10:50:11.406Z"
   },
   {
    "duration": 15,
    "start_time": "2024-12-03T10:50:11.432Z"
   },
   {
    "duration": 10,
    "start_time": "2024-12-03T10:50:11.449Z"
   },
   {
    "duration": 6,
    "start_time": "2024-12-03T10:50:11.460Z"
   },
   {
    "duration": 63,
    "start_time": "2024-12-03T10:50:11.468Z"
   },
   {
    "duration": 3,
    "start_time": "2024-12-03T10:50:11.533Z"
   },
   {
    "duration": 40,
    "start_time": "2024-12-03T10:50:11.538Z"
   },
   {
    "duration": 68,
    "start_time": "2024-12-03T10:50:11.580Z"
   },
   {
    "duration": 17,
    "start_time": "2024-12-03T10:50:11.651Z"
   },
   {
    "duration": 17,
    "start_time": "2024-12-03T10:50:11.670Z"
   },
   {
    "duration": 93,
    "start_time": "2024-12-03T10:52:06.068Z"
   },
   {
    "duration": 16,
    "start_time": "2024-12-03T10:52:13.785Z"
   },
   {
    "duration": 55,
    "start_time": "2024-12-03T10:52:29.464Z"
   },
   {
    "duration": 15,
    "start_time": "2024-12-03T10:54:11.493Z"
   },
   {
    "duration": 655,
    "start_time": "2024-12-03T10:54:20.399Z"
   },
   {
    "duration": 47,
    "start_time": "2024-12-03T10:54:21.056Z"
   },
   {
    "duration": 3,
    "start_time": "2024-12-03T10:54:21.105Z"
   },
   {
    "duration": 74,
    "start_time": "2024-12-03T10:54:21.110Z"
   },
   {
    "duration": 14,
    "start_time": "2024-12-03T10:54:21.186Z"
   },
   {
    "duration": 16,
    "start_time": "2024-12-03T10:54:21.201Z"
   },
   {
    "duration": 22,
    "start_time": "2024-12-03T10:54:21.219Z"
   },
   {
    "duration": 44,
    "start_time": "2024-12-03T10:54:21.243Z"
   },
   {
    "duration": 14,
    "start_time": "2024-12-03T10:54:21.289Z"
   },
   {
    "duration": 42,
    "start_time": "2024-12-03T10:54:21.305Z"
   },
   {
    "duration": 4,
    "start_time": "2024-12-03T10:54:21.349Z"
   },
   {
    "duration": 45,
    "start_time": "2024-12-03T10:54:21.354Z"
   },
   {
    "duration": 51,
    "start_time": "2024-12-03T10:54:21.401Z"
   },
   {
    "duration": 16,
    "start_time": "2024-12-03T10:54:21.453Z"
   },
   {
    "duration": 37,
    "start_time": "2024-12-03T10:54:21.471Z"
   },
   {
    "duration": 4,
    "start_time": "2024-12-03T10:54:21.510Z"
   },
   {
    "duration": 684,
    "start_time": "2024-12-03T11:02:04.585Z"
   },
   {
    "duration": 48,
    "start_time": "2024-12-03T11:02:05.271Z"
   },
   {
    "duration": 4,
    "start_time": "2024-12-03T11:02:05.321Z"
   },
   {
    "duration": 81,
    "start_time": "2024-12-03T11:02:05.327Z"
   },
   {
    "duration": 5,
    "start_time": "2024-12-03T11:02:05.410Z"
   },
   {
    "duration": 24,
    "start_time": "2024-12-03T11:02:05.416Z"
   },
   {
    "duration": 5,
    "start_time": "2024-12-03T11:02:05.441Z"
   },
   {
    "duration": 35,
    "start_time": "2024-12-03T11:02:05.447Z"
   },
   {
    "duration": 29,
    "start_time": "2024-12-03T11:02:05.484Z"
   },
   {
    "duration": 47,
    "start_time": "2024-12-03T11:02:05.515Z"
   },
   {
    "duration": 3,
    "start_time": "2024-12-03T11:02:05.564Z"
   },
   {
    "duration": 69,
    "start_time": "2024-12-03T11:02:05.569Z"
   },
   {
    "duration": 54,
    "start_time": "2024-12-03T11:02:05.640Z"
   },
   {
    "duration": 34,
    "start_time": "2024-12-03T11:02:05.697Z"
   },
   {
    "duration": 21,
    "start_time": "2024-12-03T11:02:05.732Z"
   },
   {
    "duration": 63,
    "start_time": "2024-12-03T11:02:05.755Z"
   },
   {
    "duration": 29,
    "start_time": "2024-12-03T11:02:05.820Z"
   },
   {
    "duration": 4,
    "start_time": "2024-12-03T11:02:05.851Z"
   },
   {
    "duration": 696,
    "start_time": "2024-12-03T11:11:44.203Z"
   },
   {
    "duration": 48,
    "start_time": "2024-12-03T11:11:44.901Z"
   },
   {
    "duration": 3,
    "start_time": "2024-12-03T11:11:44.951Z"
   },
   {
    "duration": 61,
    "start_time": "2024-12-03T11:11:44.956Z"
   },
   {
    "duration": 6,
    "start_time": "2024-12-03T11:11:45.018Z"
   },
   {
    "duration": 42,
    "start_time": "2024-12-03T11:11:45.026Z"
   },
   {
    "duration": 76,
    "start_time": "2024-12-03T11:11:45.069Z"
   },
   {
    "duration": 11,
    "start_time": "2024-12-03T11:11:45.147Z"
   },
   {
    "duration": 27,
    "start_time": "2024-12-03T11:11:45.160Z"
   },
   {
    "duration": 70,
    "start_time": "2024-12-03T11:11:45.190Z"
   },
   {
    "duration": 10,
    "start_time": "2024-12-03T11:11:45.262Z"
   },
   {
    "duration": 64,
    "start_time": "2024-12-03T11:11:45.274Z"
   },
   {
    "duration": 56,
    "start_time": "2024-12-03T11:11:45.339Z"
   },
   {
    "duration": 17,
    "start_time": "2024-12-03T11:11:45.396Z"
   },
   {
    "duration": 4,
    "start_time": "2024-12-03T11:11:45.415Z"
   },
   {
    "duration": 30,
    "start_time": "2024-12-03T11:11:45.421Z"
   },
   {
    "duration": 11,
    "start_time": "2024-12-03T11:11:45.453Z"
   },
   {
    "duration": 40,
    "start_time": "2024-12-03T11:11:45.465Z"
   },
   {
    "duration": 24,
    "start_time": "2024-12-03T11:12:14.807Z"
   },
   {
    "duration": 10,
    "start_time": "2024-12-03T11:13:20.379Z"
   },
   {
    "duration": 646,
    "start_time": "2024-12-03T11:18:17.701Z"
   },
   {
    "duration": 48,
    "start_time": "2024-12-03T11:18:18.348Z"
   },
   {
    "duration": 5,
    "start_time": "2024-12-03T11:18:18.406Z"
   },
   {
    "duration": 102,
    "start_time": "2024-12-03T11:18:18.414Z"
   },
   {
    "duration": 6,
    "start_time": "2024-12-03T11:18:18.518Z"
   },
   {
    "duration": 41,
    "start_time": "2024-12-03T11:18:18.525Z"
   },
   {
    "duration": 17,
    "start_time": "2024-12-03T11:18:18.568Z"
   },
   {
    "duration": 43,
    "start_time": "2024-12-03T11:18:18.587Z"
   },
   {
    "duration": 30,
    "start_time": "2024-12-03T11:18:18.632Z"
   },
   {
    "duration": 57,
    "start_time": "2024-12-03T11:18:18.665Z"
   },
   {
    "duration": 4,
    "start_time": "2024-12-03T11:18:18.724Z"
   },
   {
    "duration": 56,
    "start_time": "2024-12-03T11:18:18.729Z"
   },
   {
    "duration": 60,
    "start_time": "2024-12-03T11:18:18.787Z"
   },
   {
    "duration": 15,
    "start_time": "2024-12-03T11:18:18.849Z"
   },
   {
    "duration": 16,
    "start_time": "2024-12-03T11:18:18.866Z"
   },
   {
    "duration": 29,
    "start_time": "2024-12-03T11:18:18.885Z"
   },
   {
    "duration": 12,
    "start_time": "2024-12-03T11:18:18.916Z"
   },
   {
    "duration": 28,
    "start_time": "2024-12-03T11:18:18.930Z"
   },
   {
    "duration": 45,
    "start_time": "2024-12-04T06:29:07.936Z"
   },
   {
    "duration": 761,
    "start_time": "2024-12-04T06:29:13.091Z"
   },
   {
    "duration": 153,
    "start_time": "2024-12-04T06:29:13.854Z"
   },
   {
    "duration": 4,
    "start_time": "2024-12-04T06:29:14.008Z"
   },
   {
    "duration": 51,
    "start_time": "2024-12-04T06:29:14.014Z"
   },
   {
    "duration": 5,
    "start_time": "2024-12-04T06:29:14.066Z"
   },
   {
    "duration": 23,
    "start_time": "2024-12-04T06:29:14.072Z"
   },
   {
    "duration": 13,
    "start_time": "2024-12-04T06:29:14.096Z"
   },
   {
    "duration": 12,
    "start_time": "2024-12-04T06:29:14.110Z"
   },
   {
    "duration": 6,
    "start_time": "2024-12-04T06:29:14.123Z"
   },
   {
    "duration": 30,
    "start_time": "2024-12-04T06:29:14.131Z"
   },
   {
    "duration": 3,
    "start_time": "2024-12-04T06:29:14.163Z"
   },
   {
    "duration": 58,
    "start_time": "2024-12-04T06:29:14.167Z"
   },
   {
    "duration": 50,
    "start_time": "2024-12-04T06:29:14.226Z"
   },
   {
    "duration": 16,
    "start_time": "2024-12-04T06:29:14.277Z"
   },
   {
    "duration": 4,
    "start_time": "2024-12-04T06:29:14.295Z"
   },
   {
    "duration": 21,
    "start_time": "2024-12-04T06:29:14.300Z"
   },
   {
    "duration": 40,
    "start_time": "2024-12-04T06:29:14.322Z"
   },
   {
    "duration": 11,
    "start_time": "2024-12-04T06:29:14.364Z"
   },
   {
    "duration": 18,
    "start_time": "2024-12-04T06:29:14.376Z"
   },
   {
    "duration": 85,
    "start_time": "2024-12-04T06:31:12.379Z"
   },
   {
    "duration": 19,
    "start_time": "2024-12-04T06:31:48.481Z"
   },
   {
    "duration": 26,
    "start_time": "2024-12-04T06:31:59.950Z"
   },
   {
    "duration": 25,
    "start_time": "2024-12-04T06:35:55.905Z"
   },
   {
    "duration": 626,
    "start_time": "2024-12-04T06:36:08.036Z"
   },
   {
    "duration": 37,
    "start_time": "2024-12-04T06:36:08.663Z"
   },
   {
    "duration": 3,
    "start_time": "2024-12-04T06:36:08.702Z"
   },
   {
    "duration": 65,
    "start_time": "2024-12-04T06:36:08.706Z"
   },
   {
    "duration": 4,
    "start_time": "2024-12-04T06:36:08.773Z"
   },
   {
    "duration": 9,
    "start_time": "2024-12-04T06:36:08.778Z"
   },
   {
    "duration": 21,
    "start_time": "2024-12-04T06:36:08.788Z"
   },
   {
    "duration": 22,
    "start_time": "2024-12-04T06:36:08.810Z"
   },
   {
    "duration": 11,
    "start_time": "2024-12-04T06:36:08.834Z"
   },
   {
    "duration": 38,
    "start_time": "2024-12-04T06:36:08.847Z"
   },
   {
    "duration": 4,
    "start_time": "2024-12-04T06:36:08.886Z"
   },
   {
    "duration": 32,
    "start_time": "2024-12-04T06:36:08.891Z"
   },
   {
    "duration": 53,
    "start_time": "2024-12-04T06:36:08.924Z"
   },
   {
    "duration": 17,
    "start_time": "2024-12-04T06:36:08.978Z"
   },
   {
    "duration": 7,
    "start_time": "2024-12-04T06:36:08.997Z"
   },
   {
    "duration": 26,
    "start_time": "2024-12-04T06:36:09.006Z"
   },
   {
    "duration": 30,
    "start_time": "2024-12-04T06:36:09.033Z"
   },
   {
    "duration": 10,
    "start_time": "2024-12-04T06:36:09.064Z"
   },
   {
    "duration": 20,
    "start_time": "2024-12-04T06:36:09.075Z"
   },
   {
    "duration": 1381,
    "start_time": "2024-12-04T07:15:42.003Z"
   },
   {
    "duration": 38,
    "start_time": "2024-12-04T12:10:45.880Z"
   },
   {
    "duration": 5,
    "start_time": "2024-12-04T12:15:46.909Z"
   },
   {
    "duration": 11,
    "start_time": "2024-12-04T12:15:59.026Z"
   },
   {
    "duration": 618,
    "start_time": "2024-12-04T12:27:36.045Z"
   },
   {
    "duration": 40,
    "start_time": "2024-12-04T12:27:36.665Z"
   },
   {
    "duration": 3,
    "start_time": "2024-12-04T12:27:36.706Z"
   },
   {
    "duration": 88,
    "start_time": "2024-12-04T12:27:36.712Z"
   },
   {
    "duration": 5,
    "start_time": "2024-12-04T12:27:36.802Z"
   },
   {
    "duration": 18,
    "start_time": "2024-12-04T12:27:36.808Z"
   },
   {
    "duration": 11,
    "start_time": "2024-12-04T12:27:36.828Z"
   },
   {
    "duration": 33,
    "start_time": "2024-12-04T12:27:36.841Z"
   },
   {
    "duration": 35,
    "start_time": "2024-12-04T12:27:36.876Z"
   },
   {
    "duration": 64,
    "start_time": "2024-12-04T12:27:36.913Z"
   },
   {
    "duration": 4,
    "start_time": "2024-12-04T12:27:36.979Z"
   },
   {
    "duration": 32,
    "start_time": "2024-12-04T12:27:36.985Z"
   },
   {
    "duration": 46,
    "start_time": "2024-12-04T12:27:37.019Z"
   },
   {
    "duration": 27,
    "start_time": "2024-12-04T12:27:37.066Z"
   },
   {
    "duration": 3,
    "start_time": "2024-12-04T12:27:37.095Z"
   },
   {
    "duration": 30,
    "start_time": "2024-12-04T12:27:37.100Z"
   },
   {
    "duration": 15,
    "start_time": "2024-12-04T12:27:37.131Z"
   },
   {
    "duration": 10,
    "start_time": "2024-12-04T12:27:37.147Z"
   },
   {
    "duration": 22,
    "start_time": "2024-12-04T12:27:37.159Z"
   },
   {
    "duration": 4,
    "start_time": "2024-12-04T12:27:37.182Z"
   },
   {
    "duration": 29,
    "start_time": "2024-12-04T12:27:37.187Z"
   },
   {
    "duration": 70,
    "start_time": "2024-12-04T12:27:37.217Z"
   },
   {
    "duration": 16,
    "start_time": "2024-12-04T12:27:59.277Z"
   },
   {
    "duration": 11,
    "start_time": "2024-12-04T12:32:38.321Z"
   },
   {
    "duration": 581,
    "start_time": "2024-12-04T12:33:15.014Z"
   },
   {
    "duration": 40,
    "start_time": "2024-12-04T12:33:15.597Z"
   },
   {
    "duration": 4,
    "start_time": "2024-12-04T12:33:15.638Z"
   },
   {
    "duration": 72,
    "start_time": "2024-12-04T12:33:15.644Z"
   },
   {
    "duration": 5,
    "start_time": "2024-12-04T12:33:15.718Z"
   },
   {
    "duration": 7,
    "start_time": "2024-12-04T12:33:15.725Z"
   },
   {
    "duration": 26,
    "start_time": "2024-12-04T12:33:15.733Z"
   },
   {
    "duration": 5,
    "start_time": "2024-12-04T12:33:15.760Z"
   },
   {
    "duration": 5,
    "start_time": "2024-12-04T12:33:15.767Z"
   },
   {
    "duration": 31,
    "start_time": "2024-12-04T12:33:15.775Z"
   },
   {
    "duration": 3,
    "start_time": "2024-12-04T12:33:15.808Z"
   },
   {
    "duration": 51,
    "start_time": "2024-12-04T12:33:15.812Z"
   },
   {
    "duration": 53,
    "start_time": "2024-12-04T12:33:15.865Z"
   },
   {
    "duration": 13,
    "start_time": "2024-12-04T12:33:15.920Z"
   },
   {
    "duration": 23,
    "start_time": "2024-12-04T12:33:15.934Z"
   },
   {
    "duration": 23,
    "start_time": "2024-12-04T12:33:15.959Z"
   },
   {
    "duration": 10,
    "start_time": "2024-12-04T12:33:15.983Z"
   },
   {
    "duration": 12,
    "start_time": "2024-12-04T12:33:15.994Z"
   },
   {
    "duration": 12,
    "start_time": "2024-12-04T12:33:16.007Z"
   },
   {
    "duration": 4,
    "start_time": "2024-12-04T12:33:16.020Z"
   },
   {
    "duration": 20,
    "start_time": "2024-12-04T12:33:16.058Z"
   },
   {
    "duration": 3818,
    "start_time": "2024-12-04T12:33:16.080Z"
   },
   {
    "duration": 3875,
    "start_time": "2024-12-04T12:35:03.625Z"
   },
   {
    "duration": 3926,
    "start_time": "2024-12-04T12:38:28.918Z"
   },
   {
    "duration": 3868,
    "start_time": "2024-12-04T12:40:06.299Z"
   },
   {
    "duration": 4597,
    "start_time": "2024-12-04T12:41:39.838Z"
   },
   {
    "duration": 4591,
    "start_time": "2024-12-04T12:41:57.801Z"
   },
   {
    "duration": 3862,
    "start_time": "2024-12-04T12:43:02.647Z"
   },
   {
    "duration": 231,
    "start_time": "2024-12-04T12:45:33.658Z"
   },
   {
    "duration": 3707,
    "start_time": "2024-12-04T12:46:35.229Z"
   },
   {
    "duration": 170,
    "start_time": "2024-12-04T12:47:07.660Z"
   },
   {
    "duration": 3624,
    "start_time": "2024-12-04T12:48:16.948Z"
   },
   {
    "duration": 177,
    "start_time": "2024-12-04T12:48:46.776Z"
   },
   {
    "duration": 623,
    "start_time": "2024-12-04T12:50:10.043Z"
   },
   {
    "duration": 39,
    "start_time": "2024-12-04T12:50:10.668Z"
   },
   {
    "duration": 3,
    "start_time": "2024-12-04T12:50:10.709Z"
   },
   {
    "duration": 57,
    "start_time": "2024-12-04T12:50:10.713Z"
   },
   {
    "duration": 5,
    "start_time": "2024-12-04T12:50:10.771Z"
   },
   {
    "duration": 15,
    "start_time": "2024-12-04T12:50:10.777Z"
   },
   {
    "duration": 10,
    "start_time": "2024-12-04T12:50:10.794Z"
   },
   {
    "duration": 21,
    "start_time": "2024-12-04T12:50:10.805Z"
   },
   {
    "duration": 19,
    "start_time": "2024-12-04T12:50:10.828Z"
   },
   {
    "duration": 32,
    "start_time": "2024-12-04T12:50:10.850Z"
   },
   {
    "duration": 3,
    "start_time": "2024-12-04T12:50:10.884Z"
   },
   {
    "duration": 32,
    "start_time": "2024-12-04T12:50:10.889Z"
   },
   {
    "duration": 43,
    "start_time": "2024-12-04T12:50:10.923Z"
   },
   {
    "duration": 13,
    "start_time": "2024-12-04T12:50:10.968Z"
   },
   {
    "duration": 63,
    "start_time": "2024-12-04T12:50:10.982Z"
   },
   {
    "duration": 55,
    "start_time": "2024-12-04T12:50:11.046Z"
   },
   {
    "duration": 12,
    "start_time": "2024-12-04T12:50:11.102Z"
   },
   {
    "duration": 11,
    "start_time": "2024-12-04T12:50:11.115Z"
   },
   {
    "duration": 12,
    "start_time": "2024-12-04T12:50:11.127Z"
   },
   {
    "duration": 18,
    "start_time": "2024-12-04T12:50:11.140Z"
   },
   {
    "duration": 20,
    "start_time": "2024-12-04T12:50:11.160Z"
   },
   {
    "duration": 53,
    "start_time": "2024-12-04T12:50:11.181Z"
   },
   {
    "duration": 190,
    "start_time": "2024-12-04T12:50:11.258Z"
   },
   {
    "duration": 20,
    "start_time": "2024-12-04T12:50:56.636Z"
   },
   {
    "duration": 3,
    "start_time": "2024-12-04T12:52:00.269Z"
   },
   {
    "duration": 62,
    "start_time": "2024-12-04T12:52:05.734Z"
   },
   {
    "duration": 4,
    "start_time": "2024-12-04T12:52:21.667Z"
   },
   {
    "duration": 62,
    "start_time": "2024-12-04T12:52:26.589Z"
   },
   {
    "duration": 575,
    "start_time": "2024-12-04T12:52:36.589Z"
   },
   {
    "duration": 39,
    "start_time": "2024-12-04T12:52:37.165Z"
   },
   {
    "duration": 3,
    "start_time": "2024-12-04T12:52:37.206Z"
   },
   {
    "duration": 75,
    "start_time": "2024-12-04T12:52:37.210Z"
   },
   {
    "duration": 4,
    "start_time": "2024-12-04T12:52:37.287Z"
   },
   {
    "duration": 13,
    "start_time": "2024-12-04T12:52:37.292Z"
   },
   {
    "duration": 11,
    "start_time": "2024-12-04T12:52:37.306Z"
   },
   {
    "duration": 8,
    "start_time": "2024-12-04T12:52:37.318Z"
   },
   {
    "duration": 5,
    "start_time": "2024-12-04T12:52:37.327Z"
   },
   {
    "duration": 49,
    "start_time": "2024-12-04T12:52:37.335Z"
   },
   {
    "duration": 3,
    "start_time": "2024-12-04T12:52:37.386Z"
   },
   {
    "duration": 27,
    "start_time": "2024-12-04T12:52:37.390Z"
   },
   {
    "duration": 71,
    "start_time": "2024-12-04T12:52:37.418Z"
   },
   {
    "duration": 14,
    "start_time": "2024-12-04T12:52:37.490Z"
   },
   {
    "duration": 26,
    "start_time": "2024-12-04T12:52:37.506Z"
   },
   {
    "duration": 19,
    "start_time": "2024-12-04T12:52:37.533Z"
   },
   {
    "duration": 12,
    "start_time": "2024-12-04T12:52:37.553Z"
   },
   {
    "duration": 12,
    "start_time": "2024-12-04T12:52:37.566Z"
   },
   {
    "duration": 12,
    "start_time": "2024-12-04T12:52:37.580Z"
   },
   {
    "duration": 4,
    "start_time": "2024-12-04T12:52:37.593Z"
   },
   {
    "duration": 20,
    "start_time": "2024-12-04T12:52:37.599Z"
   },
   {
    "duration": 87,
    "start_time": "2024-12-04T12:52:37.621Z"
   },
   {
    "duration": 199,
    "start_time": "2024-12-04T12:52:37.710Z"
   },
   {
    "duration": 51,
    "start_time": "2024-12-04T12:53:39.969Z"
   },
   {
    "duration": 170,
    "start_time": "2024-12-04T12:53:44.627Z"
   },
   {
    "duration": 173,
    "start_time": "2024-12-04T12:54:09.642Z"
   },
   {
    "duration": 150,
    "start_time": "2024-12-04T12:54:43.111Z"
   },
   {
    "duration": 425,
    "start_time": "2024-12-04T12:55:51.164Z"
   },
   {
    "duration": 353,
    "start_time": "2024-12-04T12:56:16.194Z"
   },
   {
    "duration": 175,
    "start_time": "2024-12-04T12:58:55.796Z"
   },
   {
    "duration": 618,
    "start_time": "2024-12-04T13:01:07.531Z"
   },
   {
    "duration": 219,
    "start_time": "2024-12-04T13:01:36.929Z"
   },
   {
    "duration": 149,
    "start_time": "2024-12-04T13:03:36.668Z"
   },
   {
    "duration": 125,
    "start_time": "2024-12-04T13:03:50.347Z"
   },
   {
    "duration": 143,
    "start_time": "2024-12-04T13:04:30.992Z"
   },
   {
    "duration": 173,
    "start_time": "2024-12-04T13:08:37.857Z"
   },
   {
    "duration": 180,
    "start_time": "2024-12-04T13:10:31.704Z"
   },
   {
    "duration": 175,
    "start_time": "2024-12-04T13:10:39.468Z"
   },
   {
    "duration": 3986,
    "start_time": "2024-12-04T13:11:52.836Z"
   },
   {
    "duration": 184,
    "start_time": "2024-12-04T13:15:12.479Z"
   },
   {
    "duration": 118,
    "start_time": "2024-12-04T13:16:42.887Z"
   },
   {
    "duration": 3605,
    "start_time": "2024-12-04T13:16:55.626Z"
   },
   {
    "duration": 3632,
    "start_time": "2024-12-04T13:20:17.477Z"
   },
   {
    "duration": 1047,
    "start_time": "2024-12-04T13:23:57.113Z"
   },
   {
    "duration": 40,
    "start_time": "2024-12-04T13:23:58.161Z"
   },
   {
    "duration": 3,
    "start_time": "2024-12-04T13:23:58.202Z"
   },
   {
    "duration": 58,
    "start_time": "2024-12-04T13:23:58.207Z"
   },
   {
    "duration": 5,
    "start_time": "2024-12-04T13:23:58.267Z"
   },
   {
    "duration": 43,
    "start_time": "2024-12-04T13:23:58.274Z"
   },
   {
    "duration": 28,
    "start_time": "2024-12-04T13:23:58.320Z"
   },
   {
    "duration": 7,
    "start_time": "2024-12-04T13:23:58.351Z"
   },
   {
    "duration": 12,
    "start_time": "2024-12-04T13:23:58.363Z"
   },
   {
    "duration": 44,
    "start_time": "2024-12-04T13:23:58.377Z"
   },
   {
    "duration": 8,
    "start_time": "2024-12-04T13:23:58.424Z"
   },
   {
    "duration": 44,
    "start_time": "2024-12-04T13:23:58.434Z"
   },
   {
    "duration": 43,
    "start_time": "2024-12-04T13:23:58.480Z"
   },
   {
    "duration": 28,
    "start_time": "2024-12-04T13:23:58.525Z"
   },
   {
    "duration": 5,
    "start_time": "2024-12-04T13:23:58.554Z"
   },
   {
    "duration": 36,
    "start_time": "2024-12-04T13:23:58.560Z"
   },
   {
    "duration": 9,
    "start_time": "2024-12-04T13:23:58.597Z"
   },
   {
    "duration": 12,
    "start_time": "2024-12-04T13:23:58.608Z"
   },
   {
    "duration": 14,
    "start_time": "2024-12-04T13:23:58.621Z"
   },
   {
    "duration": 3,
    "start_time": "2024-12-04T13:23:58.636Z"
   },
   {
    "duration": 25,
    "start_time": "2024-12-04T13:23:58.640Z"
   },
   {
    "duration": 51,
    "start_time": "2024-12-04T13:23:58.667Z"
   },
   {
    "duration": 3914,
    "start_time": "2024-12-04T13:23:58.719Z"
   },
   {
    "duration": 14,
    "start_time": "2024-12-04T13:26:30.889Z"
   },
   {
    "duration": 309,
    "start_time": "2024-12-04T13:26:54.161Z"
   },
   {
    "duration": 161,
    "start_time": "2024-12-04T13:27:59.342Z"
   },
   {
    "duration": 328,
    "start_time": "2024-12-04T13:29:21.729Z"
   },
   {
    "duration": 606,
    "start_time": "2024-12-04T13:30:37.959Z"
   },
   {
    "duration": 12,
    "start_time": "2024-12-04T13:31:24.653Z"
   },
   {
    "duration": 145,
    "start_time": "2024-12-04T13:34:51.669Z"
   },
   {
    "duration": 161,
    "start_time": "2024-12-04T13:36:43.645Z"
   },
   {
    "duration": 201,
    "start_time": "2024-12-04T13:37:10.567Z"
   },
   {
    "duration": 123,
    "start_time": "2024-12-04T13:38:04.851Z"
   },
   {
    "duration": 124,
    "start_time": "2024-12-04T13:38:23.296Z"
   },
   {
    "duration": 117,
    "start_time": "2024-12-04T13:39:04.090Z"
   },
   {
    "duration": 4048,
    "start_time": "2024-12-04T13:39:33.675Z"
   },
   {
    "duration": 4077,
    "start_time": "2024-12-04T13:39:47.188Z"
   },
   {
    "duration": 124,
    "start_time": "2024-12-04T13:40:10.045Z"
   },
   {
    "duration": 305,
    "start_time": "2024-12-04T13:40:20.428Z"
   },
   {
    "duration": 19,
    "start_time": "2024-12-04T13:43:50.413Z"
   },
   {
    "duration": 291,
    "start_time": "2024-12-04T13:44:50.637Z"
   },
   {
    "duration": 162,
    "start_time": "2024-12-04T13:45:19.342Z"
   },
   {
    "duration": 145,
    "start_time": "2024-12-04T13:45:29.834Z"
   },
   {
    "duration": 134,
    "start_time": "2024-12-04T13:46:27.162Z"
   },
   {
    "duration": 138,
    "start_time": "2024-12-04T13:47:37.335Z"
   },
   {
    "duration": 132,
    "start_time": "2024-12-04T13:48:14.908Z"
   },
   {
    "duration": 124,
    "start_time": "2024-12-04T13:50:02.236Z"
   },
   {
    "duration": 8,
    "start_time": "2024-12-04T13:50:10.918Z"
   },
   {
    "duration": 118,
    "start_time": "2024-12-04T13:50:31.022Z"
   },
   {
    "duration": 122,
    "start_time": "2024-12-04T14:08:08.988Z"
   },
   {
    "duration": 3961,
    "start_time": "2024-12-04T14:08:25.798Z"
   },
   {
    "duration": 232,
    "start_time": "2024-12-04T14:10:44.258Z"
   },
   {
    "duration": 126,
    "start_time": "2024-12-04T14:16:18.953Z"
   },
   {
    "duration": 120,
    "start_time": "2024-12-04T14:16:53.246Z"
   },
   {
    "duration": 144,
    "start_time": "2024-12-04T14:22:19.941Z"
   },
   {
    "duration": 137,
    "start_time": "2024-12-04T14:22:36.139Z"
   },
   {
    "duration": 22,
    "start_time": "2024-12-04T14:35:44.015Z"
   },
   {
    "duration": 19,
    "start_time": "2024-12-04T14:35:55.438Z"
   },
   {
    "duration": 20,
    "start_time": "2024-12-04T14:36:03.098Z"
   },
   {
    "duration": 129,
    "start_time": "2024-12-04T14:37:05.136Z"
   },
   {
    "duration": 105,
    "start_time": "2024-12-04T14:38:29.775Z"
   },
   {
    "duration": 20,
    "start_time": "2024-12-04T14:49:52.902Z"
   },
   {
    "duration": 248,
    "start_time": "2024-12-04T14:49:55.578Z"
   },
   {
    "duration": 131,
    "start_time": "2024-12-04T14:50:13.696Z"
   },
   {
    "duration": 49,
    "start_time": "2024-12-05T07:53:50.601Z"
   },
   {
    "duration": 1326,
    "start_time": "2024-12-05T07:53:55.927Z"
   },
   {
    "duration": 111,
    "start_time": "2024-12-05T07:53:57.255Z"
   },
   {
    "duration": 3,
    "start_time": "2024-12-05T07:53:57.367Z"
   },
   {
    "duration": 81,
    "start_time": "2024-12-05T07:53:57.372Z"
   },
   {
    "duration": 5,
    "start_time": "2024-12-05T07:53:57.455Z"
   },
   {
    "duration": 17,
    "start_time": "2024-12-05T07:53:57.462Z"
   },
   {
    "duration": 8,
    "start_time": "2024-12-05T07:53:57.481Z"
   },
   {
    "duration": 10,
    "start_time": "2024-12-05T07:53:57.491Z"
   },
   {
    "duration": 14,
    "start_time": "2024-12-05T07:53:57.502Z"
   },
   {
    "duration": 44,
    "start_time": "2024-12-05T07:53:57.519Z"
   },
   {
    "duration": 3,
    "start_time": "2024-12-05T07:53:57.565Z"
   },
   {
    "duration": 63,
    "start_time": "2024-12-05T07:53:57.570Z"
   },
   {
    "duration": 43,
    "start_time": "2024-12-05T07:53:57.635Z"
   },
   {
    "duration": 32,
    "start_time": "2024-12-05T07:53:57.679Z"
   },
   {
    "duration": 4,
    "start_time": "2024-12-05T07:53:57.713Z"
   },
   {
    "duration": 18,
    "start_time": "2024-12-05T07:53:57.719Z"
   },
   {
    "duration": 11,
    "start_time": "2024-12-05T07:53:57.739Z"
   },
   {
    "duration": 23,
    "start_time": "2024-12-05T07:53:57.751Z"
   },
   {
    "duration": 13,
    "start_time": "2024-12-05T07:53:57.775Z"
   },
   {
    "duration": 4,
    "start_time": "2024-12-05T07:53:57.789Z"
   },
   {
    "duration": 47,
    "start_time": "2024-12-05T07:53:57.794Z"
   },
   {
    "duration": 56,
    "start_time": "2024-12-05T07:53:57.843Z"
   },
   {
    "duration": 280,
    "start_time": "2024-12-05T07:53:57.901Z"
   },
   {
    "duration": 25,
    "start_time": "2024-12-05T07:53:58.183Z"
   },
   {
    "duration": 169,
    "start_time": "2024-12-05T07:53:58.226Z"
   },
   {
    "duration": 153,
    "start_time": "2024-12-05T07:53:58.397Z"
   },
   {
    "duration": 24,
    "start_time": "2024-12-05T07:53:58.551Z"
   },
   {
    "duration": 172,
    "start_time": "2024-12-05T07:53:58.579Z"
   },
   {
    "duration": 257,
    "start_time": "2024-12-05T07:53:58.753Z"
   },
   {
    "duration": 36,
    "start_time": "2024-12-05T07:53:59.011Z"
   },
   {
    "duration": 197,
    "start_time": "2024-12-05T07:53:59.049Z"
   },
   {
    "duration": 222,
    "start_time": "2024-12-05T07:53:59.248Z"
   },
   {
    "duration": 223,
    "start_time": "2024-12-05T07:54:13.340Z"
   },
   {
    "duration": 237,
    "start_time": "2024-12-05T07:55:48.250Z"
   },
   {
    "duration": 102,
    "start_time": "2024-12-05T08:02:36.856Z"
   },
   {
    "duration": 9,
    "start_time": "2024-12-05T08:02:46.063Z"
   },
   {
    "duration": 20,
    "start_time": "2024-12-05T08:02:55.746Z"
   },
   {
    "duration": 24,
    "start_time": "2024-12-05T08:03:35.663Z"
   },
   {
    "duration": 222,
    "start_time": "2024-12-05T08:12:01.864Z"
   },
   {
    "duration": 365,
    "start_time": "2024-12-05T08:14:45.124Z"
   },
   {
    "duration": 344,
    "start_time": "2024-12-05T08:17:31.943Z"
   },
   {
    "duration": 1213,
    "start_time": "2024-12-05T08:18:39.922Z"
   },
   {
    "duration": 47,
    "start_time": "2024-12-05T08:18:41.137Z"
   },
   {
    "duration": 3,
    "start_time": "2024-12-05T08:18:41.186Z"
   },
   {
    "duration": 66,
    "start_time": "2024-12-05T08:18:41.191Z"
   },
   {
    "duration": 5,
    "start_time": "2024-12-05T08:18:41.259Z"
   },
   {
    "duration": 33,
    "start_time": "2024-12-05T08:18:41.266Z"
   },
   {
    "duration": 8,
    "start_time": "2024-12-05T08:18:41.301Z"
   },
   {
    "duration": 7,
    "start_time": "2024-12-05T08:18:41.311Z"
   },
   {
    "duration": 8,
    "start_time": "2024-12-05T08:18:41.320Z"
   },
   {
    "duration": 38,
    "start_time": "2024-12-05T08:18:41.331Z"
   },
   {
    "duration": 4,
    "start_time": "2024-12-05T08:18:41.370Z"
   },
   {
    "duration": 35,
    "start_time": "2024-12-05T08:18:41.376Z"
   },
   {
    "duration": 54,
    "start_time": "2024-12-05T08:18:41.413Z"
   },
   {
    "duration": 15,
    "start_time": "2024-12-05T08:18:41.469Z"
   },
   {
    "duration": 3,
    "start_time": "2024-12-05T08:18:41.486Z"
   },
   {
    "duration": 43,
    "start_time": "2024-12-05T08:18:41.491Z"
   },
   {
    "duration": 10,
    "start_time": "2024-12-05T08:18:41.536Z"
   },
   {
    "duration": 12,
    "start_time": "2024-12-05T08:18:41.548Z"
   },
   {
    "duration": 24,
    "start_time": "2024-12-05T08:18:41.562Z"
   },
   {
    "duration": 5,
    "start_time": "2024-12-05T08:18:41.587Z"
   },
   {
    "duration": 48,
    "start_time": "2024-12-05T08:18:41.593Z"
   },
   {
    "duration": 59,
    "start_time": "2024-12-05T08:18:41.642Z"
   },
   {
    "duration": 287,
    "start_time": "2024-12-05T08:18:41.703Z"
   },
   {
    "duration": 6,
    "start_time": "2024-12-05T08:18:41.992Z"
   },
   {
    "duration": 440,
    "start_time": "2024-12-05T08:18:42.000Z"
   },
   {
    "duration": 24,
    "start_time": "2024-12-05T08:18:42.442Z"
   },
   {
    "duration": 175,
    "start_time": "2024-12-05T08:18:42.467Z"
   },
   {
    "duration": 252,
    "start_time": "2024-12-05T08:18:42.645Z"
   },
   {
    "duration": 37,
    "start_time": "2024-12-05T08:18:42.899Z"
   },
   {
    "duration": 158,
    "start_time": "2024-12-05T08:18:42.937Z"
   },
   {
    "duration": 261,
    "start_time": "2024-12-05T08:18:43.097Z"
   },
   {
    "duration": 109,
    "start_time": "2024-12-05T08:18:43.360Z"
   },
   {
    "duration": 85,
    "start_time": "2024-12-05T08:18:43.471Z"
   },
   {
    "duration": 396,
    "start_time": "2024-12-05T08:18:43.558Z"
   },
   {
    "duration": 299,
    "start_time": "2024-12-05T08:18:43.955Z"
   },
   {
    "duration": 394,
    "start_time": "2024-12-05T08:19:50.269Z"
   },
   {
    "duration": 554,
    "start_time": "2024-12-05T08:20:49.054Z"
   },
   {
    "duration": 438,
    "start_time": "2024-12-05T08:25:15.735Z"
   },
   {
    "duration": 396,
    "start_time": "2024-12-05T08:32:46.189Z"
   },
   {
    "duration": 585,
    "start_time": "2024-12-05T08:42:12.334Z"
   },
   {
    "duration": 7,
    "start_time": "2024-12-05T08:44:30.230Z"
   },
   {
    "duration": 1096,
    "start_time": "2024-12-05T08:44:33.247Z"
   },
   {
    "duration": 7,
    "start_time": "2024-12-05T08:44:43.585Z"
   },
   {
    "duration": 443,
    "start_time": "2024-12-05T08:44:45.847Z"
   },
   {
    "duration": 1240,
    "start_time": "2024-12-05T08:46:44.626Z"
   },
   {
    "duration": 46,
    "start_time": "2024-12-05T08:46:45.868Z"
   },
   {
    "duration": 5,
    "start_time": "2024-12-05T08:46:45.915Z"
   },
   {
    "duration": 69,
    "start_time": "2024-12-05T08:46:45.922Z"
   },
   {
    "duration": 6,
    "start_time": "2024-12-05T08:46:45.993Z"
   },
   {
    "duration": 8,
    "start_time": "2024-12-05T08:46:46.002Z"
   },
   {
    "duration": 6,
    "start_time": "2024-12-05T08:46:46.027Z"
   },
   {
    "duration": 52,
    "start_time": "2024-12-05T08:46:46.035Z"
   },
   {
    "duration": 30,
    "start_time": "2024-12-05T08:46:46.089Z"
   },
   {
    "duration": 72,
    "start_time": "2024-12-05T08:46:46.121Z"
   },
   {
    "duration": 4,
    "start_time": "2024-12-05T08:46:46.194Z"
   },
   {
    "duration": 28,
    "start_time": "2024-12-05T08:46:46.200Z"
   },
   {
    "duration": 45,
    "start_time": "2024-12-05T08:46:46.230Z"
   },
   {
    "duration": 36,
    "start_time": "2024-12-05T08:46:46.276Z"
   },
   {
    "duration": 3,
    "start_time": "2024-12-05T08:46:46.314Z"
   },
   {
    "duration": 25,
    "start_time": "2024-12-05T08:46:46.318Z"
   },
   {
    "duration": 11,
    "start_time": "2024-12-05T08:46:46.345Z"
   },
   {
    "duration": 12,
    "start_time": "2024-12-05T08:46:46.358Z"
   },
   {
    "duration": 13,
    "start_time": "2024-12-05T08:46:46.371Z"
   },
   {
    "duration": 4,
    "start_time": "2024-12-05T08:46:46.386Z"
   },
   {
    "duration": 51,
    "start_time": "2024-12-05T08:46:46.391Z"
   },
   {
    "duration": 73,
    "start_time": "2024-12-05T08:46:46.444Z"
   },
   {
    "duration": 278,
    "start_time": "2024-12-05T08:46:46.519Z"
   },
   {
    "duration": 8,
    "start_time": "2024-12-05T08:46:46.799Z"
   },
   {
    "duration": 491,
    "start_time": "2024-12-05T08:46:46.808Z"
   },
   {
    "duration": 482,
    "start_time": "2024-12-05T08:46:47.301Z"
   },
   {
    "duration": 886,
    "start_time": "2024-12-05T08:46:47.784Z"
   },
   {
    "duration": 861,
    "start_time": "2024-12-05T08:46:48.726Z"
   },
   {
    "duration": 412,
    "start_time": "2024-12-05T08:46:49.589Z"
   },
   {
    "duration": 524,
    "start_time": "2024-12-05T08:46:50.003Z"
   },
   {
    "duration": 4,
    "start_time": "2024-12-05T09:02:25.053Z"
   },
   {
    "duration": 520,
    "start_time": "2024-12-05T09:02:52.051Z"
   },
   {
    "duration": 4,
    "start_time": "2024-12-05T09:03:26.717Z"
   },
   {
    "duration": 202,
    "start_time": "2024-12-05T09:03:29.541Z"
   },
   {
    "duration": 4,
    "start_time": "2024-12-05T09:03:39.606Z"
   },
   {
    "duration": 603,
    "start_time": "2024-12-05T09:03:42.044Z"
   },
   {
    "duration": 4,
    "start_time": "2024-12-05T09:04:00.766Z"
   },
   {
    "duration": 562,
    "start_time": "2024-12-05T09:04:01.568Z"
   },
   {
    "duration": 4,
    "start_time": "2024-12-05T09:04:39.135Z"
   },
   {
    "duration": 377,
    "start_time": "2024-12-05T09:04:41.405Z"
   },
   {
    "duration": 4,
    "start_time": "2024-12-05T09:05:27.768Z"
   },
   {
    "duration": 368,
    "start_time": "2024-12-05T09:05:29.999Z"
   },
   {
    "duration": 3,
    "start_time": "2024-12-05T09:05:35.303Z"
   },
   {
    "duration": 364,
    "start_time": "2024-12-05T09:05:36.893Z"
   },
   {
    "duration": 4,
    "start_time": "2024-12-05T09:05:43.583Z"
   },
   {
    "duration": 456,
    "start_time": "2024-12-05T09:05:45.677Z"
   },
   {
    "duration": 4,
    "start_time": "2024-12-05T09:07:01.311Z"
   },
   {
    "duration": 369,
    "start_time": "2024-12-05T09:07:03.347Z"
   },
   {
    "duration": 4,
    "start_time": "2024-12-05T09:08:15.856Z"
   },
   {
    "duration": 351,
    "start_time": "2024-12-05T09:08:17.659Z"
   },
   {
    "duration": 355,
    "start_time": "2024-12-05T09:09:07.597Z"
   },
   {
    "duration": 5,
    "start_time": "2024-12-05T09:10:00.395Z"
   },
   {
    "duration": 355,
    "start_time": "2024-12-05T09:10:03.969Z"
   },
   {
    "duration": 3,
    "start_time": "2024-12-05T09:10:11.382Z"
   },
   {
    "duration": 446,
    "start_time": "2024-12-05T09:10:12.821Z"
   },
   {
    "duration": 4,
    "start_time": "2024-12-05T09:12:11.604Z"
   },
   {
    "duration": 347,
    "start_time": "2024-12-05T09:12:13.042Z"
   },
   {
    "duration": 1170,
    "start_time": "2024-12-05T09:12:23.689Z"
   },
   {
    "duration": 47,
    "start_time": "2024-12-05T09:12:24.861Z"
   },
   {
    "duration": 3,
    "start_time": "2024-12-05T09:12:24.910Z"
   },
   {
    "duration": 71,
    "start_time": "2024-12-05T09:12:24.915Z"
   },
   {
    "duration": 5,
    "start_time": "2024-12-05T09:12:24.987Z"
   },
   {
    "duration": 7,
    "start_time": "2024-12-05T09:12:24.993Z"
   },
   {
    "duration": 10,
    "start_time": "2024-12-05T09:12:25.001Z"
   },
   {
    "duration": 17,
    "start_time": "2024-12-05T09:12:25.012Z"
   },
   {
    "duration": 7,
    "start_time": "2024-12-05T09:12:25.031Z"
   },
   {
    "duration": 49,
    "start_time": "2024-12-05T09:12:25.041Z"
   },
   {
    "duration": 4,
    "start_time": "2024-12-05T09:12:25.091Z"
   },
   {
    "duration": 42,
    "start_time": "2024-12-05T09:12:25.096Z"
   },
   {
    "duration": 44,
    "start_time": "2024-12-05T09:12:25.140Z"
   },
   {
    "duration": 19,
    "start_time": "2024-12-05T09:12:25.186Z"
   },
   {
    "duration": 23,
    "start_time": "2024-12-05T09:12:25.208Z"
   },
   {
    "duration": 20,
    "start_time": "2024-12-05T09:12:25.233Z"
   },
   {
    "duration": 13,
    "start_time": "2024-12-05T09:12:25.255Z"
   },
   {
    "duration": 12,
    "start_time": "2024-12-05T09:12:25.270Z"
   },
   {
    "duration": 44,
    "start_time": "2024-12-05T09:12:25.284Z"
   },
   {
    "duration": 3,
    "start_time": "2024-12-05T09:12:25.330Z"
   },
   {
    "duration": 22,
    "start_time": "2024-12-05T09:12:25.335Z"
   },
   {
    "duration": 4,
    "start_time": "2024-12-05T09:12:25.358Z"
   },
   {
    "duration": 118,
    "start_time": "2024-12-05T09:12:25.363Z"
   },
   {
    "duration": 0,
    "start_time": "2024-12-05T09:12:25.483Z"
   },
   {
    "duration": 0,
    "start_time": "2024-12-05T09:12:25.484Z"
   },
   {
    "duration": 0,
    "start_time": "2024-12-05T09:12:25.485Z"
   },
   {
    "duration": 0,
    "start_time": "2024-12-05T09:12:25.486Z"
   },
   {
    "duration": 0,
    "start_time": "2024-12-05T09:12:25.487Z"
   },
   {
    "duration": 0,
    "start_time": "2024-12-05T09:12:25.489Z"
   },
   {
    "duration": 0,
    "start_time": "2024-12-05T09:12:25.489Z"
   },
   {
    "duration": 381,
    "start_time": "2024-12-05T09:12:35.627Z"
   },
   {
    "duration": 4,
    "start_time": "2024-12-05T09:13:09.203Z"
   },
   {
    "duration": 394,
    "start_time": "2024-12-05T09:13:14.391Z"
   },
   {
    "duration": 10,
    "start_time": "2024-12-05T09:20:43.579Z"
   },
   {
    "duration": 1209,
    "start_time": "2024-12-05T09:20:57.935Z"
   },
   {
    "duration": 47,
    "start_time": "2024-12-05T09:20:59.146Z"
   },
   {
    "duration": 3,
    "start_time": "2024-12-05T09:20:59.195Z"
   },
   {
    "duration": 73,
    "start_time": "2024-12-05T09:20:59.200Z"
   },
   {
    "duration": 5,
    "start_time": "2024-12-05T09:20:59.275Z"
   },
   {
    "duration": 9,
    "start_time": "2024-12-05T09:20:59.281Z"
   },
   {
    "duration": 10,
    "start_time": "2024-12-05T09:20:59.291Z"
   },
   {
    "duration": 27,
    "start_time": "2024-12-05T09:20:59.303Z"
   },
   {
    "duration": 6,
    "start_time": "2024-12-05T09:20:59.331Z"
   },
   {
    "duration": 42,
    "start_time": "2024-12-05T09:20:59.340Z"
   },
   {
    "duration": 4,
    "start_time": "2024-12-05T09:20:59.383Z"
   },
   {
    "duration": 48,
    "start_time": "2024-12-05T09:20:59.389Z"
   },
   {
    "duration": 44,
    "start_time": "2024-12-05T09:20:59.439Z"
   },
   {
    "duration": 16,
    "start_time": "2024-12-05T09:20:59.484Z"
   },
   {
    "duration": 30,
    "start_time": "2024-12-05T09:20:59.501Z"
   },
   {
    "duration": 29,
    "start_time": "2024-12-05T09:20:59.533Z"
   },
   {
    "duration": 11,
    "start_time": "2024-12-05T09:20:59.563Z"
   },
   {
    "duration": 13,
    "start_time": "2024-12-05T09:20:59.575Z"
   },
   {
    "duration": 39,
    "start_time": "2024-12-05T09:20:59.589Z"
   },
   {
    "duration": 4,
    "start_time": "2024-12-05T09:20:59.630Z"
   },
   {
    "duration": 67,
    "start_time": "2024-12-05T09:20:59.635Z"
   },
   {
    "duration": 3,
    "start_time": "2024-12-05T09:20:59.704Z"
   },
   {
    "duration": 418,
    "start_time": "2024-12-05T09:20:59.709Z"
   },
   {
    "duration": 105,
    "start_time": "2024-12-05T09:21:00.129Z"
   },
   {
    "duration": 0,
    "start_time": "2024-12-05T09:21:00.236Z"
   },
   {
    "duration": 0,
    "start_time": "2024-12-05T09:21:00.237Z"
   },
   {
    "duration": 0,
    "start_time": "2024-12-05T09:21:00.238Z"
   },
   {
    "duration": 0,
    "start_time": "2024-12-05T09:21:00.239Z"
   },
   {
    "duration": 0,
    "start_time": "2024-12-05T09:21:00.240Z"
   },
   {
    "duration": 0,
    "start_time": "2024-12-05T09:21:00.241Z"
   },
   {
    "duration": 0,
    "start_time": "2024-12-05T09:21:00.241Z"
   },
   {
    "duration": 8,
    "start_time": "2024-12-05T09:21:29.964Z"
   },
   {
    "duration": 10,
    "start_time": "2024-12-05T09:22:04.576Z"
   },
   {
    "duration": 17,
    "start_time": "2024-12-05T09:22:17.816Z"
   },
   {
    "duration": 16,
    "start_time": "2024-12-05T09:29:09.655Z"
   },
   {
    "duration": 16,
    "start_time": "2024-12-05T09:29:22.041Z"
   },
   {
    "duration": 9,
    "start_time": "2024-12-05T09:29:32.181Z"
   },
   {
    "duration": 10,
    "start_time": "2024-12-05T09:30:16.618Z"
   },
   {
    "duration": 400,
    "start_time": "2024-12-05T09:36:49.658Z"
   },
   {
    "duration": 4,
    "start_time": "2024-12-05T09:37:42.701Z"
   },
   {
    "duration": 492,
    "start_time": "2024-12-05T09:37:44.277Z"
   },
   {
    "duration": 5,
    "start_time": "2024-12-05T09:39:22.394Z"
   },
   {
    "duration": 602,
    "start_time": "2024-12-05T09:39:24.458Z"
   },
   {
    "duration": 1648,
    "start_time": "2024-12-05T09:39:51.514Z"
   },
   {
    "duration": 46,
    "start_time": "2024-12-05T09:39:53.164Z"
   },
   {
    "duration": 4,
    "start_time": "2024-12-05T09:39:53.212Z"
   },
   {
    "duration": 83,
    "start_time": "2024-12-05T09:39:53.218Z"
   },
   {
    "duration": 5,
    "start_time": "2024-12-05T09:39:53.302Z"
   },
   {
    "duration": 20,
    "start_time": "2024-12-05T09:39:53.309Z"
   },
   {
    "duration": 8,
    "start_time": "2024-12-05T09:39:53.331Z"
   },
   {
    "duration": 30,
    "start_time": "2024-12-05T09:39:53.341Z"
   },
   {
    "duration": 8,
    "start_time": "2024-12-05T09:39:53.373Z"
   },
   {
    "duration": 60,
    "start_time": "2024-12-05T09:39:53.384Z"
   },
   {
    "duration": 4,
    "start_time": "2024-12-05T09:39:53.445Z"
   },
   {
    "duration": 36,
    "start_time": "2024-12-05T09:39:53.451Z"
   },
   {
    "duration": 64,
    "start_time": "2024-12-05T09:39:53.489Z"
   },
   {
    "duration": 15,
    "start_time": "2024-12-05T09:39:53.554Z"
   },
   {
    "duration": 18,
    "start_time": "2024-12-05T09:39:53.571Z"
   },
   {
    "duration": 37,
    "start_time": "2024-12-05T09:39:53.591Z"
   },
   {
    "duration": 10,
    "start_time": "2024-12-05T09:39:53.630Z"
   },
   {
    "duration": 27,
    "start_time": "2024-12-05T09:39:53.641Z"
   },
   {
    "duration": 52,
    "start_time": "2024-12-05T09:39:53.670Z"
   },
   {
    "duration": 4,
    "start_time": "2024-12-05T09:39:53.724Z"
   },
   {
    "duration": 23,
    "start_time": "2024-12-05T09:39:53.729Z"
   },
   {
    "duration": 4,
    "start_time": "2024-12-05T09:39:53.754Z"
   },
   {
    "duration": 552,
    "start_time": "2024-12-05T09:39:53.759Z"
   },
   {
    "duration": 20,
    "start_time": "2024-12-05T09:39:54.313Z"
   },
   {
    "duration": 8,
    "start_time": "2024-12-05T09:39:54.334Z"
   },
   {
    "duration": 483,
    "start_time": "2024-12-05T09:39:54.344Z"
   },
   {
    "duration": 0,
    "start_time": "2024-12-05T09:39:54.829Z"
   },
   {
    "duration": 0,
    "start_time": "2024-12-05T09:39:54.831Z"
   },
   {
    "duration": 0,
    "start_time": "2024-12-05T09:39:54.832Z"
   },
   {
    "duration": 0,
    "start_time": "2024-12-05T09:39:54.833Z"
   },
   {
    "duration": 0,
    "start_time": "2024-12-05T09:39:54.834Z"
   },
   {
    "duration": 0,
    "start_time": "2024-12-05T09:39:54.835Z"
   },
   {
    "duration": 1229,
    "start_time": "2024-12-05T09:41:38.016Z"
   },
   {
    "duration": 47,
    "start_time": "2024-12-05T09:41:39.248Z"
   },
   {
    "duration": 4,
    "start_time": "2024-12-05T09:41:39.296Z"
   },
   {
    "duration": 66,
    "start_time": "2024-12-05T09:41:39.302Z"
   },
   {
    "duration": 5,
    "start_time": "2024-12-05T09:41:39.369Z"
   },
   {
    "duration": 6,
    "start_time": "2024-12-05T09:41:39.376Z"
   },
   {
    "duration": 22,
    "start_time": "2024-12-05T09:41:39.384Z"
   },
   {
    "duration": 16,
    "start_time": "2024-12-05T09:41:39.407Z"
   },
   {
    "duration": 13,
    "start_time": "2024-12-05T09:41:39.425Z"
   },
   {
    "duration": 44,
    "start_time": "2024-12-05T09:41:39.440Z"
   },
   {
    "duration": 4,
    "start_time": "2024-12-05T09:41:39.485Z"
   },
   {
    "duration": 46,
    "start_time": "2024-12-05T09:41:39.491Z"
   },
   {
    "duration": 46,
    "start_time": "2024-12-05T09:41:39.539Z"
   },
   {
    "duration": 29,
    "start_time": "2024-12-05T09:41:39.587Z"
   },
   {
    "duration": 13,
    "start_time": "2024-12-05T09:41:39.617Z"
   },
   {
    "duration": 29,
    "start_time": "2024-12-05T09:41:39.631Z"
   },
   {
    "duration": 11,
    "start_time": "2024-12-05T09:41:39.661Z"
   },
   {
    "duration": 44,
    "start_time": "2024-12-05T09:41:39.673Z"
   },
   {
    "duration": 13,
    "start_time": "2024-12-05T09:41:39.719Z"
   },
   {
    "duration": 4,
    "start_time": "2024-12-05T09:41:39.734Z"
   },
   {
    "duration": 26,
    "start_time": "2024-12-05T09:41:39.739Z"
   },
   {
    "duration": 7,
    "start_time": "2024-12-05T09:41:39.767Z"
   },
   {
    "duration": 638,
    "start_time": "2024-12-05T09:41:39.776Z"
   },
   {
    "duration": 0,
    "start_time": "2024-12-05T09:41:40.416Z"
   },
   {
    "duration": 0,
    "start_time": "2024-12-05T09:41:40.426Z"
   },
   {
    "duration": 0,
    "start_time": "2024-12-05T09:41:40.428Z"
   },
   {
    "duration": 0,
    "start_time": "2024-12-05T09:41:40.430Z"
   },
   {
    "duration": 0,
    "start_time": "2024-12-05T09:41:40.431Z"
   },
   {
    "duration": 0,
    "start_time": "2024-12-05T09:41:40.433Z"
   },
   {
    "duration": 0,
    "start_time": "2024-12-05T09:41:40.434Z"
   },
   {
    "duration": 0,
    "start_time": "2024-12-05T09:41:40.436Z"
   },
   {
    "duration": 0,
    "start_time": "2024-12-05T09:41:40.437Z"
   },
   {
    "duration": 1169,
    "start_time": "2024-12-05T09:48:14.068Z"
   },
   {
    "duration": 47,
    "start_time": "2024-12-05T09:48:15.239Z"
   },
   {
    "duration": 5,
    "start_time": "2024-12-05T09:48:15.288Z"
   },
   {
    "duration": 105,
    "start_time": "2024-12-05T09:48:15.294Z"
   },
   {
    "duration": 5,
    "start_time": "2024-12-05T09:48:15.401Z"
   },
   {
    "duration": 21,
    "start_time": "2024-12-05T09:48:15.407Z"
   },
   {
    "duration": 15,
    "start_time": "2024-12-05T09:48:15.430Z"
   },
   {
    "duration": 13,
    "start_time": "2024-12-05T09:48:15.446Z"
   },
   {
    "duration": 8,
    "start_time": "2024-12-05T09:48:15.460Z"
   },
   {
    "duration": 40,
    "start_time": "2024-12-05T09:48:15.470Z"
   },
   {
    "duration": 4,
    "start_time": "2024-12-05T09:48:15.511Z"
   },
   {
    "duration": 32,
    "start_time": "2024-12-05T09:48:15.516Z"
   },
   {
    "duration": 44,
    "start_time": "2024-12-05T09:48:15.549Z"
   },
   {
    "duration": 37,
    "start_time": "2024-12-05T09:48:15.595Z"
   },
   {
    "duration": 4,
    "start_time": "2024-12-05T09:48:15.634Z"
   },
   {
    "duration": 30,
    "start_time": "2024-12-05T09:48:15.640Z"
   },
   {
    "duration": 11,
    "start_time": "2024-12-05T09:48:15.671Z"
   },
   {
    "duration": 13,
    "start_time": "2024-12-05T09:48:15.683Z"
   },
   {
    "duration": 54,
    "start_time": "2024-12-05T09:48:15.697Z"
   },
   {
    "duration": 4,
    "start_time": "2024-12-05T09:48:15.752Z"
   },
   {
    "duration": 24,
    "start_time": "2024-12-05T09:48:15.757Z"
   },
   {
    "duration": 5,
    "start_time": "2024-12-05T09:48:15.782Z"
   },
   {
    "duration": 576,
    "start_time": "2024-12-05T09:48:15.789Z"
   },
   {
    "duration": 0,
    "start_time": "2024-12-05T09:48:16.367Z"
   },
   {
    "duration": 0,
    "start_time": "2024-12-05T09:48:16.368Z"
   },
   {
    "duration": 0,
    "start_time": "2024-12-05T09:48:16.369Z"
   },
   {
    "duration": 0,
    "start_time": "2024-12-05T09:48:16.370Z"
   },
   {
    "duration": 0,
    "start_time": "2024-12-05T09:48:16.371Z"
   },
   {
    "duration": 0,
    "start_time": "2024-12-05T09:48:16.372Z"
   },
   {
    "duration": 0,
    "start_time": "2024-12-05T09:48:16.373Z"
   },
   {
    "duration": 0,
    "start_time": "2024-12-05T09:48:16.374Z"
   },
   {
    "duration": 0,
    "start_time": "2024-12-05T09:48:16.375Z"
   },
   {
    "duration": 5,
    "start_time": "2024-12-05T09:48:38.408Z"
   },
   {
    "duration": 462,
    "start_time": "2024-12-05T09:48:39.795Z"
   },
   {
    "duration": 5,
    "start_time": "2024-12-05T09:49:10.207Z"
   },
   {
    "duration": 587,
    "start_time": "2024-12-05T09:49:13.622Z"
   },
   {
    "duration": 1151,
    "start_time": "2024-12-05T09:49:31.733Z"
   },
   {
    "duration": 46,
    "start_time": "2024-12-05T09:49:32.886Z"
   },
   {
    "duration": 3,
    "start_time": "2024-12-05T09:49:32.934Z"
   },
   {
    "duration": 74,
    "start_time": "2024-12-05T09:49:32.939Z"
   },
   {
    "duration": 13,
    "start_time": "2024-12-05T09:49:33.014Z"
   },
   {
    "duration": 6,
    "start_time": "2024-12-05T09:49:33.028Z"
   },
   {
    "duration": 5,
    "start_time": "2024-12-05T09:49:33.036Z"
   },
   {
    "duration": 14,
    "start_time": "2024-12-05T09:49:33.043Z"
   },
   {
    "duration": 16,
    "start_time": "2024-12-05T09:49:33.058Z"
   },
   {
    "duration": 51,
    "start_time": "2024-12-05T09:49:33.077Z"
   },
   {
    "duration": 4,
    "start_time": "2024-12-05T09:49:33.130Z"
   },
   {
    "duration": 38,
    "start_time": "2024-12-05T09:49:33.136Z"
   },
   {
    "duration": 56,
    "start_time": "2024-12-05T09:49:33.175Z"
   },
   {
    "duration": 14,
    "start_time": "2024-12-05T09:49:33.233Z"
   },
   {
    "duration": 3,
    "start_time": "2024-12-05T09:49:33.249Z"
   },
   {
    "duration": 24,
    "start_time": "2024-12-05T09:49:33.254Z"
   },
   {
    "duration": 14,
    "start_time": "2024-12-05T09:49:33.279Z"
   },
   {
    "duration": 37,
    "start_time": "2024-12-05T09:49:33.294Z"
   },
   {
    "duration": 14,
    "start_time": "2024-12-05T09:49:33.333Z"
   },
   {
    "duration": 4,
    "start_time": "2024-12-05T09:49:33.349Z"
   },
   {
    "duration": 35,
    "start_time": "2024-12-05T09:49:33.354Z"
   },
   {
    "duration": 17,
    "start_time": "2024-12-05T09:49:33.391Z"
   },
   {
    "duration": 508,
    "start_time": "2024-12-05T09:49:33.409Z"
   },
   {
    "duration": 19,
    "start_time": "2024-12-05T09:49:33.920Z"
   },
   {
    "duration": 17,
    "start_time": "2024-12-05T09:49:33.941Z"
   },
   {
    "duration": 451,
    "start_time": "2024-12-05T09:49:33.959Z"
   },
   {
    "duration": 447,
    "start_time": "2024-12-05T09:49:34.411Z"
   },
   {
    "duration": 545,
    "start_time": "2024-12-05T09:49:34.862Z"
   },
   {
    "duration": 525,
    "start_time": "2024-12-05T09:49:35.408Z"
   },
   {
    "duration": 497,
    "start_time": "2024-12-05T09:49:35.935Z"
   },
   {
    "duration": 453,
    "start_time": "2024-12-05T09:49:36.433Z"
   },
   {
    "duration": 398,
    "start_time": "2024-12-05T09:49:36.888Z"
   },
   {
    "duration": 4,
    "start_time": "2024-12-05T09:49:55.797Z"
   },
   {
    "duration": 540,
    "start_time": "2024-12-05T09:49:59.320Z"
   },
   {
    "duration": 1178,
    "start_time": "2024-12-05T09:50:16.223Z"
   },
   {
    "duration": 47,
    "start_time": "2024-12-05T09:50:17.403Z"
   },
   {
    "duration": 4,
    "start_time": "2024-12-05T09:50:17.451Z"
   },
   {
    "duration": 85,
    "start_time": "2024-12-05T09:50:17.456Z"
   },
   {
    "duration": 6,
    "start_time": "2024-12-05T09:50:17.542Z"
   },
   {
    "duration": 16,
    "start_time": "2024-12-05T09:50:17.549Z"
   },
   {
    "duration": 12,
    "start_time": "2024-12-05T09:50:17.566Z"
   },
   {
    "duration": 13,
    "start_time": "2024-12-05T09:50:17.580Z"
   },
   {
    "duration": 13,
    "start_time": "2024-12-05T09:50:17.594Z"
   },
   {
    "duration": 49,
    "start_time": "2024-12-05T09:50:17.609Z"
   },
   {
    "duration": 4,
    "start_time": "2024-12-05T09:50:17.659Z"
   },
   {
    "duration": 29,
    "start_time": "2024-12-05T09:50:17.664Z"
   },
   {
    "duration": 61,
    "start_time": "2024-12-05T09:50:17.694Z"
   },
   {
    "duration": 21,
    "start_time": "2024-12-05T09:50:17.757Z"
   },
   {
    "duration": 5,
    "start_time": "2024-12-05T09:50:17.779Z"
   },
   {
    "duration": 38,
    "start_time": "2024-12-05T09:50:17.785Z"
   },
   {
    "duration": 10,
    "start_time": "2024-12-05T09:50:17.825Z"
   },
   {
    "duration": 12,
    "start_time": "2024-12-05T09:50:17.836Z"
   },
   {
    "duration": 13,
    "start_time": "2024-12-05T09:50:17.849Z"
   },
   {
    "duration": 4,
    "start_time": "2024-12-05T09:50:17.863Z"
   },
   {
    "duration": 59,
    "start_time": "2024-12-05T09:50:17.868Z"
   },
   {
    "duration": 39,
    "start_time": "2024-12-05T09:50:17.928Z"
   },
   {
    "duration": 480,
    "start_time": "2024-12-05T09:50:17.969Z"
   },
   {
    "duration": 11,
    "start_time": "2024-12-05T09:50:18.451Z"
   },
   {
    "duration": 7,
    "start_time": "2024-12-05T09:50:18.464Z"
   },
   {
    "duration": 425,
    "start_time": "2024-12-05T09:50:18.472Z"
   },
   {
    "duration": 424,
    "start_time": "2024-12-05T09:50:18.927Z"
   },
   {
    "duration": 519,
    "start_time": "2024-12-05T09:50:19.354Z"
   },
   {
    "duration": 513,
    "start_time": "2024-12-05T09:50:19.875Z"
   },
   {
    "duration": 481,
    "start_time": "2024-12-05T09:50:20.389Z"
   },
   {
    "duration": 400,
    "start_time": "2024-12-05T09:50:20.872Z"
   },
   {
    "duration": 410,
    "start_time": "2024-12-05T09:50:21.273Z"
   },
   {
    "duration": 5,
    "start_time": "2024-12-05T09:50:36.595Z"
   },
   {
    "duration": 600,
    "start_time": "2024-12-05T09:50:39.577Z"
   },
   {
    "duration": 531,
    "start_time": "2024-12-05T09:51:13.813Z"
   },
   {
    "duration": 528,
    "start_time": "2024-12-05T10:02:12.291Z"
   },
   {
    "duration": 101,
    "start_time": "2024-12-05T10:02:48.839Z"
   },
   {
    "duration": 8,
    "start_time": "2024-12-05T10:08:45.233Z"
   },
   {
    "duration": 245,
    "start_time": "2024-12-05T10:09:40.185Z"
   },
   {
    "duration": 254,
    "start_time": "2024-12-05T10:10:12.395Z"
   },
   {
    "duration": 705,
    "start_time": "2024-12-05T10:10:22.559Z"
   },
   {
    "duration": 753,
    "start_time": "2024-12-05T10:12:01.232Z"
   },
   {
    "duration": 667,
    "start_time": "2024-12-05T10:12:23.190Z"
   },
   {
    "duration": 1161,
    "start_time": "2024-12-05T10:13:35.987Z"
   },
   {
    "duration": 47,
    "start_time": "2024-12-05T10:13:37.150Z"
   },
   {
    "duration": 5,
    "start_time": "2024-12-05T10:13:37.198Z"
   },
   {
    "duration": 94,
    "start_time": "2024-12-05T10:13:37.205Z"
   },
   {
    "duration": 5,
    "start_time": "2024-12-05T10:13:37.301Z"
   },
   {
    "duration": 40,
    "start_time": "2024-12-05T10:13:37.307Z"
   },
   {
    "duration": 27,
    "start_time": "2024-12-05T10:13:37.349Z"
   },
   {
    "duration": 34,
    "start_time": "2024-12-05T10:13:37.378Z"
   },
   {
    "duration": 29,
    "start_time": "2024-12-05T10:13:37.413Z"
   },
   {
    "duration": 61,
    "start_time": "2024-12-05T10:13:37.445Z"
   },
   {
    "duration": 4,
    "start_time": "2024-12-05T10:13:37.508Z"
   },
   {
    "duration": 53,
    "start_time": "2024-12-05T10:13:37.513Z"
   },
   {
    "duration": 44,
    "start_time": "2024-12-05T10:13:37.568Z"
   },
   {
    "duration": 72,
    "start_time": "2024-12-05T10:13:37.614Z"
   },
   {
    "duration": 21,
    "start_time": "2024-12-05T10:13:37.688Z"
   },
   {
    "duration": 31,
    "start_time": "2024-12-05T10:13:37.711Z"
   },
   {
    "duration": 73,
    "start_time": "2024-12-05T10:13:37.744Z"
   },
   {
    "duration": 25,
    "start_time": "2024-12-05T10:13:37.819Z"
   },
   {
    "duration": 40,
    "start_time": "2024-12-05T10:13:37.845Z"
   },
   {
    "duration": 37,
    "start_time": "2024-12-05T10:13:37.887Z"
   },
   {
    "duration": 33,
    "start_time": "2024-12-05T10:13:37.926Z"
   },
   {
    "duration": 47,
    "start_time": "2024-12-05T10:13:37.961Z"
   },
   {
    "duration": 527,
    "start_time": "2024-12-05T10:13:38.009Z"
   },
   {
    "duration": 10,
    "start_time": "2024-12-05T10:13:38.538Z"
   },
   {
    "duration": 29,
    "start_time": "2024-12-05T10:13:38.550Z"
   },
   {
    "duration": 477,
    "start_time": "2024-12-05T10:13:38.580Z"
   },
   {
    "duration": 405,
    "start_time": "2024-12-05T10:13:39.059Z"
   },
   {
    "duration": 573,
    "start_time": "2024-12-05T10:13:39.467Z"
   },
   {
    "duration": 660,
    "start_time": "2024-12-05T10:13:40.041Z"
   },
   {
    "duration": 488,
    "start_time": "2024-12-05T10:13:40.703Z"
   },
   {
    "duration": 482,
    "start_time": "2024-12-05T10:13:41.192Z"
   },
   {
    "duration": 407,
    "start_time": "2024-12-05T10:13:41.675Z"
   },
   {
    "duration": 501,
    "start_time": "2024-12-05T10:13:42.083Z"
   },
   {
    "duration": 6,
    "start_time": "2024-12-05T10:14:24.673Z"
   },
   {
    "duration": 1156,
    "start_time": "2024-12-05T10:14:28.289Z"
   },
   {
    "duration": 47,
    "start_time": "2024-12-05T10:14:29.447Z"
   },
   {
    "duration": 3,
    "start_time": "2024-12-05T10:14:29.496Z"
   },
   {
    "duration": 72,
    "start_time": "2024-12-05T10:14:29.501Z"
   },
   {
    "duration": 5,
    "start_time": "2024-12-05T10:14:29.575Z"
   },
   {
    "duration": 6,
    "start_time": "2024-12-05T10:14:29.581Z"
   },
   {
    "duration": 5,
    "start_time": "2024-12-05T10:14:29.588Z"
   },
   {
    "duration": 6,
    "start_time": "2024-12-05T10:14:29.594Z"
   },
   {
    "duration": 30,
    "start_time": "2024-12-05T10:14:29.601Z"
   },
   {
    "duration": 43,
    "start_time": "2024-12-05T10:14:29.633Z"
   },
   {
    "duration": 4,
    "start_time": "2024-12-05T10:14:29.677Z"
   },
   {
    "duration": 47,
    "start_time": "2024-12-05T10:14:29.682Z"
   },
   {
    "duration": 43,
    "start_time": "2024-12-05T10:14:29.731Z"
   },
   {
    "duration": 16,
    "start_time": "2024-12-05T10:14:29.775Z"
   },
   {
    "duration": 4,
    "start_time": "2024-12-05T10:14:29.792Z"
   },
   {
    "duration": 41,
    "start_time": "2024-12-05T10:14:29.797Z"
   },
   {
    "duration": 10,
    "start_time": "2024-12-05T10:14:29.839Z"
   },
   {
    "duration": 33,
    "start_time": "2024-12-05T10:14:29.851Z"
   },
   {
    "duration": 14,
    "start_time": "2024-12-05T10:14:29.886Z"
   },
   {
    "duration": 3,
    "start_time": "2024-12-05T10:14:29.901Z"
   },
   {
    "duration": 36,
    "start_time": "2024-12-05T10:14:29.906Z"
   },
   {
    "duration": 5,
    "start_time": "2024-12-05T10:14:29.944Z"
   },
   {
    "duration": 537,
    "start_time": "2024-12-05T10:14:29.951Z"
   },
   {
    "duration": 10,
    "start_time": "2024-12-05T10:14:30.490Z"
   },
   {
    "duration": 26,
    "start_time": "2024-12-05T10:14:30.501Z"
   },
   {
    "duration": 454,
    "start_time": "2024-12-05T10:14:30.529Z"
   },
   {
    "duration": 395,
    "start_time": "2024-12-05T10:14:30.985Z"
   },
   {
    "duration": 588,
    "start_time": "2024-12-05T10:14:31.384Z"
   },
   {
    "duration": 684,
    "start_time": "2024-12-05T10:14:31.974Z"
   },
   {
    "duration": 526,
    "start_time": "2024-12-05T10:14:32.660Z"
   },
   {
    "duration": 481,
    "start_time": "2024-12-05T10:14:33.189Z"
   },
   {
    "duration": 421,
    "start_time": "2024-12-05T10:14:33.672Z"
   },
   {
    "duration": 571,
    "start_time": "2024-12-05T10:14:34.095Z"
   },
   {
    "duration": 525,
    "start_time": "2024-12-05T10:19:08.578Z"
   },
   {
    "duration": 519,
    "start_time": "2024-12-05T10:19:49.995Z"
   },
   {
    "duration": 516,
    "start_time": "2024-12-05T10:20:40.419Z"
   },
   {
    "duration": 537,
    "start_time": "2024-12-05T10:20:58.469Z"
   },
   {
    "duration": 621,
    "start_time": "2024-12-05T10:21:18.047Z"
   },
   {
    "duration": 550,
    "start_time": "2024-12-05T10:21:22.184Z"
   },
   {
    "duration": 3,
    "start_time": "2024-12-05T10:22:23.301Z"
   },
   {
    "duration": 515,
    "start_time": "2024-12-05T10:22:37.902Z"
   },
   {
    "duration": 519,
    "start_time": "2024-12-05T10:23:02.511Z"
   },
   {
    "duration": 543,
    "start_time": "2024-12-05T10:24:12.271Z"
   },
   {
    "duration": 548,
    "start_time": "2024-12-05T10:24:51.250Z"
   },
   {
    "duration": 695,
    "start_time": "2024-12-05T10:25:23.827Z"
   },
   {
    "duration": 1221,
    "start_time": "2024-12-05T10:25:33.006Z"
   },
   {
    "duration": 48,
    "start_time": "2024-12-05T10:25:34.229Z"
   },
   {
    "duration": 4,
    "start_time": "2024-12-05T10:25:34.278Z"
   },
   {
    "duration": 69,
    "start_time": "2024-12-05T10:25:34.284Z"
   },
   {
    "duration": 5,
    "start_time": "2024-12-05T10:25:34.354Z"
   },
   {
    "duration": 56,
    "start_time": "2024-12-05T10:25:34.361Z"
   },
   {
    "duration": 19,
    "start_time": "2024-12-05T10:25:34.418Z"
   },
   {
    "duration": 8,
    "start_time": "2024-12-05T10:25:34.439Z"
   },
   {
    "duration": 21,
    "start_time": "2024-12-05T10:25:34.449Z"
   },
   {
    "duration": 68,
    "start_time": "2024-12-05T10:25:34.472Z"
   },
   {
    "duration": 4,
    "start_time": "2024-12-05T10:25:34.541Z"
   },
   {
    "duration": 45,
    "start_time": "2024-12-05T10:25:34.547Z"
   },
   {
    "duration": 59,
    "start_time": "2024-12-05T10:25:34.593Z"
   },
   {
    "duration": 19,
    "start_time": "2024-12-05T10:25:34.654Z"
   },
   {
    "duration": 4,
    "start_time": "2024-12-05T10:25:34.675Z"
   },
   {
    "duration": 32,
    "start_time": "2024-12-05T10:25:34.680Z"
   },
   {
    "duration": 21,
    "start_time": "2024-12-05T10:25:34.714Z"
   },
   {
    "duration": 13,
    "start_time": "2024-12-05T10:25:34.736Z"
   },
   {
    "duration": 22,
    "start_time": "2024-12-05T10:25:34.750Z"
   },
   {
    "duration": 3,
    "start_time": "2024-12-05T10:25:34.774Z"
   },
   {
    "duration": 39,
    "start_time": "2024-12-05T10:25:34.779Z"
   },
   {
    "duration": 9,
    "start_time": "2024-12-05T10:25:34.820Z"
   },
   {
    "duration": 546,
    "start_time": "2024-12-05T10:25:34.831Z"
   },
   {
    "duration": 12,
    "start_time": "2024-12-05T10:25:35.378Z"
   },
   {
    "duration": 31,
    "start_time": "2024-12-05T10:25:35.392Z"
   },
   {
    "duration": 483,
    "start_time": "2024-12-05T10:25:35.425Z"
   },
   {
    "duration": 456,
    "start_time": "2024-12-05T10:25:35.910Z"
   },
   {
    "duration": 579,
    "start_time": "2024-12-05T10:25:36.369Z"
   },
   {
    "duration": 570,
    "start_time": "2024-12-05T10:25:36.950Z"
   },
   {
    "duration": 545,
    "start_time": "2024-12-05T10:25:37.527Z"
   },
   {
    "duration": 512,
    "start_time": "2024-12-05T10:25:38.074Z"
   },
   {
    "duration": 484,
    "start_time": "2024-12-05T10:25:38.587Z"
   },
   {
    "duration": 500,
    "start_time": "2024-12-05T10:25:39.073Z"
   },
   {
    "duration": 407,
    "start_time": "2024-12-05T10:25:39.575Z"
   },
   {
    "duration": 568,
    "start_time": "2024-12-05T10:26:54.544Z"
   },
   {
    "duration": 1223,
    "start_time": "2024-12-05T10:32:10.523Z"
   },
   {
    "duration": 48,
    "start_time": "2024-12-05T10:32:11.748Z"
   },
   {
    "duration": 3,
    "start_time": "2024-12-05T10:32:11.798Z"
   },
   {
    "duration": 73,
    "start_time": "2024-12-05T10:32:11.803Z"
   },
   {
    "duration": 7,
    "start_time": "2024-12-05T10:32:11.878Z"
   },
   {
    "duration": 6,
    "start_time": "2024-12-05T10:32:11.887Z"
   },
   {
    "duration": 8,
    "start_time": "2024-12-05T10:32:11.894Z"
   },
   {
    "duration": 28,
    "start_time": "2024-12-05T10:32:11.904Z"
   },
   {
    "duration": 5,
    "start_time": "2024-12-05T10:32:11.934Z"
   },
   {
    "duration": 46,
    "start_time": "2024-12-05T10:32:11.942Z"
   },
   {
    "duration": 3,
    "start_time": "2024-12-05T10:32:11.990Z"
   },
   {
    "duration": 74,
    "start_time": "2024-12-05T10:32:11.995Z"
   },
   {
    "duration": 47,
    "start_time": "2024-12-05T10:32:12.071Z"
   },
   {
    "duration": 14,
    "start_time": "2024-12-05T10:32:12.119Z"
   },
   {
    "duration": 4,
    "start_time": "2024-12-05T10:32:12.135Z"
   },
   {
    "duration": 28,
    "start_time": "2024-12-05T10:32:12.140Z"
   },
   {
    "duration": 10,
    "start_time": "2024-12-05T10:32:12.170Z"
   },
   {
    "duration": 12,
    "start_time": "2024-12-05T10:32:12.182Z"
   },
   {
    "duration": 37,
    "start_time": "2024-12-05T10:32:12.196Z"
   },
   {
    "duration": 8,
    "start_time": "2024-12-05T10:32:12.235Z"
   },
   {
    "duration": 36,
    "start_time": "2024-12-05T10:32:12.245Z"
   },
   {
    "duration": 5,
    "start_time": "2024-12-05T10:32:12.283Z"
   },
   {
    "duration": 518,
    "start_time": "2024-12-05T10:32:12.289Z"
   },
   {
    "duration": 82,
    "start_time": "2024-12-05T10:32:12.808Z"
   },
   {
    "duration": 0,
    "start_time": "2024-12-05T10:32:12.892Z"
   },
   {
    "duration": 0,
    "start_time": "2024-12-05T10:32:12.893Z"
   },
   {
    "duration": 0,
    "start_time": "2024-12-05T10:32:12.894Z"
   },
   {
    "duration": 0,
    "start_time": "2024-12-05T10:32:12.895Z"
   },
   {
    "duration": 0,
    "start_time": "2024-12-05T10:32:12.896Z"
   },
   {
    "duration": 0,
    "start_time": "2024-12-05T10:32:12.898Z"
   },
   {
    "duration": 0,
    "start_time": "2024-12-05T10:32:12.899Z"
   },
   {
    "duration": 0,
    "start_time": "2024-12-05T10:32:12.900Z"
   },
   {
    "duration": 0,
    "start_time": "2024-12-05T10:32:12.901Z"
   },
   {
    "duration": 0,
    "start_time": "2024-12-05T10:32:12.902Z"
   },
   {
    "duration": 0,
    "start_time": "2024-12-05T10:32:12.903Z"
   },
   {
    "duration": 4,
    "start_time": "2024-12-05T10:33:20.486Z"
   },
   {
    "duration": 9,
    "start_time": "2024-12-05T10:33:21.263Z"
   },
   {
    "duration": 7,
    "start_time": "2024-12-05T10:33:40.417Z"
   },
   {
    "duration": 438,
    "start_time": "2024-12-05T10:33:42.400Z"
   },
   {
    "duration": 412,
    "start_time": "2024-12-05T10:33:47.740Z"
   },
   {
    "duration": 571,
    "start_time": "2024-12-05T10:33:55.144Z"
   },
   {
    "duration": 534,
    "start_time": "2024-12-05T10:34:00.835Z"
   },
   {
    "duration": 9,
    "start_time": "2024-12-05T10:34:22.399Z"
   },
   {
    "duration": 547,
    "start_time": "2024-12-05T10:35:42.184Z"
   },
   {
    "duration": 103,
    "start_time": "2024-12-05T10:36:11.734Z"
   },
   {
    "duration": 553,
    "start_time": "2024-12-05T10:36:20.160Z"
   },
   {
    "duration": 531,
    "start_time": "2024-12-05T10:40:52.797Z"
   },
   {
    "duration": 604,
    "start_time": "2024-12-05T10:43:50.211Z"
   },
   {
    "duration": 513,
    "start_time": "2024-12-05T10:48:08.814Z"
   },
   {
    "duration": 108,
    "start_time": "2024-12-05T10:49:49.671Z"
   },
   {
    "duration": 102,
    "start_time": "2024-12-05T10:50:01.276Z"
   },
   {
    "duration": 9,
    "start_time": "2024-12-05T10:52:59.043Z"
   },
   {
    "duration": 133,
    "start_time": "2024-12-05T10:53:36.156Z"
   },
   {
    "duration": 14,
    "start_time": "2024-12-05T10:57:54.329Z"
   },
   {
    "duration": 1171,
    "start_time": "2024-12-05T10:58:25.370Z"
   },
   {
    "duration": 47,
    "start_time": "2024-12-05T10:58:26.543Z"
   },
   {
    "duration": 3,
    "start_time": "2024-12-05T10:58:26.592Z"
   },
   {
    "duration": 83,
    "start_time": "2024-12-05T10:58:26.598Z"
   },
   {
    "duration": 4,
    "start_time": "2024-12-05T10:58:26.683Z"
   },
   {
    "duration": 22,
    "start_time": "2024-12-05T10:58:26.689Z"
   },
   {
    "duration": 16,
    "start_time": "2024-12-05T10:58:26.712Z"
   },
   {
    "duration": 30,
    "start_time": "2024-12-05T10:58:26.729Z"
   },
   {
    "duration": 22,
    "start_time": "2024-12-05T10:58:26.761Z"
   },
   {
    "duration": 65,
    "start_time": "2024-12-05T10:58:26.787Z"
   },
   {
    "duration": 4,
    "start_time": "2024-12-05T10:58:26.853Z"
   },
   {
    "duration": 72,
    "start_time": "2024-12-05T10:58:26.860Z"
   },
   {
    "duration": 45,
    "start_time": "2024-12-05T10:58:26.933Z"
   },
   {
    "duration": 38,
    "start_time": "2024-12-05T10:58:26.980Z"
   },
   {
    "duration": 11,
    "start_time": "2024-12-05T10:58:27.020Z"
   },
   {
    "duration": 57,
    "start_time": "2024-12-05T10:58:27.034Z"
   },
   {
    "duration": 15,
    "start_time": "2024-12-05T10:58:27.094Z"
   },
   {
    "duration": 36,
    "start_time": "2024-12-05T10:58:27.111Z"
   },
   {
    "duration": 19,
    "start_time": "2024-12-05T10:58:27.150Z"
   },
   {
    "duration": 13,
    "start_time": "2024-12-05T10:58:27.171Z"
   },
   {
    "duration": 25,
    "start_time": "2024-12-05T10:58:27.186Z"
   },
   {
    "duration": 16,
    "start_time": "2024-12-05T10:58:27.213Z"
   },
   {
    "duration": 544,
    "start_time": "2024-12-05T10:58:27.231Z"
   },
   {
    "duration": 5,
    "start_time": "2024-12-05T10:58:27.778Z"
   },
   {
    "duration": 31,
    "start_time": "2024-12-05T10:58:27.784Z"
   },
   {
    "duration": 17,
    "start_time": "2024-12-05T10:58:27.817Z"
   },
   {
    "duration": 471,
    "start_time": "2024-12-05T10:58:27.836Z"
   },
   {
    "duration": 474,
    "start_time": "2024-12-05T10:58:28.311Z"
   },
   {
    "duration": 596,
    "start_time": "2024-12-05T10:58:28.787Z"
   },
   {
    "duration": 10,
    "start_time": "2024-12-05T10:58:29.385Z"
   },
   {
    "duration": 533,
    "start_time": "2024-12-05T10:58:29.396Z"
   },
   {
    "duration": 615,
    "start_time": "2024-12-05T10:58:29.931Z"
   },
   {
    "duration": 582,
    "start_time": "2024-12-05T10:58:30.547Z"
   },
   {
    "duration": 244,
    "start_time": "2024-12-05T10:58:31.131Z"
   },
   {
    "duration": 824,
    "start_time": "2024-12-05T10:58:31.428Z"
   },
   {
    "duration": 773,
    "start_time": "2024-12-05T10:58:32.254Z"
   },
   {
    "duration": 445,
    "start_time": "2024-12-05T10:58:33.029Z"
   },
   {
    "duration": 141,
    "start_time": "2024-12-05T10:59:57.117Z"
   },
   {
    "duration": 521,
    "start_time": "2024-12-05T11:00:58.525Z"
   },
   {
    "duration": 150,
    "start_time": "2024-12-05T11:04:05.115Z"
   },
   {
    "duration": 138,
    "start_time": "2024-12-05T11:04:30.919Z"
   },
   {
    "duration": 133,
    "start_time": "2024-12-05T11:05:03.681Z"
   },
   {
    "duration": 207,
    "start_time": "2024-12-05T11:11:05.001Z"
   },
   {
    "duration": 120,
    "start_time": "2024-12-05T11:11:19.755Z"
   },
   {
    "duration": 135,
    "start_time": "2024-12-05T11:11:34.177Z"
   },
   {
    "duration": 145,
    "start_time": "2024-12-05T11:11:52.752Z"
   },
   {
    "duration": 125,
    "start_time": "2024-12-05T11:12:16.164Z"
   },
   {
    "duration": 126,
    "start_time": "2024-12-05T11:12:41.048Z"
   },
   {
    "duration": 122,
    "start_time": "2024-12-05T11:12:48.248Z"
   },
   {
    "duration": 112,
    "start_time": "2024-12-05T11:13:19.489Z"
   },
   {
    "duration": 113,
    "start_time": "2024-12-05T11:14:16.380Z"
   },
   {
    "duration": 119,
    "start_time": "2024-12-05T11:14:28.036Z"
   },
   {
    "duration": 122,
    "start_time": "2024-12-05T11:15:09.023Z"
   },
   {
    "duration": 120,
    "start_time": "2024-12-05T11:15:18.039Z"
   },
   {
    "duration": 128,
    "start_time": "2024-12-05T11:15:29.418Z"
   },
   {
    "duration": 106,
    "start_time": "2024-12-05T11:20:23.546Z"
   },
   {
    "duration": 213,
    "start_time": "2024-12-05T11:20:33.586Z"
   },
   {
    "duration": 117,
    "start_time": "2024-12-05T11:20:55.472Z"
   },
   {
    "duration": 119,
    "start_time": "2024-12-05T11:21:15.931Z"
   },
   {
    "duration": 125,
    "start_time": "2024-12-05T11:21:26.779Z"
   },
   {
    "duration": 119,
    "start_time": "2024-12-05T11:23:01.655Z"
   },
   {
    "duration": 121,
    "start_time": "2024-12-05T11:23:15.368Z"
   },
   {
    "duration": 311,
    "start_time": "2024-12-05T11:23:20.377Z"
   },
   {
    "duration": 118,
    "start_time": "2024-12-05T11:23:29.473Z"
   },
   {
    "duration": 4,
    "start_time": "2024-12-05T11:23:43.323Z"
   },
   {
    "duration": 141,
    "start_time": "2024-12-05T11:23:58.886Z"
   },
   {
    "duration": 117,
    "start_time": "2024-12-05T11:24:05.613Z"
   },
   {
    "duration": 120,
    "start_time": "2024-12-05T11:24:10.369Z"
   },
   {
    "duration": 117,
    "start_time": "2024-12-05T11:24:34.869Z"
   },
   {
    "duration": 132,
    "start_time": "2024-12-05T11:31:40.032Z"
   },
   {
    "duration": 164,
    "start_time": "2024-12-05T11:34:21.716Z"
   },
   {
    "duration": 244,
    "start_time": "2024-12-05T11:34:44.509Z"
   },
   {
    "duration": 142,
    "start_time": "2024-12-05T11:36:38.918Z"
   },
   {
    "duration": 143,
    "start_time": "2024-12-05T11:36:59.734Z"
   },
   {
    "duration": 141,
    "start_time": "2024-12-05T11:37:14.945Z"
   },
   {
    "duration": 620,
    "start_time": "2024-12-05T11:43:28.936Z"
   },
   {
    "duration": 819,
    "start_time": "2024-12-05T11:44:08.533Z"
   },
   {
    "duration": 640,
    "start_time": "2024-12-05T11:44:12.816Z"
   },
   {
    "duration": 501,
    "start_time": "2024-12-05T11:44:22.591Z"
   },
   {
    "duration": 14,
    "start_time": "2024-12-05T11:46:09.834Z"
   },
   {
    "duration": 444,
    "start_time": "2024-12-05T11:46:47.862Z"
   },
   {
    "duration": 600,
    "start_time": "2024-12-05T11:47:13.622Z"
   },
   {
    "duration": 498,
    "start_time": "2024-12-05T11:48:57.132Z"
   },
   {
    "duration": 491,
    "start_time": "2024-12-05T11:49:16.494Z"
   },
   {
    "duration": 562,
    "start_time": "2024-12-05T11:49:33.059Z"
   },
   {
    "duration": 1102,
    "start_time": "2024-12-05T11:49:45.250Z"
   },
   {
    "duration": 1202,
    "start_time": "2024-12-05T11:49:57.760Z"
   },
   {
    "duration": 1816,
    "start_time": "2024-12-05T11:50:15.452Z"
   },
   {
    "duration": 1976,
    "start_time": "2024-12-05T11:50:25.907Z"
   },
   {
    "duration": 2404,
    "start_time": "2024-12-05T11:50:39.155Z"
   },
   {
    "duration": 6,
    "start_time": "2024-12-05T12:23:15.466Z"
   },
   {
    "duration": 99,
    "start_time": "2024-12-05T12:25:08.757Z"
   },
   {
    "duration": 1178,
    "start_time": "2024-12-05T12:28:47.966Z"
   },
   {
    "duration": 47,
    "start_time": "2024-12-05T12:28:49.146Z"
   },
   {
    "duration": 4,
    "start_time": "2024-12-05T12:28:49.195Z"
   },
   {
    "duration": 65,
    "start_time": "2024-12-05T12:28:49.202Z"
   },
   {
    "duration": 5,
    "start_time": "2024-12-05T12:28:49.269Z"
   },
   {
    "duration": 5,
    "start_time": "2024-12-05T12:28:49.275Z"
   },
   {
    "duration": 10,
    "start_time": "2024-12-05T12:28:49.281Z"
   },
   {
    "duration": 9,
    "start_time": "2024-12-05T12:28:49.293Z"
   },
   {
    "duration": 5,
    "start_time": "2024-12-05T12:28:49.303Z"
   },
   {
    "duration": 37,
    "start_time": "2024-12-05T12:28:49.328Z"
   },
   {
    "duration": 4,
    "start_time": "2024-12-05T12:28:49.366Z"
   },
   {
    "duration": 28,
    "start_time": "2024-12-05T12:28:49.371Z"
   },
   {
    "duration": 62,
    "start_time": "2024-12-05T12:28:49.401Z"
   },
   {
    "duration": 13,
    "start_time": "2024-12-05T12:28:49.465Z"
   },
   {
    "duration": 3,
    "start_time": "2024-12-05T12:28:49.480Z"
   },
   {
    "duration": 19,
    "start_time": "2024-12-05T12:28:49.484Z"
   },
   {
    "duration": 11,
    "start_time": "2024-12-05T12:28:49.526Z"
   },
   {
    "duration": 11,
    "start_time": "2024-12-05T12:28:49.539Z"
   },
   {
    "duration": 17,
    "start_time": "2024-12-05T12:28:49.552Z"
   },
   {
    "duration": 3,
    "start_time": "2024-12-05T12:28:49.571Z"
   },
   {
    "duration": 170,
    "start_time": "2024-12-05T12:28:49.576Z"
   },
   {
    "duration": 156,
    "start_time": "2024-12-05T12:28:49.748Z"
   },
   {
    "duration": 33,
    "start_time": "2024-12-05T12:28:49.906Z"
   },
   {
    "duration": 5,
    "start_time": "2024-12-05T12:28:49.941Z"
   },
   {
    "duration": 532,
    "start_time": "2024-12-05T12:28:49.948Z"
   },
   {
    "duration": 4,
    "start_time": "2024-12-05T12:28:50.482Z"
   },
   {
    "duration": 30,
    "start_time": "2024-12-05T12:28:50.487Z"
   },
   {
    "duration": 7,
    "start_time": "2024-12-05T12:28:50.520Z"
   },
   {
    "duration": 555,
    "start_time": "2024-12-05T12:28:50.529Z"
   },
   {
    "duration": 482,
    "start_time": "2024-12-05T12:28:51.085Z"
   },
   {
    "duration": 512,
    "start_time": "2024-12-05T12:28:51.568Z"
   },
   {
    "duration": 9,
    "start_time": "2024-12-05T12:28:52.082Z"
   },
   {
    "duration": 522,
    "start_time": "2024-12-05T12:28:52.092Z"
   },
   {
    "duration": 586,
    "start_time": "2024-12-05T12:28:52.615Z"
   },
   {
    "duration": 498,
    "start_time": "2024-12-05T12:28:53.203Z"
   },
   {
    "duration": 3202,
    "start_time": "2024-12-05T12:28:53.703Z"
   },
   {
    "duration": 467,
    "start_time": "2024-12-05T12:28:56.907Z"
   },
   {
    "duration": 424,
    "start_time": "2024-12-05T12:28:57.375Z"
   },
   {
    "duration": 570,
    "start_time": "2024-12-05T12:28:57.801Z"
   },
   {
    "duration": 518,
    "start_time": "2024-12-05T12:28:58.372Z"
   },
   {
    "duration": 6,
    "start_time": "2024-12-05T12:29:25.040Z"
   },
   {
    "duration": 1404,
    "start_time": "2024-12-05T12:30:33.646Z"
   },
   {
    "duration": 47,
    "start_time": "2024-12-05T12:30:35.052Z"
   },
   {
    "duration": 3,
    "start_time": "2024-12-05T12:30:35.100Z"
   },
   {
    "duration": 87,
    "start_time": "2024-12-05T12:30:35.105Z"
   },
   {
    "duration": 5,
    "start_time": "2024-12-05T12:30:35.194Z"
   },
   {
    "duration": 30,
    "start_time": "2024-12-05T12:30:35.201Z"
   },
   {
    "duration": 14,
    "start_time": "2024-12-05T12:30:35.233Z"
   },
   {
    "duration": 22,
    "start_time": "2024-12-05T12:30:35.248Z"
   },
   {
    "duration": 24,
    "start_time": "2024-12-05T12:30:35.271Z"
   },
   {
    "duration": 40,
    "start_time": "2024-12-05T12:30:35.297Z"
   },
   {
    "duration": 3,
    "start_time": "2024-12-05T12:30:35.339Z"
   },
   {
    "duration": 43,
    "start_time": "2024-12-05T12:30:35.344Z"
   },
   {
    "duration": 42,
    "start_time": "2024-12-05T12:30:35.388Z"
   },
   {
    "duration": 47,
    "start_time": "2024-12-05T12:30:35.432Z"
   },
   {
    "duration": 39,
    "start_time": "2024-12-05T12:30:35.481Z"
   },
   {
    "duration": 46,
    "start_time": "2024-12-05T12:30:35.522Z"
   },
   {
    "duration": 41,
    "start_time": "2024-12-05T12:30:35.569Z"
   },
   {
    "duration": 23,
    "start_time": "2024-12-05T12:30:35.612Z"
   },
   {
    "duration": 33,
    "start_time": "2024-12-05T12:30:35.637Z"
   },
   {
    "duration": 3,
    "start_time": "2024-12-05T12:30:35.672Z"
   },
   {
    "duration": 297,
    "start_time": "2024-12-05T12:30:35.676Z"
   },
   {
    "duration": 302,
    "start_time": "2024-12-05T12:30:36.027Z"
   },
   {
    "duration": 22,
    "start_time": "2024-12-05T12:30:36.330Z"
   },
   {
    "duration": 7,
    "start_time": "2024-12-05T12:30:36.354Z"
   },
   {
    "duration": 832,
    "start_time": "2024-12-05T12:30:36.363Z"
   },
   {
    "duration": 4,
    "start_time": "2024-12-05T12:30:37.196Z"
   },
   {
    "duration": 54,
    "start_time": "2024-12-05T12:30:37.201Z"
   },
   {
    "duration": 56,
    "start_time": "2024-12-05T12:30:37.259Z"
   },
   {
    "duration": 418,
    "start_time": "2024-12-05T12:30:37.317Z"
   },
   {
    "duration": 0,
    "start_time": "2024-12-05T12:30:37.737Z"
   },
   {
    "duration": 0,
    "start_time": "2024-12-05T12:30:37.738Z"
   },
   {
    "duration": 0,
    "start_time": "2024-12-05T12:30:37.739Z"
   },
   {
    "duration": 0,
    "start_time": "2024-12-05T12:30:37.740Z"
   },
   {
    "duration": 0,
    "start_time": "2024-12-05T12:30:37.741Z"
   },
   {
    "duration": 0,
    "start_time": "2024-12-05T12:30:37.742Z"
   },
   {
    "duration": 0,
    "start_time": "2024-12-05T12:30:37.745Z"
   },
   {
    "duration": 0,
    "start_time": "2024-12-05T12:30:37.745Z"
   },
   {
    "duration": 0,
    "start_time": "2024-12-05T12:30:37.747Z"
   },
   {
    "duration": 0,
    "start_time": "2024-12-05T12:30:37.747Z"
   },
   {
    "duration": 0,
    "start_time": "2024-12-05T12:30:37.748Z"
   },
   {
    "duration": 1175,
    "start_time": "2024-12-05T12:32:08.665Z"
   },
   {
    "duration": 86,
    "start_time": "2024-12-05T12:32:09.842Z"
   },
   {
    "duration": 4,
    "start_time": "2024-12-05T12:32:09.929Z"
   },
   {
    "duration": 117,
    "start_time": "2024-12-05T12:32:09.935Z"
   },
   {
    "duration": 5,
    "start_time": "2024-12-05T12:32:10.054Z"
   },
   {
    "duration": 12,
    "start_time": "2024-12-05T12:32:10.061Z"
   },
   {
    "duration": 55,
    "start_time": "2024-12-05T12:32:10.075Z"
   },
   {
    "duration": 27,
    "start_time": "2024-12-05T12:32:10.131Z"
   },
   {
    "duration": 7,
    "start_time": "2024-12-05T12:32:10.160Z"
   },
   {
    "duration": 83,
    "start_time": "2024-12-05T12:32:10.170Z"
   },
   {
    "duration": 4,
    "start_time": "2024-12-05T12:32:10.254Z"
   },
   {
    "duration": 91,
    "start_time": "2024-12-05T12:32:10.259Z"
   },
   {
    "duration": 93,
    "start_time": "2024-12-05T12:32:10.352Z"
   },
   {
    "duration": 15,
    "start_time": "2024-12-05T12:32:10.447Z"
   },
   {
    "duration": 3,
    "start_time": "2024-12-05T12:32:10.464Z"
   },
   {
    "duration": 74,
    "start_time": "2024-12-05T12:32:10.469Z"
   },
   {
    "duration": 10,
    "start_time": "2024-12-05T12:32:10.544Z"
   },
   {
    "duration": 20,
    "start_time": "2024-12-05T12:32:10.555Z"
   },
   {
    "duration": 13,
    "start_time": "2024-12-05T12:32:10.627Z"
   },
   {
    "duration": 5,
    "start_time": "2024-12-05T12:32:10.642Z"
   },
   {
    "duration": 326,
    "start_time": "2024-12-05T12:32:10.648Z"
   },
   {
    "duration": 260,
    "start_time": "2024-12-05T12:32:11.027Z"
   },
   {
    "duration": 58,
    "start_time": "2024-12-05T12:32:11.288Z"
   },
   {
    "duration": 5,
    "start_time": "2024-12-05T12:32:11.347Z"
   },
   {
    "duration": 581,
    "start_time": "2024-12-05T12:32:11.354Z"
   },
   {
    "duration": 4,
    "start_time": "2024-12-05T12:32:11.937Z"
   },
   {
    "duration": 17,
    "start_time": "2024-12-05T12:32:11.942Z"
   },
   {
    "duration": 7,
    "start_time": "2024-12-05T12:32:11.963Z"
   },
   {
    "duration": 427,
    "start_time": "2024-12-05T12:32:11.971Z"
   },
   {
    "duration": 471,
    "start_time": "2024-12-05T12:32:12.400Z"
   },
   {
    "duration": 500,
    "start_time": "2024-12-05T12:32:12.873Z"
   },
   {
    "duration": 9,
    "start_time": "2024-12-05T12:32:13.375Z"
   },
   {
    "duration": 548,
    "start_time": "2024-12-05T12:32:13.386Z"
   },
   {
    "duration": 569,
    "start_time": "2024-12-05T12:32:13.937Z"
   },
   {
    "duration": 521,
    "start_time": "2024-12-05T12:32:14.508Z"
   },
   {
    "duration": 2566,
    "start_time": "2024-12-05T12:32:15.031Z"
   },
   {
    "duration": 479,
    "start_time": "2024-12-05T12:32:17.599Z"
   },
   {
    "duration": 404,
    "start_time": "2024-12-05T12:32:18.080Z"
   },
   {
    "duration": 573,
    "start_time": "2024-12-05T12:32:18.486Z"
   },
   {
    "duration": 505,
    "start_time": "2024-12-05T12:32:19.061Z"
   },
   {
    "duration": 103,
    "start_time": "2024-12-05T12:37:26.793Z"
   },
   {
    "duration": 14,
    "start_time": "2024-12-05T12:37:53.592Z"
   },
   {
    "duration": 15,
    "start_time": "2024-12-05T12:39:01.660Z"
   },
   {
    "duration": 16,
    "start_time": "2024-12-05T12:48:54.128Z"
   },
   {
    "duration": 14,
    "start_time": "2024-12-05T12:49:03.165Z"
   },
   {
    "duration": 87,
    "start_time": "2024-12-05T12:53:46.033Z"
   },
   {
    "duration": 2794,
    "start_time": "2024-12-05T13:14:07.301Z"
   },
   {
    "duration": 1218,
    "start_time": "2024-12-05T13:16:08.136Z"
   },
   {
    "duration": 47,
    "start_time": "2024-12-05T13:16:09.356Z"
   },
   {
    "duration": 3,
    "start_time": "2024-12-05T13:16:09.405Z"
   },
   {
    "duration": 66,
    "start_time": "2024-12-05T13:16:09.410Z"
   },
   {
    "duration": 6,
    "start_time": "2024-12-05T13:16:09.478Z"
   },
   {
    "duration": 26,
    "start_time": "2024-12-05T13:16:09.485Z"
   },
   {
    "duration": 6,
    "start_time": "2024-12-05T13:16:09.512Z"
   },
   {
    "duration": 10,
    "start_time": "2024-12-05T13:16:09.520Z"
   },
   {
    "duration": 15,
    "start_time": "2024-12-05T13:16:09.532Z"
   },
   {
    "duration": 42,
    "start_time": "2024-12-05T13:16:09.550Z"
   },
   {
    "duration": 3,
    "start_time": "2024-12-05T13:16:09.594Z"
   },
   {
    "duration": 40,
    "start_time": "2024-12-05T13:16:09.599Z"
   },
   {
    "duration": 45,
    "start_time": "2024-12-05T13:16:09.640Z"
   },
   {
    "duration": 15,
    "start_time": "2024-12-05T13:16:09.687Z"
   },
   {
    "duration": 26,
    "start_time": "2024-12-05T13:16:09.703Z"
   },
   {
    "duration": 42,
    "start_time": "2024-12-05T13:16:09.731Z"
   },
   {
    "duration": 11,
    "start_time": "2024-12-05T13:16:09.775Z"
   },
   {
    "duration": 13,
    "start_time": "2024-12-05T13:16:09.787Z"
   },
   {
    "duration": 18,
    "start_time": "2024-12-05T13:16:09.802Z"
   },
   {
    "duration": 4,
    "start_time": "2024-12-05T13:16:09.826Z"
   },
   {
    "duration": 161,
    "start_time": "2024-12-05T13:16:09.832Z"
   },
   {
    "duration": 151,
    "start_time": "2024-12-05T13:16:09.995Z"
   },
   {
    "duration": 24,
    "start_time": "2024-12-05T13:16:10.147Z"
   },
   {
    "duration": 5,
    "start_time": "2024-12-05T13:16:10.172Z"
   },
   {
    "duration": 550,
    "start_time": "2024-12-05T13:16:10.179Z"
   },
   {
    "duration": 4,
    "start_time": "2024-12-05T13:16:10.732Z"
   },
   {
    "duration": 24,
    "start_time": "2024-12-05T13:16:10.737Z"
   },
   {
    "duration": 10,
    "start_time": "2024-12-05T13:16:10.766Z"
   },
   {
    "duration": 790,
    "start_time": "2024-12-05T13:16:10.778Z"
   },
   {
    "duration": 917,
    "start_time": "2024-12-05T13:16:11.570Z"
   },
   {
    "duration": 506,
    "start_time": "2024-12-05T13:16:12.489Z"
   },
   {
    "duration": 9,
    "start_time": "2024-12-05T13:16:12.996Z"
   },
   {
    "duration": 510,
    "start_time": "2024-12-05T13:16:13.007Z"
   },
   {
    "duration": 542,
    "start_time": "2024-12-05T13:16:13.526Z"
   },
   {
    "duration": 531,
    "start_time": "2024-12-05T13:16:14.070Z"
   },
   {
    "duration": 2497,
    "start_time": "2024-12-05T13:16:14.602Z"
   },
   {
    "duration": 487,
    "start_time": "2024-12-05T13:16:17.101Z"
   },
   {
    "duration": 447,
    "start_time": "2024-12-05T13:16:17.590Z"
   },
   {
    "duration": 554,
    "start_time": "2024-12-05T13:16:18.038Z"
   },
   {
    "duration": 502,
    "start_time": "2024-12-05T13:16:18.593Z"
   },
   {
    "duration": 13,
    "start_time": "2024-12-05T13:16:19.097Z"
   },
   {
    "duration": 2872,
    "start_time": "2024-12-05T13:16:27.459Z"
   },
   {
    "duration": 2399,
    "start_time": "2024-12-05T13:16:40.509Z"
   },
   {
    "duration": 2651,
    "start_time": "2024-12-05T13:17:09.210Z"
   },
   {
    "duration": 95,
    "start_time": "2024-12-05T13:17:46.833Z"
   },
   {
    "duration": 2772,
    "start_time": "2024-12-05T13:18:09.913Z"
   },
   {
    "duration": 2624,
    "start_time": "2024-12-05T13:18:44.442Z"
   },
   {
    "duration": 2374,
    "start_time": "2024-12-05T13:18:57.719Z"
   },
   {
    "duration": 2608,
    "start_time": "2024-12-05T13:19:10.060Z"
   },
   {
    "duration": 2822,
    "start_time": "2024-12-05T13:20:17.771Z"
   },
   {
    "duration": 8,
    "start_time": "2024-12-05T13:24:54.552Z"
   },
   {
    "duration": 8,
    "start_time": "2024-12-05T13:25:26.155Z"
   },
   {
    "duration": 2429,
    "start_time": "2024-12-05T13:36:14.756Z"
   },
   {
    "duration": 2731,
    "start_time": "2024-12-05T13:36:44.356Z"
   },
   {
    "duration": 1421,
    "start_time": "2024-12-05T13:37:07.014Z"
   },
   {
    "duration": 1735,
    "start_time": "2024-12-05T13:37:22.198Z"
   },
   {
    "duration": 1823,
    "start_time": "2024-12-05T13:38:00.184Z"
   },
   {
    "duration": 9,
    "start_time": "2024-12-05T13:44:11.726Z"
   },
   {
    "duration": 1264,
    "start_time": "2024-12-06T05:07:31.343Z"
   },
   {
    "duration": 122,
    "start_time": "2024-12-06T05:07:32.609Z"
   },
   {
    "duration": 4,
    "start_time": "2024-12-06T05:07:32.732Z"
   },
   {
    "duration": 87,
    "start_time": "2024-12-06T05:07:32.738Z"
   },
   {
    "duration": 6,
    "start_time": "2024-12-06T05:07:32.827Z"
   },
   {
    "duration": 29,
    "start_time": "2024-12-06T05:07:32.835Z"
   },
   {
    "duration": 38,
    "start_time": "2024-12-06T05:07:32.865Z"
   },
   {
    "duration": 70,
    "start_time": "2024-12-06T05:07:32.904Z"
   },
   {
    "duration": 43,
    "start_time": "2024-12-06T05:07:32.976Z"
   },
   {
    "duration": 36,
    "start_time": "2024-12-06T05:07:33.021Z"
   },
   {
    "duration": 3,
    "start_time": "2024-12-06T05:07:33.059Z"
   },
   {
    "duration": 32,
    "start_time": "2024-12-06T05:07:33.063Z"
   },
   {
    "duration": 43,
    "start_time": "2024-12-06T05:07:33.096Z"
   },
   {
    "duration": 25,
    "start_time": "2024-12-06T05:07:33.141Z"
   },
   {
    "duration": 9,
    "start_time": "2024-12-06T05:07:33.167Z"
   },
   {
    "duration": 53,
    "start_time": "2024-12-06T05:07:33.178Z"
   },
   {
    "duration": 12,
    "start_time": "2024-12-06T05:07:33.233Z"
   },
   {
    "duration": 26,
    "start_time": "2024-12-06T05:07:33.246Z"
   },
   {
    "duration": 16,
    "start_time": "2024-12-06T05:07:33.273Z"
   },
   {
    "duration": 38,
    "start_time": "2024-12-06T05:07:33.290Z"
   },
   {
    "duration": 166,
    "start_time": "2024-12-06T05:07:33.330Z"
   },
   {
    "duration": 146,
    "start_time": "2024-12-06T05:07:33.497Z"
   },
   {
    "duration": 24,
    "start_time": "2024-12-06T05:07:33.644Z"
   },
   {
    "duration": 5,
    "start_time": "2024-12-06T05:07:33.670Z"
   },
   {
    "duration": 539,
    "start_time": "2024-12-06T05:07:33.677Z"
   },
   {
    "duration": 4,
    "start_time": "2024-12-06T05:07:34.217Z"
   },
   {
    "duration": 22,
    "start_time": "2024-12-06T05:07:34.222Z"
   },
   {
    "duration": 7,
    "start_time": "2024-12-06T05:07:34.247Z"
   },
   {
    "duration": 527,
    "start_time": "2024-12-06T05:07:34.256Z"
   },
   {
    "duration": 461,
    "start_time": "2024-12-06T05:07:34.785Z"
   },
   {
    "duration": 491,
    "start_time": "2024-12-06T05:07:35.248Z"
   },
   {
    "duration": 10,
    "start_time": "2024-12-06T05:07:35.740Z"
   },
   {
    "duration": 954,
    "start_time": "2024-12-06T05:07:35.751Z"
   },
   {
    "duration": 779,
    "start_time": "2024-12-06T05:07:36.706Z"
   },
   {
    "duration": 483,
    "start_time": "2024-12-06T05:07:37.486Z"
   },
   {
    "duration": 2535,
    "start_time": "2024-12-06T05:07:37.971Z"
   },
   {
    "duration": 7,
    "start_time": "2024-12-06T05:07:40.508Z"
   },
   {
    "duration": 446,
    "start_time": "2024-12-06T05:07:40.517Z"
   },
   {
    "duration": 391,
    "start_time": "2024-12-06T05:07:40.964Z"
   },
   {
    "duration": 583,
    "start_time": "2024-12-06T05:07:41.357Z"
   },
   {
    "duration": 1916,
    "start_time": "2024-12-06T05:07:41.941Z"
   },
   {
    "duration": 9,
    "start_time": "2024-12-06T05:07:43.859Z"
   },
   {
    "duration": 33,
    "start_time": "2024-12-06T05:07:43.870Z"
   },
   {
    "duration": 103,
    "start_time": "2024-12-06T07:17:29.487Z"
   },
   {
    "duration": 10,
    "start_time": "2024-12-06T07:17:59.735Z"
   },
   {
    "duration": 1173,
    "start_time": "2024-12-06T07:18:03.629Z"
   },
   {
    "duration": 47,
    "start_time": "2024-12-06T07:18:04.804Z"
   },
   {
    "duration": 4,
    "start_time": "2024-12-06T07:18:04.852Z"
   },
   {
    "duration": 68,
    "start_time": "2024-12-06T07:18:04.858Z"
   },
   {
    "duration": 6,
    "start_time": "2024-12-06T07:18:04.927Z"
   },
   {
    "duration": 39,
    "start_time": "2024-12-06T07:18:04.934Z"
   },
   {
    "duration": 20,
    "start_time": "2024-12-06T07:18:04.975Z"
   },
   {
    "duration": 18,
    "start_time": "2024-12-06T07:18:04.997Z"
   },
   {
    "duration": 10,
    "start_time": "2024-12-06T07:18:05.017Z"
   },
   {
    "duration": 37,
    "start_time": "2024-12-06T07:18:05.030Z"
   },
   {
    "duration": 4,
    "start_time": "2024-12-06T07:18:05.069Z"
   },
   {
    "duration": 44,
    "start_time": "2024-12-06T07:18:05.074Z"
   },
   {
    "duration": 45,
    "start_time": "2024-12-06T07:18:05.119Z"
   },
   {
    "duration": 55,
    "start_time": "2024-12-06T07:18:05.165Z"
   },
   {
    "duration": 10,
    "start_time": "2024-12-06T07:18:05.221Z"
   },
   {
    "duration": 27,
    "start_time": "2024-12-06T07:18:05.232Z"
   },
   {
    "duration": 11,
    "start_time": "2024-12-06T07:18:05.260Z"
   },
   {
    "duration": 13,
    "start_time": "2024-12-06T07:18:05.272Z"
   },
   {
    "duration": 41,
    "start_time": "2024-12-06T07:18:05.287Z"
   },
   {
    "duration": 5,
    "start_time": "2024-12-06T07:18:05.329Z"
   },
   {
    "duration": 147,
    "start_time": "2024-12-06T07:18:05.336Z"
   },
   {
    "duration": 141,
    "start_time": "2024-12-06T07:18:05.485Z"
   },
   {
    "duration": 24,
    "start_time": "2024-12-06T07:18:05.628Z"
   },
   {
    "duration": 5,
    "start_time": "2024-12-06T07:18:05.653Z"
   },
   {
    "duration": 532,
    "start_time": "2024-12-06T07:18:05.660Z"
   },
   {
    "duration": 4,
    "start_time": "2024-12-06T07:18:06.198Z"
   },
   {
    "duration": 37,
    "start_time": "2024-12-06T07:18:06.203Z"
   },
   {
    "duration": 29,
    "start_time": "2024-12-06T07:18:06.243Z"
   },
   {
    "duration": 428,
    "start_time": "2024-12-06T07:18:06.273Z"
   },
   {
    "duration": 521,
    "start_time": "2024-12-06T07:18:06.703Z"
   },
   {
    "duration": 504,
    "start_time": "2024-12-06T07:18:07.225Z"
   },
   {
    "duration": 8,
    "start_time": "2024-12-06T07:18:07.731Z"
   },
   {
    "duration": 541,
    "start_time": "2024-12-06T07:18:07.741Z"
   },
   {
    "duration": 599,
    "start_time": "2024-12-06T07:18:08.283Z"
   },
   {
    "duration": 501,
    "start_time": "2024-12-06T07:18:08.883Z"
   },
   {
    "duration": 2510,
    "start_time": "2024-12-06T07:18:09.385Z"
   },
   {
    "duration": 8,
    "start_time": "2024-12-06T07:18:11.897Z"
   },
   {
    "duration": 444,
    "start_time": "2024-12-06T07:18:11.906Z"
   },
   {
    "duration": 394,
    "start_time": "2024-12-06T07:18:12.351Z"
   },
   {
    "duration": 577,
    "start_time": "2024-12-06T07:18:12.746Z"
   },
   {
    "duration": 1895,
    "start_time": "2024-12-06T07:18:13.325Z"
   },
   {
    "duration": 8,
    "start_time": "2024-12-06T07:18:15.222Z"
   },
   {
    "duration": 42,
    "start_time": "2024-12-06T07:18:15.231Z"
   },
   {
    "duration": 117,
    "start_time": "2024-12-06T07:18:15.274Z"
   },
   {
    "duration": 12,
    "start_time": "2024-12-06T07:18:35.427Z"
   },
   {
    "duration": 13,
    "start_time": "2024-12-06T07:21:00.943Z"
   },
   {
    "duration": 10,
    "start_time": "2024-12-06T07:21:36.606Z"
   },
   {
    "duration": 10,
    "start_time": "2024-12-06T07:25:05.194Z"
   },
   {
    "duration": 1227,
    "start_time": "2024-12-06T07:25:35.113Z"
   },
   {
    "duration": 46,
    "start_time": "2024-12-06T07:25:36.342Z"
   },
   {
    "duration": 3,
    "start_time": "2024-12-06T07:25:36.398Z"
   },
   {
    "duration": 124,
    "start_time": "2024-12-06T07:25:36.403Z"
   },
   {
    "duration": 5,
    "start_time": "2024-12-06T07:25:36.528Z"
   },
   {
    "duration": 15,
    "start_time": "2024-12-06T07:25:36.534Z"
   },
   {
    "duration": 5,
    "start_time": "2024-12-06T07:25:36.598Z"
   },
   {
    "duration": 30,
    "start_time": "2024-12-06T07:25:36.604Z"
   },
   {
    "duration": 11,
    "start_time": "2024-12-06T07:25:36.635Z"
   },
   {
    "duration": 78,
    "start_time": "2024-12-06T07:25:36.648Z"
   },
   {
    "duration": 4,
    "start_time": "2024-12-06T07:25:36.727Z"
   },
   {
    "duration": 90,
    "start_time": "2024-12-06T07:25:36.733Z"
   },
   {
    "duration": 95,
    "start_time": "2024-12-06T07:25:36.826Z"
   },
   {
    "duration": 15,
    "start_time": "2024-12-06T07:25:36.923Z"
   },
   {
    "duration": 60,
    "start_time": "2024-12-06T07:25:36.939Z"
   },
   {
    "duration": 40,
    "start_time": "2024-12-06T07:25:37.001Z"
   },
   {
    "duration": 11,
    "start_time": "2024-12-06T07:25:37.042Z"
   },
   {
    "duration": 14,
    "start_time": "2024-12-06T07:25:37.098Z"
   },
   {
    "duration": 21,
    "start_time": "2024-12-06T07:25:37.114Z"
   },
   {
    "duration": 7,
    "start_time": "2024-12-06T07:25:37.136Z"
   },
   {
    "duration": 355,
    "start_time": "2024-12-06T07:25:37.145Z"
   },
   {
    "duration": 241,
    "start_time": "2024-12-06T07:25:37.501Z"
   },
   {
    "duration": 77,
    "start_time": "2024-12-06T07:25:37.743Z"
   },
   {
    "duration": 5,
    "start_time": "2024-12-06T07:25:37.821Z"
   },
   {
    "duration": 570,
    "start_time": "2024-12-06T07:25:37.828Z"
   },
   {
    "duration": 5,
    "start_time": "2024-12-06T07:25:38.400Z"
   },
   {
    "duration": 21,
    "start_time": "2024-12-06T07:25:38.407Z"
   },
   {
    "duration": 7,
    "start_time": "2024-12-06T07:25:38.432Z"
   },
   {
    "duration": 432,
    "start_time": "2024-12-06T07:25:38.440Z"
   },
   {
    "duration": 476,
    "start_time": "2024-12-06T07:25:38.873Z"
   },
   {
    "duration": 492,
    "start_time": "2024-12-06T07:25:39.351Z"
   },
   {
    "duration": 8,
    "start_time": "2024-12-06T07:25:39.845Z"
   },
   {
    "duration": 524,
    "start_time": "2024-12-06T07:25:39.855Z"
   },
   {
    "duration": 520,
    "start_time": "2024-12-06T07:25:40.381Z"
   },
   {
    "duration": 482,
    "start_time": "2024-12-06T07:25:40.903Z"
   },
   {
    "duration": 2474,
    "start_time": "2024-12-06T07:25:41.386Z"
   },
   {
    "duration": 10,
    "start_time": "2024-12-06T07:25:43.862Z"
   },
   {
    "duration": 475,
    "start_time": "2024-12-06T07:25:43.874Z"
   },
   {
    "duration": 388,
    "start_time": "2024-12-06T07:25:44.351Z"
   },
   {
    "duration": 515,
    "start_time": "2024-12-06T07:25:44.740Z"
   },
   {
    "duration": 1830,
    "start_time": "2024-12-06T07:25:45.257Z"
   },
   {
    "duration": 14,
    "start_time": "2024-12-06T07:25:47.089Z"
   },
   {
    "duration": 27,
    "start_time": "2024-12-06T07:25:47.104Z"
   },
   {
    "duration": 11,
    "start_time": "2024-12-06T07:25:47.133Z"
   },
   {
    "duration": 8,
    "start_time": "2024-12-06T07:25:47.146Z"
   },
   {
    "duration": 8,
    "start_time": "2024-12-06T07:28:19.074Z"
   },
   {
    "duration": 8,
    "start_time": "2024-12-06T07:28:24.226Z"
   },
   {
    "duration": 7,
    "start_time": "2024-12-06T07:29:53.499Z"
   },
   {
    "duration": 12,
    "start_time": "2024-12-06T09:19:33.523Z"
   },
   {
    "duration": 11,
    "start_time": "2024-12-06T09:19:45.597Z"
   },
   {
    "duration": 11,
    "start_time": "2024-12-06T09:19:56.018Z"
   },
   {
    "duration": 8,
    "start_time": "2024-12-06T09:21:20.528Z"
   },
   {
    "duration": 9,
    "start_time": "2024-12-06T09:25:20.224Z"
   },
   {
    "duration": 7,
    "start_time": "2024-12-06T09:25:22.645Z"
   },
   {
    "duration": 10,
    "start_time": "2024-12-06T09:25:37.186Z"
   },
   {
    "duration": 7,
    "start_time": "2024-12-06T09:25:41.666Z"
   },
   {
    "duration": 14,
    "start_time": "2024-12-06T09:26:15.320Z"
   },
   {
    "duration": 6,
    "start_time": "2024-12-06T09:26:19.018Z"
   },
   {
    "duration": 11,
    "start_time": "2024-12-06T09:27:14.135Z"
   },
   {
    "duration": 1196,
    "start_time": "2024-12-06T09:27:17.546Z"
   },
   {
    "duration": 47,
    "start_time": "2024-12-06T09:27:18.744Z"
   },
   {
    "duration": 3,
    "start_time": "2024-12-06T09:27:18.793Z"
   },
   {
    "duration": 68,
    "start_time": "2024-12-06T09:27:18.797Z"
   },
   {
    "duration": 5,
    "start_time": "2024-12-06T09:27:18.868Z"
   },
   {
    "duration": 23,
    "start_time": "2024-12-06T09:27:18.874Z"
   },
   {
    "duration": 6,
    "start_time": "2024-12-06T09:27:18.899Z"
   },
   {
    "duration": 7,
    "start_time": "2024-12-06T09:27:18.906Z"
   },
   {
    "duration": 32,
    "start_time": "2024-12-06T09:27:18.914Z"
   },
   {
    "duration": 38,
    "start_time": "2024-12-06T09:27:18.949Z"
   },
   {
    "duration": 4,
    "start_time": "2024-12-06T09:27:18.988Z"
   },
   {
    "duration": 28,
    "start_time": "2024-12-06T09:27:18.997Z"
   },
   {
    "duration": 49,
    "start_time": "2024-12-06T09:27:19.026Z"
   },
   {
    "duration": 32,
    "start_time": "2024-12-06T09:27:19.076Z"
   },
   {
    "duration": 5,
    "start_time": "2024-12-06T09:27:19.109Z"
   },
   {
    "duration": 20,
    "start_time": "2024-12-06T09:27:19.115Z"
   },
   {
    "duration": 12,
    "start_time": "2024-12-06T09:27:19.136Z"
   },
   {
    "duration": 51,
    "start_time": "2024-12-06T09:27:19.150Z"
   },
   {
    "duration": 18,
    "start_time": "2024-12-06T09:27:19.203Z"
   },
   {
    "duration": 6,
    "start_time": "2024-12-06T09:27:19.223Z"
   },
   {
    "duration": 175,
    "start_time": "2024-12-06T09:27:19.231Z"
   },
   {
    "duration": 177,
    "start_time": "2024-12-06T09:27:19.408Z"
   },
   {
    "duration": 33,
    "start_time": "2024-12-06T09:27:19.586Z"
   },
   {
    "duration": 6,
    "start_time": "2024-12-06T09:27:19.621Z"
   },
   {
    "duration": 708,
    "start_time": "2024-12-06T09:27:19.628Z"
   },
   {
    "duration": 62,
    "start_time": "2024-12-06T09:27:20.338Z"
   },
   {
    "duration": 44,
    "start_time": "2024-12-06T09:27:20.402Z"
   },
   {
    "duration": 50,
    "start_time": "2024-12-06T09:27:20.449Z"
   },
   {
    "duration": 835,
    "start_time": "2024-12-06T09:27:20.501Z"
   },
   {
    "duration": 596,
    "start_time": "2024-12-06T09:27:21.337Z"
   },
   {
    "duration": 504,
    "start_time": "2024-12-06T09:27:21.935Z"
   },
   {
    "duration": 9,
    "start_time": "2024-12-06T09:27:22.441Z"
   },
   {
    "duration": 536,
    "start_time": "2024-12-06T09:27:22.451Z"
   },
   {
    "duration": 584,
    "start_time": "2024-12-06T09:27:22.989Z"
   },
   {
    "duration": 499,
    "start_time": "2024-12-06T09:27:23.575Z"
   },
   {
    "duration": 3246,
    "start_time": "2024-12-06T09:27:24.075Z"
   },
   {
    "duration": 8,
    "start_time": "2024-12-06T09:27:27.322Z"
   },
   {
    "duration": 513,
    "start_time": "2024-12-06T09:27:27.331Z"
   },
   {
    "duration": 404,
    "start_time": "2024-12-06T09:27:27.845Z"
   },
   {
    "duration": 597,
    "start_time": "2024-12-06T09:27:28.251Z"
   },
   {
    "duration": 1906,
    "start_time": "2024-12-06T09:27:28.850Z"
   },
   {
    "duration": 8,
    "start_time": "2024-12-06T09:27:30.757Z"
   },
   {
    "duration": 40,
    "start_time": "2024-12-06T09:27:30.766Z"
   },
   {
    "duration": 127,
    "start_time": "2024-12-06T09:27:30.807Z"
   },
   {
    "duration": 68,
    "start_time": "2024-12-06T09:27:30.936Z"
   },
   {
    "duration": 37,
    "start_time": "2024-12-06T09:27:31.006Z"
   },
   {
    "duration": 24,
    "start_time": "2024-12-06T09:27:31.045Z"
   },
   {
    "duration": 17,
    "start_time": "2024-12-06T09:33:23.392Z"
   },
   {
    "duration": 9,
    "start_time": "2024-12-06T09:34:53.593Z"
   },
   {
    "duration": 9,
    "start_time": "2024-12-06T09:40:13.751Z"
   },
   {
    "duration": 9,
    "start_time": "2024-12-06T09:40:58.652Z"
   },
   {
    "duration": 12,
    "start_time": "2024-12-06T09:41:16.331Z"
   },
   {
    "duration": 9,
    "start_time": "2024-12-06T09:41:44.841Z"
   },
   {
    "duration": 10,
    "start_time": "2024-12-06T09:43:01.428Z"
   },
   {
    "duration": 8,
    "start_time": "2024-12-06T09:43:06.514Z"
   },
   {
    "duration": 10,
    "start_time": "2024-12-06T09:53:05.255Z"
   },
   {
    "duration": 8,
    "start_time": "2024-12-06T09:56:31.214Z"
   },
   {
    "duration": 7,
    "start_time": "2024-12-06T09:56:33.088Z"
   },
   {
    "duration": 88,
    "start_time": "2024-12-06T09:56:45.726Z"
   },
   {
    "duration": 8,
    "start_time": "2024-12-06T10:10:16.290Z"
   },
   {
    "duration": 8,
    "start_time": "2024-12-06T10:11:41.614Z"
   },
   {
    "duration": 9,
    "start_time": "2024-12-06T10:11:52.630Z"
   },
   {
    "duration": 8,
    "start_time": "2024-12-06T10:11:59.239Z"
   },
   {
    "duration": 9,
    "start_time": "2024-12-06T10:12:23.019Z"
   },
   {
    "duration": 8,
    "start_time": "2024-12-06T10:12:31.271Z"
   },
   {
    "duration": 10,
    "start_time": "2024-12-06T10:13:16.189Z"
   },
   {
    "duration": 10,
    "start_time": "2024-12-06T10:13:29.197Z"
   },
   {
    "duration": 9,
    "start_time": "2024-12-06T10:13:36.030Z"
   },
   {
    "duration": 1230,
    "start_time": "2024-12-06T10:15:18.105Z"
   },
   {
    "duration": 47,
    "start_time": "2024-12-06T10:15:19.337Z"
   },
   {
    "duration": 4,
    "start_time": "2024-12-06T10:15:19.385Z"
   },
   {
    "duration": 100,
    "start_time": "2024-12-06T10:15:19.391Z"
   },
   {
    "duration": 7,
    "start_time": "2024-12-06T10:15:19.492Z"
   },
   {
    "duration": 7,
    "start_time": "2024-12-06T10:15:19.501Z"
   },
   {
    "duration": 19,
    "start_time": "2024-12-06T10:15:19.510Z"
   },
   {
    "duration": 13,
    "start_time": "2024-12-06T10:15:19.532Z"
   },
   {
    "duration": 8,
    "start_time": "2024-12-06T10:15:19.547Z"
   },
   {
    "duration": 56,
    "start_time": "2024-12-06T10:15:19.558Z"
   },
   {
    "duration": 4,
    "start_time": "2024-12-06T10:15:19.616Z"
   },
   {
    "duration": 38,
    "start_time": "2024-12-06T10:15:19.622Z"
   },
   {
    "duration": 68,
    "start_time": "2024-12-06T10:15:19.662Z"
   },
   {
    "duration": 17,
    "start_time": "2024-12-06T10:15:19.732Z"
   },
   {
    "duration": 28,
    "start_time": "2024-12-06T10:15:19.750Z"
   },
   {
    "duration": 71,
    "start_time": "2024-12-06T10:15:19.780Z"
   },
   {
    "duration": 23,
    "start_time": "2024-12-06T10:15:19.853Z"
   },
   {
    "duration": 46,
    "start_time": "2024-12-06T10:15:19.878Z"
   },
   {
    "duration": 15,
    "start_time": "2024-12-06T10:15:19.926Z"
   },
   {
    "duration": 4,
    "start_time": "2024-12-06T10:15:19.943Z"
   },
   {
    "duration": 164,
    "start_time": "2024-12-06T10:15:19.949Z"
   },
   {
    "duration": 158,
    "start_time": "2024-12-06T10:15:20.115Z"
   },
   {
    "duration": 32,
    "start_time": "2024-12-06T10:15:20.275Z"
   },
   {
    "duration": 8,
    "start_time": "2024-12-06T10:15:20.310Z"
   },
   {
    "duration": 554,
    "start_time": "2024-12-06T10:15:20.319Z"
   },
   {
    "duration": 4,
    "start_time": "2024-12-06T10:15:20.874Z"
   },
   {
    "duration": 39,
    "start_time": "2024-12-06T10:15:20.880Z"
   },
   {
    "duration": 8,
    "start_time": "2024-12-06T10:15:20.923Z"
   },
   {
    "duration": 436,
    "start_time": "2024-12-06T10:15:20.932Z"
   },
   {
    "duration": 478,
    "start_time": "2024-12-06T10:15:21.369Z"
   },
   {
    "duration": 521,
    "start_time": "2024-12-06T10:15:21.849Z"
   },
   {
    "duration": 9,
    "start_time": "2024-12-06T10:15:22.371Z"
   },
   {
    "duration": 539,
    "start_time": "2024-12-06T10:15:22.382Z"
   },
   {
    "duration": 576,
    "start_time": "2024-12-06T10:15:22.922Z"
   },
   {
    "duration": 501,
    "start_time": "2024-12-06T10:15:23.499Z"
   },
   {
    "duration": 2543,
    "start_time": "2024-12-06T10:15:24.001Z"
   },
   {
    "duration": 8,
    "start_time": "2024-12-06T10:15:26.545Z"
   },
   {
    "duration": 484,
    "start_time": "2024-12-06T10:15:26.555Z"
   },
   {
    "duration": 408,
    "start_time": "2024-12-06T10:15:27.040Z"
   },
   {
    "duration": 579,
    "start_time": "2024-12-06T10:15:27.449Z"
   },
   {
    "duration": 1923,
    "start_time": "2024-12-06T10:15:28.030Z"
   },
   {
    "duration": 8,
    "start_time": "2024-12-06T10:15:29.955Z"
   },
   {
    "duration": 23,
    "start_time": "2024-12-06T10:15:29.964Z"
   },
   {
    "duration": 9,
    "start_time": "2024-12-06T10:15:29.997Z"
   },
   {
    "duration": 66,
    "start_time": "2024-12-06T10:15:30.007Z"
   },
   {
    "duration": 120,
    "start_time": "2024-12-06T10:15:30.075Z"
   },
   {
    "duration": 55,
    "start_time": "2024-12-06T10:15:30.197Z"
   },
   {
    "duration": 119,
    "start_time": "2024-12-06T10:15:30.253Z"
   },
   {
    "duration": 74,
    "start_time": "2024-12-06T10:15:30.374Z"
   },
   {
    "duration": 93,
    "start_time": "2024-12-06T10:15:30.450Z"
   },
   {
    "duration": 10,
    "start_time": "2024-12-06T10:15:57.954Z"
   },
   {
    "duration": 100,
    "start_time": "2024-12-06T10:26:51.212Z"
   },
   {
    "duration": 12,
    "start_time": "2024-12-06T10:27:14.502Z"
   },
   {
    "duration": 12,
    "start_time": "2024-12-06T10:27:42.373Z"
   },
   {
    "duration": 8,
    "start_time": "2024-12-06T10:39:15.368Z"
   },
   {
    "duration": 10,
    "start_time": "2024-12-06T10:39:24.962Z"
   },
   {
    "duration": 14,
    "start_time": "2024-12-06T10:53:17.675Z"
   },
   {
    "duration": 12,
    "start_time": "2024-12-06T10:53:31.806Z"
   },
   {
    "duration": 96,
    "start_time": "2024-12-06T10:55:10.159Z"
   },
   {
    "duration": 306,
    "start_time": "2024-12-06T10:55:27.601Z"
   },
   {
    "duration": 356,
    "start_time": "2024-12-06T10:59:53.780Z"
   },
   {
    "duration": 496,
    "start_time": "2024-12-06T11:02:28.988Z"
   },
   {
    "duration": 443,
    "start_time": "2024-12-06T11:15:03.422Z"
   },
   {
    "duration": 13,
    "start_time": "2024-12-06T11:19:15.432Z"
   },
   {
    "duration": 1169,
    "start_time": "2024-12-06T11:19:25.638Z"
   },
   {
    "duration": 47,
    "start_time": "2024-12-06T11:19:26.809Z"
   },
   {
    "duration": 4,
    "start_time": "2024-12-06T11:19:26.857Z"
   },
   {
    "duration": 63,
    "start_time": "2024-12-06T11:19:26.863Z"
   },
   {
    "duration": 5,
    "start_time": "2024-12-06T11:19:26.927Z"
   },
   {
    "duration": 10,
    "start_time": "2024-12-06T11:19:26.934Z"
   },
   {
    "duration": 12,
    "start_time": "2024-12-06T11:19:26.945Z"
   },
   {
    "duration": 7,
    "start_time": "2024-12-06T11:19:26.959Z"
   },
   {
    "duration": 5,
    "start_time": "2024-12-06T11:19:26.968Z"
   },
   {
    "duration": 58,
    "start_time": "2024-12-06T11:19:26.976Z"
   },
   {
    "duration": 3,
    "start_time": "2024-12-06T11:19:27.036Z"
   },
   {
    "duration": 27,
    "start_time": "2024-12-06T11:19:27.041Z"
   },
   {
    "duration": 65,
    "start_time": "2024-12-06T11:19:27.069Z"
   },
   {
    "duration": 21,
    "start_time": "2024-12-06T11:19:27.135Z"
   },
   {
    "duration": 20,
    "start_time": "2024-12-06T11:19:27.157Z"
   },
   {
    "duration": 27,
    "start_time": "2024-12-06T11:19:27.179Z"
   },
   {
    "duration": 10,
    "start_time": "2024-12-06T11:19:27.208Z"
   },
   {
    "duration": 18,
    "start_time": "2024-12-06T11:19:27.219Z"
   },
   {
    "duration": 15,
    "start_time": "2024-12-06T11:19:27.238Z"
   },
   {
    "duration": 5,
    "start_time": "2024-12-06T11:19:27.255Z"
   },
   {
    "duration": 163,
    "start_time": "2024-12-06T11:19:27.261Z"
   },
   {
    "duration": 156,
    "start_time": "2024-12-06T11:19:27.426Z"
   },
   {
    "duration": 36,
    "start_time": "2024-12-06T11:19:27.584Z"
   },
   {
    "duration": 4,
    "start_time": "2024-12-06T11:19:27.622Z"
   },
   {
    "duration": 521,
    "start_time": "2024-12-06T11:19:27.627Z"
   },
   {
    "duration": 3,
    "start_time": "2024-12-06T11:19:28.150Z"
   },
   {
    "duration": 23,
    "start_time": "2024-12-06T11:19:28.154Z"
   },
   {
    "duration": 7,
    "start_time": "2024-12-06T11:19:28.181Z"
   },
   {
    "duration": 470,
    "start_time": "2024-12-06T11:19:28.197Z"
   },
   {
    "duration": 498,
    "start_time": "2024-12-06T11:19:28.669Z"
   },
   {
    "duration": 561,
    "start_time": "2024-12-06T11:19:29.168Z"
   },
   {
    "duration": 10,
    "start_time": "2024-12-06T11:19:29.730Z"
   },
   {
    "duration": 567,
    "start_time": "2024-12-06T11:19:29.741Z"
   },
   {
    "duration": 567,
    "start_time": "2024-12-06T11:19:30.310Z"
   },
   {
    "duration": 505,
    "start_time": "2024-12-06T11:19:30.878Z"
   },
   {
    "duration": 2618,
    "start_time": "2024-12-06T11:19:31.385Z"
   },
   {
    "duration": 8,
    "start_time": "2024-12-06T11:19:34.005Z"
   },
   {
    "duration": 512,
    "start_time": "2024-12-06T11:19:34.014Z"
   },
   {
    "duration": 420,
    "start_time": "2024-12-06T11:19:34.528Z"
   },
   {
    "duration": 591,
    "start_time": "2024-12-06T11:19:34.950Z"
   },
   {
    "duration": 1839,
    "start_time": "2024-12-06T11:19:35.542Z"
   },
   {
    "duration": 18,
    "start_time": "2024-12-06T11:19:37.383Z"
   },
   {
    "duration": 53,
    "start_time": "2024-12-06T11:19:37.403Z"
   },
   {
    "duration": 55,
    "start_time": "2024-12-06T11:19:37.457Z"
   },
   {
    "duration": 20,
    "start_time": "2024-12-06T11:19:37.514Z"
   },
   {
    "duration": 50,
    "start_time": "2024-12-06T11:19:37.535Z"
   },
   {
    "duration": 44,
    "start_time": "2024-12-06T11:19:37.587Z"
   },
   {
    "duration": 67,
    "start_time": "2024-12-06T11:19:37.632Z"
   },
   {
    "duration": 30,
    "start_time": "2024-12-06T11:19:37.701Z"
   },
   {
    "duration": 48,
    "start_time": "2024-12-06T11:19:37.733Z"
   },
   {
    "duration": 483,
    "start_time": "2024-12-06T11:19:37.782Z"
   },
   {
    "duration": 12,
    "start_time": "2024-12-06T11:19:57.495Z"
   },
   {
    "duration": 11,
    "start_time": "2024-12-06T11:20:08.765Z"
   },
   {
    "duration": 12,
    "start_time": "2024-12-06T11:24:05.558Z"
   },
   {
    "duration": 12,
    "start_time": "2024-12-06T11:24:10.185Z"
   },
   {
    "duration": 13,
    "start_time": "2024-12-06T11:24:21.426Z"
   },
   {
    "duration": 11,
    "start_time": "2024-12-06T11:24:36.129Z"
   },
   {
    "duration": 1208,
    "start_time": "2024-12-06T11:59:38.891Z"
   },
   {
    "duration": 46,
    "start_time": "2024-12-06T11:59:40.101Z"
   },
   {
    "duration": 4,
    "start_time": "2024-12-06T11:59:40.148Z"
   },
   {
    "duration": 74,
    "start_time": "2024-12-06T11:59:40.154Z"
   },
   {
    "duration": 6,
    "start_time": "2024-12-06T11:59:40.230Z"
   },
   {
    "duration": 13,
    "start_time": "2024-12-06T11:59:40.237Z"
   },
   {
    "duration": 14,
    "start_time": "2024-12-06T11:59:40.251Z"
   },
   {
    "duration": 17,
    "start_time": "2024-12-06T11:59:40.266Z"
   },
   {
    "duration": 6,
    "start_time": "2024-12-06T11:59:40.284Z"
   },
   {
    "duration": 41,
    "start_time": "2024-12-06T11:59:40.292Z"
   },
   {
    "duration": 3,
    "start_time": "2024-12-06T11:59:40.335Z"
   },
   {
    "duration": 50,
    "start_time": "2024-12-06T11:59:40.340Z"
   },
   {
    "duration": 49,
    "start_time": "2024-12-06T11:59:40.391Z"
   },
   {
    "duration": 27,
    "start_time": "2024-12-06T11:59:40.441Z"
   },
   {
    "duration": 24,
    "start_time": "2024-12-06T11:59:40.470Z"
   },
   {
    "duration": 21,
    "start_time": "2024-12-06T11:59:40.501Z"
   },
   {
    "duration": 11,
    "start_time": "2024-12-06T11:59:40.523Z"
   },
   {
    "duration": 14,
    "start_time": "2024-12-06T11:59:40.536Z"
   },
   {
    "duration": 12,
    "start_time": "2024-12-06T11:59:40.552Z"
   },
   {
    "duration": 18,
    "start_time": "2024-12-06T11:59:40.566Z"
   },
   {
    "duration": 142,
    "start_time": "2024-12-06T11:59:40.597Z"
   },
   {
    "duration": 150,
    "start_time": "2024-12-06T11:59:40.741Z"
   },
   {
    "duration": 26,
    "start_time": "2024-12-06T11:59:40.892Z"
   },
   {
    "duration": 4,
    "start_time": "2024-12-06T11:59:40.920Z"
   },
   {
    "duration": 509,
    "start_time": "2024-12-06T11:59:40.926Z"
   },
   {
    "duration": 4,
    "start_time": "2024-12-06T11:59:41.436Z"
   },
   {
    "duration": 20,
    "start_time": "2024-12-06T11:59:41.441Z"
   },
   {
    "duration": 7,
    "start_time": "2024-12-06T11:59:41.464Z"
   },
   {
    "duration": 482,
    "start_time": "2024-12-06T11:59:41.472Z"
   },
   {
    "duration": 494,
    "start_time": "2024-12-06T11:59:41.955Z"
   },
   {
    "duration": 503,
    "start_time": "2024-12-06T11:59:42.450Z"
   },
   {
    "duration": 8,
    "start_time": "2024-12-06T11:59:42.955Z"
   },
   {
    "duration": 571,
    "start_time": "2024-12-06T11:59:42.964Z"
   },
   {
    "duration": 566,
    "start_time": "2024-12-06T11:59:43.536Z"
   },
   {
    "duration": 582,
    "start_time": "2024-12-06T11:59:44.104Z"
   },
   {
    "duration": 2582,
    "start_time": "2024-12-06T11:59:44.688Z"
   },
   {
    "duration": 8,
    "start_time": "2024-12-06T11:59:47.272Z"
   },
   {
    "duration": 465,
    "start_time": "2024-12-06T11:59:47.282Z"
   },
   {
    "duration": 409,
    "start_time": "2024-12-06T11:59:47.749Z"
   },
   {
    "duration": 598,
    "start_time": "2024-12-06T11:59:48.160Z"
   },
   {
    "duration": 1791,
    "start_time": "2024-12-06T11:59:48.759Z"
   },
   {
    "duration": 8,
    "start_time": "2024-12-06T11:59:50.551Z"
   },
   {
    "duration": 25,
    "start_time": "2024-12-06T11:59:50.561Z"
   },
   {
    "duration": 52,
    "start_time": "2024-12-06T11:59:50.597Z"
   },
   {
    "duration": 17,
    "start_time": "2024-12-06T11:59:50.651Z"
   },
   {
    "duration": 15,
    "start_time": "2024-12-06T11:59:50.670Z"
   },
   {
    "duration": 30,
    "start_time": "2024-12-06T11:59:50.687Z"
   },
   {
    "duration": 63,
    "start_time": "2024-12-06T11:59:50.718Z"
   },
   {
    "duration": 8,
    "start_time": "2024-12-06T11:59:50.782Z"
   },
   {
    "duration": 27,
    "start_time": "2024-12-06T11:59:50.791Z"
   },
   {
    "duration": 444,
    "start_time": "2024-12-06T11:59:50.820Z"
   },
   {
    "duration": 1449,
    "start_time": "2024-12-06T12:41:47.865Z"
   },
   {
    "duration": 49,
    "start_time": "2024-12-06T12:41:49.316Z"
   },
   {
    "duration": 3,
    "start_time": "2024-12-06T12:41:49.367Z"
   },
   {
    "duration": 65,
    "start_time": "2024-12-06T12:41:49.372Z"
   },
   {
    "duration": 6,
    "start_time": "2024-12-06T12:41:49.438Z"
   },
   {
    "duration": 22,
    "start_time": "2024-12-06T12:41:49.445Z"
   },
   {
    "duration": 6,
    "start_time": "2024-12-06T12:41:49.468Z"
   },
   {
    "duration": 15,
    "start_time": "2024-12-06T12:41:49.476Z"
   },
   {
    "duration": 16,
    "start_time": "2024-12-06T12:41:49.493Z"
   },
   {
    "duration": 41,
    "start_time": "2024-12-06T12:41:49.514Z"
   },
   {
    "duration": 4,
    "start_time": "2024-12-06T12:41:49.557Z"
   },
   {
    "duration": 47,
    "start_time": "2024-12-06T12:41:49.562Z"
   },
   {
    "duration": 52,
    "start_time": "2024-12-06T12:41:49.611Z"
   },
   {
    "duration": 39,
    "start_time": "2024-12-06T12:41:49.664Z"
   },
   {
    "duration": 5,
    "start_time": "2024-12-06T12:41:49.705Z"
   },
   {
    "duration": 31,
    "start_time": "2024-12-06T12:41:49.712Z"
   },
   {
    "duration": 22,
    "start_time": "2024-12-06T12:41:49.745Z"
   },
   {
    "duration": 51,
    "start_time": "2024-12-06T12:41:49.769Z"
   },
   {
    "duration": 15,
    "start_time": "2024-12-06T12:41:49.822Z"
   },
   {
    "duration": 6,
    "start_time": "2024-12-06T12:41:49.839Z"
   },
   {
    "duration": 170,
    "start_time": "2024-12-06T12:41:49.847Z"
   },
   {
    "duration": 167,
    "start_time": "2024-12-06T12:41:50.019Z"
   },
   {
    "duration": 34,
    "start_time": "2024-12-06T12:41:50.188Z"
   },
   {
    "duration": 7,
    "start_time": "2024-12-06T12:41:50.223Z"
   },
   {
    "duration": 636,
    "start_time": "2024-12-06T12:41:50.231Z"
   },
   {
    "duration": 3,
    "start_time": "2024-12-06T12:41:50.869Z"
   },
   {
    "duration": 39,
    "start_time": "2024-12-06T12:41:50.874Z"
   },
   {
    "duration": 22,
    "start_time": "2024-12-06T12:41:50.918Z"
   },
   {
    "duration": 482,
    "start_time": "2024-12-06T12:41:50.942Z"
   },
   {
    "duration": 532,
    "start_time": "2024-12-06T12:41:51.426Z"
   },
   {
    "duration": 551,
    "start_time": "2024-12-06T12:41:51.960Z"
   },
   {
    "duration": 12,
    "start_time": "2024-12-06T12:41:52.513Z"
   },
   {
    "duration": 572,
    "start_time": "2024-12-06T12:41:52.527Z"
   },
   {
    "duration": 579,
    "start_time": "2024-12-06T12:41:53.101Z"
   },
   {
    "duration": 511,
    "start_time": "2024-12-06T12:41:53.681Z"
   },
   {
    "duration": 2700,
    "start_time": "2024-12-06T12:41:54.199Z"
   },
   {
    "duration": 10,
    "start_time": "2024-12-06T12:41:56.901Z"
   },
   {
    "duration": 473,
    "start_time": "2024-12-06T12:41:56.913Z"
   },
   {
    "duration": 469,
    "start_time": "2024-12-06T12:41:57.397Z"
   },
   {
    "duration": 614,
    "start_time": "2024-12-06T12:41:57.868Z"
   },
   {
    "duration": 2179,
    "start_time": "2024-12-06T12:41:58.484Z"
   },
   {
    "duration": 9,
    "start_time": "2024-12-06T12:42:00.665Z"
   },
   {
    "duration": 49,
    "start_time": "2024-12-06T12:42:00.676Z"
   },
   {
    "duration": 30,
    "start_time": "2024-12-06T12:42:00.726Z"
   },
   {
    "duration": 29,
    "start_time": "2024-12-06T12:42:00.758Z"
   },
   {
    "duration": 59,
    "start_time": "2024-12-06T12:42:00.788Z"
   },
   {
    "duration": 8,
    "start_time": "2024-12-06T12:42:00.850Z"
   },
   {
    "duration": 8,
    "start_time": "2024-12-06T12:42:00.863Z"
   },
   {
    "duration": 16,
    "start_time": "2024-12-06T12:42:00.872Z"
   },
   {
    "duration": 25,
    "start_time": "2024-12-06T12:42:00.889Z"
   },
   {
    "duration": 521,
    "start_time": "2024-12-06T12:42:00.916Z"
   },
   {
    "duration": 1138,
    "start_time": "2024-12-06T15:50:40.335Z"
   },
   {
    "duration": 42,
    "start_time": "2024-12-06T15:50:41.474Z"
   },
   {
    "duration": 5,
    "start_time": "2024-12-06T15:50:41.517Z"
   },
   {
    "duration": 69,
    "start_time": "2024-12-06T15:50:41.524Z"
   },
   {
    "duration": 6,
    "start_time": "2024-12-06T15:50:41.594Z"
   },
   {
    "duration": 139,
    "start_time": "2024-12-06T15:50:41.602Z"
   },
   {
    "duration": 9,
    "start_time": "2024-12-06T15:50:41.742Z"
   },
   {
    "duration": 7,
    "start_time": "2024-12-06T15:50:41.752Z"
   },
   {
    "duration": 8,
    "start_time": "2024-12-06T15:50:41.760Z"
   },
   {
    "duration": 42,
    "start_time": "2024-12-06T15:50:41.770Z"
   },
   {
    "duration": 4,
    "start_time": "2024-12-06T15:50:41.813Z"
   },
   {
    "duration": 62,
    "start_time": "2024-12-06T15:50:41.819Z"
   },
   {
    "duration": 46,
    "start_time": "2024-12-06T15:50:41.883Z"
   },
   {
    "duration": 16,
    "start_time": "2024-12-06T15:50:41.931Z"
   },
   {
    "duration": 24,
    "start_time": "2024-12-06T15:50:41.948Z"
   },
   {
    "duration": 18,
    "start_time": "2024-12-06T15:50:41.974Z"
   },
   {
    "duration": 25,
    "start_time": "2024-12-06T15:50:41.993Z"
   },
   {
    "duration": 12,
    "start_time": "2024-12-06T15:50:42.019Z"
   },
   {
    "duration": 20,
    "start_time": "2024-12-06T15:50:42.032Z"
   },
   {
    "duration": 16,
    "start_time": "2024-12-06T15:50:42.053Z"
   },
   {
    "duration": 148,
    "start_time": "2024-12-06T15:50:42.071Z"
   },
   {
    "duration": 149,
    "start_time": "2024-12-06T15:50:42.220Z"
   },
   {
    "duration": 22,
    "start_time": "2024-12-06T15:50:42.371Z"
   },
   {
    "duration": 5,
    "start_time": "2024-12-06T15:50:42.394Z"
   },
   {
    "duration": 509,
    "start_time": "2024-12-06T15:50:42.401Z"
   },
   {
    "duration": 4,
    "start_time": "2024-12-06T15:50:42.912Z"
   },
   {
    "duration": 70,
    "start_time": "2024-12-06T15:50:42.917Z"
   },
   {
    "duration": 7,
    "start_time": "2024-12-06T15:50:42.991Z"
   },
   {
    "duration": 427,
    "start_time": "2024-12-06T15:50:42.999Z"
   },
   {
    "duration": 474,
    "start_time": "2024-12-06T15:50:43.427Z"
   },
   {
    "duration": 497,
    "start_time": "2024-12-06T15:50:43.903Z"
   },
   {
    "duration": 12,
    "start_time": "2024-12-06T15:50:44.402Z"
   },
   {
    "duration": 539,
    "start_time": "2024-12-06T15:50:44.417Z"
   },
   {
    "duration": 539,
    "start_time": "2024-12-06T15:50:44.958Z"
   },
   {
    "duration": 502,
    "start_time": "2024-12-06T15:50:45.499Z"
   },
   {
    "duration": 2482,
    "start_time": "2024-12-06T15:50:46.003Z"
   },
   {
    "duration": 9,
    "start_time": "2024-12-06T15:50:48.486Z"
   },
   {
    "duration": 440,
    "start_time": "2024-12-06T15:50:48.496Z"
   },
   {
    "duration": 432,
    "start_time": "2024-12-06T15:50:48.937Z"
   },
   {
    "duration": 537,
    "start_time": "2024-12-06T15:50:49.371Z"
   },
   {
    "duration": 1873,
    "start_time": "2024-12-06T15:50:49.910Z"
   },
   {
    "duration": 10,
    "start_time": "2024-12-06T15:50:51.785Z"
   },
   {
    "duration": 79,
    "start_time": "2024-12-06T15:50:51.796Z"
   },
   {
    "duration": 47,
    "start_time": "2024-12-06T15:50:51.877Z"
   },
   {
    "duration": 36,
    "start_time": "2024-12-06T15:50:51.926Z"
   },
   {
    "duration": 44,
    "start_time": "2024-12-06T15:50:51.964Z"
   },
   {
    "duration": 24,
    "start_time": "2024-12-06T15:50:52.010Z"
   },
   {
    "duration": 38,
    "start_time": "2024-12-06T15:50:52.036Z"
   },
   {
    "duration": 21,
    "start_time": "2024-12-06T15:50:52.075Z"
   },
   {
    "duration": 43,
    "start_time": "2024-12-06T15:50:52.098Z"
   },
   {
    "duration": 492,
    "start_time": "2024-12-06T15:50:52.143Z"
   },
   {
    "duration": 1361,
    "start_time": "2024-12-07T08:03:41.753Z"
   },
   {
    "duration": 174,
    "start_time": "2024-12-07T08:03:43.116Z"
   },
   {
    "duration": 4,
    "start_time": "2024-12-07T08:03:43.291Z"
   },
   {
    "duration": 72,
    "start_time": "2024-12-07T08:03:43.297Z"
   },
   {
    "duration": 18,
    "start_time": "2024-12-07T08:03:43.371Z"
   },
   {
    "duration": 11,
    "start_time": "2024-12-07T08:03:43.391Z"
   },
   {
    "duration": 5,
    "start_time": "2024-12-07T08:03:43.404Z"
   },
   {
    "duration": 11,
    "start_time": "2024-12-07T08:03:43.410Z"
   },
   {
    "duration": 5,
    "start_time": "2024-12-07T08:03:43.422Z"
   },
   {
    "duration": 59,
    "start_time": "2024-12-07T08:03:43.430Z"
   },
   {
    "duration": 4,
    "start_time": "2024-12-07T08:03:43.491Z"
   },
   {
    "duration": 29,
    "start_time": "2024-12-07T08:03:43.496Z"
   },
   {
    "duration": 65,
    "start_time": "2024-12-07T08:03:43.526Z"
   },
   {
    "duration": 15,
    "start_time": "2024-12-07T08:03:43.593Z"
   },
   {
    "duration": 4,
    "start_time": "2024-12-07T08:03:43.610Z"
   },
   {
    "duration": 31,
    "start_time": "2024-12-07T08:03:43.615Z"
   },
   {
    "duration": 12,
    "start_time": "2024-12-07T08:03:43.648Z"
   },
   {
    "duration": 40,
    "start_time": "2024-12-07T08:03:43.662Z"
   },
   {
    "duration": 20,
    "start_time": "2024-12-07T08:03:43.703Z"
   },
   {
    "duration": 72,
    "start_time": "2024-12-07T08:03:43.725Z"
   },
   {
    "duration": 157,
    "start_time": "2024-12-07T08:03:43.799Z"
   },
   {
    "duration": 144,
    "start_time": "2024-12-07T08:03:43.957Z"
   },
   {
    "duration": 23,
    "start_time": "2024-12-07T08:03:44.103Z"
   },
   {
    "duration": 8,
    "start_time": "2024-12-07T08:03:44.127Z"
   },
   {
    "duration": 555,
    "start_time": "2024-12-07T08:03:44.136Z"
   },
   {
    "duration": 3,
    "start_time": "2024-12-07T08:03:44.693Z"
   },
   {
    "duration": 106,
    "start_time": "2024-12-07T08:03:44.698Z"
   },
   {
    "duration": 10,
    "start_time": "2024-12-07T08:03:44.810Z"
   },
   {
    "duration": 541,
    "start_time": "2024-12-07T08:03:44.822Z"
   },
   {
    "duration": 489,
    "start_time": "2024-12-07T08:03:45.365Z"
   },
   {
    "duration": 507,
    "start_time": "2024-12-07T08:03:45.856Z"
   },
   {
    "duration": 10,
    "start_time": "2024-12-07T08:03:46.365Z"
   },
   {
    "duration": 530,
    "start_time": "2024-12-07T08:03:46.389Z"
   },
   {
    "duration": 549,
    "start_time": "2024-12-07T08:03:46.920Z"
   },
   {
    "duration": 517,
    "start_time": "2024-12-07T08:03:47.471Z"
   },
   {
    "duration": 2624,
    "start_time": "2024-12-07T08:03:47.990Z"
   },
   {
    "duration": 8,
    "start_time": "2024-12-07T08:03:50.616Z"
   },
   {
    "duration": 479,
    "start_time": "2024-12-07T08:03:50.625Z"
   },
   {
    "duration": 443,
    "start_time": "2024-12-07T08:03:51.106Z"
   },
   {
    "duration": 603,
    "start_time": "2024-12-07T08:03:51.550Z"
   },
   {
    "duration": 1912,
    "start_time": "2024-12-07T08:03:52.155Z"
   },
   {
    "duration": 8,
    "start_time": "2024-12-07T08:03:54.069Z"
   },
   {
    "duration": 62,
    "start_time": "2024-12-07T08:03:54.088Z"
   },
   {
    "duration": 22,
    "start_time": "2024-12-07T08:03:54.152Z"
   },
   {
    "duration": 7,
    "start_time": "2024-12-07T08:03:54.176Z"
   },
   {
    "duration": 11,
    "start_time": "2024-12-07T08:03:54.184Z"
   },
   {
    "duration": 7,
    "start_time": "2024-12-07T08:03:54.197Z"
   },
   {
    "duration": 10,
    "start_time": "2024-12-07T08:03:54.205Z"
   },
   {
    "duration": 10,
    "start_time": "2024-12-07T08:03:54.217Z"
   },
   {
    "duration": 10,
    "start_time": "2024-12-07T08:03:54.229Z"
   },
   {
    "duration": 539,
    "start_time": "2024-12-07T08:03:54.240Z"
   },
   {
    "duration": 49,
    "start_time": "2024-12-07T09:30:04.318Z"
   },
   {
    "duration": 1372,
    "start_time": "2024-12-07T09:30:10.349Z"
   },
   {
    "duration": 92,
    "start_time": "2024-12-07T09:30:11.723Z"
   },
   {
    "duration": 4,
    "start_time": "2024-12-07T09:30:11.817Z"
   },
   {
    "duration": 64,
    "start_time": "2024-12-07T09:30:11.822Z"
   },
   {
    "duration": 4,
    "start_time": "2024-12-07T09:30:11.888Z"
   },
   {
    "duration": 11,
    "start_time": "2024-12-07T09:30:11.894Z"
   },
   {
    "duration": 18,
    "start_time": "2024-12-07T09:30:11.906Z"
   },
   {
    "duration": 7,
    "start_time": "2024-12-07T09:30:11.925Z"
   },
   {
    "duration": 8,
    "start_time": "2024-12-07T09:30:11.933Z"
   },
   {
    "duration": 58,
    "start_time": "2024-12-07T09:30:11.943Z"
   },
   {
    "duration": 4,
    "start_time": "2024-12-07T09:30:12.002Z"
   },
   {
    "duration": 37,
    "start_time": "2024-12-07T09:30:12.007Z"
   },
   {
    "duration": 48,
    "start_time": "2024-12-07T09:30:12.046Z"
   },
   {
    "duration": 26,
    "start_time": "2024-12-07T09:30:12.095Z"
   },
   {
    "duration": 100,
    "start_time": "2024-12-07T09:30:12.123Z"
   },
   {
    "duration": 0,
    "start_time": "2024-12-07T09:30:12.226Z"
   },
   {
    "duration": 0,
    "start_time": "2024-12-07T09:30:12.227Z"
   },
   {
    "duration": 0,
    "start_time": "2024-12-07T09:30:12.228Z"
   },
   {
    "duration": 0,
    "start_time": "2024-12-07T09:30:12.229Z"
   },
   {
    "duration": 0,
    "start_time": "2024-12-07T09:30:12.230Z"
   },
   {
    "duration": 0,
    "start_time": "2024-12-07T09:30:12.231Z"
   },
   {
    "duration": 0,
    "start_time": "2024-12-07T09:30:12.232Z"
   },
   {
    "duration": 0,
    "start_time": "2024-12-07T09:30:12.233Z"
   },
   {
    "duration": 0,
    "start_time": "2024-12-07T09:30:12.234Z"
   },
   {
    "duration": 0,
    "start_time": "2024-12-07T09:30:12.235Z"
   },
   {
    "duration": 0,
    "start_time": "2024-12-07T09:30:12.236Z"
   },
   {
    "duration": 0,
    "start_time": "2024-12-07T09:30:12.238Z"
   },
   {
    "duration": 0,
    "start_time": "2024-12-07T09:30:12.239Z"
   },
   {
    "duration": 0,
    "start_time": "2024-12-07T09:30:12.240Z"
   },
   {
    "duration": 0,
    "start_time": "2024-12-07T09:30:12.241Z"
   },
   {
    "duration": 0,
    "start_time": "2024-12-07T09:30:12.242Z"
   },
   {
    "duration": 0,
    "start_time": "2024-12-07T09:30:12.243Z"
   },
   {
    "duration": 0,
    "start_time": "2024-12-07T09:30:12.244Z"
   },
   {
    "duration": 0,
    "start_time": "2024-12-07T09:30:12.245Z"
   },
   {
    "duration": 0,
    "start_time": "2024-12-07T09:30:12.246Z"
   },
   {
    "duration": 0,
    "start_time": "2024-12-07T09:30:12.247Z"
   },
   {
    "duration": 0,
    "start_time": "2024-12-07T09:30:12.248Z"
   },
   {
    "duration": 0,
    "start_time": "2024-12-07T09:30:12.249Z"
   },
   {
    "duration": 0,
    "start_time": "2024-12-07T09:30:12.250Z"
   },
   {
    "duration": 0,
    "start_time": "2024-12-07T09:30:12.291Z"
   },
   {
    "duration": 0,
    "start_time": "2024-12-07T09:30:12.293Z"
   },
   {
    "duration": 0,
    "start_time": "2024-12-07T09:30:12.294Z"
   },
   {
    "duration": 0,
    "start_time": "2024-12-07T09:30:12.295Z"
   },
   {
    "duration": 0,
    "start_time": "2024-12-07T09:30:12.296Z"
   },
   {
    "duration": 0,
    "start_time": "2024-12-07T09:30:12.297Z"
   },
   {
    "duration": 0,
    "start_time": "2024-12-07T09:30:12.298Z"
   },
   {
    "duration": 0,
    "start_time": "2024-12-07T09:30:12.299Z"
   },
   {
    "duration": 0,
    "start_time": "2024-12-07T09:30:12.300Z"
   },
   {
    "duration": 0,
    "start_time": "2024-12-07T09:30:12.301Z"
   },
   {
    "duration": 0,
    "start_time": "2024-12-07T09:30:12.302Z"
   },
   {
    "duration": 0,
    "start_time": "2024-12-07T09:30:12.303Z"
   },
   {
    "duration": 3,
    "start_time": "2024-12-07T09:34:27.471Z"
   },
   {
    "duration": 1227,
    "start_time": "2024-12-07T09:35:59.169Z"
   },
   {
    "duration": 42,
    "start_time": "2024-12-07T09:36:00.398Z"
   },
   {
    "duration": 4,
    "start_time": "2024-12-07T09:36:00.441Z"
   },
   {
    "duration": 94,
    "start_time": "2024-12-07T09:36:00.447Z"
   },
   {
    "duration": 5,
    "start_time": "2024-12-07T09:36:00.542Z"
   },
   {
    "duration": 25,
    "start_time": "2024-12-07T09:36:00.548Z"
   },
   {
    "duration": 50,
    "start_time": "2024-12-07T09:36:00.575Z"
   },
   {
    "duration": 13,
    "start_time": "2024-12-07T09:36:00.627Z"
   },
   {
    "duration": 7,
    "start_time": "2024-12-07T09:36:00.642Z"
   },
   {
    "duration": 54,
    "start_time": "2024-12-07T09:36:00.653Z"
   },
   {
    "duration": 4,
    "start_time": "2024-12-07T09:36:00.709Z"
   },
   {
    "duration": 86,
    "start_time": "2024-12-07T09:36:00.715Z"
   },
   {
    "duration": 34,
    "start_time": "2024-12-07T09:36:00.803Z"
   },
   {
    "duration": 11,
    "start_time": "2024-12-07T09:36:00.839Z"
   },
   {
    "duration": 11,
    "start_time": "2024-12-07T09:36:00.851Z"
   },
   {
    "duration": 15,
    "start_time": "2024-12-07T09:36:00.863Z"
   },
   {
    "duration": 28,
    "start_time": "2024-12-07T09:36:00.879Z"
   },
   {
    "duration": 24,
    "start_time": "2024-12-07T09:36:00.909Z"
   },
   {
    "duration": 17,
    "start_time": "2024-12-07T09:36:00.934Z"
   },
   {
    "duration": 13,
    "start_time": "2024-12-07T09:36:00.952Z"
   },
   {
    "duration": 166,
    "start_time": "2024-12-07T09:36:00.966Z"
   },
   {
    "duration": 147,
    "start_time": "2024-12-07T09:36:01.134Z"
   },
   {
    "duration": 28,
    "start_time": "2024-12-07T09:36:01.282Z"
   },
   {
    "duration": 7,
    "start_time": "2024-12-07T09:36:01.311Z"
   },
   {
    "duration": 532,
    "start_time": "2024-12-07T09:36:01.320Z"
   },
   {
    "duration": 3,
    "start_time": "2024-12-07T09:36:01.854Z"
   },
   {
    "duration": 34,
    "start_time": "2024-12-07T09:36:01.859Z"
   },
   {
    "duration": 8,
    "start_time": "2024-12-07T09:36:01.896Z"
   },
   {
    "duration": 461,
    "start_time": "2024-12-07T09:36:01.905Z"
   },
   {
    "duration": 483,
    "start_time": "2024-12-07T09:36:02.367Z"
   },
   {
    "duration": 524,
    "start_time": "2024-12-07T09:36:02.852Z"
   },
   {
    "duration": 19,
    "start_time": "2024-12-07T09:36:03.377Z"
   },
   {
    "duration": 832,
    "start_time": "2024-12-07T09:36:03.398Z"
   },
   {
    "duration": 1069,
    "start_time": "2024-12-07T09:36:04.232Z"
   },
   {
    "duration": 521,
    "start_time": "2024-12-07T09:36:05.303Z"
   },
   {
    "duration": 2572,
    "start_time": "2024-12-07T09:36:05.826Z"
   },
   {
    "duration": 9,
    "start_time": "2024-12-07T09:36:08.400Z"
   },
   {
    "duration": 536,
    "start_time": "2024-12-07T09:36:08.410Z"
   },
   {
    "duration": 403,
    "start_time": "2024-12-07T09:36:08.948Z"
   },
   {
    "duration": 592,
    "start_time": "2024-12-07T09:36:09.352Z"
   },
   {
    "duration": 2584,
    "start_time": "2024-12-07T09:36:09.946Z"
   },
   {
    "duration": 8,
    "start_time": "2024-12-07T09:36:12.532Z"
   },
   {
    "duration": 25,
    "start_time": "2024-12-07T09:36:12.541Z"
   },
   {
    "duration": 9,
    "start_time": "2024-12-07T09:36:12.568Z"
   },
   {
    "duration": 7,
    "start_time": "2024-12-07T09:36:12.592Z"
   },
   {
    "duration": 11,
    "start_time": "2024-12-07T09:36:12.600Z"
   },
   {
    "duration": 7,
    "start_time": "2024-12-07T09:36:12.612Z"
   },
   {
    "duration": 7,
    "start_time": "2024-12-07T09:36:12.621Z"
   },
   {
    "duration": 10,
    "start_time": "2024-12-07T09:36:12.630Z"
   },
   {
    "duration": 8,
    "start_time": "2024-12-07T09:36:12.642Z"
   },
   {
    "duration": 515,
    "start_time": "2024-12-07T09:36:12.652Z"
   },
   {
    "duration": 1191,
    "start_time": "2024-12-07T09:40:26.094Z"
   },
   {
    "duration": 42,
    "start_time": "2024-12-07T09:40:27.287Z"
   },
   {
    "duration": 3,
    "start_time": "2024-12-07T09:40:27.330Z"
   },
   {
    "duration": 66,
    "start_time": "2024-12-07T09:40:27.335Z"
   },
   {
    "duration": 5,
    "start_time": "2024-12-07T09:40:27.403Z"
   },
   {
    "duration": 6,
    "start_time": "2024-12-07T09:40:27.409Z"
   },
   {
    "duration": 92,
    "start_time": "2024-12-07T09:40:27.416Z"
   },
   {
    "duration": 0,
    "start_time": "2024-12-07T09:40:27.510Z"
   },
   {
    "duration": 0,
    "start_time": "2024-12-07T09:40:27.512Z"
   },
   {
    "duration": 0,
    "start_time": "2024-12-07T09:40:27.513Z"
   },
   {
    "duration": 0,
    "start_time": "2024-12-07T09:40:27.514Z"
   },
   {
    "duration": 0,
    "start_time": "2024-12-07T09:40:27.515Z"
   },
   {
    "duration": 0,
    "start_time": "2024-12-07T09:40:27.516Z"
   },
   {
    "duration": 0,
    "start_time": "2024-12-07T09:40:27.516Z"
   },
   {
    "duration": 0,
    "start_time": "2024-12-07T09:40:27.517Z"
   },
   {
    "duration": 0,
    "start_time": "2024-12-07T09:40:27.518Z"
   },
   {
    "duration": 0,
    "start_time": "2024-12-07T09:40:27.519Z"
   },
   {
    "duration": 0,
    "start_time": "2024-12-07T09:40:27.520Z"
   },
   {
    "duration": 0,
    "start_time": "2024-12-07T09:40:27.520Z"
   },
   {
    "duration": 0,
    "start_time": "2024-12-07T09:40:27.521Z"
   },
   {
    "duration": 0,
    "start_time": "2024-12-07T09:40:27.522Z"
   },
   {
    "duration": 0,
    "start_time": "2024-12-07T09:40:27.523Z"
   },
   {
    "duration": 0,
    "start_time": "2024-12-07T09:40:27.524Z"
   },
   {
    "duration": 0,
    "start_time": "2024-12-07T09:40:27.525Z"
   },
   {
    "duration": 0,
    "start_time": "2024-12-07T09:40:27.526Z"
   },
   {
    "duration": 0,
    "start_time": "2024-12-07T09:40:27.527Z"
   },
   {
    "duration": 0,
    "start_time": "2024-12-07T09:40:27.528Z"
   },
   {
    "duration": 0,
    "start_time": "2024-12-07T09:40:27.529Z"
   },
   {
    "duration": 0,
    "start_time": "2024-12-07T09:40:27.529Z"
   },
   {
    "duration": 0,
    "start_time": "2024-12-07T09:40:27.530Z"
   },
   {
    "duration": 0,
    "start_time": "2024-12-07T09:40:27.531Z"
   },
   {
    "duration": 0,
    "start_time": "2024-12-07T09:40:27.532Z"
   },
   {
    "duration": 0,
    "start_time": "2024-12-07T09:40:27.533Z"
   },
   {
    "duration": 0,
    "start_time": "2024-12-07T09:40:27.534Z"
   },
   {
    "duration": 0,
    "start_time": "2024-12-07T09:40:27.535Z"
   },
   {
    "duration": 0,
    "start_time": "2024-12-07T09:40:27.536Z"
   },
   {
    "duration": 0,
    "start_time": "2024-12-07T09:40:27.536Z"
   },
   {
    "duration": 0,
    "start_time": "2024-12-07T09:40:27.537Z"
   },
   {
    "duration": 0,
    "start_time": "2024-12-07T09:40:27.538Z"
   },
   {
    "duration": 0,
    "start_time": "2024-12-07T09:40:27.539Z"
   },
   {
    "duration": 0,
    "start_time": "2024-12-07T09:40:27.540Z"
   },
   {
    "duration": 0,
    "start_time": "2024-12-07T09:40:27.541Z"
   },
   {
    "duration": 0,
    "start_time": "2024-12-07T09:40:27.542Z"
   },
   {
    "duration": 0,
    "start_time": "2024-12-07T09:40:27.543Z"
   },
   {
    "duration": 0,
    "start_time": "2024-12-07T09:40:27.544Z"
   },
   {
    "duration": 0,
    "start_time": "2024-12-07T09:40:27.545Z"
   },
   {
    "duration": 0,
    "start_time": "2024-12-07T09:40:27.546Z"
   },
   {
    "duration": 1,
    "start_time": "2024-12-07T09:40:27.546Z"
   },
   {
    "duration": 0,
    "start_time": "2024-12-07T09:40:27.592Z"
   },
   {
    "duration": 0,
    "start_time": "2024-12-07T09:40:27.593Z"
   },
   {
    "duration": 0,
    "start_time": "2024-12-07T09:40:27.594Z"
   },
   {
    "duration": 1165,
    "start_time": "2024-12-07T09:40:44.320Z"
   },
   {
    "duration": 42,
    "start_time": "2024-12-07T09:40:45.486Z"
   },
   {
    "duration": 4,
    "start_time": "2024-12-07T09:40:45.529Z"
   },
   {
    "duration": 73,
    "start_time": "2024-12-07T09:40:45.535Z"
   },
   {
    "duration": 4,
    "start_time": "2024-12-07T09:40:45.610Z"
   },
   {
    "duration": 8,
    "start_time": "2024-12-07T09:40:45.615Z"
   },
   {
    "duration": 5,
    "start_time": "2024-12-07T09:40:45.624Z"
   },
   {
    "duration": 6,
    "start_time": "2024-12-07T09:40:45.630Z"
   },
   {
    "duration": 5,
    "start_time": "2024-12-07T09:40:45.637Z"
   },
   {
    "duration": 68,
    "start_time": "2024-12-07T09:40:45.644Z"
   },
   {
    "duration": 3,
    "start_time": "2024-12-07T09:40:45.714Z"
   },
   {
    "duration": 29,
    "start_time": "2024-12-07T09:40:45.718Z"
   },
   {
    "duration": 59,
    "start_time": "2024-12-07T09:40:45.749Z"
   },
   {
    "duration": 15,
    "start_time": "2024-12-07T09:40:45.810Z"
   },
   {
    "duration": 3,
    "start_time": "2024-12-07T09:40:45.827Z"
   },
   {
    "duration": 20,
    "start_time": "2024-12-07T09:40:45.831Z"
   },
   {
    "duration": 42,
    "start_time": "2024-12-07T09:40:45.853Z"
   },
   {
    "duration": 13,
    "start_time": "2024-12-07T09:40:45.896Z"
   },
   {
    "duration": 15,
    "start_time": "2024-12-07T09:40:45.910Z"
   },
   {
    "duration": 3,
    "start_time": "2024-12-07T09:40:45.927Z"
   },
   {
    "duration": 164,
    "start_time": "2024-12-07T09:40:45.932Z"
   },
   {
    "duration": 140,
    "start_time": "2024-12-07T09:40:46.097Z"
   },
   {
    "duration": 22,
    "start_time": "2024-12-07T09:40:46.239Z"
   },
   {
    "duration": 5,
    "start_time": "2024-12-07T09:40:46.262Z"
   },
   {
    "duration": 501,
    "start_time": "2024-12-07T09:40:46.268Z"
   },
   {
    "duration": 3,
    "start_time": "2024-12-07T09:40:46.771Z"
   },
   {
    "duration": 19,
    "start_time": "2024-12-07T09:40:46.776Z"
   },
   {
    "duration": 7,
    "start_time": "2024-12-07T09:40:46.798Z"
   },
   {
    "duration": 441,
    "start_time": "2024-12-07T09:40:46.807Z"
   },
   {
    "duration": 478,
    "start_time": "2024-12-07T09:40:47.249Z"
   },
   {
    "duration": 513,
    "start_time": "2024-12-07T09:40:47.728Z"
   },
   {
    "duration": 8,
    "start_time": "2024-12-07T09:40:48.243Z"
   },
   {
    "duration": 522,
    "start_time": "2024-12-07T09:40:48.252Z"
   },
   {
    "duration": 526,
    "start_time": "2024-12-07T09:40:48.775Z"
   },
   {
    "duration": 521,
    "start_time": "2024-12-07T09:40:49.303Z"
   },
   {
    "duration": 2522,
    "start_time": "2024-12-07T09:40:49.825Z"
   },
   {
    "duration": 7,
    "start_time": "2024-12-07T09:40:52.348Z"
   },
   {
    "duration": 475,
    "start_time": "2024-12-07T09:40:52.357Z"
   },
   {
    "duration": 403,
    "start_time": "2024-12-07T09:40:52.833Z"
   },
   {
    "duration": 600,
    "start_time": "2024-12-07T09:40:53.238Z"
   },
   {
    "duration": 1828,
    "start_time": "2024-12-07T09:40:53.891Z"
   },
   {
    "duration": 8,
    "start_time": "2024-12-07T09:40:55.721Z"
   },
   {
    "duration": 19,
    "start_time": "2024-12-07T09:40:55.730Z"
   },
   {
    "duration": 9,
    "start_time": "2024-12-07T09:40:55.750Z"
   },
   {
    "duration": 32,
    "start_time": "2024-12-07T09:40:55.760Z"
   },
   {
    "duration": 11,
    "start_time": "2024-12-07T09:40:55.793Z"
   },
   {
    "duration": 7,
    "start_time": "2024-12-07T09:40:55.805Z"
   },
   {
    "duration": 8,
    "start_time": "2024-12-07T09:40:55.813Z"
   },
   {
    "duration": 7,
    "start_time": "2024-12-07T09:40:55.823Z"
   },
   {
    "duration": 8,
    "start_time": "2024-12-07T09:40:55.832Z"
   },
   {
    "duration": 580,
    "start_time": "2024-12-07T09:40:55.841Z"
   },
   {
    "duration": 1173,
    "start_time": "2024-12-07T09:43:50.626Z"
   },
   {
    "duration": 42,
    "start_time": "2024-12-07T09:43:51.800Z"
   },
   {
    "duration": 4,
    "start_time": "2024-12-07T09:43:51.844Z"
   },
   {
    "duration": 63,
    "start_time": "2024-12-07T09:43:51.850Z"
   },
   {
    "duration": 5,
    "start_time": "2024-12-07T09:43:51.915Z"
   },
   {
    "duration": 20,
    "start_time": "2024-12-07T09:43:51.922Z"
   },
   {
    "duration": 9,
    "start_time": "2024-12-07T09:43:51.944Z"
   },
   {
    "duration": 10,
    "start_time": "2024-12-07T09:43:51.956Z"
   },
   {
    "duration": 5,
    "start_time": "2024-12-07T09:43:51.968Z"
   },
   {
    "duration": 42,
    "start_time": "2024-12-07T09:43:51.991Z"
   },
   {
    "duration": 4,
    "start_time": "2024-12-07T09:43:52.034Z"
   },
   {
    "duration": 28,
    "start_time": "2024-12-07T09:43:52.040Z"
   },
   {
    "duration": 54,
    "start_time": "2024-12-07T09:43:52.069Z"
   },
   {
    "duration": 9,
    "start_time": "2024-12-07T09:43:52.125Z"
   },
   {
    "duration": 9,
    "start_time": "2024-12-07T09:43:52.135Z"
   },
   {
    "duration": 10,
    "start_time": "2024-12-07T09:43:52.146Z"
   },
   {
    "duration": 46,
    "start_time": "2024-12-07T09:43:52.157Z"
   },
   {
    "duration": 12,
    "start_time": "2024-12-07T09:43:52.204Z"
   },
   {
    "duration": 4,
    "start_time": "2024-12-07T09:43:52.218Z"
   },
   {
    "duration": 163,
    "start_time": "2024-12-07T09:43:52.223Z"
   },
   {
    "duration": 143,
    "start_time": "2024-12-07T09:43:52.387Z"
   },
   {
    "duration": 22,
    "start_time": "2024-12-07T09:43:52.531Z"
   },
   {
    "duration": 6,
    "start_time": "2024-12-07T09:43:52.555Z"
   },
   {
    "duration": 525,
    "start_time": "2024-12-07T09:43:52.563Z"
   },
   {
    "duration": 4,
    "start_time": "2024-12-07T09:43:53.092Z"
   },
   {
    "duration": 10,
    "start_time": "2024-12-07T09:43:53.097Z"
   },
   {
    "duration": 6,
    "start_time": "2024-12-07T09:43:53.109Z"
   },
   {
    "duration": 459,
    "start_time": "2024-12-07T09:43:53.118Z"
   },
   {
    "duration": 630,
    "start_time": "2024-12-07T09:43:53.578Z"
   },
   {
    "duration": 1104,
    "start_time": "2024-12-07T09:43:54.209Z"
   },
   {
    "duration": 8,
    "start_time": "2024-12-07T09:43:55.315Z"
   },
   {
    "duration": 556,
    "start_time": "2024-12-07T09:43:55.325Z"
   },
   {
    "duration": 528,
    "start_time": "2024-12-07T09:43:55.882Z"
   },
   {
    "duration": 546,
    "start_time": "2024-12-07T09:43:56.412Z"
   },
   {
    "duration": 2538,
    "start_time": "2024-12-07T09:43:56.959Z"
   },
   {
    "duration": 10,
    "start_time": "2024-12-07T09:43:59.499Z"
   },
   {
    "duration": 448,
    "start_time": "2024-12-07T09:43:59.511Z"
   },
   {
    "duration": 435,
    "start_time": "2024-12-07T09:43:59.960Z"
   },
   {
    "duration": 597,
    "start_time": "2024-12-07T09:44:00.397Z"
   },
   {
    "duration": 1855,
    "start_time": "2024-12-07T09:44:00.996Z"
   },
   {
    "duration": 8,
    "start_time": "2024-12-07T09:44:02.852Z"
   },
   {
    "duration": 51,
    "start_time": "2024-12-07T09:44:02.862Z"
   },
   {
    "duration": 17,
    "start_time": "2024-12-07T09:44:02.915Z"
   },
   {
    "duration": 7,
    "start_time": "2024-12-07T09:44:02.933Z"
   },
   {
    "duration": 15,
    "start_time": "2024-12-07T09:44:02.941Z"
   },
   {
    "duration": 7,
    "start_time": "2024-12-07T09:44:02.957Z"
   },
   {
    "duration": 23,
    "start_time": "2024-12-07T09:44:02.965Z"
   },
   {
    "duration": 8,
    "start_time": "2024-12-07T09:44:02.991Z"
   },
   {
    "duration": 22,
    "start_time": "2024-12-07T09:44:03.000Z"
   },
   {
    "duration": 523,
    "start_time": "2024-12-07T09:44:03.024Z"
   },
   {
    "duration": 1176,
    "start_time": "2024-12-07T09:51:29.341Z"
   },
   {
    "duration": 43,
    "start_time": "2024-12-07T09:51:30.519Z"
   },
   {
    "duration": 4,
    "start_time": "2024-12-07T09:51:30.564Z"
   },
   {
    "duration": 117,
    "start_time": "2024-12-07T09:51:30.570Z"
   },
   {
    "duration": 7,
    "start_time": "2024-12-07T09:51:30.689Z"
   },
   {
    "duration": 28,
    "start_time": "2024-12-07T09:51:30.697Z"
   },
   {
    "duration": 14,
    "start_time": "2024-12-07T09:51:30.726Z"
   },
   {
    "duration": 8,
    "start_time": "2024-12-07T09:51:30.742Z"
   },
   {
    "duration": 39,
    "start_time": "2024-12-07T09:51:30.752Z"
   },
   {
    "duration": 39,
    "start_time": "2024-12-07T09:51:30.793Z"
   },
   {
    "duration": 9,
    "start_time": "2024-12-07T09:51:30.833Z"
   },
   {
    "duration": 38,
    "start_time": "2024-12-07T09:51:30.844Z"
   },
   {
    "duration": 53,
    "start_time": "2024-12-07T09:51:30.884Z"
   },
   {
    "duration": 69,
    "start_time": "2024-12-07T09:51:30.939Z"
   },
   {
    "duration": 21,
    "start_time": "2024-12-07T09:51:31.009Z"
   },
   {
    "duration": 70,
    "start_time": "2024-12-07T09:51:31.032Z"
   },
   {
    "duration": 13,
    "start_time": "2024-12-07T09:51:31.104Z"
   },
   {
    "duration": 75,
    "start_time": "2024-12-07T09:51:31.118Z"
   },
   {
    "duration": 4,
    "start_time": "2024-12-07T09:51:31.195Z"
   },
   {
    "duration": 310,
    "start_time": "2024-12-07T09:51:31.201Z"
   },
   {
    "duration": 298,
    "start_time": "2024-12-07T09:51:31.513Z"
   },
   {
    "duration": 79,
    "start_time": "2024-12-07T09:51:31.813Z"
   },
   {
    "duration": 5,
    "start_time": "2024-12-07T09:51:31.894Z"
   },
   {
    "duration": 775,
    "start_time": "2024-12-07T09:51:31.900Z"
   },
   {
    "duration": 3,
    "start_time": "2024-12-07T09:51:32.677Z"
   },
   {
    "duration": 12,
    "start_time": "2024-12-07T09:51:32.691Z"
   },
   {
    "duration": 7,
    "start_time": "2024-12-07T09:51:32.705Z"
   },
   {
    "duration": 444,
    "start_time": "2024-12-07T09:51:32.716Z"
   },
   {
    "duration": 831,
    "start_time": "2024-12-07T09:51:33.161Z"
   },
   {
    "duration": 899,
    "start_time": "2024-12-07T09:51:33.993Z"
   },
   {
    "duration": 10,
    "start_time": "2024-12-07T09:51:34.893Z"
   },
   {
    "duration": 895,
    "start_time": "2024-12-07T09:51:34.905Z"
   },
   {
    "duration": 921,
    "start_time": "2024-12-07T09:51:35.801Z"
   },
   {
    "duration": 532,
    "start_time": "2024-12-07T09:51:36.724Z"
   },
   {
    "duration": 2616,
    "start_time": "2024-12-07T09:51:37.258Z"
   },
   {
    "duration": 18,
    "start_time": "2024-12-07T09:51:39.876Z"
   },
   {
    "duration": 457,
    "start_time": "2024-12-07T09:51:39.896Z"
   },
   {
    "duration": 460,
    "start_time": "2024-12-07T09:51:40.355Z"
   },
   {
    "duration": 532,
    "start_time": "2024-12-07T09:51:40.817Z"
   },
   {
    "duration": 1885,
    "start_time": "2024-12-07T09:51:41.351Z"
   },
   {
    "duration": 8,
    "start_time": "2024-12-07T09:51:43.238Z"
   },
   {
    "duration": 48,
    "start_time": "2024-12-07T09:51:43.248Z"
   },
   {
    "duration": 16,
    "start_time": "2024-12-07T09:51:43.297Z"
   },
   {
    "duration": 7,
    "start_time": "2024-12-07T09:51:43.314Z"
   },
   {
    "duration": 17,
    "start_time": "2024-12-07T09:51:43.322Z"
   },
   {
    "duration": 12,
    "start_time": "2024-12-07T09:51:43.341Z"
   },
   {
    "duration": 28,
    "start_time": "2024-12-07T09:51:43.355Z"
   },
   {
    "duration": 16,
    "start_time": "2024-12-07T09:51:43.385Z"
   },
   {
    "duration": 12,
    "start_time": "2024-12-07T09:51:43.403Z"
   },
   {
    "duration": 454,
    "start_time": "2024-12-07T09:51:43.417Z"
   },
   {
    "duration": 1195,
    "start_time": "2024-12-07T09:59:33.562Z"
   },
   {
    "duration": 41,
    "start_time": "2024-12-07T09:59:34.759Z"
   },
   {
    "duration": 4,
    "start_time": "2024-12-07T09:59:34.802Z"
   },
   {
    "duration": 63,
    "start_time": "2024-12-07T09:59:34.808Z"
   },
   {
    "duration": 5,
    "start_time": "2024-12-07T09:59:34.872Z"
   },
   {
    "duration": 6,
    "start_time": "2024-12-07T09:59:34.892Z"
   },
   {
    "duration": 13,
    "start_time": "2024-12-07T09:59:34.899Z"
   },
   {
    "duration": 34,
    "start_time": "2024-12-07T09:59:34.914Z"
   },
   {
    "duration": 10,
    "start_time": "2024-12-07T09:59:34.949Z"
   },
   {
    "duration": 46,
    "start_time": "2024-12-07T09:59:34.962Z"
   },
   {
    "duration": 4,
    "start_time": "2024-12-07T09:59:35.009Z"
   },
   {
    "duration": 35,
    "start_time": "2024-12-07T09:59:35.014Z"
   },
   {
    "duration": 62,
    "start_time": "2024-12-07T09:59:35.051Z"
   },
   {
    "duration": 18,
    "start_time": "2024-12-07T09:59:35.115Z"
   },
   {
    "duration": 22,
    "start_time": "2024-12-07T09:59:35.135Z"
   },
   {
    "duration": 35,
    "start_time": "2024-12-07T09:59:35.159Z"
   },
   {
    "duration": 14,
    "start_time": "2024-12-07T09:59:35.195Z"
   },
   {
    "duration": 13,
    "start_time": "2024-12-07T09:59:35.210Z"
   },
   {
    "duration": 4,
    "start_time": "2024-12-07T09:59:35.224Z"
   },
   {
    "duration": 163,
    "start_time": "2024-12-07T09:59:35.230Z"
   },
   {
    "duration": 145,
    "start_time": "2024-12-07T09:59:35.395Z"
   },
   {
    "duration": 22,
    "start_time": "2024-12-07T09:59:35.542Z"
   },
   {
    "duration": 5,
    "start_time": "2024-12-07T09:59:35.565Z"
   },
   {
    "duration": 515,
    "start_time": "2024-12-07T09:59:35.571Z"
   },
   {
    "duration": 3,
    "start_time": "2024-12-07T09:59:36.091Z"
   },
   {
    "duration": 11,
    "start_time": "2024-12-07T09:59:36.096Z"
   },
   {
    "duration": 10,
    "start_time": "2024-12-07T09:59:36.108Z"
   },
   {
    "duration": 431,
    "start_time": "2024-12-07T09:59:36.121Z"
   },
   {
    "duration": 471,
    "start_time": "2024-12-07T09:59:36.554Z"
   },
   {
    "duration": 488,
    "start_time": "2024-12-07T09:59:37.026Z"
   },
   {
    "duration": 9,
    "start_time": "2024-12-07T09:59:37.515Z"
   },
   {
    "duration": 555,
    "start_time": "2024-12-07T09:59:37.525Z"
   },
   {
    "duration": 577,
    "start_time": "2024-12-07T09:59:38.081Z"
   },
   {
    "duration": 497,
    "start_time": "2024-12-07T09:59:38.660Z"
   },
   {
    "duration": 2452,
    "start_time": "2024-12-07T09:59:39.158Z"
   },
   {
    "duration": 7,
    "start_time": "2024-12-07T09:59:41.612Z"
   },
   {
    "duration": 431,
    "start_time": "2024-12-07T09:59:41.621Z"
   },
   {
    "duration": 389,
    "start_time": "2024-12-07T09:59:42.053Z"
   },
   {
    "duration": 575,
    "start_time": "2024-12-07T09:59:42.443Z"
   },
   {
    "duration": 1765,
    "start_time": "2024-12-07T09:59:43.019Z"
   },
   {
    "duration": 11,
    "start_time": "2024-12-07T09:59:44.786Z"
   },
   {
    "duration": 13,
    "start_time": "2024-12-07T09:59:44.799Z"
   },
   {
    "duration": 9,
    "start_time": "2024-12-07T09:59:44.813Z"
   },
   {
    "duration": 7,
    "start_time": "2024-12-07T09:59:44.823Z"
   },
   {
    "duration": 11,
    "start_time": "2024-12-07T09:59:44.831Z"
   },
   {
    "duration": 7,
    "start_time": "2024-12-07T09:59:44.843Z"
   },
   {
    "duration": 47,
    "start_time": "2024-12-07T09:59:44.851Z"
   },
   {
    "duration": 7,
    "start_time": "2024-12-07T09:59:44.900Z"
   },
   {
    "duration": 12,
    "start_time": "2024-12-07T09:59:44.909Z"
   },
   {
    "duration": 448,
    "start_time": "2024-12-07T09:59:44.923Z"
   },
   {
    "duration": 1164,
    "start_time": "2024-12-07T10:02:21.936Z"
   },
   {
    "duration": 41,
    "start_time": "2024-12-07T10:02:23.102Z"
   },
   {
    "duration": 3,
    "start_time": "2024-12-07T10:02:23.145Z"
   },
   {
    "duration": 76,
    "start_time": "2024-12-07T10:02:23.150Z"
   },
   {
    "duration": 5,
    "start_time": "2024-12-07T10:02:23.228Z"
   },
   {
    "duration": 41,
    "start_time": "2024-12-07T10:02:23.234Z"
   },
   {
    "duration": 23,
    "start_time": "2024-12-07T10:02:23.277Z"
   },
   {
    "duration": 9,
    "start_time": "2024-12-07T10:02:23.301Z"
   },
   {
    "duration": 38,
    "start_time": "2024-12-07T10:02:23.312Z"
   },
   {
    "duration": 37,
    "start_time": "2024-12-07T10:02:23.352Z"
   },
   {
    "duration": 3,
    "start_time": "2024-12-07T10:02:23.391Z"
   },
   {
    "duration": 27,
    "start_time": "2024-12-07T10:02:23.396Z"
   },
   {
    "duration": 46,
    "start_time": "2024-12-07T10:02:23.425Z"
   },
   {
    "duration": 32,
    "start_time": "2024-12-07T10:02:23.473Z"
   },
   {
    "duration": 24,
    "start_time": "2024-12-07T10:02:23.506Z"
   },
   {
    "duration": 13,
    "start_time": "2024-12-07T10:02:23.532Z"
   },
   {
    "duration": 13,
    "start_time": "2024-12-07T10:02:23.546Z"
   },
   {
    "duration": 40,
    "start_time": "2024-12-07T10:02:23.561Z"
   },
   {
    "duration": 4,
    "start_time": "2024-12-07T10:02:23.602Z"
   },
   {
    "duration": 154,
    "start_time": "2024-12-07T10:02:23.608Z"
   },
   {
    "duration": 147,
    "start_time": "2024-12-07T10:02:23.764Z"
   },
   {
    "duration": 24,
    "start_time": "2024-12-07T10:02:23.912Z"
   },
   {
    "duration": 5,
    "start_time": "2024-12-07T10:02:23.937Z"
   },
   {
    "duration": 503,
    "start_time": "2024-12-07T10:02:23.944Z"
   },
   {
    "duration": 4,
    "start_time": "2024-12-07T10:02:24.448Z"
   },
   {
    "duration": 31,
    "start_time": "2024-12-07T10:02:24.453Z"
   },
   {
    "duration": 7,
    "start_time": "2024-12-07T10:02:24.486Z"
   },
   {
    "duration": 508,
    "start_time": "2024-12-07T10:02:24.497Z"
   },
   {
    "duration": 900,
    "start_time": "2024-12-07T10:02:25.006Z"
   },
   {
    "duration": 764,
    "start_time": "2024-12-07T10:02:25.908Z"
   },
   {
    "duration": 9,
    "start_time": "2024-12-07T10:02:26.673Z"
   },
   {
    "duration": 526,
    "start_time": "2024-12-07T10:02:26.691Z"
   },
   {
    "duration": 575,
    "start_time": "2024-12-07T10:02:27.219Z"
   },
   {
    "duration": 547,
    "start_time": "2024-12-07T10:02:27.796Z"
   },
   {
    "duration": 2461,
    "start_time": "2024-12-07T10:02:28.345Z"
   },
   {
    "duration": 10,
    "start_time": "2024-12-07T10:02:30.808Z"
   },
   {
    "duration": 510,
    "start_time": "2024-12-07T10:02:30.820Z"
   },
   {
    "duration": 412,
    "start_time": "2024-12-07T10:02:31.332Z"
   },
   {
    "duration": 550,
    "start_time": "2024-12-07T10:02:31.746Z"
   },
   {
    "duration": 1799,
    "start_time": "2024-12-07T10:02:32.297Z"
   },
   {
    "duration": 8,
    "start_time": "2024-12-07T10:02:34.098Z"
   },
   {
    "duration": 15,
    "start_time": "2024-12-07T10:02:34.107Z"
   },
   {
    "duration": 17,
    "start_time": "2024-12-07T10:02:34.124Z"
   },
   {
    "duration": 9,
    "start_time": "2024-12-07T10:02:34.143Z"
   },
   {
    "duration": 42,
    "start_time": "2024-12-07T10:02:34.153Z"
   },
   {
    "duration": 7,
    "start_time": "2024-12-07T10:02:34.197Z"
   },
   {
    "duration": 11,
    "start_time": "2024-12-07T10:02:34.205Z"
   },
   {
    "duration": 22,
    "start_time": "2024-12-07T10:02:34.218Z"
   },
   {
    "duration": 8,
    "start_time": "2024-12-07T10:02:34.242Z"
   },
   {
    "duration": 491,
    "start_time": "2024-12-07T10:02:34.251Z"
   },
   {
    "duration": 1209,
    "start_time": "2024-12-07T10:02:41.082Z"
   },
   {
    "duration": 42,
    "start_time": "2024-12-07T10:02:42.293Z"
   },
   {
    "duration": 3,
    "start_time": "2024-12-07T10:02:42.336Z"
   },
   {
    "duration": 76,
    "start_time": "2024-12-07T10:02:42.341Z"
   },
   {
    "duration": 25,
    "start_time": "2024-12-07T10:02:42.418Z"
   },
   {
    "duration": 12,
    "start_time": "2024-12-07T10:02:42.445Z"
   },
   {
    "duration": 15,
    "start_time": "2024-12-07T10:02:42.458Z"
   },
   {
    "duration": 11,
    "start_time": "2024-12-07T10:02:42.474Z"
   },
   {
    "duration": 82,
    "start_time": "2024-12-07T10:02:42.487Z"
   },
   {
    "duration": 42,
    "start_time": "2024-12-07T10:02:42.571Z"
   },
   {
    "duration": 4,
    "start_time": "2024-12-07T10:02:42.615Z"
   },
   {
    "duration": 29,
    "start_time": "2024-12-07T10:02:42.620Z"
   },
   {
    "duration": 51,
    "start_time": "2024-12-07T10:02:42.650Z"
   },
   {
    "duration": 11,
    "start_time": "2024-12-07T10:02:42.703Z"
   },
   {
    "duration": 11,
    "start_time": "2024-12-07T10:02:42.716Z"
   },
   {
    "duration": 10,
    "start_time": "2024-12-07T10:02:42.728Z"
   },
   {
    "duration": 13,
    "start_time": "2024-12-07T10:02:42.740Z"
   },
   {
    "duration": 41,
    "start_time": "2024-12-07T10:02:42.755Z"
   },
   {
    "duration": 5,
    "start_time": "2024-12-07T10:02:42.797Z"
   },
   {
    "duration": 159,
    "start_time": "2024-12-07T10:02:42.804Z"
   },
   {
    "duration": 153,
    "start_time": "2024-12-07T10:02:42.965Z"
   },
   {
    "duration": 31,
    "start_time": "2024-12-07T10:02:43.120Z"
   },
   {
    "duration": 5,
    "start_time": "2024-12-07T10:02:43.152Z"
   },
   {
    "duration": 509,
    "start_time": "2024-12-07T10:02:43.158Z"
   },
   {
    "duration": 3,
    "start_time": "2024-12-07T10:02:43.669Z"
   },
   {
    "duration": 27,
    "start_time": "2024-12-07T10:02:43.674Z"
   },
   {
    "duration": 7,
    "start_time": "2024-12-07T10:02:43.703Z"
   },
   {
    "duration": 436,
    "start_time": "2024-12-07T10:02:43.713Z"
   },
   {
    "duration": 476,
    "start_time": "2024-12-07T10:02:44.151Z"
   },
   {
    "duration": 505,
    "start_time": "2024-12-07T10:02:44.629Z"
   },
   {
    "duration": 8,
    "start_time": "2024-12-07T10:02:45.135Z"
   },
   {
    "duration": 536,
    "start_time": "2024-12-07T10:02:45.145Z"
   },
   {
    "duration": 554,
    "start_time": "2024-12-07T10:02:45.683Z"
   },
   {
    "duration": 515,
    "start_time": "2024-12-07T10:02:46.239Z"
   },
   {
    "duration": 2501,
    "start_time": "2024-12-07T10:02:46.755Z"
   },
   {
    "duration": 7,
    "start_time": "2024-12-07T10:02:49.258Z"
   },
   {
    "duration": 480,
    "start_time": "2024-12-07T10:02:49.266Z"
   },
   {
    "duration": 391,
    "start_time": "2024-12-07T10:02:49.748Z"
   },
   {
    "duration": 589,
    "start_time": "2024-12-07T10:02:50.140Z"
   },
   {
    "duration": 1809,
    "start_time": "2024-12-07T10:02:50.731Z"
   },
   {
    "duration": 9,
    "start_time": "2024-12-07T10:02:52.542Z"
   },
   {
    "duration": 20,
    "start_time": "2024-12-07T10:02:52.553Z"
   },
   {
    "duration": 39,
    "start_time": "2024-12-07T10:02:52.575Z"
   },
   {
    "duration": 8,
    "start_time": "2024-12-07T10:02:52.616Z"
   },
   {
    "duration": 12,
    "start_time": "2024-12-07T10:02:52.625Z"
   },
   {
    "duration": 7,
    "start_time": "2024-12-07T10:02:52.639Z"
   },
   {
    "duration": 16,
    "start_time": "2024-12-07T10:02:52.648Z"
   },
   {
    "duration": 27,
    "start_time": "2024-12-07T10:02:52.666Z"
   },
   {
    "duration": 9,
    "start_time": "2024-12-07T10:02:52.695Z"
   },
   {
    "duration": 492,
    "start_time": "2024-12-07T10:02:52.705Z"
   },
   {
    "duration": 105,
    "start_time": "2024-12-07T10:11:30.656Z"
   },
   {
    "duration": 23,
    "start_time": "2024-12-07T10:11:40.797Z"
   },
   {
    "duration": 1173,
    "start_time": "2024-12-07T10:12:14.841Z"
   },
   {
    "duration": 43,
    "start_time": "2024-12-07T10:12:16.016Z"
   },
   {
    "duration": 3,
    "start_time": "2024-12-07T10:12:16.061Z"
   },
   {
    "duration": 72,
    "start_time": "2024-12-07T10:12:16.065Z"
   },
   {
    "duration": 5,
    "start_time": "2024-12-07T10:12:16.139Z"
   },
   {
    "duration": 8,
    "start_time": "2024-12-07T10:12:16.145Z"
   },
   {
    "duration": 15,
    "start_time": "2024-12-07T10:12:16.155Z"
   },
   {
    "duration": 20,
    "start_time": "2024-12-07T10:12:16.172Z"
   },
   {
    "duration": 25,
    "start_time": "2024-12-07T10:12:16.194Z"
   },
   {
    "duration": 59,
    "start_time": "2024-12-07T10:12:16.222Z"
   },
   {
    "duration": 4,
    "start_time": "2024-12-07T10:12:16.283Z"
   },
   {
    "duration": 46,
    "start_time": "2024-12-07T10:12:16.288Z"
   },
   {
    "duration": 34,
    "start_time": "2024-12-07T10:12:16.336Z"
   },
   {
    "duration": 19,
    "start_time": "2024-12-07T10:12:16.371Z"
   },
   {
    "duration": 13,
    "start_time": "2024-12-07T10:12:16.392Z"
   },
   {
    "duration": 10,
    "start_time": "2024-12-07T10:12:16.406Z"
   },
   {
    "duration": 50,
    "start_time": "2024-12-07T10:12:16.418Z"
   },
   {
    "duration": 13,
    "start_time": "2024-12-07T10:12:16.469Z"
   },
   {
    "duration": 34,
    "start_time": "2024-12-07T10:12:16.484Z"
   },
   {
    "duration": 172,
    "start_time": "2024-12-07T10:12:16.520Z"
   },
   {
    "duration": 153,
    "start_time": "2024-12-07T10:12:16.694Z"
   },
   {
    "duration": 23,
    "start_time": "2024-12-07T10:12:16.849Z"
   },
   {
    "duration": 18,
    "start_time": "2024-12-07T10:12:16.874Z"
   },
   {
    "duration": 533,
    "start_time": "2024-12-07T10:12:16.893Z"
   },
   {
    "duration": 3,
    "start_time": "2024-12-07T10:12:17.428Z"
   },
   {
    "duration": 29,
    "start_time": "2024-12-07T10:12:17.432Z"
   },
   {
    "duration": 21,
    "start_time": "2024-12-07T10:12:17.462Z"
   },
   {
    "duration": 545,
    "start_time": "2024-12-07T10:12:17.486Z"
   },
   {
    "duration": 987,
    "start_time": "2024-12-07T10:12:18.033Z"
   },
   {
    "duration": 879,
    "start_time": "2024-12-07T10:12:19.021Z"
   },
   {
    "duration": 9,
    "start_time": "2024-12-07T10:12:19.902Z"
   },
   {
    "duration": 559,
    "start_time": "2024-12-07T10:12:19.912Z"
   },
   {
    "duration": 603,
    "start_time": "2024-12-07T10:12:20.473Z"
   },
   {
    "duration": 522,
    "start_time": "2024-12-07T10:12:21.078Z"
   },
   {
    "duration": 2558,
    "start_time": "2024-12-07T10:12:21.603Z"
   },
   {
    "duration": 8,
    "start_time": "2024-12-07T10:12:24.163Z"
   },
   {
    "duration": 492,
    "start_time": "2024-12-07T10:12:24.172Z"
   },
   {
    "duration": 462,
    "start_time": "2024-12-07T10:12:24.666Z"
   },
   {
    "duration": 607,
    "start_time": "2024-12-07T10:12:25.130Z"
   },
   {
    "duration": 1933,
    "start_time": "2024-12-07T10:12:25.739Z"
   },
   {
    "duration": 25,
    "start_time": "2024-12-07T10:12:27.674Z"
   },
   {
    "duration": 15,
    "start_time": "2024-12-07T10:12:27.706Z"
   },
   {
    "duration": 9,
    "start_time": "2024-12-07T10:12:27.722Z"
   },
   {
    "duration": 7,
    "start_time": "2024-12-07T10:12:27.733Z"
   },
   {
    "duration": 42,
    "start_time": "2024-12-07T10:12:27.742Z"
   },
   {
    "duration": 14,
    "start_time": "2024-12-07T10:12:27.786Z"
   },
   {
    "duration": 37,
    "start_time": "2024-12-07T10:12:27.802Z"
   },
   {
    "duration": 9,
    "start_time": "2024-12-07T10:12:27.841Z"
   },
   {
    "duration": 9,
    "start_time": "2024-12-07T10:12:27.852Z"
   },
   {
    "duration": 509,
    "start_time": "2024-12-07T10:12:27.863Z"
   },
   {
    "duration": 1325,
    "start_time": "2024-12-07T10:14:26.384Z"
   },
   {
    "duration": 43,
    "start_time": "2024-12-07T10:14:27.711Z"
   },
   {
    "duration": 4,
    "start_time": "2024-12-07T10:14:27.755Z"
   },
   {
    "duration": 77,
    "start_time": "2024-12-07T10:14:27.761Z"
   },
   {
    "duration": 5,
    "start_time": "2024-12-07T10:14:27.839Z"
   },
   {
    "duration": 22,
    "start_time": "2024-12-07T10:14:27.846Z"
   },
   {
    "duration": 31,
    "start_time": "2024-12-07T10:14:27.870Z"
   },
   {
    "duration": 7,
    "start_time": "2024-12-07T10:14:27.902Z"
   },
   {
    "duration": 6,
    "start_time": "2024-12-07T10:14:27.910Z"
   },
   {
    "duration": 39,
    "start_time": "2024-12-07T10:14:27.918Z"
   },
   {
    "duration": 4,
    "start_time": "2024-12-07T10:14:27.959Z"
   },
   {
    "duration": 47,
    "start_time": "2024-12-07T10:14:27.964Z"
   },
   {
    "duration": 35,
    "start_time": "2024-12-07T10:14:28.013Z"
   },
   {
    "duration": 11,
    "start_time": "2024-12-07T10:14:28.049Z"
   },
   {
    "duration": 39,
    "start_time": "2024-12-07T10:14:28.061Z"
   },
   {
    "duration": 11,
    "start_time": "2024-12-07T10:14:28.102Z"
   },
   {
    "duration": 12,
    "start_time": "2024-12-07T10:14:28.114Z"
   },
   {
    "duration": 25,
    "start_time": "2024-12-07T10:14:28.127Z"
   },
   {
    "duration": 10,
    "start_time": "2024-12-07T10:14:28.153Z"
   },
   {
    "duration": 190,
    "start_time": "2024-12-07T10:14:28.165Z"
   },
   {
    "duration": 150,
    "start_time": "2024-12-07T10:14:28.356Z"
   },
   {
    "duration": 23,
    "start_time": "2024-12-07T10:14:28.507Z"
   },
   {
    "duration": 5,
    "start_time": "2024-12-07T10:14:28.532Z"
   },
   {
    "duration": 541,
    "start_time": "2024-12-07T10:14:28.538Z"
   },
   {
    "duration": 11,
    "start_time": "2024-12-07T10:14:29.081Z"
   },
   {
    "duration": 21,
    "start_time": "2024-12-07T10:14:29.093Z"
   },
   {
    "duration": 7,
    "start_time": "2024-12-07T10:14:29.115Z"
   },
   {
    "duration": 518,
    "start_time": "2024-12-07T10:14:29.125Z"
   },
   {
    "duration": 487,
    "start_time": "2024-12-07T10:14:29.644Z"
   },
   {
    "duration": 1084,
    "start_time": "2024-12-07T10:14:30.132Z"
   },
   {
    "duration": 9,
    "start_time": "2024-12-07T10:14:31.217Z"
   },
   {
    "duration": 969,
    "start_time": "2024-12-07T10:14:31.227Z"
   },
   {
    "duration": 1016,
    "start_time": "2024-12-07T10:14:32.198Z"
   },
   {
    "duration": 878,
    "start_time": "2024-12-07T10:14:33.216Z"
   },
   {
    "duration": 3422,
    "start_time": "2024-12-07T10:14:34.095Z"
   },
   {
    "duration": 8,
    "start_time": "2024-12-07T10:14:37.518Z"
   },
   {
    "duration": 435,
    "start_time": "2024-12-07T10:14:37.528Z"
   },
   {
    "duration": 467,
    "start_time": "2024-12-07T10:14:37.964Z"
   },
   {
    "duration": 518,
    "start_time": "2024-12-07T10:14:38.433Z"
   },
   {
    "duration": 1844,
    "start_time": "2024-12-07T10:14:38.953Z"
   },
   {
    "duration": 7,
    "start_time": "2024-12-07T10:14:40.799Z"
   },
   {
    "duration": 13,
    "start_time": "2024-12-07T10:14:40.808Z"
   },
   {
    "duration": 8,
    "start_time": "2024-12-07T10:14:40.822Z"
   },
   {
    "duration": 6,
    "start_time": "2024-12-07T10:14:40.832Z"
   },
   {
    "duration": 10,
    "start_time": "2024-12-07T10:14:40.839Z"
   },
   {
    "duration": 43,
    "start_time": "2024-12-07T10:14:40.850Z"
   },
   {
    "duration": 8,
    "start_time": "2024-12-07T10:14:40.894Z"
   },
   {
    "duration": 7,
    "start_time": "2024-12-07T10:14:40.903Z"
   },
   {
    "duration": 7,
    "start_time": "2024-12-07T10:14:40.912Z"
   },
   {
    "duration": 514,
    "start_time": "2024-12-07T10:14:40.920Z"
   },
   {
    "duration": 6,
    "start_time": "2024-12-07T10:14:41.945Z"
   },
   {
    "duration": 140,
    "start_time": "2024-12-07T10:22:09.031Z"
   },
   {
    "duration": 148,
    "start_time": "2024-12-07T10:22:23.570Z"
   },
   {
    "duration": 149,
    "start_time": "2024-12-07T10:22:37.877Z"
   },
   {
    "duration": 145,
    "start_time": "2024-12-07T10:25:48.897Z"
   },
   {
    "duration": 141,
    "start_time": "2024-12-07T10:26:51.986Z"
   },
   {
    "duration": 147,
    "start_time": "2024-12-07T10:27:04.331Z"
   },
   {
    "duration": 286,
    "start_time": "2024-12-07T10:27:45.847Z"
   },
   {
    "duration": 163,
    "start_time": "2024-12-07T10:28:14.107Z"
   },
   {
    "duration": 5,
    "start_time": "2024-12-07T10:36:29.524Z"
   },
   {
    "duration": 481,
    "start_time": "2024-12-07T10:36:30.787Z"
   },
   {
    "duration": 7,
    "start_time": "2024-12-07T10:37:41.268Z"
   },
   {
    "duration": 404,
    "start_time": "2024-12-07T10:37:42.468Z"
   },
   {
    "duration": 1163,
    "start_time": "2024-12-07T10:37:53.936Z"
   },
   {
    "duration": 42,
    "start_time": "2024-12-07T10:37:55.101Z"
   },
   {
    "duration": 4,
    "start_time": "2024-12-07T10:37:55.144Z"
   },
   {
    "duration": 65,
    "start_time": "2024-12-07T10:37:55.150Z"
   },
   {
    "duration": 5,
    "start_time": "2024-12-07T10:37:55.216Z"
   },
   {
    "duration": 23,
    "start_time": "2024-12-07T10:37:55.223Z"
   },
   {
    "duration": 8,
    "start_time": "2024-12-07T10:37:55.248Z"
   },
   {
    "duration": 6,
    "start_time": "2024-12-07T10:37:55.258Z"
   },
   {
    "duration": 6,
    "start_time": "2024-12-07T10:37:55.265Z"
   },
   {
    "duration": 56,
    "start_time": "2024-12-07T10:37:55.274Z"
   },
   {
    "duration": 4,
    "start_time": "2024-12-07T10:37:55.332Z"
   },
   {
    "duration": 54,
    "start_time": "2024-12-07T10:37:55.337Z"
   },
   {
    "duration": 35,
    "start_time": "2024-12-07T10:37:55.392Z"
   },
   {
    "duration": 10,
    "start_time": "2024-12-07T10:37:55.428Z"
   },
   {
    "duration": 9,
    "start_time": "2024-12-07T10:37:55.439Z"
   },
   {
    "duration": 10,
    "start_time": "2024-12-07T10:37:55.450Z"
   },
   {
    "duration": 42,
    "start_time": "2024-12-07T10:37:55.461Z"
   },
   {
    "duration": 12,
    "start_time": "2024-12-07T10:37:55.505Z"
   },
   {
    "duration": 6,
    "start_time": "2024-12-07T10:37:55.518Z"
   },
   {
    "duration": 188,
    "start_time": "2024-12-07T10:37:55.525Z"
   },
   {
    "duration": 175,
    "start_time": "2024-12-07T10:37:55.715Z"
   },
   {
    "duration": 23,
    "start_time": "2024-12-07T10:37:55.892Z"
   },
   {
    "duration": 6,
    "start_time": "2024-12-07T10:37:55.916Z"
   },
   {
    "duration": 778,
    "start_time": "2024-12-07T10:37:55.923Z"
   },
   {
    "duration": 4,
    "start_time": "2024-12-07T10:37:56.703Z"
   },
   {
    "duration": 24,
    "start_time": "2024-12-07T10:37:56.708Z"
   },
   {
    "duration": 6,
    "start_time": "2024-12-07T10:37:56.734Z"
   },
   {
    "duration": 727,
    "start_time": "2024-12-07T10:37:56.791Z"
   },
   {
    "duration": 152,
    "start_time": "2024-12-07T10:37:57.519Z"
   },
   {
    "duration": 0,
    "start_time": "2024-12-07T10:37:57.673Z"
   },
   {
    "duration": 0,
    "start_time": "2024-12-07T10:37:57.675Z"
   },
   {
    "duration": 0,
    "start_time": "2024-12-07T10:37:57.692Z"
   },
   {
    "duration": 0,
    "start_time": "2024-12-07T10:37:57.693Z"
   },
   {
    "duration": 0,
    "start_time": "2024-12-07T10:37:57.695Z"
   },
   {
    "duration": 0,
    "start_time": "2024-12-07T10:37:57.696Z"
   },
   {
    "duration": 0,
    "start_time": "2024-12-07T10:37:57.697Z"
   },
   {
    "duration": 0,
    "start_time": "2024-12-07T10:37:57.699Z"
   },
   {
    "duration": 0,
    "start_time": "2024-12-07T10:37:57.700Z"
   },
   {
    "duration": 0,
    "start_time": "2024-12-07T10:37:57.701Z"
   },
   {
    "duration": 0,
    "start_time": "2024-12-07T10:37:57.703Z"
   },
   {
    "duration": 0,
    "start_time": "2024-12-07T10:37:57.704Z"
   },
   {
    "duration": 0,
    "start_time": "2024-12-07T10:37:57.706Z"
   },
   {
    "duration": 0,
    "start_time": "2024-12-07T10:37:57.707Z"
   },
   {
    "duration": 0,
    "start_time": "2024-12-07T10:37:57.709Z"
   },
   {
    "duration": 0,
    "start_time": "2024-12-07T10:37:57.710Z"
   },
   {
    "duration": 0,
    "start_time": "2024-12-07T10:37:57.711Z"
   },
   {
    "duration": 0,
    "start_time": "2024-12-07T10:37:57.713Z"
   },
   {
    "duration": 0,
    "start_time": "2024-12-07T10:37:57.714Z"
   },
   {
    "duration": 0,
    "start_time": "2024-12-07T10:37:57.715Z"
   },
   {
    "duration": 0,
    "start_time": "2024-12-07T10:37:57.717Z"
   },
   {
    "duration": 8,
    "start_time": "2024-12-07T10:38:11.074Z"
   },
   {
    "duration": 496,
    "start_time": "2024-12-07T10:38:15.669Z"
   },
   {
    "duration": 367,
    "start_time": "2024-12-07T10:38:33.377Z"
   },
   {
    "duration": 1163,
    "start_time": "2024-12-07T10:41:32.729Z"
   },
   {
    "duration": 42,
    "start_time": "2024-12-07T10:41:33.893Z"
   },
   {
    "duration": 4,
    "start_time": "2024-12-07T10:41:33.936Z"
   },
   {
    "duration": 63,
    "start_time": "2024-12-07T10:41:33.941Z"
   },
   {
    "duration": 5,
    "start_time": "2024-12-07T10:41:34.006Z"
   },
   {
    "duration": 16,
    "start_time": "2024-12-07T10:41:34.012Z"
   },
   {
    "duration": 24,
    "start_time": "2024-12-07T10:41:34.030Z"
   },
   {
    "duration": 19,
    "start_time": "2024-12-07T10:41:34.055Z"
   },
   {
    "duration": 17,
    "start_time": "2024-12-07T10:41:34.075Z"
   },
   {
    "duration": 37,
    "start_time": "2024-12-07T10:41:34.095Z"
   },
   {
    "duration": 4,
    "start_time": "2024-12-07T10:41:34.133Z"
   },
   {
    "duration": 33,
    "start_time": "2024-12-07T10:41:34.138Z"
   },
   {
    "duration": 54,
    "start_time": "2024-12-07T10:41:34.172Z"
   },
   {
    "duration": 24,
    "start_time": "2024-12-07T10:41:34.228Z"
   },
   {
    "duration": 15,
    "start_time": "2024-12-07T10:41:34.253Z"
   },
   {
    "duration": 23,
    "start_time": "2024-12-07T10:41:34.270Z"
   },
   {
    "duration": 12,
    "start_time": "2024-12-07T10:41:34.294Z"
   },
   {
    "duration": 17,
    "start_time": "2024-12-07T10:41:34.308Z"
   },
   {
    "duration": 5,
    "start_time": "2024-12-07T10:41:34.326Z"
   },
   {
    "duration": 376,
    "start_time": "2024-12-07T10:41:34.332Z"
   },
   {
    "duration": 395,
    "start_time": "2024-12-07T10:41:34.710Z"
   },
   {
    "duration": 23,
    "start_time": "2024-12-07T10:41:35.106Z"
   },
   {
    "duration": 5,
    "start_time": "2024-12-07T10:41:35.130Z"
   },
   {
    "duration": 804,
    "start_time": "2024-12-07T10:41:35.136Z"
   },
   {
    "duration": 3,
    "start_time": "2024-12-07T10:41:35.941Z"
   },
   {
    "duration": 12,
    "start_time": "2024-12-07T10:41:35.946Z"
   },
   {
    "duration": 19,
    "start_time": "2024-12-07T10:41:35.959Z"
   },
   {
    "duration": 461,
    "start_time": "2024-12-07T10:41:35.981Z"
   },
   {
    "duration": 482,
    "start_time": "2024-12-07T10:41:36.444Z"
   },
   {
    "duration": 499,
    "start_time": "2024-12-07T10:41:36.928Z"
   },
   {
    "duration": 10,
    "start_time": "2024-12-07T10:41:37.428Z"
   },
   {
    "duration": 112,
    "start_time": "2024-12-07T10:41:37.439Z"
   },
   {
    "duration": 0,
    "start_time": "2024-12-07T10:41:37.552Z"
   },
   {
    "duration": 0,
    "start_time": "2024-12-07T10:41:37.553Z"
   },
   {
    "duration": 0,
    "start_time": "2024-12-07T10:41:37.555Z"
   },
   {
    "duration": 0,
    "start_time": "2024-12-07T10:41:37.555Z"
   },
   {
    "duration": 0,
    "start_time": "2024-12-07T10:41:37.556Z"
   },
   {
    "duration": 0,
    "start_time": "2024-12-07T10:41:37.557Z"
   },
   {
    "duration": 0,
    "start_time": "2024-12-07T10:41:37.558Z"
   },
   {
    "duration": 0,
    "start_time": "2024-12-07T10:41:37.559Z"
   },
   {
    "duration": 0,
    "start_time": "2024-12-07T10:41:37.560Z"
   },
   {
    "duration": 0,
    "start_time": "2024-12-07T10:41:37.561Z"
   },
   {
    "duration": 0,
    "start_time": "2024-12-07T10:41:37.562Z"
   },
   {
    "duration": 0,
    "start_time": "2024-12-07T10:41:37.564Z"
   },
   {
    "duration": 0,
    "start_time": "2024-12-07T10:41:37.564Z"
   },
   {
    "duration": 0,
    "start_time": "2024-12-07T10:41:37.565Z"
   },
   {
    "duration": 0,
    "start_time": "2024-12-07T10:41:37.566Z"
   },
   {
    "duration": 0,
    "start_time": "2024-12-07T10:41:37.591Z"
   },
   {
    "duration": 0,
    "start_time": "2024-12-07T10:41:37.593Z"
   },
   {
    "duration": 0,
    "start_time": "2024-12-07T10:41:37.594Z"
   },
   {
    "duration": 1191,
    "start_time": "2024-12-07T10:43:32.772Z"
   },
   {
    "duration": 42,
    "start_time": "2024-12-07T10:43:33.965Z"
   },
   {
    "duration": 3,
    "start_time": "2024-12-07T10:43:34.009Z"
   },
   {
    "duration": 77,
    "start_time": "2024-12-07T10:43:34.014Z"
   },
   {
    "duration": 5,
    "start_time": "2024-12-07T10:43:34.092Z"
   },
   {
    "duration": 11,
    "start_time": "2024-12-07T10:43:34.098Z"
   },
   {
    "duration": 33,
    "start_time": "2024-12-07T10:43:34.110Z"
   },
   {
    "duration": 7,
    "start_time": "2024-12-07T10:43:34.145Z"
   },
   {
    "duration": 13,
    "start_time": "2024-12-07T10:43:34.154Z"
   },
   {
    "duration": 38,
    "start_time": "2024-12-07T10:43:34.170Z"
   },
   {
    "duration": 3,
    "start_time": "2024-12-07T10:43:34.210Z"
   },
   {
    "duration": 37,
    "start_time": "2024-12-07T10:43:34.215Z"
   },
   {
    "duration": 46,
    "start_time": "2024-12-07T10:43:34.254Z"
   },
   {
    "duration": 14,
    "start_time": "2024-12-07T10:43:34.302Z"
   },
   {
    "duration": 18,
    "start_time": "2024-12-07T10:43:34.317Z"
   },
   {
    "duration": 63,
    "start_time": "2024-12-07T10:43:34.337Z"
   },
   {
    "duration": 17,
    "start_time": "2024-12-07T10:43:34.402Z"
   },
   {
    "duration": 73,
    "start_time": "2024-12-07T10:43:34.421Z"
   },
   {
    "duration": 7,
    "start_time": "2024-12-07T10:43:34.496Z"
   },
   {
    "duration": 421,
    "start_time": "2024-12-07T10:43:34.505Z"
   },
   {
    "duration": 377,
    "start_time": "2024-12-07T10:43:34.928Z"
   },
   {
    "duration": 22,
    "start_time": "2024-12-07T10:43:35.306Z"
   },
   {
    "duration": 5,
    "start_time": "2024-12-07T10:43:35.330Z"
   },
   {
    "duration": 744,
    "start_time": "2024-12-07T10:43:35.392Z"
   },
   {
    "duration": 4,
    "start_time": "2024-12-07T10:43:36.137Z"
   },
   {
    "duration": 37,
    "start_time": "2024-12-07T10:43:36.142Z"
   },
   {
    "duration": 7,
    "start_time": "2024-12-07T10:43:36.180Z"
   },
   {
    "duration": 474,
    "start_time": "2024-12-07T10:43:36.190Z"
   },
   {
    "duration": 482,
    "start_time": "2024-12-07T10:43:36.665Z"
   },
   {
    "duration": 491,
    "start_time": "2024-12-07T10:43:37.149Z"
   },
   {
    "duration": 8,
    "start_time": "2024-12-07T10:43:37.642Z"
   },
   {
    "duration": 554,
    "start_time": "2024-12-07T10:43:37.652Z"
   },
   {
    "duration": 557,
    "start_time": "2024-12-07T10:43:38.208Z"
   },
   {
    "duration": 498,
    "start_time": "2024-12-07T10:43:38.766Z"
   },
   {
    "duration": 2480,
    "start_time": "2024-12-07T10:43:39.266Z"
   },
   {
    "duration": 8,
    "start_time": "2024-12-07T10:43:41.747Z"
   },
   {
    "duration": 484,
    "start_time": "2024-12-07T10:43:41.756Z"
   },
   {
    "duration": 404,
    "start_time": "2024-12-07T10:43:42.241Z"
   },
   {
    "duration": 575,
    "start_time": "2024-12-07T10:43:42.647Z"
   },
   {
    "duration": 1834,
    "start_time": "2024-12-07T10:43:43.224Z"
   },
   {
    "duration": 8,
    "start_time": "2024-12-07T10:43:45.059Z"
   },
   {
    "duration": 85,
    "start_time": "2024-12-07T10:43:45.069Z"
   },
   {
    "duration": 30,
    "start_time": "2024-12-07T10:43:45.155Z"
   },
   {
    "duration": 17,
    "start_time": "2024-12-07T10:43:45.187Z"
   },
   {
    "duration": 83,
    "start_time": "2024-12-07T10:43:45.205Z"
   },
   {
    "duration": 27,
    "start_time": "2024-12-07T10:43:45.290Z"
   },
   {
    "duration": 15,
    "start_time": "2024-12-07T10:43:45.318Z"
   },
   {
    "duration": 81,
    "start_time": "2024-12-07T10:43:45.335Z"
   },
   {
    "duration": 8,
    "start_time": "2024-12-07T10:43:45.417Z"
   },
   {
    "duration": 444,
    "start_time": "2024-12-07T10:43:45.427Z"
   },
   {
    "duration": 13,
    "start_time": "2024-12-07T10:51:37.520Z"
   },
   {
    "duration": 1148,
    "start_time": "2024-12-07T10:55:19.244Z"
   },
   {
    "duration": 43,
    "start_time": "2024-12-07T10:55:20.393Z"
   },
   {
    "duration": 3,
    "start_time": "2024-12-07T10:55:20.438Z"
   },
   {
    "duration": 78,
    "start_time": "2024-12-07T10:55:20.443Z"
   },
   {
    "duration": 5,
    "start_time": "2024-12-07T10:55:20.523Z"
   },
   {
    "duration": 55,
    "start_time": "2024-12-07T10:55:20.530Z"
   },
   {
    "duration": 31,
    "start_time": "2024-12-07T10:55:20.587Z"
   },
   {
    "duration": 12,
    "start_time": "2024-12-07T10:55:20.620Z"
   },
   {
    "duration": 20,
    "start_time": "2024-12-07T10:55:20.634Z"
   },
   {
    "duration": 57,
    "start_time": "2024-12-07T10:55:20.658Z"
   },
   {
    "duration": 13,
    "start_time": "2024-12-07T10:55:20.716Z"
   },
   {
    "duration": 81,
    "start_time": "2024-12-07T10:55:20.731Z"
   },
   {
    "duration": 34,
    "start_time": "2024-12-07T10:55:20.814Z"
   },
   {
    "duration": 12,
    "start_time": "2024-12-07T10:55:20.849Z"
   },
   {
    "duration": 31,
    "start_time": "2024-12-07T10:55:20.862Z"
   },
   {
    "duration": 11,
    "start_time": "2024-12-07T10:55:20.894Z"
   },
   {
    "duration": 12,
    "start_time": "2024-12-07T10:55:20.906Z"
   },
   {
    "duration": 11,
    "start_time": "2024-12-07T10:55:20.920Z"
   },
   {
    "duration": 11,
    "start_time": "2024-12-07T10:55:20.933Z"
   },
   {
    "duration": 192,
    "start_time": "2024-12-07T10:55:20.946Z"
   },
   {
    "duration": 264,
    "start_time": "2024-12-07T10:55:21.140Z"
   },
   {
    "duration": 23,
    "start_time": "2024-12-07T10:55:21.406Z"
   },
   {
    "duration": 5,
    "start_time": "2024-12-07T10:55:21.431Z"
   },
   {
    "duration": 1143,
    "start_time": "2024-12-07T10:55:21.493Z"
   },
   {
    "duration": 3,
    "start_time": "2024-12-07T10:55:22.692Z"
   },
   {
    "duration": 67,
    "start_time": "2024-12-07T10:55:22.697Z"
   },
   {
    "duration": 7,
    "start_time": "2024-12-07T10:55:22.766Z"
   },
   {
    "duration": 456,
    "start_time": "2024-12-07T10:55:22.793Z"
   },
   {
    "duration": 493,
    "start_time": "2024-12-07T10:55:23.251Z"
   },
   {
    "duration": 548,
    "start_time": "2024-12-07T10:55:23.746Z"
   },
   {
    "duration": 10,
    "start_time": "2024-12-07T10:55:24.295Z"
   },
   {
    "duration": 587,
    "start_time": "2024-12-07T10:55:24.307Z"
   },
   {
    "duration": 554,
    "start_time": "2024-12-07T10:55:24.896Z"
   },
   {
    "duration": 522,
    "start_time": "2024-12-07T10:55:25.452Z"
   },
   {
    "duration": 2517,
    "start_time": "2024-12-07T10:55:25.976Z"
   },
   {
    "duration": 8,
    "start_time": "2024-12-07T10:55:28.494Z"
   },
   {
    "duration": 456,
    "start_time": "2024-12-07T10:55:28.503Z"
   },
   {
    "duration": 390,
    "start_time": "2024-12-07T10:55:28.961Z"
   },
   {
    "duration": 597,
    "start_time": "2024-12-07T10:55:29.353Z"
   },
   {
    "duration": 1892,
    "start_time": "2024-12-07T10:55:29.952Z"
   },
   {
    "duration": 8,
    "start_time": "2024-12-07T10:55:31.846Z"
   },
   {
    "duration": 15,
    "start_time": "2024-12-07T10:55:31.855Z"
   },
   {
    "duration": 26,
    "start_time": "2024-12-07T10:55:31.872Z"
   },
   {
    "duration": 7,
    "start_time": "2024-12-07T10:55:31.899Z"
   },
   {
    "duration": 12,
    "start_time": "2024-12-07T10:55:31.908Z"
   },
   {
    "duration": 16,
    "start_time": "2024-12-07T10:55:31.922Z"
   },
   {
    "duration": 8,
    "start_time": "2024-12-07T10:55:31.940Z"
   },
   {
    "duration": 22,
    "start_time": "2024-12-07T10:55:31.950Z"
   },
   {
    "duration": 24,
    "start_time": "2024-12-07T10:55:31.973Z"
   },
   {
    "duration": 459,
    "start_time": "2024-12-07T10:55:31.998Z"
   },
   {
    "duration": 1207,
    "start_time": "2024-12-07T11:13:19.815Z"
   },
   {
    "duration": 42,
    "start_time": "2024-12-07T11:13:21.024Z"
   },
   {
    "duration": 3,
    "start_time": "2024-12-07T11:13:21.068Z"
   },
   {
    "duration": 65,
    "start_time": "2024-12-07T11:13:21.073Z"
   },
   {
    "duration": 5,
    "start_time": "2024-12-07T11:13:21.140Z"
   },
   {
    "duration": 12,
    "start_time": "2024-12-07T11:13:21.147Z"
   },
   {
    "duration": 8,
    "start_time": "2024-12-07T11:13:21.161Z"
   },
   {
    "duration": 27,
    "start_time": "2024-12-07T11:13:21.171Z"
   },
   {
    "duration": 8,
    "start_time": "2024-12-07T11:13:21.200Z"
   },
   {
    "duration": 38,
    "start_time": "2024-12-07T11:13:21.210Z"
   },
   {
    "duration": 4,
    "start_time": "2024-12-07T11:13:21.249Z"
   },
   {
    "duration": 66,
    "start_time": "2024-12-07T11:13:21.254Z"
   },
   {
    "duration": 33,
    "start_time": "2024-12-07T11:13:21.321Z"
   },
   {
    "duration": 9,
    "start_time": "2024-12-07T11:13:21.355Z"
   },
   {
    "duration": 30,
    "start_time": "2024-12-07T11:13:21.366Z"
   },
   {
    "duration": 15,
    "start_time": "2024-12-07T11:13:21.398Z"
   },
   {
    "duration": 61,
    "start_time": "2024-12-07T11:13:21.415Z"
   },
   {
    "duration": 12,
    "start_time": "2024-12-07T11:13:21.477Z"
   },
   {
    "duration": 8,
    "start_time": "2024-12-07T11:13:21.490Z"
   },
   {
    "duration": 173,
    "start_time": "2024-12-07T11:13:21.500Z"
   },
   {
    "duration": 189,
    "start_time": "2024-12-07T11:13:21.674Z"
   },
   {
    "duration": 35,
    "start_time": "2024-12-07T11:13:21.865Z"
   },
   {
    "duration": 7,
    "start_time": "2024-12-07T11:13:21.902Z"
   },
   {
    "duration": 516,
    "start_time": "2024-12-07T11:13:21.911Z"
   },
   {
    "duration": 5,
    "start_time": "2024-12-07T11:13:22.429Z"
   },
   {
    "duration": 13,
    "start_time": "2024-12-07T11:13:22.436Z"
   },
   {
    "duration": 8,
    "start_time": "2024-12-07T11:13:22.451Z"
   },
   {
    "duration": 495,
    "start_time": "2024-12-07T11:13:22.463Z"
   },
   {
    "duration": 481,
    "start_time": "2024-12-07T11:13:22.960Z"
   },
   {
    "duration": 531,
    "start_time": "2024-12-07T11:13:23.442Z"
   },
   {
    "duration": 17,
    "start_time": "2024-12-07T11:13:23.975Z"
   },
   {
    "duration": 566,
    "start_time": "2024-12-07T11:13:23.993Z"
   },
   {
    "duration": 581,
    "start_time": "2024-12-07T11:13:24.561Z"
   },
   {
    "duration": 567,
    "start_time": "2024-12-07T11:13:25.143Z"
   },
   {
    "duration": 3485,
    "start_time": "2024-12-07T11:13:25.712Z"
   },
   {
    "duration": 10,
    "start_time": "2024-12-07T11:13:29.198Z"
   },
   {
    "duration": 463,
    "start_time": "2024-12-07T11:13:29.210Z"
   },
   {
    "duration": 456,
    "start_time": "2024-12-07T11:13:29.675Z"
   },
   {
    "duration": 607,
    "start_time": "2024-12-07T11:13:30.132Z"
   },
   {
    "duration": 1890,
    "start_time": "2024-12-07T11:13:30.741Z"
   },
   {
    "duration": 8,
    "start_time": "2024-12-07T11:13:32.632Z"
   },
   {
    "duration": 74,
    "start_time": "2024-12-07T11:13:32.641Z"
   },
   {
    "duration": 14,
    "start_time": "2024-12-07T11:13:32.717Z"
   },
   {
    "duration": 8,
    "start_time": "2024-12-07T11:13:32.733Z"
   },
   {
    "duration": 90,
    "start_time": "2024-12-07T11:13:32.743Z"
   },
   {
    "duration": 17,
    "start_time": "2024-12-07T11:13:32.835Z"
   },
   {
    "duration": 22,
    "start_time": "2024-12-07T11:13:32.854Z"
   },
   {
    "duration": 17,
    "start_time": "2024-12-07T11:13:32.877Z"
   },
   {
    "duration": 15,
    "start_time": "2024-12-07T11:13:32.896Z"
   },
   {
    "duration": 457,
    "start_time": "2024-12-07T11:13:32.913Z"
   },
   {
    "duration": 1120,
    "start_time": "2024-12-08T07:56:23.619Z"
   },
   {
    "duration": 41,
    "start_time": "2024-12-08T07:56:24.741Z"
   },
   {
    "duration": 4,
    "start_time": "2024-12-08T07:56:24.783Z"
   },
   {
    "duration": 124,
    "start_time": "2024-12-08T07:56:24.789Z"
   },
   {
    "duration": 27,
    "start_time": "2024-12-08T07:56:24.915Z"
   },
   {
    "duration": 5,
    "start_time": "2024-12-08T07:56:24.943Z"
   },
   {
    "duration": 7,
    "start_time": "2024-12-08T07:56:24.950Z"
   },
   {
    "duration": 11,
    "start_time": "2024-12-08T07:56:24.959Z"
   },
   {
    "duration": 5,
    "start_time": "2024-12-08T07:56:24.972Z"
   },
   {
    "duration": 38,
    "start_time": "2024-12-08T07:56:24.979Z"
   },
   {
    "duration": 4,
    "start_time": "2024-12-08T07:56:25.019Z"
   },
   {
    "duration": 52,
    "start_time": "2024-12-08T07:56:25.024Z"
   },
   {
    "duration": 33,
    "start_time": "2024-12-08T07:56:25.077Z"
   },
   {
    "duration": 23,
    "start_time": "2024-12-08T07:56:25.112Z"
   },
   {
    "duration": 38,
    "start_time": "2024-12-08T07:56:25.137Z"
   },
   {
    "duration": 13,
    "start_time": "2024-12-08T07:56:25.177Z"
   },
   {
    "duration": 25,
    "start_time": "2024-12-08T07:56:25.191Z"
   },
   {
    "duration": 98,
    "start_time": "2024-12-08T07:56:25.218Z"
   },
   {
    "duration": 5,
    "start_time": "2024-12-08T07:56:25.318Z"
   },
   {
    "duration": 164,
    "start_time": "2024-12-08T07:56:25.324Z"
   },
   {
    "duration": 173,
    "start_time": "2024-12-08T07:56:25.490Z"
   },
   {
    "duration": 24,
    "start_time": "2024-12-08T07:56:25.664Z"
   },
   {
    "duration": 13,
    "start_time": "2024-12-08T07:56:25.689Z"
   },
   {
    "duration": 499,
    "start_time": "2024-12-08T07:56:25.703Z"
   },
   {
    "duration": 3,
    "start_time": "2024-12-08T07:56:26.204Z"
   },
   {
    "duration": 159,
    "start_time": "2024-12-08T07:56:26.209Z"
   },
   {
    "duration": 11,
    "start_time": "2024-12-08T07:56:26.370Z"
   },
   {
    "duration": 458,
    "start_time": "2024-12-08T07:56:26.384Z"
   },
   {
    "duration": 471,
    "start_time": "2024-12-08T07:56:26.844Z"
   },
   {
    "duration": 489,
    "start_time": "2024-12-08T07:56:27.316Z"
   },
   {
    "duration": 8,
    "start_time": "2024-12-08T07:56:27.807Z"
   },
   {
    "duration": 527,
    "start_time": "2024-12-08T07:56:27.817Z"
   },
   {
    "duration": 569,
    "start_time": "2024-12-08T07:56:28.346Z"
   },
   {
    "duration": 520,
    "start_time": "2024-12-08T07:56:28.916Z"
   },
   {
    "duration": 2534,
    "start_time": "2024-12-08T07:56:29.438Z"
   },
   {
    "duration": 8,
    "start_time": "2024-12-08T07:56:31.973Z"
   },
   {
    "duration": 450,
    "start_time": "2024-12-08T07:56:31.982Z"
   },
   {
    "duration": 438,
    "start_time": "2024-12-08T07:56:32.434Z"
   },
   {
    "duration": 536,
    "start_time": "2024-12-08T07:56:32.874Z"
   },
   {
    "duration": 1851,
    "start_time": "2024-12-08T07:56:33.411Z"
   },
   {
    "duration": 8,
    "start_time": "2024-12-08T07:56:35.268Z"
   },
   {
    "duration": 44,
    "start_time": "2024-12-08T07:56:35.277Z"
   },
   {
    "duration": 17,
    "start_time": "2024-12-08T07:56:35.323Z"
   },
   {
    "duration": 7,
    "start_time": "2024-12-08T07:56:35.341Z"
   },
   {
    "duration": 142,
    "start_time": "2024-12-08T07:56:35.349Z"
   },
   {
    "duration": 24,
    "start_time": "2024-12-08T07:56:35.493Z"
   },
   {
    "duration": 43,
    "start_time": "2024-12-08T07:56:35.519Z"
   },
   {
    "duration": 40,
    "start_time": "2024-12-08T07:56:35.563Z"
   },
   {
    "duration": 18,
    "start_time": "2024-12-08T07:56:35.605Z"
   },
   {
    "duration": 507,
    "start_time": "2024-12-08T07:56:35.625Z"
   }
  ],
  "kernelspec": {
   "display_name": "Python 3 (ipykernel)",
   "language": "python",
   "name": "python3"
  },
  "language_info": {
   "codemirror_mode": {
    "name": "ipython",
    "version": 3
   },
   "file_extension": ".py",
   "mimetype": "text/x-python",
   "name": "python",
   "nbconvert_exporter": "python",
   "pygments_lexer": "ipython3",
   "version": "3.9.5"
  },
  "toc": {
   "base_numbering": 1,
   "nav_menu": {},
   "number_sections": true,
   "sideBar": true,
   "skip_h1_title": true,
   "title_cell": "Table of Contents",
   "title_sidebar": "Contents",
   "toc_cell": false,
   "toc_position": {
    "height": "calc(100% - 180px)",
    "left": "10px",
    "top": "150px",
    "width": "277.222px"
   },
   "toc_section_display": true,
   "toc_window_display": true
  }
 },
 "nbformat": 4,
 "nbformat_minor": 2
}
