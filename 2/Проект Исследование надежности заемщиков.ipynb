{
 "cells": [
  {
   "cell_type": "markdown",
   "id": "0e42f7a1",
   "metadata": {},
   "source": [
    "<b>Привет!</b>\n",
    "\n",
    "Меня зовут Харочкина Екатерина, и я буду проверять твой проект. Давай общаться на «ты», но если это неудобно, пожалуйста, сообщи. Моя основная цель — не указать на совершенные тобою ошибки, а поделиться своим опытом и помочь тебе совершенствоваться как профессионалу.\n",
    "\n",
    "Ты подготовила замечательный проект, но есть аспекты, которые еще можно улучшить. Я буду использовать комментарии с цветовой разметкой. Пожалуйста, **не перемещай, не изменяй и не удаляй их**. Это поможет выполнить повторную проверку твоего проекта оперативнее.\n",
    "\n",
    "<div class=\"alert alert-danger\">\n",
    "<b>Комментарий ревьюера №1</b> ❌\n",
    "    \n",
    "Таким комментарием выделены самые важные замечания. Без их отработки проект не будет принят.\n",
    "</div>\n",
    "\n",
    "<div class=\"alert alert-warning\">\n",
    "<b>Комментарий ревьюера №1</b> ⚠️\n",
    "    \n",
    "Таким комментарием выделены небольшие замечания и рекомендации, которые будет хорошо учесть.\n",
    "</div>\n",
    "\n",
    "<div class=\"alert alert-success\">\n",
    "<b>Комментарий ревьюера №1</b> ✅\n",
    "    \n",
    "Таким комментарием выделены удачные решения🙂\n",
    "</div>\n",
    "\n",
    "Свои комментарии ты можешь помечать синим цветом.\n",
    "\n",
    "<div class=\"alert alert-info\">\n",
    "<b>Комментарий студента №1</b>\n",
    "    \n",
    "Так ты можешь оформить свой комментарий\n",
    "</div>\n",
    "\n",
    "Давай работать над проектом в диалоге: если ты **что-то меняешь** в проекте по моим рекомендациям — **пиши об этом**. После того, как ты все доработаешь, я смогу принять твой проект!) "
   ]
  },
  {
   "cell_type": "markdown",
   "id": "386f2ae7",
   "metadata": {
    "deletable": false,
    "editable": false,
    "id": "386f2ae7"
   },
   "source": [
    "# Исследование надежности заемщиков\n"
   ]
  },
  {
   "cell_type": "markdown",
   "id": "8eba4c3a",
   "metadata": {},
   "source": [
    "<div class=\"alert alert-success\">\n",
    "<b>Комментарий ревьюера №1</b> ✅\n",
    "    \n",
    "Хорошая практика начинать проект с контекста, описания задачи, возможного хода исследования, а также описания имеющихся данных. Можно тут также добавить содержание с гиперссылками. Про оформление работы можно почитать в материалах курса:\n",
    "    \n",
    "`Полезные инструкции для учёбы - Оформление проекта - Рекомендации по выполнению проектов`\n",
    "</div>"
   ]
  },
  {
   "cell_type": "markdown",
   "id": "ffe86f65",
   "metadata": {
    "deletable": false,
    "editable": false,
    "id": "ffe86f65"
   },
   "source": [
    "Во второй части проекта вы выполните шаги 3 и 4. Их вручную проверит ревьюер.\n",
    "Чтобы вам не пришлось писать код заново для шагов 1 и 2, мы добавили авторские решения в ячейки с кодом. \n",
    "\n"
   ]
  },
  {
   "cell_type": "markdown",
   "id": "26613308",
   "metadata": {
    "deletable": false,
    "editable": false,
    "id": "26613308"
   },
   "source": [
    "## Откройте таблицу и изучите общую информацию о данных"
   ]
  },
  {
   "cell_type": "markdown",
   "id": "3c9f838e",
   "metadata": {
    "deletable": false,
    "editable": false,
    "id": "3c9f838e"
   },
   "source": [
    "**Задание 1. Импортируйте библиотеку pandas. Считайте данные из csv-файла в датафрейм и сохраните в переменную `data`. Путь к файлу:**\n",
    "\n",
    "`/datasets/data.csv`"
   ]
  },
  {
   "cell_type": "code",
   "execution_count": 1,
   "id": "77a68a90",
   "metadata": {
    "deletable": false,
    "id": "77a68a90"
   },
   "outputs": [],
   "source": [
    "import pandas as pd\n",
    "\n",
    "try:\n",
    "    data = pd.read_csv('/datasets/data.csv')\n",
    "except:\n",
    "    data = pd.read_csv('https://code.s3.yandex.net/datasets/data.csv')"
   ]
  },
  {
   "cell_type": "markdown",
   "id": "45365635",
   "metadata": {
    "deletable": false,
    "editable": false,
    "id": "45365635"
   },
   "source": [
    "**Задание 2. Выведите первые 20 строчек датафрейма `data` на экран.**"
   ]
  },
  {
   "cell_type": "code",
   "execution_count": 2,
   "id": "b0451a9a",
   "metadata": {
    "deletable": false,
    "id": "b0451a9a",
    "outputId": "1a8f3ef2-d323-4ec2-ddf7-89670b5944c4"
   },
   "outputs": [
    {
     "data": {
      "text/html": [
       "<div>\n",
       "<style scoped>\n",
       "    .dataframe tbody tr th:only-of-type {\n",
       "        vertical-align: middle;\n",
       "    }\n",
       "\n",
       "    .dataframe tbody tr th {\n",
       "        vertical-align: top;\n",
       "    }\n",
       "\n",
       "    .dataframe thead th {\n",
       "        text-align: right;\n",
       "    }\n",
       "</style>\n",
       "<table border=\"1\" class=\"dataframe\">\n",
       "  <thead>\n",
       "    <tr style=\"text-align: right;\">\n",
       "      <th></th>\n",
       "      <th>children</th>\n",
       "      <th>days_employed</th>\n",
       "      <th>dob_years</th>\n",
       "      <th>education</th>\n",
       "      <th>education_id</th>\n",
       "      <th>family_status</th>\n",
       "      <th>family_status_id</th>\n",
       "      <th>gender</th>\n",
       "      <th>income_type</th>\n",
       "      <th>debt</th>\n",
       "      <th>total_income</th>\n",
       "      <th>purpose</th>\n",
       "    </tr>\n",
       "  </thead>\n",
       "  <tbody>\n",
       "    <tr>\n",
       "      <th>0</th>\n",
       "      <td>1</td>\n",
       "      <td>-8437.673028</td>\n",
       "      <td>42</td>\n",
       "      <td>высшее</td>\n",
       "      <td>0</td>\n",
       "      <td>женат / замужем</td>\n",
       "      <td>0</td>\n",
       "      <td>F</td>\n",
       "      <td>сотрудник</td>\n",
       "      <td>0</td>\n",
       "      <td>253875.639453</td>\n",
       "      <td>покупка жилья</td>\n",
       "    </tr>\n",
       "    <tr>\n",
       "      <th>1</th>\n",
       "      <td>1</td>\n",
       "      <td>-4024.803754</td>\n",
       "      <td>36</td>\n",
       "      <td>среднее</td>\n",
       "      <td>1</td>\n",
       "      <td>женат / замужем</td>\n",
       "      <td>0</td>\n",
       "      <td>F</td>\n",
       "      <td>сотрудник</td>\n",
       "      <td>0</td>\n",
       "      <td>112080.014102</td>\n",
       "      <td>приобретение автомобиля</td>\n",
       "    </tr>\n",
       "    <tr>\n",
       "      <th>2</th>\n",
       "      <td>0</td>\n",
       "      <td>-5623.422610</td>\n",
       "      <td>33</td>\n",
       "      <td>Среднее</td>\n",
       "      <td>1</td>\n",
       "      <td>женат / замужем</td>\n",
       "      <td>0</td>\n",
       "      <td>M</td>\n",
       "      <td>сотрудник</td>\n",
       "      <td>0</td>\n",
       "      <td>145885.952297</td>\n",
       "      <td>покупка жилья</td>\n",
       "    </tr>\n",
       "    <tr>\n",
       "      <th>3</th>\n",
       "      <td>3</td>\n",
       "      <td>-4124.747207</td>\n",
       "      <td>32</td>\n",
       "      <td>среднее</td>\n",
       "      <td>1</td>\n",
       "      <td>женат / замужем</td>\n",
       "      <td>0</td>\n",
       "      <td>M</td>\n",
       "      <td>сотрудник</td>\n",
       "      <td>0</td>\n",
       "      <td>267628.550329</td>\n",
       "      <td>дополнительное образование</td>\n",
       "    </tr>\n",
       "    <tr>\n",
       "      <th>4</th>\n",
       "      <td>0</td>\n",
       "      <td>340266.072047</td>\n",
       "      <td>53</td>\n",
       "      <td>среднее</td>\n",
       "      <td>1</td>\n",
       "      <td>гражданский брак</td>\n",
       "      <td>1</td>\n",
       "      <td>F</td>\n",
       "      <td>пенсионер</td>\n",
       "      <td>0</td>\n",
       "      <td>158616.077870</td>\n",
       "      <td>сыграть свадьбу</td>\n",
       "    </tr>\n",
       "    <tr>\n",
       "      <th>5</th>\n",
       "      <td>0</td>\n",
       "      <td>-926.185831</td>\n",
       "      <td>27</td>\n",
       "      <td>высшее</td>\n",
       "      <td>0</td>\n",
       "      <td>гражданский брак</td>\n",
       "      <td>1</td>\n",
       "      <td>M</td>\n",
       "      <td>компаньон</td>\n",
       "      <td>0</td>\n",
       "      <td>255763.565419</td>\n",
       "      <td>покупка жилья</td>\n",
       "    </tr>\n",
       "    <tr>\n",
       "      <th>6</th>\n",
       "      <td>0</td>\n",
       "      <td>-2879.202052</td>\n",
       "      <td>43</td>\n",
       "      <td>высшее</td>\n",
       "      <td>0</td>\n",
       "      <td>женат / замужем</td>\n",
       "      <td>0</td>\n",
       "      <td>F</td>\n",
       "      <td>компаньон</td>\n",
       "      <td>0</td>\n",
       "      <td>240525.971920</td>\n",
       "      <td>операции с жильем</td>\n",
       "    </tr>\n",
       "    <tr>\n",
       "      <th>7</th>\n",
       "      <td>0</td>\n",
       "      <td>-152.779569</td>\n",
       "      <td>50</td>\n",
       "      <td>СРЕДНЕЕ</td>\n",
       "      <td>1</td>\n",
       "      <td>женат / замужем</td>\n",
       "      <td>0</td>\n",
       "      <td>M</td>\n",
       "      <td>сотрудник</td>\n",
       "      <td>0</td>\n",
       "      <td>135823.934197</td>\n",
       "      <td>образование</td>\n",
       "    </tr>\n",
       "    <tr>\n",
       "      <th>8</th>\n",
       "      <td>2</td>\n",
       "      <td>-6929.865299</td>\n",
       "      <td>35</td>\n",
       "      <td>ВЫСШЕЕ</td>\n",
       "      <td>0</td>\n",
       "      <td>гражданский брак</td>\n",
       "      <td>1</td>\n",
       "      <td>F</td>\n",
       "      <td>сотрудник</td>\n",
       "      <td>0</td>\n",
       "      <td>95856.832424</td>\n",
       "      <td>на проведение свадьбы</td>\n",
       "    </tr>\n",
       "    <tr>\n",
       "      <th>9</th>\n",
       "      <td>0</td>\n",
       "      <td>-2188.756445</td>\n",
       "      <td>41</td>\n",
       "      <td>среднее</td>\n",
       "      <td>1</td>\n",
       "      <td>женат / замужем</td>\n",
       "      <td>0</td>\n",
       "      <td>M</td>\n",
       "      <td>сотрудник</td>\n",
       "      <td>0</td>\n",
       "      <td>144425.938277</td>\n",
       "      <td>покупка жилья для семьи</td>\n",
       "    </tr>\n",
       "    <tr>\n",
       "      <th>10</th>\n",
       "      <td>2</td>\n",
       "      <td>-4171.483647</td>\n",
       "      <td>36</td>\n",
       "      <td>высшее</td>\n",
       "      <td>0</td>\n",
       "      <td>женат / замужем</td>\n",
       "      <td>0</td>\n",
       "      <td>M</td>\n",
       "      <td>компаньон</td>\n",
       "      <td>0</td>\n",
       "      <td>113943.491460</td>\n",
       "      <td>покупка недвижимости</td>\n",
       "    </tr>\n",
       "    <tr>\n",
       "      <th>11</th>\n",
       "      <td>0</td>\n",
       "      <td>-792.701887</td>\n",
       "      <td>40</td>\n",
       "      <td>среднее</td>\n",
       "      <td>1</td>\n",
       "      <td>женат / замужем</td>\n",
       "      <td>0</td>\n",
       "      <td>F</td>\n",
       "      <td>сотрудник</td>\n",
       "      <td>0</td>\n",
       "      <td>77069.234271</td>\n",
       "      <td>покупка коммерческой недвижимости</td>\n",
       "    </tr>\n",
       "    <tr>\n",
       "      <th>12</th>\n",
       "      <td>0</td>\n",
       "      <td>NaN</td>\n",
       "      <td>65</td>\n",
       "      <td>среднее</td>\n",
       "      <td>1</td>\n",
       "      <td>гражданский брак</td>\n",
       "      <td>1</td>\n",
       "      <td>M</td>\n",
       "      <td>пенсионер</td>\n",
       "      <td>0</td>\n",
       "      <td>NaN</td>\n",
       "      <td>сыграть свадьбу</td>\n",
       "    </tr>\n",
       "    <tr>\n",
       "      <th>13</th>\n",
       "      <td>0</td>\n",
       "      <td>-1846.641941</td>\n",
       "      <td>54</td>\n",
       "      <td>неоконченное высшее</td>\n",
       "      <td>2</td>\n",
       "      <td>женат / замужем</td>\n",
       "      <td>0</td>\n",
       "      <td>F</td>\n",
       "      <td>сотрудник</td>\n",
       "      <td>0</td>\n",
       "      <td>130458.228857</td>\n",
       "      <td>приобретение автомобиля</td>\n",
       "    </tr>\n",
       "    <tr>\n",
       "      <th>14</th>\n",
       "      <td>0</td>\n",
       "      <td>-1844.956182</td>\n",
       "      <td>56</td>\n",
       "      <td>высшее</td>\n",
       "      <td>0</td>\n",
       "      <td>гражданский брак</td>\n",
       "      <td>1</td>\n",
       "      <td>F</td>\n",
       "      <td>компаньон</td>\n",
       "      <td>1</td>\n",
       "      <td>165127.911772</td>\n",
       "      <td>покупка жилой недвижимости</td>\n",
       "    </tr>\n",
       "    <tr>\n",
       "      <th>15</th>\n",
       "      <td>1</td>\n",
       "      <td>-972.364419</td>\n",
       "      <td>26</td>\n",
       "      <td>среднее</td>\n",
       "      <td>1</td>\n",
       "      <td>женат / замужем</td>\n",
       "      <td>0</td>\n",
       "      <td>F</td>\n",
       "      <td>сотрудник</td>\n",
       "      <td>0</td>\n",
       "      <td>116820.904450</td>\n",
       "      <td>строительство собственной недвижимости</td>\n",
       "    </tr>\n",
       "    <tr>\n",
       "      <th>16</th>\n",
       "      <td>0</td>\n",
       "      <td>-1719.934226</td>\n",
       "      <td>35</td>\n",
       "      <td>среднее</td>\n",
       "      <td>1</td>\n",
       "      <td>женат / замужем</td>\n",
       "      <td>0</td>\n",
       "      <td>F</td>\n",
       "      <td>сотрудник</td>\n",
       "      <td>0</td>\n",
       "      <td>289202.704229</td>\n",
       "      <td>недвижимость</td>\n",
       "    </tr>\n",
       "    <tr>\n",
       "      <th>17</th>\n",
       "      <td>0</td>\n",
       "      <td>-2369.999720</td>\n",
       "      <td>33</td>\n",
       "      <td>высшее</td>\n",
       "      <td>0</td>\n",
       "      <td>гражданский брак</td>\n",
       "      <td>1</td>\n",
       "      <td>M</td>\n",
       "      <td>сотрудник</td>\n",
       "      <td>0</td>\n",
       "      <td>90410.586745</td>\n",
       "      <td>строительство недвижимости</td>\n",
       "    </tr>\n",
       "    <tr>\n",
       "      <th>18</th>\n",
       "      <td>0</td>\n",
       "      <td>400281.136913</td>\n",
       "      <td>53</td>\n",
       "      <td>среднее</td>\n",
       "      <td>1</td>\n",
       "      <td>вдовец / вдова</td>\n",
       "      <td>2</td>\n",
       "      <td>F</td>\n",
       "      <td>пенсионер</td>\n",
       "      <td>0</td>\n",
       "      <td>56823.777243</td>\n",
       "      <td>на покупку подержанного автомобиля</td>\n",
       "    </tr>\n",
       "    <tr>\n",
       "      <th>19</th>\n",
       "      <td>0</td>\n",
       "      <td>-10038.818549</td>\n",
       "      <td>48</td>\n",
       "      <td>СРЕДНЕЕ</td>\n",
       "      <td>1</td>\n",
       "      <td>в разводе</td>\n",
       "      <td>3</td>\n",
       "      <td>F</td>\n",
       "      <td>сотрудник</td>\n",
       "      <td>0</td>\n",
       "      <td>242831.107982</td>\n",
       "      <td>на покупку своего автомобиля</td>\n",
       "    </tr>\n",
       "  </tbody>\n",
       "</table>\n",
       "</div>"
      ],
      "text/plain": [
       "    children  days_employed  dob_years            education  education_id  \\\n",
       "0          1   -8437.673028         42               высшее             0   \n",
       "1          1   -4024.803754         36              среднее             1   \n",
       "2          0   -5623.422610         33              Среднее             1   \n",
       "3          3   -4124.747207         32              среднее             1   \n",
       "4          0  340266.072047         53              среднее             1   \n",
       "5          0    -926.185831         27               высшее             0   \n",
       "6          0   -2879.202052         43               высшее             0   \n",
       "7          0    -152.779569         50              СРЕДНЕЕ             1   \n",
       "8          2   -6929.865299         35               ВЫСШЕЕ             0   \n",
       "9          0   -2188.756445         41              среднее             1   \n",
       "10         2   -4171.483647         36               высшее             0   \n",
       "11         0    -792.701887         40              среднее             1   \n",
       "12         0            NaN         65              среднее             1   \n",
       "13         0   -1846.641941         54  неоконченное высшее             2   \n",
       "14         0   -1844.956182         56               высшее             0   \n",
       "15         1    -972.364419         26              среднее             1   \n",
       "16         0   -1719.934226         35              среднее             1   \n",
       "17         0   -2369.999720         33               высшее             0   \n",
       "18         0  400281.136913         53              среднее             1   \n",
       "19         0  -10038.818549         48              СРЕДНЕЕ             1   \n",
       "\n",
       "       family_status  family_status_id gender income_type  debt  \\\n",
       "0    женат / замужем                 0      F   сотрудник     0   \n",
       "1    женат / замужем                 0      F   сотрудник     0   \n",
       "2    женат / замужем                 0      M   сотрудник     0   \n",
       "3    женат / замужем                 0      M   сотрудник     0   \n",
       "4   гражданский брак                 1      F   пенсионер     0   \n",
       "5   гражданский брак                 1      M   компаньон     0   \n",
       "6    женат / замужем                 0      F   компаньон     0   \n",
       "7    женат / замужем                 0      M   сотрудник     0   \n",
       "8   гражданский брак                 1      F   сотрудник     0   \n",
       "9    женат / замужем                 0      M   сотрудник     0   \n",
       "10   женат / замужем                 0      M   компаньон     0   \n",
       "11   женат / замужем                 0      F   сотрудник     0   \n",
       "12  гражданский брак                 1      M   пенсионер     0   \n",
       "13   женат / замужем                 0      F   сотрудник     0   \n",
       "14  гражданский брак                 1      F   компаньон     1   \n",
       "15   женат / замужем                 0      F   сотрудник     0   \n",
       "16   женат / замужем                 0      F   сотрудник     0   \n",
       "17  гражданский брак                 1      M   сотрудник     0   \n",
       "18    вдовец / вдова                 2      F   пенсионер     0   \n",
       "19         в разводе                 3      F   сотрудник     0   \n",
       "\n",
       "     total_income                                 purpose  \n",
       "0   253875.639453                           покупка жилья  \n",
       "1   112080.014102                 приобретение автомобиля  \n",
       "2   145885.952297                           покупка жилья  \n",
       "3   267628.550329              дополнительное образование  \n",
       "4   158616.077870                         сыграть свадьбу  \n",
       "5   255763.565419                           покупка жилья  \n",
       "6   240525.971920                       операции с жильем  \n",
       "7   135823.934197                             образование  \n",
       "8    95856.832424                   на проведение свадьбы  \n",
       "9   144425.938277                 покупка жилья для семьи  \n",
       "10  113943.491460                    покупка недвижимости  \n",
       "11   77069.234271       покупка коммерческой недвижимости  \n",
       "12            NaN                         сыграть свадьбу  \n",
       "13  130458.228857                 приобретение автомобиля  \n",
       "14  165127.911772              покупка жилой недвижимости  \n",
       "15  116820.904450  строительство собственной недвижимости  \n",
       "16  289202.704229                            недвижимость  \n",
       "17   90410.586745              строительство недвижимости  \n",
       "18   56823.777243      на покупку подержанного автомобиля  \n",
       "19  242831.107982            на покупку своего автомобиля  "
      ]
     },
     "execution_count": 2,
     "metadata": {},
     "output_type": "execute_result"
    }
   ],
   "source": [
    "data.head(20)"
   ]
  },
  {
   "cell_type": "markdown",
   "id": "0ed8f27f",
   "metadata": {
    "deletable": false,
    "editable": false,
    "id": "0ed8f27f"
   },
   "source": [
    "**Задание 3. Выведите основную информацию о датафрейме с помощью метода `info()`.**"
   ]
  },
  {
   "cell_type": "code",
   "execution_count": 3,
   "id": "ab3f863b",
   "metadata": {
    "deletable": false,
    "id": "ab3f863b",
    "outputId": "15376089-8dad-46c9-b520-c05248d43158"
   },
   "outputs": [
    {
     "name": "stdout",
     "output_type": "stream",
     "text": [
      "<class 'pandas.core.frame.DataFrame'>\n",
      "RangeIndex: 21525 entries, 0 to 21524\n",
      "Data columns (total 12 columns):\n",
      " #   Column            Non-Null Count  Dtype  \n",
      "---  ------            --------------  -----  \n",
      " 0   children          21525 non-null  int64  \n",
      " 1   days_employed     19351 non-null  float64\n",
      " 2   dob_years         21525 non-null  int64  \n",
      " 3   education         21525 non-null  object \n",
      " 4   education_id      21525 non-null  int64  \n",
      " 5   family_status     21525 non-null  object \n",
      " 6   family_status_id  21525 non-null  int64  \n",
      " 7   gender            21525 non-null  object \n",
      " 8   income_type       21525 non-null  object \n",
      " 9   debt              21525 non-null  int64  \n",
      " 10  total_income      19351 non-null  float64\n",
      " 11  purpose           21525 non-null  object \n",
      "dtypes: float64(2), int64(5), object(5)\n",
      "memory usage: 2.0+ MB\n"
     ]
    }
   ],
   "source": [
    "data.info()"
   ]
  },
  {
   "cell_type": "markdown",
   "id": "d43ff911",
   "metadata": {},
   "source": [
    "<div class=\"alert alert-success\">\n",
    "<b>Комментарий ревьюера №1</b> ✅\n",
    "    \n",
    "Разделы работы можно заканчивать промежуточными выводами\n",
    "</div>"
   ]
  },
  {
   "cell_type": "markdown",
   "id": "60e3e22d",
   "metadata": {
    "deletable": false,
    "editable": false,
    "id": "60e3e22d"
   },
   "source": [
    "## Предобработка данных"
   ]
  },
  {
   "cell_type": "markdown",
   "id": "03dc170c",
   "metadata": {
    "deletable": false,
    "editable": false,
    "id": "03dc170c"
   },
   "source": [
    "### Удаление пропусков"
   ]
  },
  {
   "cell_type": "markdown",
   "id": "a4f54eef",
   "metadata": {
    "deletable": false,
    "editable": false,
    "id": "a4f54eef"
   },
   "source": [
    "**Задание 4. Выведите количество пропущенных значений для каждого столбца. Используйте комбинацию двух методов.**"
   ]
  },
  {
   "cell_type": "code",
   "execution_count": 4,
   "id": "2dc372b2",
   "metadata": {
    "deletable": false,
    "id": "2dc372b2",
    "outputId": "81f4d817-781c-465c-ed15-91ce4446810d"
   },
   "outputs": [
    {
     "data": {
      "text/plain": [
       "children               0\n",
       "days_employed       2174\n",
       "dob_years              0\n",
       "education              0\n",
       "education_id           0\n",
       "family_status          0\n",
       "family_status_id       0\n",
       "gender                 0\n",
       "income_type            0\n",
       "debt                   0\n",
       "total_income        2174\n",
       "purpose                0\n",
       "dtype: int64"
      ]
     },
     "execution_count": 4,
     "metadata": {},
     "output_type": "execute_result"
    }
   ],
   "source": [
    "data.isna().sum()"
   ]
  },
  {
   "cell_type": "markdown",
   "id": "14f011b1",
   "metadata": {
    "deletable": false,
    "editable": false,
    "id": "14f011b1"
   },
   "source": [
    "**Задание 5. В двух столбцах есть пропущенные значения. Один из них — `days_employed`. Пропуски в этом столбце вы обработаете на следующем этапе. Другой столбец с пропущенными значениями — `total_income` — хранит данные о доходах. На сумму дохода сильнее всего влияет тип занятости, поэтому заполнить пропуски в этом столбце нужно медианным значением по каждому типу из столбца `income_type`. Например, у человека с типом занятости `сотрудник` пропуск в столбце `total_income` должен быть заполнен медианным доходом среди всех записей с тем же типом.**"
   ]
  },
  {
   "cell_type": "code",
   "execution_count": 5,
   "id": "bdabfb6e",
   "metadata": {
    "deletable": false,
    "id": "bdabfb6e"
   },
   "outputs": [],
   "source": [
    "for t in data['income_type'].unique():\n",
    "    data.loc[(data['income_type'] == t) & (data['total_income'].isna()), 'total_income'] = \\\n",
    "    data.loc[(data['income_type'] == t), 'total_income'].median()"
   ]
  },
  {
   "cell_type": "markdown",
   "id": "5be34059",
   "metadata": {
    "deletable": false,
    "editable": false,
    "id": "5be34059"
   },
   "source": [
    "### Обработка аномальных значений"
   ]
  },
  {
   "cell_type": "markdown",
   "id": "a87606cb",
   "metadata": {
    "deletable": false,
    "editable": false,
    "id": "a87606cb"
   },
   "source": [
    "**Задание 6. В данных могут встречаться артефакты (аномалии) — значения, которые не отражают действительность и появились по какой-то ошибке. таким артефактом будет отрицательное количество дней трудового стажа в столбце `days_employed`. Для реальных данных это нормально. Обработайте значения в этом столбце: замените все отрицательные значения положительными с помощью метода `abs()`.**"
   ]
  },
  {
   "cell_type": "code",
   "execution_count": 6,
   "id": "020c46cc",
   "metadata": {
    "deletable": false,
    "id": "020c46cc"
   },
   "outputs": [],
   "source": [
    "data['days_employed'] = data['days_employed'].abs()"
   ]
  },
  {
   "cell_type": "markdown",
   "id": "45538a3a",
   "metadata": {
    "deletable": false,
    "editable": false,
    "id": "45538a3a"
   },
   "source": [
    "**Задание 7. Для каждого типа занятости выведите медианное значение трудового стажа `days_employed` в днях.**"
   ]
  },
  {
   "cell_type": "code",
   "execution_count": 7,
   "id": "cd3e6328",
   "metadata": {
    "deletable": false,
    "id": "cd3e6328",
    "outputId": "801ef80e-522b-4668-f34e-565af7432bcf"
   },
   "outputs": [
    {
     "data": {
      "text/plain": [
       "income_type\n",
       "безработный        366413.652744\n",
       "в декрете            3296.759962\n",
       "госслужащий          2689.368353\n",
       "компаньон            1547.382223\n",
       "пенсионер          365213.306266\n",
       "предприниматель       520.848083\n",
       "сотрудник            1574.202821\n",
       "студент               578.751554\n",
       "Name: days_employed, dtype: float64"
      ]
     },
     "execution_count": 7,
     "metadata": {},
     "output_type": "execute_result"
    }
   ],
   "source": [
    "data.groupby('income_type')['days_employed'].agg('median')"
   ]
  },
  {
   "cell_type": "markdown",
   "id": "90c5f058",
   "metadata": {
    "deletable": false,
    "editable": false,
    "id": "90c5f058"
   },
   "source": [
    "У двух типов (безработные и пенсионеры) получатся аномально большие значения. Исправить такие значения сложно, поэтому оставьте их как есть."
   ]
  },
  {
   "cell_type": "markdown",
   "id": "9652e50d",
   "metadata": {
    "deletable": false,
    "editable": false,
    "id": "9652e50d"
   },
   "source": [
    "**Задание 8. Выведите перечень уникальных значений столбца `children`.**"
   ]
  },
  {
   "cell_type": "code",
   "execution_count": 8,
   "id": "dbb37b8e",
   "metadata": {
    "deletable": false,
    "id": "dbb37b8e",
    "outputId": "6975b15c-7f95-4697-d16d-a0c79b657b03"
   },
   "outputs": [
    {
     "data": {
      "text/plain": [
       "array([ 1,  0,  3,  2, -1,  4, 20,  5])"
      ]
     },
     "execution_count": 8,
     "metadata": {},
     "output_type": "execute_result"
    }
   ],
   "source": [
    "data['children'].unique()"
   ]
  },
  {
   "cell_type": "markdown",
   "id": "2b8b0715",
   "metadata": {
    "deletable": false,
    "editable": false,
    "id": "2b8b0715"
   },
   "source": [
    "**Задание 9. В столбце `children` есть два аномальных значения. Удалите строки, в которых встречаются такие аномальные значения из датафрейма `data`.**"
   ]
  },
  {
   "cell_type": "code",
   "execution_count": 9,
   "id": "20009df8",
   "metadata": {
    "deletable": false,
    "id": "20009df8"
   },
   "outputs": [],
   "source": [
    "data = data[(data['children'] != -1) & (data['children'] != 20)]"
   ]
  },
  {
   "cell_type": "markdown",
   "id": "8c6ac9f1",
   "metadata": {
    "deletable": false,
    "editable": false,
    "id": "8c6ac9f1"
   },
   "source": [
    "**Задание 10. Ещё раз выведите перечень уникальных значений столбца `children`, чтобы убедиться, что артефакты удалены.**"
   ]
  },
  {
   "cell_type": "code",
   "execution_count": 10,
   "id": "07337b81",
   "metadata": {
    "deletable": false,
    "id": "07337b81",
    "outputId": "b2097101-d49d-44d9-901b-32a65c9463d1"
   },
   "outputs": [
    {
     "data": {
      "text/plain": [
       "array([1, 0, 3, 2, 4, 5])"
      ]
     },
     "execution_count": 10,
     "metadata": {},
     "output_type": "execute_result"
    }
   ],
   "source": [
    "data['children'].unique()"
   ]
  },
  {
   "cell_type": "markdown",
   "id": "ee3f52d4",
   "metadata": {
    "deletable": false,
    "editable": false,
    "id": "ee3f52d4"
   },
   "source": [
    "### Удаление пропусков (продолжение)"
   ]
  },
  {
   "cell_type": "markdown",
   "id": "a700b0e4",
   "metadata": {
    "deletable": false,
    "editable": false,
    "id": "a700b0e4"
   },
   "source": [
    "**Задание 11. Заполните пропуски в столбце `days_employed` медианными значениями по каждого типа занятости `income_type`.**"
   ]
  },
  {
   "cell_type": "code",
   "execution_count": 11,
   "id": "61946b83",
   "metadata": {
    "deletable": false,
    "id": "61946b83"
   },
   "outputs": [],
   "source": [
    "for t in data['income_type'].unique():\n",
    "    data.loc[(data['income_type'] == t) & (data['days_employed'].isna()), 'days_employed'] = \\\n",
    "    data.loc[(data['income_type'] == t), 'days_employed'].median()"
   ]
  },
  {
   "cell_type": "markdown",
   "id": "550dcd9b",
   "metadata": {
    "deletable": false,
    "editable": false,
    "id": "550dcd9b"
   },
   "source": [
    "**Задание 12. Убедитесь, что все пропуски заполнены. Проверьте себя и ещё раз выведите количество пропущенных значений для каждого столбца с помощью двух методов.**"
   ]
  },
  {
   "cell_type": "code",
   "execution_count": 12,
   "id": "937c7014",
   "metadata": {
    "deletable": false,
    "id": "937c7014",
    "outputId": "8da1e4e1-358e-4e87-98c9-f261bce0a7b2"
   },
   "outputs": [
    {
     "data": {
      "text/plain": [
       "children            0\n",
       "days_employed       0\n",
       "dob_years           0\n",
       "education           0\n",
       "education_id        0\n",
       "family_status       0\n",
       "family_status_id    0\n",
       "gender              0\n",
       "income_type         0\n",
       "debt                0\n",
       "total_income        0\n",
       "purpose             0\n",
       "dtype: int64"
      ]
     },
     "execution_count": 12,
     "metadata": {},
     "output_type": "execute_result"
    }
   ],
   "source": [
    "data.isna().sum()"
   ]
  },
  {
   "cell_type": "markdown",
   "id": "d522e295",
   "metadata": {
    "deletable": false,
    "editable": false,
    "id": "d522e295"
   },
   "source": [
    "### Изменение типов данных"
   ]
  },
  {
   "cell_type": "markdown",
   "id": "c229c581",
   "metadata": {
    "deletable": false,
    "editable": false,
    "id": "c229c581"
   },
   "source": [
    "**Задание 13. Замените вещественный тип данных в столбце `total_income` на целочисленный с помощью метода `astype()`.**"
   ]
  },
  {
   "cell_type": "code",
   "execution_count": 13,
   "id": "31036462",
   "metadata": {
    "deletable": false,
    "id": "31036462"
   },
   "outputs": [],
   "source": [
    "data['total_income'] = data['total_income'].astype(int)"
   ]
  },
  {
   "cell_type": "markdown",
   "id": "b8e3d1d9",
   "metadata": {
    "deletable": false,
    "editable": false,
    "id": "b8e3d1d9"
   },
   "source": [
    "### Обработка дубликатов"
   ]
  },
  {
   "cell_type": "markdown",
   "id": "9be53c49",
   "metadata": {
    "deletable": false,
    "editable": false,
    "id": "9be53c49"
   },
   "source": [
    "**Задание 14. Обработайте неявные дубликаты в столбце `education`. В этом столбце есть одни и те же значения, но записанные по-разному: с использованием заглавных и строчных букв. Приведите их к нижнему регистру.**"
   ]
  },
  {
   "cell_type": "code",
   "execution_count": 14,
   "id": "d89e73e1",
   "metadata": {
    "deletable": false,
    "id": "d89e73e1"
   },
   "outputs": [],
   "source": [
    "data['education'] = data['education'].str.lower()"
   ]
  },
  {
   "cell_type": "markdown",
   "id": "01d4500e",
   "metadata": {
    "deletable": false,
    "editable": false,
    "id": "01d4500e"
   },
   "source": [
    "**Задание 15. Выведите на экран количество строк-дубликатов в данных. Если такие строки присутствуют, удалите их.**"
   ]
  },
  {
   "cell_type": "code",
   "execution_count": 15,
   "id": "e10efb23",
   "metadata": {
    "deletable": false,
    "id": "e10efb23",
    "outputId": "9684deba-1934-42d1-99e1-cda61740f822"
   },
   "outputs": [
    {
     "data": {
      "text/plain": [
       "71"
      ]
     },
     "execution_count": 15,
     "metadata": {},
     "output_type": "execute_result"
    }
   ],
   "source": [
    "data.duplicated().sum()"
   ]
  },
  {
   "cell_type": "code",
   "execution_count": 16,
   "id": "df853f20",
   "metadata": {
    "deletable": false,
    "id": "df853f20"
   },
   "outputs": [],
   "source": [
    "data = data.drop_duplicates()"
   ]
  },
  {
   "cell_type": "markdown",
   "id": "627be38f",
   "metadata": {
    "deletable": false,
    "editable": false,
    "id": "627be38f"
   },
   "source": [
    "### Категоризация данных"
   ]
  },
  {
   "cell_type": "markdown",
   "id": "4684c3e0",
   "metadata": {
    "deletable": false,
    "editable": false,
    "id": "4684c3e0"
   },
   "source": [
    "**Задание 16. На основании диапазонов, указанных ниже, создайте в датафрейме `data` столбец `total_income_category` с категориями:**\n",
    "\n",
    "- 0–30000 — `'E'`;\n",
    "- 30001–50000 — `'D'`;\n",
    "- 50001–200000 — `'C'`;\n",
    "- 200001–1000000 — `'B'`;\n",
    "- 1000001 и выше — `'A'`.\n",
    "\n",
    "\n",
    "**Например, кредитополучателю с доходом 25000 нужно назначить категорию `'E'`, а клиенту, получающему 235000, — `'B'`. Используйте собственную функцию с именем `categorize_income()` и метод `apply()`.**"
   ]
  },
  {
   "cell_type": "code",
   "execution_count": 17,
   "id": "78965238",
   "metadata": {
    "deletable": false,
    "id": "78965238"
   },
   "outputs": [],
   "source": [
    "def categorize_income(income):\n",
    "    try:\n",
    "        if 0 <= income <= 30000:\n",
    "            return 'E'\n",
    "        elif 30001 <= income <= 50000:\n",
    "            return 'D'\n",
    "        elif 50001 <= income <= 200000:\n",
    "            return 'C'\n",
    "        elif 200001 <= income <= 1000000:\n",
    "            return 'B'\n",
    "        elif income >= 1000001:\n",
    "            return 'A'\n",
    "    except:\n",
    "        pass"
   ]
  },
  {
   "cell_type": "code",
   "execution_count": 18,
   "id": "0980ada1",
   "metadata": {
    "deletable": false,
    "id": "0980ada1"
   },
   "outputs": [],
   "source": [
    "data['total_income_category'] = data['total_income'].apply(categorize_income)"
   ]
  },
  {
   "cell_type": "markdown",
   "id": "9917bba0",
   "metadata": {
    "deletable": false,
    "editable": false,
    "id": "9917bba0"
   },
   "source": [
    "**Задание 17. Выведите на экран перечень уникальных целей взятия кредита из столбца `purpose`.**"
   ]
  },
  {
   "cell_type": "code",
   "execution_count": 19,
   "id": "ee07b65e",
   "metadata": {
    "deletable": false,
    "id": "ee07b65e",
    "outputId": "673c12d9-7d7e-4ae0-9812-c622c89dd244"
   },
   "outputs": [
    {
     "data": {
      "text/plain": [
       "array(['покупка жилья', 'приобретение автомобиля',\n",
       "       'дополнительное образование', 'сыграть свадьбу',\n",
       "       'операции с жильем', 'образование', 'на проведение свадьбы',\n",
       "       'покупка жилья для семьи', 'покупка недвижимости',\n",
       "       'покупка коммерческой недвижимости', 'покупка жилой недвижимости',\n",
       "       'строительство собственной недвижимости', 'недвижимость',\n",
       "       'строительство недвижимости', 'на покупку подержанного автомобиля',\n",
       "       'на покупку своего автомобиля',\n",
       "       'операции с коммерческой недвижимостью',\n",
       "       'строительство жилой недвижимости', 'жилье',\n",
       "       'операции со своей недвижимостью', 'автомобили',\n",
       "       'заняться образованием', 'сделка с подержанным автомобилем',\n",
       "       'получение образования', 'автомобиль', 'свадьба',\n",
       "       'получение дополнительного образования', 'покупка своего жилья',\n",
       "       'операции с недвижимостью', 'получение высшего образования',\n",
       "       'свой автомобиль', 'сделка с автомобилем',\n",
       "       'профильное образование', 'высшее образование',\n",
       "       'покупка жилья для сдачи', 'на покупку автомобиля', 'ремонт жилью',\n",
       "       'заняться высшим образованием'], dtype=object)"
      ]
     },
     "execution_count": 19,
     "metadata": {},
     "output_type": "execute_result"
    }
   ],
   "source": [
    "data['purpose'].unique()"
   ]
  },
  {
   "cell_type": "markdown",
   "id": "52b79d56",
   "metadata": {
    "deletable": false,
    "editable": false,
    "id": "52b79d56"
   },
   "source": [
    "**Задание 18. Создайте функцию, которая на основании данных из столбца `purpose` сформирует новый столбец `purpose_category`, в который войдут следующие категории:**\n",
    "\n",
    "- `'операции с автомобилем'`,\n",
    "- `'операции с недвижимостью'`,\n",
    "- `'проведение свадьбы'`,\n",
    "- `'получение образования'`.\n",
    "\n",
    "**Например, если в столбце `purpose` находится подстрока `'на покупку автомобиля'`, то в столбце `purpose_category` должна появиться строка `'операции с автомобилем'`.**\n",
    "\n",
    "**Используйте собственную функцию с именем `categorize_purpose()` и метод `apply()`. Изучите данные в столбце `purpose` и определите, какие подстроки помогут вам правильно определить категорию.**"
   ]
  },
  {
   "cell_type": "code",
   "execution_count": 20,
   "id": "be41da5d",
   "metadata": {
    "deletable": false,
    "id": "be41da5d"
   },
   "outputs": [],
   "source": [
    "def categorize_purpose(row):\n",
    "    try:\n",
    "        if 'автом' in row:\n",
    "            return 'операции с автомобилем'\n",
    "        elif 'жил' in row or 'недвиж' in row:\n",
    "            return 'операции с недвижимостью'\n",
    "        elif 'свад' in row:\n",
    "            return 'проведение свадьбы'\n",
    "        elif 'образов' in row:\n",
    "            return 'получение образования'\n",
    "    except:\n",
    "        return 'нет категории'"
   ]
  },
  {
   "cell_type": "code",
   "execution_count": 21,
   "id": "94c4a19a",
   "metadata": {
    "deletable": false,
    "id": "94c4a19a"
   },
   "outputs": [],
   "source": [
    "data['purpose_category'] = data['purpose'].apply(categorize_purpose)"
   ]
  },
  {
   "cell_type": "markdown",
   "id": "3d596c34",
   "metadata": {
    "deletable": false,
    "editable": false,
    "id": "3d596c34"
   },
   "source": [
    "### Шаг 3. Исследуйте данные и ответьте на вопросы"
   ]
  },
  {
   "cell_type": "markdown",
   "id": "648db036",
   "metadata": {
    "deletable": false,
    "editable": false,
    "id": "648db036"
   },
   "source": [
    "#### 3.1 Есть ли зависимость между количеством детей и возвратом кредита в срок?"
   ]
  },
  {
   "cell_type": "code",
   "execution_count": 22,
   "id": "7fcff25e",
   "metadata": {
    "deletable": false,
    "id": "7fcff25e"
   },
   "outputs": [
    {
     "name": "stdout",
     "output_type": "stream",
     "text": [
      "Уникальные значения в столбце debt: [0 1]\n",
      "Уникальные значения в столбце children: [1 0 3 2 4 5]\n",
      "\n"
     ]
    }
   ],
   "source": [
    "# проверим уникальные значения в столбце 'debt'\n",
    "print('Уникальные значения в столбце debt:', data['debt'].unique())\n",
    "\n",
    "# проверим уникальные значения в столбце 'children'\n",
    "print('Уникальные значения в столбце children:', data['children'].unique())\n",
    "print()\n",
    "\n",
    "# сгруппируем данные методом groupby(), чтобы проследить зависимость между количеством детей и задолженостям по возврату кредитов\n",
    "#data_children_debt = data.groupby(['children', 'debt']).agg({'debt':'count'})\n",
    "#print(data_children_debt)\n",
    "#print()\n",
    "\n",
    "# в новой таблице 'data_children_debt_count' получим общее число записей в столбце 'debt' по категориям 'children'\n",
    "#data_children_debt_count = data.groupby(['children']).agg({'debt':'count'})\n",
    "#print(data_children_debt_count)\n",
    "#print()\n",
    "\n",
    "# создадим новый столбец 'ratio' и посчитаем соотношение для каждой категории\n",
    "#data_children_debt['ratio'] = (data_children_debt['debt'] / data_children_debt_count['debt'] * 100).round(2)\n",
    "#print(data_children_debt)"
   ]
  },
  {
   "cell_type": "markdown",
   "id": "2999aca7",
   "metadata": {},
   "source": [
    "<div class=\"alert alert-danger\">\n",
    "<b>Комментарий ревьюера №1</b> ❌ Замечание по всему разделу ответов на вопросы \n",
    "    \n",
    "Гораздо рациональнее здесь воспользоваться `pivot_table()`.\n",
    "    \n",
    "Чтобы найти долю должников, нужно количество должников поделить на общее число заемщиков. Эту долю можно найти с помощью функции агрегации `mean`\n",
    "    \n",
    "Попробуй получить сводную следующего вида. В индексе столбец, который исследуем (в первом вопросе это количество детей), а столбцы: 'Всего кредитополучателей', 'Всего должников', 'Доля должников'. Учитывай, что использовать параметр columns необязательно, а в параметр aggfunc можно указывать несколько функций агрегации сразу.\n",
    "\n",
    "Также могу посоветовать переименовать столбцы и написать функцию для построения сводных во всех вопросах.\n",
    "</div>"
   ]
  },
  {
   "cell_type": "markdown",
   "id": "12af68eb",
   "metadata": {},
   "source": [
    "<div class=\"alert alert-info\">\n",
    "<b>Комментарий студента №1</b>\n",
    "    \n",
    "Приняла, все исправила! Закомментировала предыдущий код, ниже поле с новым кодом по этому заданию.\n",
    "    \n",
    "</div>"
   ]
  },
  {
   "cell_type": "code",
   "execution_count": 23,
   "id": "36a6c758",
   "metadata": {},
   "outputs": [
    {
     "data": {
      "text/html": [
       "<div>\n",
       "<style scoped>\n",
       "    .dataframe tbody tr th:only-of-type {\n",
       "        vertical-align: middle;\n",
       "    }\n",
       "\n",
       "    .dataframe tbody tr th {\n",
       "        vertical-align: top;\n",
       "    }\n",
       "\n",
       "    .dataframe thead tr th {\n",
       "        text-align: left;\n",
       "    }\n",
       "\n",
       "    .dataframe thead tr:last-of-type th {\n",
       "        text-align: right;\n",
       "    }\n",
       "</style>\n",
       "<table border=\"1\" class=\"dataframe\">\n",
       "  <thead>\n",
       "    <tr>\n",
       "      <th></th>\n",
       "      <th>Всего кредитополучателей</th>\n",
       "      <th>Всего должников</th>\n",
       "      <th>Доля должников</th>\n",
       "    </tr>\n",
       "    <tr>\n",
       "      <th></th>\n",
       "      <th>debt</th>\n",
       "      <th>debt</th>\n",
       "      <th>debt</th>\n",
       "    </tr>\n",
       "    <tr>\n",
       "      <th>children</th>\n",
       "      <th></th>\n",
       "      <th></th>\n",
       "      <th></th>\n",
       "    </tr>\n",
       "  </thead>\n",
       "  <tbody>\n",
       "    <tr>\n",
       "      <th>0</th>\n",
       "      <td>14091</td>\n",
       "      <td>1063</td>\n",
       "      <td>7.54</td>\n",
       "    </tr>\n",
       "    <tr>\n",
       "      <th>1</th>\n",
       "      <td>4808</td>\n",
       "      <td>444</td>\n",
       "      <td>9.23</td>\n",
       "    </tr>\n",
       "    <tr>\n",
       "      <th>2</th>\n",
       "      <td>2052</td>\n",
       "      <td>194</td>\n",
       "      <td>9.45</td>\n",
       "    </tr>\n",
       "    <tr>\n",
       "      <th>3</th>\n",
       "      <td>330</td>\n",
       "      <td>27</td>\n",
       "      <td>8.18</td>\n",
       "    </tr>\n",
       "    <tr>\n",
       "      <th>4</th>\n",
       "      <td>41</td>\n",
       "      <td>4</td>\n",
       "      <td>9.76</td>\n",
       "    </tr>\n",
       "    <tr>\n",
       "      <th>5</th>\n",
       "      <td>9</td>\n",
       "      <td>0</td>\n",
       "      <td>0.00</td>\n",
       "    </tr>\n",
       "  </tbody>\n",
       "</table>\n",
       "</div>"
      ],
      "text/plain": [
       "         Всего кредитополучателей Всего должников Доля должников\n",
       "                             debt            debt           debt\n",
       "children                                                        \n",
       "0                           14091            1063           7.54\n",
       "1                            4808             444           9.23\n",
       "2                            2052             194           9.45\n",
       "3                             330              27           8.18\n",
       "4                              41               4           9.76\n",
       "5                               9               0           0.00"
      ]
     },
     "execution_count": 23,
     "metadata": {},
     "output_type": "execute_result"
    }
   ],
   "source": [
    "# Создадим функицю для построения сводных во всех вопросах, где аргументом будет номер столбца\n",
    "def pivot_create(column_number):\n",
    "    column_name = list(data)[column_number]\n",
    "    pivot_column_debt = data.pivot_table(index=[column_name], values='debt', aggfunc=['count', 'sum', 'mean'])\n",
    "\n",
    "    # Переименуем столбцы полученой таблицы 'pivot_column_debt'\n",
    "    pivot_column_debt.rename(columns={'count': 'Всего кредитополучателей', 'sum': 'Всего должников', 'mean': 'Доля должников'}, inplace=True)\n",
    "    \n",
    "    # Для красоты вывода перезапишем значения в столбце 'Доля должников'\n",
    "    pivot_column_debt['Доля должников'] = (pivot_column_debt['Доля должников'] * 100).round(2)\n",
    "    \n",
    "    return pivot_column_debt\n",
    "    \n",
    "# Применим созданную функцию pivot_create() к столбцу 'children'\n",
    "pivot_create(0)"
   ]
  },
  {
   "cell_type": "markdown",
   "id": "4caf5837",
   "metadata": {},
   "source": [
    "<div class=\"alert alert-success\">\n",
    "<b>Комментарий ревьюера №2</b> ✅\n",
    "    \n",
    "Чтобы убрать мультииндекс (слово debt в названии), можно использовать метод `.droplevel(1,axis=1)` или переименовать столбцы прямо в функции отдельной строкой так:\n",
    "\n",
    "    pivot_column_debt.columns = ['Всего кредитополучателей', 'Количество должников', 'Процент должников']\n",
    "</div>"
   ]
  },
  {
   "cell_type": "markdown",
   "id": "2eb9088e",
   "metadata": {
    "deletable": false,
    "id": "2eb9088e"
   },
   "source": [
    "**Вывод:** Процент бездетных клиентов, у которых были проблемы с возвратом кредита в срок, составляет 7,54% от общего числа бездетных клиентов. С наличием 1-4 детей этот процент растет и составлет от 8,18% до 9,76%. Интересно, что у клиентов с 5-ю детьми возврат кредитов в срок составляет 100%. \n",
    "\n",
    "Таким образом, отсутствие детей повышает кредитоспособность клиента. Но количество детей почти не влияет на возврат кредита в срок. Для клиентов с пятью детьми сделать вывод труднее из-за маленькой выборки."
   ]
  },
  {
   "cell_type": "markdown",
   "id": "b1f17e6c",
   "metadata": {},
   "source": [
    "<div class=\"alert alert-danger\">\n",
    "<b>Комментарий ревьюера №1</b> ❌\n",
    "    \n",
    "Выявлять зависимость стоит, сравнивая самые большие, сопоставимые по размеру категории заемщиков. Какую зависимость можно выявить, сравнив категории с 0, 1 и 2 детьми?\n",
    "</div>"
   ]
  },
  {
   "cell_type": "markdown",
   "id": "38f64a8f",
   "metadata": {},
   "source": [
    "<div class=\"alert alert-info\">\n",
    "<b>Комментарий студента №1</b>\n",
    "    \n",
    "Поняла! Новый вывод ниже.\n",
    "    \n",
    "</div>"
   ]
  },
  {
   "cell_type": "markdown",
   "id": "1c6b4506",
   "metadata": {},
   "source": [
    "**Вывод:** Процент бездетных клиентов, у которых были проблемы с возвратом кредита в срок, составляет 7,54% от общего числа бездетных клиентов. С наличием 1-го и 2-х детей этот процент растет и составлет 9,23% и 9,45% соответственно. \n",
    "\n",
    "Таким образом, клиенты без детей явялются наиболее кредитоспособными. С увеличением количества детей кредитоспособность клиентов падает. Вероятно, это связано с перераспределением финансов бюджета семьи после появления в семье детей."
   ]
  },
  {
   "cell_type": "markdown",
   "id": "6f7a4648",
   "metadata": {},
   "source": [
    "<div class=\"alert alert-success\">\n",
    "<b>Комментарий ревьюера №2</b> ✅\n",
    "    \n",
    "Чем больше детей, тем выше процент должников\n",
    "</div>"
   ]
  },
  {
   "cell_type": "markdown",
   "id": "74c9b3a7",
   "metadata": {
    "deletable": false,
    "editable": false,
    "id": "74c9b3a7"
   },
   "source": [
    "#### 3.2 Есть ли зависимость между семейным положением и возвратом кредита в срок?"
   ]
  },
  {
   "cell_type": "code",
   "execution_count": 25,
   "id": "8098ab3b",
   "metadata": {
    "deletable": false,
    "id": "8098ab3b"
   },
   "outputs": [
    {
     "name": "stdout",
     "output_type": "stream",
     "text": [
      "Уникальные значения в столбце debt: [0 1]\n",
      "Уникальные значения в столбце family_status: ['женат / замужем' 'гражданский брак' 'вдовец / вдова' 'в разводе'\n",
      " 'Не женат / не замужем']\n",
      "\n",
      "Уникальные значения в столбце family_status: ['женат / замужем' 'гражданский брак' 'вдовец / вдова' 'в разводе'\n",
      " 'не женат / не замужем']\n",
      "\n"
     ]
    }
   ],
   "source": [
    "# проверим уникальные значения в столбце 'debt'\n",
    "print('Уникальные значения в столбце debt:', data['debt'].unique())\n",
    "\n",
    "# проверим уникальные значения в столбце 'family_status'\n",
    "print('Уникальные значения в столбце family_status:', data['family_status'].unique())\n",
    "print()\n",
    "\n",
    "# для красоты вывода заменим все буквы в значении 'Не женат / не замужем' в столбце 'family_status' на строчные\n",
    "data = data.replace('Не женат / не замужем', 'не женат / не замужем')\n",
    "\n",
    "# проверим, прошла ли замена значений в столбце 'family_status'\n",
    "print('Уникальные значения в столбце family_status:', data['family_status'].unique())\n",
    "print()\n",
    "\n",
    "# сгруппируем данные методом groupby(), чтобы проследить зависимость между семейным положением и задолженостям по возврату кредитов\n",
    "# data_family_status_debt = data.groupby(['family_status', 'debt']).agg({'debt':'count'})\n",
    "# print(data_family_status_debt)\n",
    "# print()\n",
    "\n",
    "# в новой таблице 'data_family_status_debt_count' получим общее число записей в столбце 'debt' по категориям 'family_status'\n",
    "# data_family_status_debt_count = data.groupby(['family_status']).agg({'debt':'count'})\n",
    "# print(data_family_status_debt_count)\n",
    "# print()\n",
    "\n",
    "# создадим новый столбец 'ratio' и посчитаем соотношение для каждой категории\n",
    "# data_family_status_debt['ratio'] = (data_family_status_debt['debt'] / data_family_status_debt_count['debt'] * 100).round(2)\n",
    "# print(data_family_status_debt)"
   ]
  },
  {
   "cell_type": "markdown",
   "id": "9fab59c0",
   "metadata": {},
   "source": [
    "<div class=\"alert alert-info\">\n",
    "<b>Комментарий студента №1</b>\n",
    "    \n",
    "Часть старого кода закомментировала, применила здесь новую функцию, созданную выше.\n",
    "    \n",
    "</div>"
   ]
  },
  {
   "cell_type": "code",
   "execution_count": 26,
   "id": "090aa795",
   "metadata": {},
   "outputs": [
    {
     "data": {
      "text/html": [
       "<div>\n",
       "<style scoped>\n",
       "    .dataframe tbody tr th:only-of-type {\n",
       "        vertical-align: middle;\n",
       "    }\n",
       "\n",
       "    .dataframe tbody tr th {\n",
       "        vertical-align: top;\n",
       "    }\n",
       "\n",
       "    .dataframe thead tr th {\n",
       "        text-align: left;\n",
       "    }\n",
       "\n",
       "    .dataframe thead tr:last-of-type th {\n",
       "        text-align: right;\n",
       "    }\n",
       "</style>\n",
       "<table border=\"1\" class=\"dataframe\">\n",
       "  <thead>\n",
       "    <tr>\n",
       "      <th></th>\n",
       "      <th>Всего кредитополучателей</th>\n",
       "      <th>Всего должников</th>\n",
       "      <th>Доля должников</th>\n",
       "    </tr>\n",
       "    <tr>\n",
       "      <th></th>\n",
       "      <th>debt</th>\n",
       "      <th>debt</th>\n",
       "      <th>debt</th>\n",
       "    </tr>\n",
       "    <tr>\n",
       "      <th>family_status</th>\n",
       "      <th></th>\n",
       "      <th></th>\n",
       "      <th></th>\n",
       "    </tr>\n",
       "  </thead>\n",
       "  <tbody>\n",
       "    <tr>\n",
       "      <th>в разводе</th>\n",
       "      <td>1189</td>\n",
       "      <td>84</td>\n",
       "      <td>7.06</td>\n",
       "    </tr>\n",
       "    <tr>\n",
       "      <th>вдовец / вдова</th>\n",
       "      <td>951</td>\n",
       "      <td>63</td>\n",
       "      <td>6.62</td>\n",
       "    </tr>\n",
       "    <tr>\n",
       "      <th>гражданский брак</th>\n",
       "      <td>4134</td>\n",
       "      <td>385</td>\n",
       "      <td>9.31</td>\n",
       "    </tr>\n",
       "    <tr>\n",
       "      <th>женат / замужем</th>\n",
       "      <td>12261</td>\n",
       "      <td>927</td>\n",
       "      <td>7.56</td>\n",
       "    </tr>\n",
       "    <tr>\n",
       "      <th>не женат / не замужем</th>\n",
       "      <td>2796</td>\n",
       "      <td>273</td>\n",
       "      <td>9.76</td>\n",
       "    </tr>\n",
       "  </tbody>\n",
       "</table>\n",
       "</div>"
      ],
      "text/plain": [
       "                      Всего кредитополучателей Всего должников Доля должников\n",
       "                                          debt            debt           debt\n",
       "family_status                                                                \n",
       "в разводе                                 1189              84           7.06\n",
       "вдовец / вдова                             951              63           6.62\n",
       "гражданский брак                          4134             385           9.31\n",
       "женат / замужем                          12261             927           7.56\n",
       "не женат / не замужем                     2796             273           9.76"
      ]
     },
     "execution_count": 26,
     "metadata": {},
     "output_type": "execute_result"
    }
   ],
   "source": [
    "pivot_create(5)"
   ]
  },
  {
   "cell_type": "markdown",
   "id": "c389ca63",
   "metadata": {
    "deletable": false,
    "id": "c389ca63"
   },
   "source": [
    "**Вывод:** Самый низкий процент невозврата кредита в срок относится к категории семейного положения 'вдвовы' и составлет 6,62% от общего числа клинтов из этой категории. Самый высокий - у категории 'не женат / не замужем' и составляет 9,76%. \n",
    "\n",
    "\n",
    "Исходя из данных, можно сделать вывод о том, что наиболее кредитоспособными являются клиенты с семейным положением:\n",
    "- Вдовец / вдова\n",
    "- В разводе\n",
    "- Женат / замужем"
   ]
  },
  {
   "cell_type": "markdown",
   "id": "f01b2de8",
   "metadata": {},
   "source": [
    "<div class=\"alert alert-success\">\n",
    "<b>Комментарий ревьюера №1</b> ✅\n",
    "    \n",
    "Люди, побывавшие в официальном браке, наиболее надежны. Возможно, есть связь с возрастом\n",
    "</div>"
   ]
  },
  {
   "cell_type": "markdown",
   "id": "9529de68",
   "metadata": {
    "deletable": false,
    "editable": false,
    "id": "9529de68"
   },
   "source": [
    "#### 3.3 Есть ли зависимость между уровнем дохода и возвратом кредита в срок?"
   ]
  },
  {
   "cell_type": "code",
   "execution_count": 27,
   "id": "8787f44a",
   "metadata": {
    "deletable": false,
    "id": "8787f44a"
   },
   "outputs": [],
   "source": [
    "# сгруппируем данные методом groupby(), чтобы проследить зависимость между уровнем дохода и задолженостям по возврату кредитов\n",
    "# data_income_debt = data.groupby(['total_income_category', 'debt']).agg({'debt':'count'})\n",
    "# print(data_income_debt)\n",
    "# print()\n",
    "\n",
    "# в новой таблице 'data_income_debt_count' получим общее число записей в столбце 'debt' по категориям 'total_income_category'\n",
    "# data_income_debt_count = data.groupby(['total_income_category']).agg({'debt':'count'})\n",
    "# print(data_income_debt_count)\n",
    "# print()\n",
    "\n",
    "# создадим новый столбец 'ratio' и посчитаем соотношение для каждой категории\n",
    "# data_income_debt['ratio'] = (data_income_debt['debt'] / data_income_debt_count['debt'] * 100).round(2)\n",
    "# print(data_income_debt)"
   ]
  },
  {
   "cell_type": "markdown",
   "id": "9624ae6f",
   "metadata": {},
   "source": [
    "<div class=\"alert alert-info\">\n",
    "<b>Комментарий студента №1</b>\n",
    "    \n",
    "Так же, как и для предыдущего задания, старый код закомментировала, применила здесь новую функцию.\n",
    "    \n",
    "</div>"
   ]
  },
  {
   "cell_type": "code",
   "execution_count": 28,
   "id": "0ae2d550",
   "metadata": {},
   "outputs": [
    {
     "data": {
      "text/html": [
       "<div>\n",
       "<style scoped>\n",
       "    .dataframe tbody tr th:only-of-type {\n",
       "        vertical-align: middle;\n",
       "    }\n",
       "\n",
       "    .dataframe tbody tr th {\n",
       "        vertical-align: top;\n",
       "    }\n",
       "\n",
       "    .dataframe thead tr th {\n",
       "        text-align: left;\n",
       "    }\n",
       "\n",
       "    .dataframe thead tr:last-of-type th {\n",
       "        text-align: right;\n",
       "    }\n",
       "</style>\n",
       "<table border=\"1\" class=\"dataframe\">\n",
       "  <thead>\n",
       "    <tr>\n",
       "      <th></th>\n",
       "      <th>Всего кредитополучателей</th>\n",
       "      <th>Всего должников</th>\n",
       "      <th>Доля должников</th>\n",
       "    </tr>\n",
       "    <tr>\n",
       "      <th></th>\n",
       "      <th>debt</th>\n",
       "      <th>debt</th>\n",
       "      <th>debt</th>\n",
       "    </tr>\n",
       "    <tr>\n",
       "      <th>total_income_category</th>\n",
       "      <th></th>\n",
       "      <th></th>\n",
       "      <th></th>\n",
       "    </tr>\n",
       "  </thead>\n",
       "  <tbody>\n",
       "    <tr>\n",
       "      <th>A</th>\n",
       "      <td>25</td>\n",
       "      <td>2</td>\n",
       "      <td>8.00</td>\n",
       "    </tr>\n",
       "    <tr>\n",
       "      <th>B</th>\n",
       "      <td>5014</td>\n",
       "      <td>354</td>\n",
       "      <td>7.06</td>\n",
       "    </tr>\n",
       "    <tr>\n",
       "      <th>C</th>\n",
       "      <td>15921</td>\n",
       "      <td>1353</td>\n",
       "      <td>8.50</td>\n",
       "    </tr>\n",
       "    <tr>\n",
       "      <th>D</th>\n",
       "      <td>349</td>\n",
       "      <td>21</td>\n",
       "      <td>6.02</td>\n",
       "    </tr>\n",
       "    <tr>\n",
       "      <th>E</th>\n",
       "      <td>22</td>\n",
       "      <td>2</td>\n",
       "      <td>9.09</td>\n",
       "    </tr>\n",
       "  </tbody>\n",
       "</table>\n",
       "</div>"
      ],
      "text/plain": [
       "                      Всего кредитополучателей Всего должников Доля должников\n",
       "                                          debt            debt           debt\n",
       "total_income_category                                                        \n",
       "A                                           25               2           8.00\n",
       "B                                         5014             354           7.06\n",
       "C                                        15921            1353           8.50\n",
       "D                                          349              21           6.02\n",
       "E                                           22               2           9.09"
      ]
     },
     "execution_count": 28,
     "metadata": {},
     "output_type": "execute_result"
    }
   ],
   "source": [
    "pivot_create(12)"
   ]
  },
  {
   "cell_type": "markdown",
   "id": "6dd14b57",
   "metadata": {
    "deletable": false,
    "id": "6dd14b57"
   },
   "source": [
    "**Вывод:** Наименее кредитоспособными являются клиенты с доходом менее 30 тыс. Процент проблем с возвратом кредита в срок у таких клиентов составляет 9,09% от общего числа клиентов с доходом в этой категории. Также к менее кредитоспособным можно отнести клиентов с доходом 50-200 тыс. и выше 1 млн.\n",
    "\n",
    "Процент проблем с возвратом кредита в срок у клиентов с доходом 30-50 тыс. и 200 тыс.-1 млн. составляет 6,02% и 7,06% соответственно."
   ]
  },
  {
   "cell_type": "markdown",
   "id": "abe64ff9",
   "metadata": {},
   "source": [
    "<div class=\"alert alert-danger\">\n",
    "<b>Комментарий ревьюера №1</b> ❌\n",
    "    \n",
    "Здесь лучше делать выводы по двум самым крупным категориям - B и С. По остальным категориям данных недостаточно для корректных выводов, статпогрешность большая\n",
    "</div>"
   ]
  },
  {
   "cell_type": "markdown",
   "id": "f37330f5",
   "metadata": {},
   "source": [
    "<div class=\"alert alert-info\">\n",
    "<b>Комментарий студента №1</b>\n",
    "    \n",
    "Новый вывод написала ниже.\n",
    "    \n",
    "</div>"
   ]
  },
  {
   "cell_type": "markdown",
   "id": "abccd315",
   "metadata": {},
   "source": [
    "**Вывод:**\n",
    "\n",
    "Наибольшую часть выборки составляют категории B (доход от 200 тыс. до 1 млн.) и С (доход от 50 до 200 тыс.), поэтому корректные выводы можно сделать только по этим двум категориям. Проблемы с возвратом кредита в срок для категории B составляют 7,06% от общего числа клиентов этой категории и 8,5% для категории C. \n",
    "\n",
    "Таким образом, клиенты с доходом от 200 тыс. до 1 млн. являются более кредитоспособными, чем люди, зарабатывающие от 50 до 200 тыс., т.е. людям с меньшим заработком сложнее выплачивать кредиты вовремя."
   ]
  },
  {
   "cell_type": "markdown",
   "id": "fa17f094",
   "metadata": {},
   "source": [
    "<div class=\"alert alert-success\">\n",
    "<b>Комментарий ревьюера №2</b> ✅\n",
    "    \n",
    "Чем выше доход, тем ниже процент должников\n",
    "</div>"
   ]
  },
  {
   "cell_type": "markdown",
   "id": "1dcc9b12",
   "metadata": {
    "deletable": false,
    "editable": false,
    "id": "1dcc9b12"
   },
   "source": [
    "#### 3.4 Как разные цели кредита влияют на его возврат в срок?"
   ]
  },
  {
   "cell_type": "code",
   "execution_count": 29,
   "id": "c602bc8b",
   "metadata": {
    "deletable": false,
    "id": "c602bc8b"
   },
   "outputs": [],
   "source": [
    "# сгруппируем данные методом groupby(), чтобы проследить зависимость между уровнем дохода и задолженостям по возврату кредитов\n",
    "# data_purpose_debt = data.groupby(['purpose_category', 'debt']).agg({'debt':'count'})\n",
    "# print(data_purpose_debt)\n",
    "# print()\n",
    "\n",
    "# в новой таблице 'data_income_debt_count' получим общее число записей в столбце 'debt' по категориям 'total_income_category'\n",
    "# data_purpose_debt_count = data.groupby(['purpose_category']).agg({'debt':'count'})\n",
    "# print(data_purpose_debt_count)\n",
    "# print()\n",
    "\n",
    "# создадим новый столбец 'ratio' и посчитаем соотношение для каждой категории\n",
    "# data_purpose_debt['ratio'] = (data_purpose_debt['debt'] / data_purpose_debt_count['debt'] * 100).round(2)\n",
    "# print(data_purpose_debt)"
   ]
  },
  {
   "cell_type": "markdown",
   "id": "a6196dda",
   "metadata": {},
   "source": [
    "<div class=\"alert alert-info\">\n",
    "<b>Комментарий студента №1</b>\n",
    "    \n",
    "Старый код закомментировала, применила здесь новую функцию.\n",
    "    \n",
    "</div>"
   ]
  },
  {
   "cell_type": "code",
   "execution_count": 30,
   "id": "38094440",
   "metadata": {},
   "outputs": [
    {
     "data": {
      "text/html": [
       "<div>\n",
       "<style scoped>\n",
       "    .dataframe tbody tr th:only-of-type {\n",
       "        vertical-align: middle;\n",
       "    }\n",
       "\n",
       "    .dataframe tbody tr th {\n",
       "        vertical-align: top;\n",
       "    }\n",
       "\n",
       "    .dataframe thead tr th {\n",
       "        text-align: left;\n",
       "    }\n",
       "\n",
       "    .dataframe thead tr:last-of-type th {\n",
       "        text-align: right;\n",
       "    }\n",
       "</style>\n",
       "<table border=\"1\" class=\"dataframe\">\n",
       "  <thead>\n",
       "    <tr>\n",
       "      <th></th>\n",
       "      <th>Всего кредитополучателей</th>\n",
       "      <th>Всего должников</th>\n",
       "      <th>Доля должников</th>\n",
       "    </tr>\n",
       "    <tr>\n",
       "      <th></th>\n",
       "      <th>debt</th>\n",
       "      <th>debt</th>\n",
       "      <th>debt</th>\n",
       "    </tr>\n",
       "    <tr>\n",
       "      <th>purpose_category</th>\n",
       "      <th></th>\n",
       "      <th></th>\n",
       "      <th></th>\n",
       "    </tr>\n",
       "  </thead>\n",
       "  <tbody>\n",
       "    <tr>\n",
       "      <th>операции с автомобилем</th>\n",
       "      <td>4279</td>\n",
       "      <td>400</td>\n",
       "      <td>9.35</td>\n",
       "    </tr>\n",
       "    <tr>\n",
       "      <th>операции с недвижимостью</th>\n",
       "      <td>10751</td>\n",
       "      <td>780</td>\n",
       "      <td>7.26</td>\n",
       "    </tr>\n",
       "    <tr>\n",
       "      <th>получение образования</th>\n",
       "      <td>3988</td>\n",
       "      <td>369</td>\n",
       "      <td>9.25</td>\n",
       "    </tr>\n",
       "    <tr>\n",
       "      <th>проведение свадьбы</th>\n",
       "      <td>2313</td>\n",
       "      <td>183</td>\n",
       "      <td>7.91</td>\n",
       "    </tr>\n",
       "  </tbody>\n",
       "</table>\n",
       "</div>"
      ],
      "text/plain": [
       "                         Всего кредитополучателей Всего должников  \\\n",
       "                                             debt            debt   \n",
       "purpose_category                                                    \n",
       "операции с автомобилем                       4279             400   \n",
       "операции с недвижимостью                    10751             780   \n",
       "получение образования                        3988             369   \n",
       "проведение свадьбы                           2313             183   \n",
       "\n",
       "                         Доля должников  \n",
       "                                   debt  \n",
       "purpose_category                         \n",
       "операции с автомобилем             9.35  \n",
       "операции с недвижимостью           7.26  \n",
       "получение образования              9.25  \n",
       "проведение свадьбы                 7.91  "
      ]
     },
     "execution_count": 30,
     "metadata": {},
     "output_type": "execute_result"
    }
   ],
   "source": [
    "pivot_create(13)"
   ]
  },
  {
   "cell_type": "markdown",
   "id": "cf05ed63",
   "metadata": {
    "deletable": false,
    "id": "cf05ed63"
   },
   "source": [
    "**Вывод:** Цели, связанные с автомобилем и получением образования, ставят наименее кредитоспособные клиенты. Процент проблем, связанных с возвратом кредита в срок, у таких клиентов составлет 9,35% и 9,25% соответсвенно. \n",
    "\n",
    "Клиенты, которые берут кредит на различные операции с недвижимостью и проведение свадьбы, возвращают кредиты в срок чаще. Проблемы возникают у 7,26% и 7,91% от общего числа клиентов с целями из этих категорий."
   ]
  },
  {
   "cell_type": "markdown",
   "id": "de8264a2",
   "metadata": {},
   "source": [
    "<div class=\"alert alert-success\">\n",
    "<b>Комментарий ревьюера №1</b> ✅\n",
    "    \n",
    "Верно, можно подумать над причинами такого распределения\n",
    "\n",
    "</div>"
   ]
  },
  {
   "cell_type": "markdown",
   "id": "a498aafb",
   "metadata": {},
   "source": [
    "<div class=\"alert alert-info\">\n",
    "<b>Комментарий студента №1</b>\n",
    "    \n",
    "Решила дополнить вывод! :) Новый вывод ниже.\n",
    "    \n",
    "</div>"
   ]
  },
  {
   "cell_type": "markdown",
   "id": "819907f9",
   "metadata": {},
   "source": [
    "**Вывод:**\n",
    "\n",
    "Цели, связанные с автомобилем и получением образования, ставят наименее кредитоспособные клиенты. Процент проблем, связанных с возвратом кредита в срок, у таких клиентов составлет 9,35% и 9,25% соответсвенно.\n",
    "\n",
    "Клиенты, которые берут кредит на различные операции с недвижимостью и проведение свадьбы, возвращают кредиты в срок чаще. Проблемы возникают у 7,26% и 7,91% от общего числа клиентов с целями из этих категорий. \n",
    "\n",
    "Вероятно, жилье - это наиболее вынужденная и необходимая цель, к которой клиенты относятся более серьезно, чем автомобиль и образование. Сумма кредита на свадьбу чаще меньше, чем сумма кредитов по остальным категориям, поэтому выплатить такой кредит быстрее и проще."
   ]
  },
  {
   "cell_type": "markdown",
   "id": "9b3425b4",
   "metadata": {},
   "source": [
    "<div class=\"alert alert-success\">\n",
    "<b>Комментарий ревьюера №2</b> ✅\n",
    "    \n",
    "👍\n",
    "</div>"
   ]
  },
  {
   "cell_type": "markdown",
   "id": "46c1f10b",
   "metadata": {
    "deletable": false,
    "editable": false,
    "id": "46c1f10b"
   },
   "source": [
    "#### 3.5 Приведите возможные причины появления пропусков в исходных данных."
   ]
  },
  {
   "cell_type": "markdown",
   "id": "3697d2a9",
   "metadata": {
    "deletable": false,
    "id": "3697d2a9"
   },
   "source": [
    "*Ответ:* \n",
    "\n",
    "Причин для появления пропусков в данных может быть много:\n",
    "1. Человеческий фактор. Например, если данные собираются из формы, которую человек/клиент заполняет самостоятельно, он может намерено не указывать какую-либо информацию о себе. \n",
    "Может быть и такое, что сотрудник, собирающий эти данные, по невнимательности пропускает поле и не заполняет его.\n",
    "2. Технические ошибки машины/кода при обработке исходной таблицы с данными. Возможно, часть данных может обрабатываться некорректно.\n",
    "3. Отсутствие информации. Иногда необходимой информации может просто не быть. Например, заданный параметр начал собираться позже, собирается только в определенные даты или собирается только для конкретной категории. \n",
    "4. Некорректная работа приборов, ошибки, поломки и т.д."
   ]
  },
  {
   "cell_type": "markdown",
   "id": "d56a5f6b",
   "metadata": {},
   "source": [
    "<div class=\"alert alert-success\">\n",
    "<b>Комментарий ревьюера №1</b> ✅\n",
    "    \n",
    "Клиенты могли не предоставить данные. Возможно, эту информацию не требуют в некоторых случаях. Проблемы могли возникнуть на этапе загрузки и на этапе выгрузки данных. Неправильный запрос, объединение таблиц также может быть причиной.\n",
    "</div>"
   ]
  },
  {
   "cell_type": "markdown",
   "id": "3137d257",
   "metadata": {
    "deletable": false,
    "editable": false,
    "id": "3137d257"
   },
   "source": [
    "#### 3.6 Объясните, почему заполнить пропуски медианным значением — лучшее решение для количественных переменных."
   ]
  },
  {
   "cell_type": "markdown",
   "id": "cf40012a",
   "metadata": {
    "deletable": false,
    "id": "cf40012a"
   },
   "source": [
    "*Ответ:* \n",
    "\n",
    "Медиана, в отличии от среднего, менее чувствительна к данным, сильно выделяющимся из общей выборки. Если использовать среднее знаечние, такие данные могут сильно его искажать, давая тем самым неверное представление о центральной тенденции в данных. Медиана же может быть существенно меньше или больше среднего значения. Использование неверной метрики может серьезно сказаться на результатах."
   ]
  },
  {
   "cell_type": "markdown",
   "id": "96f550db",
   "metadata": {},
   "source": [
    "<div class=\"alert alert-success\">\n",
    "<b>Комментарий ревьюера №1</b> ✅\n",
    "    \n",
    "Да, смотрим на наличие выбросов👍\n",
    "</div>"
   ]
  },
  {
   "cell_type": "markdown",
   "id": "57bc304e",
   "metadata": {
    "deletable": false,
    "editable": false,
    "id": "57bc304e"
   },
   "source": [
    "### Шаг 4: общий вывод."
   ]
  },
  {
   "cell_type": "markdown",
   "id": "1ab75d1c",
   "metadata": {
    "deletable": false,
    "id": "1ab75d1c"
   },
   "source": [
    "Получив статистику о платежеспособности клиентов, мы проверили, влияет ли количество детей, семейное положение, уровень дохода и цель получения кредита клиента на факт погашения кредита в срок.\n",
    "\n",
    "Для построения модели кредитного скоринга рекомендуется учитывать следующие выводы:\n",
    "1. Отсутствие детей повышает кредитоспособность клиента. Но количество детей почти не влияет на возврат кредита в срок. Для клиентов с пятью детьми сделать вывод труднее из-за маленькой выборки.\n",
    "\n",
    "2. Наиболее кредитоспособными являются клиенты с семейным положением \"Вдовец / вдова\", \"В разводе\", \"Женат / замужем\".\n",
    "\n",
    "3. Наиболее кредитоспособными являются клиенты с доходом от 30 до 50 тыс. и от 200 тыс. до 1 млн.\n",
    "\n",
    "4. Цели, связанные с автомобилем и получением образования, ставят наименее кредитоспособные клиенты. Клиенты, которые берут кредит на различные операции с недвижимостью и проведение свадьбы, возвращают кредиты в срок чаще."
   ]
  },
  {
   "cell_type": "markdown",
   "id": "22b615c6",
   "metadata": {},
   "source": [
    "<div class=\"alert alert-danger\">\n",
    "<b>Комментарий ревьюера №1</b> ❌\n",
    " \n",
    "Выводы нужно будет поправить после изменений в проекте. В первую очередь обращают внимание на выводы - это отчет перед заказчиком. Здесь нужно описать какая работа над данными была проведена и каких результатов удалось добиться. Опиши все зависимости. Рекомендованная структура выводов следующая:\n",
    "    \n",
    "- абзац по предобработке данных, что было сделано\n",
    "    \n",
    "- выявленные зависимости просрочки от разных факторов в общем виде\n",
    "    \n",
    "- портреты надежного и рискованного заемщика\n",
    "    \n",
    "- рекомендации заказчику\n",
    "</div>"
   ]
  },
  {
   "cell_type": "markdown",
   "id": "e468e8b8",
   "metadata": {},
   "source": [
    "<div class=\"alert alert-info\">\n",
    "<b>Комментарий студента №1</b>\n",
    "    \n",
    "Спасибо за рекомендацию по структуре! Переписала, новый вывод ниже.\n",
    "    \n",
    "</div>"
   ]
  },
  {
   "cell_type": "markdown",
   "id": "3ca4a6ff",
   "metadata": {},
   "source": [
    "**Вывод:**\n",
    "\n",
    "Первым делом после получения статистики о платежеспособности клиентов, был выполнен ряд операций по предобработке данных.\n",
    "1. Заполнение пропусков в столбце `total_income` медианным значением по каждому типу из столбца `income_type`.\n",
    "2. Обработка аномальных значений: отрицательное количество дней трудового стажа в столбце `days_employed` и два аномальных значения в столбце `children`.\n",
    "3. Замена пропусков в столбце `days_employed` медианными значениями по каждого типа занятости `income_type`.\n",
    "4. Обработка невяных дубликатов в столбце `education` - приведение всех значений к нижнему регистру.\n",
    "5. Удаление строк-дубликатов датафрейма `data`.\n",
    "6. Категоризация данных: в датафрейме `data` создан столбец `total_income_category` с категориями:\n",
    "  - 0–30000 — 'E'\n",
    "  - 30001–50000 — 'D'\n",
    "  - 50001–200000 — 'C'\n",
    "  - 200001–1000000 — 'B'\n",
    "  - 1000001 и выше — 'A'\n",
    "7. Создание функции, которая на основании данных из столбца `purpose` сформировала новый столбец `purpose_category`, в который вошли следующие категории:\n",
    "  - 'операции с автомобилем'\n",
    "  - 'операции с недвижимостью'\n",
    "  - 'проведение свадьбы'\n",
    "  - 'получение образования'\n",
    "\n",
    "\n",
    "\n",
    "Далее была проведена проверка зависимостей между количеством детей, семейным положением клиента, уровнем его дохода, целью получения кредита и фактом погашения кредита в срок. Были выявлены следующие зависимости:\n",
    "  - Клиенты без детей явялются наиболее кредитоспособными. С увеличением количества детей кредитоспособность клиентов падает. Вероятно, это связано с перераспределением финансов бюджета семьи после появления в семье детей.\n",
    "\n",
    "  - Наиболее кредитоспособными являются клиенты с семейным положением \"Вдовец / вдова\", \"В разводе\", \"Женат / замужем\", т.е. люди зрелого возраста, побывавшие в официальном браке.\n",
    "\n",
    "  - Людям с меньшим заработком сложнее выплачивать кредиты вовремя. Клиенты с доходом от 200 тыс. до 1 млн. являются более кредитоспособными, чем люди, зарабатывающие от 50 до 200 тыс.\n",
    "\n",
    "  - Клиенты, которые берут кредит на различные операции с недвижимостью и проведение свадьбы, возвращают кредиты в срок чаще, чем кредиты автомобиль и образование. Вероятно, жилье - это наиболее вынужденная и необходимая цель, к которой клиенты относятся более серьезно. Сумма кредита на свадьбу чаще меньше, чем сумма кредитов по остальным категориям, поэтому выплатить такой кредит быстрее и проще.\n",
    "\n",
    "\n",
    "\n",
    "На основании полученных зависимостей были составлены портреты идеального надежного и рискованного заемщиков.\n",
    "1. Надежный заемщик: человек, побывавший или находящийся в официальном браке, без детей или хотя бы с одним ребенком, с высоким уровнем дохода , т.е. зарабатывающий от 200 тыс. до 1 млн. в мес., целью кредита которого является недвижимость.\n",
    "\n",
    "2. Рискованный заемщик: человек, находящийся в статусе \"не женат / не замужем\", с детьми, с низким уровнем дохода (до 200 тыс.), запрашивающий кредит на автомодиль или образование. \n",
    "\n",
    "\n",
    "Для построения модели кредитного скоринга рекомендуется учитывать вышеперечисленные зависимости. \n",
    "Повышает кредитоспособность клиента:\n",
    "  - Отсутствие детей;\n",
    "  - Более зрелый возраст и нахождение в настоящий или прошлый период времени в официальном браке;\n",
    "  - Высокий доход;\n",
    "  - Более вынужденные цели или цели с невысокой суммой кредита."
   ]
  },
  {
   "cell_type": "markdown",
   "id": "d1c04af8",
   "metadata": {},
   "source": [
    "<div class=\"alert alert-success\">\n",
    "<b>Комментарий ревьюера №2</b> ✅\n",
    "    \n",
    "В качестве рекомендаций можно предложить другую категоризацию по доходам. Или исследовать другие признаки, рассчитать другие метрики (отношение дохода к сумме выплат и др.). В анкете сделать поля о доходе и стаже обязательными к заполнению, добавить автопроверку на формат вводимых пользователем данных\n",
    "</div>"
   ]
  },
  {
   "cell_type": "markdown",
   "id": "1824ed0c",
   "metadata": {},
   "source": [
    "<div style=\"border:solid purple 2px; padding: 20px\"> \n",
    "<b> <font color='purple' >   \n",
    "    \n",
    "В целом, работа хорошая. У тебя отличные аналитические навыки, но остались небольшие доработки. Нужно проверить сводные и выводы. Доделывай и присылай на повторную проверку.\n",
    "        \n",
    "Жду твоих исправлений 😊\n",
    "</font></b>\n",
    "</div>"
   ]
  },
  {
   "cell_type": "markdown",
   "id": "c6e11c4b",
   "metadata": {},
   "source": [
    "<div class=\"alert alert-info\">\n",
    "    \n",
    "Большое спасибо за проверку и подробные комментарии и рекомендации! Очень старалась все учесть и исправить.\n",
    "    \n",
    "</div>"
   ]
  },
  {
   "cell_type": "markdown",
   "id": "e0038a05",
   "metadata": {},
   "source": [
    "<div style=\"border:solid purple 2px; padding: 20px\"> \n",
    "<b> <font color='purple' >   \n",
    "Отлично! Критических замечаний больше нет. Проект принят! 👏 Поздравляю и желаю удачи!\n",
    "</font></b>\n",
    "</div>"
   ]
  }
 ],
 "metadata": {
  "ExecuteTimeLog": [
   {
    "duration": 477,
    "start_time": "2024-04-10T15:21:54.801Z"
   },
   {
    "duration": 27,
    "start_time": "2024-04-10T15:21:55.280Z"
   },
   {
    "duration": 16,
    "start_time": "2024-04-10T15:21:55.309Z"
   },
   {
    "duration": 11,
    "start_time": "2024-04-10T15:21:55.327Z"
   },
   {
    "duration": 52,
    "start_time": "2024-04-10T15:21:55.339Z"
   },
   {
    "duration": 3,
    "start_time": "2024-04-10T15:21:55.392Z"
   },
   {
    "duration": 11,
    "start_time": "2024-04-10T15:21:55.396Z"
   },
   {
    "duration": 4,
    "start_time": "2024-04-10T15:21:55.408Z"
   },
   {
    "duration": 12,
    "start_time": "2024-04-10T15:21:55.413Z"
   },
   {
    "duration": 4,
    "start_time": "2024-04-10T15:21:55.427Z"
   },
   {
    "duration": 49,
    "start_time": "2024-04-10T15:21:55.460Z"
   },
   {
    "duration": 12,
    "start_time": "2024-04-10T15:21:55.511Z"
   },
   {
    "duration": 7,
    "start_time": "2024-04-10T15:21:55.525Z"
   },
   {
    "duration": 36,
    "start_time": "2024-04-10T15:21:55.533Z"
   },
   {
    "duration": 22,
    "start_time": "2024-04-10T15:21:55.572Z"
   },
   {
    "duration": 17,
    "start_time": "2024-04-10T15:21:55.596Z"
   },
   {
    "duration": 4,
    "start_time": "2024-04-10T15:21:55.615Z"
   },
   {
    "duration": 11,
    "start_time": "2024-04-10T15:21:55.621Z"
   },
   {
    "duration": 6,
    "start_time": "2024-04-10T15:21:55.659Z"
   },
   {
    "duration": 3,
    "start_time": "2024-04-10T15:21:55.667Z"
   },
   {
    "duration": 22,
    "start_time": "2024-04-10T15:21:55.672Z"
   },
   {
    "duration": 23,
    "start_time": "2024-04-10T15:21:55.696Z"
   },
   {
    "duration": 13,
    "start_time": "2024-04-10T15:21:55.720Z"
   },
   {
    "duration": 4,
    "start_time": "2024-04-10T15:21:55.734Z"
   },
   {
    "duration": 9,
    "start_time": "2024-04-10T15:21:55.740Z"
   },
   {
    "duration": 55,
    "start_time": "2024-04-11T09:44:43.727Z"
   },
   {
    "duration": 744,
    "start_time": "2024-04-11T09:44:51.317Z"
   },
   {
    "duration": 36,
    "start_time": "2024-04-11T09:44:52.063Z"
   },
   {
    "duration": 28,
    "start_time": "2024-04-11T09:44:52.101Z"
   },
   {
    "duration": 12,
    "start_time": "2024-04-11T09:44:52.131Z"
   },
   {
    "duration": 75,
    "start_time": "2024-04-11T09:44:52.149Z"
   },
   {
    "duration": 3,
    "start_time": "2024-04-11T09:44:52.226Z"
   },
   {
    "duration": 35,
    "start_time": "2024-04-11T09:44:52.231Z"
   },
   {
    "duration": 7,
    "start_time": "2024-04-11T09:44:52.268Z"
   },
   {
    "duration": 34,
    "start_time": "2024-04-11T09:44:52.277Z"
   },
   {
    "duration": 9,
    "start_time": "2024-04-11T09:44:52.315Z"
   },
   {
    "duration": 85,
    "start_time": "2024-04-11T09:44:52.326Z"
   },
   {
    "duration": 15,
    "start_time": "2024-04-11T09:44:52.414Z"
   },
   {
    "duration": 26,
    "start_time": "2024-04-11T09:44:52.431Z"
   },
   {
    "duration": 28,
    "start_time": "2024-04-11T09:44:52.458Z"
   },
   {
    "duration": 40,
    "start_time": "2024-04-11T09:44:52.489Z"
   },
   {
    "duration": 19,
    "start_time": "2024-04-11T09:44:52.530Z"
   },
   {
    "duration": 5,
    "start_time": "2024-04-11T09:44:52.551Z"
   },
   {
    "duration": 45,
    "start_time": "2024-04-11T09:44:52.558Z"
   },
   {
    "duration": 26,
    "start_time": "2024-04-11T09:44:52.606Z"
   },
   {
    "duration": 39,
    "start_time": "2024-04-11T09:44:52.634Z"
   },
   {
    "duration": 46,
    "start_time": "2024-04-11T09:44:52.674Z"
   },
   {
    "duration": 43,
    "start_time": "2024-04-11T09:44:52.721Z"
   },
   {
    "duration": 27,
    "start_time": "2024-04-11T09:44:52.765Z"
   },
   {
    "duration": 29,
    "start_time": "2024-04-11T09:44:52.794Z"
   },
   {
    "duration": 22,
    "start_time": "2024-04-11T09:44:52.825Z"
   },
   {
    "duration": 6,
    "start_time": "2024-04-11T09:50:08.482Z"
   },
   {
    "duration": 7,
    "start_time": "2024-04-11T09:50:19.097Z"
   },
   {
    "duration": 7,
    "start_time": "2024-04-11T09:50:34.032Z"
   },
   {
    "duration": 5,
    "start_time": "2024-04-11T09:59:24.422Z"
   },
   {
    "duration": 690,
    "start_time": "2024-04-12T08:30:00.792Z"
   },
   {
    "duration": 29,
    "start_time": "2024-04-12T08:30:01.484Z"
   },
   {
    "duration": 189,
    "start_time": "2024-04-12T08:30:01.515Z"
   },
   {
    "duration": 388,
    "start_time": "2024-04-12T08:30:01.708Z"
   },
   {
    "duration": 315,
    "start_time": "2024-04-12T08:30:02.097Z"
   },
   {
    "duration": 415,
    "start_time": "2024-04-12T08:30:02.414Z"
   },
   {
    "duration": 150,
    "start_time": "2024-04-12T08:30:02.831Z"
   },
   {
    "duration": 66,
    "start_time": "2024-04-12T08:30:02.983Z"
   },
   {
    "duration": 75,
    "start_time": "2024-04-12T08:30:03.050Z"
   },
   {
    "duration": 283,
    "start_time": "2024-04-12T08:30:03.128Z"
   },
   {
    "duration": 621,
    "start_time": "2024-04-12T08:30:03.413Z"
   },
   {
    "duration": 118,
    "start_time": "2024-04-12T08:30:04.035Z"
   },
   {
    "duration": 69,
    "start_time": "2024-04-12T08:30:04.155Z"
   },
   {
    "duration": 110,
    "start_time": "2024-04-12T08:30:04.225Z"
   },
   {
    "duration": 125,
    "start_time": "2024-04-12T08:30:04.337Z"
   },
   {
    "duration": 188,
    "start_time": "2024-04-12T08:30:04.464Z"
   },
   {
    "duration": 42,
    "start_time": "2024-04-12T08:30:04.653Z"
   },
   {
    "duration": 33,
    "start_time": "2024-04-12T08:30:04.697Z"
   },
   {
    "duration": 67,
    "start_time": "2024-04-12T08:30:04.731Z"
   },
   {
    "duration": 56,
    "start_time": "2024-04-12T08:30:04.804Z"
   },
   {
    "duration": 147,
    "start_time": "2024-04-12T08:30:04.861Z"
   },
   {
    "duration": 179,
    "start_time": "2024-04-12T08:30:05.010Z"
   },
   {
    "duration": 0,
    "start_time": "2024-04-12T08:30:05.190Z"
   },
   {
    "duration": 0,
    "start_time": "2024-04-12T08:30:05.191Z"
   },
   {
    "duration": 0,
    "start_time": "2024-04-12T08:30:05.193Z"
   },
   {
    "duration": 15,
    "start_time": "2024-04-12T08:30:28.507Z"
   },
   {
    "duration": 20,
    "start_time": "2024-04-12T08:32:00.692Z"
   },
   {
    "duration": 14,
    "start_time": "2024-04-12T08:33:35.682Z"
   },
   {
    "duration": 74,
    "start_time": "2024-04-12T08:34:29.200Z"
   },
   {
    "duration": 75,
    "start_time": "2024-04-12T08:34:39.059Z"
   },
   {
    "duration": 77,
    "start_time": "2024-04-12T08:34:44.371Z"
   },
   {
    "duration": 8,
    "start_time": "2024-04-12T08:35:27.500Z"
   },
   {
    "duration": 8,
    "start_time": "2024-04-12T08:36:53.971Z"
   },
   {
    "duration": 8,
    "start_time": "2024-04-12T08:36:58.651Z"
   },
   {
    "duration": 15,
    "start_time": "2024-04-12T08:37:04.220Z"
   },
   {
    "duration": 9,
    "start_time": "2024-04-12T08:37:42.824Z"
   },
   {
    "duration": 5,
    "start_time": "2024-04-12T08:39:28.067Z"
   },
   {
    "duration": 14,
    "start_time": "2024-04-12T08:40:19.652Z"
   },
   {
    "duration": 11,
    "start_time": "2024-04-12T08:41:41.807Z"
   },
   {
    "duration": 10,
    "start_time": "2024-04-12T08:41:47.517Z"
   },
   {
    "duration": 10,
    "start_time": "2024-04-12T08:48:13.215Z"
   },
   {
    "duration": 14,
    "start_time": "2024-04-12T08:54:13.054Z"
   },
   {
    "duration": 76,
    "start_time": "2024-04-12T08:55:08.353Z"
   },
   {
    "duration": 119,
    "start_time": "2024-04-12T08:55:23.831Z"
   },
   {
    "duration": 74,
    "start_time": "2024-04-12T08:55:28.334Z"
   },
   {
    "duration": 17,
    "start_time": "2024-04-12T08:55:42.794Z"
   },
   {
    "duration": 4,
    "start_time": "2024-04-12T08:56:19.472Z"
   },
   {
    "duration": 14,
    "start_time": "2024-04-12T08:56:22.183Z"
   },
   {
    "duration": 14,
    "start_time": "2024-04-12T08:56:51.489Z"
   },
   {
    "duration": 487,
    "start_time": "2024-04-12T08:57:06.677Z"
   },
   {
    "duration": 22,
    "start_time": "2024-04-12T08:57:07.167Z"
   },
   {
    "duration": 89,
    "start_time": "2024-04-12T08:57:07.190Z"
   },
   {
    "duration": 11,
    "start_time": "2024-04-12T08:57:07.281Z"
   },
   {
    "duration": 54,
    "start_time": "2024-04-12T08:57:07.294Z"
   },
   {
    "duration": 4,
    "start_time": "2024-04-12T08:57:07.350Z"
   },
   {
    "duration": 44,
    "start_time": "2024-04-12T08:57:07.355Z"
   },
   {
    "duration": 28,
    "start_time": "2024-04-12T08:57:07.400Z"
   },
   {
    "duration": 16,
    "start_time": "2024-04-12T08:57:07.429Z"
   },
   {
    "duration": 28,
    "start_time": "2024-04-12T08:57:07.448Z"
   },
   {
    "duration": 105,
    "start_time": "2024-04-12T08:57:07.478Z"
   },
   {
    "duration": 9,
    "start_time": "2024-04-12T08:57:07.585Z"
   },
   {
    "duration": 12,
    "start_time": "2024-04-12T08:57:07.596Z"
   },
   {
    "duration": 23,
    "start_time": "2024-04-12T08:57:07.610Z"
   },
   {
    "duration": 28,
    "start_time": "2024-04-12T08:57:07.634Z"
   },
   {
    "duration": 27,
    "start_time": "2024-04-12T08:57:07.663Z"
   },
   {
    "duration": 18,
    "start_time": "2024-04-12T08:57:07.692Z"
   },
   {
    "duration": 18,
    "start_time": "2024-04-12T08:57:07.712Z"
   },
   {
    "duration": 12,
    "start_time": "2024-04-12T08:57:07.732Z"
   },
   {
    "duration": 9,
    "start_time": "2024-04-12T08:57:07.745Z"
   },
   {
    "duration": 12,
    "start_time": "2024-04-12T08:57:07.755Z"
   },
   {
    "duration": 15,
    "start_time": "2024-04-12T08:57:07.768Z"
   },
   {
    "duration": 16,
    "start_time": "2024-04-12T08:57:07.785Z"
   },
   {
    "duration": 14,
    "start_time": "2024-04-12T08:57:07.802Z"
   },
   {
    "duration": 15,
    "start_time": "2024-04-12T08:57:07.818Z"
   },
   {
    "duration": 13,
    "start_time": "2024-04-12T08:58:16.633Z"
   },
   {
    "duration": 15,
    "start_time": "2024-04-12T08:58:23.474Z"
   },
   {
    "duration": 17,
    "start_time": "2024-04-12T08:59:44.754Z"
   },
   {
    "duration": 17,
    "start_time": "2024-04-12T09:00:04.809Z"
   },
   {
    "duration": 80,
    "start_time": "2024-04-12T09:00:24.306Z"
   },
   {
    "duration": 73,
    "start_time": "2024-04-12T09:01:32.822Z"
   },
   {
    "duration": 16,
    "start_time": "2024-04-12T09:02:42.349Z"
   },
   {
    "duration": 19,
    "start_time": "2024-04-12T09:04:24.538Z"
   },
   {
    "duration": 21,
    "start_time": "2024-04-12T09:29:47.680Z"
   },
   {
    "duration": 17,
    "start_time": "2024-04-12T09:33:18.072Z"
   },
   {
    "duration": 487,
    "start_time": "2024-04-12T09:35:14.778Z"
   },
   {
    "duration": 20,
    "start_time": "2024-04-12T09:35:15.267Z"
   },
   {
    "duration": 58,
    "start_time": "2024-04-12T09:35:15.289Z"
   },
   {
    "duration": 54,
    "start_time": "2024-04-12T09:35:15.349Z"
   },
   {
    "duration": 138,
    "start_time": "2024-04-12T09:35:15.405Z"
   },
   {
    "duration": 27,
    "start_time": "2024-04-12T09:35:15.544Z"
   },
   {
    "duration": 103,
    "start_time": "2024-04-12T09:35:15.572Z"
   },
   {
    "duration": 59,
    "start_time": "2024-04-12T09:35:15.677Z"
   },
   {
    "duration": 41,
    "start_time": "2024-04-12T09:35:15.737Z"
   },
   {
    "duration": 17,
    "start_time": "2024-04-12T09:35:15.781Z"
   },
   {
    "duration": 64,
    "start_time": "2024-04-12T09:35:15.800Z"
   },
   {
    "duration": 12,
    "start_time": "2024-04-12T09:35:15.865Z"
   },
   {
    "duration": 26,
    "start_time": "2024-04-12T09:35:15.878Z"
   },
   {
    "duration": 44,
    "start_time": "2024-04-12T09:35:15.905Z"
   },
   {
    "duration": 57,
    "start_time": "2024-04-12T09:35:15.950Z"
   },
   {
    "duration": 33,
    "start_time": "2024-04-12T09:35:16.009Z"
   },
   {
    "duration": 11,
    "start_time": "2024-04-12T09:35:16.043Z"
   },
   {
    "duration": 47,
    "start_time": "2024-04-12T09:35:16.056Z"
   },
   {
    "duration": 29,
    "start_time": "2024-04-12T09:35:16.104Z"
   },
   {
    "duration": 23,
    "start_time": "2024-04-12T09:35:16.135Z"
   },
   {
    "duration": 30,
    "start_time": "2024-04-12T09:35:16.159Z"
   },
   {
    "duration": 51,
    "start_time": "2024-04-12T09:35:16.190Z"
   },
   {
    "duration": 47,
    "start_time": "2024-04-12T09:35:16.242Z"
   },
   {
    "duration": 35,
    "start_time": "2024-04-12T09:35:16.291Z"
   },
   {
    "duration": 51,
    "start_time": "2024-04-12T09:35:16.327Z"
   },
   {
    "duration": 66,
    "start_time": "2024-04-12T09:39:46.315Z"
   },
   {
    "duration": 12,
    "start_time": "2024-04-12T09:42:42.785Z"
   },
   {
    "duration": 488,
    "start_time": "2024-04-12T09:43:02.184Z"
   },
   {
    "duration": 21,
    "start_time": "2024-04-12T09:43:02.674Z"
   },
   {
    "duration": 54,
    "start_time": "2024-04-12T09:43:02.697Z"
   },
   {
    "duration": 123,
    "start_time": "2024-04-12T09:43:02.753Z"
   },
   {
    "duration": 186,
    "start_time": "2024-04-12T09:43:02.879Z"
   },
   {
    "duration": 48,
    "start_time": "2024-04-12T09:43:03.066Z"
   },
   {
    "duration": 44,
    "start_time": "2024-04-12T09:43:03.115Z"
   },
   {
    "duration": 37,
    "start_time": "2024-04-12T09:43:03.160Z"
   },
   {
    "duration": 57,
    "start_time": "2024-04-12T09:43:03.199Z"
   },
   {
    "duration": 34,
    "start_time": "2024-04-12T09:43:03.257Z"
   },
   {
    "duration": 65,
    "start_time": "2024-04-12T09:43:03.293Z"
   },
   {
    "duration": 10,
    "start_time": "2024-04-12T09:43:03.359Z"
   },
   {
    "duration": 28,
    "start_time": "2024-04-12T09:43:03.371Z"
   },
   {
    "duration": 51,
    "start_time": "2024-04-12T09:43:03.402Z"
   },
   {
    "duration": 47,
    "start_time": "2024-04-12T09:43:03.455Z"
   },
   {
    "duration": 41,
    "start_time": "2024-04-12T09:43:03.503Z"
   },
   {
    "duration": 8,
    "start_time": "2024-04-12T09:43:03.545Z"
   },
   {
    "duration": 29,
    "start_time": "2024-04-12T09:43:03.554Z"
   },
   {
    "duration": 45,
    "start_time": "2024-04-12T09:43:03.584Z"
   },
   {
    "duration": 46,
    "start_time": "2024-04-12T09:43:03.631Z"
   },
   {
    "duration": 46,
    "start_time": "2024-04-12T09:43:03.678Z"
   },
   {
    "duration": 32,
    "start_time": "2024-04-12T09:43:03.726Z"
   },
   {
    "duration": 38,
    "start_time": "2024-04-12T09:43:03.759Z"
   },
   {
    "duration": 3,
    "start_time": "2024-04-12T09:43:03.798Z"
   },
   {
    "duration": 28,
    "start_time": "2024-04-12T09:43:03.802Z"
   },
   {
    "duration": 16,
    "start_time": "2024-04-12T10:20:45.364Z"
   },
   {
    "duration": 3,
    "start_time": "2024-04-12T10:22:49.410Z"
   },
   {
    "duration": 5,
    "start_time": "2024-04-12T10:24:40.412Z"
   },
   {
    "duration": 5,
    "start_time": "2024-04-12T10:24:48.843Z"
   },
   {
    "duration": 77,
    "start_time": "2024-04-12T10:29:33.480Z"
   },
   {
    "duration": 16,
    "start_time": "2024-04-12T10:29:54.636Z"
   },
   {
    "duration": 15,
    "start_time": "2024-04-12T10:44:40.782Z"
   },
   {
    "duration": 28,
    "start_time": "2024-04-12T10:45:12.755Z"
   },
   {
    "duration": 477,
    "start_time": "2024-04-12T10:45:25.425Z"
   },
   {
    "duration": 22,
    "start_time": "2024-04-12T10:45:25.904Z"
   },
   {
    "duration": 141,
    "start_time": "2024-04-12T10:45:25.927Z"
   },
   {
    "duration": 131,
    "start_time": "2024-04-12T10:45:26.070Z"
   },
   {
    "duration": 97,
    "start_time": "2024-04-12T10:45:26.202Z"
   },
   {
    "duration": 26,
    "start_time": "2024-04-12T10:45:26.301Z"
   },
   {
    "duration": 63,
    "start_time": "2024-04-12T10:45:26.328Z"
   },
   {
    "duration": 79,
    "start_time": "2024-04-12T10:45:26.393Z"
   },
   {
    "duration": 86,
    "start_time": "2024-04-12T10:45:26.473Z"
   },
   {
    "duration": 91,
    "start_time": "2024-04-12T10:45:26.563Z"
   },
   {
    "duration": 87,
    "start_time": "2024-04-12T10:45:26.656Z"
   },
   {
    "duration": 51,
    "start_time": "2024-04-12T10:45:26.744Z"
   },
   {
    "duration": 117,
    "start_time": "2024-04-12T10:45:26.796Z"
   },
   {
    "duration": 94,
    "start_time": "2024-04-12T10:45:26.914Z"
   },
   {
    "duration": 85,
    "start_time": "2024-04-12T10:45:27.010Z"
   },
   {
    "duration": 53,
    "start_time": "2024-04-12T10:45:27.097Z"
   },
   {
    "duration": 64,
    "start_time": "2024-04-12T10:45:27.152Z"
   },
   {
    "duration": 63,
    "start_time": "2024-04-12T10:45:27.217Z"
   },
   {
    "duration": 51,
    "start_time": "2024-04-12T10:45:27.282Z"
   },
   {
    "duration": 52,
    "start_time": "2024-04-12T10:45:27.334Z"
   },
   {
    "duration": 65,
    "start_time": "2024-04-12T10:45:27.388Z"
   },
   {
    "duration": 79,
    "start_time": "2024-04-12T10:45:27.454Z"
   },
   {
    "duration": 73,
    "start_time": "2024-04-12T10:45:27.535Z"
   },
   {
    "duration": 68,
    "start_time": "2024-04-12T10:45:27.610Z"
   },
   {
    "duration": 45,
    "start_time": "2024-04-12T10:45:27.680Z"
   },
   {
    "duration": 19,
    "start_time": "2024-04-12T11:00:51.596Z"
   },
   {
    "duration": 86,
    "start_time": "2024-04-12T11:42:39.207Z"
   },
   {
    "duration": 456,
    "start_time": "2024-04-12T11:43:39.021Z"
   },
   {
    "duration": 22,
    "start_time": "2024-04-12T11:43:39.479Z"
   },
   {
    "duration": 24,
    "start_time": "2024-04-12T11:43:39.502Z"
   },
   {
    "duration": 24,
    "start_time": "2024-04-12T11:43:39.528Z"
   },
   {
    "duration": 50,
    "start_time": "2024-04-12T11:43:39.553Z"
   },
   {
    "duration": 3,
    "start_time": "2024-04-12T11:43:39.604Z"
   },
   {
    "duration": 30,
    "start_time": "2024-04-12T11:43:39.608Z"
   },
   {
    "duration": 7,
    "start_time": "2024-04-12T11:43:39.639Z"
   },
   {
    "duration": 19,
    "start_time": "2024-04-12T11:43:39.648Z"
   },
   {
    "duration": 9,
    "start_time": "2024-04-12T11:43:39.670Z"
   },
   {
    "duration": 41,
    "start_time": "2024-04-12T11:43:39.680Z"
   },
   {
    "duration": 9,
    "start_time": "2024-04-12T11:43:39.722Z"
   },
   {
    "duration": 8,
    "start_time": "2024-04-12T11:43:39.733Z"
   },
   {
    "duration": 28,
    "start_time": "2024-04-12T11:43:39.742Z"
   },
   {
    "duration": 27,
    "start_time": "2024-04-12T11:43:39.772Z"
   },
   {
    "duration": 15,
    "start_time": "2024-04-12T11:43:39.801Z"
   },
   {
    "duration": 3,
    "start_time": "2024-04-12T11:43:39.817Z"
   },
   {
    "duration": 14,
    "start_time": "2024-04-12T11:43:39.821Z"
   },
   {
    "duration": 6,
    "start_time": "2024-04-12T11:43:39.836Z"
   },
   {
    "duration": 6,
    "start_time": "2024-04-12T11:43:39.843Z"
   },
   {
    "duration": 15,
    "start_time": "2024-04-12T11:43:39.850Z"
   },
   {
    "duration": 29,
    "start_time": "2024-04-12T11:43:39.866Z"
   },
   {
    "duration": 40,
    "start_time": "2024-04-12T11:43:39.897Z"
   },
   {
    "duration": 16,
    "start_time": "2024-04-12T11:43:39.939Z"
   },
   {
    "duration": 26,
    "start_time": "2024-04-12T11:43:39.956Z"
   },
   {
    "duration": 17,
    "start_time": "2024-04-12T12:08:12.949Z"
   },
   {
    "duration": 77,
    "start_time": "2024-04-12T12:09:08.771Z"
   },
   {
    "duration": 20,
    "start_time": "2024-04-12T12:10:04.888Z"
   },
   {
    "duration": 21,
    "start_time": "2024-04-12T12:10:55.495Z"
   },
   {
    "duration": 26,
    "start_time": "2024-04-12T12:11:06.838Z"
   },
   {
    "duration": 18,
    "start_time": "2024-04-12T12:12:20.868Z"
   },
   {
    "duration": 29,
    "start_time": "2024-04-12T12:25:47.976Z"
   },
   {
    "duration": 14,
    "start_time": "2024-04-12T12:25:55.967Z"
   },
   {
    "duration": 17,
    "start_time": "2024-04-12T12:26:05.186Z"
   },
   {
    "duration": 17,
    "start_time": "2024-04-12T12:29:55.194Z"
   },
   {
    "duration": 15,
    "start_time": "2024-04-12T12:33:01.887Z"
   },
   {
    "duration": 15,
    "start_time": "2024-04-12T12:33:29.341Z"
   },
   {
    "duration": 16,
    "start_time": "2024-04-12T12:33:54.137Z"
   },
   {
    "duration": 25,
    "start_time": "2024-04-12T12:34:51.882Z"
   },
   {
    "duration": 17,
    "start_time": "2024-04-12T12:35:07.578Z"
   },
   {
    "duration": 26,
    "start_time": "2024-04-12T12:35:16.568Z"
   },
   {
    "duration": 17,
    "start_time": "2024-04-12T12:40:39.668Z"
   },
   {
    "duration": 19,
    "start_time": "2024-04-12T12:40:58.919Z"
   },
   {
    "duration": 463,
    "start_time": "2024-04-12T13:15:49.520Z"
   },
   {
    "duration": 25,
    "start_time": "2024-04-12T13:15:49.984Z"
   },
   {
    "duration": 66,
    "start_time": "2024-04-12T13:15:50.010Z"
   },
   {
    "duration": 68,
    "start_time": "2024-04-12T13:15:50.078Z"
   },
   {
    "duration": 72,
    "start_time": "2024-04-12T13:15:50.148Z"
   },
   {
    "duration": 36,
    "start_time": "2024-04-12T13:15:50.221Z"
   },
   {
    "duration": 34,
    "start_time": "2024-04-12T13:15:50.258Z"
   },
   {
    "duration": 31,
    "start_time": "2024-04-12T13:15:50.295Z"
   },
   {
    "duration": 57,
    "start_time": "2024-04-12T13:15:50.327Z"
   },
   {
    "duration": 31,
    "start_time": "2024-04-12T13:15:50.386Z"
   },
   {
    "duration": 127,
    "start_time": "2024-04-12T13:15:50.419Z"
   },
   {
    "duration": 16,
    "start_time": "2024-04-12T13:15:50.548Z"
   },
   {
    "duration": 23,
    "start_time": "2024-04-12T13:15:50.566Z"
   },
   {
    "duration": 62,
    "start_time": "2024-04-12T13:15:50.591Z"
   },
   {
    "duration": 60,
    "start_time": "2024-04-12T13:15:50.655Z"
   },
   {
    "duration": 19,
    "start_time": "2024-04-12T13:15:50.716Z"
   },
   {
    "duration": 37,
    "start_time": "2024-04-12T13:15:50.736Z"
   },
   {
    "duration": 51,
    "start_time": "2024-04-12T13:15:50.774Z"
   },
   {
    "duration": 34,
    "start_time": "2024-04-12T13:15:50.827Z"
   },
   {
    "duration": 27,
    "start_time": "2024-04-12T13:15:50.862Z"
   },
   {
    "duration": 51,
    "start_time": "2024-04-12T13:15:50.890Z"
   },
   {
    "duration": 195,
    "start_time": "2024-04-12T13:15:50.943Z"
   },
   {
    "duration": 33,
    "start_time": "2024-04-12T13:15:51.139Z"
   },
   {
    "duration": 28,
    "start_time": "2024-04-12T13:15:51.173Z"
   },
   {
    "duration": 27,
    "start_time": "2024-04-12T13:15:51.203Z"
   },
   {
    "duration": 447,
    "start_time": "2024-04-12T13:33:33.803Z"
   },
   {
    "duration": 22,
    "start_time": "2024-04-12T13:33:34.252Z"
   },
   {
    "duration": 15,
    "start_time": "2024-04-12T13:33:34.275Z"
   },
   {
    "duration": 13,
    "start_time": "2024-04-12T13:33:34.292Z"
   },
   {
    "duration": 52,
    "start_time": "2024-04-12T13:33:34.307Z"
   },
   {
    "duration": 4,
    "start_time": "2024-04-12T13:33:34.361Z"
   },
   {
    "duration": 29,
    "start_time": "2024-04-12T13:33:34.367Z"
   },
   {
    "duration": 15,
    "start_time": "2024-04-12T13:33:34.397Z"
   },
   {
    "duration": 26,
    "start_time": "2024-04-12T13:33:34.413Z"
   },
   {
    "duration": 13,
    "start_time": "2024-04-12T13:33:34.441Z"
   },
   {
    "duration": 65,
    "start_time": "2024-04-12T13:33:34.455Z"
   },
   {
    "duration": 9,
    "start_time": "2024-04-12T13:33:34.522Z"
   },
   {
    "duration": 18,
    "start_time": "2024-04-12T13:33:34.533Z"
   },
   {
    "duration": 25,
    "start_time": "2024-04-12T13:33:34.553Z"
   },
   {
    "duration": 53,
    "start_time": "2024-04-12T13:33:34.580Z"
   },
   {
    "duration": 19,
    "start_time": "2024-04-12T13:33:34.635Z"
   },
   {
    "duration": 4,
    "start_time": "2024-04-12T13:33:34.655Z"
   },
   {
    "duration": 17,
    "start_time": "2024-04-12T13:33:34.661Z"
   },
   {
    "duration": 37,
    "start_time": "2024-04-12T13:33:34.679Z"
   },
   {
    "duration": 5,
    "start_time": "2024-04-12T13:33:34.718Z"
   },
   {
    "duration": 18,
    "start_time": "2024-04-12T13:33:34.724Z"
   },
   {
    "duration": 22,
    "start_time": "2024-04-12T13:33:34.744Z"
   },
   {
    "duration": 33,
    "start_time": "2024-04-12T13:33:34.768Z"
   },
   {
    "duration": 18,
    "start_time": "2024-04-12T13:33:34.803Z"
   },
   {
    "duration": 42,
    "start_time": "2024-04-12T13:33:34.823Z"
   },
   {
    "duration": 49,
    "start_time": "2024-04-12T13:39:41.804Z"
   },
   {
    "duration": 49,
    "start_time": "2024-04-12T14:48:30.981Z"
   },
   {
    "duration": 80,
    "start_time": "2024-04-12T15:08:37.558Z"
   },
   {
    "duration": 9,
    "start_time": "2024-04-12T15:08:48.411Z"
   },
   {
    "duration": 478,
    "start_time": "2024-04-12T15:08:54.498Z"
   },
   {
    "duration": 24,
    "start_time": "2024-04-12T15:08:54.978Z"
   },
   {
    "duration": 25,
    "start_time": "2024-04-12T15:08:55.003Z"
   },
   {
    "duration": 40,
    "start_time": "2024-04-12T15:08:55.031Z"
   },
   {
    "duration": 75,
    "start_time": "2024-04-12T15:08:55.073Z"
   },
   {
    "duration": 31,
    "start_time": "2024-04-12T15:08:55.150Z"
   },
   {
    "duration": 33,
    "start_time": "2024-04-12T15:08:55.183Z"
   },
   {
    "duration": 9,
    "start_time": "2024-04-12T15:08:55.218Z"
   },
   {
    "duration": 11,
    "start_time": "2024-04-12T15:08:55.229Z"
   },
   {
    "duration": 6,
    "start_time": "2024-04-12T15:08:55.244Z"
   },
   {
    "duration": 82,
    "start_time": "2024-04-12T15:08:55.252Z"
   },
   {
    "duration": 11,
    "start_time": "2024-04-12T15:08:55.336Z"
   },
   {
    "duration": 29,
    "start_time": "2024-04-12T15:08:55.349Z"
   },
   {
    "duration": 20,
    "start_time": "2024-04-12T15:08:55.379Z"
   },
   {
    "duration": 41,
    "start_time": "2024-04-12T15:08:55.401Z"
   },
   {
    "duration": 24,
    "start_time": "2024-04-12T15:08:55.444Z"
   },
   {
    "duration": 5,
    "start_time": "2024-04-12T15:08:55.470Z"
   },
   {
    "duration": 30,
    "start_time": "2024-04-12T15:08:55.477Z"
   },
   {
    "duration": 24,
    "start_time": "2024-04-12T15:08:55.509Z"
   },
   {
    "duration": 7,
    "start_time": "2024-04-12T15:08:55.535Z"
   },
   {
    "duration": 12,
    "start_time": "2024-04-12T15:08:55.543Z"
   },
   {
    "duration": 98,
    "start_time": "2024-04-12T15:08:55.556Z"
   },
   {
    "duration": 0,
    "start_time": "2024-04-12T15:08:55.657Z"
   },
   {
    "duration": 0,
    "start_time": "2024-04-12T15:08:55.658Z"
   },
   {
    "duration": 0,
    "start_time": "2024-04-12T15:08:55.660Z"
   },
   {
    "duration": 18,
    "start_time": "2024-04-12T15:10:40.036Z"
   },
   {
    "duration": 10,
    "start_time": "2024-04-12T15:14:02.672Z"
   },
   {
    "duration": 78,
    "start_time": "2024-04-12T15:14:36.687Z"
   },
   {
    "duration": 88,
    "start_time": "2024-04-12T15:15:02.578Z"
   },
   {
    "duration": 25,
    "start_time": "2024-04-12T15:16:14.229Z"
   },
   {
    "duration": 82,
    "start_time": "2024-04-12T15:17:02.883Z"
   },
   {
    "duration": 18,
    "start_time": "2024-04-12T15:26:18.907Z"
   },
   {
    "duration": 532,
    "start_time": "2024-04-12T15:27:08.500Z"
   },
   {
    "duration": 29,
    "start_time": "2024-04-12T15:27:09.034Z"
   },
   {
    "duration": 24,
    "start_time": "2024-04-12T15:27:09.064Z"
   },
   {
    "duration": 23,
    "start_time": "2024-04-12T15:27:09.090Z"
   },
   {
    "duration": 68,
    "start_time": "2024-04-12T15:27:09.115Z"
   },
   {
    "duration": 3,
    "start_time": "2024-04-12T15:27:09.185Z"
   },
   {
    "duration": 35,
    "start_time": "2024-04-12T15:27:09.190Z"
   },
   {
    "duration": 15,
    "start_time": "2024-04-12T15:27:09.227Z"
   },
   {
    "duration": 26,
    "start_time": "2024-04-12T15:27:09.244Z"
   },
   {
    "duration": 14,
    "start_time": "2024-04-12T15:27:09.272Z"
   },
   {
    "duration": 55,
    "start_time": "2024-04-12T15:27:09.287Z"
   },
   {
    "duration": 11,
    "start_time": "2024-04-12T15:27:09.344Z"
   },
   {
    "duration": 29,
    "start_time": "2024-04-12T15:27:09.357Z"
   },
   {
    "duration": 33,
    "start_time": "2024-04-12T15:27:09.387Z"
   },
   {
    "duration": 49,
    "start_time": "2024-04-12T15:27:09.422Z"
   },
   {
    "duration": 54,
    "start_time": "2024-04-12T15:27:09.473Z"
   },
   {
    "duration": 24,
    "start_time": "2024-04-12T15:27:09.529Z"
   },
   {
    "duration": 39,
    "start_time": "2024-04-12T15:27:09.554Z"
   },
   {
    "duration": 15,
    "start_time": "2024-04-12T15:27:09.595Z"
   },
   {
    "duration": 40,
    "start_time": "2024-04-12T15:27:09.611Z"
   },
   {
    "duration": 35,
    "start_time": "2024-04-12T15:27:09.653Z"
   },
   {
    "duration": 91,
    "start_time": "2024-04-12T15:27:09.689Z"
   },
   {
    "duration": 0,
    "start_time": "2024-04-12T15:27:09.781Z"
   },
   {
    "duration": 1,
    "start_time": "2024-04-12T15:27:09.782Z"
   },
   {
    "duration": 0,
    "start_time": "2024-04-12T15:27:09.784Z"
   },
   {
    "duration": 17,
    "start_time": "2024-04-12T15:28:38.689Z"
   },
   {
    "duration": 13,
    "start_time": "2024-04-12T15:30:46.342Z"
   },
   {
    "duration": 5,
    "start_time": "2024-04-12T15:34:40.914Z"
   },
   {
    "duration": 21,
    "start_time": "2024-04-12T15:34:48.224Z"
   },
   {
    "duration": 26,
    "start_time": "2024-04-12T15:35:06.320Z"
   },
   {
    "duration": 32,
    "start_time": "2024-04-12T15:37:17.054Z"
   },
   {
    "duration": 23,
    "start_time": "2024-04-12T15:37:44.726Z"
   },
   {
    "duration": 75,
    "start_time": "2024-04-12T15:39:30.057Z"
   },
   {
    "duration": 74,
    "start_time": "2024-04-12T15:39:47.932Z"
   },
   {
    "duration": 85,
    "start_time": "2024-04-12T15:41:18.635Z"
   },
   {
    "duration": 27,
    "start_time": "2024-04-12T15:41:36.844Z"
   },
   {
    "duration": 26,
    "start_time": "2024-04-12T15:42:03.564Z"
   },
   {
    "duration": 46,
    "start_time": "2024-04-12T15:43:40.281Z"
   },
   {
    "duration": 30,
    "start_time": "2024-04-12T15:43:56.339Z"
   },
   {
    "duration": 26,
    "start_time": "2024-04-12T15:47:58.261Z"
   },
   {
    "duration": 11,
    "start_time": "2024-04-12T15:52:50.912Z"
   },
   {
    "duration": 364,
    "start_time": "2024-04-12T15:53:15.933Z"
   },
   {
    "duration": 358,
    "start_time": "2024-04-12T15:54:59.356Z"
   },
   {
    "duration": 345,
    "start_time": "2024-04-12T15:56:33.973Z"
   },
   {
    "duration": 361,
    "start_time": "2024-04-12T15:56:47.293Z"
   },
   {
    "duration": 404,
    "start_time": "2024-04-12T15:58:42.394Z"
   },
   {
    "duration": 392,
    "start_time": "2024-04-12T16:01:23.487Z"
   },
   {
    "duration": 341,
    "start_time": "2024-04-12T16:01:56.424Z"
   },
   {
    "duration": 1827,
    "start_time": "2024-04-12T16:06:18.261Z"
   },
   {
    "duration": 1880,
    "start_time": "2024-04-12T16:06:53.805Z"
   },
   {
    "duration": 1837,
    "start_time": "2024-04-12T16:07:56.057Z"
   },
   {
    "duration": 71,
    "start_time": "2024-04-12T16:21:08.895Z"
   },
   {
    "duration": 19,
    "start_time": "2024-04-12T16:21:20.287Z"
   },
   {
    "duration": 358,
    "start_time": "2024-04-12T16:27:47.887Z"
   },
   {
    "duration": 372,
    "start_time": "2024-04-12T16:28:46.775Z"
   },
   {
    "duration": 11,
    "start_time": "2024-04-12T16:34:54.204Z"
   },
   {
    "duration": 9,
    "start_time": "2024-04-12T16:35:30.088Z"
   },
   {
    "duration": 1760,
    "start_time": "2024-04-12T16:35:33.029Z"
   },
   {
    "duration": 8,
    "start_time": "2024-04-12T16:37:41.507Z"
   },
   {
    "duration": 5,
    "start_time": "2024-04-12T16:37:48.405Z"
   },
   {
    "duration": 4,
    "start_time": "2024-04-12T16:46:54.954Z"
   },
   {
    "duration": 7,
    "start_time": "2024-04-12T16:47:04.189Z"
   },
   {
    "duration": 3,
    "start_time": "2024-04-12T16:49:24.689Z"
   },
   {
    "duration": 7,
    "start_time": "2024-04-12T16:49:39.187Z"
   },
   {
    "duration": 3,
    "start_time": "2024-04-12T16:49:46.404Z"
   },
   {
    "duration": 30,
    "start_time": "2024-04-12T16:51:02.477Z"
   },
   {
    "duration": 30,
    "start_time": "2024-04-12T16:54:10.580Z"
   },
   {
    "duration": 93,
    "start_time": "2024-04-12T16:58:29.907Z"
   },
   {
    "duration": 30,
    "start_time": "2024-04-12T16:58:39.483Z"
   },
   {
    "duration": 28,
    "start_time": "2024-04-12T16:58:52.420Z"
   },
   {
    "duration": 75,
    "start_time": "2024-04-12T17:00:08.244Z"
   },
   {
    "duration": 3,
    "start_time": "2024-04-12T17:01:52.274Z"
   },
   {
    "duration": 32,
    "start_time": "2024-04-12T17:02:44.411Z"
   },
   {
    "duration": 33,
    "start_time": "2024-04-12T17:04:27.162Z"
   },
   {
    "duration": 17,
    "start_time": "2024-04-12T17:05:10.173Z"
   },
   {
    "duration": 33,
    "start_time": "2024-04-12T17:05:16.176Z"
   },
   {
    "duration": 32,
    "start_time": "2024-04-12T17:07:11.468Z"
   },
   {
    "duration": 7,
    "start_time": "2024-04-12T17:11:46.915Z"
   },
   {
    "duration": 29,
    "start_time": "2024-04-12T17:12:06.690Z"
   },
   {
    "duration": 27,
    "start_time": "2024-04-12T17:12:28.129Z"
   },
   {
    "duration": 30,
    "start_time": "2024-04-12T17:12:50.720Z"
   },
   {
    "duration": 31,
    "start_time": "2024-04-12T17:14:04.645Z"
   },
   {
    "duration": 491,
    "start_time": "2024-04-12T17:16:41.594Z"
   },
   {
    "duration": 21,
    "start_time": "2024-04-12T17:16:42.087Z"
   },
   {
    "duration": 27,
    "start_time": "2024-04-12T17:16:42.109Z"
   },
   {
    "duration": 9,
    "start_time": "2024-04-12T17:16:42.138Z"
   },
   {
    "duration": 34,
    "start_time": "2024-04-12T17:16:42.149Z"
   },
   {
    "duration": 9,
    "start_time": "2024-04-12T17:16:42.185Z"
   },
   {
    "duration": 12,
    "start_time": "2024-04-12T17:16:42.195Z"
   },
   {
    "duration": 14,
    "start_time": "2024-04-12T17:16:42.209Z"
   },
   {
    "duration": 12,
    "start_time": "2024-04-12T17:16:42.224Z"
   },
   {
    "duration": 4,
    "start_time": "2024-04-12T17:16:42.238Z"
   },
   {
    "duration": 37,
    "start_time": "2024-04-12T17:16:42.243Z"
   },
   {
    "duration": 13,
    "start_time": "2024-04-12T17:16:42.282Z"
   },
   {
    "duration": 7,
    "start_time": "2024-04-12T17:16:42.297Z"
   },
   {
    "duration": 17,
    "start_time": "2024-04-12T17:16:42.305Z"
   },
   {
    "duration": 21,
    "start_time": "2024-04-12T17:16:42.324Z"
   },
   {
    "duration": 16,
    "start_time": "2024-04-12T17:16:42.346Z"
   },
   {
    "duration": 3,
    "start_time": "2024-04-12T17:16:42.363Z"
   },
   {
    "duration": 26,
    "start_time": "2024-04-12T17:16:42.368Z"
   },
   {
    "duration": 16,
    "start_time": "2024-04-12T17:16:42.395Z"
   },
   {
    "duration": 10,
    "start_time": "2024-04-12T17:16:42.412Z"
   },
   {
    "duration": 29,
    "start_time": "2024-04-12T17:16:42.423Z"
   },
   {
    "duration": 23,
    "start_time": "2024-04-12T17:16:42.453Z"
   },
   {
    "duration": 42,
    "start_time": "2024-04-12T17:16:42.477Z"
   },
   {
    "duration": 11,
    "start_time": "2024-04-12T17:16:42.521Z"
   },
   {
    "duration": 69,
    "start_time": "2024-04-12T17:16:42.534Z"
   },
   {
    "duration": 2,
    "start_time": "2024-04-12T17:16:42.604Z"
   },
   {
    "duration": 47,
    "start_time": "2024-04-12T17:16:42.607Z"
   },
   {
    "duration": 2,
    "start_time": "2024-04-12T17:16:42.657Z"
   },
   {
    "duration": 37,
    "start_time": "2024-04-12T17:16:42.661Z"
   },
   {
    "duration": 437,
    "start_time": "2024-04-12T17:22:14.936Z"
   },
   {
    "duration": 20,
    "start_time": "2024-04-12T17:22:15.375Z"
   },
   {
    "duration": 65,
    "start_time": "2024-04-12T17:22:15.396Z"
   },
   {
    "duration": 13,
    "start_time": "2024-04-12T17:22:15.464Z"
   },
   {
    "duration": 52,
    "start_time": "2024-04-12T17:22:15.479Z"
   },
   {
    "duration": 3,
    "start_time": "2024-04-12T17:22:15.533Z"
   },
   {
    "duration": 28,
    "start_time": "2024-04-12T17:22:15.537Z"
   },
   {
    "duration": 67,
    "start_time": "2024-04-12T17:22:15.566Z"
   },
   {
    "duration": 22,
    "start_time": "2024-04-12T17:22:15.634Z"
   },
   {
    "duration": 21,
    "start_time": "2024-04-12T17:22:15.658Z"
   },
   {
    "duration": 46,
    "start_time": "2024-04-12T17:22:15.681Z"
   },
   {
    "duration": 11,
    "start_time": "2024-04-12T17:22:15.729Z"
   },
   {
    "duration": 22,
    "start_time": "2024-04-12T17:22:15.741Z"
   },
   {
    "duration": 29,
    "start_time": "2024-04-12T17:22:15.764Z"
   },
   {
    "duration": 33,
    "start_time": "2024-04-12T17:22:15.795Z"
   },
   {
    "duration": 16,
    "start_time": "2024-04-12T17:22:15.829Z"
   },
   {
    "duration": 3,
    "start_time": "2024-04-12T17:22:15.846Z"
   },
   {
    "duration": 24,
    "start_time": "2024-04-12T17:22:15.851Z"
   },
   {
    "duration": 29,
    "start_time": "2024-04-12T17:22:15.876Z"
   },
   {
    "duration": 11,
    "start_time": "2024-04-12T17:22:15.906Z"
   },
   {
    "duration": 26,
    "start_time": "2024-04-12T17:22:15.919Z"
   },
   {
    "duration": 12,
    "start_time": "2024-04-12T17:22:15.946Z"
   },
   {
    "duration": 38,
    "start_time": "2024-04-12T17:22:15.960Z"
   },
   {
    "duration": 12,
    "start_time": "2024-04-12T17:22:15.999Z"
   },
   {
    "duration": 53,
    "start_time": "2024-04-12T17:22:16.013Z"
   },
   {
    "duration": 2,
    "start_time": "2024-04-12T17:22:16.068Z"
   },
   {
    "duration": 36,
    "start_time": "2024-04-12T17:22:16.071Z"
   },
   {
    "duration": 2,
    "start_time": "2024-04-12T17:22:16.110Z"
   },
   {
    "duration": 32,
    "start_time": "2024-04-12T17:22:16.114Z"
   },
   {
    "duration": 459,
    "start_time": "2024-04-12T17:23:18.507Z"
   },
   {
    "duration": 30,
    "start_time": "2024-04-12T17:23:18.968Z"
   },
   {
    "duration": 18,
    "start_time": "2024-04-12T17:23:18.999Z"
   },
   {
    "duration": 12,
    "start_time": "2024-04-12T17:23:19.019Z"
   },
   {
    "duration": 36,
    "start_time": "2024-04-12T17:23:19.033Z"
   },
   {
    "duration": 4,
    "start_time": "2024-04-12T17:23:19.071Z"
   },
   {
    "duration": 30,
    "start_time": "2024-04-12T17:23:19.076Z"
   },
   {
    "duration": 28,
    "start_time": "2024-04-12T17:23:19.108Z"
   },
   {
    "duration": 22,
    "start_time": "2024-04-12T17:23:19.138Z"
   },
   {
    "duration": 14,
    "start_time": "2024-04-12T17:23:19.163Z"
   },
   {
    "duration": 45,
    "start_time": "2024-04-12T17:23:19.178Z"
   },
   {
    "duration": 9,
    "start_time": "2024-04-12T17:23:19.227Z"
   },
   {
    "duration": 15,
    "start_time": "2024-04-12T17:23:19.237Z"
   },
   {
    "duration": 27,
    "start_time": "2024-04-12T17:23:19.253Z"
   },
   {
    "duration": 24,
    "start_time": "2024-04-12T17:23:19.282Z"
   },
   {
    "duration": 16,
    "start_time": "2024-04-12T17:23:19.308Z"
   },
   {
    "duration": 3,
    "start_time": "2024-04-12T17:23:19.326Z"
   },
   {
    "duration": 28,
    "start_time": "2024-04-12T17:23:19.330Z"
   },
   {
    "duration": 18,
    "start_time": "2024-04-12T17:23:19.359Z"
   },
   {
    "duration": 4,
    "start_time": "2024-04-12T17:23:19.378Z"
   },
   {
    "duration": 22,
    "start_time": "2024-04-12T17:23:19.383Z"
   },
   {
    "duration": 12,
    "start_time": "2024-04-12T17:23:19.406Z"
   },
   {
    "duration": 47,
    "start_time": "2024-04-12T17:23:19.419Z"
   },
   {
    "duration": 13,
    "start_time": "2024-04-12T17:23:19.468Z"
   },
   {
    "duration": 51,
    "start_time": "2024-04-12T17:23:19.482Z"
   },
   {
    "duration": 2,
    "start_time": "2024-04-12T17:23:19.535Z"
   },
   {
    "duration": 62,
    "start_time": "2024-04-12T17:23:19.538Z"
   },
   {
    "duration": 2,
    "start_time": "2024-04-12T17:23:19.603Z"
   },
   {
    "duration": 42,
    "start_time": "2024-04-12T17:23:19.606Z"
   },
   {
    "duration": 30,
    "start_time": "2024-04-12T18:13:47.250Z"
   },
   {
    "duration": 44,
    "start_time": "2024-04-12T18:14:35.826Z"
   },
   {
    "duration": 31,
    "start_time": "2024-04-12T18:14:51.595Z"
   },
   {
    "duration": 27,
    "start_time": "2024-04-12T18:15:23.346Z"
   },
   {
    "duration": 22,
    "start_time": "2024-04-12T18:15:47.240Z"
   },
   {
    "duration": 438,
    "start_time": "2024-04-12T18:19:01.140Z"
   },
   {
    "duration": 22,
    "start_time": "2024-04-12T18:19:01.579Z"
   },
   {
    "duration": 81,
    "start_time": "2024-04-12T18:19:01.603Z"
   },
   {
    "duration": 76,
    "start_time": "2024-04-12T18:19:01.686Z"
   },
   {
    "duration": 85,
    "start_time": "2024-04-12T18:19:01.763Z"
   },
   {
    "duration": 3,
    "start_time": "2024-04-12T18:19:01.849Z"
   },
   {
    "duration": 39,
    "start_time": "2024-04-12T18:19:01.853Z"
   },
   {
    "duration": 37,
    "start_time": "2024-04-12T18:19:01.893Z"
   },
   {
    "duration": 26,
    "start_time": "2024-04-12T18:19:01.932Z"
   },
   {
    "duration": 137,
    "start_time": "2024-04-12T18:19:01.961Z"
   },
   {
    "duration": 145,
    "start_time": "2024-04-12T18:19:02.099Z"
   },
   {
    "duration": 121,
    "start_time": "2024-04-12T18:19:02.246Z"
   },
   {
    "duration": 56,
    "start_time": "2024-04-12T18:19:02.368Z"
   },
   {
    "duration": 41,
    "start_time": "2024-04-12T18:19:02.425Z"
   },
   {
    "duration": 40,
    "start_time": "2024-04-12T18:19:02.468Z"
   },
   {
    "duration": 51,
    "start_time": "2024-04-12T18:19:02.509Z"
   },
   {
    "duration": 77,
    "start_time": "2024-04-12T18:19:02.562Z"
   },
   {
    "duration": 66,
    "start_time": "2024-04-12T18:19:02.640Z"
   },
   {
    "duration": 42,
    "start_time": "2024-04-12T18:19:02.708Z"
   },
   {
    "duration": 78,
    "start_time": "2024-04-12T18:19:02.752Z"
   },
   {
    "duration": 49,
    "start_time": "2024-04-12T18:19:02.832Z"
   },
   {
    "duration": 86,
    "start_time": "2024-04-12T18:19:02.882Z"
   },
   {
    "duration": 73,
    "start_time": "2024-04-12T18:19:02.970Z"
   },
   {
    "duration": 27,
    "start_time": "2024-04-12T18:19:03.045Z"
   },
   {
    "duration": 85,
    "start_time": "2024-04-12T18:19:03.074Z"
   },
   {
    "duration": 135,
    "start_time": "2024-04-12T18:19:03.160Z"
   },
   {
    "duration": 289,
    "start_time": "2024-04-12T18:19:03.297Z"
   },
   {
    "duration": 10,
    "start_time": "2024-04-12T18:19:03.589Z"
   },
   {
    "duration": 57,
    "start_time": "2024-04-12T18:19:03.601Z"
   },
   {
    "duration": 467,
    "start_time": "2024-04-12T19:14:22.995Z"
   },
   {
    "duration": 22,
    "start_time": "2024-04-12T19:14:23.464Z"
   },
   {
    "duration": 43,
    "start_time": "2024-04-12T19:14:23.487Z"
   },
   {
    "duration": 10,
    "start_time": "2024-04-12T19:14:23.531Z"
   },
   {
    "duration": 43,
    "start_time": "2024-04-12T19:14:23.542Z"
   },
   {
    "duration": 4,
    "start_time": "2024-04-12T19:14:23.586Z"
   },
   {
    "duration": 27,
    "start_time": "2024-04-12T19:14:23.591Z"
   },
   {
    "duration": 13,
    "start_time": "2024-04-12T19:14:23.619Z"
   },
   {
    "duration": 15,
    "start_time": "2024-04-12T19:14:23.634Z"
   },
   {
    "duration": 4,
    "start_time": "2024-04-12T19:14:23.652Z"
   },
   {
    "duration": 44,
    "start_time": "2024-04-12T19:14:23.657Z"
   },
   {
    "duration": 9,
    "start_time": "2024-04-12T19:14:23.703Z"
   },
   {
    "duration": 16,
    "start_time": "2024-04-12T19:14:23.713Z"
   },
   {
    "duration": 26,
    "start_time": "2024-04-12T19:14:23.731Z"
   },
   {
    "duration": 21,
    "start_time": "2024-04-12T19:14:23.759Z"
   },
   {
    "duration": 15,
    "start_time": "2024-04-12T19:14:23.781Z"
   },
   {
    "duration": 3,
    "start_time": "2024-04-12T19:14:23.798Z"
   },
   {
    "duration": 28,
    "start_time": "2024-04-12T19:14:23.802Z"
   },
   {
    "duration": 16,
    "start_time": "2024-04-12T19:14:23.832Z"
   },
   {
    "duration": 3,
    "start_time": "2024-04-12T19:14:23.850Z"
   },
   {
    "duration": 14,
    "start_time": "2024-04-12T19:14:23.854Z"
   },
   {
    "duration": 5,
    "start_time": "2024-04-12T19:14:23.870Z"
   },
   {
    "duration": 38,
    "start_time": "2024-04-12T19:14:23.876Z"
   },
   {
    "duration": 18,
    "start_time": "2024-04-12T19:14:23.916Z"
   },
   {
    "duration": 39,
    "start_time": "2024-04-12T19:14:23.937Z"
   },
   {
    "duration": 2,
    "start_time": "2024-04-12T19:14:23.978Z"
   },
   {
    "duration": 42,
    "start_time": "2024-04-12T19:14:23.981Z"
   },
   {
    "duration": 2,
    "start_time": "2024-04-12T19:14:24.025Z"
   },
   {
    "duration": 62,
    "start_time": "2024-04-12T19:14:24.029Z"
   },
   {
    "duration": 620,
    "start_time": "2024-04-12T19:23:14.769Z"
   },
   {
    "duration": 23,
    "start_time": "2024-04-12T19:23:15.391Z"
   },
   {
    "duration": 21,
    "start_time": "2024-04-12T19:23:15.415Z"
   },
   {
    "duration": 16,
    "start_time": "2024-04-12T19:23:15.438Z"
   },
   {
    "duration": 40,
    "start_time": "2024-04-12T19:23:15.456Z"
   },
   {
    "duration": 3,
    "start_time": "2024-04-12T19:23:15.498Z"
   },
   {
    "duration": 24,
    "start_time": "2024-04-12T19:23:15.502Z"
   },
   {
    "duration": 7,
    "start_time": "2024-04-12T19:23:15.528Z"
   },
   {
    "duration": 28,
    "start_time": "2024-04-12T19:23:15.537Z"
   },
   {
    "duration": 35,
    "start_time": "2024-04-12T19:23:15.569Z"
   },
   {
    "duration": 70,
    "start_time": "2024-04-12T19:23:15.606Z"
   },
   {
    "duration": 10,
    "start_time": "2024-04-12T19:23:15.678Z"
   },
   {
    "duration": 44,
    "start_time": "2024-04-12T19:23:15.689Z"
   },
   {
    "duration": 31,
    "start_time": "2024-04-12T19:23:15.735Z"
   },
   {
    "duration": 41,
    "start_time": "2024-04-12T19:23:15.768Z"
   },
   {
    "duration": 27,
    "start_time": "2024-04-12T19:23:15.811Z"
   },
   {
    "duration": 4,
    "start_time": "2024-04-12T19:23:15.839Z"
   },
   {
    "duration": 22,
    "start_time": "2024-04-12T19:23:15.844Z"
   },
   {
    "duration": 18,
    "start_time": "2024-04-12T19:23:15.868Z"
   },
   {
    "duration": 27,
    "start_time": "2024-04-12T19:23:15.888Z"
   },
   {
    "duration": 23,
    "start_time": "2024-04-12T19:23:15.917Z"
   },
   {
    "duration": 11,
    "start_time": "2024-04-12T19:23:15.942Z"
   },
   {
    "duration": 46,
    "start_time": "2024-04-12T19:23:15.954Z"
   },
   {
    "duration": 14,
    "start_time": "2024-04-12T19:23:16.002Z"
   },
   {
    "duration": 49,
    "start_time": "2024-04-12T19:23:16.018Z"
   },
   {
    "duration": 3,
    "start_time": "2024-04-12T19:23:16.069Z"
   },
   {
    "duration": 44,
    "start_time": "2024-04-12T19:23:16.073Z"
   },
   {
    "duration": 3,
    "start_time": "2024-04-12T19:23:16.120Z"
   },
   {
    "duration": 46,
    "start_time": "2024-04-12T19:23:16.124Z"
   },
   {
    "duration": 473,
    "start_time": "2024-04-12T19:24:20.091Z"
   },
   {
    "duration": 23,
    "start_time": "2024-04-12T19:24:20.566Z"
   },
   {
    "duration": 39,
    "start_time": "2024-04-12T19:24:20.590Z"
   },
   {
    "duration": 18,
    "start_time": "2024-04-12T19:24:20.632Z"
   },
   {
    "duration": 68,
    "start_time": "2024-04-12T19:24:20.652Z"
   },
   {
    "duration": 3,
    "start_time": "2024-04-12T19:24:20.722Z"
   },
   {
    "duration": 39,
    "start_time": "2024-04-12T19:24:20.727Z"
   },
   {
    "duration": 20,
    "start_time": "2024-04-12T19:24:20.768Z"
   },
   {
    "duration": 16,
    "start_time": "2024-04-12T19:24:20.790Z"
   },
   {
    "duration": 35,
    "start_time": "2024-04-12T19:24:20.810Z"
   },
   {
    "duration": 44,
    "start_time": "2024-04-12T19:24:20.846Z"
   },
   {
    "duration": 11,
    "start_time": "2024-04-12T19:24:20.891Z"
   },
   {
    "duration": 19,
    "start_time": "2024-04-12T19:24:20.903Z"
   },
   {
    "duration": 37,
    "start_time": "2024-04-12T19:24:20.923Z"
   },
   {
    "duration": 53,
    "start_time": "2024-04-12T19:24:20.961Z"
   },
   {
    "duration": 21,
    "start_time": "2024-04-12T19:24:21.015Z"
   },
   {
    "duration": 10,
    "start_time": "2024-04-12T19:24:21.037Z"
   },
   {
    "duration": 30,
    "start_time": "2024-04-12T19:24:21.049Z"
   },
   {
    "duration": 19,
    "start_time": "2024-04-12T19:24:21.080Z"
   },
   {
    "duration": 10,
    "start_time": "2024-04-12T19:24:21.100Z"
   },
   {
    "duration": 31,
    "start_time": "2024-04-12T19:24:21.112Z"
   },
   {
    "duration": 18,
    "start_time": "2024-04-12T19:24:21.145Z"
   },
   {
    "duration": 52,
    "start_time": "2024-04-12T19:24:21.165Z"
   },
   {
    "duration": 14,
    "start_time": "2024-04-12T19:24:21.218Z"
   },
   {
    "duration": 40,
    "start_time": "2024-04-12T19:24:21.234Z"
   },
   {
    "duration": 2,
    "start_time": "2024-04-12T19:24:21.276Z"
   },
   {
    "duration": 40,
    "start_time": "2024-04-12T19:24:21.280Z"
   },
   {
    "duration": 2,
    "start_time": "2024-04-12T19:24:21.323Z"
   },
   {
    "duration": 43,
    "start_time": "2024-04-12T19:24:21.327Z"
   },
   {
    "duration": 82,
    "start_time": "2024-04-14T16:00:10.151Z"
   },
   {
    "duration": 45,
    "start_time": "2024-04-14T16:00:45.293Z"
   },
   {
    "duration": 613,
    "start_time": "2024-04-14T16:00:59.800Z"
   },
   {
    "duration": 22,
    "start_time": "2024-04-14T16:01:00.415Z"
   },
   {
    "duration": 49,
    "start_time": "2024-04-14T16:01:00.439Z"
   },
   {
    "duration": 81,
    "start_time": "2024-04-14T16:01:00.490Z"
   },
   {
    "duration": 239,
    "start_time": "2024-04-14T16:01:00.572Z"
   },
   {
    "duration": 61,
    "start_time": "2024-04-14T16:01:00.813Z"
   },
   {
    "duration": 151,
    "start_time": "2024-04-14T16:01:00.875Z"
   },
   {
    "duration": 63,
    "start_time": "2024-04-14T16:01:01.027Z"
   },
   {
    "duration": 44,
    "start_time": "2024-04-14T16:01:01.092Z"
   },
   {
    "duration": 31,
    "start_time": "2024-04-14T16:01:01.138Z"
   },
   {
    "duration": 114,
    "start_time": "2024-04-14T16:01:01.170Z"
   },
   {
    "duration": 53,
    "start_time": "2024-04-14T16:01:01.285Z"
   },
   {
    "duration": 59,
    "start_time": "2024-04-14T16:01:01.339Z"
   },
   {
    "duration": 76,
    "start_time": "2024-04-14T16:01:01.399Z"
   },
   {
    "duration": 86,
    "start_time": "2024-04-14T16:01:01.477Z"
   },
   {
    "duration": 39,
    "start_time": "2024-04-14T16:01:01.565Z"
   },
   {
    "duration": 76,
    "start_time": "2024-04-14T16:01:01.606Z"
   },
   {
    "duration": 39,
    "start_time": "2024-04-14T16:01:01.684Z"
   },
   {
    "duration": 40,
    "start_time": "2024-04-14T16:01:01.725Z"
   },
   {
    "duration": 48,
    "start_time": "2024-04-14T16:01:01.767Z"
   },
   {
    "duration": 107,
    "start_time": "2024-04-14T16:01:01.816Z"
   },
   {
    "duration": 43,
    "start_time": "2024-04-14T16:01:01.925Z"
   },
   {
    "duration": 91,
    "start_time": "2024-04-14T16:01:01.969Z"
   },
   {
    "duration": 40,
    "start_time": "2024-04-14T16:01:02.062Z"
   },
   {
    "duration": 39,
    "start_time": "2024-04-14T16:01:02.103Z"
   },
   {
    "duration": 79,
    "start_time": "2024-04-14T16:01:02.143Z"
   },
   {
    "duration": 19,
    "start_time": "2024-04-14T16:01:02.224Z"
   },
   {
    "duration": 65,
    "start_time": "2024-04-14T16:01:02.246Z"
   },
   {
    "duration": 10,
    "start_time": "2024-04-14T16:01:02.312Z"
   },
   {
    "duration": 65,
    "start_time": "2024-04-14T16:01:02.323Z"
   },
   {
    "duration": 34,
    "start_time": "2024-04-14T16:01:26.264Z"
   },
   {
    "duration": 31,
    "start_time": "2024-04-14T16:01:35.305Z"
   }
  ],
  "colab": {
   "provenance": []
  },
  "kernelspec": {
   "display_name": "Python 3 (ipykernel)",
   "language": "python",
   "name": "python3"
  },
  "language_info": {
   "codemirror_mode": {
    "name": "ipython",
    "version": 3
   },
   "file_extension": ".py",
   "mimetype": "text/x-python",
   "name": "python",
   "nbconvert_exporter": "python",
   "pygments_lexer": "ipython3",
   "version": "3.9.5"
  },
  "toc": {
   "base_numbering": 1,
   "nav_menu": {},
   "number_sections": true,
   "sideBar": true,
   "skip_h1_title": true,
   "title_cell": "Table of Contents",
   "title_sidebar": "Contents",
   "toc_cell": false,
   "toc_position": {},
   "toc_section_display": true,
   "toc_window_display": false
  }
 },
 "nbformat": 4,
 "nbformat_minor": 5
}
