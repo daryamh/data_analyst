{
 "cells": [
  {
   "cell_type": "markdown",
   "id": "602f5d53",
   "metadata": {},
   "source": [
    "<div style=\"border:solid green 2px; padding: 20px\">\n",
    "\n",
    "<b>Привет, Дарья! Поздравляю с выполнением очередного проекта!!</b>\n",
    "\n",
    "Меня зовут Петр Раздобреев и я буду проверять твою работу. Попробую помочь сделать тебе её еще лучше! В Практикуме принято общени на ты, но если это дискомфортно, то сообщи об этом)\n",
    "\n",
    "Ниже ты найдешь мои комментарии - пожалуйста, не перемещай, не изменяй и не удаляй их. Я буду использовать цветовую разметку:\n",
    "\n",
    "<div class=\"alert alert-danger\">\n",
    "<b>Комментарий ревьюера:</b>☁️Так выделены самые важные замечания. Без их отработки проект не будет принят. </div>\n",
    "\n",
    "<div class=\"alert alert-warning\">\n",
    "<b>Комментарий ревьюера:</b>⛅️ Так выделены небольшие замечания.Такие замечания в проекте допустимы, это пространство для улучшений в будущем.\n",
    "</div>\n",
    "\n",
    "<div class=\"alert alert-success\">\n",
    "<b>Комментарий ревьюера:</b>☀️Так я выделяю успешные идеи.</div>\n",
    "\n",
    "Давай работать над проектом в диалоге: если ты что-то меняешь в проекте или отвечаешь на мои комменатри — пиши об этом. Мне будет легче отследить изменения, если ты выделишь свои комментарии:\n",
    "<div class=\"alert alert-info\"> <b>Комментарий студента:</b> Например, вот так.</div>\n",
    "\n",
    "Всё это поможет выполнить повторную проверку твоего проекта оперативнее. \n",
    "    "
   ]
  },
  {
   "cell_type": "markdown",
   "id": "0c06c069",
   "metadata": {},
   "source": [
    "# Исследование данных сервиса аренды самокатов GoFast"
   ]
  },
  {
   "cell_type": "markdown",
   "id": "647c1947",
   "metadata": {},
   "source": [
    "Чтобы совершать поездки по городу, пользователи сервиса GoFast пользуются мобильным приложением. Сервисом можно пользоваться:\n",
    "\n",
    "- без подписки\n",
    "    - абонентская плата отсутствует;\n",
    "    - стоимость одной минуты поездки — 8 рублей;\n",
    "    - стоимость старта (начала поездки) — 50 рублей;\n",
    "- с подпиской Ultra\n",
    "    - абонентская плата — 199 рублей в месяц;\n",
    "    - стоимость одной минуты поездки — 6 рублей;\n",
    "    - стоимость старта — бесплатно."
   ]
  },
  {
   "cell_type": "markdown",
   "id": "7fe30b25",
   "metadata": {},
   "source": [
    "В основных данных есть информация о пользователях, их поездках и подписках.\n",
    "\n",
    "**Пользователи —** [**`users_go.csv`**](https://code.s3.yandex.net/datasets/users_go.csv)\n",
    "\n",
    "- user_id - уникальный идентификатор пользователя\n",
    "- name - имя пользователя\n",
    "- age - возраст\n",
    "- city - город\n",
    "- subscription_type - тип подписки (free, ultra)\n",
    "\n",
    "**Поездки —** [**`rides_go.csv`**](https://code.s3.yandex.net/datasets/rides_go.csv)\n",
    "\n",
    "- user_id - уникальный идентификатор пользователя\n",
    "- distance - расстояние, которое пользователь проехал в текущей сессии (в метрах)\n",
    "- duration - продолжительность сессии (в минутах) — время с того момента, как пользователь нажал кнопку «Начать поездку» до момента, как он нажал кнопку «Завершить поездку»\n",
    "- date - дата совершения поездки\n",
    "\n",
    "**Подписки** — [**`subscriptions_go.csv`**](https://code.s3.yandex.net/datasets/subscriptions_go.csv)\n",
    "\n",
    "- subscription_type - тип подписки\n",
    "- minute_price - стоимость одной минуты поездки по данной подписке\n",
    "- start_ride_price - стоимость начала поездки\n",
    "- subscription_fee - стоимость ежемесячного платежа"
   ]
  },
  {
   "cell_type": "code",
   "execution_count": 1,
   "id": "72576667",
   "metadata": {},
   "outputs": [],
   "source": [
    "# Импортируем библиотеки\n",
    "import pandas as pd\n",
    "import numpy as np\n",
    "import matplotlib.pyplot as plt\n",
    "from scipy import stats as st"
   ]
  },
  {
   "cell_type": "markdown",
   "id": "c42cbe00",
   "metadata": {},
   "source": [
    "## Загрузка данных"
   ]
  },
  {
   "cell_type": "code",
   "execution_count": 2,
   "id": "eff9f206",
   "metadata": {},
   "outputs": [],
   "source": [
    "# Откроем CSV-файлы и сохраним их в датафреймы\n",
    "users = pd.read_csv('/datasets/users_go.csv')\n",
    "rides = pd.read_csv('/datasets/rides_go.csv')\n",
    "subscriptions = pd.read_csv('/datasets/subscriptions_go.csv')"
   ]
  },
  {
   "cell_type": "code",
   "execution_count": 3,
   "id": "64a15258",
   "metadata": {},
   "outputs": [
    {
     "data": {
      "text/html": [
       "<div>\n",
       "<style scoped>\n",
       "    .dataframe tbody tr th:only-of-type {\n",
       "        vertical-align: middle;\n",
       "    }\n",
       "\n",
       "    .dataframe tbody tr th {\n",
       "        vertical-align: top;\n",
       "    }\n",
       "\n",
       "    .dataframe thead th {\n",
       "        text-align: right;\n",
       "    }\n",
       "</style>\n",
       "<table border=\"1\" class=\"dataframe\">\n",
       "  <thead>\n",
       "    <tr style=\"text-align: right;\">\n",
       "      <th></th>\n",
       "      <th>user_id</th>\n",
       "      <th>name</th>\n",
       "      <th>age</th>\n",
       "      <th>city</th>\n",
       "      <th>subscription_type</th>\n",
       "    </tr>\n",
       "  </thead>\n",
       "  <tbody>\n",
       "    <tr>\n",
       "      <th>0</th>\n",
       "      <td>1</td>\n",
       "      <td>Кира</td>\n",
       "      <td>22</td>\n",
       "      <td>Тюмень</td>\n",
       "      <td>ultra</td>\n",
       "    </tr>\n",
       "    <tr>\n",
       "      <th>1</th>\n",
       "      <td>2</td>\n",
       "      <td>Станислав</td>\n",
       "      <td>31</td>\n",
       "      <td>Омск</td>\n",
       "      <td>ultra</td>\n",
       "    </tr>\n",
       "    <tr>\n",
       "      <th>2</th>\n",
       "      <td>3</td>\n",
       "      <td>Алексей</td>\n",
       "      <td>20</td>\n",
       "      <td>Москва</td>\n",
       "      <td>ultra</td>\n",
       "    </tr>\n",
       "    <tr>\n",
       "      <th>3</th>\n",
       "      <td>4</td>\n",
       "      <td>Константин</td>\n",
       "      <td>26</td>\n",
       "      <td>Ростов-на-Дону</td>\n",
       "      <td>ultra</td>\n",
       "    </tr>\n",
       "    <tr>\n",
       "      <th>4</th>\n",
       "      <td>5</td>\n",
       "      <td>Адель</td>\n",
       "      <td>28</td>\n",
       "      <td>Омск</td>\n",
       "      <td>ultra</td>\n",
       "    </tr>\n",
       "  </tbody>\n",
       "</table>\n",
       "</div>"
      ],
      "text/plain": [
       "   user_id        name  age            city subscription_type\n",
       "0        1        Кира   22          Тюмень             ultra\n",
       "1        2   Станислав   31            Омск             ultra\n",
       "2        3     Алексей   20          Москва             ultra\n",
       "3        4  Константин   26  Ростов-на-Дону             ultra\n",
       "4        5       Адель   28            Омск             ultra"
      ]
     },
     "metadata": {},
     "output_type": "display_data"
    },
    {
     "data": {
      "text/html": [
       "<div>\n",
       "<style scoped>\n",
       "    .dataframe tbody tr th:only-of-type {\n",
       "        vertical-align: middle;\n",
       "    }\n",
       "\n",
       "    .dataframe tbody tr th {\n",
       "        vertical-align: top;\n",
       "    }\n",
       "\n",
       "    .dataframe thead th {\n",
       "        text-align: right;\n",
       "    }\n",
       "</style>\n",
       "<table border=\"1\" class=\"dataframe\">\n",
       "  <thead>\n",
       "    <tr style=\"text-align: right;\">\n",
       "      <th></th>\n",
       "      <th>user_id</th>\n",
       "      <th>distance</th>\n",
       "      <th>duration</th>\n",
       "      <th>date</th>\n",
       "    </tr>\n",
       "  </thead>\n",
       "  <tbody>\n",
       "    <tr>\n",
       "      <th>0</th>\n",
       "      <td>1</td>\n",
       "      <td>4409.919140</td>\n",
       "      <td>25.599769</td>\n",
       "      <td>2021-01-01</td>\n",
       "    </tr>\n",
       "    <tr>\n",
       "      <th>1</th>\n",
       "      <td>1</td>\n",
       "      <td>2617.592153</td>\n",
       "      <td>15.816871</td>\n",
       "      <td>2021-01-18</td>\n",
       "    </tr>\n",
       "    <tr>\n",
       "      <th>2</th>\n",
       "      <td>1</td>\n",
       "      <td>754.159807</td>\n",
       "      <td>6.232113</td>\n",
       "      <td>2021-04-20</td>\n",
       "    </tr>\n",
       "    <tr>\n",
       "      <th>3</th>\n",
       "      <td>1</td>\n",
       "      <td>2694.783254</td>\n",
       "      <td>18.511000</td>\n",
       "      <td>2021-08-11</td>\n",
       "    </tr>\n",
       "    <tr>\n",
       "      <th>4</th>\n",
       "      <td>1</td>\n",
       "      <td>4028.687306</td>\n",
       "      <td>26.265803</td>\n",
       "      <td>2021-08-28</td>\n",
       "    </tr>\n",
       "  </tbody>\n",
       "</table>\n",
       "</div>"
      ],
      "text/plain": [
       "   user_id     distance   duration        date\n",
       "0        1  4409.919140  25.599769  2021-01-01\n",
       "1        1  2617.592153  15.816871  2021-01-18\n",
       "2        1   754.159807   6.232113  2021-04-20\n",
       "3        1  2694.783254  18.511000  2021-08-11\n",
       "4        1  4028.687306  26.265803  2021-08-28"
      ]
     },
     "metadata": {},
     "output_type": "display_data"
    },
    {
     "data": {
      "text/html": [
       "<div>\n",
       "<style scoped>\n",
       "    .dataframe tbody tr th:only-of-type {\n",
       "        vertical-align: middle;\n",
       "    }\n",
       "\n",
       "    .dataframe tbody tr th {\n",
       "        vertical-align: top;\n",
       "    }\n",
       "\n",
       "    .dataframe thead th {\n",
       "        text-align: right;\n",
       "    }\n",
       "</style>\n",
       "<table border=\"1\" class=\"dataframe\">\n",
       "  <thead>\n",
       "    <tr style=\"text-align: right;\">\n",
       "      <th></th>\n",
       "      <th>subscription_type</th>\n",
       "      <th>minute_price</th>\n",
       "      <th>start_ride_price</th>\n",
       "      <th>subscription_fee</th>\n",
       "    </tr>\n",
       "  </thead>\n",
       "  <tbody>\n",
       "    <tr>\n",
       "      <th>0</th>\n",
       "      <td>free</td>\n",
       "      <td>8</td>\n",
       "      <td>50</td>\n",
       "      <td>0</td>\n",
       "    </tr>\n",
       "    <tr>\n",
       "      <th>1</th>\n",
       "      <td>ultra</td>\n",
       "      <td>6</td>\n",
       "      <td>0</td>\n",
       "      <td>199</td>\n",
       "    </tr>\n",
       "  </tbody>\n",
       "</table>\n",
       "</div>"
      ],
      "text/plain": [
       "  subscription_type  minute_price  start_ride_price  subscription_fee\n",
       "0              free             8                50                 0\n",
       "1             ultra             6                 0               199"
      ]
     },
     "metadata": {},
     "output_type": "display_data"
    }
   ],
   "source": [
    "# Выведем на экран первые 5 строк всех датафреймов\n",
    "display(users.head())\n",
    "display(rides.head())\n",
    "display(subscriptions.head())"
   ]
  },
  {
   "cell_type": "code",
   "execution_count": 4,
   "id": "7fdeeb49",
   "metadata": {},
   "outputs": [
    {
     "name": "stdout",
     "output_type": "stream",
     "text": [
      "Общая информация о датафрейме 'users'\n",
      "<class 'pandas.core.frame.DataFrame'>\n",
      "RangeIndex: 1565 entries, 0 to 1564\n",
      "Data columns (total 5 columns):\n",
      " #   Column             Non-Null Count  Dtype \n",
      "---  ------             --------------  ----- \n",
      " 0   user_id            1565 non-null   int64 \n",
      " 1   name               1565 non-null   object\n",
      " 2   age                1565 non-null   int64 \n",
      " 3   city               1565 non-null   object\n",
      " 4   subscription_type  1565 non-null   object\n",
      "dtypes: int64(2), object(3)\n",
      "memory usage: 61.3+ KB\n",
      "\n",
      "Общая информация о датафрейме 'rides'\n",
      "<class 'pandas.core.frame.DataFrame'>\n",
      "RangeIndex: 18068 entries, 0 to 18067\n",
      "Data columns (total 4 columns):\n",
      " #   Column    Non-Null Count  Dtype  \n",
      "---  ------    --------------  -----  \n",
      " 0   user_id   18068 non-null  int64  \n",
      " 1   distance  18068 non-null  float64\n",
      " 2   duration  18068 non-null  float64\n",
      " 3   date      18068 non-null  object \n",
      "dtypes: float64(2), int64(1), object(1)\n",
      "memory usage: 564.8+ KB\n",
      "\n",
      "Общая информация о датафрейме 'subscriptions'\n",
      "<class 'pandas.core.frame.DataFrame'>\n",
      "RangeIndex: 2 entries, 0 to 1\n",
      "Data columns (total 4 columns):\n",
      " #   Column             Non-Null Count  Dtype \n",
      "---  ------             --------------  ----- \n",
      " 0   subscription_type  2 non-null      object\n",
      " 1   minute_price       2 non-null      int64 \n",
      " 2   start_ride_price   2 non-null      int64 \n",
      " 3   subscription_fee   2 non-null      int64 \n",
      "dtypes: int64(3), object(1)\n",
      "memory usage: 192.0+ bytes\n"
     ]
    }
   ],
   "source": [
    "# Выведем на экран общую информацию о датафреймах\n",
    "print('Общая информация о датафрейме \\'users\\'')\n",
    "users.info()\n",
    "print()\n",
    "print('Общая информация о датафрейме \\'rides\\'')\n",
    "rides.info()\n",
    "print()\n",
    "print('Общая информация о датафрейме \\'subscriptions\\'')\n",
    "subscriptions.info()"
   ]
  },
  {
   "cell_type": "markdown",
   "id": "2e77a5f7",
   "metadata": {},
   "source": [
    "<div class=\"alert alert-success\">\n",
    "<b>Комментарий ревьюера:</b>☀️\n",
    "    \n",
    "Замечательно, что знакомишься с датафреймом выводя и несколько первых строк и обзорную информацию при помощи `info`"
   ]
  },
  {
   "cell_type": "markdown",
   "id": "905a04fc",
   "metadata": {},
   "source": [
    "Исходя из информации выше, можем заметить, что имена столбцов заданы корректно, а в данных нет пропусков."
   ]
  },
  {
   "cell_type": "markdown",
   "id": "e95ebca7",
   "metadata": {},
   "source": [
    "## Предобработка данных"
   ]
  },
  {
   "cell_type": "markdown",
   "id": "a6698597",
   "metadata": {},
   "source": [
    "### Работа с типами данных"
   ]
  },
  {
   "cell_type": "code",
   "execution_count": 5,
   "id": "05579792",
   "metadata": {},
   "outputs": [
    {
     "name": "stdout",
     "output_type": "stream",
     "text": [
      "Общая информация о датафрейме 'rides'\n",
      "<class 'pandas.core.frame.DataFrame'>\n",
      "RangeIndex: 18068 entries, 0 to 18067\n",
      "Data columns (total 4 columns):\n",
      " #   Column    Non-Null Count  Dtype         \n",
      "---  ------    --------------  -----         \n",
      " 0   user_id   18068 non-null  int64         \n",
      " 1   distance  18068 non-null  float64       \n",
      " 2   duration  18068 non-null  float64       \n",
      " 3   date      18068 non-null  datetime64[ns]\n",
      "dtypes: datetime64[ns](1), float64(2), int64(1)\n",
      "memory usage: 564.8 KB\n"
     ]
    }
   ],
   "source": [
    "# Приведем столбец 'date' к типу даты pandas\n",
    "rides['date'] = pd.to_datetime(rides['date'], format='%Y-%m-%d')\n",
    "\n",
    "# Проверим, прошли ли изменения\n",
    "print('Общая информация о датафрейме \\'rides\\'')\n",
    "rides.info()"
   ]
  },
  {
   "cell_type": "markdown",
   "id": "8199696b",
   "metadata": {},
   "source": [
    "Изменение типов данных прошло успешно."
   ]
  },
  {
   "cell_type": "markdown",
   "id": "24f4f587",
   "metadata": {},
   "source": [
    "### Работа с пропущенными значениями и дубликатами"
   ]
  },
  {
   "cell_type": "markdown",
   "id": "523ca464",
   "metadata": {},
   "source": [
    "В предыдущем разделе мы обнаружили, что пропущенные значения отсутствуют. Проверим наличие дубликатов."
   ]
  },
  {
   "cell_type": "code",
   "execution_count": 6,
   "id": "7c3458bc",
   "metadata": {
    "scrolled": true
   },
   "outputs": [
    {
     "name": "stdout",
     "output_type": "stream",
     "text": [
      "В датафрейме 'users' 31 дубликат(-ов)\n",
      "В датафрейме 'rides' 0 дубликат(-ов)\n",
      "В датафрейме 'subscriptions' 0 дубликат(-ов)\n"
     ]
    }
   ],
   "source": [
    "# Проверим, есть ли в датафреймах дубликаты\n",
    "print(f'В датафрейме \\'users\\' {users.duplicated().sum()} дубликат(-ов)')\n",
    "print(f'В датафрейме \\'rides\\' {rides.duplicated().sum()} дубликат(-ов)')\n",
    "print(f'В датафрейме \\'subscriptions\\' {subscriptions.duplicated().sum()} дубликат(-ов)')"
   ]
  },
  {
   "cell_type": "code",
   "execution_count": 7,
   "id": "099e2cf2",
   "metadata": {
    "scrolled": false
   },
   "outputs": [
    {
     "data": {
      "text/html": [
       "<div>\n",
       "<style scoped>\n",
       "    .dataframe tbody tr th:only-of-type {\n",
       "        vertical-align: middle;\n",
       "    }\n",
       "\n",
       "    .dataframe tbody tr th {\n",
       "        vertical-align: top;\n",
       "    }\n",
       "\n",
       "    .dataframe thead th {\n",
       "        text-align: right;\n",
       "    }\n",
       "</style>\n",
       "<table border=\"1\" class=\"dataframe\">\n",
       "  <thead>\n",
       "    <tr style=\"text-align: right;\">\n",
       "      <th></th>\n",
       "      <th>user_id</th>\n",
       "      <th>name</th>\n",
       "      <th>age</th>\n",
       "      <th>city</th>\n",
       "      <th>subscription_type</th>\n",
       "    </tr>\n",
       "  </thead>\n",
       "  <tbody>\n",
       "    <tr>\n",
       "      <th>1534</th>\n",
       "      <td>293</td>\n",
       "      <td>Агата</td>\n",
       "      <td>26</td>\n",
       "      <td>Краснодар</td>\n",
       "      <td>ultra</td>\n",
       "    </tr>\n",
       "    <tr>\n",
       "      <th>1535</th>\n",
       "      <td>16</td>\n",
       "      <td>Амалия</td>\n",
       "      <td>27</td>\n",
       "      <td>Краснодар</td>\n",
       "      <td>ultra</td>\n",
       "    </tr>\n",
       "    <tr>\n",
       "      <th>1536</th>\n",
       "      <td>909</td>\n",
       "      <td>Константин</td>\n",
       "      <td>20</td>\n",
       "      <td>Екатеринбург</td>\n",
       "      <td>free</td>\n",
       "    </tr>\n",
       "    <tr>\n",
       "      <th>1537</th>\n",
       "      <td>403</td>\n",
       "      <td>Полина</td>\n",
       "      <td>19</td>\n",
       "      <td>Сочи</td>\n",
       "      <td>ultra</td>\n",
       "    </tr>\n",
       "    <tr>\n",
       "      <th>1538</th>\n",
       "      <td>908</td>\n",
       "      <td>Рустам</td>\n",
       "      <td>30</td>\n",
       "      <td>Тюмень</td>\n",
       "      <td>free</td>\n",
       "    </tr>\n",
       "    <tr>\n",
       "      <th>1539</th>\n",
       "      <td>43</td>\n",
       "      <td>Стефания</td>\n",
       "      <td>22</td>\n",
       "      <td>Омск</td>\n",
       "      <td>ultra</td>\n",
       "    </tr>\n",
       "    <tr>\n",
       "      <th>1540</th>\n",
       "      <td>127</td>\n",
       "      <td>Павел</td>\n",
       "      <td>25</td>\n",
       "      <td>Пятигорск</td>\n",
       "      <td>ultra</td>\n",
       "    </tr>\n",
       "    <tr>\n",
       "      <th>1541</th>\n",
       "      <td>659</td>\n",
       "      <td>Злата</td>\n",
       "      <td>27</td>\n",
       "      <td>Ростов-на-Дону</td>\n",
       "      <td>ultra</td>\n",
       "    </tr>\n",
       "    <tr>\n",
       "      <th>1542</th>\n",
       "      <td>204</td>\n",
       "      <td>Руслан</td>\n",
       "      <td>30</td>\n",
       "      <td>Пятигорск</td>\n",
       "      <td>ultra</td>\n",
       "    </tr>\n",
       "    <tr>\n",
       "      <th>1543</th>\n",
       "      <td>153</td>\n",
       "      <td>Герман</td>\n",
       "      <td>23</td>\n",
       "      <td>Москва</td>\n",
       "      <td>ultra</td>\n",
       "    </tr>\n",
       "    <tr>\n",
       "      <th>1544</th>\n",
       "      <td>1245</td>\n",
       "      <td>Регина</td>\n",
       "      <td>27</td>\n",
       "      <td>Пятигорск</td>\n",
       "      <td>free</td>\n",
       "    </tr>\n",
       "    <tr>\n",
       "      <th>1545</th>\n",
       "      <td>807</td>\n",
       "      <td>Александр</td>\n",
       "      <td>28</td>\n",
       "      <td>Екатеринбург</td>\n",
       "      <td>free</td>\n",
       "    </tr>\n",
       "    <tr>\n",
       "      <th>1546</th>\n",
       "      <td>924</td>\n",
       "      <td>Мария</td>\n",
       "      <td>23</td>\n",
       "      <td>Пятигорск</td>\n",
       "      <td>free</td>\n",
       "    </tr>\n",
       "    <tr>\n",
       "      <th>1547</th>\n",
       "      <td>635</td>\n",
       "      <td>Герман</td>\n",
       "      <td>21</td>\n",
       "      <td>Москва</td>\n",
       "      <td>ultra</td>\n",
       "    </tr>\n",
       "    <tr>\n",
       "      <th>1548</th>\n",
       "      <td>136</td>\n",
       "      <td>Марсель</td>\n",
       "      <td>25</td>\n",
       "      <td>Тюмень</td>\n",
       "      <td>ultra</td>\n",
       "    </tr>\n",
       "    <tr>\n",
       "      <th>1549</th>\n",
       "      <td>108</td>\n",
       "      <td>Влада</td>\n",
       "      <td>29</td>\n",
       "      <td>Тюмень</td>\n",
       "      <td>ultra</td>\n",
       "    </tr>\n",
       "    <tr>\n",
       "      <th>1550</th>\n",
       "      <td>737</td>\n",
       "      <td>Мелания</td>\n",
       "      <td>27</td>\n",
       "      <td>Ростов-на-Дону</td>\n",
       "      <td>free</td>\n",
       "    </tr>\n",
       "    <tr>\n",
       "      <th>1551</th>\n",
       "      <td>666</td>\n",
       "      <td>Зарина</td>\n",
       "      <td>29</td>\n",
       "      <td>Москва</td>\n",
       "      <td>ultra</td>\n",
       "    </tr>\n",
       "    <tr>\n",
       "      <th>1552</th>\n",
       "      <td>297</td>\n",
       "      <td>Егор</td>\n",
       "      <td>33</td>\n",
       "      <td>Пятигорск</td>\n",
       "      <td>ultra</td>\n",
       "    </tr>\n",
       "    <tr>\n",
       "      <th>1553</th>\n",
       "      <td>121</td>\n",
       "      <td>Алина</td>\n",
       "      <td>25</td>\n",
       "      <td>Пятигорск</td>\n",
       "      <td>ultra</td>\n",
       "    </tr>\n",
       "    <tr>\n",
       "      <th>1554</th>\n",
       "      <td>1198</td>\n",
       "      <td>Демид</td>\n",
       "      <td>29</td>\n",
       "      <td>Ростов-на-Дону</td>\n",
       "      <td>free</td>\n",
       "    </tr>\n",
       "    <tr>\n",
       "      <th>1555</th>\n",
       "      <td>72</td>\n",
       "      <td>Никита</td>\n",
       "      <td>25</td>\n",
       "      <td>Москва</td>\n",
       "      <td>ultra</td>\n",
       "    </tr>\n",
       "    <tr>\n",
       "      <th>1556</th>\n",
       "      <td>422</td>\n",
       "      <td>Кирилл</td>\n",
       "      <td>27</td>\n",
       "      <td>Сочи</td>\n",
       "      <td>ultra</td>\n",
       "    </tr>\n",
       "    <tr>\n",
       "      <th>1557</th>\n",
       "      <td>611</td>\n",
       "      <td>Владимир</td>\n",
       "      <td>28</td>\n",
       "      <td>Омск</td>\n",
       "      <td>ultra</td>\n",
       "    </tr>\n",
       "    <tr>\n",
       "      <th>1558</th>\n",
       "      <td>1237</td>\n",
       "      <td>Евгения</td>\n",
       "      <td>23</td>\n",
       "      <td>Тюмень</td>\n",
       "      <td>free</td>\n",
       "    </tr>\n",
       "    <tr>\n",
       "      <th>1559</th>\n",
       "      <td>209</td>\n",
       "      <td>Андрей</td>\n",
       "      <td>23</td>\n",
       "      <td>Омск</td>\n",
       "      <td>ultra</td>\n",
       "    </tr>\n",
       "    <tr>\n",
       "      <th>1560</th>\n",
       "      <td>829</td>\n",
       "      <td>Федор</td>\n",
       "      <td>29</td>\n",
       "      <td>Пятигорск</td>\n",
       "      <td>free</td>\n",
       "    </tr>\n",
       "    <tr>\n",
       "      <th>1561</th>\n",
       "      <td>809</td>\n",
       "      <td>Юрий</td>\n",
       "      <td>26</td>\n",
       "      <td>Сочи</td>\n",
       "      <td>free</td>\n",
       "    </tr>\n",
       "    <tr>\n",
       "      <th>1562</th>\n",
       "      <td>307</td>\n",
       "      <td>Ясмина</td>\n",
       "      <td>19</td>\n",
       "      <td>Краснодар</td>\n",
       "      <td>ultra</td>\n",
       "    </tr>\n",
       "    <tr>\n",
       "      <th>1563</th>\n",
       "      <td>47</td>\n",
       "      <td>Юрий</td>\n",
       "      <td>28</td>\n",
       "      <td>Тюмень</td>\n",
       "      <td>ultra</td>\n",
       "    </tr>\n",
       "    <tr>\n",
       "      <th>1564</th>\n",
       "      <td>1045</td>\n",
       "      <td>Артемий</td>\n",
       "      <td>28</td>\n",
       "      <td>Ростов-на-Дону</td>\n",
       "      <td>free</td>\n",
       "    </tr>\n",
       "  </tbody>\n",
       "</table>\n",
       "</div>"
      ],
      "text/plain": [
       "      user_id        name  age            city subscription_type\n",
       "1534      293       Агата   26       Краснодар             ultra\n",
       "1535       16      Амалия   27       Краснодар             ultra\n",
       "1536      909  Константин   20    Екатеринбург              free\n",
       "1537      403      Полина   19            Сочи             ultra\n",
       "1538      908      Рустам   30          Тюмень              free\n",
       "1539       43    Стефания   22            Омск             ultra\n",
       "1540      127       Павел   25       Пятигорск             ultra\n",
       "1541      659       Злата   27  Ростов-на-Дону             ultra\n",
       "1542      204      Руслан   30       Пятигорск             ultra\n",
       "1543      153      Герман   23          Москва             ultra\n",
       "1544     1245      Регина   27       Пятигорск              free\n",
       "1545      807   Александр   28    Екатеринбург              free\n",
       "1546      924       Мария   23       Пятигорск              free\n",
       "1547      635      Герман   21          Москва             ultra\n",
       "1548      136     Марсель   25          Тюмень             ultra\n",
       "1549      108       Влада   29          Тюмень             ultra\n",
       "1550      737     Мелания   27  Ростов-на-Дону              free\n",
       "1551      666      Зарина   29          Москва             ultra\n",
       "1552      297        Егор   33       Пятигорск             ultra\n",
       "1553      121       Алина   25       Пятигорск             ultra\n",
       "1554     1198       Демид   29  Ростов-на-Дону              free\n",
       "1555       72      Никита   25          Москва             ultra\n",
       "1556      422      Кирилл   27            Сочи             ultra\n",
       "1557      611    Владимир   28            Омск             ultra\n",
       "1558     1237     Евгения   23          Тюмень              free\n",
       "1559      209      Андрей   23            Омск             ultra\n",
       "1560      829       Федор   29       Пятигорск              free\n",
       "1561      809        Юрий   26            Сочи              free\n",
       "1562      307      Ясмина   19       Краснодар             ultra\n",
       "1563       47        Юрий   28          Тюмень             ultra\n",
       "1564     1045     Артемий   28  Ростов-на-Дону              free"
      ]
     },
     "execution_count": 7,
     "metadata": {},
     "output_type": "execute_result"
    }
   ],
   "source": [
    "# Выведем на экран строки-дубликаты\n",
    "users.loc[users.duplicated()]"
   ]
  },
  {
   "cell_type": "markdown",
   "id": "b90b6229",
   "metadata": {},
   "source": [
    "<div class=\"alert alert-success\">\n",
    "<b>Комментарий ревьюера:</b>☀️\n",
    "    \n",
    "И про дубликаты не забываешь, замечательно. Но действия по первичному анализу датафреймов схожи, можно было бы функцию написать "
   ]
  },
  {
   "cell_type": "markdown",
   "id": "9c14bb23",
   "metadata": {},
   "source": [
    "В одном городе может быть несколько людей с одинаковым именем и возрастом. Поэтому, т.к. в датафрейме отсутствует столбец с фамилиями пользователей, делаем предположение о том, что под строками-дубликатами могут скрываться разные пользователи. Принимаем решение о том, чтобы оставить дубликаты. "
   ]
  },
  {
   "cell_type": "markdown",
   "id": "4843aa6c",
   "metadata": {},
   "source": [
    "### Работа со столбцами"
   ]
  },
  {
   "cell_type": "code",
   "execution_count": 8,
   "id": "f363474b",
   "metadata": {},
   "outputs": [
    {
     "data": {
      "text/html": [
       "<div>\n",
       "<style scoped>\n",
       "    .dataframe tbody tr th:only-of-type {\n",
       "        vertical-align: middle;\n",
       "    }\n",
       "\n",
       "    .dataframe tbody tr th {\n",
       "        vertical-align: top;\n",
       "    }\n",
       "\n",
       "    .dataframe thead th {\n",
       "        text-align: right;\n",
       "    }\n",
       "</style>\n",
       "<table border=\"1\" class=\"dataframe\">\n",
       "  <thead>\n",
       "    <tr style=\"text-align: right;\">\n",
       "      <th></th>\n",
       "      <th>user_id</th>\n",
       "      <th>distance</th>\n",
       "      <th>duration</th>\n",
       "      <th>date</th>\n",
       "      <th>month_ride</th>\n",
       "    </tr>\n",
       "  </thead>\n",
       "  <tbody>\n",
       "    <tr>\n",
       "      <th>0</th>\n",
       "      <td>1</td>\n",
       "      <td>4409.919140</td>\n",
       "      <td>25.599769</td>\n",
       "      <td>2021-01-01</td>\n",
       "      <td>1</td>\n",
       "    </tr>\n",
       "    <tr>\n",
       "      <th>1</th>\n",
       "      <td>1</td>\n",
       "      <td>2617.592153</td>\n",
       "      <td>15.816871</td>\n",
       "      <td>2021-01-18</td>\n",
       "      <td>1</td>\n",
       "    </tr>\n",
       "    <tr>\n",
       "      <th>2</th>\n",
       "      <td>1</td>\n",
       "      <td>754.159807</td>\n",
       "      <td>6.232113</td>\n",
       "      <td>2021-04-20</td>\n",
       "      <td>4</td>\n",
       "    </tr>\n",
       "    <tr>\n",
       "      <th>3</th>\n",
       "      <td>1</td>\n",
       "      <td>2694.783254</td>\n",
       "      <td>18.511000</td>\n",
       "      <td>2021-08-11</td>\n",
       "      <td>8</td>\n",
       "    </tr>\n",
       "    <tr>\n",
       "      <th>4</th>\n",
       "      <td>1</td>\n",
       "      <td>4028.687306</td>\n",
       "      <td>26.265803</td>\n",
       "      <td>2021-08-28</td>\n",
       "      <td>8</td>\n",
       "    </tr>\n",
       "  </tbody>\n",
       "</table>\n",
       "</div>"
      ],
      "text/plain": [
       "   user_id     distance   duration       date  month_ride\n",
       "0        1  4409.919140  25.599769 2021-01-01           1\n",
       "1        1  2617.592153  15.816871 2021-01-18           1\n",
       "2        1   754.159807   6.232113 2021-04-20           4\n",
       "3        1  2694.783254  18.511000 2021-08-11           8\n",
       "4        1  4028.687306  26.265803 2021-08-28           8"
      ]
     },
     "metadata": {},
     "output_type": "display_data"
    }
   ],
   "source": [
    "# Создадим новый столбец с номером месяца на основе столбца date\n",
    "rides['month_ride'] = pd.DatetimeIndex(rides['date']).month\n",
    "\n",
    "# Проверим, прошли ли изменения\n",
    "display(rides.head())"
   ]
  },
  {
   "cell_type": "markdown",
   "id": "f3a50151",
   "metadata": {},
   "source": [
    "Все изменения прошли, новый столбец отображается корректно."
   ]
  },
  {
   "cell_type": "markdown",
   "id": "212593c7",
   "metadata": {},
   "source": [
    "## Исследовательский анализ данных"
   ]
  },
  {
   "cell_type": "markdown",
   "id": "9249020a",
   "metadata": {},
   "source": [
    "### Частота встречаемости городов"
   ]
  },
  {
   "cell_type": "code",
   "execution_count": 9,
   "id": "f8c5cdbf",
   "metadata": {
    "scrolled": false
   },
   "outputs": [
    {
     "data": {
      "text/plain": [
       "city\n",
       "Пятигорск         226\n",
       "Екатеринбург      206\n",
       "Ростов-на-Дону    202\n",
       "Краснодар         196\n",
       "Сочи              192\n",
       "Омск              186\n",
       "Тюмень            185\n",
       "Москва            172\n",
       "Name: city, dtype: int64"
      ]
     },
     "metadata": {},
     "output_type": "display_data"
    },
    {
     "data": {
      "image/png": "[encoded data removed]",
      "text/plain": [
       "<Figure size 576x360 with 1 Axes>"
      ]
     },
     "metadata": {
      "needs_background": "light"
     },
     "output_type": "display_data"
    }
   ],
   "source": [
    "# Выведем на экран все уникальные значения городов с количеством встречаемости в датафрейме, отсортированные по убыванию\n",
    "display(users.groupby('city')['city'].count().sort_values(ascending=False))\n",
    "\n",
    "# Построем график\n",
    "users.groupby('city')['city'].count().plot(\n",
    "    x='city', \n",
    "    kind='bar', \n",
    "    title='Частота встречаемости городов', \n",
    "    xlabel='Города', \n",
    "    ylabel='Частота', \n",
    "    figsize=(8, 5), \n",
    "    grid=True, \n",
    "    ec='black'\n",
    ");\n",
    "plt.show()"
   ]
  },
  {
   "cell_type": "markdown",
   "id": "5fcf37e9",
   "metadata": {},
   "source": [
    "<div class=\"alert alert-danger\">\n",
    "<b>Комментарий ревьюера:</b>☁️\n",
    "\n",
    "Прошу нанести на графики подписи осей, добавить заголовок. Чтобы разобраться с подписями рекомендую вот [эту статью](https://devpractice.ru/matplotlib-lesson-3-3-text-elements/)\n",
    "\n",
    "    \n",
    "    \n",
    "</div>"
   ]
  },
  {
   "cell_type": "markdown",
   "id": "d8e9afa3",
   "metadata": {},
   "source": [
    "<div class=\"alert alert-info\"> <b>Комментарий студента:</b> \n",
    "\n",
    "Большое спасибо за ссылку! Добавила на этот и все последующие графики.\n",
    "    \n",
    "</div>"
   ]
  },
  {
   "cell_type": "markdown",
   "id": "51b0a367",
   "metadata": {},
   "source": [
    "<div class=\"alert alert-success\">\n",
    "<b>Комментарий ревьюера v2:</b>☀️\n",
    "   \n",
    "\n",
    "Отлично, это будет важно и ревьюерам следующих проектов. Ещё хорошо сортировать значения на столбчатой диаграмме, так информацию с графика считывать легче\n",
    "</div>"
   ]
  },
  {
   "cell_type": "markdown",
   "id": "79fe9575",
   "metadata": {},
   "source": [
    "Наибольшее число пользователей сервиса - из Пятигорска. Наименьшее - из Москвы. Возможно, это связано с высокой конкуренцией в Москве или недавней датой появления сервиса в этом городе."
   ]
  },
  {
   "cell_type": "markdown",
   "id": "1144a950",
   "metadata": {},
   "source": [
    "### Соотношение пользователей с подпиской и без подписки"
   ]
  },
  {
   "cell_type": "code",
   "execution_count": 10,
   "id": "2d9a5083",
   "metadata": {},
   "outputs": [
    {
     "data": {
      "text/html": [
       "<div>\n",
       "<style scoped>\n",
       "    .dataframe tbody tr th:only-of-type {\n",
       "        vertical-align: middle;\n",
       "    }\n",
       "\n",
       "    .dataframe tbody tr th {\n",
       "        vertical-align: top;\n",
       "    }\n",
       "\n",
       "    .dataframe thead th {\n",
       "        text-align: right;\n",
       "    }\n",
       "</style>\n",
       "<table border=\"1\" class=\"dataframe\">\n",
       "  <thead>\n",
       "    <tr style=\"text-align: right;\">\n",
       "      <th></th>\n",
       "      <th>subscription</th>\n",
       "      <th>counts</th>\n",
       "      <th>relation</th>\n",
       "    </tr>\n",
       "  </thead>\n",
       "  <tbody>\n",
       "    <tr>\n",
       "      <th>0</th>\n",
       "      <td>free</td>\n",
       "      <td>846</td>\n",
       "      <td>0.540575</td>\n",
       "    </tr>\n",
       "    <tr>\n",
       "      <th>1</th>\n",
       "      <td>ultra</td>\n",
       "      <td>719</td>\n",
       "      <td>0.459425</td>\n",
       "    </tr>\n",
       "  </tbody>\n",
       "</table>\n",
       "</div>"
      ],
      "text/plain": [
       "  subscription  counts  relation\n",
       "0         free     846  0.540575\n",
       "1        ultra     719  0.459425"
      ]
     },
     "metadata": {},
     "output_type": "display_data"
    },
    {
     "data": {
      "image/png": "[encoded data removed]",
      "text/plain": [
       "<Figure size 432x288 with 1 Axes>"
      ]
     },
     "metadata": {},
     "output_type": "display_data"
    }
   ],
   "source": [
    "# Выведем на экран все уникальные значения в столбце 'subscription_type' и их количество методом value_counts() (для разнообразия)\n",
    "users_subscription_relation = users['subscription_type'].value_counts().rename_axis('subscription').reset_index(name='counts')\n",
    "users_subscription_relation['relation'] = users_subscription_relation['counts'] / (users_subscription_relation['counts'].sum())\n",
    "display(users_subscription_relation)\n",
    "\n",
    "# Построем график\n",
    "users_subscription_relation['relation'].plot(\n",
    "    kind='pie',\n",
    "    labels=users_subscription_relation['subscription'],\n",
    "    title='Соотношение пользователей с подпиской и без подписки', \n",
    "    autopct='%1.2f%%',\n",
    "    ylabel='',\n",
    ");\n",
    "plt.show()"
   ]
  },
  {
   "cell_type": "markdown",
   "id": "78c0dc71",
   "metadata": {},
   "source": [
    "<div class=\"alert alert-success\">\n",
    "<b>Комментарий ревьюера:</b>☀️\n",
    "    \n",
    "Рекомендую параметр `autopct`, позволяет добавить подписи секторов на график, отлично смотрится!"
   ]
  },
  {
   "cell_type": "markdown",
   "id": "2e666f46",
   "metadata": {},
   "source": [
    "<div class=\"alert alert-info\"> <b>Комментарий студента:</b> \n",
    "\n",
    "Спасибо! Добавила\n",
    "    \n",
    "</div>"
   ]
  },
  {
   "cell_type": "markdown",
   "id": "8c32dc54",
   "metadata": {},
   "source": [
    "<div class=\"alert alert-success\">\n",
    "<b>Комментарий ревьюера v2:</b>☀️\n",
    "   \n",
    "\n",
    "Благодарю за повышение информативности\n",
    "</div>"
   ]
  },
  {
   "cell_type": "markdown",
   "id": "4cbfad29",
   "metadata": {},
   "source": [
    "Мы наглядно видим, что количество пользователей с подпиской ultra и без подписки - почти одинаковое. Пользователей без подписки незначительно, но больше."
   ]
  },
  {
   "cell_type": "markdown",
   "id": "81bfd45f",
   "metadata": {},
   "source": [
    "### Возраст пользователей"
   ]
  },
  {
   "cell_type": "code",
   "execution_count": 11,
   "id": "ad601d6c",
   "metadata": {},
   "outputs": [
    {
     "data": {
      "text/plain": [
       "count    1565.000000\n",
       "mean       24.922045\n",
       "std         4.553496\n",
       "min        12.000000\n",
       "25%        22.000000\n",
       "50%        25.000000\n",
       "75%        28.000000\n",
       "max        43.000000\n",
       "Name: age, dtype: float64"
      ]
     },
     "execution_count": 11,
     "metadata": {},
     "output_type": "execute_result"
    }
   ],
   "source": [
    "# Сначала выведем общую информацию из этого столбца, чтобы определить возрастные промежутки для дальнейшей категоризации\n",
    "users['age'].describe()"
   ]
  },
  {
   "cell_type": "markdown",
   "id": "1de51986",
   "metadata": {},
   "source": [
    "Средний возраст пользователей - 25 лет. Минимальный возрат - 12 лет, максимальный - 43.\n",
    "\n",
    "Разделим данные на четыре группировки: \n",
    "- до 18 лет не включительно (дети)\n",
    "- от 18 до 24 (студенты)\n",
    "- от 25 до 29 (молодежь)\n",
    "- 30 и более (взрослые)"
   ]
  },
  {
   "cell_type": "code",
   "execution_count": 12,
   "id": "cea77de8",
   "metadata": {},
   "outputs": [
    {
     "data": {
      "text/html": [
       "<div>\n",
       "<style scoped>\n",
       "    .dataframe tbody tr th:only-of-type {\n",
       "        vertical-align: middle;\n",
       "    }\n",
       "\n",
       "    .dataframe tbody tr th {\n",
       "        vertical-align: top;\n",
       "    }\n",
       "\n",
       "    .dataframe thead th {\n",
       "        text-align: right;\n",
       "    }\n",
       "</style>\n",
       "<table border=\"1\" class=\"dataframe\">\n",
       "  <thead>\n",
       "    <tr style=\"text-align: right;\">\n",
       "      <th></th>\n",
       "      <th>age_group</th>\n",
       "      <th>counts</th>\n",
       "    </tr>\n",
       "  </thead>\n",
       "  <tbody>\n",
       "    <tr>\n",
       "      <th>0</th>\n",
       "      <td>от 18 до 24</td>\n",
       "      <td>646</td>\n",
       "    </tr>\n",
       "    <tr>\n",
       "      <th>1</th>\n",
       "      <td>от 25 до 29</td>\n",
       "      <td>594</td>\n",
       "    </tr>\n",
       "    <tr>\n",
       "      <th>2</th>\n",
       "      <td>30 и более</td>\n",
       "      <td>246</td>\n",
       "    </tr>\n",
       "    <tr>\n",
       "      <th>3</th>\n",
       "      <td>до 18</td>\n",
       "      <td>79</td>\n",
       "    </tr>\n",
       "  </tbody>\n",
       "</table>\n",
       "</div>"
      ],
      "text/plain": [
       "     age_group  counts\n",
       "0  от 18 до 24     646\n",
       "1  от 25 до 29     594\n",
       "2   30 и более     246\n",
       "3        до 18      79"
      ]
     },
     "metadata": {},
     "output_type": "display_data"
    },
    {
     "data": {
      "image/png": "[encoded data removed]",
      "text/plain": [
       "<Figure size 432x288 with 1 Axes>"
      ]
     },
     "metadata": {},
     "output_type": "display_data"
    }
   ],
   "source": [
    "# Создадим функцию для категоризации возраста\n",
    "def age_group(age):\n",
    "    if age < 18:\n",
    "        return 'до 18'\n",
    "    if 18 <= age < 25:\n",
    "        return 'от 18 до 24'\n",
    "    if 25 <= age < 30:\n",
    "        return 'от 25 до 29'\n",
    "    if age >= 30:\n",
    "        return '30 и более'\n",
    "\n",
    "# Применим функцию age_group к столбцу 'age' датафрейма 'users'\n",
    "users['age_group'] = users['age'].apply(age_group)\n",
    "\n",
    "# Посчитаем количество пользователей в каждой возрастной категории\n",
    "users_age_group = users['age_group'].value_counts().rename_axis('age_group').reset_index(name='counts')\n",
    "display(users_age_group)\n",
    "\n",
    "# Построем график\n",
    "users_age_group['counts'].plot(\n",
    "    kind='pie',\n",
    "    labels=users_age_group['age_group'],\n",
    "    title='Соотношение пользователей по возрасту', \n",
    "    autopct='%1.2f%%',\n",
    "    ylabel='',\n",
    ");\n",
    "plt.show()"
   ]
  },
  {
   "cell_type": "markdown",
   "id": "8b7e0f04",
   "metadata": {},
   "source": [
    "<div class=\"alert alert-warning\">\n",
    "<b>Комментарий ревьюера:</b>⛅️ \n",
    "\n",
    "А зачем делишь набор значений на отдельные диапазоны?\n",
    "</div>"
   ]
  },
  {
   "cell_type": "markdown",
   "id": "2a109307",
   "metadata": {},
   "source": [
    "<div class=\"alert alert-info\"> <b>Комментарий студента:</b> \n",
    "\n",
    "Так по категориям проще понимать, к какой группе относятся пользователи (подростки / студенты и т.д.), т.к. у них схожее поведение и по категориям проще анализировать. Но если не нужно - могу переделать!\n",
    "    \n",
    "</div>"
   ]
  },
  {
   "cell_type": "markdown",
   "id": "5635ad1c",
   "metadata": {},
   "source": [
    "<div class=\"alert alert-success\">\n",
    "<b>Комментарий ревьюера v2:</b>☀️\n",
    "   \n",
    "Идея понятна, просто и здесь и в дистанции и во времени поездок появились дополнительныые диапазоны и было интересно почему так\n",
    "\n",
    "</div>"
   ]
  },
  {
   "cell_type": "markdown",
   "id": "11940f93",
   "metadata": {},
   "source": [
    "В основном сервисом пользуются студенты и молодежь: примерно одинаковое количество пользователей в возрастных категориях от 18 до 24 и от 25 до 29 лет."
   ]
  },
  {
   "cell_type": "markdown",
   "id": "000efe29",
   "metadata": {},
   "source": [
    "### Расстояние, которое пользователь преодолел за одну поездку"
   ]
  },
  {
   "cell_type": "code",
   "execution_count": 13,
   "id": "c12422cf",
   "metadata": {
    "scrolled": false
   },
   "outputs": [
    {
     "data": {
      "text/plain": [
       "count    18068.000000\n",
       "mean      3070.659976\n",
       "std       1116.831209\n",
       "min          0.855683\n",
       "25%       2543.226360\n",
       "50%       3133.609994\n",
       "75%       3776.222735\n",
       "max       7211.007745\n",
       "Name: distance, dtype: float64"
      ]
     },
     "execution_count": 13,
     "metadata": {},
     "output_type": "execute_result"
    }
   ],
   "source": [
    "# Сначала выведем общую информацию из этого столбца 'distance' датафрейма 'rides', чтобы определить промежутки для дальнейшей категоризации\n",
    "rides['distance'].describe()"
   ]
  },
  {
   "cell_type": "markdown",
   "id": "9a552fbe",
   "metadata": {},
   "source": [
    "Самая короткая поездка - 850 м, самая дальняя - 7 км. В среднем пользователи берут самокат для поездок на 3 км, основной коридор - от 2.5 до 3.5 км.\n",
    "\n",
    "Разделим поездки на категории:\n",
    "- до 1 км\n",
    "- от 1 до 2 км\n",
    "- от 2 до 3 км\n",
    "- от 3 до 4 км\n",
    "- от 4 км"
   ]
  },
  {
   "cell_type": "code",
   "execution_count": 14,
   "id": "56a26c9b",
   "metadata": {
    "scrolled": false
   },
   "outputs": [
    {
     "data": {
      "text/html": [
       "<div>\n",
       "<style scoped>\n",
       "    .dataframe tbody tr th:only-of-type {\n",
       "        vertical-align: middle;\n",
       "    }\n",
       "\n",
       "    .dataframe tbody tr th {\n",
       "        vertical-align: top;\n",
       "    }\n",
       "\n",
       "    .dataframe thead th {\n",
       "        text-align: right;\n",
       "    }\n",
       "</style>\n",
       "<table border=\"1\" class=\"dataframe\">\n",
       "  <thead>\n",
       "    <tr style=\"text-align: right;\">\n",
       "      <th></th>\n",
       "      <th>distance_group</th>\n",
       "      <th>counts</th>\n",
       "    </tr>\n",
       "  </thead>\n",
       "  <tbody>\n",
       "    <tr>\n",
       "      <th>0</th>\n",
       "      <td>от 3 до 4 км</td>\n",
       "      <td>6698</td>\n",
       "    </tr>\n",
       "    <tr>\n",
       "      <th>1</th>\n",
       "      <td>от 2 до 3 км</td>\n",
       "      <td>5540</td>\n",
       "    </tr>\n",
       "    <tr>\n",
       "      <th>2</th>\n",
       "      <td>от 4 км</td>\n",
       "      <td>3478</td>\n",
       "    </tr>\n",
       "    <tr>\n",
       "      <th>3</th>\n",
       "      <td>до 1 км</td>\n",
       "      <td>1372</td>\n",
       "    </tr>\n",
       "    <tr>\n",
       "      <th>4</th>\n",
       "      <td>от 1 до 2 км</td>\n",
       "      <td>980</td>\n",
       "    </tr>\n",
       "  </tbody>\n",
       "</table>\n",
       "</div>"
      ],
      "text/plain": [
       "  distance_group  counts\n",
       "0   от 3 до 4 км    6698\n",
       "1   от 2 до 3 км    5540\n",
       "2        от 4 км    3478\n",
       "3        до 1 км    1372\n",
       "4   от 1 до 2 км     980"
      ]
     },
     "metadata": {},
     "output_type": "display_data"
    },
    {
     "data": {
      "image/png": "[encoded data removed]",
      "text/plain": [
       "<Figure size 432x288 with 1 Axes>"
      ]
     },
     "metadata": {},
     "output_type": "display_data"
    }
   ],
   "source": [
    "# Создадим функцию для категоризации дистанции всех поездок\n",
    "def distance_group(distance):\n",
    "    if distance < 1000:\n",
    "        return 'до 1 км'\n",
    "    if 1000 <= distance < 2000:\n",
    "        return 'от 1 до 2 км'\n",
    "    if 2000 <= distance < 3000:\n",
    "        return 'от 2 до 3 км'\n",
    "    if 3000 <= distance < 4000:\n",
    "        return 'от 3 до 4 км'\n",
    "    if distance >= 4000:\n",
    "        return 'от 4 км'\n",
    "\n",
    "# Применим функцию distance_group к столбцу 'distance' датафрейма 'rides'\n",
    "rides['distance_group'] = rides['distance'].apply(distance_group)\n",
    "\n",
    "# Посчитаем количество поездок в каждой категории дистанций\n",
    "rides_distance_group = rides['distance_group'].value_counts().rename_axis('distance_group').reset_index(name='counts')\n",
    "display(rides_distance_group)\n",
    "\n",
    "# Построем график\n",
    "rides_distance_group['counts'].plot(\n",
    "    kind='pie', \n",
    "    labels=rides_distance_group['distance_group'],\n",
    "    title='Расстояние, которое пользователь преодолел за одну поездку', \n",
    "    autopct='%1.2f%%',\n",
    "    ylabel='',\n",
    ");\n",
    "plt.show()"
   ]
  },
  {
   "cell_type": "markdown",
   "id": "1cd99a53",
   "metadata": {},
   "source": [
    "<div class=\"alert alert-success\">\n",
    "<b>Комментарий ревьюера:</b>☀️\n",
    "    \n",
    "Для деления можно использовать методы `cut`, `qcut`, очень удобно"
   ]
  },
  {
   "cell_type": "markdown",
   "id": "d42a7251",
   "metadata": {},
   "source": [
    "Короткие поездки совершаются реже остальных. Если пользователи и берут самокат в аренду, то в основном для более длительных поездок: на 2-4 км."
   ]
  },
  {
   "cell_type": "markdown",
   "id": "61691c73",
   "metadata": {},
   "source": [
    "### Продолжительность поездок"
   ]
  },
  {
   "cell_type": "code",
   "execution_count": 15,
   "id": "45c964f6",
   "metadata": {
    "scrolled": false
   },
   "outputs": [
    {
     "name": "stdout",
     "output_type": "stream",
     "text": [
      "count    18068.000000\n",
      "mean        17.805011\n",
      "std          6.091051\n",
      "min          0.500000\n",
      "25%         13.597563\n",
      "50%         17.678395\n",
      "75%         21.724800\n",
      "max         40.823963\n",
      "Name: duration, dtype: float64\n"
     ]
    },
    {
     "data": {
      "image/png": "[encoded data removed]",
      "text/plain": [
       "<Figure size 432x288 with 1 Axes>"
      ]
     },
     "metadata": {
      "needs_background": "light"
     },
     "output_type": "display_data"
    }
   ],
   "source": [
    "# Выведем общую информацию столбца 'duration' датафрейма 'rides'\n",
    "print(rides['duration'].describe())\n",
    "\n",
    "# Построим диаграмму размаха для столбца 'duration'\n",
    "rides['duration'].plot(\n",
    "    kind='box',\n",
    "    title='Диаграмма продолжительности поездок',\n",
    "    ylabel='Продолжительность',\n",
    "    grid=True,\n",
    ");"
   ]
  },
  {
   "cell_type": "markdown",
   "id": "a1a65810",
   "metadata": {},
   "source": [
    "Минимальное значение - полминуты (30 секунд). Вероятно, кто-то просто пробовал сервис. Максимальная продолжительность поездки составила 40 минут. Но, исходя из графика, поездки более 34 минут скорее исключение. В среднем пользователи используют самокат в течение 17 минут."
   ]
  },
  {
   "cell_type": "markdown",
   "id": "18fd9e6c",
   "metadata": {},
   "source": [
    "<div class=\"alert alert-danger\">\n",
    "<b>Комментарий ревьюера:</b>☁️\n",
    "\n",
    "Красным, так как критически хочу обратить внимание на этот аспект.\n",
    "    \n",
    "Генерировать гипотезы, которые объясняют закономерности, аномалии - отличное стремление. Но если то, что ты предполагаешь можно проверить по имеющимся данным, то лучше сначала проверять, а потом утверждать, чтобы не подталкивать к неверным выводам.\n",
    "\n",
    "\n",
    "Здесь это про расстояние крайне коротких по времени поездок\n",
    "</div>"
   ]
  },
  {
   "cell_type": "markdown",
   "id": "0f335374",
   "metadata": {},
   "source": [
    "<div class=\"alert alert-info\"> <b>Комментарий студента:</b> \n",
    "\n",
    "Поняла! Новый вывод добавила ниже, строку с гипотезой удалила. Старый вывод оставила выше (на всякий случай).\n",
    "    \n",
    "</div>"
   ]
  },
  {
   "cell_type": "markdown",
   "id": "98dfb6bb",
   "metadata": {},
   "source": [
    "<div class=\"alert alert-success\">\n",
    "<b>Комментарий ревьюера v2:</b>☀️\n",
    "   \n",
    "Спасибо, можно было бы посмотреть на дистанции этих сверх коротких по времени поездок, там есть кое-что интересное\n",
    "\n",
    "</div>"
   ]
  },
  {
   "cell_type": "markdown",
   "id": "684d4169",
   "metadata": {},
   "source": [
    "Минимальная длительность поездки - полминуты (30 секунд). Максимальная продолжительность поездки составила 40 минут. Но, исходя из графика, поездки менее 1 минуты и более 34 минут скорее исключение. В среднем пользователи используют самокат в течение 17 минут."
   ]
  },
  {
   "cell_type": "markdown",
   "id": "4ef51331",
   "metadata": {},
   "source": [
    "## Объединение данных"
   ]
  },
  {
   "cell_type": "markdown",
   "id": "e39b19aa",
   "metadata": {},
   "source": [
    "### Объединие данных о пользователях, поездках и подписках"
   ]
  },
  {
   "cell_type": "code",
   "execution_count": 16,
   "id": "82fe4ae2",
   "metadata": {
    "scrolled": true
   },
   "outputs": [
    {
     "data": {
      "text/html": [
       "<div>\n",
       "<style scoped>\n",
       "    .dataframe tbody tr th:only-of-type {\n",
       "        vertical-align: middle;\n",
       "    }\n",
       "\n",
       "    .dataframe tbody tr th {\n",
       "        vertical-align: top;\n",
       "    }\n",
       "\n",
       "    .dataframe thead th {\n",
       "        text-align: right;\n",
       "    }\n",
       "</style>\n",
       "<table border=\"1\" class=\"dataframe\">\n",
       "  <thead>\n",
       "    <tr style=\"text-align: right;\">\n",
       "      <th></th>\n",
       "      <th>user_id</th>\n",
       "      <th>name</th>\n",
       "      <th>age</th>\n",
       "      <th>city</th>\n",
       "      <th>subscription_type</th>\n",
       "      <th>age_group</th>\n",
       "      <th>distance</th>\n",
       "      <th>duration</th>\n",
       "      <th>date</th>\n",
       "      <th>month_ride</th>\n",
       "      <th>distance_group</th>\n",
       "      <th>minute_price</th>\n",
       "      <th>start_ride_price</th>\n",
       "      <th>subscription_fee</th>\n",
       "    </tr>\n",
       "  </thead>\n",
       "  <tbody>\n",
       "    <tr>\n",
       "      <th>0</th>\n",
       "      <td>1</td>\n",
       "      <td>Кира</td>\n",
       "      <td>22</td>\n",
       "      <td>Тюмень</td>\n",
       "      <td>ultra</td>\n",
       "      <td>от 18 до 24</td>\n",
       "      <td>4409.919140</td>\n",
       "      <td>26.0</td>\n",
       "      <td>2021-01-01</td>\n",
       "      <td>1</td>\n",
       "      <td>от 4 км</td>\n",
       "      <td>6</td>\n",
       "      <td>0</td>\n",
       "      <td>199</td>\n",
       "    </tr>\n",
       "    <tr>\n",
       "      <th>1</th>\n",
       "      <td>1</td>\n",
       "      <td>Кира</td>\n",
       "      <td>22</td>\n",
       "      <td>Тюмень</td>\n",
       "      <td>ultra</td>\n",
       "      <td>от 18 до 24</td>\n",
       "      <td>2617.592153</td>\n",
       "      <td>16.0</td>\n",
       "      <td>2021-01-18</td>\n",
       "      <td>1</td>\n",
       "      <td>от 2 до 3 км</td>\n",
       "      <td>6</td>\n",
       "      <td>0</td>\n",
       "      <td>199</td>\n",
       "    </tr>\n",
       "    <tr>\n",
       "      <th>2</th>\n",
       "      <td>1</td>\n",
       "      <td>Кира</td>\n",
       "      <td>22</td>\n",
       "      <td>Тюмень</td>\n",
       "      <td>ultra</td>\n",
       "      <td>от 18 до 24</td>\n",
       "      <td>754.159807</td>\n",
       "      <td>7.0</td>\n",
       "      <td>2021-04-20</td>\n",
       "      <td>4</td>\n",
       "      <td>до 1 км</td>\n",
       "      <td>6</td>\n",
       "      <td>0</td>\n",
       "      <td>199</td>\n",
       "    </tr>\n",
       "    <tr>\n",
       "      <th>3</th>\n",
       "      <td>1</td>\n",
       "      <td>Кира</td>\n",
       "      <td>22</td>\n",
       "      <td>Тюмень</td>\n",
       "      <td>ultra</td>\n",
       "      <td>от 18 до 24</td>\n",
       "      <td>2694.783254</td>\n",
       "      <td>19.0</td>\n",
       "      <td>2021-08-11</td>\n",
       "      <td>8</td>\n",
       "      <td>от 2 до 3 км</td>\n",
       "      <td>6</td>\n",
       "      <td>0</td>\n",
       "      <td>199</td>\n",
       "    </tr>\n",
       "    <tr>\n",
       "      <th>4</th>\n",
       "      <td>1</td>\n",
       "      <td>Кира</td>\n",
       "      <td>22</td>\n",
       "      <td>Тюмень</td>\n",
       "      <td>ultra</td>\n",
       "      <td>от 18 до 24</td>\n",
       "      <td>4028.687306</td>\n",
       "      <td>27.0</td>\n",
       "      <td>2021-08-28</td>\n",
       "      <td>8</td>\n",
       "      <td>от 4 км</td>\n",
       "      <td>6</td>\n",
       "      <td>0</td>\n",
       "      <td>199</td>\n",
       "    </tr>\n",
       "    <tr>\n",
       "      <th>5</th>\n",
       "      <td>1</td>\n",
       "      <td>Кира</td>\n",
       "      <td>22</td>\n",
       "      <td>Тюмень</td>\n",
       "      <td>ultra</td>\n",
       "      <td>от 18 до 24</td>\n",
       "      <td>2770.890808</td>\n",
       "      <td>17.0</td>\n",
       "      <td>2021-10-09</td>\n",
       "      <td>10</td>\n",
       "      <td>от 2 до 3 км</td>\n",
       "      <td>6</td>\n",
       "      <td>0</td>\n",
       "      <td>199</td>\n",
       "    </tr>\n",
       "    <tr>\n",
       "      <th>6</th>\n",
       "      <td>1</td>\n",
       "      <td>Кира</td>\n",
       "      <td>22</td>\n",
       "      <td>Тюмень</td>\n",
       "      <td>ultra</td>\n",
       "      <td>от 18 до 24</td>\n",
       "      <td>3039.020292</td>\n",
       "      <td>15.0</td>\n",
       "      <td>2021-10-19</td>\n",
       "      <td>10</td>\n",
       "      <td>от 3 до 4 км</td>\n",
       "      <td>6</td>\n",
       "      <td>0</td>\n",
       "      <td>199</td>\n",
       "    </tr>\n",
       "    <tr>\n",
       "      <th>7</th>\n",
       "      <td>1</td>\n",
       "      <td>Кира</td>\n",
       "      <td>22</td>\n",
       "      <td>Тюмень</td>\n",
       "      <td>ultra</td>\n",
       "      <td>от 18 до 24</td>\n",
       "      <td>2842.118050</td>\n",
       "      <td>24.0</td>\n",
       "      <td>2021-11-06</td>\n",
       "      <td>11</td>\n",
       "      <td>от 2 до 3 км</td>\n",
       "      <td>6</td>\n",
       "      <td>0</td>\n",
       "      <td>199</td>\n",
       "    </tr>\n",
       "    <tr>\n",
       "      <th>8</th>\n",
       "      <td>1</td>\n",
       "      <td>Кира</td>\n",
       "      <td>22</td>\n",
       "      <td>Тюмень</td>\n",
       "      <td>ultra</td>\n",
       "      <td>от 18 до 24</td>\n",
       "      <td>3412.690668</td>\n",
       "      <td>16.0</td>\n",
       "      <td>2021-11-14</td>\n",
       "      <td>11</td>\n",
       "      <td>от 3 до 4 км</td>\n",
       "      <td>6</td>\n",
       "      <td>0</td>\n",
       "      <td>199</td>\n",
       "    </tr>\n",
       "    <tr>\n",
       "      <th>9</th>\n",
       "      <td>1</td>\n",
       "      <td>Кира</td>\n",
       "      <td>22</td>\n",
       "      <td>Тюмень</td>\n",
       "      <td>ultra</td>\n",
       "      <td>от 18 до 24</td>\n",
       "      <td>748.690645</td>\n",
       "      <td>16.0</td>\n",
       "      <td>2021-11-22</td>\n",
       "      <td>11</td>\n",
       "      <td>до 1 км</td>\n",
       "      <td>6</td>\n",
       "      <td>0</td>\n",
       "      <td>199</td>\n",
       "    </tr>\n",
       "    <tr>\n",
       "      <th>10</th>\n",
       "      <td>1</td>\n",
       "      <td>Кира</td>\n",
       "      <td>22</td>\n",
       "      <td>Тюмень</td>\n",
       "      <td>ultra</td>\n",
       "      <td>от 18 до 24</td>\n",
       "      <td>4031.020195</td>\n",
       "      <td>18.0</td>\n",
       "      <td>2021-12-14</td>\n",
       "      <td>12</td>\n",
       "      <td>от 4 км</td>\n",
       "      <td>6</td>\n",
       "      <td>0</td>\n",
       "      <td>199</td>\n",
       "    </tr>\n",
       "    <tr>\n",
       "      <th>11</th>\n",
       "      <td>1</td>\n",
       "      <td>Кира</td>\n",
       "      <td>22</td>\n",
       "      <td>Тюмень</td>\n",
       "      <td>ultra</td>\n",
       "      <td>от 18 до 24</td>\n",
       "      <td>2720.609748</td>\n",
       "      <td>10.0</td>\n",
       "      <td>2021-12-22</td>\n",
       "      <td>12</td>\n",
       "      <td>от 2 до 3 км</td>\n",
       "      <td>6</td>\n",
       "      <td>0</td>\n",
       "      <td>199</td>\n",
       "    </tr>\n",
       "    <tr>\n",
       "      <th>12</th>\n",
       "      <td>2</td>\n",
       "      <td>Станислав</td>\n",
       "      <td>31</td>\n",
       "      <td>Омск</td>\n",
       "      <td>ultra</td>\n",
       "      <td>30 и более</td>\n",
       "      <td>3105.086678</td>\n",
       "      <td>25.0</td>\n",
       "      <td>2021-03-15</td>\n",
       "      <td>3</td>\n",
       "      <td>от 3 до 4 км</td>\n",
       "      <td>6</td>\n",
       "      <td>0</td>\n",
       "      <td>199</td>\n",
       "    </tr>\n",
       "    <tr>\n",
       "      <th>13</th>\n",
       "      <td>2</td>\n",
       "      <td>Станислав</td>\n",
       "      <td>31</td>\n",
       "      <td>Омск</td>\n",
       "      <td>ultra</td>\n",
       "      <td>30 и более</td>\n",
       "      <td>3053.519401</td>\n",
       "      <td>12.0</td>\n",
       "      <td>2021-03-18</td>\n",
       "      <td>3</td>\n",
       "      <td>от 3 до 4 км</td>\n",
       "      <td>6</td>\n",
       "      <td>0</td>\n",
       "      <td>199</td>\n",
       "    </tr>\n",
       "    <tr>\n",
       "      <th>14</th>\n",
       "      <td>2</td>\n",
       "      <td>Станислав</td>\n",
       "      <td>31</td>\n",
       "      <td>Омск</td>\n",
       "      <td>ultra</td>\n",
       "      <td>30 и более</td>\n",
       "      <td>4029.116927</td>\n",
       "      <td>26.0</td>\n",
       "      <td>2021-03-23</td>\n",
       "      <td>3</td>\n",
       "      <td>от 4 км</td>\n",
       "      <td>6</td>\n",
       "      <td>0</td>\n",
       "      <td>199</td>\n",
       "    </tr>\n",
       "  </tbody>\n",
       "</table>\n",
       "</div>"
      ],
      "text/plain": [
       "    user_id       name  age    city subscription_type    age_group  \\\n",
       "0         1       Кира   22  Тюмень             ultra  от 18 до 24   \n",
       "1         1       Кира   22  Тюмень             ultra  от 18 до 24   \n",
       "2         1       Кира   22  Тюмень             ultra  от 18 до 24   \n",
       "3         1       Кира   22  Тюмень             ultra  от 18 до 24   \n",
       "4         1       Кира   22  Тюмень             ultra  от 18 до 24   \n",
       "5         1       Кира   22  Тюмень             ultra  от 18 до 24   \n",
       "6         1       Кира   22  Тюмень             ultra  от 18 до 24   \n",
       "7         1       Кира   22  Тюмень             ultra  от 18 до 24   \n",
       "8         1       Кира   22  Тюмень             ultra  от 18 до 24   \n",
       "9         1       Кира   22  Тюмень             ultra  от 18 до 24   \n",
       "10        1       Кира   22  Тюмень             ultra  от 18 до 24   \n",
       "11        1       Кира   22  Тюмень             ultra  от 18 до 24   \n",
       "12        2  Станислав   31    Омск             ultra   30 и более   \n",
       "13        2  Станислав   31    Омск             ultra   30 и более   \n",
       "14        2  Станислав   31    Омск             ultra   30 и более   \n",
       "\n",
       "       distance  duration       date  month_ride distance_group  minute_price  \\\n",
       "0   4409.919140      26.0 2021-01-01           1        от 4 км             6   \n",
       "1   2617.592153      16.0 2021-01-18           1   от 2 до 3 км             6   \n",
       "2    754.159807       7.0 2021-04-20           4        до 1 км             6   \n",
       "3   2694.783254      19.0 2021-08-11           8   от 2 до 3 км             6   \n",
       "4   4028.687306      27.0 2021-08-28           8        от 4 км             6   \n",
       "5   2770.890808      17.0 2021-10-09          10   от 2 до 3 км             6   \n",
       "6   3039.020292      15.0 2021-10-19          10   от 3 до 4 км             6   \n",
       "7   2842.118050      24.0 2021-11-06          11   от 2 до 3 км             6   \n",
       "8   3412.690668      16.0 2021-11-14          11   от 3 до 4 км             6   \n",
       "9    748.690645      16.0 2021-11-22          11        до 1 км             6   \n",
       "10  4031.020195      18.0 2021-12-14          12        от 4 км             6   \n",
       "11  2720.609748      10.0 2021-12-22          12   от 2 до 3 км             6   \n",
       "12  3105.086678      25.0 2021-03-15           3   от 3 до 4 км             6   \n",
       "13  3053.519401      12.0 2021-03-18           3   от 3 до 4 км             6   \n",
       "14  4029.116927      26.0 2021-03-23           3        от 4 км             6   \n",
       "\n",
       "    start_ride_price  subscription_fee  \n",
       "0                  0               199  \n",
       "1                  0               199  \n",
       "2                  0               199  \n",
       "3                  0               199  \n",
       "4                  0               199  \n",
       "5                  0               199  \n",
       "6                  0               199  \n",
       "7                  0               199  \n",
       "8                  0               199  \n",
       "9                  0               199  \n",
       "10                 0               199  \n",
       "11                 0               199  \n",
       "12                 0               199  \n",
       "13                 0               199  \n",
       "14                 0               199  "
      ]
     },
     "execution_count": 16,
     "metadata": {},
     "output_type": "execute_result"
    }
   ],
   "source": [
    "# Используем метод merge() для объединения датафреймов 'users' и 'rides'\n",
    "combined_df = users.merge(rides, on='user_id')\n",
    "\n",
    "# Проведем второе объединение: новосозданный 'combined_df' и 'subscriptions'\n",
    "combined_df = combined_df.merge(subscriptions, on='subscription_type')\n",
    "\n",
    "# Округлим значения продолжительности поездки\n",
    "combined_df['duration'] = np.ceil(combined_df['duration'])\n",
    "\n",
    "# Выведем на экран первые пять сторок, чтобы проверить объединение\n",
    "combined_df.head(15)"
   ]
  },
  {
   "cell_type": "markdown",
   "id": "6b5a2e59",
   "metadata": {},
   "source": [
    "<div class=\"alert alert-info\"> <b>Комментарий студента:</b> \n",
    "\n",
    "Ниже был комментарий о том, что необходимо добавить проверку, что после соединения таблиц не возникли пропуски, что размер объединенной таблице соответствует ожиданиям. Добавила сюда, т.к. ниже идет построение таблиц на основе этого датафрейма.\n",
    "    \n",
    "</div>"
   ]
  },
  {
   "cell_type": "markdown",
   "id": "fabf860d",
   "metadata": {},
   "source": [
    "<div class=\"alert alert-success\">\n",
    "<b>Комментарий ревьюера v2:</b>☀️\n",
    "   \n",
    "Всё оказалось в порядке по данным\n",
    "\n",
    "</div>"
   ]
  },
  {
   "cell_type": "code",
   "execution_count": 17,
   "id": "c513d46f",
   "metadata": {},
   "outputs": [
    {
     "name": "stdout",
     "output_type": "stream",
     "text": [
      "Найдено дубликатов: 320\n",
      "\n",
      "Найдено пропусков:\n",
      "user_id              0\n",
      "name                 0\n",
      "age                  0\n",
      "city                 0\n",
      "subscription_type    0\n",
      "age_group            0\n",
      "distance             0\n",
      "duration             0\n",
      "date                 0\n",
      "month_ride           0\n",
      "distance_group       0\n",
      "minute_price         0\n",
      "start_ride_price     0\n",
      "subscription_fee     0\n",
      "dtype: int64\n",
      "\n",
      "Размер таблицы: (18388, 14)\n"
     ]
    }
   ],
   "source": [
    "# Проверим полученный датафрейм на наличие дублткатов\n",
    "print(f'Найдено дубликатов: {combined_df.duplicated().sum()}')\n",
    "print()\n",
    "\n",
    "# Проверим полученный датафрейм на наличие пропусков\n",
    "print('Найдено пропусков:')\n",
    "print(combined_df.isna().sum())\n",
    "print()\n",
    "\n",
    "# Проверим размер таблицы\n",
    "print(f'Размер таблицы: {combined_df.shape}')"
   ]
  },
  {
   "cell_type": "markdown",
   "id": "74886e6a",
   "metadata": {},
   "source": [
    "В созданном датафрейме найдено 320 дубликатов. Также ожидалось, что количество строк будет составлять 18068 (по размеру исходного датафрейма `rides`), однако сейчас 18388 строк, что на 320 больше ожидаемого. Принимаем решение удалить 320 строк-дубликатов."
   ]
  },
  {
   "cell_type": "code",
   "execution_count": 18,
   "id": "5a927a5c",
   "metadata": {},
   "outputs": [
    {
     "name": "stdout",
     "output_type": "stream",
     "text": [
      "Найдено дубликатов: 0\n",
      "\n",
      "Размер таблицы: (18068, 14)\n"
     ]
    }
   ],
   "source": [
    "# Удалим дубликаты\n",
    "combined_df = combined_df.drop_duplicates().reset_index(drop=True)\n",
    "\n",
    "# Еще раз проверим датафрейм на наличие дублткатов\n",
    "print(f'Найдено дубликатов: {combined_df.duplicated().sum()}')\n",
    "print()\n",
    "\n",
    "# Еще раз проверим размер таблицы\n",
    "print(f'Размер таблицы: {combined_df.shape}')"
   ]
  },
  {
   "cell_type": "markdown",
   "id": "98d44c89",
   "metadata": {},
   "source": [
    "Объединение прошло успешно, теперь на каждую поездку есть данные о пользователе, который ее совершал, и типе подписке со стоимостями. Дубликатов, пропусков не найдено, размер таблицы соответствует ожидаемому."
   ]
  },
  {
   "cell_type": "markdown",
   "id": "5fd57006",
   "metadata": {},
   "source": [
    "### Датафреймы с данными о пользователях с подпиской и без"
   ]
  },
  {
   "cell_type": "markdown",
   "id": "7b99c7e6",
   "metadata": {},
   "source": [
    "#### Создание датафрейма с данными о пользователях без подписки"
   ]
  },
  {
   "cell_type": "code",
   "execution_count": 19,
   "id": "5b395b52",
   "metadata": {
    "scrolled": true
   },
   "outputs": [
    {
     "data": {
      "text/html": [
       "<div>\n",
       "<style scoped>\n",
       "    .dataframe tbody tr th:only-of-type {\n",
       "        vertical-align: middle;\n",
       "    }\n",
       "\n",
       "    .dataframe tbody tr th {\n",
       "        vertical-align: top;\n",
       "    }\n",
       "\n",
       "    .dataframe thead th {\n",
       "        text-align: right;\n",
       "    }\n",
       "</style>\n",
       "<table border=\"1\" class=\"dataframe\">\n",
       "  <thead>\n",
       "    <tr style=\"text-align: right;\">\n",
       "      <th></th>\n",
       "      <th>user_id</th>\n",
       "      <th>name</th>\n",
       "      <th>age</th>\n",
       "      <th>city</th>\n",
       "      <th>subscription_type</th>\n",
       "      <th>age_group</th>\n",
       "      <th>free_subscription_distance</th>\n",
       "      <th>free_subscription_duration</th>\n",
       "      <th>date</th>\n",
       "      <th>month_ride</th>\n",
       "      <th>distance_group</th>\n",
       "      <th>minute_price</th>\n",
       "      <th>start_ride_price</th>\n",
       "      <th>subscription_fee</th>\n",
       "    </tr>\n",
       "  </thead>\n",
       "  <tbody>\n",
       "    <tr>\n",
       "      <th>6500</th>\n",
       "      <td>700</td>\n",
       "      <td>Айдар</td>\n",
       "      <td>22</td>\n",
       "      <td>Омск</td>\n",
       "      <td>free</td>\n",
       "      <td>от 18 до 24</td>\n",
       "      <td>2515.690719</td>\n",
       "      <td>15.0</td>\n",
       "      <td>2021-01-02</td>\n",
       "      <td>1</td>\n",
       "      <td>от 2 до 3 км</td>\n",
       "      <td>8</td>\n",
       "      <td>50</td>\n",
       "      <td>0</td>\n",
       "    </tr>\n",
       "    <tr>\n",
       "      <th>6501</th>\n",
       "      <td>700</td>\n",
       "      <td>Айдар</td>\n",
       "      <td>22</td>\n",
       "      <td>Омск</td>\n",
       "      <td>free</td>\n",
       "      <td>от 18 до 24</td>\n",
       "      <td>846.932642</td>\n",
       "      <td>17.0</td>\n",
       "      <td>2021-02-01</td>\n",
       "      <td>2</td>\n",
       "      <td>до 1 км</td>\n",
       "      <td>8</td>\n",
       "      <td>50</td>\n",
       "      <td>0</td>\n",
       "    </tr>\n",
       "    <tr>\n",
       "      <th>6502</th>\n",
       "      <td>700</td>\n",
       "      <td>Айдар</td>\n",
       "      <td>22</td>\n",
       "      <td>Омск</td>\n",
       "      <td>free</td>\n",
       "      <td>от 18 до 24</td>\n",
       "      <td>4004.434142</td>\n",
       "      <td>21.0</td>\n",
       "      <td>2021-02-04</td>\n",
       "      <td>2</td>\n",
       "      <td>от 4 км</td>\n",
       "      <td>8</td>\n",
       "      <td>50</td>\n",
       "      <td>0</td>\n",
       "    </tr>\n",
       "    <tr>\n",
       "      <th>6503</th>\n",
       "      <td>700</td>\n",
       "      <td>Айдар</td>\n",
       "      <td>22</td>\n",
       "      <td>Омск</td>\n",
       "      <td>free</td>\n",
       "      <td>от 18 до 24</td>\n",
       "      <td>1205.911290</td>\n",
       "      <td>10.0</td>\n",
       "      <td>2021-02-10</td>\n",
       "      <td>2</td>\n",
       "      <td>от 1 до 2 км</td>\n",
       "      <td>8</td>\n",
       "      <td>50</td>\n",
       "      <td>0</td>\n",
       "    </tr>\n",
       "    <tr>\n",
       "      <th>6504</th>\n",
       "      <td>700</td>\n",
       "      <td>Айдар</td>\n",
       "      <td>22</td>\n",
       "      <td>Омск</td>\n",
       "      <td>free</td>\n",
       "      <td>от 18 до 24</td>\n",
       "      <td>3047.379435</td>\n",
       "      <td>18.0</td>\n",
       "      <td>2021-02-14</td>\n",
       "      <td>2</td>\n",
       "      <td>от 3 до 4 км</td>\n",
       "      <td>8</td>\n",
       "      <td>50</td>\n",
       "      <td>0</td>\n",
       "    </tr>\n",
       "  </tbody>\n",
       "</table>\n",
       "</div>"
      ],
      "text/plain": [
       "      user_id   name  age  city subscription_type    age_group  \\\n",
       "6500      700  Айдар   22  Омск              free  от 18 до 24   \n",
       "6501      700  Айдар   22  Омск              free  от 18 до 24   \n",
       "6502      700  Айдар   22  Омск              free  от 18 до 24   \n",
       "6503      700  Айдар   22  Омск              free  от 18 до 24   \n",
       "6504      700  Айдар   22  Омск              free  от 18 до 24   \n",
       "\n",
       "      free_subscription_distance  free_subscription_duration       date  \\\n",
       "6500                 2515.690719                        15.0 2021-01-02   \n",
       "6501                  846.932642                        17.0 2021-02-01   \n",
       "6502                 4004.434142                        21.0 2021-02-04   \n",
       "6503                 1205.911290                        10.0 2021-02-10   \n",
       "6504                 3047.379435                        18.0 2021-02-14   \n",
       "\n",
       "      month_ride distance_group  minute_price  start_ride_price  \\\n",
       "6500           1   от 2 до 3 км             8                50   \n",
       "6501           2        до 1 км             8                50   \n",
       "6502           2        от 4 км             8                50   \n",
       "6503           2   от 1 до 2 км             8                50   \n",
       "6504           2   от 3 до 4 км             8                50   \n",
       "\n",
       "      subscription_fee  \n",
       "6500                 0  \n",
       "6501                 0  \n",
       "6502                 0  \n",
       "6503                 0  \n",
       "6504                 0  "
      ]
     },
     "metadata": {},
     "output_type": "display_data"
    }
   ],
   "source": [
    "# Используем метод query() для создания среза данных с типом подписки 'free'\n",
    "free_subscription_users = combined_df.query('subscription_type == \"free\"')\n",
    "\n",
    "# Для дальнейшего построения графиков переименуем столбцы 'distance' и 'duration'\n",
    "free_subscription_users = free_subscription_users.rename(columns={\n",
    "    'distance': 'free_subscription_distance',\n",
    "    'duration': 'free_subscription_duration'\n",
    "})\n",
    "\n",
    "# Проверим полученый датасет\n",
    "display(free_subscription_users.head())"
   ]
  },
  {
   "cell_type": "markdown",
   "id": "ac1324e8",
   "metadata": {},
   "source": [
    "<div class=\"alert alert-danger\">\n",
    "<b>Комментарий ревьюера:</b>☁️\n",
    "\n",
    "Прошу ещё добавить проверку, что после соединения таблиц не возникли пропуски, что размер объъединенной таблице соответствует ожиданиям\n",
    "\n",
    "</div>"
   ]
  },
  {
   "cell_type": "markdown",
   "id": "6642d844",
   "metadata": {},
   "source": [
    "<div class=\"alert alert-info\"> <b>Комментарий студента:</b> \n",
    "\n",
    "Добавила строки кода выше, в п 4.1 (упоминала этот комментарий).\n",
    "    \n",
    "</div>"
   ]
  },
  {
   "cell_type": "markdown",
   "id": "800ba919",
   "metadata": {},
   "source": [
    "#### Создание датафрейма с данными о пользователях с подпиской"
   ]
  },
  {
   "cell_type": "code",
   "execution_count": 20,
   "id": "d4f0c531",
   "metadata": {
    "scrolled": true
   },
   "outputs": [
    {
     "data": {
      "text/html": [
       "<div>\n",
       "<style scoped>\n",
       "    .dataframe tbody tr th:only-of-type {\n",
       "        vertical-align: middle;\n",
       "    }\n",
       "\n",
       "    .dataframe tbody tr th {\n",
       "        vertical-align: top;\n",
       "    }\n",
       "\n",
       "    .dataframe thead th {\n",
       "        text-align: right;\n",
       "    }\n",
       "</style>\n",
       "<table border=\"1\" class=\"dataframe\">\n",
       "  <thead>\n",
       "    <tr style=\"text-align: right;\">\n",
       "      <th></th>\n",
       "      <th>user_id</th>\n",
       "      <th>name</th>\n",
       "      <th>age</th>\n",
       "      <th>city</th>\n",
       "      <th>subscription_type</th>\n",
       "      <th>age_group</th>\n",
       "      <th>ultra_subscription_distance</th>\n",
       "      <th>ultra_subscription_duration</th>\n",
       "      <th>date</th>\n",
       "      <th>month_ride</th>\n",
       "      <th>distance_group</th>\n",
       "      <th>minute_price</th>\n",
       "      <th>start_ride_price</th>\n",
       "      <th>subscription_fee</th>\n",
       "    </tr>\n",
       "  </thead>\n",
       "  <tbody>\n",
       "    <tr>\n",
       "      <th>0</th>\n",
       "      <td>1</td>\n",
       "      <td>Кира</td>\n",
       "      <td>22</td>\n",
       "      <td>Тюмень</td>\n",
       "      <td>ultra</td>\n",
       "      <td>от 18 до 24</td>\n",
       "      <td>4409.919140</td>\n",
       "      <td>26.0</td>\n",
       "      <td>2021-01-01</td>\n",
       "      <td>1</td>\n",
       "      <td>от 4 км</td>\n",
       "      <td>6</td>\n",
       "      <td>0</td>\n",
       "      <td>199</td>\n",
       "    </tr>\n",
       "    <tr>\n",
       "      <th>1</th>\n",
       "      <td>1</td>\n",
       "      <td>Кира</td>\n",
       "      <td>22</td>\n",
       "      <td>Тюмень</td>\n",
       "      <td>ultra</td>\n",
       "      <td>от 18 до 24</td>\n",
       "      <td>2617.592153</td>\n",
       "      <td>16.0</td>\n",
       "      <td>2021-01-18</td>\n",
       "      <td>1</td>\n",
       "      <td>от 2 до 3 км</td>\n",
       "      <td>6</td>\n",
       "      <td>0</td>\n",
       "      <td>199</td>\n",
       "    </tr>\n",
       "    <tr>\n",
       "      <th>2</th>\n",
       "      <td>1</td>\n",
       "      <td>Кира</td>\n",
       "      <td>22</td>\n",
       "      <td>Тюмень</td>\n",
       "      <td>ultra</td>\n",
       "      <td>от 18 до 24</td>\n",
       "      <td>754.159807</td>\n",
       "      <td>7.0</td>\n",
       "      <td>2021-04-20</td>\n",
       "      <td>4</td>\n",
       "      <td>до 1 км</td>\n",
       "      <td>6</td>\n",
       "      <td>0</td>\n",
       "      <td>199</td>\n",
       "    </tr>\n",
       "    <tr>\n",
       "      <th>3</th>\n",
       "      <td>1</td>\n",
       "      <td>Кира</td>\n",
       "      <td>22</td>\n",
       "      <td>Тюмень</td>\n",
       "      <td>ultra</td>\n",
       "      <td>от 18 до 24</td>\n",
       "      <td>2694.783254</td>\n",
       "      <td>19.0</td>\n",
       "      <td>2021-08-11</td>\n",
       "      <td>8</td>\n",
       "      <td>от 2 до 3 км</td>\n",
       "      <td>6</td>\n",
       "      <td>0</td>\n",
       "      <td>199</td>\n",
       "    </tr>\n",
       "    <tr>\n",
       "      <th>4</th>\n",
       "      <td>1</td>\n",
       "      <td>Кира</td>\n",
       "      <td>22</td>\n",
       "      <td>Тюмень</td>\n",
       "      <td>ultra</td>\n",
       "      <td>от 18 до 24</td>\n",
       "      <td>4028.687306</td>\n",
       "      <td>27.0</td>\n",
       "      <td>2021-08-28</td>\n",
       "      <td>8</td>\n",
       "      <td>от 4 км</td>\n",
       "      <td>6</td>\n",
       "      <td>0</td>\n",
       "      <td>199</td>\n",
       "    </tr>\n",
       "  </tbody>\n",
       "</table>\n",
       "</div>"
      ],
      "text/plain": [
       "   user_id  name  age    city subscription_type    age_group  \\\n",
       "0        1  Кира   22  Тюмень             ultra  от 18 до 24   \n",
       "1        1  Кира   22  Тюмень             ultra  от 18 до 24   \n",
       "2        1  Кира   22  Тюмень             ultra  от 18 до 24   \n",
       "3        1  Кира   22  Тюмень             ultra  от 18 до 24   \n",
       "4        1  Кира   22  Тюмень             ultra  от 18 до 24   \n",
       "\n",
       "   ultra_subscription_distance  ultra_subscription_duration       date  \\\n",
       "0                  4409.919140                         26.0 2021-01-01   \n",
       "1                  2617.592153                         16.0 2021-01-18   \n",
       "2                   754.159807                          7.0 2021-04-20   \n",
       "3                  2694.783254                         19.0 2021-08-11   \n",
       "4                  4028.687306                         27.0 2021-08-28   \n",
       "\n",
       "   month_ride distance_group  minute_price  start_ride_price  subscription_fee  \n",
       "0           1        от 4 км             6                 0               199  \n",
       "1           1   от 2 до 3 км             6                 0               199  \n",
       "2           4        до 1 км             6                 0               199  \n",
       "3           8   от 2 до 3 км             6                 0               199  \n",
       "4           8        от 4 км             6                 0               199  "
      ]
     },
     "execution_count": 20,
     "metadata": {},
     "output_type": "execute_result"
    }
   ],
   "source": [
    "# Используем метод query() для создания среза данных с типом подписки 'ultra'\n",
    "ultra_subscription_users = combined_df.query('subscription_type == \"ultra\"')\n",
    "\n",
    "\n",
    "# Для дальнейшего построения графиков переименуем столбцы 'distance' и 'duration'\n",
    "ultra_subscription_users = ultra_subscription_users.rename(columns={\n",
    "    'distance': 'ultra_subscription_distance',\n",
    "    'duration': 'ultra_subscription_duration'\n",
    "})\n",
    "\n",
    "# Проверим полученый датасет\n",
    "ultra_subscription_users.head()"
   ]
  },
  {
   "cell_type": "markdown",
   "id": "38f48a89",
   "metadata": {},
   "source": [
    "#### Анализ информации о расстоянии поездок для пользователей обеих категорий"
   ]
  },
  {
   "cell_type": "code",
   "execution_count": 21,
   "id": "18c42cec",
   "metadata": {
    "scrolled": false
   },
   "outputs": [
    {
     "name": "stdout",
     "output_type": "stream",
     "text": [
      "Информация о расстоянии поездок пользователей без подписки:\n",
      "count    11568.000000\n",
      "mean      3045.495282\n",
      "std       1246.173806\n",
      "min          0.855683\n",
      "25%       2366.562689\n",
      "50%       3114.648465\n",
      "75%       3905.697894\n",
      "max       7211.007745\n",
      "Name: free_subscription_distance, dtype: float64\n",
      "\n",
      "Информация о расстоянии поездок пользователей с подпиской ultra:\n",
      "count    6500.000000\n",
      "mean     3115.445388\n",
      "std       836.895330\n",
      "min       244.210438\n",
      "25%      2785.444017\n",
      "50%      3148.637229\n",
      "75%      3560.574425\n",
      "max      5699.769662\n",
      "Name: ultra_subscription_distance, dtype: float64\n"
     ]
    },
    {
     "data": {
      "image/png": "[encoded data removed]",
      "text/plain": [
       "<Figure size 720x360 with 1 Axes>"
      ]
     },
     "metadata": {
      "needs_background": "light"
     },
     "output_type": "display_data"
    }
   ],
   "source": [
    "# Выведем общую информацию для столбца 'distance'\n",
    "print('Информация о расстоянии поездок пользователей без подписки:')\n",
    "print(free_subscription_users['free_subscription_distance'].describe())\n",
    "print()\n",
    "print('Информация о расстоянии поездок пользователей с подпиской ultra:')\n",
    "print(ultra_subscription_users['ultra_subscription_distance'].describe())\n",
    "\n",
    "# Построим гистограмму для столбца 'distance'\n",
    "plot_distance = free_subscription_users['free_subscription_distance'].plot(\n",
    "    kind='hist',\n",
    "    bins=27,\n",
    "    legend=True,\n",
    "    alpha=0.6,\n",
    "    ec='black',\n",
    "    figsize=(10,5)\n",
    ");\n",
    "\n",
    "ultra_subscription_users['ultra_subscription_distance'].plot(\n",
    "    kind='hist',\n",
    "    bins=20, \n",
    "    legend=True,\n",
    "    alpha=0.6,\n",
    "    ec='black',\n",
    "    figsize=(10,5)\n",
    ");\n",
    "\n",
    "plot_distance.set_title('Частота поездок по расстоянию')\n",
    "plot_distance.set_xlabel('Расстояние, м')\n",
    "plot_distance.set_ylabel('Частота')\n",
    "plt.show()"
   ]
  },
  {
   "cell_type": "markdown",
   "id": "60e3a8c1",
   "metadata": {},
   "source": [
    "<div class=\"alert alert-success\">\n",
    "<b>Комментарий ревьюера:</b>☀️\n",
    "    \n",
    "* Отличная идея на одном графике отобразить оба тарифа, так их максимально удобно сравнивать, спасибо!\n",
    "* На графиках отлично смотрится среднее или медиана, как дополнительное опорной значение, вот [тут](https://stackoverflow.com/questions/16930328/vertical-horizontal-lines-in-matplotlib) можно посмотреть, как добавить такую визуализацию"
   ]
  },
  {
   "cell_type": "markdown",
   "id": "361a3a01",
   "metadata": {},
   "source": [
    "Пользователи без подписки почти в два раза чаще совершают поездки, чем пользователи с подпиской ultra. Т.к. количество значений для первой группы составило 11716, для второй 6672. А ранее, в п. 3.2 мы выяснили, что количество пользователей из двух этих категорий одинаковое.\n",
    "\n",
    "Пользователи обеих категорий в среднем проезжают 3 км. \n",
    "На графике виден небольшой всплеск около значения 1 км. Пользователи ездят не только на большие расстояния, но и берут самокат покататься, не уезжая далеко. Однако для пользователей без подписки пик немного смещен влево. Это может говорить о том, что сначала пользователи тестируют сервис и совершают короткие поездки, чтобы попробовать, а только потом берут самокат, чтобы поехать подальше, или же приобретают подписку."
   ]
  },
  {
   "cell_type": "markdown",
   "id": "2f94922f",
   "metadata": {},
   "source": [
    "#### Анализ информации о времени поездок для пользователей обеих категорий"
   ]
  },
  {
   "cell_type": "code",
   "execution_count": 22,
   "id": "2e616ffa",
   "metadata": {},
   "outputs": [
    {
     "name": "stdout",
     "output_type": "stream",
     "text": [
      "Информация о времени поездок пользователей без подписки:\n",
      "count    11568.000000\n",
      "mean        17.890992\n",
      "std          6.330250\n",
      "min          1.000000\n",
      "25%         13.000000\n",
      "50%         18.000000\n",
      "75%         22.000000\n",
      "max         35.000000\n",
      "Name: free_subscription_duration, dtype: float64\n",
      "\n",
      "Информация о времени поездок пользователей с подпиской ultra:\n",
      "count    6500.000000\n",
      "mean       19.037692\n",
      "std         5.577439\n",
      "min         4.000000\n",
      "25%        15.000000\n",
      "50%        19.000000\n",
      "75%        22.000000\n",
      "max        41.000000\n",
      "Name: ultra_subscription_duration, dtype: float64\n"
     ]
    },
    {
     "data": {
      "image/png": "[encoded data removed]",
      "text/plain": [
       "<Figure size 720x360 with 1 Axes>"
      ]
     },
     "metadata": {
      "needs_background": "light"
     },
     "output_type": "display_data"
    }
   ],
   "source": [
    "# Выведем общую информацию для столбца 'duration'\n",
    "print('Информация о времени поездок пользователей без подписки:')\n",
    "print(free_subscription_users['free_subscription_duration'].describe())\n",
    "print()\n",
    "print('Информация о времени поездок пользователей с подпиской ultra:')\n",
    "print(ultra_subscription_users['ultra_subscription_duration'].describe())\n",
    "\n",
    "# Построим гистограмму для столбца 'duration'\n",
    "plot_duration = free_subscription_users['free_subscription_duration'].plot(\n",
    "    kind='hist',\n",
    "    bins=27,\n",
    "    legend=True,\n",
    "    alpha=0.6,\n",
    "    ec='black',\n",
    "    figsize=(10,5)\n",
    ");\n",
    "\n",
    "\n",
    "ultra_subscription_users['ultra_subscription_duration'].plot(\n",
    "    kind='hist',\n",
    "    bins=27,\n",
    "    legend=True,\n",
    "    alpha=0.6,\n",
    "    ec='black',\n",
    "    figsize=(10,5)\n",
    ");\n",
    "\n",
    "plot_duration.set_title('Частота поездок по длительности')\n",
    "plot_duration.set_xlabel('Длительность, мин')\n",
    "plot_duration.set_ylabel('Частота')\n",
    "plt.show()"
   ]
  },
  {
   "cell_type": "markdown",
   "id": "853b575c",
   "metadata": {},
   "source": [
    "Для обоих категорий пользователей распределение похожее, однако частота для пользователей с подпиской меньше, т.к. они совершают поездки в два раза реже. Средняя длительность поездки для обоих категорий - 18 минут."
   ]
  },
  {
   "cell_type": "markdown",
   "id": "402d620f",
   "metadata": {},
   "source": [
    "## Подсчёт выручки"
   ]
  },
  {
   "cell_type": "code",
   "execution_count": 23,
   "id": "53049e0a",
   "metadata": {},
   "outputs": [
    {
     "data": {
      "text/html": [
       "<div>\n",
       "<style scoped>\n",
       "    .dataframe tbody tr th:only-of-type {\n",
       "        vertical-align: middle;\n",
       "    }\n",
       "\n",
       "    .dataframe tbody tr th {\n",
       "        vertical-align: top;\n",
       "    }\n",
       "\n",
       "    .dataframe thead th {\n",
       "        text-align: right;\n",
       "    }\n",
       "</style>\n",
       "<table border=\"1\" class=\"dataframe\">\n",
       "  <thead>\n",
       "    <tr style=\"text-align: right;\">\n",
       "      <th></th>\n",
       "      <th>user_id</th>\n",
       "      <th>month_ride</th>\n",
       "      <th>subscription_type</th>\n",
       "      <th>amount_of_rides</th>\n",
       "      <th>distance</th>\n",
       "      <th>duration</th>\n",
       "      <th>minute_price</th>\n",
       "      <th>start_ride_price</th>\n",
       "      <th>subscription_fee</th>\n",
       "    </tr>\n",
       "  </thead>\n",
       "  <tbody>\n",
       "    <tr>\n",
       "      <th>0</th>\n",
       "      <td>1</td>\n",
       "      <td>1</td>\n",
       "      <td>ultra</td>\n",
       "      <td>2</td>\n",
       "      <td>7027.511294</td>\n",
       "      <td>42.0</td>\n",
       "      <td>6</td>\n",
       "      <td>0</td>\n",
       "      <td>199</td>\n",
       "    </tr>\n",
       "    <tr>\n",
       "      <th>1</th>\n",
       "      <td>1</td>\n",
       "      <td>4</td>\n",
       "      <td>ultra</td>\n",
       "      <td>1</td>\n",
       "      <td>754.159807</td>\n",
       "      <td>7.0</td>\n",
       "      <td>6</td>\n",
       "      <td>0</td>\n",
       "      <td>199</td>\n",
       "    </tr>\n",
       "    <tr>\n",
       "      <th>2</th>\n",
       "      <td>1</td>\n",
       "      <td>8</td>\n",
       "      <td>ultra</td>\n",
       "      <td>2</td>\n",
       "      <td>6723.470560</td>\n",
       "      <td>46.0</td>\n",
       "      <td>6</td>\n",
       "      <td>0</td>\n",
       "      <td>199</td>\n",
       "    </tr>\n",
       "    <tr>\n",
       "      <th>3</th>\n",
       "      <td>1</td>\n",
       "      <td>10</td>\n",
       "      <td>ultra</td>\n",
       "      <td>2</td>\n",
       "      <td>5809.911100</td>\n",
       "      <td>32.0</td>\n",
       "      <td>6</td>\n",
       "      <td>0</td>\n",
       "      <td>199</td>\n",
       "    </tr>\n",
       "    <tr>\n",
       "      <th>4</th>\n",
       "      <td>1</td>\n",
       "      <td>11</td>\n",
       "      <td>ultra</td>\n",
       "      <td>3</td>\n",
       "      <td>7003.499363</td>\n",
       "      <td>56.0</td>\n",
       "      <td>6</td>\n",
       "      <td>0</td>\n",
       "      <td>199</td>\n",
       "    </tr>\n",
       "    <tr>\n",
       "      <th>5</th>\n",
       "      <td>1</td>\n",
       "      <td>12</td>\n",
       "      <td>ultra</td>\n",
       "      <td>2</td>\n",
       "      <td>6751.629942</td>\n",
       "      <td>28.0</td>\n",
       "      <td>6</td>\n",
       "      <td>0</td>\n",
       "      <td>199</td>\n",
       "    </tr>\n",
       "    <tr>\n",
       "      <th>6</th>\n",
       "      <td>2</td>\n",
       "      <td>3</td>\n",
       "      <td>ultra</td>\n",
       "      <td>3</td>\n",
       "      <td>10187.723006</td>\n",
       "      <td>63.0</td>\n",
       "      <td>6</td>\n",
       "      <td>0</td>\n",
       "      <td>199</td>\n",
       "    </tr>\n",
       "    <tr>\n",
       "      <th>7</th>\n",
       "      <td>2</td>\n",
       "      <td>4</td>\n",
       "      <td>ultra</td>\n",
       "      <td>2</td>\n",
       "      <td>6164.381824</td>\n",
       "      <td>40.0</td>\n",
       "      <td>6</td>\n",
       "      <td>0</td>\n",
       "      <td>199</td>\n",
       "    </tr>\n",
       "    <tr>\n",
       "      <th>8</th>\n",
       "      <td>2</td>\n",
       "      <td>6</td>\n",
       "      <td>ultra</td>\n",
       "      <td>1</td>\n",
       "      <td>3255.338202</td>\n",
       "      <td>14.0</td>\n",
       "      <td>6</td>\n",
       "      <td>0</td>\n",
       "      <td>199</td>\n",
       "    </tr>\n",
       "    <tr>\n",
       "      <th>9</th>\n",
       "      <td>2</td>\n",
       "      <td>7</td>\n",
       "      <td>ultra</td>\n",
       "      <td>2</td>\n",
       "      <td>6780.722964</td>\n",
       "      <td>48.0</td>\n",
       "      <td>6</td>\n",
       "      <td>0</td>\n",
       "      <td>199</td>\n",
       "    </tr>\n",
       "  </tbody>\n",
       "</table>\n",
       "</div>"
      ],
      "text/plain": [
       "   user_id  month_ride subscription_type  amount_of_rides      distance  \\\n",
       "0        1           1             ultra                2   7027.511294   \n",
       "1        1           4             ultra                1    754.159807   \n",
       "2        1           8             ultra                2   6723.470560   \n",
       "3        1          10             ultra                2   5809.911100   \n",
       "4        1          11             ultra                3   7003.499363   \n",
       "5        1          12             ultra                2   6751.629942   \n",
       "6        2           3             ultra                3  10187.723006   \n",
       "7        2           4             ultra                2   6164.381824   \n",
       "8        2           6             ultra                1   3255.338202   \n",
       "9        2           7             ultra                2   6780.722964   \n",
       "\n",
       "   duration  minute_price  start_ride_price  subscription_fee  \n",
       "0      42.0             6                 0               199  \n",
       "1       7.0             6                 0               199  \n",
       "2      46.0             6                 0               199  \n",
       "3      32.0             6                 0               199  \n",
       "4      56.0             6                 0               199  \n",
       "5      28.0             6                 0               199  \n",
       "6      63.0             6                 0               199  \n",
       "7      40.0             6                 0               199  \n",
       "8      14.0             6                 0               199  \n",
       "9      48.0             6                 0               199  "
      ]
     },
     "execution_count": 23,
     "metadata": {},
     "output_type": "execute_result"
    }
   ],
   "source": [
    "# Создадим сгруппированную таблицу с с агрегированными данными о поездках по 'user_id' и 'month_ride'\n",
    "combined_df_grouped = combined_df.groupby(['user_id', 'month_ride', 'subscription_type']).agg({'month_ride': ['count'], 'distance' : ['sum'], 'duration' : ['sum']})\n",
    "\n",
    "# Перезапишем датафрейм с новыми индексами для дальнейших действий\n",
    "combined_df_grouped = combined_df_grouped.rename_axis(['user_id', 'month_ride', 'subscription_type']).reset_index()\n",
    "\n",
    "# Переименуем столбцы\n",
    "combined_df_grouped.columns = ['user_id', 'month_ride', 'subscription_type', 'amount_of_rides', 'distance', 'duration']\n",
    "\n",
    "# Добавим в таблицу информацию о типе подписок и их стоимостях\n",
    "combined_df_grouped = combined_df_grouped.merge(subscriptions, on=['subscription_type'], how='inner')\n",
    "\n",
    "# ПЕРЕНЕСЛА ЭТОТ ШАГ ВЫШЕ, В ДАТАФРЕЙМ combined_df - Округлим значения продолжительности поездки\n",
    "#combined_df_grouped['duration'] = np.ceil(combined_df_grouped['duration'])\n",
    "\n",
    "# Выведем на экран полученный датафрейм\n",
    "combined_df_grouped.head(10)"
   ]
  },
  {
   "cell_type": "markdown",
   "id": "90656388",
   "metadata": {},
   "source": [
    "<div class=\"alert alert-danger\">\n",
    "<b>Комментарий ревьюера:</b>☁️\n",
    "\n",
    "Округление ожидалось до агрегации, ещё на этапе датафрейма `combined_df`\n",
    "</div>"
   ]
  },
  {
   "cell_type": "markdown",
   "id": "b2b0be5e",
   "metadata": {},
   "source": [
    "<div class=\"alert alert-info\"> <b>Комментарий студента:</b> \n",
    "\n",
    "Поняла! Перенесла этот шаг выше, на этап создания `combined_df` (п. 4.1)\n",
    "    \n",
    "</div>"
   ]
  },
  {
   "cell_type": "markdown",
   "id": "dd23b88d",
   "metadata": {},
   "source": [
    "<div class=\"alert alert-success\">\n",
    "<b>Комментарий ревьюера v2:</b>☀️\n",
    "   \n",
    "Теперь доходы соответствуют ожиданиям\n",
    "\n",
    "</div>"
   ]
  },
  {
   "cell_type": "code",
   "execution_count": 24,
   "id": "9200330d",
   "metadata": {
    "scrolled": true
   },
   "outputs": [
    {
     "data": {
      "text/html": [
       "<div>\n",
       "<style scoped>\n",
       "    .dataframe tbody tr th:only-of-type {\n",
       "        vertical-align: middle;\n",
       "    }\n",
       "\n",
       "    .dataframe tbody tr th {\n",
       "        vertical-align: top;\n",
       "    }\n",
       "\n",
       "    .dataframe thead th {\n",
       "        text-align: right;\n",
       "    }\n",
       "</style>\n",
       "<table border=\"1\" class=\"dataframe\">\n",
       "  <thead>\n",
       "    <tr style=\"text-align: right;\">\n",
       "      <th></th>\n",
       "      <th>user_id</th>\n",
       "      <th>month_ride</th>\n",
       "      <th>subscription_type</th>\n",
       "      <th>amount_of_rides</th>\n",
       "      <th>distance</th>\n",
       "      <th>duration</th>\n",
       "      <th>minute_price</th>\n",
       "      <th>start_ride_price</th>\n",
       "      <th>subscription_fee</th>\n",
       "      <th>revenue</th>\n",
       "    </tr>\n",
       "  </thead>\n",
       "  <tbody>\n",
       "    <tr>\n",
       "      <th>0</th>\n",
       "      <td>1</td>\n",
       "      <td>1</td>\n",
       "      <td>ultra</td>\n",
       "      <td>2</td>\n",
       "      <td>7027.511294</td>\n",
       "      <td>42.0</td>\n",
       "      <td>6</td>\n",
       "      <td>0</td>\n",
       "      <td>199</td>\n",
       "      <td>451.0</td>\n",
       "    </tr>\n",
       "    <tr>\n",
       "      <th>1</th>\n",
       "      <td>1</td>\n",
       "      <td>4</td>\n",
       "      <td>ultra</td>\n",
       "      <td>1</td>\n",
       "      <td>754.159807</td>\n",
       "      <td>7.0</td>\n",
       "      <td>6</td>\n",
       "      <td>0</td>\n",
       "      <td>199</td>\n",
       "      <td>241.0</td>\n",
       "    </tr>\n",
       "    <tr>\n",
       "      <th>2</th>\n",
       "      <td>1</td>\n",
       "      <td>8</td>\n",
       "      <td>ultra</td>\n",
       "      <td>2</td>\n",
       "      <td>6723.470560</td>\n",
       "      <td>46.0</td>\n",
       "      <td>6</td>\n",
       "      <td>0</td>\n",
       "      <td>199</td>\n",
       "      <td>475.0</td>\n",
       "    </tr>\n",
       "    <tr>\n",
       "      <th>3</th>\n",
       "      <td>1</td>\n",
       "      <td>10</td>\n",
       "      <td>ultra</td>\n",
       "      <td>2</td>\n",
       "      <td>5809.911100</td>\n",
       "      <td>32.0</td>\n",
       "      <td>6</td>\n",
       "      <td>0</td>\n",
       "      <td>199</td>\n",
       "      <td>391.0</td>\n",
       "    </tr>\n",
       "    <tr>\n",
       "      <th>4</th>\n",
       "      <td>1</td>\n",
       "      <td>11</td>\n",
       "      <td>ultra</td>\n",
       "      <td>3</td>\n",
       "      <td>7003.499363</td>\n",
       "      <td>56.0</td>\n",
       "      <td>6</td>\n",
       "      <td>0</td>\n",
       "      <td>199</td>\n",
       "      <td>535.0</td>\n",
       "    </tr>\n",
       "    <tr>\n",
       "      <th>5</th>\n",
       "      <td>1</td>\n",
       "      <td>12</td>\n",
       "      <td>ultra</td>\n",
       "      <td>2</td>\n",
       "      <td>6751.629942</td>\n",
       "      <td>28.0</td>\n",
       "      <td>6</td>\n",
       "      <td>0</td>\n",
       "      <td>199</td>\n",
       "      <td>367.0</td>\n",
       "    </tr>\n",
       "    <tr>\n",
       "      <th>6</th>\n",
       "      <td>2</td>\n",
       "      <td>3</td>\n",
       "      <td>ultra</td>\n",
       "      <td>3</td>\n",
       "      <td>10187.723006</td>\n",
       "      <td>63.0</td>\n",
       "      <td>6</td>\n",
       "      <td>0</td>\n",
       "      <td>199</td>\n",
       "      <td>577.0</td>\n",
       "    </tr>\n",
       "    <tr>\n",
       "      <th>7</th>\n",
       "      <td>2</td>\n",
       "      <td>4</td>\n",
       "      <td>ultra</td>\n",
       "      <td>2</td>\n",
       "      <td>6164.381824</td>\n",
       "      <td>40.0</td>\n",
       "      <td>6</td>\n",
       "      <td>0</td>\n",
       "      <td>199</td>\n",
       "      <td>439.0</td>\n",
       "    </tr>\n",
       "    <tr>\n",
       "      <th>8</th>\n",
       "      <td>2</td>\n",
       "      <td>6</td>\n",
       "      <td>ultra</td>\n",
       "      <td>1</td>\n",
       "      <td>3255.338202</td>\n",
       "      <td>14.0</td>\n",
       "      <td>6</td>\n",
       "      <td>0</td>\n",
       "      <td>199</td>\n",
       "      <td>283.0</td>\n",
       "    </tr>\n",
       "    <tr>\n",
       "      <th>9</th>\n",
       "      <td>2</td>\n",
       "      <td>7</td>\n",
       "      <td>ultra</td>\n",
       "      <td>2</td>\n",
       "      <td>6780.722964</td>\n",
       "      <td>48.0</td>\n",
       "      <td>6</td>\n",
       "      <td>0</td>\n",
       "      <td>199</td>\n",
       "      <td>487.0</td>\n",
       "    </tr>\n",
       "  </tbody>\n",
       "</table>\n",
       "</div>"
      ],
      "text/plain": [
       "   user_id  month_ride subscription_type  amount_of_rides      distance  \\\n",
       "0        1           1             ultra                2   7027.511294   \n",
       "1        1           4             ultra                1    754.159807   \n",
       "2        1           8             ultra                2   6723.470560   \n",
       "3        1          10             ultra                2   5809.911100   \n",
       "4        1          11             ultra                3   7003.499363   \n",
       "5        1          12             ultra                2   6751.629942   \n",
       "6        2           3             ultra                3  10187.723006   \n",
       "7        2           4             ultra                2   6164.381824   \n",
       "8        2           6             ultra                1   3255.338202   \n",
       "9        2           7             ultra                2   6780.722964   \n",
       "\n",
       "   duration  minute_price  start_ride_price  subscription_fee  revenue  \n",
       "0      42.0             6                 0               199    451.0  \n",
       "1       7.0             6                 0               199    241.0  \n",
       "2      46.0             6                 0               199    475.0  \n",
       "3      32.0             6                 0               199    391.0  \n",
       "4      56.0             6                 0               199    535.0  \n",
       "5      28.0             6                 0               199    367.0  \n",
       "6      63.0             6                 0               199    577.0  \n",
       "7      40.0             6                 0               199    439.0  \n",
       "8      14.0             6                 0               199    283.0  \n",
       "9      48.0             6                 0               199    487.0  "
      ]
     },
     "execution_count": 24,
     "metadata": {},
     "output_type": "execute_result"
    }
   ],
   "source": [
    "# Добавим столбец с выручкой по месяцам\n",
    "combined_df_grouped['revenue'] = combined_df_grouped['subscription_fee'] + combined_df_grouped['start_ride_price']*combined_df_grouped['amount_of_rides'] + combined_df_grouped['minute_price']*combined_df_grouped['duration']\n",
    "\n",
    "# Выведем на экран полученный датафрейм\n",
    "combined_df_grouped.head(10)"
   ]
  },
  {
   "cell_type": "markdown",
   "id": "7a61c797",
   "metadata": {},
   "source": [
    "Получили таблицу с выручкой по каждому пользователю помесячно."
   ]
  },
  {
   "cell_type": "markdown",
   "id": "41545ac0",
   "metadata": {},
   "source": [
    "## Проверка гипотез"
   ]
  },
  {
   "cell_type": "markdown",
   "id": "cd3290cc",
   "metadata": {},
   "source": [
    "### Гипотеза о том, что пользователи с подпиской тратят больше времени на поездки, чем пользователи без подписки"
   ]
  },
  {
   "cell_type": "markdown",
   "id": "3d604a77",
   "metadata": {},
   "source": [
    "**Нулевая гипотеза (H0):** Среднее время поездки пользователя с подпиской Ultra и среднее время поездки пользователя без подписки равны.\n",
    "\n",
    "**Альтернативная гипотеза (H1):** Среднее время поездки пользователя с подпиской Ultra больше, чем среднее время поездки пользователя без подписки."
   ]
  },
  {
   "cell_type": "markdown",
   "id": "9ba5fc01",
   "metadata": {},
   "source": [
    "Подготовим датафреймы для проверки гипотез. Создадим сгруппированные датафреймы со средним временем поездки для пользователей с подпиской ultra и без нее."
   ]
  },
  {
   "cell_type": "code",
   "execution_count": 25,
   "id": "24b2d623",
   "metadata": {},
   "outputs": [],
   "source": [
    "# Создадим датафрейм с разбивкой по каждому пользователю без подписки\n",
    "#free_subscription_users_grouped = free_subscription_users.groupby('user_id').agg({'free_subscription_distance': ['mean'], 'free_subscription_duration': ['mean']}).reset_index()\n",
    "\n",
    "# Переименуем столбцы\n",
    "#free_subscription_users_grouped.columns = ['user_id', 'user_mean_distance', 'user_mean_duration']\n",
    "\n",
    "# Выведем на экран полученный датафрейм\n",
    "#display(free_subscription_users_grouped.head())"
   ]
  },
  {
   "cell_type": "code",
   "execution_count": 26,
   "id": "ede912b0",
   "metadata": {},
   "outputs": [],
   "source": [
    "# Создадим датафрейм с разбивкой по каждому пользователю с подпиской ultra\n",
    "#ultra_subscription_users_grouped = ultra_subscription_users.groupby('user_id').agg({'ultra_subscription_distance': ['mean'], 'ultra_subscription_duration': ['mean']}).reset_index()\n",
    "\n",
    "# Переименуем столбцы\n",
    "#ultra_subscription_users_grouped.columns = ['user_id', 'user_mean_distance', 'user_mean_duration']\n",
    "\n",
    "# Выведем на экран полученный датафрейм\n",
    "#display(ultra_subscription_users_grouped.head())"
   ]
  },
  {
   "cell_type": "code",
   "execution_count": 27,
   "id": "b6edb099",
   "metadata": {},
   "outputs": [
    {
     "name": "stdout",
     "output_type": "stream",
     "text": [
      "p-значение: 2.4959453720736625e-34\n",
      "Отвергаем нулевую гипотезу\n"
     ]
    }
   ],
   "source": [
    "# Зададим уровень статистической значимости\n",
    "alpha = 0.05 \n",
    "\n",
    "# Проводим ttest для двух выборок, в качестве альтернативной используем одностороннюю гипотезу «больше»\n",
    "results = st.ttest_ind(\n",
    "    ultra_subscription_users['ultra_subscription_duration'], \n",
    "    free_subscription_users['free_subscription_duration'],\n",
    "    alternative = 'greater'\n",
    ")\n",
    "\n",
    "print('p-значение:', results.pvalue)\n",
    "\n",
    "if results.pvalue < alpha:\n",
    "    print('Отвергаем нулевую гипотезу')\n",
    "else:\n",
    "    print('Не получилось отвергнуть нулевую гипотезу') "
   ]
  },
  {
   "cell_type": "markdown",
   "id": "54c9510b",
   "metadata": {},
   "source": [
    "<div class=\"alert alert-danger\">\n",
    "<b>Комментарий ревьюера:</b>☁️\n",
    "\n",
    "Проверка предполагалась по всем поездкам, без дополнительно предварительной агрегации по пользователям\n",
    "</div>"
   ]
  },
  {
   "cell_type": "markdown",
   "id": "2d9f11ee",
   "metadata": {},
   "source": [
    "<div class=\"alert alert-info\"> <b>Комментарий студента:</b> \n",
    "\n",
    "Шаги, где проводила предварительную агрегацию, закомментировала. Код с гипотезой исправила.\n",
    "    \n",
    "</div>"
   ]
  },
  {
   "cell_type": "markdown",
   "id": "203df7a3",
   "metadata": {},
   "source": [
    "<div class=\"alert alert-success\">\n",
    "<b>Комментарий ревьюера v2:</b>☀️\n",
    "   \n",
    "Отлично\n",
    "</div>"
   ]
  },
  {
   "cell_type": "markdown",
   "id": "1800f11f",
   "metadata": {},
   "source": [
    "Полученное значение p-value значительно меньше заданного уровня значимости, поэтому можно отвергнуть нулевую гипотезу. Среднее время поездки пользователя с подпиской Ultra больше, чем среднее время поездки пользователя без подписки."
   ]
  },
  {
   "cell_type": "markdown",
   "id": "3b135850",
   "metadata": {},
   "source": [
    "### Расстояние одной поездки"
   ]
  },
  {
   "cell_type": "markdown",
   "id": "cc4384c9",
   "metadata": {},
   "source": [
    "**Нулевая гипотеза (H0):** Среднее расстояние, которое проезжают пользователи с подпиской за одну поездку равно 3130 метров.\n",
    "\n",
    "**Альтернативная гипотеза (H1):** Среднее расстояние, которое проезжают пользователи с подпиской за одну поездку меньше 3130 метров."
   ]
  },
  {
   "cell_type": "code",
   "execution_count": 28,
   "id": "7bb79caf",
   "metadata": {},
   "outputs": [
    {
     "name": "stdout",
     "output_type": "stream",
     "text": [
      "p-значение: 0.08046311521502146\n",
      "Не отвергаем нулевую гипотезу\n"
     ]
    }
   ],
   "source": [
    "# Задаем необходимое значение расстояния\n",
    "distance_value = 3130\n",
    "\n",
    "# Зададим уровень статистической значимости\n",
    "alpha = 0.05\n",
    "\n",
    "results = st.ttest_1samp(\n",
    "    ultra_subscription_users['ultra_subscription_distance'], \n",
    "    distance_value,\n",
    "    alternative='less')\n",
    "\n",
    "print('p-значение:', results.pvalue)\n",
    "\n",
    "if (results.pvalue < alpha):\n",
    "    print('Отвергаем нулевую гипотезу')\n",
    "else:\n",
    "    print('Не отвергаем нулевую гипотезу') "
   ]
  },
  {
   "cell_type": "markdown",
   "id": "28b1b6d2",
   "metadata": {},
   "source": [
    "<div class=\"alert alert-danger\">\n",
    "<b>Комментарий ревьюера:</b>☁️\n",
    "\n",
    "Аналогично проверке первой гипотезы\n",
    "</div>"
   ]
  },
  {
   "cell_type": "markdown",
   "id": "0e7fd3db",
   "metadata": {},
   "source": [
    "<div class=\"alert alert-info\"> <b>Комментарий студента:</b> \n",
    "\n",
    "Шаги, где проводила предварительную агрегацию, закомментировала. Код с гипотезой исправила.\n",
    "    \n",
    "</div>"
   ]
  },
  {
   "cell_type": "markdown",
   "id": "de054f1d",
   "metadata": {},
   "source": [
    "<div class=\"alert alert-warning\">\n",
    "<b>Комментарий ревьюера v2:</b>⛅️ \n",
    "\n",
    "Здесь бизнесу было критичнее, чтобы дистанции не были более 3130, поэтому рекомендовал бы использовать альтернативную гипотезу - больше\n",
    "</div>"
   ]
  },
  {
   "cell_type": "markdown",
   "id": "04a52194",
   "metadata": {},
   "source": [
    "Нулевая гипотеза подтвердилась. Среднее расстояние, которое проезжают пользователи с подпиской за одну поездку равно 3130 метров."
   ]
  },
  {
   "cell_type": "markdown",
   "id": "8db9bd46",
   "metadata": {},
   "source": [
    "### Помесячная выручка"
   ]
  },
  {
   "cell_type": "markdown",
   "id": "323a1c2a",
   "metadata": {},
   "source": [
    "**Нулевая гипотеза (H0):** Помесячная выручка от пользователей с подпиской равна помесячной выручке от пользователей без подписки.\n",
    "**Альтернативная гипотеза (H1):** Помесячная выручка от пользователей с подпиской больше, чем помесячная выручка от пользователей без подписки."
   ]
  },
  {
   "cell_type": "code",
   "execution_count": 29,
   "id": "6bd1f7d0",
   "metadata": {},
   "outputs": [
    {
     "data": {
      "text/html": [
       "<div>\n",
       "<style scoped>\n",
       "    .dataframe tbody tr th:only-of-type {\n",
       "        vertical-align: middle;\n",
       "    }\n",
       "\n",
       "    .dataframe tbody tr th {\n",
       "        vertical-align: top;\n",
       "    }\n",
       "\n",
       "    .dataframe thead th {\n",
       "        text-align: right;\n",
       "    }\n",
       "</style>\n",
       "<table border=\"1\" class=\"dataframe\">\n",
       "  <thead>\n",
       "    <tr style=\"text-align: right;\">\n",
       "      <th></th>\n",
       "      <th>user_id</th>\n",
       "      <th>month_ride</th>\n",
       "      <th>subscription_type</th>\n",
       "      <th>amount_of_rides</th>\n",
       "      <th>distance</th>\n",
       "      <th>duration</th>\n",
       "      <th>minute_price</th>\n",
       "      <th>start_ride_price</th>\n",
       "      <th>subscription_fee</th>\n",
       "      <th>revenue</th>\n",
       "    </tr>\n",
       "  </thead>\n",
       "  <tbody>\n",
       "    <tr>\n",
       "      <th>4533</th>\n",
       "      <td>700</td>\n",
       "      <td>1</td>\n",
       "      <td>free</td>\n",
       "      <td>1</td>\n",
       "      <td>2515.690719</td>\n",
       "      <td>15.0</td>\n",
       "      <td>8</td>\n",
       "      <td>50</td>\n",
       "      <td>0</td>\n",
       "      <td>170.0</td>\n",
       "    </tr>\n",
       "    <tr>\n",
       "      <th>4534</th>\n",
       "      <td>700</td>\n",
       "      <td>2</td>\n",
       "      <td>free</td>\n",
       "      <td>5</td>\n",
       "      <td>13446.659764</td>\n",
       "      <td>89.0</td>\n",
       "      <td>8</td>\n",
       "      <td>50</td>\n",
       "      <td>0</td>\n",
       "      <td>962.0</td>\n",
       "    </tr>\n",
       "    <tr>\n",
       "      <th>4535</th>\n",
       "      <td>700</td>\n",
       "      <td>3</td>\n",
       "      <td>free</td>\n",
       "      <td>1</td>\n",
       "      <td>3798.334905</td>\n",
       "      <td>19.0</td>\n",
       "      <td>8</td>\n",
       "      <td>50</td>\n",
       "      <td>0</td>\n",
       "      <td>202.0</td>\n",
       "    </tr>\n",
       "    <tr>\n",
       "      <th>4536</th>\n",
       "      <td>700</td>\n",
       "      <td>4</td>\n",
       "      <td>free</td>\n",
       "      <td>1</td>\n",
       "      <td>2984.551206</td>\n",
       "      <td>16.0</td>\n",
       "      <td>8</td>\n",
       "      <td>50</td>\n",
       "      <td>0</td>\n",
       "      <td>178.0</td>\n",
       "    </tr>\n",
       "    <tr>\n",
       "      <th>4537</th>\n",
       "      <td>700</td>\n",
       "      <td>6</td>\n",
       "      <td>free</td>\n",
       "      <td>2</td>\n",
       "      <td>5927.650988</td>\n",
       "      <td>29.0</td>\n",
       "      <td>8</td>\n",
       "      <td>50</td>\n",
       "      <td>0</td>\n",
       "      <td>332.0</td>\n",
       "    </tr>\n",
       "  </tbody>\n",
       "</table>\n",
       "</div>"
      ],
      "text/plain": [
       "      user_id  month_ride subscription_type  amount_of_rides      distance  \\\n",
       "4533      700           1              free                1   2515.690719   \n",
       "4534      700           2              free                5  13446.659764   \n",
       "4535      700           3              free                1   3798.334905   \n",
       "4536      700           4              free                1   2984.551206   \n",
       "4537      700           6              free                2   5927.650988   \n",
       "\n",
       "      duration  minute_price  start_ride_price  subscription_fee  revenue  \n",
       "4533      15.0             8                50                 0    170.0  \n",
       "4534      89.0             8                50                 0    962.0  \n",
       "4535      19.0             8                50                 0    202.0  \n",
       "4536      16.0             8                50                 0    178.0  \n",
       "4537      29.0             8                50                 0    332.0  "
      ]
     },
     "metadata": {},
     "output_type": "display_data"
    },
    {
     "data": {
      "text/html": [
       "<div>\n",
       "<style scoped>\n",
       "    .dataframe tbody tr th:only-of-type {\n",
       "        vertical-align: middle;\n",
       "    }\n",
       "\n",
       "    .dataframe tbody tr th {\n",
       "        vertical-align: top;\n",
       "    }\n",
       "\n",
       "    .dataframe thead th {\n",
       "        text-align: right;\n",
       "    }\n",
       "</style>\n",
       "<table border=\"1\" class=\"dataframe\">\n",
       "  <thead>\n",
       "    <tr style=\"text-align: right;\">\n",
       "      <th></th>\n",
       "      <th>user_id</th>\n",
       "      <th>month_ride</th>\n",
       "      <th>subscription_type</th>\n",
       "      <th>amount_of_rides</th>\n",
       "      <th>distance</th>\n",
       "      <th>duration</th>\n",
       "      <th>minute_price</th>\n",
       "      <th>start_ride_price</th>\n",
       "      <th>subscription_fee</th>\n",
       "      <th>revenue</th>\n",
       "    </tr>\n",
       "  </thead>\n",
       "  <tbody>\n",
       "    <tr>\n",
       "      <th>0</th>\n",
       "      <td>1</td>\n",
       "      <td>1</td>\n",
       "      <td>ultra</td>\n",
       "      <td>2</td>\n",
       "      <td>7027.511294</td>\n",
       "      <td>42.0</td>\n",
       "      <td>6</td>\n",
       "      <td>0</td>\n",
       "      <td>199</td>\n",
       "      <td>451.0</td>\n",
       "    </tr>\n",
       "    <tr>\n",
       "      <th>1</th>\n",
       "      <td>1</td>\n",
       "      <td>4</td>\n",
       "      <td>ultra</td>\n",
       "      <td>1</td>\n",
       "      <td>754.159807</td>\n",
       "      <td>7.0</td>\n",
       "      <td>6</td>\n",
       "      <td>0</td>\n",
       "      <td>199</td>\n",
       "      <td>241.0</td>\n",
       "    </tr>\n",
       "    <tr>\n",
       "      <th>2</th>\n",
       "      <td>1</td>\n",
       "      <td>8</td>\n",
       "      <td>ultra</td>\n",
       "      <td>2</td>\n",
       "      <td>6723.470560</td>\n",
       "      <td>46.0</td>\n",
       "      <td>6</td>\n",
       "      <td>0</td>\n",
       "      <td>199</td>\n",
       "      <td>475.0</td>\n",
       "    </tr>\n",
       "    <tr>\n",
       "      <th>3</th>\n",
       "      <td>1</td>\n",
       "      <td>10</td>\n",
       "      <td>ultra</td>\n",
       "      <td>2</td>\n",
       "      <td>5809.911100</td>\n",
       "      <td>32.0</td>\n",
       "      <td>6</td>\n",
       "      <td>0</td>\n",
       "      <td>199</td>\n",
       "      <td>391.0</td>\n",
       "    </tr>\n",
       "    <tr>\n",
       "      <th>4</th>\n",
       "      <td>1</td>\n",
       "      <td>11</td>\n",
       "      <td>ultra</td>\n",
       "      <td>3</td>\n",
       "      <td>7003.499363</td>\n",
       "      <td>56.0</td>\n",
       "      <td>6</td>\n",
       "      <td>0</td>\n",
       "      <td>199</td>\n",
       "      <td>535.0</td>\n",
       "    </tr>\n",
       "  </tbody>\n",
       "</table>\n",
       "</div>"
      ],
      "text/plain": [
       "   user_id  month_ride subscription_type  amount_of_rides     distance  \\\n",
       "0        1           1             ultra                2  7027.511294   \n",
       "1        1           4             ultra                1   754.159807   \n",
       "2        1           8             ultra                2  6723.470560   \n",
       "3        1          10             ultra                2  5809.911100   \n",
       "4        1          11             ultra                3  7003.499363   \n",
       "\n",
       "   duration  minute_price  start_ride_price  subscription_fee  revenue  \n",
       "0      42.0             6                 0               199    451.0  \n",
       "1       7.0             6                 0               199    241.0  \n",
       "2      46.0             6                 0               199    475.0  \n",
       "3      32.0             6                 0               199    391.0  \n",
       "4      56.0             6                 0               199    535.0  "
      ]
     },
     "metadata": {},
     "output_type": "display_data"
    }
   ],
   "source": [
    "# Создадим датафрейм с разбивкой по каждому пользователю без подписки\n",
    "combined_df_grouped_free = combined_df_grouped.query('subscription_type == \"free\"')\n",
    "\n",
    "# Создадим датафрейм с разбивкой по каждому пользователю с подпиской ultra\n",
    "combined_df_grouped_ultra = combined_df_grouped.query('subscription_type == \"ultra\"')\n",
    "\n",
    "# Проверим, что получилось\n",
    "display(combined_df_grouped_free.head())\n",
    "display(combined_df_grouped_ultra.head())"
   ]
  },
  {
   "cell_type": "code",
   "execution_count": 30,
   "id": "195c4041",
   "metadata": {},
   "outputs": [
    {
     "name": "stdout",
     "output_type": "stream",
     "text": [
      "p-значение: 1.8850394384715216e-31\n",
      "Отвергаем нулевую гипотезу\n"
     ]
    }
   ],
   "source": [
    "# Зададим уровень статистической значимости\n",
    "alpha = 0.05 \n",
    "\n",
    "# Проводим ttest для двух выборок, в качестве альтернативной используем одностороннюю гипотезу «больше»\n",
    "results = st.ttest_ind(\n",
    "    combined_df_grouped_ultra['revenue'], \n",
    "    combined_df_grouped_free['revenue'],\n",
    "    alternative = 'greater'\n",
    ")\n",
    "\n",
    "print('p-значение:', results.pvalue)\n",
    "\n",
    "if results.pvalue < alpha:\n",
    "    print('Отвергаем нулевую гипотезу')\n",
    "else:\n",
    "    print('Не получилось отвергнуть нулевую гипотезу') "
   ]
  },
  {
   "cell_type": "markdown",
   "id": "a03c81bc",
   "metadata": {},
   "source": [
    "<div class=\"alert alert-success\">\n",
    "<b>Комментарий ревьюера:</b>☀️\n",
    "    \n",
    "Отлично, что формулируешь нулевую, альтернативную гипотезу, это важно, выводы верны, ещё могу порекомендовать дополнительно проверять себя и выводить среднее проверяемых переменных или распределения"
   ]
  },
  {
   "cell_type": "markdown",
   "id": "18a689ae",
   "metadata": {},
   "source": [
    "Помесячная выручка от пользователей с подпиской больше, чем помесячная выручка от пользователей без подписки."
   ]
  },
  {
   "cell_type": "markdown",
   "id": "f651daf9",
   "metadata": {},
   "source": [
    "### Количество обращений в техподдержку"
   ]
  },
  {
   "cell_type": "markdown",
   "id": "740d62b5",
   "metadata": {},
   "source": [
    "Если бы техническая команда сервиса обновила сервера, с которыми взаимодействует мобильное приложение, и нам было необходимо проверить гипотезу о том, что после этого количество обращений в техподдержку значимо снизилось, мы бы использовали scipy.stats.ttest_rel тест, чтобы проверить или опровергунть гипотезу равенстве среднего значения генеральной совокупности до и после изменения."
   ]
  },
  {
   "cell_type": "markdown",
   "id": "b8759e2f",
   "metadata": {},
   "source": [
    "<div class=\"alert alert-warning\">\n",
    "<b>Комментарий ревьюера:</b>⛅️ \n",
    "\n",
    "А как будет звучать альтернативная гипотеза получается? \n",
    "</div>"
   ]
  },
  {
   "cell_type": "markdown",
   "id": "a7ce181a",
   "metadata": {},
   "source": [
    "<div class=\"alert alert-info\"> <b>Комментарий студента:</b> \n",
    "\n",
    "**Нулевая гипотеза (H0):** Среднее значение генеральной совокупности до изменений равно среднему генеральной совокупности после изменения.\n",
    "\n",
    "**Альтернативная гипотеза (H1):** Среднее значение генеральной совокупности до изменений больше среднего значения генеральной совокупности после изменения.\n",
    "    \n",
    "</div>"
   ]
  },
  {
   "cell_type": "markdown",
   "id": "d2e43f2c",
   "metadata": {},
   "source": [
    "<div class=\"alert alert-success\">\n",
    "<b>Комментарий ревьюера v2:</b>☀️\n",
    "   \n",
    "Спасибо, что говоришь об односторонней гипотезе\n",
    "\n",
    "</div>"
   ]
  },
  {
   "cell_type": "markdown",
   "id": "812fc83e",
   "metadata": {},
   "source": [
    "# Выводы"
   ]
  },
  {
   "cell_type": "markdown",
   "id": "4cce6a12",
   "metadata": {},
   "source": [
    "Были проанализированы три датасета: с данными о пользователях, поездках и подписках сервиса.\n",
    "\n",
    "В первую очередь была выполнена предобработка данных. Имена столбцов были заданы корректно, пропусков в данных не было. Затем мы изменили тип данных для столбца с датой и создали новый столбец с номером месяца. В ходе предобработки был найден 31 дубликат в датафрейме с данными о пользователях, однако в одном городе может быть несколько людей с одинаковым именем и возрастом. Поэтому, т.к. в датафрейме отсутствует столбец с фамилиями пользователей, было сделано предположение о том, что под строками-дубликатами могут скрываться разные пользователи и принято решение о том, чтобы оставить дубликаты.\n",
    "\n",
    "Далее был проведен исследовательский анализ данных:\n",
    "1. Частота встречаемости городов\n",
    "2. Соотношение пользователей с подпиской и без подписки\n",
    "3. Возраст пользователей\n",
    "4. Расстояние, которое пользователь преодолел за одну поездку\n",
    "5. Продолжительность поездок\n",
    "\n",
    "Для каждого параметра были посчитаны уникальные значения, построены диаграммы и сделаны выводы.\n",
    "\n",
    "- Наибольшее число пользователей сервиса - из Пятигорска. Наименьшее - из Москвы.\n",
    "- Количество пользователей с подпиской ultra и без подписки - почти одинаковое. Пользователей без подписки незначительно, но больше.\n",
    "- Средний возраст пользователей - 25 лет. Минимальный возрат - 12 лет, максимальный - 43. В основном сервисом пользуются студенты и молодежь: примерно одинаковое количество пользователей в возрастных категориях от 18 до 24 и от 25 до 29 лет. \n",
    "- Самая короткая поездка - 850 м, самая дальняя - 7 км. В среднем пользователи берут самокат для поездок на 3 км, основной коридор - от 2.5 до 3.5 км.\n",
    "- Короткие поездки совершаются реже остальных. Если пользователи и берут самокат в аренду, то в основном для более длительных поездок: на 2-4 км. В среднем пользователи используют самокат в течение 17 минут.\n",
    "\n",
    "После методом merge() был получен общий датафрейм с объединенными данными о пользователях, поездках и подписках. Затем, методом query() из общей таблицы были получены датафреймы с информацией о расстоянии поездок для пользователей с разным типом подписки. \n",
    "\n",
    "Была проанализирована информация о расстоянии и времени поездок для пользователей обеих категорий.\n",
    "Пользователи без подписки почти в два раза чаще совершают поездки, чем пользователи с подпиской ultra. Т.к. количество значений для первой группы составило 11716, для второй 6672. А ранее, в п. 3.2 мы выяснили, что количество пользователей из двух этих категорий одинаковое. Пользователи обеих категорий в среднем проезжают 3 км. \n",
    "На графике виден небольшой всплеск около значения 1 км. Пользователи ездят не только на большие расстояния, но и берут самокат покататься, не уезжая далеко. Однако для пользователей без подписки пик немного смещен влево. Это может говорить о том, что сначала пользователи тестируют сервис и совершают короткие поездки, чтобы попробовать, а только потом берут самокат, чтобы поехать подальше, или же приобретают подписку. Средняя длительность поездки для обоих категорий - 18 минут.\n",
    "\n",
    "Затем группировкой мы получили таблицу с выручкой по каждому пользователю помесячно. Для дальнейшей проверки гипотезы. \n",
    "\n",
    "В завершение были проверены три гипотезы и получены выводы:\n",
    "- Среднее время поездки пользователя с подпиской Ultra больше, чем среднее время поездки пользователя без подписки.\n",
    "- Среднее расстояние, которое проезжают пользователи с подпиской за одну поездку равно 3130 метров.\n",
    "- Помесячная выручка от пользователей с подпиской больше, чем помесячная выручка от пользователей без подписки."
   ]
  }
 ],
 "metadata": {
  "ExecuteTimeLog": [
   {
    "duration": 48,
    "start_time": "2024-07-02T08:18:15.306Z"
   },
   {
    "duration": 770,
    "start_time": "2024-07-02T08:18:22.054Z"
   },
   {
    "duration": 289,
    "start_time": "2024-07-02T08:18:22.826Z"
   },
   {
    "duration": 26,
    "start_time": "2024-07-02T08:19:52.962Z"
   },
   {
    "duration": 20,
    "start_time": "2024-07-02T08:21:04.143Z"
   },
   {
    "duration": 12,
    "start_time": "2024-07-02T08:23:53.225Z"
   },
   {
    "duration": 10,
    "start_time": "2024-07-02T08:25:56.270Z"
   },
   {
    "duration": 11,
    "start_time": "2024-07-02T08:26:45.543Z"
   },
   {
    "duration": 9,
    "start_time": "2024-07-02T08:27:26.166Z"
   },
   {
    "duration": 829,
    "start_time": "2024-07-02T08:29:16.498Z"
   },
   {
    "duration": 63,
    "start_time": "2024-07-02T08:29:17.329Z"
   },
   {
    "duration": 21,
    "start_time": "2024-07-02T08:29:17.393Z"
   },
   {
    "duration": 24,
    "start_time": "2024-07-02T08:29:17.416Z"
   },
   {
    "duration": 10,
    "start_time": "2024-07-02T08:29:17.441Z"
   },
   {
    "duration": 800,
    "start_time": "2024-07-02T08:29:45.616Z"
   },
   {
    "duration": 62,
    "start_time": "2024-07-02T08:29:46.418Z"
   },
   {
    "duration": 21,
    "start_time": "2024-07-02T08:29:46.481Z"
   },
   {
    "duration": 20,
    "start_time": "2024-07-02T08:29:46.503Z"
   },
   {
    "duration": 17,
    "start_time": "2024-07-02T08:29:46.524Z"
   },
   {
    "duration": 10,
    "start_time": "2024-07-02T08:30:05.246Z"
   },
   {
    "duration": 6,
    "start_time": "2024-07-02T08:31:45.883Z"
   },
   {
    "duration": 14,
    "start_time": "2024-07-02T08:35:08.025Z"
   },
   {
    "duration": 83,
    "start_time": "2024-07-02T08:36:23.184Z"
   },
   {
    "duration": 10,
    "start_time": "2024-07-02T08:36:40.531Z"
   },
   {
    "duration": 11,
    "start_time": "2024-07-02T08:37:50.043Z"
   },
   {
    "duration": 13,
    "start_time": "2024-07-02T08:37:59.407Z"
   },
   {
    "duration": 55,
    "start_time": "2024-07-02T08:47:20.436Z"
   },
   {
    "duration": 21,
    "start_time": "2024-07-02T08:47:51.199Z"
   },
   {
    "duration": 21,
    "start_time": "2024-07-02T08:48:26.630Z"
   },
   {
    "duration": 803,
    "start_time": "2024-07-02T08:53:12.220Z"
   },
   {
    "duration": 64,
    "start_time": "2024-07-02T08:53:13.026Z"
   },
   {
    "duration": 22,
    "start_time": "2024-07-02T08:53:13.091Z"
   },
   {
    "duration": 22,
    "start_time": "2024-07-02T08:53:13.115Z"
   },
   {
    "duration": 8,
    "start_time": "2024-07-02T08:53:13.138Z"
   },
   {
    "duration": 5,
    "start_time": "2024-07-02T08:53:13.147Z"
   },
   {
    "duration": 18,
    "start_time": "2024-07-02T08:53:13.154Z"
   },
   {
    "duration": 21,
    "start_time": "2024-07-02T08:53:13.173Z"
   },
   {
    "duration": 16,
    "start_time": "2024-07-02T08:54:12.544Z"
   },
   {
    "duration": 9,
    "start_time": "2024-07-02T08:57:18.374Z"
   },
   {
    "duration": 27,
    "start_time": "2024-07-02T08:57:29.026Z"
   },
   {
    "duration": 4,
    "start_time": "2024-07-02T09:04:22.076Z"
   },
   {
    "duration": 4,
    "start_time": "2024-07-02T09:05:49.514Z"
   },
   {
    "duration": 83,
    "start_time": "2024-07-02T09:06:09.202Z"
   },
   {
    "duration": 8,
    "start_time": "2024-07-02T09:06:18.731Z"
   },
   {
    "duration": 4,
    "start_time": "2024-07-02T09:07:49.460Z"
   },
   {
    "duration": 10,
    "start_time": "2024-07-02T09:08:46.104Z"
   },
   {
    "duration": 11,
    "start_time": "2024-07-02T09:08:59.455Z"
   },
   {
    "duration": 15,
    "start_time": "2024-07-02T09:09:23.457Z"
   },
   {
    "duration": 9,
    "start_time": "2024-07-02T09:09:49.997Z"
   },
   {
    "duration": 9,
    "start_time": "2024-07-02T09:09:58.633Z"
   },
   {
    "duration": 9,
    "start_time": "2024-07-02T09:10:05.773Z"
   },
   {
    "duration": 8,
    "start_time": "2024-07-02T09:10:13.369Z"
   },
   {
    "duration": 7,
    "start_time": "2024-07-02T09:10:26.468Z"
   },
   {
    "duration": 7,
    "start_time": "2024-07-02T09:10:29.031Z"
   },
   {
    "duration": 9,
    "start_time": "2024-07-02T09:10:32.437Z"
   },
   {
    "duration": 5,
    "start_time": "2024-07-02T09:10:55.101Z"
   },
   {
    "duration": 5,
    "start_time": "2024-07-02T09:11:06.054Z"
   },
   {
    "duration": 6,
    "start_time": "2024-07-02T09:11:20.334Z"
   },
   {
    "duration": 5,
    "start_time": "2024-07-02T09:12:08.749Z"
   },
   {
    "duration": 6,
    "start_time": "2024-07-02T09:12:17.573Z"
   },
   {
    "duration": 7,
    "start_time": "2024-07-02T09:12:23.220Z"
   },
   {
    "duration": 556,
    "start_time": "2024-07-02T09:15:26.672Z"
   },
   {
    "duration": 116,
    "start_time": "2024-07-02T09:16:23.872Z"
   },
   {
    "duration": 106,
    "start_time": "2024-07-02T09:16:34.895Z"
   },
   {
    "duration": 113,
    "start_time": "2024-07-02T09:17:34.489Z"
   },
   {
    "duration": 116,
    "start_time": "2024-07-02T09:20:34.482Z"
   },
   {
    "duration": 226,
    "start_time": "2024-07-02T09:20:58.801Z"
   },
   {
    "duration": 149,
    "start_time": "2024-07-02T09:21:23.322Z"
   },
   {
    "duration": 143,
    "start_time": "2024-07-02T09:21:29.912Z"
   },
   {
    "duration": 193,
    "start_time": "2024-07-02T09:21:55.049Z"
   },
   {
    "duration": 134,
    "start_time": "2024-07-02T09:22:02.305Z"
   },
   {
    "duration": 152,
    "start_time": "2024-07-02T09:22:47.245Z"
   },
   {
    "duration": 127,
    "start_time": "2024-07-02T09:24:25.575Z"
   },
   {
    "duration": 2,
    "start_time": "2024-07-02T09:24:59.014Z"
   },
   {
    "duration": 1039,
    "start_time": "2024-07-02T09:25:11.884Z"
   },
   {
    "duration": 64,
    "start_time": "2024-07-02T09:25:12.925Z"
   },
   {
    "duration": 18,
    "start_time": "2024-07-02T09:25:12.991Z"
   },
   {
    "duration": 26,
    "start_time": "2024-07-02T09:25:13.013Z"
   },
   {
    "duration": 16,
    "start_time": "2024-07-02T09:25:13.040Z"
   },
   {
    "duration": 10,
    "start_time": "2024-07-02T09:25:13.058Z"
   },
   {
    "duration": 12,
    "start_time": "2024-07-02T09:25:13.070Z"
   },
   {
    "duration": 33,
    "start_time": "2024-07-02T09:25:13.083Z"
   },
   {
    "duration": 150,
    "start_time": "2024-07-02T09:25:13.117Z"
   },
   {
    "duration": 49,
    "start_time": "2024-07-03T12:26:04.171Z"
   },
   {
    "duration": 1271,
    "start_time": "2024-07-03T12:26:09.699Z"
   },
   {
    "duration": 308,
    "start_time": "2024-07-03T12:26:10.972Z"
   },
   {
    "duration": 21,
    "start_time": "2024-07-03T12:26:11.282Z"
   },
   {
    "duration": 45,
    "start_time": "2024-07-03T12:26:11.306Z"
   },
   {
    "duration": 21,
    "start_time": "2024-07-03T12:26:11.353Z"
   },
   {
    "duration": 10,
    "start_time": "2024-07-03T12:26:11.376Z"
   },
   {
    "duration": 29,
    "start_time": "2024-07-03T12:26:11.388Z"
   },
   {
    "duration": 10,
    "start_time": "2024-07-03T12:26:11.419Z"
   },
   {
    "duration": 150,
    "start_time": "2024-07-03T12:26:11.430Z"
   },
   {
    "duration": 105,
    "start_time": "2024-07-03T12:26:11.583Z"
   },
   {
    "duration": 6,
    "start_time": "2024-07-03T12:26:46.901Z"
   },
   {
    "duration": 6,
    "start_time": "2024-07-03T12:28:16.783Z"
   },
   {
    "duration": 5,
    "start_time": "2024-07-03T12:28:24.752Z"
   },
   {
    "duration": 6,
    "start_time": "2024-07-03T12:28:29.328Z"
   },
   {
    "duration": 21,
    "start_time": "2024-07-03T12:30:15.917Z"
   },
   {
    "duration": 6,
    "start_time": "2024-07-03T12:30:26.281Z"
   },
   {
    "duration": 8,
    "start_time": "2024-07-03T12:33:20.241Z"
   },
   {
    "duration": 870,
    "start_time": "2024-07-03T12:34:08.025Z"
   },
   {
    "duration": 9,
    "start_time": "2024-07-03T12:34:19.769Z"
   },
   {
    "duration": 472,
    "start_time": "2024-07-03T12:35:32.572Z"
   },
   {
    "duration": 441,
    "start_time": "2024-07-03T12:35:42.047Z"
   },
   {
    "duration": 10,
    "start_time": "2024-07-03T12:36:04.240Z"
   },
   {
    "duration": 1029,
    "start_time": "2024-07-03T12:37:17.352Z"
   },
   {
    "duration": 11,
    "start_time": "2024-07-03T12:37:22.512Z"
   },
   {
    "duration": 11,
    "start_time": "2024-07-03T12:38:10.756Z"
   },
   {
    "duration": 5,
    "start_time": "2024-07-03T12:38:24.669Z"
   },
   {
    "duration": 6,
    "start_time": "2024-07-03T12:38:47.916Z"
   },
   {
    "duration": 12,
    "start_time": "2024-07-03T12:39:03.669Z"
   },
   {
    "duration": 136,
    "start_time": "2024-07-03T12:39:57.636Z"
   },
   {
    "duration": 131,
    "start_time": "2024-07-03T12:40:20.535Z"
   },
   {
    "duration": 7,
    "start_time": "2024-07-03T12:41:01.752Z"
   },
   {
    "duration": 8,
    "start_time": "2024-07-03T12:44:06.102Z"
   },
   {
    "duration": 14,
    "start_time": "2024-07-03T12:44:39.497Z"
   },
   {
    "duration": 11,
    "start_time": "2024-07-03T12:44:49.444Z"
   },
   {
    "duration": 5,
    "start_time": "2024-07-03T12:45:13.128Z"
   },
   {
    "duration": 13,
    "start_time": "2024-07-03T12:48:38.149Z"
   },
   {
    "duration": 8,
    "start_time": "2024-07-03T12:48:41.644Z"
   },
   {
    "duration": 10,
    "start_time": "2024-07-03T12:49:06.381Z"
   },
   {
    "duration": 64,
    "start_time": "2024-07-03T12:49:46.789Z"
   },
   {
    "duration": 74,
    "start_time": "2024-07-03T12:50:03.347Z"
   },
   {
    "duration": 16,
    "start_time": "2024-07-03T12:50:08.945Z"
   },
   {
    "duration": 63,
    "start_time": "2024-07-03T12:50:18.076Z"
   },
   {
    "duration": 65,
    "start_time": "2024-07-03T12:52:12.386Z"
   },
   {
    "duration": 72,
    "start_time": "2024-07-03T12:53:31.991Z"
   },
   {
    "duration": 71,
    "start_time": "2024-07-03T12:54:44.064Z"
   },
   {
    "duration": 187,
    "start_time": "2024-07-03T12:55:35.356Z"
   },
   {
    "duration": 64,
    "start_time": "2024-07-03T12:55:43.691Z"
   },
   {
    "duration": 79,
    "start_time": "2024-07-03T12:56:43.484Z"
   },
   {
    "duration": 109,
    "start_time": "2024-07-03T12:57:01.486Z"
   },
   {
    "duration": 63,
    "start_time": "2024-07-03T12:59:47.877Z"
   },
   {
    "duration": 8,
    "start_time": "2024-07-03T13:07:59.827Z"
   },
   {
    "duration": 8,
    "start_time": "2024-07-03T13:09:33.444Z"
   },
   {
    "duration": 289,
    "start_time": "2024-07-03T13:21:00.693Z"
   },
   {
    "duration": 71,
    "start_time": "2024-07-03T13:21:55.044Z"
   },
   {
    "duration": 226,
    "start_time": "2024-07-03T13:22:01.358Z"
   },
   {
    "duration": 11,
    "start_time": "2024-07-03T13:23:30.434Z"
   },
   {
    "duration": 7,
    "start_time": "2024-07-03T13:25:24.941Z"
   },
   {
    "duration": 66,
    "start_time": "2024-07-03T13:28:13.659Z"
   },
   {
    "duration": 13,
    "start_time": "2024-07-03T13:29:18.691Z"
   },
   {
    "duration": 67,
    "start_time": "2024-07-03T13:29:35.020Z"
   },
   {
    "duration": 13,
    "start_time": "2024-07-03T13:29:41.113Z"
   },
   {
    "duration": 6,
    "start_time": "2024-07-03T13:30:04.224Z"
   },
   {
    "duration": 10,
    "start_time": "2024-07-03T13:30:16.312Z"
   },
   {
    "duration": 78,
    "start_time": "2024-07-03T13:31:40.744Z"
   },
   {
    "duration": 76,
    "start_time": "2024-07-03T13:47:15.794Z"
   },
   {
    "duration": 77,
    "start_time": "2024-07-03T13:47:26.958Z"
   },
   {
    "duration": 7,
    "start_time": "2024-07-03T13:50:33.639Z"
   },
   {
    "duration": 8,
    "start_time": "2024-07-03T13:50:49.628Z"
   },
   {
    "duration": 838,
    "start_time": "2024-07-03T14:39:59.414Z"
   },
   {
    "duration": 875,
    "start_time": "2024-07-03T14:40:12.871Z"
   },
   {
    "duration": 90,
    "start_time": "2024-07-03T14:40:24.518Z"
   },
   {
    "duration": 89,
    "start_time": "2024-07-03T14:50:27.977Z"
   },
   {
    "duration": 7,
    "start_time": "2024-07-03T14:52:04.749Z"
   },
   {
    "duration": 7,
    "start_time": "2024-07-03T14:52:22.686Z"
   },
   {
    "duration": 61,
    "start_time": "2024-07-06T06:04:05.277Z"
   },
   {
    "duration": 1306,
    "start_time": "2024-07-06T06:04:12.462Z"
   },
   {
    "duration": 306,
    "start_time": "2024-07-06T06:04:13.770Z"
   },
   {
    "duration": 20,
    "start_time": "2024-07-06T06:04:14.077Z"
   },
   {
    "duration": 23,
    "start_time": "2024-07-06T06:04:14.098Z"
   },
   {
    "duration": 13,
    "start_time": "2024-07-06T06:04:14.123Z"
   },
   {
    "duration": 9,
    "start_time": "2024-07-06T06:04:14.137Z"
   },
   {
    "duration": 11,
    "start_time": "2024-07-06T06:04:14.155Z"
   },
   {
    "duration": 9,
    "start_time": "2024-07-06T06:04:14.168Z"
   },
   {
    "duration": 164,
    "start_time": "2024-07-06T06:04:14.178Z"
   },
   {
    "duration": 90,
    "start_time": "2024-07-06T06:04:14.344Z"
   },
   {
    "duration": 20,
    "start_time": "2024-07-06T06:04:14.436Z"
   },
   {
    "duration": 99,
    "start_time": "2024-07-06T06:04:14.458Z"
   },
   {
    "duration": 9,
    "start_time": "2024-07-06T06:04:14.559Z"
   },
   {
    "duration": 140,
    "start_time": "2024-07-06T06:04:14.571Z"
   },
   {
    "duration": 8,
    "start_time": "2024-07-06T06:04:14.712Z"
   },
   {
    "duration": 104,
    "start_time": "2024-07-06T06:04:14.722Z"
   },
   {
    "duration": 124,
    "start_time": "2024-07-06T06:04:32.643Z"
   },
   {
    "duration": 116,
    "start_time": "2024-07-06T06:05:10.660Z"
   },
   {
    "duration": 120,
    "start_time": "2024-07-06T06:07:19.587Z"
   },
   {
    "duration": 24,
    "start_time": "2024-07-06T06:17:27.587Z"
   },
   {
    "duration": 21,
    "start_time": "2024-07-06T06:17:58.986Z"
   },
   {
    "duration": 24,
    "start_time": "2024-07-06T06:18:18.338Z"
   },
   {
    "duration": 23,
    "start_time": "2024-07-06T06:18:33.023Z"
   },
   {
    "duration": 23,
    "start_time": "2024-07-06T06:18:40.290Z"
   },
   {
    "duration": 24,
    "start_time": "2024-07-06T06:18:46.910Z"
   },
   {
    "duration": 26,
    "start_time": "2024-07-06T06:21:07.967Z"
   },
   {
    "duration": 28,
    "start_time": "2024-07-06T06:21:17.976Z"
   },
   {
    "duration": 66,
    "start_time": "2024-07-06T06:27:51.487Z"
   },
   {
    "duration": 11,
    "start_time": "2024-07-06T06:31:45.305Z"
   },
   {
    "duration": 17,
    "start_time": "2024-07-06T06:31:53.739Z"
   },
   {
    "duration": 12,
    "start_time": "2024-07-06T06:32:23.588Z"
   },
   {
    "duration": 21,
    "start_time": "2024-07-06T06:33:29.983Z"
   },
   {
    "duration": 19,
    "start_time": "2024-07-06T06:33:47.583Z"
   },
   {
    "duration": 14,
    "start_time": "2024-07-06T07:00:18.972Z"
   },
   {
    "duration": 5,
    "start_time": "2024-07-06T07:02:42.725Z"
   },
   {
    "duration": 168,
    "start_time": "2024-07-06T07:02:47.734Z"
   },
   {
    "duration": 168,
    "start_time": "2024-07-06T07:02:56.351Z"
   },
   {
    "duration": 199,
    "start_time": "2024-07-06T07:04:24.639Z"
   },
   {
    "duration": 9,
    "start_time": "2024-07-06T07:05:32.227Z"
   },
   {
    "duration": 127,
    "start_time": "2024-07-06T07:05:43.180Z"
   },
   {
    "duration": 132,
    "start_time": "2024-07-06T07:05:57.084Z"
   },
   {
    "duration": 167,
    "start_time": "2024-07-06T07:09:44.644Z"
   },
   {
    "duration": 168,
    "start_time": "2024-07-06T07:10:38.031Z"
   },
   {
    "duration": 163,
    "start_time": "2024-07-06T07:12:04.009Z"
   },
   {
    "duration": 166,
    "start_time": "2024-07-06T07:17:56.427Z"
   },
   {
    "duration": 156,
    "start_time": "2024-07-06T07:19:28.776Z"
   },
   {
    "duration": 181,
    "start_time": "2024-07-06T07:20:02.175Z"
   },
   {
    "duration": 191,
    "start_time": "2024-07-06T07:20:11.311Z"
   },
   {
    "duration": 67,
    "start_time": "2024-07-06T07:23:33.629Z"
   },
   {
    "duration": 21,
    "start_time": "2024-07-06T07:24:04.761Z"
   },
   {
    "duration": 19,
    "start_time": "2024-07-06T07:24:51.114Z"
   },
   {
    "duration": 19,
    "start_time": "2024-07-06T07:26:57.428Z"
   },
   {
    "duration": 947,
    "start_time": "2024-07-06T07:28:09.262Z"
   },
   {
    "duration": 1013,
    "start_time": "2024-07-06T07:28:29.623Z"
   },
   {
    "duration": 200,
    "start_time": "2024-07-06T07:28:40.455Z"
   },
   {
    "duration": 424,
    "start_time": "2024-07-06T07:29:12.444Z"
   },
   {
    "duration": 235,
    "start_time": "2024-07-06T07:29:24.682Z"
   },
   {
    "duration": 65,
    "start_time": "2024-07-06T07:30:29.155Z"
   },
   {
    "duration": 990,
    "start_time": "2024-07-06T07:30:43.123Z"
   },
   {
    "duration": 226,
    "start_time": "2024-07-06T07:30:55.451Z"
   },
   {
    "duration": 242,
    "start_time": "2024-07-06T07:31:09.787Z"
   },
   {
    "duration": 70,
    "start_time": "2024-07-06T07:31:18.884Z"
   },
   {
    "duration": 254,
    "start_time": "2024-07-06T07:31:27.776Z"
   },
   {
    "duration": 243,
    "start_time": "2024-07-06T07:31:32.911Z"
   },
   {
    "duration": 290,
    "start_time": "2024-07-06T07:32:00.415Z"
   },
   {
    "duration": 275,
    "start_time": "2024-07-06T07:35:29.150Z"
   },
   {
    "duration": 210,
    "start_time": "2024-07-06T07:38:22.507Z"
   },
   {
    "duration": 387,
    "start_time": "2024-07-06T07:39:09.942Z"
   },
   {
    "duration": 256,
    "start_time": "2024-07-06T07:39:18.253Z"
   },
   {
    "duration": 246,
    "start_time": "2024-07-06T07:50:40.146Z"
   },
   {
    "duration": 228,
    "start_time": "2024-07-06T07:50:54.281Z"
   },
   {
    "duration": 224,
    "start_time": "2024-07-06T07:51:01.690Z"
   },
   {
    "duration": 1059,
    "start_time": "2024-07-06T08:00:43.109Z"
   },
   {
    "duration": 243,
    "start_time": "2024-07-06T08:00:55.516Z"
   },
   {
    "duration": 307,
    "start_time": "2024-07-06T08:01:20.727Z"
   },
   {
    "duration": 277,
    "start_time": "2024-07-06T08:01:30.644Z"
   },
   {
    "duration": 251,
    "start_time": "2024-07-06T08:03:08.064Z"
   },
   {
    "duration": 270,
    "start_time": "2024-07-06T08:03:16.344Z"
   },
   {
    "duration": 240,
    "start_time": "2024-07-06T08:03:22.393Z"
   },
   {
    "duration": 244,
    "start_time": "2024-07-06T08:03:38.009Z"
   },
   {
    "duration": 330,
    "start_time": "2024-07-06T08:03:57.951Z"
   },
   {
    "duration": 255,
    "start_time": "2024-07-06T08:04:11.696Z"
   },
   {
    "duration": 4364,
    "start_time": "2024-07-06T08:15:35.305Z"
   },
   {
    "duration": 16,
    "start_time": "2024-07-06T08:16:03.295Z"
   },
   {
    "duration": 12,
    "start_time": "2024-07-06T08:18:04.935Z"
   },
   {
    "duration": 18,
    "start_time": "2024-07-06T08:18:15.941Z"
   },
   {
    "duration": 16,
    "start_time": "2024-07-06T08:18:46.525Z"
   },
   {
    "duration": 18,
    "start_time": "2024-07-06T08:19:09.063Z"
   },
   {
    "duration": 21,
    "start_time": "2024-07-06T08:24:24.310Z"
   },
   {
    "duration": 21,
    "start_time": "2024-07-06T08:25:14.298Z"
   },
   {
    "duration": 30,
    "start_time": "2024-07-06T08:25:19.436Z"
   },
   {
    "duration": 16,
    "start_time": "2024-07-06T08:25:24.434Z"
   },
   {
    "duration": 18,
    "start_time": "2024-07-06T08:27:09.028Z"
   },
   {
    "duration": 24,
    "start_time": "2024-07-06T08:33:25.808Z"
   },
   {
    "duration": 23,
    "start_time": "2024-07-06T08:34:21.996Z"
   },
   {
    "duration": 22,
    "start_time": "2024-07-06T08:35:07.358Z"
   },
   {
    "duration": 22,
    "start_time": "2024-07-06T08:35:18.246Z"
   },
   {
    "duration": 23,
    "start_time": "2024-07-06T08:35:24.254Z"
   },
   {
    "duration": 25,
    "start_time": "2024-07-06T08:35:35.123Z"
   },
   {
    "duration": 22,
    "start_time": "2024-07-06T08:37:15.931Z"
   },
   {
    "duration": 22,
    "start_time": "2024-07-06T08:42:25.033Z"
   },
   {
    "duration": 16,
    "start_time": "2024-07-06T08:42:47.432Z"
   },
   {
    "duration": 38,
    "start_time": "2024-07-06T09:31:47.431Z"
   },
   {
    "duration": 20,
    "start_time": "2024-07-06T09:32:09.284Z"
   },
   {
    "duration": 21,
    "start_time": "2024-07-06T09:32:21.579Z"
   },
   {
    "duration": 20,
    "start_time": "2024-07-06T09:32:27.971Z"
   },
   {
    "duration": 41,
    "start_time": "2024-07-06T09:32:43.291Z"
   },
   {
    "duration": 33,
    "start_time": "2024-07-06T09:32:56.963Z"
   },
   {
    "duration": 26,
    "start_time": "2024-07-06T09:33:11.564Z"
   },
   {
    "duration": 43,
    "start_time": "2024-07-06T09:33:42.399Z"
   },
   {
    "duration": 89,
    "start_time": "2024-07-06T09:35:42.235Z"
   },
   {
    "duration": 87,
    "start_time": "2024-07-06T09:47:50.261Z"
   },
   {
    "duration": 88,
    "start_time": "2024-07-06T09:48:15.508Z"
   },
   {
    "duration": 23,
    "start_time": "2024-07-06T09:48:21.028Z"
   },
   {
    "duration": 51,
    "start_time": "2024-07-06T09:49:06.954Z"
   },
   {
    "duration": 60,
    "start_time": "2024-07-06T09:49:30.405Z"
   },
   {
    "duration": 78,
    "start_time": "2024-07-06T09:51:59.312Z"
   },
   {
    "duration": 83,
    "start_time": "2024-07-06T09:52:13.032Z"
   },
   {
    "duration": 25,
    "start_time": "2024-07-06T09:53:48.238Z"
   },
   {
    "duration": 17,
    "start_time": "2024-07-06T09:55:06.857Z"
   },
   {
    "duration": 16,
    "start_time": "2024-07-06T09:55:29.722Z"
   },
   {
    "duration": 79,
    "start_time": "2024-07-06T09:56:21.441Z"
   },
   {
    "duration": 74,
    "start_time": "2024-07-06T09:56:37.801Z"
   },
   {
    "duration": 23,
    "start_time": "2024-07-06T09:57:10.931Z"
   },
   {
    "duration": 920,
    "start_time": "2024-07-06T09:59:26.262Z"
   },
   {
    "duration": 27,
    "start_time": "2024-07-06T09:59:55.351Z"
   },
   {
    "duration": 26,
    "start_time": "2024-07-06T10:00:32.705Z"
   },
   {
    "duration": 19,
    "start_time": "2024-07-06T10:00:48.297Z"
   },
   {
    "duration": 25,
    "start_time": "2024-07-06T10:01:04.913Z"
   },
   {
    "duration": 27,
    "start_time": "2024-07-06T10:01:11.746Z"
   },
   {
    "duration": 27,
    "start_time": "2024-07-06T10:01:18.184Z"
   },
   {
    "duration": 28,
    "start_time": "2024-07-06T10:02:30.368Z"
   },
   {
    "duration": 44,
    "start_time": "2024-07-06T10:03:01.136Z"
   },
   {
    "duration": 5816,
    "start_time": "2024-07-06T10:03:21.727Z"
   },
   {
    "duration": 28,
    "start_time": "2024-07-06T10:04:12.405Z"
   },
   {
    "duration": 37,
    "start_time": "2024-07-06T10:05:30.882Z"
   },
   {
    "duration": 1222,
    "start_time": "2024-07-06T10:05:46.043Z"
   },
   {
    "duration": 72,
    "start_time": "2024-07-06T10:05:47.266Z"
   },
   {
    "duration": 24,
    "start_time": "2024-07-06T10:05:47.340Z"
   },
   {
    "duration": 33,
    "start_time": "2024-07-06T10:05:47.365Z"
   },
   {
    "duration": 15,
    "start_time": "2024-07-06T10:05:47.400Z"
   },
   {
    "duration": 15,
    "start_time": "2024-07-06T10:05:47.417Z"
   },
   {
    "duration": 37,
    "start_time": "2024-07-06T10:05:47.433Z"
   },
   {
    "duration": 13,
    "start_time": "2024-07-06T10:05:47.471Z"
   },
   {
    "duration": 170,
    "start_time": "2024-07-06T10:05:47.486Z"
   },
   {
    "duration": 100,
    "start_time": "2024-07-06T10:05:47.658Z"
   },
   {
    "duration": 9,
    "start_time": "2024-07-06T10:05:47.760Z"
   },
   {
    "duration": 102,
    "start_time": "2024-07-06T10:05:47.773Z"
   },
   {
    "duration": 10,
    "start_time": "2024-07-06T10:05:47.876Z"
   },
   {
    "duration": 124,
    "start_time": "2024-07-06T10:05:47.889Z"
   },
   {
    "duration": 119,
    "start_time": "2024-07-06T10:05:48.015Z"
   },
   {
    "duration": 42,
    "start_time": "2024-07-06T10:05:48.135Z"
   },
   {
    "duration": 25,
    "start_time": "2024-07-06T10:05:48.179Z"
   },
   {
    "duration": 17,
    "start_time": "2024-07-06T10:05:48.205Z"
   },
   {
    "duration": 326,
    "start_time": "2024-07-06T10:05:48.224Z"
   },
   {
    "duration": 288,
    "start_time": "2024-07-06T10:05:48.552Z"
   },
   {
    "duration": 61,
    "start_time": "2024-07-06T10:05:48.841Z"
   },
   {
    "duration": 33,
    "start_time": "2024-07-06T10:06:12.339Z"
   },
   {
    "duration": 113,
    "start_time": "2024-07-06T10:06:32.083Z"
   },
   {
    "duration": 44,
    "start_time": "2024-07-06T10:06:42.276Z"
   },
   {
    "duration": 36,
    "start_time": "2024-07-06T10:07:09.061Z"
   },
   {
    "duration": 103,
    "start_time": "2024-07-06T10:07:16.756Z"
   },
   {
    "duration": 21,
    "start_time": "2024-07-06T10:14:14.049Z"
   },
   {
    "duration": 23,
    "start_time": "2024-07-06T10:14:35.545Z"
   },
   {
    "duration": 16,
    "start_time": "2024-07-06T10:15:36.606Z"
   },
   {
    "duration": 10,
    "start_time": "2024-07-06T10:15:40.302Z"
   },
   {
    "duration": 1078,
    "start_time": "2024-07-06T10:16:03.826Z"
   },
   {
    "duration": 68,
    "start_time": "2024-07-06T10:16:04.906Z"
   },
   {
    "duration": 21,
    "start_time": "2024-07-06T10:16:04.976Z"
   },
   {
    "duration": 24,
    "start_time": "2024-07-06T10:16:04.998Z"
   },
   {
    "duration": 26,
    "start_time": "2024-07-06T10:16:05.024Z"
   },
   {
    "duration": 28,
    "start_time": "2024-07-06T10:16:05.052Z"
   },
   {
    "duration": 38,
    "start_time": "2024-07-06T10:16:05.081Z"
   },
   {
    "duration": 14,
    "start_time": "2024-07-06T10:16:05.120Z"
   },
   {
    "duration": 166,
    "start_time": "2024-07-06T10:16:05.136Z"
   },
   {
    "duration": 90,
    "start_time": "2024-07-06T10:16:05.304Z"
   },
   {
    "duration": 8,
    "start_time": "2024-07-06T10:16:05.395Z"
   },
   {
    "duration": 96,
    "start_time": "2024-07-06T10:16:05.404Z"
   },
   {
    "duration": 9,
    "start_time": "2024-07-06T10:16:05.501Z"
   },
   {
    "duration": 111,
    "start_time": "2024-07-06T10:16:05.513Z"
   },
   {
    "duration": 124,
    "start_time": "2024-07-06T10:16:05.626Z"
   },
   {
    "duration": 34,
    "start_time": "2024-07-06T10:16:05.751Z"
   },
   {
    "duration": 19,
    "start_time": "2024-07-06T10:16:05.787Z"
   },
   {
    "duration": 17,
    "start_time": "2024-07-06T10:16:05.808Z"
   },
   {
    "duration": 275,
    "start_time": "2024-07-06T10:16:05.827Z"
   },
   {
    "duration": 257,
    "start_time": "2024-07-06T10:16:06.104Z"
   },
   {
    "duration": 24,
    "start_time": "2024-07-06T10:16:06.362Z"
   },
   {
    "duration": 104,
    "start_time": "2024-07-06T10:17:10.108Z"
   },
   {
    "duration": 1083,
    "start_time": "2024-07-06T10:17:16.336Z"
   },
   {
    "duration": 69,
    "start_time": "2024-07-06T10:17:17.421Z"
   },
   {
    "duration": 21,
    "start_time": "2024-07-06T10:17:17.491Z"
   },
   {
    "duration": 25,
    "start_time": "2024-07-06T10:17:17.513Z"
   },
   {
    "duration": 16,
    "start_time": "2024-07-06T10:17:17.539Z"
   },
   {
    "duration": 10,
    "start_time": "2024-07-06T10:17:17.556Z"
   },
   {
    "duration": 19,
    "start_time": "2024-07-06T10:17:17.567Z"
   },
   {
    "duration": 11,
    "start_time": "2024-07-06T10:17:17.587Z"
   },
   {
    "duration": 173,
    "start_time": "2024-07-06T10:17:17.599Z"
   },
   {
    "duration": 70,
    "start_time": "2024-07-06T10:17:17.774Z"
   },
   {
    "duration": 7,
    "start_time": "2024-07-06T10:17:17.855Z"
   },
   {
    "duration": 95,
    "start_time": "2024-07-06T10:17:17.863Z"
   },
   {
    "duration": 7,
    "start_time": "2024-07-06T10:17:17.960Z"
   },
   {
    "duration": 113,
    "start_time": "2024-07-06T10:17:17.969Z"
   },
   {
    "duration": 117,
    "start_time": "2024-07-06T10:17:18.084Z"
   },
   {
    "duration": 30,
    "start_time": "2024-07-06T10:17:18.203Z"
   },
   {
    "duration": 38,
    "start_time": "2024-07-06T10:17:18.235Z"
   },
   {
    "duration": 20,
    "start_time": "2024-07-06T10:17:18.275Z"
   },
   {
    "duration": 267,
    "start_time": "2024-07-06T10:17:18.297Z"
   },
   {
    "duration": 330,
    "start_time": "2024-07-06T10:17:18.566Z"
   },
   {
    "duration": 30,
    "start_time": "2024-07-06T10:17:18.897Z"
   },
   {
    "duration": 100,
    "start_time": "2024-07-06T10:17:41.985Z"
   },
   {
    "duration": 1104,
    "start_time": "2024-07-06T10:17:45.308Z"
   },
   {
    "duration": 68,
    "start_time": "2024-07-06T10:17:46.413Z"
   },
   {
    "duration": 20,
    "start_time": "2024-07-06T10:17:46.482Z"
   },
   {
    "duration": 23,
    "start_time": "2024-07-06T10:17:46.503Z"
   },
   {
    "duration": 12,
    "start_time": "2024-07-06T10:17:46.527Z"
   },
   {
    "duration": 17,
    "start_time": "2024-07-06T10:17:46.541Z"
   },
   {
    "duration": 11,
    "start_time": "2024-07-06T10:17:46.559Z"
   },
   {
    "duration": 10,
    "start_time": "2024-07-06T10:17:46.571Z"
   },
   {
    "duration": 173,
    "start_time": "2024-07-06T10:17:46.583Z"
   },
   {
    "duration": 72,
    "start_time": "2024-07-06T10:17:46.758Z"
   },
   {
    "duration": 25,
    "start_time": "2024-07-06T10:17:46.831Z"
   },
   {
    "duration": 83,
    "start_time": "2024-07-06T10:17:46.858Z"
   },
   {
    "duration": 8,
    "start_time": "2024-07-06T10:17:46.956Z"
   },
   {
    "duration": 119,
    "start_time": "2024-07-06T10:17:46.965Z"
   },
   {
    "duration": 124,
    "start_time": "2024-07-06T10:17:47.085Z"
   },
   {
    "duration": 30,
    "start_time": "2024-07-06T10:17:47.210Z"
   },
   {
    "duration": 36,
    "start_time": "2024-07-06T10:17:47.242Z"
   },
   {
    "duration": 57,
    "start_time": "2024-07-06T10:17:47.280Z"
   },
   {
    "duration": 255,
    "start_time": "2024-07-06T10:17:47.338Z"
   },
   {
    "duration": 261,
    "start_time": "2024-07-06T10:17:47.594Z"
   },
   {
    "duration": 117,
    "start_time": "2024-07-06T10:17:47.857Z"
   },
   {
    "duration": 30,
    "start_time": "2024-07-06T10:17:55.234Z"
   },
   {
    "duration": 10,
    "start_time": "2024-07-06T10:18:07.093Z"
   },
   {
    "duration": 1115,
    "start_time": "2024-07-06T10:18:21.044Z"
   },
   {
    "duration": 69,
    "start_time": "2024-07-06T10:18:22.161Z"
   },
   {
    "duration": 20,
    "start_time": "2024-07-06T10:18:22.232Z"
   },
   {
    "duration": 25,
    "start_time": "2024-07-06T10:18:22.254Z"
   },
   {
    "duration": 13,
    "start_time": "2024-07-06T10:18:22.280Z"
   },
   {
    "duration": 10,
    "start_time": "2024-07-06T10:18:22.295Z"
   },
   {
    "duration": 12,
    "start_time": "2024-07-06T10:18:22.307Z"
   },
   {
    "duration": 35,
    "start_time": "2024-07-06T10:18:22.321Z"
   },
   {
    "duration": 156,
    "start_time": "2024-07-06T10:18:22.358Z"
   },
   {
    "duration": 81,
    "start_time": "2024-07-06T10:18:22.516Z"
   },
   {
    "duration": 7,
    "start_time": "2024-07-06T10:18:22.598Z"
   },
   {
    "duration": 100,
    "start_time": "2024-07-06T10:18:22.607Z"
   },
   {
    "duration": 8,
    "start_time": "2024-07-06T10:18:22.708Z"
   },
   {
    "duration": 106,
    "start_time": "2024-07-06T10:18:22.717Z"
   },
   {
    "duration": 121,
    "start_time": "2024-07-06T10:18:22.825Z"
   },
   {
    "duration": 34,
    "start_time": "2024-07-06T10:18:22.948Z"
   },
   {
    "duration": 20,
    "start_time": "2024-07-06T10:18:22.984Z"
   },
   {
    "duration": 17,
    "start_time": "2024-07-06T10:18:23.005Z"
   },
   {
    "duration": 270,
    "start_time": "2024-07-06T10:18:23.023Z"
   },
   {
    "duration": 261,
    "start_time": "2024-07-06T10:18:23.294Z"
   },
   {
    "duration": 39,
    "start_time": "2024-07-06T10:18:23.557Z"
   },
   {
    "duration": 99,
    "start_time": "2024-07-06T10:18:42.660Z"
   },
   {
    "duration": 10,
    "start_time": "2024-07-06T10:19:03.522Z"
   },
   {
    "duration": 9,
    "start_time": "2024-07-06T10:19:07.105Z"
   },
   {
    "duration": 10,
    "start_time": "2024-07-06T10:19:36.161Z"
   },
   {
    "duration": 1118,
    "start_time": "2024-07-06T10:19:45.335Z"
   },
   {
    "duration": 70,
    "start_time": "2024-07-06T10:19:46.455Z"
   },
   {
    "duration": 20,
    "start_time": "2024-07-06T10:19:46.526Z"
   },
   {
    "duration": 24,
    "start_time": "2024-07-06T10:19:46.548Z"
   },
   {
    "duration": 18,
    "start_time": "2024-07-06T10:19:46.573Z"
   },
   {
    "duration": 12,
    "start_time": "2024-07-06T10:19:46.593Z"
   },
   {
    "duration": 16,
    "start_time": "2024-07-06T10:19:46.607Z"
   },
   {
    "duration": 38,
    "start_time": "2024-07-06T10:19:46.625Z"
   },
   {
    "duration": 186,
    "start_time": "2024-07-06T10:19:46.665Z"
   },
   {
    "duration": 89,
    "start_time": "2024-07-06T10:19:46.854Z"
   },
   {
    "duration": 9,
    "start_time": "2024-07-06T10:19:46.955Z"
   },
   {
    "duration": 101,
    "start_time": "2024-07-06T10:19:46.965Z"
   },
   {
    "duration": 8,
    "start_time": "2024-07-06T10:19:47.068Z"
   },
   {
    "duration": 134,
    "start_time": "2024-07-06T10:19:47.077Z"
   },
   {
    "duration": 124,
    "start_time": "2024-07-06T10:19:47.212Z"
   },
   {
    "duration": 46,
    "start_time": "2024-07-06T10:19:47.337Z"
   },
   {
    "duration": 22,
    "start_time": "2024-07-06T10:19:47.385Z"
   },
   {
    "duration": 17,
    "start_time": "2024-07-06T10:19:47.409Z"
   },
   {
    "duration": 291,
    "start_time": "2024-07-06T10:19:47.427Z"
   },
   {
    "duration": 266,
    "start_time": "2024-07-06T10:19:47.720Z"
   },
   {
    "duration": 22,
    "start_time": "2024-07-06T10:19:47.988Z"
   },
   {
    "duration": 114,
    "start_time": "2024-07-06T10:19:57.720Z"
   },
   {
    "duration": 1035,
    "start_time": "2024-07-06T10:20:01.481Z"
   },
   {
    "duration": 73,
    "start_time": "2024-07-06T10:20:02.518Z"
   },
   {
    "duration": 28,
    "start_time": "2024-07-06T10:20:02.592Z"
   },
   {
    "duration": 30,
    "start_time": "2024-07-06T10:20:02.622Z"
   },
   {
    "duration": 13,
    "start_time": "2024-07-06T10:20:02.655Z"
   },
   {
    "duration": 24,
    "start_time": "2024-07-06T10:20:02.670Z"
   },
   {
    "duration": 16,
    "start_time": "2024-07-06T10:20:02.695Z"
   },
   {
    "duration": 14,
    "start_time": "2024-07-06T10:20:02.712Z"
   },
   {
    "duration": 157,
    "start_time": "2024-07-06T10:20:02.728Z"
   },
   {
    "duration": 79,
    "start_time": "2024-07-06T10:20:02.888Z"
   },
   {
    "duration": 7,
    "start_time": "2024-07-06T10:20:02.968Z"
   },
   {
    "duration": 102,
    "start_time": "2024-07-06T10:20:02.977Z"
   },
   {
    "duration": 9,
    "start_time": "2024-07-06T10:20:03.081Z"
   },
   {
    "duration": 145,
    "start_time": "2024-07-06T10:20:03.091Z"
   },
   {
    "duration": 125,
    "start_time": "2024-07-06T10:20:03.238Z"
   },
   {
    "duration": 34,
    "start_time": "2024-07-06T10:20:03.365Z"
   },
   {
    "duration": 21,
    "start_time": "2024-07-06T10:20:03.401Z"
   },
   {
    "duration": 42,
    "start_time": "2024-07-06T10:20:03.423Z"
   },
   {
    "duration": 249,
    "start_time": "2024-07-06T10:20:03.467Z"
   },
   {
    "duration": 262,
    "start_time": "2024-07-06T10:20:03.718Z"
   },
   {
    "duration": 122,
    "start_time": "2024-07-06T10:20:03.982Z"
   },
   {
    "duration": 24,
    "start_time": "2024-07-06T10:20:12.574Z"
   },
   {
    "duration": 28,
    "start_time": "2024-07-06T10:20:55.047Z"
   },
   {
    "duration": 13,
    "start_time": "2024-07-06T10:23:24.368Z"
   },
   {
    "duration": 97,
    "start_time": "2024-07-06T10:25:25.158Z"
   },
   {
    "duration": 1055,
    "start_time": "2024-07-06T10:25:51.708Z"
   },
   {
    "duration": 68,
    "start_time": "2024-07-06T10:25:52.765Z"
   },
   {
    "duration": 22,
    "start_time": "2024-07-06T10:25:52.834Z"
   },
   {
    "duration": 23,
    "start_time": "2024-07-06T10:25:52.858Z"
   },
   {
    "duration": 13,
    "start_time": "2024-07-06T10:25:52.882Z"
   },
   {
    "duration": 13,
    "start_time": "2024-07-06T10:25:52.896Z"
   },
   {
    "duration": 14,
    "start_time": "2024-07-06T10:25:52.910Z"
   },
   {
    "duration": 40,
    "start_time": "2024-07-06T10:25:52.926Z"
   },
   {
    "duration": 154,
    "start_time": "2024-07-06T10:25:52.967Z"
   },
   {
    "duration": 75,
    "start_time": "2024-07-06T10:25:53.123Z"
   },
   {
    "duration": 7,
    "start_time": "2024-07-06T10:25:53.199Z"
   },
   {
    "duration": 108,
    "start_time": "2024-07-06T10:25:53.207Z"
   },
   {
    "duration": 7,
    "start_time": "2024-07-06T10:25:53.317Z"
   },
   {
    "duration": 118,
    "start_time": "2024-07-06T10:25:53.326Z"
   },
   {
    "duration": 116,
    "start_time": "2024-07-06T10:25:53.445Z"
   },
   {
    "duration": 31,
    "start_time": "2024-07-06T10:25:53.563Z"
   },
   {
    "duration": 20,
    "start_time": "2024-07-06T10:25:53.596Z"
   },
   {
    "duration": 47,
    "start_time": "2024-07-06T10:25:53.618Z"
   },
   {
    "duration": 259,
    "start_time": "2024-07-06T10:25:53.667Z"
   },
   {
    "duration": 257,
    "start_time": "2024-07-06T10:25:53.928Z"
   },
   {
    "duration": 27,
    "start_time": "2024-07-06T10:25:54.187Z"
   },
   {
    "duration": 55,
    "start_time": "2024-07-06T10:25:54.215Z"
   },
   {
    "duration": 57,
    "start_time": "2024-07-06T10:26:53.367Z"
   },
   {
    "duration": 4,
    "start_time": "2024-07-06T10:27:24.554Z"
   },
   {
    "duration": 14,
    "start_time": "2024-07-06T10:27:33.098Z"
   },
   {
    "duration": 101,
    "start_time": "2024-07-06T10:30:04.456Z"
   },
   {
    "duration": 124,
    "start_time": "2024-07-06T10:30:27.764Z"
   },
   {
    "duration": 39,
    "start_time": "2024-07-06T10:30:45.632Z"
   },
   {
    "duration": 32,
    "start_time": "2024-07-06T10:34:33.161Z"
   },
   {
    "duration": 35,
    "start_time": "2024-07-06T10:37:25.544Z"
   },
   {
    "duration": 20,
    "start_time": "2024-07-06T10:37:53.524Z"
   },
   {
    "duration": 26,
    "start_time": "2024-07-06T10:39:52.989Z"
   },
   {
    "duration": 19,
    "start_time": "2024-07-06T10:41:19.591Z"
   },
   {
    "duration": 62,
    "start_time": "2024-07-06T10:41:25.096Z"
   },
   {
    "duration": 30,
    "start_time": "2024-07-06T10:41:36.390Z"
   },
   {
    "duration": 27,
    "start_time": "2024-07-06T10:41:44.776Z"
   },
   {
    "duration": 34,
    "start_time": "2024-07-06T11:20:04.541Z"
   },
   {
    "duration": 1160,
    "start_time": "2024-07-06T11:20:36.677Z"
   },
   {
    "duration": 71,
    "start_time": "2024-07-06T11:20:37.839Z"
   },
   {
    "duration": 21,
    "start_time": "2024-07-06T11:20:37.912Z"
   },
   {
    "duration": 30,
    "start_time": "2024-07-06T11:20:37.935Z"
   },
   {
    "duration": 20,
    "start_time": "2024-07-06T11:20:37.968Z"
   },
   {
    "duration": 10,
    "start_time": "2024-07-06T11:20:37.990Z"
   },
   {
    "duration": 13,
    "start_time": "2024-07-06T11:20:38.001Z"
   },
   {
    "duration": 40,
    "start_time": "2024-07-06T11:20:38.016Z"
   },
   {
    "duration": 171,
    "start_time": "2024-07-06T11:20:38.058Z"
   },
   {
    "duration": 81,
    "start_time": "2024-07-06T11:20:38.230Z"
   },
   {
    "duration": 8,
    "start_time": "2024-07-06T11:20:38.313Z"
   },
   {
    "duration": 105,
    "start_time": "2024-07-06T11:20:38.323Z"
   },
   {
    "duration": 9,
    "start_time": "2024-07-06T11:20:38.430Z"
   },
   {
    "duration": 126,
    "start_time": "2024-07-06T11:20:38.457Z"
   },
   {
    "duration": 192,
    "start_time": "2024-07-06T11:20:38.585Z"
   },
   {
    "duration": 32,
    "start_time": "2024-07-06T11:20:38.780Z"
   },
   {
    "duration": 42,
    "start_time": "2024-07-06T11:20:38.815Z"
   },
   {
    "duration": 26,
    "start_time": "2024-07-06T11:20:38.858Z"
   },
   {
    "duration": 312,
    "start_time": "2024-07-06T11:20:38.885Z"
   },
   {
    "duration": 314,
    "start_time": "2024-07-06T11:20:39.199Z"
   },
   {
    "duration": 118,
    "start_time": "2024-07-06T11:20:39.515Z"
   },
   {
    "duration": 0,
    "start_time": "2024-07-06T11:20:39.635Z"
   },
   {
    "duration": 27,
    "start_time": "2024-07-06T11:20:49.978Z"
   },
   {
    "duration": 30,
    "start_time": "2024-07-06T11:21:17.939Z"
   },
   {
    "duration": 30,
    "start_time": "2024-07-06T11:21:42.176Z"
   },
   {
    "duration": 30,
    "start_time": "2024-07-06T11:23:35.957Z"
   },
   {
    "duration": 32,
    "start_time": "2024-07-06T11:24:00.085Z"
   },
   {
    "duration": 49,
    "start_time": "2024-07-06T11:24:23.775Z"
   },
   {
    "duration": 114,
    "start_time": "2024-07-06T11:27:03.976Z"
   },
   {
    "duration": 1088,
    "start_time": "2024-07-06T11:27:10.124Z"
   },
   {
    "duration": 72,
    "start_time": "2024-07-06T11:27:11.214Z"
   },
   {
    "duration": 23,
    "start_time": "2024-07-06T11:27:11.288Z"
   },
   {
    "duration": 28,
    "start_time": "2024-07-06T11:27:11.313Z"
   },
   {
    "duration": 17,
    "start_time": "2024-07-06T11:27:11.355Z"
   },
   {
    "duration": 9,
    "start_time": "2024-07-06T11:27:11.374Z"
   },
   {
    "duration": 12,
    "start_time": "2024-07-06T11:27:11.384Z"
   },
   {
    "duration": 9,
    "start_time": "2024-07-06T11:27:11.398Z"
   },
   {
    "duration": 195,
    "start_time": "2024-07-06T11:27:11.409Z"
   },
   {
    "duration": 120,
    "start_time": "2024-07-06T11:27:11.606Z"
   },
   {
    "duration": 10,
    "start_time": "2024-07-06T11:27:11.728Z"
   },
   {
    "duration": 141,
    "start_time": "2024-07-06T11:27:11.740Z"
   },
   {
    "duration": 19,
    "start_time": "2024-07-06T11:27:11.884Z"
   },
   {
    "duration": 117,
    "start_time": "2024-07-06T11:27:11.907Z"
   },
   {
    "duration": 134,
    "start_time": "2024-07-06T11:27:12.026Z"
   },
   {
    "duration": 32,
    "start_time": "2024-07-06T11:27:12.162Z"
   },
   {
    "duration": 22,
    "start_time": "2024-07-06T11:27:12.196Z"
   },
   {
    "duration": 47,
    "start_time": "2024-07-06T11:27:12.219Z"
   },
   {
    "duration": 264,
    "start_time": "2024-07-06T11:27:12.268Z"
   },
   {
    "duration": 283,
    "start_time": "2024-07-06T11:27:12.534Z"
   },
   {
    "duration": 150,
    "start_time": "2024-07-06T11:27:12.819Z"
   },
   {
    "duration": 125,
    "start_time": "2024-07-06T11:27:12.973Z"
   },
   {
    "duration": 1021,
    "start_time": "2024-07-06T11:28:06.623Z"
   },
   {
    "duration": 13,
    "start_time": "2024-07-06T11:28:17.039Z"
   },
   {
    "duration": 15,
    "start_time": "2024-07-06T11:29:03.336Z"
   },
   {
    "duration": 8,
    "start_time": "2024-07-06T11:55:32.177Z"
   },
   {
    "duration": 14,
    "start_time": "2024-07-06T11:55:42.693Z"
   },
   {
    "duration": 1115,
    "start_time": "2024-07-06T11:56:02.094Z"
   },
   {
    "duration": 69,
    "start_time": "2024-07-06T11:56:03.211Z"
   },
   {
    "duration": 29,
    "start_time": "2024-07-06T11:56:03.281Z"
   },
   {
    "duration": 25,
    "start_time": "2024-07-06T11:56:03.312Z"
   },
   {
    "duration": 24,
    "start_time": "2024-07-06T11:56:03.339Z"
   },
   {
    "duration": 11,
    "start_time": "2024-07-06T11:56:03.364Z"
   },
   {
    "duration": 14,
    "start_time": "2024-07-06T11:56:03.376Z"
   },
   {
    "duration": 11,
    "start_time": "2024-07-06T11:56:03.391Z"
   },
   {
    "duration": 186,
    "start_time": "2024-07-06T11:56:03.403Z"
   },
   {
    "duration": 84,
    "start_time": "2024-07-06T11:56:03.592Z"
   },
   {
    "duration": 8,
    "start_time": "2024-07-06T11:56:03.678Z"
   },
   {
    "duration": 96,
    "start_time": "2024-07-06T11:56:03.687Z"
   },
   {
    "duration": 9,
    "start_time": "2024-07-06T11:56:03.784Z"
   },
   {
    "duration": 123,
    "start_time": "2024-07-06T11:56:03.794Z"
   },
   {
    "duration": 133,
    "start_time": "2024-07-06T11:56:03.919Z"
   },
   {
    "duration": 33,
    "start_time": "2024-07-06T11:56:04.053Z"
   },
   {
    "duration": 21,
    "start_time": "2024-07-06T11:56:04.088Z"
   },
   {
    "duration": 45,
    "start_time": "2024-07-06T11:56:04.111Z"
   },
   {
    "duration": 258,
    "start_time": "2024-07-06T11:56:04.158Z"
   },
   {
    "duration": 286,
    "start_time": "2024-07-06T11:56:04.418Z"
   },
   {
    "duration": 116,
    "start_time": "2024-07-06T11:56:04.706Z"
   },
   {
    "duration": 14,
    "start_time": "2024-07-06T11:56:04.824Z"
   },
   {
    "duration": 48,
    "start_time": "2024-07-06T11:56:04.839Z"
   },
   {
    "duration": 79,
    "start_time": "2024-07-06T11:56:04.889Z"
   },
   {
    "duration": 5,
    "start_time": "2024-07-06T11:56:46.995Z"
   },
   {
    "duration": 64,
    "start_time": "2024-07-06T12:00:09.134Z"
   },
   {
    "duration": 75,
    "start_time": "2024-07-06T12:00:28.439Z"
   },
   {
    "duration": 18,
    "start_time": "2024-07-06T12:00:39.078Z"
   },
   {
    "duration": 15,
    "start_time": "2024-07-06T12:00:48.933Z"
   },
   {
    "duration": 13,
    "start_time": "2024-07-06T12:01:39.719Z"
   },
   {
    "duration": 97,
    "start_time": "2024-07-06T12:05:42.181Z"
   },
   {
    "duration": 12,
    "start_time": "2024-07-06T12:06:04.924Z"
   },
   {
    "duration": 13,
    "start_time": "2024-07-06T12:06:32.381Z"
   },
   {
    "duration": 1137,
    "start_time": "2024-07-06T12:06:36.386Z"
   },
   {
    "duration": 71,
    "start_time": "2024-07-06T12:06:37.525Z"
   },
   {
    "duration": 23,
    "start_time": "2024-07-06T12:06:37.597Z"
   },
   {
    "duration": 45,
    "start_time": "2024-07-06T12:06:37.622Z"
   },
   {
    "duration": 22,
    "start_time": "2024-07-06T12:06:37.670Z"
   },
   {
    "duration": 14,
    "start_time": "2024-07-06T12:06:37.694Z"
   },
   {
    "duration": 20,
    "start_time": "2024-07-06T12:06:37.710Z"
   },
   {
    "duration": 16,
    "start_time": "2024-07-06T12:06:37.754Z"
   },
   {
    "duration": 189,
    "start_time": "2024-07-06T12:06:37.772Z"
   },
   {
    "duration": 94,
    "start_time": "2024-07-06T12:06:37.963Z"
   },
   {
    "duration": 12,
    "start_time": "2024-07-06T12:06:38.060Z"
   },
   {
    "duration": 99,
    "start_time": "2024-07-06T12:06:38.074Z"
   },
   {
    "duration": 9,
    "start_time": "2024-07-06T12:06:38.175Z"
   },
   {
    "duration": 143,
    "start_time": "2024-07-06T12:06:38.185Z"
   },
   {
    "duration": 127,
    "start_time": "2024-07-06T12:06:38.330Z"
   },
   {
    "duration": 37,
    "start_time": "2024-07-06T12:06:38.461Z"
   },
   {
    "duration": 21,
    "start_time": "2024-07-06T12:06:38.500Z"
   },
   {
    "duration": 46,
    "start_time": "2024-07-06T12:06:38.523Z"
   },
   {
    "duration": 285,
    "start_time": "2024-07-06T12:06:38.571Z"
   },
   {
    "duration": 283,
    "start_time": "2024-07-06T12:06:38.859Z"
   },
   {
    "duration": 113,
    "start_time": "2024-07-06T12:06:39.144Z"
   },
   {
    "duration": 19,
    "start_time": "2024-07-06T12:06:39.259Z"
   },
   {
    "duration": 121,
    "start_time": "2024-07-06T12:06:39.279Z"
   },
   {
    "duration": 0,
    "start_time": "2024-07-06T12:06:39.402Z"
   },
   {
    "duration": 6,
    "start_time": "2024-07-06T12:06:54.058Z"
   },
   {
    "duration": 13,
    "start_time": "2024-07-06T12:07:13.710Z"
   },
   {
    "duration": 13,
    "start_time": "2024-07-06T12:07:49.475Z"
   },
   {
    "duration": 12,
    "start_time": "2024-07-06T12:08:39.288Z"
   },
   {
    "duration": 5,
    "start_time": "2024-07-06T12:09:56.725Z"
   },
   {
    "duration": 6,
    "start_time": "2024-07-06T12:23:10.842Z"
   },
   {
    "duration": 7,
    "start_time": "2024-07-06T12:23:17.585Z"
   },
   {
    "duration": 5,
    "start_time": "2024-07-06T12:23:21.091Z"
   },
   {
    "duration": 6,
    "start_time": "2024-07-06T12:27:50.099Z"
   },
   {
    "duration": 6,
    "start_time": "2024-07-06T12:27:53.698Z"
   },
   {
    "duration": 1148,
    "start_time": "2024-07-06T12:28:01.775Z"
   },
   {
    "duration": 81,
    "start_time": "2024-07-06T12:28:02.926Z"
   },
   {
    "duration": 28,
    "start_time": "2024-07-06T12:28:03.009Z"
   },
   {
    "duration": 76,
    "start_time": "2024-07-06T12:28:03.039Z"
   },
   {
    "duration": 30,
    "start_time": "2024-07-06T12:28:03.117Z"
   },
   {
    "duration": 14,
    "start_time": "2024-07-06T12:28:03.149Z"
   },
   {
    "duration": 12,
    "start_time": "2024-07-06T12:28:03.164Z"
   },
   {
    "duration": 11,
    "start_time": "2024-07-06T12:28:03.177Z"
   },
   {
    "duration": 174,
    "start_time": "2024-07-06T12:28:03.190Z"
   },
   {
    "duration": 71,
    "start_time": "2024-07-06T12:28:03.367Z"
   },
   {
    "duration": 21,
    "start_time": "2024-07-06T12:28:03.440Z"
   },
   {
    "duration": 80,
    "start_time": "2024-07-06T12:28:03.462Z"
   },
   {
    "duration": 9,
    "start_time": "2024-07-06T12:28:03.554Z"
   },
   {
    "duration": 143,
    "start_time": "2024-07-06T12:28:03.564Z"
   },
   {
    "duration": 119,
    "start_time": "2024-07-06T12:28:03.709Z"
   },
   {
    "duration": 40,
    "start_time": "2024-07-06T12:28:03.830Z"
   },
   {
    "duration": 23,
    "start_time": "2024-07-06T12:28:03.871Z"
   },
   {
    "duration": 19,
    "start_time": "2024-07-06T12:28:03.896Z"
   },
   {
    "duration": 283,
    "start_time": "2024-07-06T12:28:03.916Z"
   },
   {
    "duration": 272,
    "start_time": "2024-07-06T12:28:04.201Z"
   },
   {
    "duration": 113,
    "start_time": "2024-07-06T12:28:04.475Z"
   },
   {
    "duration": 15,
    "start_time": "2024-07-06T12:28:04.590Z"
   },
   {
    "duration": 21,
    "start_time": "2024-07-06T12:28:04.606Z"
   },
   {
    "duration": 12,
    "start_time": "2024-07-06T12:28:04.628Z"
   },
   {
    "duration": 11,
    "start_time": "2024-07-06T12:28:04.655Z"
   },
   {
    "duration": 22,
    "start_time": "2024-07-06T12:28:04.668Z"
   },
   {
    "duration": 6,
    "start_time": "2024-07-06T12:28:49.290Z"
   },
   {
    "duration": 5,
    "start_time": "2024-07-06T12:35:34.526Z"
   },
   {
    "duration": 5,
    "start_time": "2024-07-06T12:35:47.031Z"
   },
   {
    "duration": 5,
    "start_time": "2024-07-06T12:35:52.751Z"
   },
   {
    "duration": 5,
    "start_time": "2024-07-06T12:37:05.824Z"
   },
   {
    "duration": 5,
    "start_time": "2024-07-06T12:37:22.223Z"
   },
   {
    "duration": 5,
    "start_time": "2024-07-06T12:37:35.235Z"
   },
   {
    "duration": 5,
    "start_time": "2024-07-06T12:37:41.509Z"
   },
   {
    "duration": 14,
    "start_time": "2024-07-06T12:40:02.088Z"
   },
   {
    "duration": 15,
    "start_time": "2024-07-06T12:40:08.391Z"
   },
   {
    "duration": 7,
    "start_time": "2024-07-06T12:40:36.360Z"
   },
   {
    "duration": 7,
    "start_time": "2024-07-06T12:41:05.488Z"
   },
   {
    "duration": 8,
    "start_time": "2024-07-06T12:41:11.858Z"
   },
   {
    "duration": 6,
    "start_time": "2024-07-06T12:44:26.351Z"
   },
   {
    "duration": 101,
    "start_time": "2024-07-06T12:50:02.173Z"
   },
   {
    "duration": 19,
    "start_time": "2024-07-06T12:50:12.460Z"
   },
   {
    "duration": 9,
    "start_time": "2024-07-06T12:50:47.271Z"
   },
   {
    "duration": 8,
    "start_time": "2024-07-06T12:50:49.382Z"
   },
   {
    "duration": 7,
    "start_time": "2024-07-06T12:51:20.414Z"
   },
   {
    "duration": 21,
    "start_time": "2024-07-06T12:52:17.424Z"
   },
   {
    "duration": 11,
    "start_time": "2024-07-06T12:53:16.866Z"
   },
   {
    "duration": 5,
    "start_time": "2024-07-06T12:53:42.291Z"
   },
   {
    "duration": 1170,
    "start_time": "2024-07-06T13:40:41.924Z"
   },
   {
    "duration": 68,
    "start_time": "2024-07-06T13:40:43.095Z"
   },
   {
    "duration": 21,
    "start_time": "2024-07-06T13:40:43.165Z"
   },
   {
    "duration": 23,
    "start_time": "2024-07-06T13:40:43.188Z"
   },
   {
    "duration": 33,
    "start_time": "2024-07-06T13:40:43.212Z"
   },
   {
    "duration": 9,
    "start_time": "2024-07-06T13:40:43.246Z"
   },
   {
    "duration": 12,
    "start_time": "2024-07-06T13:40:43.257Z"
   },
   {
    "duration": 10,
    "start_time": "2024-07-06T13:40:43.271Z"
   },
   {
    "duration": 169,
    "start_time": "2024-07-06T13:40:43.282Z"
   },
   {
    "duration": 68,
    "start_time": "2024-07-06T13:40:43.456Z"
   },
   {
    "duration": 7,
    "start_time": "2024-07-06T13:40:43.526Z"
   },
   {
    "duration": 96,
    "start_time": "2024-07-06T13:40:43.534Z"
   },
   {
    "duration": 24,
    "start_time": "2024-07-06T13:40:43.632Z"
   },
   {
    "duration": 103,
    "start_time": "2024-07-06T13:40:43.658Z"
   },
   {
    "duration": 124,
    "start_time": "2024-07-06T13:40:43.763Z"
   },
   {
    "duration": 35,
    "start_time": "2024-07-06T13:40:43.889Z"
   },
   {
    "duration": 39,
    "start_time": "2024-07-06T13:40:43.925Z"
   },
   {
    "duration": 15,
    "start_time": "2024-07-06T13:40:43.965Z"
   },
   {
    "duration": 246,
    "start_time": "2024-07-06T13:40:43.981Z"
   },
   {
    "duration": 263,
    "start_time": "2024-07-06T13:40:44.228Z"
   },
   {
    "duration": 119,
    "start_time": "2024-07-06T13:40:44.493Z"
   },
   {
    "duration": 14,
    "start_time": "2024-07-06T13:40:44.613Z"
   },
   {
    "duration": 32,
    "start_time": "2024-07-06T13:40:44.629Z"
   },
   {
    "duration": 18,
    "start_time": "2024-07-06T13:40:44.663Z"
   },
   {
    "duration": 6,
    "start_time": "2024-07-06T13:40:44.683Z"
   },
   {
    "duration": 11,
    "start_time": "2024-07-06T13:40:44.690Z"
   },
   {
    "duration": 35,
    "start_time": "2024-07-06T13:40:44.702Z"
   },
   {
    "duration": 5,
    "start_time": "2024-07-06T13:40:44.756Z"
   },
   {
    "duration": 62,
    "start_time": "2024-07-08T14:30:55.859Z"
   },
   {
    "duration": 1214,
    "start_time": "2024-07-08T14:31:02.157Z"
   },
   {
    "duration": 317,
    "start_time": "2024-07-08T14:31:03.373Z"
   },
   {
    "duration": 30,
    "start_time": "2024-07-08T14:31:03.691Z"
   },
   {
    "duration": 26,
    "start_time": "2024-07-08T14:31:03.723Z"
   },
   {
    "duration": 30,
    "start_time": "2024-07-08T14:31:03.750Z"
   },
   {
    "duration": 10,
    "start_time": "2024-07-08T14:31:03.781Z"
   },
   {
    "duration": 18,
    "start_time": "2024-07-08T14:31:03.793Z"
   },
   {
    "duration": 13,
    "start_time": "2024-07-08T14:31:03.813Z"
   },
   {
    "duration": 207,
    "start_time": "2024-07-08T14:31:03.828Z"
   },
   {
    "duration": 86,
    "start_time": "2024-07-08T14:31:04.037Z"
   },
   {
    "duration": 7,
    "start_time": "2024-07-08T14:31:04.126Z"
   },
   {
    "duration": 127,
    "start_time": "2024-07-08T14:31:04.135Z"
   },
   {
    "duration": 8,
    "start_time": "2024-07-08T14:31:04.264Z"
   },
   {
    "duration": 113,
    "start_time": "2024-07-08T14:31:04.274Z"
   },
   {
    "duration": 148,
    "start_time": "2024-07-08T14:31:04.389Z"
   },
   {
    "duration": 31,
    "start_time": "2024-07-08T14:31:04.539Z"
   },
   {
    "duration": 111,
    "start_time": "2024-07-08T14:31:04.571Z"
   },
   {
    "duration": 19,
    "start_time": "2024-07-08T14:31:04.684Z"
   },
   {
    "duration": 250,
    "start_time": "2024-07-08T14:31:04.704Z"
   },
   {
    "duration": 259,
    "start_time": "2024-07-08T14:31:04.955Z"
   },
   {
    "duration": 102,
    "start_time": "2024-07-08T14:31:05.215Z"
   },
   {
    "duration": 14,
    "start_time": "2024-07-08T14:31:05.319Z"
   },
   {
    "duration": 12,
    "start_time": "2024-07-08T14:31:05.334Z"
   },
   {
    "duration": 12,
    "start_time": "2024-07-08T14:31:05.347Z"
   },
   {
    "duration": 5,
    "start_time": "2024-07-08T14:31:05.360Z"
   },
   {
    "duration": 35,
    "start_time": "2024-07-08T14:31:05.366Z"
   },
   {
    "duration": 42,
    "start_time": "2024-07-08T14:31:05.403Z"
   },
   {
    "duration": 6,
    "start_time": "2024-07-08T14:31:05.449Z"
   },
   {
    "duration": 198,
    "start_time": "2024-07-08T14:32:52.951Z"
   },
   {
    "duration": 145,
    "start_time": "2024-07-08T14:33:04.545Z"
   },
   {
    "duration": 85,
    "start_time": "2024-07-08T14:34:46.829Z"
   },
   {
    "duration": 17,
    "start_time": "2024-07-08T14:35:27.419Z"
   },
   {
    "duration": 162,
    "start_time": "2024-07-08T14:36:20.447Z"
   },
   {
    "duration": 143,
    "start_time": "2024-07-08T14:37:10.316Z"
   },
   {
    "duration": 135,
    "start_time": "2024-07-08T14:37:24.747Z"
   },
   {
    "duration": 83,
    "start_time": "2024-07-08T14:37:32.491Z"
   },
   {
    "duration": 140,
    "start_time": "2024-07-08T14:38:50.443Z"
   },
   {
    "duration": 159,
    "start_time": "2024-07-08T14:39:02.220Z"
   },
   {
    "duration": 132,
    "start_time": "2024-07-08T14:39:42.106Z"
   },
   {
    "duration": 95,
    "start_time": "2024-07-08T14:41:10.631Z"
   },
   {
    "duration": 98,
    "start_time": "2024-07-08T14:51:19.370Z"
   },
   {
    "duration": 99,
    "start_time": "2024-07-08T14:52:06.548Z"
   },
   {
    "duration": 181,
    "start_time": "2024-07-08T14:54:03.788Z"
   },
   {
    "duration": 122,
    "start_time": "2024-07-08T14:55:00.260Z"
   },
   {
    "duration": 117,
    "start_time": "2024-07-08T14:56:50.913Z"
   },
   {
    "duration": 120,
    "start_time": "2024-07-08T14:59:23.016Z"
   },
   {
    "duration": 126,
    "start_time": "2024-07-08T14:59:46.286Z"
   },
   {
    "duration": 115,
    "start_time": "2024-07-08T14:59:59.596Z"
   },
   {
    "duration": 113,
    "start_time": "2024-07-08T15:00:10.003Z"
   },
   {
    "duration": 251,
    "start_time": "2024-07-08T15:04:54.353Z"
   },
   {
    "duration": 242,
    "start_time": "2024-07-08T15:05:36.351Z"
   },
   {
    "duration": 1043,
    "start_time": "2024-07-08T15:05:50.307Z"
   },
   {
    "duration": 68,
    "start_time": "2024-07-08T15:05:51.351Z"
   },
   {
    "duration": 20,
    "start_time": "2024-07-08T15:05:51.420Z"
   },
   {
    "duration": 24,
    "start_time": "2024-07-08T15:05:51.442Z"
   },
   {
    "duration": 13,
    "start_time": "2024-07-08T15:05:51.468Z"
   },
   {
    "duration": 22,
    "start_time": "2024-07-08T15:05:51.482Z"
   },
   {
    "duration": 11,
    "start_time": "2024-07-08T15:05:51.506Z"
   },
   {
    "duration": 9,
    "start_time": "2024-07-08T15:05:51.518Z"
   },
   {
    "duration": 186,
    "start_time": "2024-07-08T15:05:51.529Z"
   },
   {
    "duration": 93,
    "start_time": "2024-07-08T15:05:51.717Z"
   },
   {
    "duration": 8,
    "start_time": "2024-07-08T15:05:51.811Z"
   },
   {
    "duration": 107,
    "start_time": "2024-07-08T15:05:51.820Z"
   },
   {
    "duration": 7,
    "start_time": "2024-07-08T15:05:51.929Z"
   },
   {
    "duration": 124,
    "start_time": "2024-07-08T15:05:51.937Z"
   },
   {
    "duration": 122,
    "start_time": "2024-07-08T15:05:52.062Z"
   },
   {
    "duration": 35,
    "start_time": "2024-07-08T15:05:52.185Z"
   },
   {
    "duration": 20,
    "start_time": "2024-07-08T15:05:52.222Z"
   },
   {
    "duration": 22,
    "start_time": "2024-07-08T15:05:52.244Z"
   },
   {
    "duration": 277,
    "start_time": "2024-07-08T15:05:52.268Z"
   },
   {
    "duration": 242,
    "start_time": "2024-07-08T15:05:52.546Z"
   },
   {
    "duration": 103,
    "start_time": "2024-07-08T15:05:52.789Z"
   },
   {
    "duration": 14,
    "start_time": "2024-07-08T15:05:52.899Z"
   },
   {
    "duration": 13,
    "start_time": "2024-07-08T15:05:52.914Z"
   },
   {
    "duration": 12,
    "start_time": "2024-07-08T15:05:52.928Z"
   },
   {
    "duration": 6,
    "start_time": "2024-07-08T15:05:52.941Z"
   },
   {
    "duration": 4,
    "start_time": "2024-07-08T15:05:52.948Z"
   },
   {
    "duration": 58,
    "start_time": "2024-07-08T15:05:52.954Z"
   },
   {
    "duration": 6,
    "start_time": "2024-07-08T15:05:53.015Z"
   },
   {
    "duration": 182,
    "start_time": "2024-07-08T15:06:23.011Z"
   },
   {
    "duration": 240,
    "start_time": "2024-07-08T15:06:44.898Z"
   },
   {
    "duration": 1157,
    "start_time": "2024-07-09T02:13:20.056Z"
   },
   {
    "duration": 215,
    "start_time": "2024-07-09T02:13:21.214Z"
   },
   {
    "duration": 17,
    "start_time": "2024-07-09T02:13:21.430Z"
   },
   {
    "duration": 28,
    "start_time": "2024-07-09T02:13:21.449Z"
   },
   {
    "duration": 10,
    "start_time": "2024-07-09T02:13:21.478Z"
   },
   {
    "duration": 9,
    "start_time": "2024-07-09T02:13:21.490Z"
   },
   {
    "duration": 15,
    "start_time": "2024-07-09T02:13:21.500Z"
   },
   {
    "duration": 8,
    "start_time": "2024-07-09T02:13:21.516Z"
   },
   {
    "duration": 143,
    "start_time": "2024-07-09T02:13:21.525Z"
   },
   {
    "duration": 76,
    "start_time": "2024-07-09T02:13:21.670Z"
   },
   {
    "duration": 14,
    "start_time": "2024-07-09T02:13:21.747Z"
   },
   {
    "duration": 99,
    "start_time": "2024-07-09T02:13:21.762Z"
   },
   {
    "duration": 7,
    "start_time": "2024-07-09T02:13:21.862Z"
   },
   {
    "duration": 106,
    "start_time": "2024-07-09T02:13:21.870Z"
   },
   {
    "duration": 117,
    "start_time": "2024-07-09T02:13:21.977Z"
   },
   {
    "duration": 27,
    "start_time": "2024-07-09T02:13:22.095Z"
   },
   {
    "duration": 17,
    "start_time": "2024-07-09T02:13:22.124Z"
   },
   {
    "duration": 13,
    "start_time": "2024-07-09T02:13:22.142Z"
   },
   {
    "duration": 218,
    "start_time": "2024-07-09T02:13:22.156Z"
   },
   {
    "duration": 220,
    "start_time": "2024-07-09T02:13:22.376Z"
   },
   {
    "duration": 72,
    "start_time": "2024-07-09T02:13:22.601Z"
   },
   {
    "duration": 11,
    "start_time": "2024-07-09T02:13:22.675Z"
   },
   {
    "duration": 23,
    "start_time": "2024-07-09T02:13:22.687Z"
   },
   {
    "duration": 17,
    "start_time": "2024-07-09T02:13:22.711Z"
   },
   {
    "duration": 6,
    "start_time": "2024-07-09T02:13:22.730Z"
   },
   {
    "duration": 9,
    "start_time": "2024-07-09T02:13:22.737Z"
   },
   {
    "duration": 39,
    "start_time": "2024-07-09T02:13:22.747Z"
   },
   {
    "duration": 4,
    "start_time": "2024-07-09T02:13:22.788Z"
   },
   {
    "duration": 185,
    "start_time": "2024-07-09T02:14:20.614Z"
   },
   {
    "duration": 152,
    "start_time": "2024-07-09T02:15:47.026Z"
   },
   {
    "duration": 158,
    "start_time": "2024-07-09T02:16:05.941Z"
   },
   {
    "duration": 238,
    "start_time": "2024-07-09T02:17:09.443Z"
   },
   {
    "duration": 158,
    "start_time": "2024-07-09T02:17:20.807Z"
   },
   {
    "duration": 160,
    "start_time": "2024-07-09T02:17:38.378Z"
   },
   {
    "duration": 1151,
    "start_time": "2024-07-09T03:25:17.574Z"
   },
   {
    "duration": 213,
    "start_time": "2024-07-09T03:25:18.727Z"
   },
   {
    "duration": 18,
    "start_time": "2024-07-09T03:25:18.941Z"
   },
   {
    "duration": 20,
    "start_time": "2024-07-09T03:25:18.961Z"
   },
   {
    "duration": 23,
    "start_time": "2024-07-09T03:25:18.982Z"
   },
   {
    "duration": 14,
    "start_time": "2024-07-09T03:25:19.007Z"
   },
   {
    "duration": 23,
    "start_time": "2024-07-09T03:25:19.022Z"
   },
   {
    "duration": 12,
    "start_time": "2024-07-09T03:25:19.046Z"
   },
   {
    "duration": 172,
    "start_time": "2024-07-09T03:25:19.060Z"
   },
   {
    "duration": 83,
    "start_time": "2024-07-09T03:25:19.234Z"
   },
   {
    "duration": 6,
    "start_time": "2024-07-09T03:25:19.318Z"
   },
   {
    "duration": 98,
    "start_time": "2024-07-09T03:25:19.325Z"
   },
   {
    "duration": 6,
    "start_time": "2024-07-09T03:25:19.425Z"
   },
   {
    "duration": 118,
    "start_time": "2024-07-09T03:25:19.432Z"
   },
   {
    "duration": 106,
    "start_time": "2024-07-09T03:25:19.552Z"
   },
   {
    "duration": 26,
    "start_time": "2024-07-09T03:25:19.659Z"
   },
   {
    "duration": 28,
    "start_time": "2024-07-09T03:25:19.686Z"
   },
   {
    "duration": 15,
    "start_time": "2024-07-09T03:25:19.715Z"
   },
   {
    "duration": 295,
    "start_time": "2024-07-09T03:25:19.731Z"
   },
   {
    "duration": 0,
    "start_time": "2024-07-09T03:25:20.027Z"
   },
   {
    "duration": 0,
    "start_time": "2024-07-09T03:25:20.028Z"
   },
   {
    "duration": 0,
    "start_time": "2024-07-09T03:25:20.029Z"
   },
   {
    "duration": 0,
    "start_time": "2024-07-09T03:25:20.030Z"
   },
   {
    "duration": 0,
    "start_time": "2024-07-09T03:25:20.031Z"
   },
   {
    "duration": 0,
    "start_time": "2024-07-09T03:25:20.031Z"
   },
   {
    "duration": 0,
    "start_time": "2024-07-09T03:25:20.032Z"
   },
   {
    "duration": 0,
    "start_time": "2024-07-09T03:25:20.033Z"
   },
   {
    "duration": 0,
    "start_time": "2024-07-09T03:25:20.034Z"
   },
   {
    "duration": 243,
    "start_time": "2024-07-09T03:26:25.976Z"
   },
   {
    "duration": 999,
    "start_time": "2024-07-09T03:27:11.475Z"
   },
   {
    "duration": 65,
    "start_time": "2024-07-09T03:27:12.476Z"
   },
   {
    "duration": 17,
    "start_time": "2024-07-09T03:27:12.542Z"
   },
   {
    "duration": 97,
    "start_time": "2024-07-09T03:27:12.560Z"
   },
   {
    "duration": 45,
    "start_time": "2024-07-09T03:27:12.659Z"
   },
   {
    "duration": 41,
    "start_time": "2024-07-09T03:27:12.705Z"
   },
   {
    "duration": 54,
    "start_time": "2024-07-09T03:27:12.748Z"
   },
   {
    "duration": 8,
    "start_time": "2024-07-09T03:27:12.804Z"
   },
   {
    "duration": 297,
    "start_time": "2024-07-09T03:27:12.813Z"
   },
   {
    "duration": 126,
    "start_time": "2024-07-09T03:27:13.111Z"
   },
   {
    "duration": 63,
    "start_time": "2024-07-09T03:27:13.239Z"
   },
   {
    "duration": 133,
    "start_time": "2024-07-09T03:27:13.304Z"
   },
   {
    "duration": 8,
    "start_time": "2024-07-09T03:27:13.438Z"
   },
   {
    "duration": 203,
    "start_time": "2024-07-09T03:27:13.501Z"
   },
   {
    "duration": 151,
    "start_time": "2024-07-09T03:27:13.706Z"
   },
   {
    "duration": 57,
    "start_time": "2024-07-09T03:27:13.858Z"
   },
   {
    "duration": 18,
    "start_time": "2024-07-09T03:27:13.916Z"
   },
   {
    "duration": 14,
    "start_time": "2024-07-09T03:27:13.935Z"
   },
   {
    "duration": 236,
    "start_time": "2024-07-09T03:27:13.951Z"
   },
   {
    "duration": 215,
    "start_time": "2024-07-09T03:27:14.189Z"
   },
   {
    "duration": 75,
    "start_time": "2024-07-09T03:27:14.406Z"
   },
   {
    "duration": 21,
    "start_time": "2024-07-09T03:27:14.482Z"
   },
   {
    "duration": 24,
    "start_time": "2024-07-09T03:27:14.505Z"
   },
   {
    "duration": 16,
    "start_time": "2024-07-09T03:27:14.531Z"
   },
   {
    "duration": 4,
    "start_time": "2024-07-09T03:27:14.549Z"
   },
   {
    "duration": 12,
    "start_time": "2024-07-09T03:27:14.554Z"
   },
   {
    "duration": 25,
    "start_time": "2024-07-09T03:27:14.567Z"
   },
   {
    "duration": 4,
    "start_time": "2024-07-09T03:27:14.594Z"
   },
   {
    "duration": 221,
    "start_time": "2024-07-09T03:34:49.142Z"
   },
   {
    "duration": 222,
    "start_time": "2024-07-09T03:35:02.569Z"
   },
   {
    "duration": 226,
    "start_time": "2024-07-09T03:35:25.404Z"
   },
   {
    "duration": 105,
    "start_time": "2024-07-09T03:41:27.490Z"
   },
   {
    "duration": 110,
    "start_time": "2024-07-09T03:41:57.270Z"
   },
   {
    "duration": 105,
    "start_time": "2024-07-09T03:42:07.638Z"
   },
   {
    "duration": 16,
    "start_time": "2024-07-09T03:46:42.680Z"
   },
   {
    "duration": 20,
    "start_time": "2024-07-09T03:50:24.896Z"
   },
   {
    "duration": 25,
    "start_time": "2024-07-09T03:51:59.627Z"
   },
   {
    "duration": 34,
    "start_time": "2024-07-09T03:59:13.497Z"
   },
   {
    "duration": 50,
    "start_time": "2024-07-09T04:04:33.234Z"
   },
   {
    "duration": 36,
    "start_time": "2024-07-09T04:05:33.283Z"
   },
   {
    "duration": 20,
    "start_time": "2024-07-09T04:05:54.094Z"
   },
   {
    "duration": 22,
    "start_time": "2024-07-09T04:06:06.217Z"
   },
   {
    "duration": 53,
    "start_time": "2024-07-09T10:05:32.749Z"
   },
   {
    "duration": 1370,
    "start_time": "2024-07-09T10:05:39.791Z"
   },
   {
    "duration": 202,
    "start_time": "2024-07-09T10:05:41.163Z"
   },
   {
    "duration": 24,
    "start_time": "2024-07-09T10:05:41.367Z"
   },
   {
    "duration": 35,
    "start_time": "2024-07-09T10:05:41.393Z"
   },
   {
    "duration": 16,
    "start_time": "2024-07-09T10:05:41.431Z"
   },
   {
    "duration": 20,
    "start_time": "2024-07-09T10:05:41.448Z"
   },
   {
    "duration": 41,
    "start_time": "2024-07-09T10:05:41.470Z"
   },
   {
    "duration": 15,
    "start_time": "2024-07-09T10:05:41.514Z"
   },
   {
    "duration": 235,
    "start_time": "2024-07-09T10:05:41.531Z"
   },
   {
    "duration": 114,
    "start_time": "2024-07-09T10:05:41.768Z"
   },
   {
    "duration": 8,
    "start_time": "2024-07-09T10:05:41.884Z"
   },
   {
    "duration": 129,
    "start_time": "2024-07-09T10:05:41.894Z"
   },
   {
    "duration": 9,
    "start_time": "2024-07-09T10:05:42.025Z"
   },
   {
    "duration": 171,
    "start_time": "2024-07-09T10:05:42.036Z"
   },
   {
    "duration": 139,
    "start_time": "2024-07-09T10:05:42.209Z"
   },
   {
    "duration": 44,
    "start_time": "2024-07-09T10:05:42.349Z"
   },
   {
    "duration": 37,
    "start_time": "2024-07-09T10:05:42.395Z"
   },
   {
    "duration": 58,
    "start_time": "2024-07-09T10:05:42.433Z"
   },
   {
    "duration": 19,
    "start_time": "2024-07-09T10:05:42.493Z"
   },
   {
    "duration": 307,
    "start_time": "2024-07-09T10:05:42.514Z"
   },
   {
    "duration": 310,
    "start_time": "2024-07-09T10:05:42.824Z"
   },
   {
    "duration": 49,
    "start_time": "2024-07-09T10:05:43.136Z"
   },
   {
    "duration": 14,
    "start_time": "2024-07-09T10:05:43.187Z"
   },
   {
    "duration": 94,
    "start_time": "2024-07-09T10:05:43.203Z"
   },
   {
    "duration": 15,
    "start_time": "2024-07-09T10:05:43.299Z"
   },
   {
    "duration": 6,
    "start_time": "2024-07-09T10:05:43.316Z"
   },
   {
    "duration": 6,
    "start_time": "2024-07-09T10:05:43.324Z"
   },
   {
    "duration": 56,
    "start_time": "2024-07-09T10:05:43.332Z"
   },
   {
    "duration": 6,
    "start_time": "2024-07-09T10:05:43.390Z"
   },
   {
    "duration": 21,
    "start_time": "2024-07-09T10:08:02.173Z"
   },
   {
    "duration": 11,
    "start_time": "2024-07-09T10:08:10.204Z"
   },
   {
    "duration": 41,
    "start_time": "2024-07-09T10:09:06.890Z"
   },
   {
    "duration": 36,
    "start_time": "2024-07-09T10:09:29.448Z"
   },
   {
    "duration": 45,
    "start_time": "2024-07-09T10:10:12.584Z"
   },
   {
    "duration": 1140,
    "start_time": "2024-07-09T10:10:17.620Z"
   },
   {
    "duration": 75,
    "start_time": "2024-07-09T10:10:18.762Z"
   },
   {
    "duration": 22,
    "start_time": "2024-07-09T10:10:18.838Z"
   },
   {
    "duration": 27,
    "start_time": "2024-07-09T10:10:18.862Z"
   },
   {
    "duration": 14,
    "start_time": "2024-07-09T10:10:18.891Z"
   },
   {
    "duration": 10,
    "start_time": "2024-07-09T10:10:18.907Z"
   },
   {
    "duration": 12,
    "start_time": "2024-07-09T10:10:18.919Z"
   },
   {
    "duration": 11,
    "start_time": "2024-07-09T10:10:18.933Z"
   },
   {
    "duration": 219,
    "start_time": "2024-07-09T10:10:18.946Z"
   },
   {
    "duration": 98,
    "start_time": "2024-07-09T10:10:19.168Z"
   },
   {
    "duration": 19,
    "start_time": "2024-07-09T10:10:19.268Z"
   },
   {
    "duration": 121,
    "start_time": "2024-07-09T10:10:19.289Z"
   },
   {
    "duration": 9,
    "start_time": "2024-07-09T10:10:19.412Z"
   },
   {
    "duration": 145,
    "start_time": "2024-07-09T10:10:19.423Z"
   },
   {
    "duration": 138,
    "start_time": "2024-07-09T10:10:19.569Z"
   },
   {
    "duration": 32,
    "start_time": "2024-07-09T10:10:19.709Z"
   },
   {
    "duration": 22,
    "start_time": "2024-07-09T10:10:19.743Z"
   },
   {
    "duration": 48,
    "start_time": "2024-07-09T10:10:19.781Z"
   },
   {
    "duration": 19,
    "start_time": "2024-07-09T10:10:19.831Z"
   },
   {
    "duration": 328,
    "start_time": "2024-07-09T10:10:19.852Z"
   },
   {
    "duration": 335,
    "start_time": "2024-07-09T10:10:20.181Z"
   },
   {
    "duration": 67,
    "start_time": "2024-07-09T10:10:20.518Z"
   },
   {
    "duration": 20,
    "start_time": "2024-07-09T10:10:20.587Z"
   },
   {
    "duration": 104,
    "start_time": "2024-07-09T10:10:20.609Z"
   },
   {
    "duration": 106,
    "start_time": "2024-07-09T10:10:20.714Z"
   },
   {
    "duration": 20,
    "start_time": "2024-07-09T10:10:20.822Z"
   },
   {
    "duration": 23,
    "start_time": "2024-07-09T10:10:20.843Z"
   },
   {
    "duration": 121,
    "start_time": "2024-07-09T10:10:20.870Z"
   },
   {
    "duration": 74,
    "start_time": "2024-07-09T10:10:20.993Z"
   },
   {
    "duration": 50,
    "start_time": "2024-07-09T10:10:51.407Z"
   },
   {
    "duration": 62,
    "start_time": "2024-07-09T10:15:09.082Z"
   },
   {
    "duration": 58,
    "start_time": "2024-07-09T10:15:42.887Z"
   },
   {
    "duration": 1139,
    "start_time": "2024-07-09T10:15:56.832Z"
   },
   {
    "duration": 69,
    "start_time": "2024-07-09T10:15:57.972Z"
   },
   {
    "duration": 26,
    "start_time": "2024-07-09T10:15:58.042Z"
   },
   {
    "duration": 31,
    "start_time": "2024-07-09T10:15:58.072Z"
   },
   {
    "duration": 16,
    "start_time": "2024-07-09T10:15:58.105Z"
   },
   {
    "duration": 10,
    "start_time": "2024-07-09T10:15:58.123Z"
   },
   {
    "duration": 13,
    "start_time": "2024-07-09T10:15:58.135Z"
   },
   {
    "duration": 34,
    "start_time": "2024-07-09T10:15:58.149Z"
   },
   {
    "duration": 188,
    "start_time": "2024-07-09T10:15:58.185Z"
   },
   {
    "duration": 92,
    "start_time": "2024-07-09T10:15:58.375Z"
   },
   {
    "duration": 8,
    "start_time": "2024-07-09T10:15:58.481Z"
   },
   {
    "duration": 124,
    "start_time": "2024-07-09T10:15:58.490Z"
   },
   {
    "duration": 10,
    "start_time": "2024-07-09T10:15:58.616Z"
   },
   {
    "duration": 150,
    "start_time": "2024-07-09T10:15:58.627Z"
   },
   {
    "duration": 144,
    "start_time": "2024-07-09T10:15:58.782Z"
   },
   {
    "duration": 58,
    "start_time": "2024-07-09T10:15:58.928Z"
   },
   {
    "duration": 63,
    "start_time": "2024-07-09T10:15:58.987Z"
   },
   {
    "duration": 34,
    "start_time": "2024-07-09T10:15:59.051Z"
   },
   {
    "duration": 19,
    "start_time": "2024-07-09T10:15:59.087Z"
   },
   {
    "duration": 304,
    "start_time": "2024-07-09T10:15:59.108Z"
   },
   {
    "duration": 296,
    "start_time": "2024-07-09T10:15:59.413Z"
   },
   {
    "duration": 111,
    "start_time": "2024-07-09T10:15:59.712Z"
   },
   {
    "duration": 16,
    "start_time": "2024-07-09T10:15:59.825Z"
   },
   {
    "duration": 40,
    "start_time": "2024-07-09T10:15:59.843Z"
   },
   {
    "duration": 22,
    "start_time": "2024-07-09T10:15:59.886Z"
   },
   {
    "duration": 6,
    "start_time": "2024-07-09T10:15:59.909Z"
   },
   {
    "duration": 7,
    "start_time": "2024-07-09T10:15:59.917Z"
   },
   {
    "duration": 35,
    "start_time": "2024-07-09T10:15:59.928Z"
   },
   {
    "duration": 8,
    "start_time": "2024-07-09T10:15:59.981Z"
   },
   {
    "duration": 52,
    "start_time": "2024-07-09T10:17:32.848Z"
   },
   {
    "duration": 46,
    "start_time": "2024-07-09T10:17:41.658Z"
   },
   {
    "duration": 62,
    "start_time": "2024-07-09T10:17:59.558Z"
   },
   {
    "duration": 123,
    "start_time": "2024-07-09T10:19:45.685Z"
   },
   {
    "duration": 25,
    "start_time": "2024-07-09T10:20:19.522Z"
   },
   {
    "duration": 23,
    "start_time": "2024-07-09T10:20:32.351Z"
   },
   {
    "duration": 1205,
    "start_time": "2024-07-09T10:22:21.557Z"
   },
   {
    "duration": 69,
    "start_time": "2024-07-09T10:22:22.764Z"
   },
   {
    "duration": 22,
    "start_time": "2024-07-09T10:22:22.835Z"
   },
   {
    "duration": 102,
    "start_time": "2024-07-09T10:22:22.859Z"
   },
   {
    "duration": 49,
    "start_time": "2024-07-09T10:22:22.962Z"
   },
   {
    "duration": 11,
    "start_time": "2024-07-09T10:22:23.012Z"
   },
   {
    "duration": 12,
    "start_time": "2024-07-09T10:22:23.025Z"
   },
   {
    "duration": 16,
    "start_time": "2024-07-09T10:22:23.038Z"
   },
   {
    "duration": 205,
    "start_time": "2024-07-09T10:22:23.055Z"
   },
   {
    "duration": 98,
    "start_time": "2024-07-09T10:22:23.263Z"
   },
   {
    "duration": 20,
    "start_time": "2024-07-09T10:22:23.363Z"
   },
   {
    "duration": 131,
    "start_time": "2024-07-09T10:22:23.384Z"
   },
   {
    "duration": 9,
    "start_time": "2024-07-09T10:22:23.518Z"
   },
   {
    "duration": 142,
    "start_time": "2024-07-09T10:22:23.529Z"
   },
   {
    "duration": 139,
    "start_time": "2024-07-09T10:22:23.672Z"
   },
   {
    "duration": 35,
    "start_time": "2024-07-09T10:22:23.813Z"
   },
   {
    "duration": 39,
    "start_time": "2024-07-09T10:22:23.849Z"
   },
   {
    "duration": 34,
    "start_time": "2024-07-09T10:22:23.889Z"
   },
   {
    "duration": 19,
    "start_time": "2024-07-09T10:22:23.925Z"
   },
   {
    "duration": 48,
    "start_time": "2024-07-09T10:22:23.946Z"
   },
   {
    "duration": 279,
    "start_time": "2024-07-09T10:22:23.996Z"
   },
   {
    "duration": 297,
    "start_time": "2024-07-09T10:22:24.276Z"
   },
   {
    "duration": 118,
    "start_time": "2024-07-09T10:22:24.574Z"
   },
   {
    "duration": 15,
    "start_time": "2024-07-09T10:22:24.694Z"
   },
   {
    "duration": 16,
    "start_time": "2024-07-09T10:22:24.710Z"
   },
   {
    "duration": 14,
    "start_time": "2024-07-09T10:22:24.728Z"
   },
   {
    "duration": 6,
    "start_time": "2024-07-09T10:22:24.744Z"
   },
   {
    "duration": 6,
    "start_time": "2024-07-09T10:22:24.783Z"
   },
   {
    "duration": 34,
    "start_time": "2024-07-09T10:22:24.791Z"
   },
   {
    "duration": 6,
    "start_time": "2024-07-09T10:22:24.827Z"
   },
   {
    "duration": 6,
    "start_time": "2024-07-09T10:35:21.940Z"
   },
   {
    "duration": 6,
    "start_time": "2024-07-09T10:36:18.129Z"
   },
   {
    "duration": 1138,
    "start_time": "2024-07-09T10:46:50.548Z"
   },
   {
    "duration": 70,
    "start_time": "2024-07-09T10:46:51.688Z"
   },
   {
    "duration": 22,
    "start_time": "2024-07-09T10:46:51.759Z"
   },
   {
    "duration": 27,
    "start_time": "2024-07-09T10:46:51.782Z"
   },
   {
    "duration": 15,
    "start_time": "2024-07-09T10:46:51.811Z"
   },
   {
    "duration": 11,
    "start_time": "2024-07-09T10:46:51.827Z"
   },
   {
    "duration": 44,
    "start_time": "2024-07-09T10:46:51.839Z"
   },
   {
    "duration": 12,
    "start_time": "2024-07-09T10:46:51.885Z"
   },
   {
    "duration": 215,
    "start_time": "2024-07-09T10:46:51.899Z"
   },
   {
    "duration": 112,
    "start_time": "2024-07-09T10:46:52.116Z"
   },
   {
    "duration": 9,
    "start_time": "2024-07-09T10:46:52.230Z"
   },
   {
    "duration": 128,
    "start_time": "2024-07-09T10:46:52.240Z"
   },
   {
    "duration": 13,
    "start_time": "2024-07-09T10:46:52.370Z"
   },
   {
    "duration": 151,
    "start_time": "2024-07-09T10:46:52.387Z"
   },
   {
    "duration": 142,
    "start_time": "2024-07-09T10:46:52.540Z"
   },
   {
    "duration": 34,
    "start_time": "2024-07-09T10:46:52.683Z"
   },
   {
    "duration": 24,
    "start_time": "2024-07-09T10:46:52.718Z"
   },
   {
    "duration": 51,
    "start_time": "2024-07-09T10:46:52.744Z"
   },
   {
    "duration": 18,
    "start_time": "2024-07-09T10:46:52.797Z"
   },
   {
    "duration": 17,
    "start_time": "2024-07-09T10:46:52.816Z"
   },
   {
    "duration": 318,
    "start_time": "2024-07-09T10:46:52.834Z"
   },
   {
    "duration": 324,
    "start_time": "2024-07-09T10:46:53.154Z"
   },
   {
    "duration": 37,
    "start_time": "2024-07-09T10:46:53.482Z"
   },
   {
    "duration": 63,
    "start_time": "2024-07-09T10:46:53.521Z"
   },
   {
    "duration": 2,
    "start_time": "2024-07-09T10:46:53.586Z"
   },
   {
    "duration": 10,
    "start_time": "2024-07-09T10:46:53.590Z"
   },
   {
    "duration": 125,
    "start_time": "2024-07-09T10:46:53.602Z"
   },
   {
    "duration": 7,
    "start_time": "2024-07-09T10:46:53.783Z"
   },
   {
    "duration": 28,
    "start_time": "2024-07-09T10:46:53.791Z"
   },
   {
    "duration": 61,
    "start_time": "2024-07-09T10:46:53.821Z"
   }
  ],
  "kernelspec": {
   "display_name": "Python 3 (ipykernel)",
   "language": "python",
   "name": "python3"
  },
  "language_info": {
   "codemirror_mode": {
    "name": "ipython",
    "version": 3
   },
   "file_extension": ".py",
   "mimetype": "text/x-python",
   "name": "python",
   "nbconvert_exporter": "python",
   "pygments_lexer": "ipython3",
   "version": "3.9.5"
  },
  "toc": {
   "base_numbering": 1,
   "nav_menu": {},
   "number_sections": true,
   "sideBar": true,
   "skip_h1_title": true,
   "title_cell": "Table of Contents",
   "title_sidebar": "Contents",
   "toc_cell": false,
   "toc_position": {
    "height": "469.6px",
    "left": "41px",
    "top": "109.725px",
    "width": "324.225px"
   },
   "toc_section_display": true,
   "toc_window_display": false
  }
 },
 "nbformat": 4,
 "nbformat_minor": 5
}
