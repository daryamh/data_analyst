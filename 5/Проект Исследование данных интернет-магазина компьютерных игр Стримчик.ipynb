{
 "cells": [
  {
   "cell_type": "markdown",
   "metadata": {},
   "source": [
    "Привет, Дарья!\n",
    "\n",
    "Меня зовут Вячеслав Погорелый, и я буду проводить ревью твоего проекта. \n",
    "\n",
    "Предлагаю перейти на \"ты\", если не против)\n",
    "\n",
    "Но если это не удобно - дай знать, и мы перейдем на \"вы\". Моя главная задача — не находить сделанные тобою ошибки, а передать свой опыт и помочь тебе стать аналитиком данных.\n",
    "\n",
    "Я отметил комментарии и замечания разным цветом далее по тексту markdown:\n",
    "\n",
    "---    \n",
    "<div class=\"alert alert-block alert-danger\">\n",
    "    \n",
    "### Ошибка\n",
    "    \n",
    "Критическое замечание, которые следует исправить.\n",
    "</div> \n",
    "    \n",
    "---\n",
    "    \n",
    "<div class=\"alert alert-block alert-warning\">\n",
    "    \n",
    "### Совет\n",
    "    \n",
    "Замечание\\совет на будущее.\n",
    "</div>\n",
    "    \n",
    "---\n",
    "    \n",
    "<div class=\"alert alert-block alert-success\">\n",
    "    \n",
    "### Успех\n",
    "    \n",
    "Когда всё сделано правильно.\n",
    "</div>\n",
    "    \n",
    "    \n",
    "    \n",
    "Будет здорово, если для ответов ты выберешь любой **<font color=\"maroon\">читабельный и заметный цвет</font>**, так мне будет проще все проверить.\n",
    "\n",
    "\n",
    "При доработке проекта попрошу тебя сохранить и не видоизменять заметки ревьюера, это осложняет повторную проверку"
   ]
  },
  {
   "cell_type": "markdown",
   "metadata": {},
   "source": [
    "<div class=\"alert alert-block alert-success\">\n",
    " \n",
    "# Итоговый Комментарий ревьюера ver.3\n",
    "    \n",
    "#### Успех\n",
    "    \n",
    "Благодарю тебя за исправления. Вот теперь я его готов принять. От себя я хочу пожелать успехов в дальнешей учебе. Ты точно справишься и дальше, я уверен. "
   ]
  },
  {
   "cell_type": "markdown",
   "metadata": {},
   "source": [
    "<div class=\"alert alert-block alert-success\">\n",
    " \n",
    "# Итоговый Комментарий ревьюера ver.2 \n",
    "    \n",
    "#### Успех\n",
    "    \n",
    "Спасибо за доработку проекта. Стало почти идеально, но одно замечание осталось. Я указал что надо исправить. Уверен, ты справишься."
   ]
  },
  {
   "cell_type": "markdown",
   "metadata": {},
   "source": [
    "# Исследование данных интернет-магазина компьютерных игр Стримчик"
   ]
  },
  {
   "cell_type": "markdown",
   "metadata": {},
   "source": [
    "Доступны исторические данные о продажах игр, оценки пользователей и экспертов, жанры и платформы (например, Xbox или PlayStation). Необходимо выявить определяющие успешность игры закономерности. Это позволит сделать ставку на потенциально популярный продукт и спланировать рекламные кампании.\n",
    "\n",
    "Доступны данные до 2016 года. Сейчас декабрь 2016 г., необходимо запланировать кампанию на 2017-й.\n",
    "\n",
    "**Описание данных**\n",
    "- Name — название игры  \n",
    "- Platform — платформа  \n",
    "- Year_of_Release — год выпуска  \n",
    "- Genre — жанр игры\n",
    "- NA_sales — продажи в Северной Америке (миллионы проданных копий)  \n",
    "- EU_sales — продажи в Европе (миллионы проданных копий)  \n",
    "- JP_sales — продажи в Японии (миллионы проданных копий)  \n",
    "- Other_sales — продажи в других странах (миллионы проданных копий)  \n",
    "- Critic_Score — оценка критиков (максимум 100)  \n",
    "- User_Score — оценка пользователей (максимум 10)  \n",
    "- Rating — рейтинг от организации ESRB  \n",
    "  \n",
    "ESRB (Entertainment Software Rating Board) — это ассоциация, определяющая возрастной рейтинг компьютерных игр. ESRB оценивает игровой контент и присваивает ему подходящую возрастную категорию, например, «Для взрослых», «Для детей младшего возраста» или «Для подростков»."
   ]
  },
  {
   "cell_type": "markdown",
   "metadata": {},
   "source": [
    "<div class=\"alert alert-block alert-success\">\n",
    " \n",
    "### Комментарий ревьюера\n",
    "    \n",
    "#### Успех\n",
    "    \n",
    "Хвалю за вступление в проект. Есть подробное описание и информация о данных.\n",
    "</div "
   ]
  },
  {
   "cell_type": "code",
   "execution_count": 1,
   "metadata": {},
   "outputs": [],
   "source": [
    "# Импортируем библиотеки\n",
    "import pandas as pd\n",
    "import numpy as np\n",
    "import matplotlib.pyplot as plt\n",
    "from scipy import stats as st"
   ]
  },
  {
   "cell_type": "markdown",
   "metadata": {},
   "source": [
    "## Загрузка данных"
   ]
  },
  {
   "cell_type": "code",
   "execution_count": 2,
   "metadata": {},
   "outputs": [],
   "source": [
    "games = pd.read_csv('/datasets/games.csv')"
   ]
  },
  {
   "cell_type": "code",
   "execution_count": 3,
   "metadata": {},
   "outputs": [
    {
     "data": {
      "text/html": [
       "<div>\n",
       "<style scoped>\n",
       "    .dataframe tbody tr th:only-of-type {\n",
       "        vertical-align: middle;\n",
       "    }\n",
       "\n",
       "    .dataframe tbody tr th {\n",
       "        vertical-align: top;\n",
       "    }\n",
       "\n",
       "    .dataframe thead th {\n",
       "        text-align: right;\n",
       "    }\n",
       "</style>\n",
       "<table border=\"1\" class=\"dataframe\">\n",
       "  <thead>\n",
       "    <tr style=\"text-align: right;\">\n",
       "      <th></th>\n",
       "      <th>Name</th>\n",
       "      <th>Platform</th>\n",
       "      <th>Year_of_Release</th>\n",
       "      <th>Genre</th>\n",
       "      <th>NA_sales</th>\n",
       "      <th>EU_sales</th>\n",
       "      <th>JP_sales</th>\n",
       "      <th>Other_sales</th>\n",
       "      <th>Critic_Score</th>\n",
       "      <th>User_Score</th>\n",
       "      <th>Rating</th>\n",
       "    </tr>\n",
       "  </thead>\n",
       "  <tbody>\n",
       "    <tr>\n",
       "      <th>0</th>\n",
       "      <td>Wii Sports</td>\n",
       "      <td>Wii</td>\n",
       "      <td>2006.0</td>\n",
       "      <td>Sports</td>\n",
       "      <td>41.36</td>\n",
       "      <td>28.96</td>\n",
       "      <td>3.77</td>\n",
       "      <td>8.45</td>\n",
       "      <td>76.0</td>\n",
       "      <td>8</td>\n",
       "      <td>E</td>\n",
       "    </tr>\n",
       "    <tr>\n",
       "      <th>1</th>\n",
       "      <td>Super Mario Bros.</td>\n",
       "      <td>NES</td>\n",
       "      <td>1985.0</td>\n",
       "      <td>Platform</td>\n",
       "      <td>29.08</td>\n",
       "      <td>3.58</td>\n",
       "      <td>6.81</td>\n",
       "      <td>0.77</td>\n",
       "      <td>NaN</td>\n",
       "      <td>NaN</td>\n",
       "      <td>NaN</td>\n",
       "    </tr>\n",
       "    <tr>\n",
       "      <th>2</th>\n",
       "      <td>Mario Kart Wii</td>\n",
       "      <td>Wii</td>\n",
       "      <td>2008.0</td>\n",
       "      <td>Racing</td>\n",
       "      <td>15.68</td>\n",
       "      <td>12.76</td>\n",
       "      <td>3.79</td>\n",
       "      <td>3.29</td>\n",
       "      <td>82.0</td>\n",
       "      <td>8.3</td>\n",
       "      <td>E</td>\n",
       "    </tr>\n",
       "    <tr>\n",
       "      <th>3</th>\n",
       "      <td>Wii Sports Resort</td>\n",
       "      <td>Wii</td>\n",
       "      <td>2009.0</td>\n",
       "      <td>Sports</td>\n",
       "      <td>15.61</td>\n",
       "      <td>10.93</td>\n",
       "      <td>3.28</td>\n",
       "      <td>2.95</td>\n",
       "      <td>80.0</td>\n",
       "      <td>8</td>\n",
       "      <td>E</td>\n",
       "    </tr>\n",
       "    <tr>\n",
       "      <th>4</th>\n",
       "      <td>Pokemon Red/Pokemon Blue</td>\n",
       "      <td>GB</td>\n",
       "      <td>1996.0</td>\n",
       "      <td>Role-Playing</td>\n",
       "      <td>11.27</td>\n",
       "      <td>8.89</td>\n",
       "      <td>10.22</td>\n",
       "      <td>1.00</td>\n",
       "      <td>NaN</td>\n",
       "      <td>NaN</td>\n",
       "      <td>NaN</td>\n",
       "    </tr>\n",
       "  </tbody>\n",
       "</table>\n",
       "</div>"
      ],
      "text/plain": [
       "                       Name Platform  Year_of_Release         Genre  NA_sales  \\\n",
       "0                Wii Sports      Wii           2006.0        Sports     41.36   \n",
       "1         Super Mario Bros.      NES           1985.0      Platform     29.08   \n",
       "2            Mario Kart Wii      Wii           2008.0        Racing     15.68   \n",
       "3         Wii Sports Resort      Wii           2009.0        Sports     15.61   \n",
       "4  Pokemon Red/Pokemon Blue       GB           1996.0  Role-Playing     11.27   \n",
       "\n",
       "   EU_sales  JP_sales  Other_sales  Critic_Score User_Score Rating  \n",
       "0     28.96      3.77         8.45          76.0          8      E  \n",
       "1      3.58      6.81         0.77           NaN        NaN    NaN  \n",
       "2     12.76      3.79         3.29          82.0        8.3      E  \n",
       "3     10.93      3.28         2.95          80.0          8      E  \n",
       "4      8.89     10.22         1.00           NaN        NaN    NaN  "
      ]
     },
     "metadata": {},
     "output_type": "display_data"
    }
   ],
   "source": [
    "# Выведем на экран первые 5 строк датафрейма\n",
    "display(games.head())"
   ]
  },
  {
   "cell_type": "code",
   "execution_count": 4,
   "metadata": {},
   "outputs": [
    {
     "name": "stdout",
     "output_type": "stream",
     "text": [
      "<class 'pandas.core.frame.DataFrame'>\n",
      "RangeIndex: 16715 entries, 0 to 16714\n",
      "Data columns (total 11 columns):\n",
      " #   Column           Non-Null Count  Dtype  \n",
      "---  ------           --------------  -----  \n",
      " 0   Name             16713 non-null  object \n",
      " 1   Platform         16715 non-null  object \n",
      " 2   Year_of_Release  16446 non-null  float64\n",
      " 3   Genre            16713 non-null  object \n",
      " 4   NA_sales         16715 non-null  float64\n",
      " 5   EU_sales         16715 non-null  float64\n",
      " 6   JP_sales         16715 non-null  float64\n",
      " 7   Other_sales      16715 non-null  float64\n",
      " 8   Critic_Score     8137 non-null   float64\n",
      " 9   User_Score       10014 non-null  object \n",
      " 10  Rating           9949 non-null   object \n",
      "dtypes: float64(6), object(5)\n",
      "memory usage: 1.4+ MB\n"
     ]
    }
   ],
   "source": [
    "# Выведем на экран общую информацию о датафрейме\n",
    "games.info()"
   ]
  },
  {
   "cell_type": "markdown",
   "metadata": {},
   "source": [
    "<div class=\"alert alert-block alert-success\">\n",
    " \n",
    "### Комментарий ревьюера\n",
    "    \n",
    "#### Успех\n",
    "    \n",
    "Благодарю тебя за первичную информацию о данных. Проект мы сохранили в переменные и получили первичное представление о данных."
   ]
  },
  {
   "cell_type": "markdown",
   "metadata": {},
   "source": [
    "<div class=\"alert alert-block alert-danger\">\n",
    " \n",
    "### Комментарий ревьюера\n",
    "    \n",
    "#### Ошибка\n",
    "    \n",
    "Не хватает только промежуточного вывода по итогу знакомства с данными. "
   ]
  },
  {
   "cell_type": "markdown",
   "metadata": {},
   "source": [
    "<div class=\"alert alert-info\"> <b>Комментарий студента:</b> \n",
    "\n",
    "Поняла! Добавила вывод ниже\n",
    "    \n",
    "</div>"
   ]
  },
  {
   "cell_type": "markdown",
   "metadata": {},
   "source": [
    "<div class=\"alert alert-block alert-success\">\n",
    " \n",
    "# Комментарий ревьюера ver.2 \n",
    "    \n",
    "#### Успех\n",
    "    \n",
    "Исправлено"
   ]
  },
  {
   "cell_type": "markdown",
   "metadata": {},
   "source": [
    "Мы ознакомились с таблицей. В загруженном датафрейме 11 столбцов, 16715 строк с данными об играх. Исходя из информации выше, можем заметить, что имена столбцов заданы не корректно. Заметно, что для некоторых столбцов неверно заданы типы данных, также в данных есть пропуски. Перейдем к предобработке данных."
   ]
  },
  {
   "cell_type": "markdown",
   "metadata": {},
   "source": [
    "## Предобработка данных"
   ]
  },
  {
   "cell_type": "markdown",
   "metadata": {},
   "source": [
    "### Работа с названиями столбцов"
   ]
  },
  {
   "cell_type": "code",
   "execution_count": 5,
   "metadata": {},
   "outputs": [
    {
     "name": "stdout",
     "output_type": "stream",
     "text": [
      "Index(['name', 'platform', 'year_of_release', 'genre', 'na_sales', 'eu_sales',\n",
      "       'jp_sales', 'other_sales', 'critic_score', 'user_score', 'rating'],\n",
      "      dtype='object')\n"
     ]
    }
   ],
   "source": [
    "# Переименуем столбцы в соответствии с принятыми правилами названия\n",
    "#games = games.rename(columns={\n",
    "#    'Name': 'name',\n",
    "#    'Platform': 'platform',\n",
    "#    'Year_of_Release': 'year_of_release',\n",
    "#    'Genre': 'genre',\n",
    "#    'Other_sales': 'other_sales',\n",
    "#    'NA_sales': 'na_sales',\n",
    "#    'EU_sales': 'eu_sales',\n",
    "#    'JP_sales': 'jp_sales',\n",
    "#    'Critic_Score': 'critic_score',\n",
    "#    'User_Score': 'user_score',\n",
    "#    'Rating': 'rating'\n",
    "#})\n",
    "\n",
    "# Приведем все слова к нижнему регистру\n",
    "games.columns = games.columns.str.lower()\n",
    "\n",
    "# Проверим, все ли получилось\n",
    "print(games.columns)"
   ]
  },
  {
   "cell_type": "markdown",
   "metadata": {},
   "source": [
    "<div class=\"alert alert-block alert-warning\">\n",
    " \n",
    "### Комментарий ревьюера\n",
    "    \n",
    "#### Совет\n",
    "    \n",
    "А тут бы использовать такой метод `df.columns = df.columns.str.lower()`"
   ]
  },
  {
   "cell_type": "markdown",
   "metadata": {},
   "source": [
    "<div class=\"alert alert-info\"> <b>Комментарий студента:</b> \n",
    "\n",
    "Спасибо! Прошлый код закомментировала и там же добавила этот метод.\n",
    "    \n",
    "</div>"
   ]
  },
  {
   "cell_type": "markdown",
   "metadata": {},
   "source": [
    "### Работа с пропущенными значениями"
   ]
  },
  {
   "cell_type": "code",
   "execution_count": 6,
   "metadata": {},
   "outputs": [
    {
     "name": "stdout",
     "output_type": "stream",
     "text": [
      "Найдено пропусков:\n",
      "name                  2\n",
      "platform              0\n",
      "year_of_release     269\n",
      "genre                 2\n",
      "na_sales              0\n",
      "eu_sales              0\n",
      "jp_sales              0\n",
      "other_sales           0\n",
      "critic_score       8578\n",
      "user_score         6701\n",
      "rating             6766\n",
      "dtype: int64\n"
     ]
    }
   ],
   "source": [
    "# Найдем количества пропущенных значений во всех столбцах\n",
    "print('Найдено пропусков:')\n",
    "print(games.isna().sum())"
   ]
  },
  {
   "cell_type": "markdown",
   "metadata": {},
   "source": [
    "<div class=\"alert alert-block alert-warning\">\n",
    " \n",
    "### Комментарий ревьюера\n",
    "    \n",
    "#### Совет\n",
    "    \n",
    "Для визуализации пропусков используй https://russianblogs.com/article/5001266235/"
   ]
  },
  {
   "cell_type": "markdown",
   "metadata": {},
   "source": [
    "<div class=\"alert alert-info\"> <b>Комментарий студента:</b> \n",
    "\n",
    "Большое спасибо за ссылку! Почитаю.\n",
    "    \n",
    "</div>"
   ]
  },
  {
   "cell_type": "code",
   "execution_count": 7,
   "metadata": {},
   "outputs": [
    {
     "data": {
      "text/html": [
       "<div>\n",
       "<style scoped>\n",
       "    .dataframe tbody tr th:only-of-type {\n",
       "        vertical-align: middle;\n",
       "    }\n",
       "\n",
       "    .dataframe tbody tr th {\n",
       "        vertical-align: top;\n",
       "    }\n",
       "\n",
       "    .dataframe thead th {\n",
       "        text-align: right;\n",
       "    }\n",
       "</style>\n",
       "<table border=\"1\" class=\"dataframe\">\n",
       "  <thead>\n",
       "    <tr style=\"text-align: right;\">\n",
       "      <th></th>\n",
       "      <th>name</th>\n",
       "      <th>platform</th>\n",
       "      <th>year_of_release</th>\n",
       "      <th>genre</th>\n",
       "      <th>na_sales</th>\n",
       "      <th>eu_sales</th>\n",
       "      <th>jp_sales</th>\n",
       "      <th>other_sales</th>\n",
       "      <th>critic_score</th>\n",
       "      <th>user_score</th>\n",
       "      <th>rating</th>\n",
       "    </tr>\n",
       "  </thead>\n",
       "  <tbody>\n",
       "    <tr>\n",
       "      <th>659</th>\n",
       "      <td>NaN</td>\n",
       "      <td>GEN</td>\n",
       "      <td>1993.0</td>\n",
       "      <td>NaN</td>\n",
       "      <td>1.78</td>\n",
       "      <td>0.53</td>\n",
       "      <td>0.00</td>\n",
       "      <td>0.08</td>\n",
       "      <td>NaN</td>\n",
       "      <td>NaN</td>\n",
       "      <td>NaN</td>\n",
       "    </tr>\n",
       "    <tr>\n",
       "      <th>14244</th>\n",
       "      <td>NaN</td>\n",
       "      <td>GEN</td>\n",
       "      <td>1993.0</td>\n",
       "      <td>NaN</td>\n",
       "      <td>0.00</td>\n",
       "      <td>0.00</td>\n",
       "      <td>0.03</td>\n",
       "      <td>0.00</td>\n",
       "      <td>NaN</td>\n",
       "      <td>NaN</td>\n",
       "      <td>NaN</td>\n",
       "    </tr>\n",
       "  </tbody>\n",
       "</table>\n",
       "</div>"
      ],
      "text/plain": [
       "      name platform  year_of_release genre  na_sales  eu_sales  jp_sales  \\\n",
       "659    NaN      GEN           1993.0   NaN      1.78      0.53      0.00   \n",
       "14244  NaN      GEN           1993.0   NaN      0.00      0.00      0.03   \n",
       "\n",
       "       other_sales  critic_score user_score rating  \n",
       "659           0.08           NaN        NaN    NaN  \n",
       "14244         0.00           NaN        NaN    NaN  "
      ]
     },
     "metadata": {},
     "output_type": "display_data"
    }
   ],
   "source": [
    "# Выведем на экран строки с пропусками в столбце 'name'\n",
    "display(games.loc[games['name'].isna()])"
   ]
  },
  {
   "cell_type": "markdown",
   "metadata": {},
   "source": [
    "Найдено два пропуска в строках `name` и `genre`. После вывода строк с пропущенными значениями в столбце `names`, мы увидели, что эти две строки содержат пропуски одновременно и в столбце `genre` . Удаляем их, т.к. без имени и жанра игр нет понимания, о чем идет речь, и дальнейшие действия не имеют смысла.\n",
    "\n",
    "Пропуски в столбце `year_of_release` заменим на значение '-1'.\n",
    "\n",
    "Пропуски в столбце `critic_score` заменим на значение '-1', т.к. пропусков много, и, если заменить на медианное значение, это может повлиять на результаты исследования.\n",
    "\n",
    "Пропуски в столбце `user_score` заменим на значение '-1', т.к. пропусков много, и, если заменить на медианное значение, это может повлиять на результаты исследования.\n",
    "\n",
    "Пропуски в столбце `rating` заменим на значение 'unknown'."
   ]
  },
  {
   "cell_type": "code",
   "execution_count": 8,
   "metadata": {},
   "outputs": [
    {
     "name": "stdout",
     "output_type": "stream",
     "text": [
      "Найдено пропусков:\n",
      "name               0\n",
      "platform           0\n",
      "year_of_release    0\n",
      "genre              0\n",
      "na_sales           0\n",
      "eu_sales           0\n",
      "jp_sales           0\n",
      "other_sales        0\n",
      "critic_score       0\n",
      "user_score         0\n",
      "rating             0\n",
      "dtype: int64\n"
     ]
    }
   ],
   "source": [
    "# Удалим две строки с отсутствующими названиями игр\n",
    "games = games.dropna(subset=['name'])\n",
    "\n",
    "# Осуществим заполнение пропущенных значений\n",
    "games['year_of_release'] = games['year_of_release'].fillna(-1)\n",
    "games['critic_score'] = games['critic_score'].fillna(-1)\n",
    "games['user_score'] = games['user_score'].fillna(-1)\n",
    "games['rating'] = games['rating'].fillna('unknown')\n",
    "\n",
    "# Проверим, избавились ли от пропусков\n",
    "print('Найдено пропусков:')\n",
    "print(games.isna().sum())"
   ]
  },
  {
   "cell_type": "markdown",
   "metadata": {},
   "source": [
    "<div class=\"alert alert-block alert-success\">\n",
    " \n",
    "### Комментарий ревьюера\n",
    "    \n",
    "#### Успех\n",
    "    \n",
    "Соглашусь. Там, где пропусков мало, логично избавиться от них.  В для оценок оптимально пропуски никак не заменить и лучше всего подставить заглушки оставить как есть"
   ]
  },
  {
   "cell_type": "markdown",
   "metadata": {},
   "source": [
    "Все пропуски устранены.  \n",
    "\n",
    "Пропуски могли возникуть из-за человеческого фактора: при ручном вводе менеджер, который заполнял данные об играх на сайте, мог допустить ошибку (пропустить поле или занести неправильную формулу расчета). Что касается данных, полученных автоматически, пропуски в некоторых строках могут возникунть из-за технических ошибок (непредусмотренные элементы в коде и прочие ошибки)."
   ]
  },
  {
   "cell_type": "markdown",
   "metadata": {},
   "source": [
    "### Работа с дубликатами"
   ]
  },
  {
   "cell_type": "markdown",
   "metadata": {},
   "source": [
    "#### Поиск и обработка явных дубликатов"
   ]
  },
  {
   "cell_type": "code",
   "execution_count": 9,
   "metadata": {},
   "outputs": [
    {
     "name": "stdout",
     "output_type": "stream",
     "text": [
      "В датафрейме 'games' 0 дубликат(-ов)\n"
     ]
    }
   ],
   "source": [
    "# Проверим наличие явных дубликатов\n",
    "print(f'В датафрейме \\'games\\' {games.duplicated().sum()} дубликат(-ов)')"
   ]
  },
  {
   "cell_type": "markdown",
   "metadata": {},
   "source": [
    "<div class=\"alert alert-block alert-success\">\n",
    " \n",
    "### Комментарий ревьюера\n",
    "    \n",
    "#### Успех\n",
    "    \n",
    "Тут дублей нет. Отлично"
   ]
  },
  {
   "cell_type": "markdown",
   "metadata": {},
   "source": [
    "#### Поиск и обработка явных дубликатов"
   ]
  },
  {
   "cell_type": "code",
   "execution_count": 10,
   "metadata": {},
   "outputs": [
    {
     "name": "stdout",
     "output_type": "stream",
     "text": [
      "Количества уникальных значений для столбца name\n",
      "Need for Speed: Most Wanted                               12\n",
      "LEGO Marvel Super Heroes                                   9\n",
      "Madden NFL 07                                              9\n",
      "FIFA 14                                                    9\n",
      "Ratatouille                                                9\n",
      "                                                          ..\n",
      "SpongeBob SquarePants: Game Boy Advance Video Volume 2     1\n",
      "Wildstar                                                   1\n",
      "Samurai Shodown: Warrios Rage                              1\n",
      "Fushigi? Kagaku: Nazotoki Quiz Training - NazoTore         1\n",
      "Blender Bros.                                              1\n",
      "Name: name, Length: 11559, dtype: int64\n",
      "\n",
      "Количества уникальных значений для столбца platform\n",
      "PS2     2161\n",
      "DS      2151\n",
      "PS3     1331\n",
      "Wii     1320\n",
      "X360    1262\n",
      "PSP     1209\n",
      "PS      1197\n",
      "PC       974\n",
      "XB       824\n",
      "GBA      822\n",
      "GC       556\n",
      "3DS      520\n",
      "PSV      430\n",
      "PS4      392\n",
      "N64      319\n",
      "XOne     247\n",
      "SNES     239\n",
      "SAT      173\n",
      "WiiU     147\n",
      "2600     133\n",
      "NES       98\n",
      "GB        98\n",
      "DC        52\n",
      "GEN       27\n",
      "NG        12\n",
      "WS         6\n",
      "SCD        6\n",
      "3DO        3\n",
      "TG16       2\n",
      "PCFX       1\n",
      "GG         1\n",
      "Name: platform, dtype: int64\n",
      "\n",
      "Количества уникальных значений для столбца year_of_release\n",
      " 2008.0    1427\n",
      " 2009.0    1426\n",
      " 2010.0    1255\n",
      " 2007.0    1197\n",
      " 2011.0    1136\n",
      " 2006.0    1006\n",
      " 2005.0     939\n",
      " 2002.0     829\n",
      " 2003.0     775\n",
      " 2004.0     762\n",
      " 2012.0     653\n",
      " 2015.0     606\n",
      " 2014.0     581\n",
      " 2013.0     544\n",
      " 2016.0     502\n",
      " 2001.0     482\n",
      " 1998.0     379\n",
      " 2000.0     350\n",
      " 1999.0     338\n",
      " 1997.0     289\n",
      "-1.0        269\n",
      " 1996.0     263\n",
      " 1995.0     219\n",
      " 1994.0     121\n",
      " 1993.0      60\n",
      " 1981.0      46\n",
      " 1992.0      43\n",
      " 1991.0      41\n",
      " 1982.0      36\n",
      " 1986.0      21\n",
      " 1989.0      17\n",
      " 1983.0      17\n",
      " 1987.0      16\n",
      " 1990.0      16\n",
      " 1988.0      15\n",
      " 1985.0      14\n",
      " 1984.0      14\n",
      " 1980.0       9\n",
      "Name: year_of_release, dtype: int64\n",
      "\n",
      "Количества уникальных значений для столбца genre\n",
      "Action          3369\n",
      "Sports          2348\n",
      "Misc            1750\n",
      "Role-Playing    1498\n",
      "Shooter         1323\n",
      "Adventure       1303\n",
      "Racing          1249\n",
      "Platform         888\n",
      "Simulation       873\n",
      "Fighting         849\n",
      "Strategy         683\n",
      "Puzzle           580\n",
      "Name: genre, dtype: int64\n",
      "\n",
      "Количества уникальных значений для столбца na_sales\n",
      "0.00    4507\n",
      "0.02     576\n",
      "0.03     561\n",
      "0.04     549\n",
      "0.01     545\n",
      "        ... \n",
      "4.12       1\n",
      "8.41       1\n",
      "1.97       1\n",
      "3.70       1\n",
      "3.43       1\n",
      "Name: na_sales, Length: 402, dtype: int64\n",
      "\n",
      "Количества уникальных значений для столбца eu_sales\n",
      "0.00    5869\n",
      "0.01    1494\n",
      "0.02    1308\n",
      "0.03     926\n",
      "0.04     709\n",
      "        ... \n",
      "9.14       1\n",
      "1.92       1\n",
      "3.86       1\n",
      "2.59       1\n",
      "3.87       1\n",
      "Name: eu_sales, Length: 307, dtype: int64\n",
      "\n",
      "Количества уникальных значений для столбца jp_sales\n",
      "0.00    10513\n",
      "0.02      741\n",
      "0.01      706\n",
      "0.03      545\n",
      "0.04      397\n",
      "        ...  \n",
      "3.84        1\n",
      "1.17        1\n",
      "3.03        1\n",
      "2.66        1\n",
      "1.71        1\n",
      "Name: jp_sales, Length: 244, dtype: int64\n",
      "\n",
      "Количества уникальных значений для столбца other_sales\n",
      "0.00    6600\n",
      "0.01    3464\n",
      "0.02    1618\n",
      "0.03     926\n",
      "0.04     654\n",
      "        ... \n",
      "0.72       1\n",
      "2.11       1\n",
      "0.96       1\n",
      "1.48       1\n",
      "3.96       1\n",
      "Name: other_sales, Length: 155, dtype: int64\n",
      "\n",
      "Количества уникальных значений для столбца critic_score\n",
      "-1.0     8576\n",
      " 70.0     256\n",
      " 71.0     254\n",
      " 75.0     245\n",
      " 78.0     240\n",
      "         ... \n",
      " 29.0       3\n",
      " 22.0       1\n",
      " 13.0       1\n",
      " 21.0       1\n",
      " 17.0       1\n",
      "Name: critic_score, Length: 83, dtype: int64\n",
      "\n",
      "Количества уникальных значений для столбца user_score\n",
      "-1     6699\n",
      "tbd    2424\n",
      "7.8     324\n",
      "8       290\n",
      "8.2     282\n",
      "       ... \n",
      "0.5       2\n",
      "1         2\n",
      "1.3       2\n",
      "9.7       1\n",
      "0         1\n",
      "Name: user_score, Length: 97, dtype: int64\n",
      "\n",
      "Количества уникальных значений для столбца rating\n",
      "unknown    6764\n",
      "E          3990\n",
      "T          2961\n",
      "M          1563\n",
      "E10+       1420\n",
      "EC            8\n",
      "K-A           3\n",
      "RP            3\n",
      "AO            1\n",
      "Name: rating, dtype: int64\n",
      "\n"
     ]
    }
   ],
   "source": [
    "# Выведем уникальные значения всех столбцов\n",
    "for column in games:\n",
    " print(f'Количества уникальных значений для столбца {column}')\n",
    " print(games[column].value_counts())\n",
    " print()"
   ]
  },
  {
   "cell_type": "markdown",
   "metadata": {},
   "source": [
    "<div class=\"alert alert-block alert-success\">\n",
    " \n",
    "### Комментарий ревьюера\n",
    "    \n",
    "#### Успех\n",
    "    \n",
    "Ну и правильным решением является то, что мы посмотрели на неявные дубли. "
   ]
  },
  {
   "cell_type": "markdown",
   "metadata": {},
   "source": [
    "По регистру значений в столбцах неявных дубликатов не найдено.\n",
    "    \n",
    "Однако, в столбце `user_score`, было найдено значение 'tbd'. Заменим его на '0', чтобы отличать от '-1', которым мы заполнили пропущенные значения."
   ]
  },
  {
   "cell_type": "code",
   "execution_count": 11,
   "metadata": {},
   "outputs": [
    {
     "name": "stdout",
     "output_type": "stream",
     "text": [
      "Количества уникальных значений для столбца user_score\n",
      "-1     6699\n",
      "0      2424\n",
      "7.8     324\n",
      "8       290\n",
      "8.2     282\n",
      "       ... \n",
      "0.9       2\n",
      "1.5       2\n",
      "1.9       2\n",
      "0         1\n",
      "9.7       1\n",
      "Name: user_score, Length: 97, dtype: int64\n"
     ]
    }
   ],
   "source": [
    "# Проведем замену\n",
    "games['user_score'] = games['user_score'].replace('tbd', 0)\n",
    "\n",
    "# Проверим, прошла ли замена\n",
    "print(f'Количества уникальных значений для столбца user_score')\n",
    "print(games['user_score'].value_counts())"
   ]
  },
  {
   "cell_type": "markdown",
   "metadata": {},
   "source": [
    "Поищем неявные дубликаты по столбцам `name`, `platform`, `year_of_release` одновременно, т.к. это ключевые строки, указывающие на описание одной игры, одного года выпуска."
   ]
  },
  {
   "cell_type": "code",
   "execution_count": 12,
   "metadata": {},
   "outputs": [
    {
     "data": {
      "text/html": [
       "<div>\n",
       "<style scoped>\n",
       "    .dataframe tbody tr th:only-of-type {\n",
       "        vertical-align: middle;\n",
       "    }\n",
       "\n",
       "    .dataframe tbody tr th {\n",
       "        vertical-align: top;\n",
       "    }\n",
       "\n",
       "    .dataframe thead th {\n",
       "        text-align: right;\n",
       "    }\n",
       "</style>\n",
       "<table border=\"1\" class=\"dataframe\">\n",
       "  <thead>\n",
       "    <tr style=\"text-align: right;\">\n",
       "      <th></th>\n",
       "      <th>name</th>\n",
       "      <th>platform</th>\n",
       "      <th>year_of_release</th>\n",
       "      <th>genre</th>\n",
       "      <th>na_sales</th>\n",
       "      <th>eu_sales</th>\n",
       "      <th>jp_sales</th>\n",
       "      <th>other_sales</th>\n",
       "      <th>critic_score</th>\n",
       "      <th>user_score</th>\n",
       "      <th>rating</th>\n",
       "    </tr>\n",
       "  </thead>\n",
       "  <tbody>\n",
       "    <tr>\n",
       "      <th>604</th>\n",
       "      <td>Madden NFL 13</td>\n",
       "      <td>PS3</td>\n",
       "      <td>2012.0</td>\n",
       "      <td>Sports</td>\n",
       "      <td>2.11</td>\n",
       "      <td>0.22</td>\n",
       "      <td>0.0</td>\n",
       "      <td>0.23</td>\n",
       "      <td>83.0</td>\n",
       "      <td>5.5</td>\n",
       "      <td>E</td>\n",
       "    </tr>\n",
       "    <tr>\n",
       "      <th>16230</th>\n",
       "      <td>Madden NFL 13</td>\n",
       "      <td>PS3</td>\n",
       "      <td>2012.0</td>\n",
       "      <td>Sports</td>\n",
       "      <td>0.00</td>\n",
       "      <td>0.01</td>\n",
       "      <td>0.0</td>\n",
       "      <td>0.00</td>\n",
       "      <td>83.0</td>\n",
       "      <td>5.5</td>\n",
       "      <td>E</td>\n",
       "    </tr>\n",
       "  </tbody>\n",
       "</table>\n",
       "</div>"
      ],
      "text/plain": [
       "                name platform  year_of_release   genre  na_sales  eu_sales  \\\n",
       "604    Madden NFL 13      PS3           2012.0  Sports      2.11      0.22   \n",
       "16230  Madden NFL 13      PS3           2012.0  Sports      0.00      0.01   \n",
       "\n",
       "       jp_sales  other_sales  critic_score user_score rating  \n",
       "604         0.0         0.23          83.0        5.5      E  \n",
       "16230       0.0         0.00          83.0        5.5      E  "
      ]
     },
     "metadata": {},
     "output_type": "display_data"
    }
   ],
   "source": [
    "# Выведем на экран все дубликаты по трем строкам одновременно\n",
    "display(games.loc[games.duplicated(subset=['name', 'platform', 'year_of_release'], keep=False)])"
   ]
  },
  {
   "cell_type": "markdown",
   "metadata": {},
   "source": [
    "Оставим строку, где есть данные о продажах, вторую удалим."
   ]
  },
  {
   "cell_type": "code",
   "execution_count": 13,
   "metadata": {},
   "outputs": [
    {
     "name": "stdout",
     "output_type": "stream",
     "text": [
      "Осталось неявных дубликатов по столбцам 'name', 'platform', 'year_of_release': 0\n"
     ]
    }
   ],
   "source": [
    "# Удалим вторую строку этого дубликата\n",
    "games = games.drop_duplicates(subset=['name', 'platform', 'year_of_release'], keep='first')\n",
    "\n",
    "# Проверим, остались ли дубликаты\n",
    "print(f'Осталось неявных дубликатов по столбцам \\'name\\', \\'platform\\', \\'year_of_release\\': {games.duplicated(subset=[\"name\", \"platform\", \"year_of_release\"]).sum()}')"
   ]
  },
  {
   "cell_type": "markdown",
   "metadata": {},
   "source": [
    "<div class=\"alert alert-block alert-success\">\n",
    " \n",
    "### Комментарий ревьюера\n",
    "    \n",
    "#### Успех\n",
    "    \n",
    "От лишнего избавились издесь. Здорово.  "
   ]
  },
  {
   "cell_type": "markdown",
   "metadata": {},
   "source": [
    "### Работа с типами данных"
   ]
  },
  {
   "cell_type": "markdown",
   "metadata": {},
   "source": [
    "Для столбцов `year_of_release` и `critic_score` заменим тип данных на целочисленный, т.к. год не может быть дробным, а оценка критиков, судя по выведеным ранее уникальным значениям столбца, также имеет только целочисленные значения.\n",
    "\n",
    "Для столбца `user_score` заменим тип данных с текстового на числовой. Выбран тип данных с плавающей точкой, т.к. уникальные значения этого столбца дробные."
   ]
  },
  {
   "cell_type": "code",
   "execution_count": 14,
   "metadata": {},
   "outputs": [
    {
     "name": "stdout",
     "output_type": "stream",
     "text": [
      "<class 'pandas.core.frame.DataFrame'>\n",
      "Int64Index: 16712 entries, 0 to 16714\n",
      "Data columns (total 11 columns):\n",
      " #   Column           Non-Null Count  Dtype  \n",
      "---  ------           --------------  -----  \n",
      " 0   name             16712 non-null  object \n",
      " 1   platform         16712 non-null  object \n",
      " 2   year_of_release  16712 non-null  int32  \n",
      " 3   genre            16712 non-null  object \n",
      " 4   na_sales         16712 non-null  float64\n",
      " 5   eu_sales         16712 non-null  float64\n",
      " 6   jp_sales         16712 non-null  float64\n",
      " 7   other_sales      16712 non-null  float64\n",
      " 8   critic_score     16712 non-null  int32  \n",
      " 9   user_score       16712 non-null  float64\n",
      " 10  rating           16712 non-null  object \n",
      "dtypes: float64(5), int32(2), object(4)\n",
      "memory usage: 1.4+ MB\n"
     ]
    }
   ],
   "source": [
    "# Для столбцов 'year_of_release' и 'critic_score' заменим тип данных на целочисленный\n",
    "games['year_of_release'] = games['year_of_release'].astype('int32')\n",
    "games['critic_score'] = games['critic_score'].astype('int32')\n",
    "\n",
    "# Для столбца 'user_score' заменим тип данных на числовой\n",
    "games['user_score'] = games['user_score'].astype('float')\n",
    "\n",
    "# Проверим общую информацию по датафрейму, чтобы перепроверить все изменения\n",
    "games.info()"
   ]
  },
  {
   "cell_type": "markdown",
   "metadata": {},
   "source": [
    "<div class=\"alert alert-block alert-warning\">\n",
    " \n",
    "### Комментарий ревьюера\n",
    "    \n",
    "#### Совет\n",
    "    \n",
    "Для экономии вычислительной памяти лучше всего переводить в int32"
   ]
  },
  {
   "cell_type": "markdown",
   "metadata": {},
   "source": [
    "<div class=\"alert alert-info\"> <b>Комментарий студента:</b> \n",
    "\n",
    "Спасибо! Исправила\n",
    "    \n",
    "</div>"
   ]
  },
  {
   "cell_type": "markdown",
   "metadata": {},
   "source": [
    "<div class=\"alert alert-block alert-success\">\n",
    " \n",
    "# Комментарий ревьюера ver.2 \n",
    "    \n",
    "#### Успех\n",
    "    \n",
    "Тут отлично получилось"
   ]
  },
  {
   "cell_type": "markdown",
   "metadata": {},
   "source": [
    "### Создание дополнительных столбцов"
   ]
  },
  {
   "cell_type": "code",
   "execution_count": 15,
   "metadata": {},
   "outputs": [
    {
     "data": {
      "text/html": [
       "<div>\n",
       "<style scoped>\n",
       "    .dataframe tbody tr th:only-of-type {\n",
       "        vertical-align: middle;\n",
       "    }\n",
       "\n",
       "    .dataframe tbody tr th {\n",
       "        vertical-align: top;\n",
       "    }\n",
       "\n",
       "    .dataframe thead th {\n",
       "        text-align: right;\n",
       "    }\n",
       "</style>\n",
       "<table border=\"1\" class=\"dataframe\">\n",
       "  <thead>\n",
       "    <tr style=\"text-align: right;\">\n",
       "      <th></th>\n",
       "      <th>name</th>\n",
       "      <th>platform</th>\n",
       "      <th>year_of_release</th>\n",
       "      <th>genre</th>\n",
       "      <th>na_sales</th>\n",
       "      <th>eu_sales</th>\n",
       "      <th>jp_sales</th>\n",
       "      <th>other_sales</th>\n",
       "      <th>critic_score</th>\n",
       "      <th>user_score</th>\n",
       "      <th>rating</th>\n",
       "      <th>total_sales</th>\n",
       "    </tr>\n",
       "  </thead>\n",
       "  <tbody>\n",
       "    <tr>\n",
       "      <th>0</th>\n",
       "      <td>Wii Sports</td>\n",
       "      <td>Wii</td>\n",
       "      <td>2006</td>\n",
       "      <td>Sports</td>\n",
       "      <td>41.36</td>\n",
       "      <td>28.96</td>\n",
       "      <td>3.77</td>\n",
       "      <td>8.45</td>\n",
       "      <td>76</td>\n",
       "      <td>8.0</td>\n",
       "      <td>E</td>\n",
       "      <td>82.54</td>\n",
       "    </tr>\n",
       "    <tr>\n",
       "      <th>1</th>\n",
       "      <td>Super Mario Bros.</td>\n",
       "      <td>NES</td>\n",
       "      <td>1985</td>\n",
       "      <td>Platform</td>\n",
       "      <td>29.08</td>\n",
       "      <td>3.58</td>\n",
       "      <td>6.81</td>\n",
       "      <td>0.77</td>\n",
       "      <td>-1</td>\n",
       "      <td>-1.0</td>\n",
       "      <td>unknown</td>\n",
       "      <td>40.24</td>\n",
       "    </tr>\n",
       "    <tr>\n",
       "      <th>2</th>\n",
       "      <td>Mario Kart Wii</td>\n",
       "      <td>Wii</td>\n",
       "      <td>2008</td>\n",
       "      <td>Racing</td>\n",
       "      <td>15.68</td>\n",
       "      <td>12.76</td>\n",
       "      <td>3.79</td>\n",
       "      <td>3.29</td>\n",
       "      <td>82</td>\n",
       "      <td>8.3</td>\n",
       "      <td>E</td>\n",
       "      <td>35.52</td>\n",
       "    </tr>\n",
       "    <tr>\n",
       "      <th>3</th>\n",
       "      <td>Wii Sports Resort</td>\n",
       "      <td>Wii</td>\n",
       "      <td>2009</td>\n",
       "      <td>Sports</td>\n",
       "      <td>15.61</td>\n",
       "      <td>10.93</td>\n",
       "      <td>3.28</td>\n",
       "      <td>2.95</td>\n",
       "      <td>80</td>\n",
       "      <td>8.0</td>\n",
       "      <td>E</td>\n",
       "      <td>32.77</td>\n",
       "    </tr>\n",
       "    <tr>\n",
       "      <th>4</th>\n",
       "      <td>Pokemon Red/Pokemon Blue</td>\n",
       "      <td>GB</td>\n",
       "      <td>1996</td>\n",
       "      <td>Role-Playing</td>\n",
       "      <td>11.27</td>\n",
       "      <td>8.89</td>\n",
       "      <td>10.22</td>\n",
       "      <td>1.00</td>\n",
       "      <td>-1</td>\n",
       "      <td>-1.0</td>\n",
       "      <td>unknown</td>\n",
       "      <td>31.38</td>\n",
       "    </tr>\n",
       "  </tbody>\n",
       "</table>\n",
       "</div>"
      ],
      "text/plain": [
       "                       name platform  year_of_release         genre  na_sales  \\\n",
       "0                Wii Sports      Wii             2006        Sports     41.36   \n",
       "1         Super Mario Bros.      NES             1985      Platform     29.08   \n",
       "2            Mario Kart Wii      Wii             2008        Racing     15.68   \n",
       "3         Wii Sports Resort      Wii             2009        Sports     15.61   \n",
       "4  Pokemon Red/Pokemon Blue       GB             1996  Role-Playing     11.27   \n",
       "\n",
       "   eu_sales  jp_sales  other_sales  critic_score  user_score   rating  \\\n",
       "0     28.96      3.77         8.45            76         8.0        E   \n",
       "1      3.58      6.81         0.77            -1        -1.0  unknown   \n",
       "2     12.76      3.79         3.29            82         8.3        E   \n",
       "3     10.93      3.28         2.95            80         8.0        E   \n",
       "4      8.89     10.22         1.00            -1        -1.0  unknown   \n",
       "\n",
       "   total_sales  \n",
       "0        82.54  \n",
       "1        40.24  \n",
       "2        35.52  \n",
       "3        32.77  \n",
       "4        31.38  "
      ]
     },
     "metadata": {},
     "output_type": "display_data"
    }
   ],
   "source": [
    "# Создадим столбец 'total_sales' с суммарными продажами по всем регионам (миллионы проданных копий)\n",
    "#games['total_sales'] = games['na_sales'] + games['eu_sales'] + games['jp_sales'] + games['other_sales']\n",
    "games['total_sales'] = games[['na_sales', 'eu_sales', 'jp_sales', 'other_sales']].sum(axis=1)\n",
    "\n",
    "# Выведем на экран первые пять строк датафрейма, чтобы проверить, что все получилось\n",
    "display(games.head())"
   ]
  },
  {
   "cell_type": "markdown",
   "metadata": {},
   "source": [
    "<div class=\"alert alert-block alert-warning\">\n",
    " \n",
    "### Комментарий ревьюера\n",
    "    \n",
    "#### Совет\n",
    "    \n",
    "Для суммирования лучше использовать `df['x'] = df[['a', 'b', 'c']].sum(axis=1)`"
   ]
  },
  {
   "cell_type": "markdown",
   "metadata": {},
   "source": [
    "<div class=\"alert alert-info\"> <b>Комментарий студента:</b> \n",
    "\n",
    "Класс! Прошлый код закомментировала, новую строку добавила в ту же ячейку ниже.\n",
    "\n",
    "</div>"
   ]
  },
  {
   "cell_type": "markdown",
   "metadata": {},
   "source": [
    "<div class=\"alert alert-block alert-danger\">\n",
    " \n",
    "### Комментарий ревьюера\n",
    "    \n",
    "#### Ошибка\n",
    "    \n",
    "Все хорошо, но давай тут добавим промежуточный вывод по итогу знакомства с данными. "
   ]
  },
  {
   "cell_type": "markdown",
   "metadata": {},
   "source": [
    "<div class=\"alert alert-info\"> <b>Комментарий студента:</b> \n",
    "\n",
    "Поняла! Написала вывод ниже\n",
    "    \n",
    "</div>"
   ]
  },
  {
   "cell_type": "markdown",
   "metadata": {},
   "source": [
    "<div class=\"alert alert-block alert-success\">\n",
    " \n",
    "# Комментарий ревьюера ver.2 \n",
    "    \n",
    "#### Успех\n",
    "    \n",
    "А теперь хорошо вшыло"
   ]
  },
  {
   "cell_type": "markdown",
   "metadata": {},
   "source": [
    "В результате предобработки данных столбцы переименованы в соответствии с принятыми правилами названия, заполнены пропуски и исключены строки с пропусками в критически важных столбцах `name` и `genre`. Явных дубликатов найдено не было, однако обработаны неявные. Далее изменены типы данных: для столбцов `year_of_release` и `critic_score` заменили на целочисленный, а для столбца `user_score` с текстового на числовой. \n",
    "\n",
    "Для дальнейшей работы с датасетом создан столбец с общим количеством проданных копий игр, в млн. шт."
   ]
  },
  {
   "cell_type": "markdown",
   "metadata": {},
   "source": [
    "## Исследовательский анализ данных"
   ]
  },
  {
   "cell_type": "markdown",
   "metadata": {},
   "source": [
    "### Количество выпускаемых игр по годам"
   ]
  },
  {
   "cell_type": "code",
   "execution_count": 16,
   "metadata": {},
   "outputs": [
    {
     "data": {
      "text/plain": [
       " 2008    1427\n",
       " 2009    1426\n",
       " 2010    1255\n",
       " 2007    1197\n",
       " 2011    1136\n",
       " 2006    1006\n",
       " 2005     939\n",
       " 2002     829\n",
       " 2003     775\n",
       " 2004     762\n",
       " 2012     652\n",
       " 2015     606\n",
       " 2014     581\n",
       " 2013     544\n",
       " 2016     502\n",
       " 2001     482\n",
       " 1998     379\n",
       " 2000     350\n",
       " 1999     338\n",
       " 1997     289\n",
       "-1        269\n",
       " 1996     263\n",
       " 1995     219\n",
       " 1994     121\n",
       " 1993      60\n",
       " 1981      46\n",
       " 1992      43\n",
       " 1991      41\n",
       " 1982      36\n",
       " 1986      21\n",
       " 1989      17\n",
       " 1983      17\n",
       " 1990      16\n",
       " 1987      16\n",
       " 1988      15\n",
       " 1985      14\n",
       " 1984      14\n",
       " 1980       9\n",
       "Name: year_of_release, dtype: int64"
      ]
     },
     "metadata": {},
     "output_type": "display_data"
    },
    {
     "data": {
      "image/png": "[encoded data removed]",
      "text/plain": [
       "<Figure size 576x360 with 1 Axes>"
      ]
     },
     "metadata": {
      "needs_background": "light"
     },
     "output_type": "display_data"
    }
   ],
   "source": [
    "# Выведем на экран все уникальные значения годов с количеством встречаемости в датафрейме, отсортированные по убыванию\n",
    "display(games['year_of_release'].value_counts())\n",
    "\n",
    "# Построем график\n",
    "games.query('year_of_release > 0')['year_of_release'].value_counts().sort_index(ascending=True).plot(\n",
    "    x='year_of_release', \n",
    "    kind='bar', \n",
    "    title='Количество выпускаемых игр по годам', \n",
    "    xlabel='Год', \n",
    "    ylabel='Количество игр', \n",
    "    figsize=(8, 5), \n",
    "    grid=True, \n",
    "    ec='black'\n",
    ");\n",
    "plt.show()"
   ]
  },
  {
   "cell_type": "markdown",
   "metadata": {},
   "source": [
    "<div class=\"alert alert-block alert-warning\">\n",
    " \n",
    "### Комментарий ревьюера\n",
    "    \n",
    "#### Совет\n",
    "    \n",
    "А тут ты можешь ограничить вывод выбросов на графике и смотреть на чистые данные. В остальном визуализация отличная получилась. "
   ]
  },
  {
   "cell_type": "markdown",
   "metadata": {},
   "source": [
    "<div class=\"alert alert-info\"> <b>Комментарий студента:</b> \n",
    "\n",
    "Поняла, убрала с визуализации.\n",
    "    \n",
    "</div>"
   ]
  },
  {
   "cell_type": "markdown",
   "metadata": {},
   "source": [
    "Видна общая тенденция на рост количества выпускаемых игр со временем. Однако пик (было выпущено наибольшее количество игр) пришелся на 2008-2009 года. Резкий спад произошел в 2012 году.  "
   ]
  },
  {
   "cell_type": "markdown",
   "metadata": {},
   "source": [
    "### Суммарное количество продаж по платформам"
   ]
  },
  {
   "cell_type": "markdown",
   "metadata": {},
   "source": [
    "Посмотрим, как менялись суммарные продажи по платформам"
   ]
  },
  {
   "cell_type": "code",
   "execution_count": 17,
   "metadata": {},
   "outputs": [
    {
     "data": {
      "image/png": "[encoded data removed]",
      "text/plain": [
       "<Figure size 576x360 with 1 Axes>"
      ]
     },
     "metadata": {
      "needs_background": "light"
     },
     "output_type": "display_data"
    },
    {
     "data": {
      "text/html": [
       "<div>\n",
       "<style scoped>\n",
       "    .dataframe tbody tr th:only-of-type {\n",
       "        vertical-align: middle;\n",
       "    }\n",
       "\n",
       "    .dataframe tbody tr th {\n",
       "        vertical-align: top;\n",
       "    }\n",
       "\n",
       "    .dataframe thead th {\n",
       "        text-align: right;\n",
       "    }\n",
       "</style>\n",
       "<table border=\"1\" class=\"dataframe\">\n",
       "  <thead>\n",
       "    <tr style=\"text-align: right;\">\n",
       "      <th></th>\n",
       "      <th>platform</th>\n",
       "      <th>total_sales</th>\n",
       "    </tr>\n",
       "  </thead>\n",
       "  <tbody>\n",
       "    <tr>\n",
       "      <th>0</th>\n",
       "      <td>PS2</td>\n",
       "      <td>1255.77</td>\n",
       "    </tr>\n",
       "    <tr>\n",
       "      <th>1</th>\n",
       "      <td>X360</td>\n",
       "      <td>971.42</td>\n",
       "    </tr>\n",
       "    <tr>\n",
       "      <th>2</th>\n",
       "      <td>PS3</td>\n",
       "      <td>939.64</td>\n",
       "    </tr>\n",
       "    <tr>\n",
       "      <th>3</th>\n",
       "      <td>Wii</td>\n",
       "      <td>907.51</td>\n",
       "    </tr>\n",
       "    <tr>\n",
       "      <th>4</th>\n",
       "      <td>DS</td>\n",
       "      <td>806.12</td>\n",
       "    </tr>\n",
       "    <tr>\n",
       "      <th>5</th>\n",
       "      <td>PS</td>\n",
       "      <td>730.86</td>\n",
       "    </tr>\n",
       "  </tbody>\n",
       "</table>\n",
       "</div>"
      ],
      "text/plain": [
       "  platform  total_sales\n",
       "0      PS2      1255.77\n",
       "1     X360       971.42\n",
       "2      PS3       939.64\n",
       "3      Wii       907.51\n",
       "4       DS       806.12\n",
       "5       PS       730.86"
      ]
     },
     "metadata": {},
     "output_type": "display_data"
    }
   ],
   "source": [
    "# Создадим сводную таблицу по платформам, где для каждой платформы просуммируем продажи за все время\n",
    "platforms_by_total_sales = games.pivot_table(index = 'platform', values = 'total_sales', aggfunc='sum').sort_values(by=['total_sales'], ascending=False).reset_index()\n",
    "\n",
    "# Построим график с суммарными продажами по всем платформам\n",
    "platforms_by_total_sales.plot(\n",
    "    x='platform',\n",
    "    kind='bar', \n",
    "    title='Суммарные продажи по платформам', \n",
    "    xlabel='Платформа', \n",
    "    ylabel='Продажи, млн. копий', \n",
    "    figsize=(8, 5), \n",
    "    grid=True, \n",
    "    ec='black'\n",
    ");\n",
    "plt.show()\n",
    "\n",
    "# Выведем на экран топ-6 платформ, лидирующих по продажам\n",
    "display(platforms_by_total_sales.head(6))"
   ]
  },
  {
   "cell_type": "markdown",
   "metadata": {},
   "source": [
    "<div class=\"alert alert-block alert-success\">\n",
    " \n",
    "### Комментарий ревьюера\n",
    "    \n",
    "#### Успех\n",
    "    \n",
    "Рейтинг по суммарным продажам получен"
   ]
  },
  {
   "cell_type": "markdown",
   "metadata": {},
   "source": [
    "Платформы, с наиболее высокими количествами продаж копий игр: PS2, X360, PS3, Wii, DS, PS. Для каждой из этих платформ построим графики количества продаж по годам."
   ]
  },
  {
   "cell_type": "code",
   "execution_count": 18,
   "metadata": {
    "scrolled": false
   },
   "outputs": [
    {
     "data": {
      "text/html": [
       "<div>\n",
       "<style scoped>\n",
       "    .dataframe tbody tr th:only-of-type {\n",
       "        vertical-align: middle;\n",
       "    }\n",
       "\n",
       "    .dataframe tbody tr th {\n",
       "        vertical-align: top;\n",
       "    }\n",
       "\n",
       "    .dataframe thead th {\n",
       "        text-align: right;\n",
       "    }\n",
       "</style>\n",
       "<table border=\"1\" class=\"dataframe\">\n",
       "  <thead>\n",
       "    <tr style=\"text-align: right;\">\n",
       "      <th>platform</th>\n",
       "      <th>PS2</th>\n",
       "      <th>X360</th>\n",
       "      <th>PS3</th>\n",
       "      <th>Wii</th>\n",
       "      <th>DS</th>\n",
       "      <th>PS</th>\n",
       "    </tr>\n",
       "    <tr>\n",
       "      <th>year_of_release</th>\n",
       "      <th></th>\n",
       "      <th></th>\n",
       "      <th></th>\n",
       "      <th></th>\n",
       "      <th></th>\n",
       "      <th></th>\n",
       "    </tr>\n",
       "  </thead>\n",
       "  <tbody>\n",
       "    <tr>\n",
       "      <th>1980</th>\n",
       "      <td>0.00</td>\n",
       "      <td>0.00</td>\n",
       "      <td>0.00</td>\n",
       "      <td>0.00</td>\n",
       "      <td>0.00</td>\n",
       "      <td>0.00</td>\n",
       "    </tr>\n",
       "    <tr>\n",
       "      <th>1981</th>\n",
       "      <td>0.00</td>\n",
       "      <td>0.00</td>\n",
       "      <td>0.00</td>\n",
       "      <td>0.00</td>\n",
       "      <td>0.00</td>\n",
       "      <td>0.00</td>\n",
       "    </tr>\n",
       "    <tr>\n",
       "      <th>1982</th>\n",
       "      <td>0.00</td>\n",
       "      <td>0.00</td>\n",
       "      <td>0.00</td>\n",
       "      <td>0.00</td>\n",
       "      <td>0.00</td>\n",
       "      <td>0.00</td>\n",
       "    </tr>\n",
       "    <tr>\n",
       "      <th>1983</th>\n",
       "      <td>0.00</td>\n",
       "      <td>0.00</td>\n",
       "      <td>0.00</td>\n",
       "      <td>0.00</td>\n",
       "      <td>0.00</td>\n",
       "      <td>0.00</td>\n",
       "    </tr>\n",
       "    <tr>\n",
       "      <th>1984</th>\n",
       "      <td>0.00</td>\n",
       "      <td>0.00</td>\n",
       "      <td>0.00</td>\n",
       "      <td>0.00</td>\n",
       "      <td>0.00</td>\n",
       "      <td>0.00</td>\n",
       "    </tr>\n",
       "    <tr>\n",
       "      <th>1985</th>\n",
       "      <td>0.00</td>\n",
       "      <td>0.00</td>\n",
       "      <td>0.00</td>\n",
       "      <td>0.00</td>\n",
       "      <td>0.02</td>\n",
       "      <td>0.00</td>\n",
       "    </tr>\n",
       "    <tr>\n",
       "      <th>1986</th>\n",
       "      <td>0.00</td>\n",
       "      <td>0.00</td>\n",
       "      <td>0.00</td>\n",
       "      <td>0.00</td>\n",
       "      <td>0.00</td>\n",
       "      <td>0.00</td>\n",
       "    </tr>\n",
       "    <tr>\n",
       "      <th>1987</th>\n",
       "      <td>0.00</td>\n",
       "      <td>0.00</td>\n",
       "      <td>0.00</td>\n",
       "      <td>0.00</td>\n",
       "      <td>0.00</td>\n",
       "      <td>0.00</td>\n",
       "    </tr>\n",
       "    <tr>\n",
       "      <th>1988</th>\n",
       "      <td>0.00</td>\n",
       "      <td>0.00</td>\n",
       "      <td>0.00</td>\n",
       "      <td>0.00</td>\n",
       "      <td>0.00</td>\n",
       "      <td>0.00</td>\n",
       "    </tr>\n",
       "    <tr>\n",
       "      <th>1989</th>\n",
       "      <td>0.00</td>\n",
       "      <td>0.00</td>\n",
       "      <td>0.00</td>\n",
       "      <td>0.00</td>\n",
       "      <td>0.00</td>\n",
       "      <td>0.00</td>\n",
       "    </tr>\n",
       "    <tr>\n",
       "      <th>1990</th>\n",
       "      <td>0.00</td>\n",
       "      <td>0.00</td>\n",
       "      <td>0.00</td>\n",
       "      <td>0.00</td>\n",
       "      <td>0.00</td>\n",
       "      <td>0.00</td>\n",
       "    </tr>\n",
       "    <tr>\n",
       "      <th>1991</th>\n",
       "      <td>0.00</td>\n",
       "      <td>0.00</td>\n",
       "      <td>0.00</td>\n",
       "      <td>0.00</td>\n",
       "      <td>0.00</td>\n",
       "      <td>0.00</td>\n",
       "    </tr>\n",
       "    <tr>\n",
       "      <th>1992</th>\n",
       "      <td>0.00</td>\n",
       "      <td>0.00</td>\n",
       "      <td>0.00</td>\n",
       "      <td>0.00</td>\n",
       "      <td>0.00</td>\n",
       "      <td>0.00</td>\n",
       "    </tr>\n",
       "    <tr>\n",
       "      <th>1993</th>\n",
       "      <td>0.00</td>\n",
       "      <td>0.00</td>\n",
       "      <td>0.00</td>\n",
       "      <td>0.00</td>\n",
       "      <td>0.00</td>\n",
       "      <td>0.00</td>\n",
       "    </tr>\n",
       "    <tr>\n",
       "      <th>1994</th>\n",
       "      <td>0.00</td>\n",
       "      <td>0.00</td>\n",
       "      <td>0.00</td>\n",
       "      <td>0.00</td>\n",
       "      <td>0.00</td>\n",
       "      <td>6.03</td>\n",
       "    </tr>\n",
       "    <tr>\n",
       "      <th>1995</th>\n",
       "      <td>0.00</td>\n",
       "      <td>0.00</td>\n",
       "      <td>0.00</td>\n",
       "      <td>0.00</td>\n",
       "      <td>0.00</td>\n",
       "      <td>35.96</td>\n",
       "    </tr>\n",
       "    <tr>\n",
       "      <th>1996</th>\n",
       "      <td>0.00</td>\n",
       "      <td>0.00</td>\n",
       "      <td>0.00</td>\n",
       "      <td>0.00</td>\n",
       "      <td>0.00</td>\n",
       "      <td>94.70</td>\n",
       "    </tr>\n",
       "    <tr>\n",
       "      <th>1997</th>\n",
       "      <td>0.00</td>\n",
       "      <td>0.00</td>\n",
       "      <td>0.00</td>\n",
       "      <td>0.00</td>\n",
       "      <td>0.00</td>\n",
       "      <td>136.17</td>\n",
       "    </tr>\n",
       "    <tr>\n",
       "      <th>1998</th>\n",
       "      <td>0.00</td>\n",
       "      <td>0.00</td>\n",
       "      <td>0.00</td>\n",
       "      <td>0.00</td>\n",
       "      <td>0.00</td>\n",
       "      <td>169.49</td>\n",
       "    </tr>\n",
       "    <tr>\n",
       "      <th>1999</th>\n",
       "      <td>0.00</td>\n",
       "      <td>0.00</td>\n",
       "      <td>0.00</td>\n",
       "      <td>0.00</td>\n",
       "      <td>0.00</td>\n",
       "      <td>144.53</td>\n",
       "    </tr>\n",
       "    <tr>\n",
       "      <th>2000</th>\n",
       "      <td>39.17</td>\n",
       "      <td>0.00</td>\n",
       "      <td>0.00</td>\n",
       "      <td>0.00</td>\n",
       "      <td>0.00</td>\n",
       "      <td>96.37</td>\n",
       "    </tr>\n",
       "    <tr>\n",
       "      <th>2001</th>\n",
       "      <td>166.43</td>\n",
       "      <td>0.00</td>\n",
       "      <td>0.00</td>\n",
       "      <td>0.00</td>\n",
       "      <td>0.00</td>\n",
       "      <td>35.59</td>\n",
       "    </tr>\n",
       "    <tr>\n",
       "      <th>2002</th>\n",
       "      <td>205.38</td>\n",
       "      <td>0.00</td>\n",
       "      <td>0.00</td>\n",
       "      <td>0.00</td>\n",
       "      <td>0.00</td>\n",
       "      <td>6.67</td>\n",
       "    </tr>\n",
       "    <tr>\n",
       "      <th>2003</th>\n",
       "      <td>184.31</td>\n",
       "      <td>0.00</td>\n",
       "      <td>0.00</td>\n",
       "      <td>0.00</td>\n",
       "      <td>0.00</td>\n",
       "      <td>2.07</td>\n",
       "    </tr>\n",
       "    <tr>\n",
       "      <th>2004</th>\n",
       "      <td>211.81</td>\n",
       "      <td>0.00</td>\n",
       "      <td>0.00</td>\n",
       "      <td>0.00</td>\n",
       "      <td>17.27</td>\n",
       "      <td>0.00</td>\n",
       "    </tr>\n",
       "    <tr>\n",
       "      <th>2005</th>\n",
       "      <td>160.66</td>\n",
       "      <td>8.25</td>\n",
       "      <td>0.00</td>\n",
       "      <td>0.00</td>\n",
       "      <td>130.14</td>\n",
       "      <td>0.00</td>\n",
       "    </tr>\n",
       "    <tr>\n",
       "      <th>2006</th>\n",
       "      <td>103.42</td>\n",
       "      <td>51.62</td>\n",
       "      <td>20.96</td>\n",
       "      <td>137.15</td>\n",
       "      <td>119.81</td>\n",
       "      <td>0.00</td>\n",
       "    </tr>\n",
       "    <tr>\n",
       "      <th>2007</th>\n",
       "      <td>75.99</td>\n",
       "      <td>95.41</td>\n",
       "      <td>73.19</td>\n",
       "      <td>152.77</td>\n",
       "      <td>146.94</td>\n",
       "      <td>0.00</td>\n",
       "    </tr>\n",
       "    <tr>\n",
       "      <th>2008</th>\n",
       "      <td>53.90</td>\n",
       "      <td>135.26</td>\n",
       "      <td>118.52</td>\n",
       "      <td>171.32</td>\n",
       "      <td>145.31</td>\n",
       "      <td>0.00</td>\n",
       "    </tr>\n",
       "    <tr>\n",
       "      <th>2009</th>\n",
       "      <td>26.40</td>\n",
       "      <td>120.29</td>\n",
       "      <td>130.93</td>\n",
       "      <td>206.97</td>\n",
       "      <td>119.54</td>\n",
       "      <td>0.00</td>\n",
       "    </tr>\n",
       "    <tr>\n",
       "      <th>2010</th>\n",
       "      <td>5.64</td>\n",
       "      <td>170.03</td>\n",
       "      <td>142.17</td>\n",
       "      <td>127.95</td>\n",
       "      <td>85.02</td>\n",
       "      <td>0.00</td>\n",
       "    </tr>\n",
       "    <tr>\n",
       "      <th>2011</th>\n",
       "      <td>0.45</td>\n",
       "      <td>143.84</td>\n",
       "      <td>156.78</td>\n",
       "      <td>59.65</td>\n",
       "      <td>26.18</td>\n",
       "      <td>0.00</td>\n",
       "    </tr>\n",
       "    <tr>\n",
       "      <th>2012</th>\n",
       "      <td>0.00</td>\n",
       "      <td>99.74</td>\n",
       "      <td>107.35</td>\n",
       "      <td>21.71</td>\n",
       "      <td>11.01</td>\n",
       "      <td>0.00</td>\n",
       "    </tr>\n",
       "    <tr>\n",
       "      <th>2013</th>\n",
       "      <td>0.00</td>\n",
       "      <td>88.58</td>\n",
       "      <td>113.25</td>\n",
       "      <td>8.59</td>\n",
       "      <td>1.54</td>\n",
       "      <td>0.00</td>\n",
       "    </tr>\n",
       "    <tr>\n",
       "      <th>2014</th>\n",
       "      <td>0.00</td>\n",
       "      <td>34.74</td>\n",
       "      <td>47.76</td>\n",
       "      <td>3.75</td>\n",
       "      <td>0.00</td>\n",
       "      <td>0.00</td>\n",
       "    </tr>\n",
       "    <tr>\n",
       "      <th>2015</th>\n",
       "      <td>0.00</td>\n",
       "      <td>11.96</td>\n",
       "      <td>16.82</td>\n",
       "      <td>1.14</td>\n",
       "      <td>0.00</td>\n",
       "      <td>0.00</td>\n",
       "    </tr>\n",
       "    <tr>\n",
       "      <th>2016</th>\n",
       "      <td>0.00</td>\n",
       "      <td>1.52</td>\n",
       "      <td>3.60</td>\n",
       "      <td>0.18</td>\n",
       "      <td>0.00</td>\n",
       "      <td>0.00</td>\n",
       "    </tr>\n",
       "  </tbody>\n",
       "</table>\n",
       "</div>"
      ],
      "text/plain": [
       "platform            PS2    X360     PS3     Wii      DS      PS\n",
       "year_of_release                                                \n",
       "1980               0.00    0.00    0.00    0.00    0.00    0.00\n",
       "1981               0.00    0.00    0.00    0.00    0.00    0.00\n",
       "1982               0.00    0.00    0.00    0.00    0.00    0.00\n",
       "1983               0.00    0.00    0.00    0.00    0.00    0.00\n",
       "1984               0.00    0.00    0.00    0.00    0.00    0.00\n",
       "1985               0.00    0.00    0.00    0.00    0.02    0.00\n",
       "1986               0.00    0.00    0.00    0.00    0.00    0.00\n",
       "1987               0.00    0.00    0.00    0.00    0.00    0.00\n",
       "1988               0.00    0.00    0.00    0.00    0.00    0.00\n",
       "1989               0.00    0.00    0.00    0.00    0.00    0.00\n",
       "1990               0.00    0.00    0.00    0.00    0.00    0.00\n",
       "1991               0.00    0.00    0.00    0.00    0.00    0.00\n",
       "1992               0.00    0.00    0.00    0.00    0.00    0.00\n",
       "1993               0.00    0.00    0.00    0.00    0.00    0.00\n",
       "1994               0.00    0.00    0.00    0.00    0.00    6.03\n",
       "1995               0.00    0.00    0.00    0.00    0.00   35.96\n",
       "1996               0.00    0.00    0.00    0.00    0.00   94.70\n",
       "1997               0.00    0.00    0.00    0.00    0.00  136.17\n",
       "1998               0.00    0.00    0.00    0.00    0.00  169.49\n",
       "1999               0.00    0.00    0.00    0.00    0.00  144.53\n",
       "2000              39.17    0.00    0.00    0.00    0.00   96.37\n",
       "2001             166.43    0.00    0.00    0.00    0.00   35.59\n",
       "2002             205.38    0.00    0.00    0.00    0.00    6.67\n",
       "2003             184.31    0.00    0.00    0.00    0.00    2.07\n",
       "2004             211.81    0.00    0.00    0.00   17.27    0.00\n",
       "2005             160.66    8.25    0.00    0.00  130.14    0.00\n",
       "2006             103.42   51.62   20.96  137.15  119.81    0.00\n",
       "2007              75.99   95.41   73.19  152.77  146.94    0.00\n",
       "2008              53.90  135.26  118.52  171.32  145.31    0.00\n",
       "2009              26.40  120.29  130.93  206.97  119.54    0.00\n",
       "2010               5.64  170.03  142.17  127.95   85.02    0.00\n",
       "2011               0.45  143.84  156.78   59.65   26.18    0.00\n",
       "2012               0.00   99.74  107.35   21.71   11.01    0.00\n",
       "2013               0.00   88.58  113.25    8.59    1.54    0.00\n",
       "2014               0.00   34.74   47.76    3.75    0.00    0.00\n",
       "2015               0.00   11.96   16.82    1.14    0.00    0.00\n",
       "2016               0.00    1.52    3.60    0.18    0.00    0.00"
      ]
     },
     "metadata": {},
     "output_type": "display_data"
    },
    {
     "data": {
      "image/png": "[encoded data removed]",
      "text/plain": [
       "<Figure size 1440x432 with 1 Axes>"
      ]
     },
     "metadata": {
      "needs_background": "light"
     },
     "output_type": "display_data"
    }
   ],
   "source": [
    "# Создадим сводную таблицу по платформам, где для каждой платформы просуммируем продажи в разрезе по годам\n",
    "platforms_sales_by_year = games.pivot_table(index='year_of_release', columns='platform', values='total_sales', aggfunc='sum', fill_value=0)                                                               \n",
    "\n",
    "# Перезапишим датафрейм (удалим строку) без пропущенных значений в столбце 'year_of_release'\n",
    "platforms_sales_by_year = platforms_sales_by_year.query('year_of_release != [-1]')\n",
    "\n",
    "# Найдем продажи по годам для топ-6 платформ, найденых ранее\n",
    "top_platforms_sales_by_year = platforms_sales_by_year[['PS2', 'X360','PS3','Wii', 'DS', 'PS']]\n",
    "\n",
    "# Выведем на экран полученную таблицу\n",
    "display(top_platforms_sales_by_year)\n",
    "\n",
    "# Построим график продаж по годам для топ-6 платформ \n",
    "top_platforms_sales_by_year.plot(\n",
    "    xticks=platforms_sales_by_year.index,\n",
    "    title='Продажи ТОП-6 платформ по годам', \n",
    "    xlabel='Год', \n",
    "    ylabel='Продажи, млн. копий', \n",
    "    figsize=(20, 6), \n",
    "    grid=True\n",
    ");\n",
    "plt.xticks(rotation = 60)\n",
    "plt.xlim(1993, 2016)\n",
    "plt.show()"
   ]
  },
  {
   "cell_type": "markdown",
   "metadata": {},
   "source": [
    "<div class=\"alert alert-block alert-danger\">\n",
    " \n",
    "### Комментарий ревьюера\n",
    "    \n",
    "#### Ошибка\n",
    "    \n",
    "А тут давай оставим вывод графика только с начала 90-х годов. "
   ]
  },
  {
   "cell_type": "markdown",
   "metadata": {},
   "source": [
    "<div class=\"alert alert-info\"> <b>Комментарий студента:</b> \n",
    "\n",
    "Спасибо! Установила xlim с 1993 года.\n",
    "    \n",
    "</div>"
   ]
  },
  {
   "cell_type": "markdown",
   "metadata": {},
   "source": [
    "<div class=\"alert alert-block alert-success\">\n",
    " \n",
    "# Комментарий ревьюера ver.2 \n",
    "    \n",
    "#### Успех\n",
    "    \n",
    "Теперь мы больше не смотрим на лишние данные "
   ]
  },
  {
   "cell_type": "markdown",
   "metadata": {},
   "source": [
    "Исходя из графика, видим, что в период с 1995 по 2001 на рынке преобладала платформа PS, позже ее сместила платформа PS2. С 2005 начали появляться DS, Wii, X360 и PS3, которые окончательно заместиили предыдущие две.\n",
    "\n",
    "Средняя продолжительность жизненного цикла платформы с момента ее появления до закрытия - 9-10 лет. Пик популярности обычно приходит на 5-й год."
   ]
  },
  {
   "cell_type": "markdown",
   "metadata": {},
   "source": [
    "### Анализ продаж по платформам за актуальный период"
   ]
  },
  {
   "cell_type": "markdown",
   "metadata": {},
   "source": [
    "Для прогноза на 2017 год возьмем период с 2013 по 2016, т.к. рынок быстроменяющийся. Так мы увидим и компании, которые теряют свою актуальность, и компании на пике, и компании, которые только в начале пути."
   ]
  },
  {
   "cell_type": "code",
   "execution_count": 19,
   "metadata": {
    "scrolled": false
   },
   "outputs": [
    {
     "data": {
      "text/html": [
       "<div>\n",
       "<style scoped>\n",
       "    .dataframe tbody tr th:only-of-type {\n",
       "        vertical-align: middle;\n",
       "    }\n",
       "\n",
       "    .dataframe tbody tr th {\n",
       "        vertical-align: top;\n",
       "    }\n",
       "\n",
       "    .dataframe thead th {\n",
       "        text-align: right;\n",
       "    }\n",
       "</style>\n",
       "<table border=\"1\" class=\"dataframe\">\n",
       "  <thead>\n",
       "    <tr style=\"text-align: right;\">\n",
       "      <th>platform</th>\n",
       "      <th>3DS</th>\n",
       "      <th>DS</th>\n",
       "      <th>PC</th>\n",
       "      <th>PS3</th>\n",
       "      <th>PS4</th>\n",
       "      <th>PSP</th>\n",
       "      <th>PSV</th>\n",
       "      <th>Wii</th>\n",
       "      <th>WiiU</th>\n",
       "      <th>X360</th>\n",
       "      <th>XOne</th>\n",
       "    </tr>\n",
       "    <tr>\n",
       "      <th>year_of_release</th>\n",
       "      <th></th>\n",
       "      <th></th>\n",
       "      <th></th>\n",
       "      <th></th>\n",
       "      <th></th>\n",
       "      <th></th>\n",
       "      <th></th>\n",
       "      <th></th>\n",
       "      <th></th>\n",
       "      <th></th>\n",
       "      <th></th>\n",
       "    </tr>\n",
       "  </thead>\n",
       "  <tbody>\n",
       "    <tr>\n",
       "      <th>2013</th>\n",
       "      <td>56.57</td>\n",
       "      <td>1.54</td>\n",
       "      <td>12.38</td>\n",
       "      <td>113.25</td>\n",
       "      <td>25.99</td>\n",
       "      <td>3.14</td>\n",
       "      <td>10.59</td>\n",
       "      <td>8.59</td>\n",
       "      <td>21.65</td>\n",
       "      <td>88.58</td>\n",
       "      <td>18.96</td>\n",
       "    </tr>\n",
       "    <tr>\n",
       "      <th>2014</th>\n",
       "      <td>43.76</td>\n",
       "      <td>0.00</td>\n",
       "      <td>13.28</td>\n",
       "      <td>47.76</td>\n",
       "      <td>100.00</td>\n",
       "      <td>0.24</td>\n",
       "      <td>11.90</td>\n",
       "      <td>3.75</td>\n",
       "      <td>22.03</td>\n",
       "      <td>34.74</td>\n",
       "      <td>54.07</td>\n",
       "    </tr>\n",
       "    <tr>\n",
       "      <th>2015</th>\n",
       "      <td>27.78</td>\n",
       "      <td>0.00</td>\n",
       "      <td>8.52</td>\n",
       "      <td>16.82</td>\n",
       "      <td>118.90</td>\n",
       "      <td>0.12</td>\n",
       "      <td>6.25</td>\n",
       "      <td>1.14</td>\n",
       "      <td>16.35</td>\n",
       "      <td>11.96</td>\n",
       "      <td>60.14</td>\n",
       "    </tr>\n",
       "    <tr>\n",
       "      <th>2016</th>\n",
       "      <td>15.14</td>\n",
       "      <td>0.00</td>\n",
       "      <td>5.25</td>\n",
       "      <td>3.60</td>\n",
       "      <td>69.25</td>\n",
       "      <td>0.00</td>\n",
       "      <td>4.25</td>\n",
       "      <td>0.18</td>\n",
       "      <td>4.60</td>\n",
       "      <td>1.52</td>\n",
       "      <td>26.15</td>\n",
       "    </tr>\n",
       "  </tbody>\n",
       "</table>\n",
       "</div>"
      ],
      "text/plain": [
       "platform           3DS    DS     PC     PS3     PS4   PSP    PSV   Wii   WiiU  \\\n",
       "year_of_release                                                                 \n",
       "2013             56.57  1.54  12.38  113.25   25.99  3.14  10.59  8.59  21.65   \n",
       "2014             43.76  0.00  13.28   47.76  100.00  0.24  11.90  3.75  22.03   \n",
       "2015             27.78  0.00   8.52   16.82  118.90  0.12   6.25  1.14  16.35   \n",
       "2016             15.14  0.00   5.25    3.60   69.25  0.00   4.25  0.18   4.60   \n",
       "\n",
       "platform          X360   XOne  \n",
       "year_of_release                \n",
       "2013             88.58  18.96  \n",
       "2014             34.74  54.07  \n",
       "2015             11.96  60.14  \n",
       "2016              1.52  26.15  "
      ]
     },
     "metadata": {},
     "output_type": "display_data"
    },
    {
     "data": {
      "image/png": "[encoded data removed]",
      "text/plain": [
       "<Figure size 720x360 with 1 Axes>"
      ]
     },
     "metadata": {
      "needs_background": "light"
     },
     "output_type": "display_data"
    }
   ],
   "source": [
    "# На основе ранее созданного датафрейма 'platforms_sales_by_year' создадим срез с 2007 по 2016 год\n",
    "actual_platforms_sales_by_year = platforms_sales_by_year.query('2013 <= year_of_release <= 2016')\n",
    "\n",
    "# Удалим столбцы с платформами, где нет продаж ни в один год из указанного промежутка\n",
    "actual_platforms_sales_by_year = actual_platforms_sales_by_year.loc[:, (actual_platforms_sales_by_year != 0).any(axis=0)]\n",
    "        \n",
    "# Выведем на экран полученную таблицу\n",
    "display(actual_platforms_sales_by_year)\n",
    "\n",
    "# Построим график продаж для актуального диапазона времени\n",
    "actual_platforms_sales_by_year.plot(\n",
    "    xticks=actual_platforms_sales_by_year.index,\n",
    "    title='Продажи всех платформ с 2013 по 2016 год', \n",
    "    xlabel='Год', \n",
    "    ylabel='Продажи, млн. копий', \n",
    "    figsize=(10, 5), \n",
    "    grid=True\n",
    ");\n",
    "plt.ylim(0, 250)\n",
    "plt.legend(bbox_to_anchor=(1.05, 1), loc='upper left')\n",
    "plt.xticks(rotation = 60)\n",
    "plt.show()"
   ]
  },
  {
   "cell_type": "markdown",
   "metadata": {},
   "source": [
    "<div class=\"alert alert-block alert-danger\">\n",
    " \n",
    "### Комментарий ревьюера\n",
    "    \n",
    "#### Ошибка\n",
    "\n",
    "А тут надо сделать чуть иначе. Все же прогноз в крупных компаниях правильно считать за последние 2-3 года. А у тебя сфера видеоигр где все быстро меняется и легко отловать отжившие тренды."
   ]
  },
  {
   "cell_type": "markdown",
   "metadata": {},
   "source": [
    "<div class=\"alert alert-info\"> <b>Комментарий студента:</b> \n",
    "\n",
    "Хорошо, замечание поняла. Изменила график, теперь с 2013 года.\n",
    "    \n",
    "</div>"
   ]
  },
  {
   "cell_type": "markdown",
   "metadata": {},
   "source": [
    "<div class=\"alert alert-block alert-success\">\n",
    " \n",
    "# Комментарий ревьюера ver.2 \n",
    "    \n",
    "#### Успех\n",
    "    \n",
    "Теперь наши данные будут приближены к реальности"
   ]
  },
  {
   "cell_type": "markdown",
   "metadata": {},
   "source": [
    "Платформы X360, PSV, WiiU, PS3, PC к 2016 году имеют несущественные продажи и готовятся к полному исчезновению.\n",
    "\n",
    "Платформа 3DS идет на спад. В 2017 году, вероятно, ситуация не изменится и продажи будут только падать.\n",
    "\n",
    "Платформы XOne и PS4 существуют на рынке всего 4 года и лидируют по продажам. Исходя из выявленной тенденции, в 2017 году игры на этих платформах должны достигнуть пика продаж. Несмотря на то, что с 2015 на 2016 мы видим незначительное снижение. На графике виден спад абсолютно всех продаж в 2016 году, но возможно это связано с тем, что за этот период нет полных данных."
   ]
  },
  {
   "cell_type": "markdown",
   "metadata": {},
   "source": [
    "Для актуальных платформ PS4, XOne, 3DS, PC, WiiU построим диаграммы \"Ящик с усами\". Возьмем период с 2013 года, т.к. для многих из этих платформ уже произошел пик, а для остальных это год появления."
   ]
  },
  {
   "cell_type": "code",
   "execution_count": 20,
   "metadata": {},
   "outputs": [
    {
     "data": {
      "text/html": [
       "<div>\n",
       "<style scoped>\n",
       "    .dataframe tbody tr th:only-of-type {\n",
       "        vertical-align: middle;\n",
       "    }\n",
       "\n",
       "    .dataframe tbody tr th {\n",
       "        vertical-align: top;\n",
       "    }\n",
       "\n",
       "    .dataframe thead th {\n",
       "        text-align: right;\n",
       "    }\n",
       "</style>\n",
       "<table border=\"1\" class=\"dataframe\">\n",
       "  <thead>\n",
       "    <tr style=\"text-align: right;\">\n",
       "      <th></th>\n",
       "      <th>name</th>\n",
       "      <th>platform</th>\n",
       "      <th>year_of_release</th>\n",
       "      <th>genre</th>\n",
       "      <th>na_sales</th>\n",
       "      <th>eu_sales</th>\n",
       "      <th>jp_sales</th>\n",
       "      <th>other_sales</th>\n",
       "      <th>critic_score</th>\n",
       "      <th>user_score</th>\n",
       "      <th>rating</th>\n",
       "      <th>total_sales</th>\n",
       "    </tr>\n",
       "  </thead>\n",
       "  <tbody>\n",
       "    <tr>\n",
       "      <th>31</th>\n",
       "      <td>Call of Duty: Black Ops 3</td>\n",
       "      <td>PS4</td>\n",
       "      <td>2015</td>\n",
       "      <td>Shooter</td>\n",
       "      <td>6.03</td>\n",
       "      <td>5.86</td>\n",
       "      <td>0.36</td>\n",
       "      <td>2.38</td>\n",
       "      <td>-1</td>\n",
       "      <td>-1.0</td>\n",
       "      <td>unknown</td>\n",
       "      <td>14.63</td>\n",
       "    </tr>\n",
       "    <tr>\n",
       "      <th>33</th>\n",
       "      <td>Pokemon X/Pokemon Y</td>\n",
       "      <td>3DS</td>\n",
       "      <td>2013</td>\n",
       "      <td>Role-Playing</td>\n",
       "      <td>5.28</td>\n",
       "      <td>4.19</td>\n",
       "      <td>4.35</td>\n",
       "      <td>0.78</td>\n",
       "      <td>-1</td>\n",
       "      <td>-1.0</td>\n",
       "      <td>unknown</td>\n",
       "      <td>14.60</td>\n",
       "    </tr>\n",
       "    <tr>\n",
       "      <th>42</th>\n",
       "      <td>Grand Theft Auto V</td>\n",
       "      <td>PS4</td>\n",
       "      <td>2014</td>\n",
       "      <td>Action</td>\n",
       "      <td>3.96</td>\n",
       "      <td>6.31</td>\n",
       "      <td>0.38</td>\n",
       "      <td>1.97</td>\n",
       "      <td>97</td>\n",
       "      <td>8.3</td>\n",
       "      <td>M</td>\n",
       "      <td>12.62</td>\n",
       "    </tr>\n",
       "    <tr>\n",
       "      <th>47</th>\n",
       "      <td>Pokemon Omega Ruby/Pokemon Alpha Sapphire</td>\n",
       "      <td>3DS</td>\n",
       "      <td>2014</td>\n",
       "      <td>Role-Playing</td>\n",
       "      <td>4.35</td>\n",
       "      <td>3.49</td>\n",
       "      <td>3.10</td>\n",
       "      <td>0.74</td>\n",
       "      <td>-1</td>\n",
       "      <td>-1.0</td>\n",
       "      <td>unknown</td>\n",
       "      <td>11.68</td>\n",
       "    </tr>\n",
       "    <tr>\n",
       "      <th>77</th>\n",
       "      <td>FIFA 16</td>\n",
       "      <td>PS4</td>\n",
       "      <td>2015</td>\n",
       "      <td>Sports</td>\n",
       "      <td>1.12</td>\n",
       "      <td>6.12</td>\n",
       "      <td>0.06</td>\n",
       "      <td>1.28</td>\n",
       "      <td>82</td>\n",
       "      <td>4.3</td>\n",
       "      <td>E</td>\n",
       "      <td>8.58</td>\n",
       "    </tr>\n",
       "  </tbody>\n",
       "</table>\n",
       "</div>"
      ],
      "text/plain": [
       "                                         name platform  year_of_release  \\\n",
       "31                  Call of Duty: Black Ops 3      PS4             2015   \n",
       "33                        Pokemon X/Pokemon Y      3DS             2013   \n",
       "42                         Grand Theft Auto V      PS4             2014   \n",
       "47  Pokemon Omega Ruby/Pokemon Alpha Sapphire      3DS             2014   \n",
       "77                                    FIFA 16      PS4             2015   \n",
       "\n",
       "           genre  na_sales  eu_sales  jp_sales  other_sales  critic_score  \\\n",
       "31       Shooter      6.03      5.86      0.36         2.38            -1   \n",
       "33  Role-Playing      5.28      4.19      4.35         0.78            -1   \n",
       "42        Action      3.96      6.31      0.38         1.97            97   \n",
       "47  Role-Playing      4.35      3.49      3.10         0.74            -1   \n",
       "77        Sports      1.12      6.12      0.06         1.28            82   \n",
       "\n",
       "    user_score   rating  total_sales  \n",
       "31        -1.0  unknown        14.63  \n",
       "33        -1.0  unknown        14.60  \n",
       "42         8.3        M        12.62  \n",
       "47        -1.0  unknown        11.68  \n",
       "77         4.3        E         8.58  "
      ]
     },
     "metadata": {},
     "output_type": "display_data"
    },
    {
     "data": {
      "image/png": "[encoded data removed]",
      "text/plain": [
       "<Figure size 1440x720 with 1 Axes>"
      ]
     },
     "metadata": {
      "needs_background": "light"
     },
     "output_type": "display_data"
    },
    {
     "data": {
      "text/html": [
       "<div>\n",
       "<style scoped>\n",
       "    .dataframe tbody tr th:only-of-type {\n",
       "        vertical-align: middle;\n",
       "    }\n",
       "\n",
       "    .dataframe tbody tr th {\n",
       "        vertical-align: top;\n",
       "    }\n",
       "\n",
       "    .dataframe thead th {\n",
       "        text-align: right;\n",
       "    }\n",
       "</style>\n",
       "<table border=\"1\" class=\"dataframe\">\n",
       "  <thead>\n",
       "    <tr style=\"text-align: right;\">\n",
       "      <th></th>\n",
       "      <th>count</th>\n",
       "      <th>mean</th>\n",
       "      <th>std</th>\n",
       "      <th>min</th>\n",
       "      <th>25%</th>\n",
       "      <th>50%</th>\n",
       "      <th>75%</th>\n",
       "      <th>max</th>\n",
       "    </tr>\n",
       "    <tr>\n",
       "      <th>platform</th>\n",
       "      <th></th>\n",
       "      <th></th>\n",
       "      <th></th>\n",
       "      <th></th>\n",
       "      <th></th>\n",
       "      <th></th>\n",
       "      <th></th>\n",
       "      <th></th>\n",
       "    </tr>\n",
       "  </thead>\n",
       "  <tbody>\n",
       "    <tr>\n",
       "      <th>3DS</th>\n",
       "      <td>303.0</td>\n",
       "      <td>0.472772</td>\n",
       "      <td>1.381347</td>\n",
       "      <td>0.01</td>\n",
       "      <td>0.04</td>\n",
       "      <td>0.09</td>\n",
       "      <td>0.280</td>\n",
       "      <td>14.60</td>\n",
       "    </tr>\n",
       "    <tr>\n",
       "      <th>PC</th>\n",
       "      <td>189.0</td>\n",
       "      <td>0.208624</td>\n",
       "      <td>0.352304</td>\n",
       "      <td>0.01</td>\n",
       "      <td>0.03</td>\n",
       "      <td>0.08</td>\n",
       "      <td>0.230</td>\n",
       "      <td>3.05</td>\n",
       "    </tr>\n",
       "    <tr>\n",
       "      <th>PS4</th>\n",
       "      <td>392.0</td>\n",
       "      <td>0.801378</td>\n",
       "      <td>1.609456</td>\n",
       "      <td>0.01</td>\n",
       "      <td>0.06</td>\n",
       "      <td>0.20</td>\n",
       "      <td>0.730</td>\n",
       "      <td>14.63</td>\n",
       "    </tr>\n",
       "    <tr>\n",
       "      <th>WiiU</th>\n",
       "      <td>115.0</td>\n",
       "      <td>0.562000</td>\n",
       "      <td>1.038778</td>\n",
       "      <td>0.01</td>\n",
       "      <td>0.06</td>\n",
       "      <td>0.20</td>\n",
       "      <td>0.595</td>\n",
       "      <td>7.09</td>\n",
       "    </tr>\n",
       "    <tr>\n",
       "      <th>XOne</th>\n",
       "      <td>247.0</td>\n",
       "      <td>0.645020</td>\n",
       "      <td>1.036139</td>\n",
       "      <td>0.01</td>\n",
       "      <td>0.06</td>\n",
       "      <td>0.22</td>\n",
       "      <td>0.685</td>\n",
       "      <td>7.39</td>\n",
       "    </tr>\n",
       "  </tbody>\n",
       "</table>\n",
       "</div>"
      ],
      "text/plain": [
       "          count      mean       std   min   25%   50%    75%    max\n",
       "platform                                                           \n",
       "3DS       303.0  0.472772  1.381347  0.01  0.04  0.09  0.280  14.60\n",
       "PC        189.0  0.208624  0.352304  0.01  0.03  0.08  0.230   3.05\n",
       "PS4       392.0  0.801378  1.609456  0.01  0.06  0.20  0.730  14.63\n",
       "WiiU      115.0  0.562000  1.038778  0.01  0.06  0.20  0.595   7.09\n",
       "XOne      247.0  0.645020  1.036139  0.01  0.06  0.22  0.685   7.39"
      ]
     },
     "metadata": {},
     "output_type": "display_data"
    }
   ],
   "source": [
    "# Создадим срез по году и платформам, необходимым для анализа\n",
    "top_actual_games = games.query('year_of_release >= 2013 & platform in [\"PS4\", \"XOne\", \"3DS\", \"PC\", \"WiiU\"]')\n",
    "\n",
    "# Выведем на экран первые пять строк, чтобы проверить получившийся датафрейм\n",
    "display(top_actual_games.head())\n",
    "\n",
    "# Построим графики «ящик с усами» по глобальным продажам игр для каждой из выбранных платформ\n",
    "top_actual_games.boxplot(\n",
    "    column='total_sales',\n",
    "    by='platform',\n",
    "    figsize=(20, 10), \n",
    "    grid=True\n",
    ");\n",
    "plt.title('«Ящик с усами» по глобальным продажам игр для ТОП-5 платформ')\n",
    "plt.xlabel('Платформа')\n",
    "plt.ylabel('Продажи, млн. копий')\n",
    "plt.show()\n",
    "\n",
    "# В дополнение к графикам выведем статистические данные для каждой из выбранных платформ\n",
    "display(top_actual_games.groupby('platform')['total_sales'].describe())"
   ]
  },
  {
   "cell_type": "markdown",
   "metadata": {},
   "source": [
    "<div class=\"alert alert-block alert-danger\">\n",
    " \n",
    "### Комментарий ревьюера\n",
    "    \n",
    "#### Успех\n",
    "    \n",
    "А вот в этом случае правильно будет оставить штук 5 наиболее перспективных платформ актуального периода. "
   ]
  },
  {
   "cell_type": "markdown",
   "metadata": {},
   "source": [
    "<div class=\"alert alert-info\"> <b>Комментарий студента:</b> \n",
    "\n",
    "Оставила пять самых актуальных платформ. \n",
    "    \n",
    "</div>"
   ]
  },
  {
   "cell_type": "markdown",
   "metadata": {},
   "source": [
    "<div class=\"alert alert-block alert-success\">\n",
    " \n",
    "# Комментарий ревьюера ver.2 \n",
    "    \n",
    "#### Успех\n",
    "    \n",
    "Супер"
   ]
  },
  {
   "cell_type": "markdown",
   "metadata": {},
   "source": [
    "Медианные значения продаж по всем платформам смещены к 0.2 млн копий. Получается, на всех платформах выходит много игр с относительно небольшими продажами. При этом почти у каждой платформы есть значительные выбросы, по 8-10 игр-бестселлеров."
   ]
  },
  {
   "cell_type": "markdown",
   "metadata": {},
   "source": [
    "### Влияние отзывов пользователей и критиков на продажи"
   ]
  },
  {
   "cell_type": "markdown",
   "metadata": {},
   "source": [
    "Для анализа возьмем две наиболее популярные платформы - PS4 и XOne."
   ]
  },
  {
   "cell_type": "code",
   "execution_count": 21,
   "metadata": {},
   "outputs": [
    {
     "data": {
      "text/html": [
       "<div>\n",
       "<style scoped>\n",
       "    .dataframe tbody tr th:only-of-type {\n",
       "        vertical-align: middle;\n",
       "    }\n",
       "\n",
       "    .dataframe tbody tr th {\n",
       "        vertical-align: top;\n",
       "    }\n",
       "\n",
       "    .dataframe thead th {\n",
       "        text-align: right;\n",
       "    }\n",
       "</style>\n",
       "<table border=\"1\" class=\"dataframe\">\n",
       "  <thead>\n",
       "    <tr style=\"text-align: right;\">\n",
       "      <th></th>\n",
       "      <th>name</th>\n",
       "      <th>user_score</th>\n",
       "      <th>critic_score</th>\n",
       "      <th>total_sales</th>\n",
       "    </tr>\n",
       "  </thead>\n",
       "  <tbody>\n",
       "    <tr>\n",
       "      <th>42</th>\n",
       "      <td>Grand Theft Auto V</td>\n",
       "      <td>8.3</td>\n",
       "      <td>97</td>\n",
       "      <td>12.62</td>\n",
       "    </tr>\n",
       "    <tr>\n",
       "      <th>77</th>\n",
       "      <td>FIFA 16</td>\n",
       "      <td>4.3</td>\n",
       "      <td>82</td>\n",
       "      <td>8.58</td>\n",
       "    </tr>\n",
       "    <tr>\n",
       "      <th>92</th>\n",
       "      <td>Call of Duty: Advanced Warfare</td>\n",
       "      <td>5.7</td>\n",
       "      <td>83</td>\n",
       "      <td>7.66</td>\n",
       "    </tr>\n",
       "  </tbody>\n",
       "</table>\n",
       "</div>"
      ],
      "text/plain": [
       "                              name  user_score  critic_score  total_sales\n",
       "42              Grand Theft Auto V         8.3            97        12.62\n",
       "77                         FIFA 16         4.3            82         8.58\n",
       "92  Call of Duty: Advanced Warfare         5.7            83         7.66"
      ]
     },
     "metadata": {},
     "output_type": "display_data"
    },
    {
     "data": {
      "text/html": [
       "<div>\n",
       "<style scoped>\n",
       "    .dataframe tbody tr th:only-of-type {\n",
       "        vertical-align: middle;\n",
       "    }\n",
       "\n",
       "    .dataframe tbody tr th {\n",
       "        vertical-align: top;\n",
       "    }\n",
       "\n",
       "    .dataframe thead th {\n",
       "        text-align: right;\n",
       "    }\n",
       "</style>\n",
       "<table border=\"1\" class=\"dataframe\">\n",
       "  <thead>\n",
       "    <tr style=\"text-align: right;\">\n",
       "      <th></th>\n",
       "      <th>name</th>\n",
       "      <th>user_score</th>\n",
       "      <th>critic_score</th>\n",
       "      <th>total_sales</th>\n",
       "    </tr>\n",
       "  </thead>\n",
       "  <tbody>\n",
       "    <tr>\n",
       "      <th>165</th>\n",
       "      <td>Grand Theft Auto V</td>\n",
       "      <td>7.9</td>\n",
       "      <td>97</td>\n",
       "      <td>5.47</td>\n",
       "    </tr>\n",
       "    <tr>\n",
       "      <th>179</th>\n",
       "      <td>Call of Duty: Advanced Warfare</td>\n",
       "      <td>5.4</td>\n",
       "      <td>81</td>\n",
       "      <td>5.26</td>\n",
       "    </tr>\n",
       "    <tr>\n",
       "      <th>242</th>\n",
       "      <td>Halo 5: Guardians</td>\n",
       "      <td>6.4</td>\n",
       "      <td>84</td>\n",
       "      <td>4.49</td>\n",
       "    </tr>\n",
       "  </tbody>\n",
       "</table>\n",
       "</div>"
      ],
      "text/plain": [
       "                               name  user_score  critic_score  total_sales\n",
       "165              Grand Theft Auto V         7.9            97         5.47\n",
       "179  Call of Duty: Advanced Warfare         5.4            81         5.26\n",
       "242               Halo 5: Guardians         6.4            84         4.49"
      ]
     },
     "metadata": {},
     "output_type": "display_data"
    }
   ],
   "source": [
    "# Создадим срез с играми, оценкой пользователей и критиков и прожажами для платформы PS4 \n",
    "ps4_sales_score = games.query('platform == \"PS4\" and user_score > 0 and critic_score >= 0')\n",
    "ps4_sales_score = ps4_sales_score[['name', 'user_score', 'critic_score', 'total_sales']]\n",
    "\n",
    "# Создадим срез с играми, оценкой пользователей и критиков и прожажами для платформы XOne \n",
    "xone_sales_score = games.query('platform == \"XOne\" and user_score > 0 and critic_score >= 0')\n",
    "xone_sales_score = xone_sales_score[['name', 'user_score', 'critic_score', 'total_sales']]\n",
    "\n",
    "# Выведем на экран первые три строки получившихся таблиц для проверки\n",
    "display(ps4_sales_score.head(3))\n",
    "display(xone_sales_score.head(3))"
   ]
  },
  {
   "cell_type": "markdown",
   "metadata": {},
   "source": [
    "#### Зависимость между оценкой пользователей и продажами"
   ]
  },
  {
   "cell_type": "code",
   "execution_count": 22,
   "metadata": {},
   "outputs": [],
   "source": [
    "# Создадим функцию для построения диаграммы рассеяния и расчета корреляции между оценкой пользователей и продажами\n",
    "def scatter_plot_user_sale(df, name):\n",
    "    df.plot(\n",
    "        kind='scatter',\n",
    "        x='total_sales',\n",
    "        y='user_score',\n",
    "        alpha=0.3\n",
    "    );\n",
    "    plt.title(f'Зависимость между оценкой пользователей и продажами для платформы {name}')\n",
    "    plt.xlabel('Продажи, млн. копий')\n",
    "    plt.ylabel('Оценка пользователей')\n",
    "    plt.show()\n",
    "\n",
    "    print(f'Коэффициент коррелцяии объема продаж и оценки пользователей для платформы {name}: {round((df[\"total_sales\"].corr(df[\"user_score\"])), 2)}')"
   ]
  },
  {
   "cell_type": "code",
   "execution_count": 23,
   "metadata": {},
   "outputs": [
    {
     "data": {
      "image/png": "[encoded data removed]",
      "text/plain": [
       "<Figure size 432x288 with 1 Axes>"
      ]
     },
     "metadata": {
      "needs_background": "light"
     },
     "output_type": "display_data"
    },
    {
     "name": "stdout",
     "output_type": "stream",
     "text": [
      "Коэффициент коррелцяии объема продаж и оценки пользователей для платформы PS4: -0.03\n"
     ]
    },
    {
     "data": {
      "image/png": "[encoded data removed]",
      "text/plain": [
       "<Figure size 432x288 with 1 Axes>"
      ]
     },
     "metadata": {
      "needs_background": "light"
     },
     "output_type": "display_data"
    },
    {
     "name": "stdout",
     "output_type": "stream",
     "text": [
      "Коэффициент коррелцяии объема продаж и оценки пользователей для платформы XOne: -0.09\n"
     ]
    }
   ],
   "source": [
    "# Вызовем функцию для обоих платформ\n",
    "scatter_plot_user_sale(ps4_sales_score, 'PS4')\n",
    "scatter_plot_user_sale(xone_sales_score, 'XOne')"
   ]
  },
  {
   "cell_type": "markdown",
   "metadata": {},
   "source": [
    "<div class=\"alert alert-block alert-danger\">\n",
    " \n",
    "### Комментарий ревьюера\n",
    "    \n",
    "#### Успех\n",
    "    \n",
    "А здесь все хорошо, кроме одного. давай уберем значения-заглушки. Они чуть влияют на результат и лучше от них избавиться. "
   ]
  },
  {
   "cell_type": "markdown",
   "metadata": {},
   "source": [
    "<div class=\"alert alert-info\"> <b>Комментарий студента:</b> \n",
    "\n",
    "Ой, точно! Конечно! Сделала условие на этапе создания датафреймов `ps4_sales_score` и `xone_sales_score`: `user_score > 0` (чтобы избавиться сразу от двух заглушек: -1 и 0), `critic_score >= 0`, но в critic_score все-равно нет значений, равных 0.\n",
    "    \n",
    "</div>"
   ]
  },
  {
   "cell_type": "markdown",
   "metadata": {},
   "source": [
    "<div class=\"alert alert-block alert-success\">\n",
    " \n",
    "# Комментарий ревьюера ver.2 \n",
    "    \n",
    "#### Успех\n",
    "    \n",
    "Лишние данные убраны. "
   ]
  },
  {
   "cell_type": "markdown",
   "metadata": {},
   "source": [
    "Исходя из данных диаграммы рассеяния и расчета коэффициента корреляции для обоих платформ, зависимость между количеством проданных копий игры и оценкой пользователей практически отсутствует."
   ]
  },
  {
   "cell_type": "markdown",
   "metadata": {},
   "source": [
    "#### Зависимость между оценкой критиков и продажами"
   ]
  },
  {
   "cell_type": "code",
   "execution_count": 24,
   "metadata": {},
   "outputs": [],
   "source": [
    "# Создадим функцию для построения диаграммы рассеяния и расчета корреляции между оценкой критиков и продажами\n",
    "def scatter_plot_critic_sale(df, name):\n",
    "    df.plot(\n",
    "        kind='scatter',\n",
    "        x='total_sales',\n",
    "        y='critic_score',\n",
    "        alpha=0.3\n",
    "    );\n",
    "    plt.title(f'Зависимость между оценкой критиков и продажами для платформы {name}')\n",
    "    plt.xlabel('Продажи, млн. копий')\n",
    "    plt.ylabel('Оценка критиков')\n",
    "    plt.show()\n",
    "\n",
    "    print(f'Коэффициент коррелцяии объема продаж и оценки критиков для платформы {name}: {round((df[\"total_sales\"].corr(df[\"critic_score\"])), 2)}')"
   ]
  },
  {
   "cell_type": "code",
   "execution_count": 25,
   "metadata": {},
   "outputs": [
    {
     "data": {
      "image/png": "[encoded data removed]",
      "text/plain": [
       "<Figure size 432x288 with 1 Axes>"
      ]
     },
     "metadata": {
      "needs_background": "light"
     },
     "output_type": "display_data"
    },
    {
     "name": "stdout",
     "output_type": "stream",
     "text": [
      "Коэффициент коррелцяии объема продаж и оценки критиков для платформы PS4: 0.41\n"
     ]
    },
    {
     "data": {
      "image/png": "[encoded data removed]",
      "text/plain": [
       "<Figure size 432x288 with 1 Axes>"
      ]
     },
     "metadata": {
      "needs_background": "light"
     },
     "output_type": "display_data"
    },
    {
     "name": "stdout",
     "output_type": "stream",
     "text": [
      "Коэффициент коррелцяии объема продаж и оценки критиков для платформы XOne: 0.41\n"
     ]
    }
   ],
   "source": [
    "# Вызовем функцию для обоих платформ\n",
    "scatter_plot_critic_sale(ps4_sales_score, 'PS4')\n",
    "scatter_plot_critic_sale(xone_sales_score, 'XOne')"
   ]
  },
  {
   "cell_type": "markdown",
   "metadata": {},
   "source": [
    "Исходя из данных диаграммы рассеяния и расчета коэффициента корреляции для обоих платформ, зависимость между количеством проданных копий игры и оценкой критиков незначительная. Хотя и оценки критиков влияют на продажи чуть больше."
   ]
  },
  {
   "cell_type": "markdown",
   "metadata": {},
   "source": [
    "#### Проверка выявленных зависимостей на пяти актуальных платформах"
   ]
  },
  {
   "cell_type": "markdown",
   "metadata": {},
   "source": [
    "Ранее были выявлены пять наиболее актуальных платформ: PS4, XOne, 3DS, PC, WiiU. На двух из них мы проверили зависимости продаж от отзывов пользователей и критиков. Убедимся в сделаных выводах на остальных трех."
   ]
  },
  {
   "cell_type": "code",
   "execution_count": 26,
   "metadata": {
    "scrolled": true
   },
   "outputs": [
    {
     "data": {
      "image/png": "[encoded data removed]",
      "text/plain": [
       "<Figure size 432x288 with 1 Axes>"
      ]
     },
     "metadata": {
      "needs_background": "light"
     },
     "output_type": "display_data"
    },
    {
     "name": "stdout",
     "output_type": "stream",
     "text": [
      "Коэффициент коррелцяии объема продаж и оценки пользователей для платформы 3DS: 0.24\n"
     ]
    },
    {
     "data": {
      "image/png": "[encoded data removed]",
      "text/plain": [
       "<Figure size 432x288 with 1 Axes>"
      ]
     },
     "metadata": {
      "needs_background": "light"
     },
     "output_type": "display_data"
    },
    {
     "name": "stdout",
     "output_type": "stream",
     "text": [
      "Коэффициент коррелцяии объема продаж и оценки критиков для платформы 3DS: 0.36\n"
     ]
    },
    {
     "data": {
      "image/png": "[encoded data removed]",
      "text/plain": [
       "<Figure size 432x288 with 1 Axes>"
      ]
     },
     "metadata": {
      "needs_background": "light"
     },
     "output_type": "display_data"
    },
    {
     "name": "stdout",
     "output_type": "stream",
     "text": [
      "Коэффициент коррелцяии объема продаж и оценки пользователей для платформы PC: -0.09\n"
     ]
    },
    {
     "data": {
      "image/png": "[encoded data removed]",
      "text/plain": [
       "<Figure size 432x288 with 1 Axes>"
      ]
     },
     "metadata": {
      "needs_background": "light"
     },
     "output_type": "display_data"
    },
    {
     "name": "stdout",
     "output_type": "stream",
     "text": [
      "Коэффициент коррелцяии объема продаж и оценки критиков для платформы PC: 0.2\n"
     ]
    },
    {
     "data": {
      "image/png": "[encoded data removed]",
      "text/plain": [
       "<Figure size 432x288 with 1 Axes>"
      ]
     },
     "metadata": {
      "needs_background": "light"
     },
     "output_type": "display_data"
    },
    {
     "name": "stdout",
     "output_type": "stream",
     "text": [
      "Коэффициент коррелцяии объема продаж и оценки пользователей для платформы WiiU: 0.42\n"
     ]
    },
    {
     "data": {
      "image/png": "[encoded data removed]",
      "text/plain": [
       "<Figure size 432x288 with 1 Axes>"
      ]
     },
     "metadata": {
      "needs_background": "light"
     },
     "output_type": "display_data"
    },
    {
     "name": "stdout",
     "output_type": "stream",
     "text": [
      "Коэффициент коррелцяии объема продаж и оценки критиков для платформы WiiU: 0.38\n"
     ]
    }
   ],
   "source": [
    "# Создадим список оставшихся платформ\n",
    "list = [\"3DS\", \"PC\", \"WiiU\"]\n",
    "\n",
    "# С помощью цикла и ранее созданных функций выведем оставшиеся зависимости\n",
    "for p in list:\n",
    "    scatter_plot_user_sale(top_actual_games[(top_actual_games['platform'] == p) & (top_actual_games['user_score'] > 0)], p)\n",
    "    scatter_plot_critic_sale(top_actual_games[(top_actual_games['platform'] == p) & (top_actual_games['critic_score'] >= 0)], p)"
   ]
  },
  {
   "cell_type": "markdown",
   "metadata": {},
   "source": [
    "Выводы о том, что зависимость между количеством проданных копий игры и оценкой критиков незначительная, а между количеством проданных копий игры и оценкой пользователей практически отсутствует, подтвердились. Для всех остальных платформ оценка критиков влияет на продажи чуть больше, чем оценка пользователей."
   ]
  },
  {
   "cell_type": "markdown",
   "metadata": {},
   "source": [
    "<div class=\"alert alert-block alert-success\">\n",
    " \n",
    "### Комментарий ревьюера\n",
    "    \n",
    "#### Успех\n",
    "    \n",
    "Выводы на основе данных нескольких платформ выглядят убедительнее."
   ]
  },
  {
   "cell_type": "markdown",
   "metadata": {},
   "source": [
    "### Общее распределение игр по жанрам"
   ]
  },
  {
   "cell_type": "code",
   "execution_count": 27,
   "metadata": {},
   "outputs": [
    {
     "data": {
      "text/html": [
       "<div>\n",
       "<style scoped>\n",
       "    .dataframe tbody tr th:only-of-type {\n",
       "        vertical-align: middle;\n",
       "    }\n",
       "\n",
       "    .dataframe tbody tr th {\n",
       "        vertical-align: top;\n",
       "    }\n",
       "\n",
       "    .dataframe thead tr th {\n",
       "        text-align: left;\n",
       "    }\n",
       "\n",
       "    .dataframe thead tr:last-of-type th {\n",
       "        text-align: right;\n",
       "    }\n",
       "</style>\n",
       "<table border=\"1\" class=\"dataframe\">\n",
       "  <thead>\n",
       "    <tr>\n",
       "      <th></th>\n",
       "      <th>median</th>\n",
       "      <th>sum</th>\n",
       "    </tr>\n",
       "    <tr>\n",
       "      <th></th>\n",
       "      <th>total_sales</th>\n",
       "      <th>total_sales</th>\n",
       "    </tr>\n",
       "    <tr>\n",
       "      <th>genre</th>\n",
       "      <th></th>\n",
       "      <th></th>\n",
       "    </tr>\n",
       "  </thead>\n",
       "  <tbody>\n",
       "    <tr>\n",
       "      <th>Action</th>\n",
       "      <td>0.110</td>\n",
       "      <td>321.87</td>\n",
       "    </tr>\n",
       "    <tr>\n",
       "      <th>Adventure</th>\n",
       "      <td>0.030</td>\n",
       "      <td>23.64</td>\n",
       "    </tr>\n",
       "    <tr>\n",
       "      <th>Fighting</th>\n",
       "      <td>0.125</td>\n",
       "      <td>35.31</td>\n",
       "    </tr>\n",
       "    <tr>\n",
       "      <th>Misc</th>\n",
       "      <td>0.100</td>\n",
       "      <td>62.82</td>\n",
       "    </tr>\n",
       "    <tr>\n",
       "      <th>Platform</th>\n",
       "      <td>0.225</td>\n",
       "      <td>42.63</td>\n",
       "    </tr>\n",
       "    <tr>\n",
       "      <th>Puzzle</th>\n",
       "      <td>0.060</td>\n",
       "      <td>3.17</td>\n",
       "    </tr>\n",
       "    <tr>\n",
       "      <th>Racing</th>\n",
       "      <td>0.120</td>\n",
       "      <td>39.89</td>\n",
       "    </tr>\n",
       "    <tr>\n",
       "      <th>Role-Playing</th>\n",
       "      <td>0.125</td>\n",
       "      <td>145.89</td>\n",
       "    </tr>\n",
       "    <tr>\n",
       "      <th>Shooter</th>\n",
       "      <td>0.450</td>\n",
       "      <td>232.98</td>\n",
       "    </tr>\n",
       "    <tr>\n",
       "      <th>Simulation</th>\n",
       "      <td>0.100</td>\n",
       "      <td>21.76</td>\n",
       "    </tr>\n",
       "    <tr>\n",
       "      <th>Sports</th>\n",
       "      <td>0.240</td>\n",
       "      <td>150.65</td>\n",
       "    </tr>\n",
       "    <tr>\n",
       "      <th>Strategy</th>\n",
       "      <td>0.080</td>\n",
       "      <td>10.08</td>\n",
       "    </tr>\n",
       "  </tbody>\n",
       "</table>\n",
       "</div>"
      ],
      "text/plain": [
       "                  median         sum\n",
       "             total_sales total_sales\n",
       "genre                               \n",
       "Action             0.110      321.87\n",
       "Adventure          0.030       23.64\n",
       "Fighting           0.125       35.31\n",
       "Misc               0.100       62.82\n",
       "Platform           0.225       42.63\n",
       "Puzzle             0.060        3.17\n",
       "Racing             0.120       39.89\n",
       "Role-Playing       0.125      145.89\n",
       "Shooter            0.450      232.98\n",
       "Simulation         0.100       21.76\n",
       "Sports             0.240      150.65\n",
       "Strategy           0.080       10.08"
      ]
     },
     "metadata": {},
     "output_type": "display_data"
    },
    {
     "data": {
      "image/png": "[encoded data removed]",
      "text/plain": [
       "<Figure size 576x360 with 1 Axes>"
      ]
     },
     "metadata": {
      "needs_background": "light"
     },
     "output_type": "display_data"
    },
    {
     "data": {
      "image/png": "[encoded data removed]",
      "text/plain": [
       "<Figure size 576x360 with 1 Axes>"
      ]
     },
     "metadata": {
      "needs_background": "light"
     },
     "output_type": "display_data"
    }
   ],
   "source": [
    "# Создадим сводную таблицу с общими продажами по жанрам\n",
    "genre_sales = games.query('year_of_release >= 2013').pivot_table(index='genre', values='total_sales', aggfunc=['median', 'sum'])\n",
    "\n",
    "# Выведем ее на экран\n",
    "display(genre_sales)\n",
    "\n",
    "# Построим диаграммы для медианных значений продаж и для суммарных продаж по жанрам\n",
    "genre_sales['sum'].plot(\n",
    "    kind='bar', \n",
    "    title='Суммарные продажи по жанрам', \n",
    "    xlabel='Жанр', \n",
    "    ylabel='Продажи, млн. копий', \n",
    "    figsize=(8, 5), \n",
    "    grid=True, \n",
    "    ec='black'\n",
    ");\n",
    "plt.show()\n",
    "\n",
    "genre_sales['median'].plot(\n",
    "    kind='bar', \n",
    "    title='Медианное значение продаж игр по жанрам', \n",
    "    xlabel='Жанр', \n",
    "    ylabel='Продажи, млн. копий', \n",
    "    figsize=(8, 5), \n",
    "    grid=True, \n",
    "    ec='black'\n",
    ");\n",
    "plt.show()"
   ]
  },
  {
   "cell_type": "markdown",
   "metadata": {},
   "source": [
    "<div class=\"alert alert-block alert-danger\">\n",
    " \n",
    "### Комментарий ревьюера\n",
    "    \n",
    "#### Ошибка\n",
    "    \n",
    "Высокие продажи могут быть вызваны не успехом, а просто огромным количеством игр. Вполне могут быть жанры, где игр немного, но при этом продажи сопоставимы с продажами Экшена. Чтобы проверить это, стоит рассмотреть средние или медианные продажи."
   ]
  },
  {
   "cell_type": "markdown",
   "metadata": {},
   "source": [
    "<div class=\"alert alert-info\"> <b>Комментарий студента:</b> \n",
    "\n",
    "Теперь два графика: по сумме и по медиане. Ситуация, действительно, разная. Вывод ниже.\n",
    "    \n",
    "</div>"
   ]
  },
  {
   "cell_type": "markdown",
   "metadata": {},
   "source": [
    "<div class=\"alert alert-block alert-danger\">\n",
    " \n",
    "# Комментарий ревьюера ver.2 \n",
    "    \n",
    "#### Ошибка\n",
    "\n",
    "Тут надо еще одну вещь подправить. Все же этот график надо сделать только для актуального периода."
   ]
  },
  {
   "cell_type": "markdown",
   "metadata": {},
   "source": [
    "<div class=\"alert alert-block alert-success\">\n",
    " \n",
    "# Комментарий ревьюера ver.3\n",
    "    \n",
    "#### Успех\n",
    "    \n",
    "Вот теперь то, что надо. Молодец "
   ]
  },
  {
   "cell_type": "markdown",
   "metadata": {},
   "source": [
    "<div class=\"alert alert-info\"> <b>Комментарий студента:</b> \n",
    "\n",
    "Готово! Сделала срез с 2013 года. Вывод исправила.\n",
    "    \n",
    "</div>"
   ]
  },
  {
   "cell_type": "markdown",
   "metadata": {},
   "source": [
    "Самыми продаваемыми жанрами по суммарным продажам в играх являются Action, Shooter, Sports и Role-Playing. Именно эти жанры продают наибольшее число копий игр. Самые низкие продажи у игр в жанрах Puzzle и Strategy.\n",
    "\n",
    "По медианному количеству продаж немного другая ситуация: лидеры Shooters, Sports, Platform. Такой результат говорит о том, что в жанрах Action есть бестселлеры с многомиллионными продажами или просто бОльшее количество игр. Но если не брать во внимание такие единичные выбросы, то ситуация немного меняется.\n",
    "\n",
    "По обоим графикам жанры Shooter и Sports находятся на лидирующих позициях."
   ]
  },
  {
   "cell_type": "markdown",
   "metadata": {},
   "source": [
    "## Портрет пользователей по регионам"
   ]
  },
  {
   "cell_type": "markdown",
   "metadata": {},
   "source": [
    "Напишем функцию portrait_for_region, которая будет выводить графики. А затем составим портреты пользователей каждого региона:\n",
    "- Топ-5 самых популярных платформ по продажам\n",
    "- Топ-5 самых популярных жанров \n",
    "- Зависимость рейтинга ESRB на продажи"
   ]
  },
  {
   "cell_type": "code",
   "execution_count": 28,
   "metadata": {
    "scrolled": false
   },
   "outputs": [],
   "source": [
    "def portrait_for_region(column, region):\n",
    "    #Топ-5 самых популярных платформ по продажам\n",
    "    # Создаем сводную таблицу по платформам\n",
    "    top_5_platform_sales = games.pivot_table(index='platform', values=column, aggfunc='sum').sort_values(by=[column], ascending=False).reset_index()\n",
    "    top_5_platform_sales.head()\n",
    "\n",
    "    # Оставим топ-5 первых строк (отсортированных по возрастанию), а остальные просуммируем в строку Others\n",
    "    top_5_platform_sales.loc[6:, 'platform'] = 'Others'\n",
    "    top_5_platform_sales.loc[6, column] = sum(top_5_platform_sales.loc[6:, column])\n",
    "    top_5_platform_sales = top_5_platform_sales.iloc[:7].set_index('platform')\n",
    "    display(top_5_platform_sales)\n",
    "\n",
    "    # Построим график с продажами по платформам\n",
    "    top_5_platform_sales[column].plot(\n",
    "        kind='pie',\n",
    "        labels=top_5_platform_sales.index,\n",
    "        title=f'Соотношение платформ по продажам в регионе {region}', \n",
    "        autopct='%1.1f%%',\n",
    "        ylabel='',\n",
    "    );\n",
    "    plt.show()\n",
    "    \n",
    "    # Топ-5 самых популярных жанров\n",
    "    # Создаем сводную таблицу по жанрам\n",
    "    top_5_platform_genre = games.pivot_table(index='genre', values=column, aggfunc='sum').sort_values(by=[column], ascending=False).reset_index()\n",
    "    top_5_platform_genre.head()\n",
    "    \n",
    "    # Оставим топ-5 первых строк (отсортированных по возрастанию), а остальные просуммируем в строку Others\n",
    "    top_5_platform_genre.loc[6:, 'genre'] = 'Others'\n",
    "    top_5_platform_genre.loc[6, column] = sum(top_5_platform_genre.loc[6:, column])\n",
    "    top_5_platform_genre = top_5_platform_genre.iloc[:7].set_index('genre')\n",
    "    display(top_5_platform_genre)\n",
    "    \n",
    "    # Построим график с продажами по жанрам\n",
    "    top_5_platform_genre[column].plot(\n",
    "        kind='pie',\n",
    "        labels=top_5_platform_genre.index,\n",
    "        title=f'Соотношение жанров по продажам в регионе {region}', \n",
    "        autopct='%1.1f%%',\n",
    "        ylabel='',\n",
    "    );\n",
    "    plt.show()\n",
    "    \n",
    "    #Зависимость рейтинга ESRB на продажи\n",
    "    # Создаем сводную таблицу по рейтингу (два столбца: сумма и медиана)\n",
    "    rating_sales = games[games[column] > 0].query('rating != \"unknown\"')\n",
    "    rating_sales = rating_sales.groupby('rating')[column].agg(['sum', 'median'])\n",
    "    display(rating_sales)\n",
    "    \n",
    "    # Построим график с суммарными продажами по рейтингу ESRB\n",
    "    rating_sales.plot(\n",
    "        y=['sum'],\n",
    "        kind='bar', \n",
    "        title='Суммарные продажи по рейтингу ESRB', \n",
    "        xlabel='Рейтинг', \n",
    "        ylabel='Продажи, млн. копий', \n",
    "        figsize=(8, 5), \n",
    "        grid=True,\n",
    "        legend=False,\n",
    "        ec='black'\n",
    "    );\n",
    "    plt.show()\n",
    "    \n",
    "    # Построим график с медианными знаечниями продажам по рейтингу ESRB\n",
    "    rating_sales.plot(\n",
    "        y=['median'],\n",
    "        kind='bar', \n",
    "        title='Медианное значение продаж по рейтингу ESRB', \n",
    "        xlabel='Рейтинг', \n",
    "        ylabel='Продажи, млн. копий', \n",
    "        figsize=(8, 5), \n",
    "        grid=True,\n",
    "        legend=False,\n",
    "        ec='black'\n",
    "    );\n",
    "    plt.show()"
   ]
  },
  {
   "cell_type": "markdown",
   "metadata": {},
   "source": [
    "### Портрет пользователя из Северной Америки (NA)"
   ]
  },
  {
   "cell_type": "code",
   "execution_count": 29,
   "metadata": {
    "scrolled": false
   },
   "outputs": [
    {
     "data": {
      "text/html": [
       "<div>\n",
       "<style scoped>\n",
       "    .dataframe tbody tr th:only-of-type {\n",
       "        vertical-align: middle;\n",
       "    }\n",
       "\n",
       "    .dataframe tbody tr th {\n",
       "        vertical-align: top;\n",
       "    }\n",
       "\n",
       "    .dataframe thead th {\n",
       "        text-align: right;\n",
       "    }\n",
       "</style>\n",
       "<table border=\"1\" class=\"dataframe\">\n",
       "  <thead>\n",
       "    <tr style=\"text-align: right;\">\n",
       "      <th></th>\n",
       "      <th>na_sales</th>\n",
       "    </tr>\n",
       "    <tr>\n",
       "      <th>platform</th>\n",
       "      <th></th>\n",
       "    </tr>\n",
       "  </thead>\n",
       "  <tbody>\n",
       "    <tr>\n",
       "      <th>X360</th>\n",
       "      <td>602.47</td>\n",
       "    </tr>\n",
       "    <tr>\n",
       "      <th>PS2</th>\n",
       "      <td>583.84</td>\n",
       "    </tr>\n",
       "    <tr>\n",
       "      <th>Wii</th>\n",
       "      <td>496.90</td>\n",
       "    </tr>\n",
       "    <tr>\n",
       "      <th>PS3</th>\n",
       "      <td>393.49</td>\n",
       "    </tr>\n",
       "    <tr>\n",
       "      <th>DS</th>\n",
       "      <td>382.40</td>\n",
       "    </tr>\n",
       "    <tr>\n",
       "      <th>PS</th>\n",
       "      <td>336.52</td>\n",
       "    </tr>\n",
       "    <tr>\n",
       "      <th>Others</th>\n",
       "      <td>1604.95</td>\n",
       "    </tr>\n",
       "  </tbody>\n",
       "</table>\n",
       "</div>"
      ],
      "text/plain": [
       "          na_sales\n",
       "platform          \n",
       "X360        602.47\n",
       "PS2         583.84\n",
       "Wii         496.90\n",
       "PS3         393.49\n",
       "DS          382.40\n",
       "PS          336.52\n",
       "Others     1604.95"
      ]
     },
     "metadata": {},
     "output_type": "display_data"
    },
    {
     "data": {
      "image/png": "[encoded data removed]",
      "text/plain": [
       "<Figure size 432x288 with 1 Axes>"
      ]
     },
     "metadata": {},
     "output_type": "display_data"
    },
    {
     "data": {
      "text/html": [
       "<div>\n",
       "<style scoped>\n",
       "    .dataframe tbody tr th:only-of-type {\n",
       "        vertical-align: middle;\n",
       "    }\n",
       "\n",
       "    .dataframe tbody tr th {\n",
       "        vertical-align: top;\n",
       "    }\n",
       "\n",
       "    .dataframe thead th {\n",
       "        text-align: right;\n",
       "    }\n",
       "</style>\n",
       "<table border=\"1\" class=\"dataframe\">\n",
       "  <thead>\n",
       "    <tr style=\"text-align: right;\">\n",
       "      <th></th>\n",
       "      <th>na_sales</th>\n",
       "    </tr>\n",
       "    <tr>\n",
       "      <th>genre</th>\n",
       "      <th></th>\n",
       "    </tr>\n",
       "  </thead>\n",
       "  <tbody>\n",
       "    <tr>\n",
       "      <th>Action</th>\n",
       "      <td>879.01</td>\n",
       "    </tr>\n",
       "    <tr>\n",
       "      <th>Sports</th>\n",
       "      <td>684.43</td>\n",
       "    </tr>\n",
       "    <tr>\n",
       "      <th>Shooter</th>\n",
       "      <td>592.24</td>\n",
       "    </tr>\n",
       "    <tr>\n",
       "      <th>Platform</th>\n",
       "      <td>445.50</td>\n",
       "    </tr>\n",
       "    <tr>\n",
       "      <th>Misc</th>\n",
       "      <td>407.27</td>\n",
       "    </tr>\n",
       "    <tr>\n",
       "      <th>Racing</th>\n",
       "      <td>359.35</td>\n",
       "    </tr>\n",
       "    <tr>\n",
       "      <th>Others</th>\n",
       "      <td>1032.77</td>\n",
       "    </tr>\n",
       "  </tbody>\n",
       "</table>\n",
       "</div>"
      ],
      "text/plain": [
       "          na_sales\n",
       "genre             \n",
       "Action      879.01\n",
       "Sports      684.43\n",
       "Shooter     592.24\n",
       "Platform    445.50\n",
       "Misc        407.27\n",
       "Racing      359.35\n",
       "Others     1032.77"
      ]
     },
     "metadata": {},
     "output_type": "display_data"
    },
    {
     "data": {
      "image/png": "[encoded data removed]",
      "text/plain": [
       "<Figure size 432x288 with 1 Axes>"
      ]
     },
     "metadata": {},
     "output_type": "display_data"
    },
    {
     "data": {
      "text/html": [
       "<div>\n",
       "<style scoped>\n",
       "    .dataframe tbody tr th:only-of-type {\n",
       "        vertical-align: middle;\n",
       "    }\n",
       "\n",
       "    .dataframe tbody tr th {\n",
       "        vertical-align: top;\n",
       "    }\n",
       "\n",
       "    .dataframe thead th {\n",
       "        text-align: right;\n",
       "    }\n",
       "</style>\n",
       "<table border=\"1\" class=\"dataframe\">\n",
       "  <thead>\n",
       "    <tr style=\"text-align: right;\">\n",
       "      <th></th>\n",
       "      <th>sum</th>\n",
       "      <th>median</th>\n",
       "    </tr>\n",
       "    <tr>\n",
       "      <th>rating</th>\n",
       "      <th></th>\n",
       "      <th></th>\n",
       "    </tr>\n",
       "  </thead>\n",
       "  <tbody>\n",
       "    <tr>\n",
       "      <th>AO</th>\n",
       "      <td>1.26</td>\n",
       "      <td>1.260</td>\n",
       "    </tr>\n",
       "    <tr>\n",
       "      <th>E</th>\n",
       "      <td>1292.99</td>\n",
       "      <td>0.130</td>\n",
       "    </tr>\n",
       "    <tr>\n",
       "      <th>E10+</th>\n",
       "      <td>353.32</td>\n",
       "      <td>0.130</td>\n",
       "    </tr>\n",
       "    <tr>\n",
       "      <th>EC</th>\n",
       "      <td>1.53</td>\n",
       "      <td>0.155</td>\n",
       "    </tr>\n",
       "    <tr>\n",
       "      <th>K-A</th>\n",
       "      <td>2.56</td>\n",
       "      <td>1.280</td>\n",
       "    </tr>\n",
       "    <tr>\n",
       "      <th>M</th>\n",
       "      <td>748.48</td>\n",
       "      <td>0.170</td>\n",
       "    </tr>\n",
       "    <tr>\n",
       "      <th>T</th>\n",
       "      <td>759.75</td>\n",
       "      <td>0.130</td>\n",
       "    </tr>\n",
       "  </tbody>\n",
       "</table>\n",
       "</div>"
      ],
      "text/plain": [
       "            sum  median\n",
       "rating                 \n",
       "AO         1.26   1.260\n",
       "E       1292.99   0.130\n",
       "E10+     353.32   0.130\n",
       "EC         1.53   0.155\n",
       "K-A        2.56   1.280\n",
       "M        748.48   0.170\n",
       "T        759.75   0.130"
      ]
     },
     "metadata": {},
     "output_type": "display_data"
    },
    {
     "data": {
      "image/png": "[encoded data removed]",
      "text/plain": [
       "<Figure size 576x360 with 1 Axes>"
      ]
     },
     "metadata": {
      "needs_background": "light"
     },
     "output_type": "display_data"
    },
    {
     "data": {
      "image/png": "[encoded data removed]",
      "text/plain": [
       "<Figure size 576x360 with 1 Axes>"
      ]
     },
     "metadata": {
      "needs_background": "light"
     },
     "output_type": "display_data"
    }
   ],
   "source": [
    "portrait_for_region(\"na_sales\", \"Северная Америка\")"
   ]
  },
  {
   "cell_type": "markdown",
   "metadata": {},
   "source": [
    "Наиболее популярные игровые платформы в Северной Америке: X360, PS2, Wii.  \n",
    "Наиболее попуряные жанры в Северной Америке: Action, Sports, Shooter.  \n",
    "\n",
    "Суммарное количество проданых копий игр указывает на то, что пользователи в Северной Америке покупают игры с рейтингом E и примерно одинаковое количество с рейтингом T и M. Но если смотреть медианные значения продаж, без выбросов игр-бестселлеров, то в основном пользователи покупают игры с рейтингом AO и K-A."
   ]
  },
  {
   "cell_type": "markdown",
   "metadata": {},
   "source": [
    "<div class=\"alert alert-block alert-success\">\n",
    " \n",
    "### Комментарий ревьюера\n",
    "    \n",
    "#### Успех\n",
    "    \n",
    "Первичное представление о регионе мы получили. "
   ]
  },
  {
   "cell_type": "markdown",
   "metadata": {},
   "source": [
    "### Портрет пользователя из Европы (EU)"
   ]
  },
  {
   "cell_type": "code",
   "execution_count": 30,
   "metadata": {
    "scrolled": false
   },
   "outputs": [
    {
     "data": {
      "text/html": [
       "<div>\n",
       "<style scoped>\n",
       "    .dataframe tbody tr th:only-of-type {\n",
       "        vertical-align: middle;\n",
       "    }\n",
       "\n",
       "    .dataframe tbody tr th {\n",
       "        vertical-align: top;\n",
       "    }\n",
       "\n",
       "    .dataframe thead th {\n",
       "        text-align: right;\n",
       "    }\n",
       "</style>\n",
       "<table border=\"1\" class=\"dataframe\">\n",
       "  <thead>\n",
       "    <tr style=\"text-align: right;\">\n",
       "      <th></th>\n",
       "      <th>eu_sales</th>\n",
       "    </tr>\n",
       "    <tr>\n",
       "      <th>platform</th>\n",
       "      <th></th>\n",
       "    </tr>\n",
       "  </thead>\n",
       "  <tbody>\n",
       "    <tr>\n",
       "      <th>PS2</th>\n",
       "      <td>339.29</td>\n",
       "    </tr>\n",
       "    <tr>\n",
       "      <th>PS3</th>\n",
       "      <td>330.28</td>\n",
       "    </tr>\n",
       "    <tr>\n",
       "      <th>X360</th>\n",
       "      <td>270.76</td>\n",
       "    </tr>\n",
       "    <tr>\n",
       "      <th>Wii</th>\n",
       "      <td>262.21</td>\n",
       "    </tr>\n",
       "    <tr>\n",
       "      <th>PS</th>\n",
       "      <td>213.61</td>\n",
       "    </tr>\n",
       "    <tr>\n",
       "      <th>DS</th>\n",
       "      <td>188.89</td>\n",
       "    </tr>\n",
       "    <tr>\n",
       "      <th>Others</th>\n",
       "      <td>819.09</td>\n",
       "    </tr>\n",
       "  </tbody>\n",
       "</table>\n",
       "</div>"
      ],
      "text/plain": [
       "          eu_sales\n",
       "platform          \n",
       "PS2         339.29\n",
       "PS3         330.28\n",
       "X360        270.76\n",
       "Wii         262.21\n",
       "PS          213.61\n",
       "DS          188.89\n",
       "Others      819.09"
      ]
     },
     "metadata": {},
     "output_type": "display_data"
    },
    {
     "data": {
      "image/png": "[encoded data removed]",
      "text/plain": [
       "<Figure size 432x288 with 1 Axes>"
      ]
     },
     "metadata": {},
     "output_type": "display_data"
    },
    {
     "data": {
      "text/html": [
       "<div>\n",
       "<style scoped>\n",
       "    .dataframe tbody tr th:only-of-type {\n",
       "        vertical-align: middle;\n",
       "    }\n",
       "\n",
       "    .dataframe tbody tr th {\n",
       "        vertical-align: top;\n",
       "    }\n",
       "\n",
       "    .dataframe thead th {\n",
       "        text-align: right;\n",
       "    }\n",
       "</style>\n",
       "<table border=\"1\" class=\"dataframe\">\n",
       "  <thead>\n",
       "    <tr style=\"text-align: right;\">\n",
       "      <th></th>\n",
       "      <th>eu_sales</th>\n",
       "    </tr>\n",
       "    <tr>\n",
       "      <th>genre</th>\n",
       "      <th></th>\n",
       "    </tr>\n",
       "  </thead>\n",
       "  <tbody>\n",
       "    <tr>\n",
       "      <th>Action</th>\n",
       "      <td>519.13</td>\n",
       "    </tr>\n",
       "    <tr>\n",
       "      <th>Sports</th>\n",
       "      <td>376.78</td>\n",
       "    </tr>\n",
       "    <tr>\n",
       "      <th>Shooter</th>\n",
       "      <td>317.34</td>\n",
       "    </tr>\n",
       "    <tr>\n",
       "      <th>Racing</th>\n",
       "      <td>236.51</td>\n",
       "    </tr>\n",
       "    <tr>\n",
       "      <th>Misc</th>\n",
       "      <td>212.74</td>\n",
       "    </tr>\n",
       "    <tr>\n",
       "      <th>Platform</th>\n",
       "      <td>200.35</td>\n",
       "    </tr>\n",
       "    <tr>\n",
       "      <th>Others</th>\n",
       "      <td>561.28</td>\n",
       "    </tr>\n",
       "  </tbody>\n",
       "</table>\n",
       "</div>"
      ],
      "text/plain": [
       "          eu_sales\n",
       "genre             \n",
       "Action      519.13\n",
       "Sports      376.78\n",
       "Shooter     317.34\n",
       "Racing      236.51\n",
       "Misc        212.74\n",
       "Platform    200.35\n",
       "Others      561.28"
      ]
     },
     "metadata": {},
     "output_type": "display_data"
    },
    {
     "data": {
      "image/png": "[encoded data removed]",
      "text/plain": [
       "<Figure size 432x288 with 1 Axes>"
      ]
     },
     "metadata": {},
     "output_type": "display_data"
    },
    {
     "data": {
      "text/html": [
       "<div>\n",
       "<style scoped>\n",
       "    .dataframe tbody tr th:only-of-type {\n",
       "        vertical-align: middle;\n",
       "    }\n",
       "\n",
       "    .dataframe tbody tr th {\n",
       "        vertical-align: top;\n",
       "    }\n",
       "\n",
       "    .dataframe thead th {\n",
       "        text-align: right;\n",
       "    }\n",
       "</style>\n",
       "<table border=\"1\" class=\"dataframe\">\n",
       "  <thead>\n",
       "    <tr style=\"text-align: right;\">\n",
       "      <th></th>\n",
       "      <th>sum</th>\n",
       "      <th>median</th>\n",
       "    </tr>\n",
       "    <tr>\n",
       "      <th>rating</th>\n",
       "      <th></th>\n",
       "      <th></th>\n",
       "    </tr>\n",
       "  </thead>\n",
       "  <tbody>\n",
       "    <tr>\n",
       "      <th>AO</th>\n",
       "      <td>0.61</td>\n",
       "      <td>0.610</td>\n",
       "    </tr>\n",
       "    <tr>\n",
       "      <th>E</th>\n",
       "      <td>710.24</td>\n",
       "      <td>0.060</td>\n",
       "    </tr>\n",
       "    <tr>\n",
       "      <th>E10+</th>\n",
       "      <td>188.52</td>\n",
       "      <td>0.070</td>\n",
       "    </tr>\n",
       "    <tr>\n",
       "      <th>EC</th>\n",
       "      <td>0.11</td>\n",
       "      <td>0.055</td>\n",
       "    </tr>\n",
       "    <tr>\n",
       "      <th>K-A</th>\n",
       "      <td>0.27</td>\n",
       "      <td>0.100</td>\n",
       "    </tr>\n",
       "    <tr>\n",
       "      <th>M</th>\n",
       "      <td>483.97</td>\n",
       "      <td>0.110</td>\n",
       "    </tr>\n",
       "    <tr>\n",
       "      <th>RP</th>\n",
       "      <td>0.08</td>\n",
       "      <td>0.030</td>\n",
       "    </tr>\n",
       "    <tr>\n",
       "      <th>T</th>\n",
       "      <td>427.03</td>\n",
       "      <td>0.060</td>\n",
       "    </tr>\n",
       "  </tbody>\n",
       "</table>\n",
       "</div>"
      ],
      "text/plain": [
       "           sum  median\n",
       "rating                \n",
       "AO        0.61   0.610\n",
       "E       710.24   0.060\n",
       "E10+    188.52   0.070\n",
       "EC        0.11   0.055\n",
       "K-A       0.27   0.100\n",
       "M       483.97   0.110\n",
       "RP        0.08   0.030\n",
       "T       427.03   0.060"
      ]
     },
     "metadata": {},
     "output_type": "display_data"
    },
    {
     "data": {
      "image/png": "[encoded data removed]",
      "text/plain": [
       "<Figure size 576x360 with 1 Axes>"
      ]
     },
     "metadata": {
      "needs_background": "light"
     },
     "output_type": "display_data"
    },
    {
     "data": {
      "image/png": "[encoded data removed]",
      "text/plain": [
       "<Figure size 576x360 with 1 Axes>"
      ]
     },
     "metadata": {
      "needs_background": "light"
     },
     "output_type": "display_data"
    }
   ],
   "source": [
    "portrait_for_region(\"eu_sales\", \"Европа\")"
   ]
  },
  {
   "cell_type": "markdown",
   "metadata": {},
   "source": [
    "Наиболее популярные игровые платформы в Европе: PS2, PS3, X360.\n",
    "Наиболее попуряные жанры в Европе: Action, Sports, Shooter.\n",
    "\n",
    "Суммарное количество проданых копий игр указывает на то, что пользователи в Европе покупают игры с рейтингом E и примерно одинаковое количество с рейтингом T и M. Но если смотреть медианные значения продаж, без выбросов игр-бестселлеров, то в основном пользователи покупают игры с рейтингом AO."
   ]
  },
  {
   "cell_type": "markdown",
   "metadata": {},
   "source": [
    "<div class=\"alert alert-block alert-success\">\n",
    " \n",
    "### Комментарий ревьюера\n",
    "    \n",
    "#### Успех\n",
    "    \n",
    "Европа достаточно сильно похожа на Северную Америку"
   ]
  },
  {
   "cell_type": "markdown",
   "metadata": {},
   "source": [
    "### Портрет пользователя из Японии (JP)"
   ]
  },
  {
   "cell_type": "code",
   "execution_count": 31,
   "metadata": {
    "scrolled": false
   },
   "outputs": [
    {
     "data": {
      "text/html": [
       "<div>\n",
       "<style scoped>\n",
       "    .dataframe tbody tr th:only-of-type {\n",
       "        vertical-align: middle;\n",
       "    }\n",
       "\n",
       "    .dataframe tbody tr th {\n",
       "        vertical-align: top;\n",
       "    }\n",
       "\n",
       "    .dataframe thead th {\n",
       "        text-align: right;\n",
       "    }\n",
       "</style>\n",
       "<table border=\"1\" class=\"dataframe\">\n",
       "  <thead>\n",
       "    <tr style=\"text-align: right;\">\n",
       "      <th></th>\n",
       "      <th>jp_sales</th>\n",
       "    </tr>\n",
       "    <tr>\n",
       "      <th>platform</th>\n",
       "      <th></th>\n",
       "    </tr>\n",
       "  </thead>\n",
       "  <tbody>\n",
       "    <tr>\n",
       "      <th>DS</th>\n",
       "      <td>175.57</td>\n",
       "    </tr>\n",
       "    <tr>\n",
       "      <th>PS</th>\n",
       "      <td>139.82</td>\n",
       "    </tr>\n",
       "    <tr>\n",
       "      <th>PS2</th>\n",
       "      <td>139.20</td>\n",
       "    </tr>\n",
       "    <tr>\n",
       "      <th>SNES</th>\n",
       "      <td>116.55</td>\n",
       "    </tr>\n",
       "    <tr>\n",
       "      <th>3DS</th>\n",
       "      <td>100.67</td>\n",
       "    </tr>\n",
       "    <tr>\n",
       "      <th>NES</th>\n",
       "      <td>98.65</td>\n",
       "    </tr>\n",
       "    <tr>\n",
       "      <th>Others</th>\n",
       "      <td>526.88</td>\n",
       "    </tr>\n",
       "  </tbody>\n",
       "</table>\n",
       "</div>"
      ],
      "text/plain": [
       "          jp_sales\n",
       "platform          \n",
       "DS          175.57\n",
       "PS          139.82\n",
       "PS2         139.20\n",
       "SNES        116.55\n",
       "3DS         100.67\n",
       "NES          98.65\n",
       "Others      526.88"
      ]
     },
     "metadata": {},
     "output_type": "display_data"
    },
    {
     "data": {
      "image/png": "[encoded data removed]",
      "text/plain": [
       "<Figure size 432x288 with 1 Axes>"
      ]
     },
     "metadata": {},
     "output_type": "display_data"
    },
    {
     "data": {
      "text/html": [
       "<div>\n",
       "<style scoped>\n",
       "    .dataframe tbody tr th:only-of-type {\n",
       "        vertical-align: middle;\n",
       "    }\n",
       "\n",
       "    .dataframe tbody tr th {\n",
       "        vertical-align: top;\n",
       "    }\n",
       "\n",
       "    .dataframe thead th {\n",
       "        text-align: right;\n",
       "    }\n",
       "</style>\n",
       "<table border=\"1\" class=\"dataframe\">\n",
       "  <thead>\n",
       "    <tr style=\"text-align: right;\">\n",
       "      <th></th>\n",
       "      <th>jp_sales</th>\n",
       "    </tr>\n",
       "    <tr>\n",
       "      <th>genre</th>\n",
       "      <th></th>\n",
       "    </tr>\n",
       "  </thead>\n",
       "  <tbody>\n",
       "    <tr>\n",
       "      <th>Role-Playing</th>\n",
       "      <td>355.41</td>\n",
       "    </tr>\n",
       "    <tr>\n",
       "      <th>Action</th>\n",
       "      <td>161.43</td>\n",
       "    </tr>\n",
       "    <tr>\n",
       "      <th>Sports</th>\n",
       "      <td>135.54</td>\n",
       "    </tr>\n",
       "    <tr>\n",
       "      <th>Platform</th>\n",
       "      <td>130.83</td>\n",
       "    </tr>\n",
       "    <tr>\n",
       "      <th>Misc</th>\n",
       "      <td>108.11</td>\n",
       "    </tr>\n",
       "    <tr>\n",
       "      <th>Fighting</th>\n",
       "      <td>87.48</td>\n",
       "    </tr>\n",
       "    <tr>\n",
       "      <th>Others</th>\n",
       "      <td>318.54</td>\n",
       "    </tr>\n",
       "  </tbody>\n",
       "</table>\n",
       "</div>"
      ],
      "text/plain": [
       "              jp_sales\n",
       "genre                 \n",
       "Role-Playing    355.41\n",
       "Action          161.43\n",
       "Sports          135.54\n",
       "Platform        130.83\n",
       "Misc            108.11\n",
       "Fighting         87.48\n",
       "Others          318.54"
      ]
     },
     "metadata": {},
     "output_type": "display_data"
    },
    {
     "data": {
      "image/png": "[encoded data removed]",
      "text/plain": [
       "<Figure size 432x288 with 1 Axes>"
      ]
     },
     "metadata": {},
     "output_type": "display_data"
    },
    {
     "data": {
      "text/html": [
       "<div>\n",
       "<style scoped>\n",
       "    .dataframe tbody tr th:only-of-type {\n",
       "        vertical-align: middle;\n",
       "    }\n",
       "\n",
       "    .dataframe tbody tr th {\n",
       "        vertical-align: top;\n",
       "    }\n",
       "\n",
       "    .dataframe thead th {\n",
       "        text-align: right;\n",
       "    }\n",
       "</style>\n",
       "<table border=\"1\" class=\"dataframe\">\n",
       "  <thead>\n",
       "    <tr style=\"text-align: right;\">\n",
       "      <th></th>\n",
       "      <th>sum</th>\n",
       "      <th>median</th>\n",
       "    </tr>\n",
       "    <tr>\n",
       "      <th>rating</th>\n",
       "      <th></th>\n",
       "      <th></th>\n",
       "    </tr>\n",
       "  </thead>\n",
       "  <tbody>\n",
       "    <tr>\n",
       "      <th>E</th>\n",
       "      <td>198.11</td>\n",
       "      <td>0.10</td>\n",
       "    </tr>\n",
       "    <tr>\n",
       "      <th>E10+</th>\n",
       "      <td>40.20</td>\n",
       "      <td>0.05</td>\n",
       "    </tr>\n",
       "    <tr>\n",
       "      <th>K-A</th>\n",
       "      <td>1.46</td>\n",
       "      <td>1.46</td>\n",
       "    </tr>\n",
       "    <tr>\n",
       "      <th>M</th>\n",
       "      <td>64.24</td>\n",
       "      <td>0.05</td>\n",
       "    </tr>\n",
       "    <tr>\n",
       "      <th>T</th>\n",
       "      <td>151.40</td>\n",
       "      <td>0.07</td>\n",
       "    </tr>\n",
       "  </tbody>\n",
       "</table>\n",
       "</div>"
      ],
      "text/plain": [
       "           sum  median\n",
       "rating                \n",
       "E       198.11    0.10\n",
       "E10+     40.20    0.05\n",
       "K-A       1.46    1.46\n",
       "M        64.24    0.05\n",
       "T       151.40    0.07"
      ]
     },
     "metadata": {},
     "output_type": "display_data"
    },
    {
     "data": {
      "image/png": "[encoded data removed]",
      "text/plain": [
       "<Figure size 576x360 with 1 Axes>"
      ]
     },
     "metadata": {
      "needs_background": "light"
     },
     "output_type": "display_data"
    },
    {
     "data": {
      "image/png": "[encoded data removed]",
      "text/plain": [
       "<Figure size 576x360 with 1 Axes>"
      ]
     },
     "metadata": {
      "needs_background": "light"
     },
     "output_type": "display_data"
    }
   ],
   "source": [
    "portrait_for_region(\"jp_sales\", \"Япония\")"
   ]
  },
  {
   "cell_type": "markdown",
   "metadata": {},
   "source": [
    "Наиболее популярные игровые платформы в Японии: DS, PS, PS2.  \n",
    "Наиболее попуряные жанры в Японии: Role-Playing, Action, Sports.  \n",
    "\n",
    "Суммарное количество проданых копий игр указывает на то, что пользователи в Японии покупают игры с рейтингом E. Но если смотреть медианные значения продаж, без выбросов игр-бестселлеров, то в основном пользователи покупают игры с рейтингом K-A."
   ]
  },
  {
   "cell_type": "markdown",
   "metadata": {},
   "source": [
    "Таким образом, мы можем сделать вывод о том, что пользователи в Северной Америке и Европе схожи по используемым платформам (PS2, X360), игровым жанрам (Action, Sports, Shooter) и рейтингу игр (AO). Однако пользователи в Японии значительно отличаются: больше играют в жанр Role-Playing, больше используют консоли DS (которые производятся в Китае) и предпочитают игры с рейтингом K-A."
   ]
  },
  {
   "cell_type": "markdown",
   "metadata": {},
   "source": [
    "<div class=\"alert alert-block alert-success\">\n",
    " \n",
    "### Комментарий ревьюера\n",
    "    \n",
    "#### Успех\n",
    "    \n",
    "Рассмотрев каждый из регионов мы пришли к выводу, что каждый из них имеет свою специфику. Япония получается наиболее уникальной. "
   ]
  },
  {
   "cell_type": "markdown",
   "metadata": {},
   "source": [
    "## Проверка гипотез"
   ]
  },
  {
   "cell_type": "markdown",
   "metadata": {},
   "source": [
    "### Средние пользовательские рейтинги платформ *Xbox One* и *PC* одинаковые"
   ]
  },
  {
   "cell_type": "markdown",
   "metadata": {},
   "source": [
    "**Нулевая гипотеза (H0):** Средняя оценка пользователя на платформе XOne и средняя оценка пользователя на платформе PC равны.\n",
    "\n",
    "**Альтернативная гипотеза (H1):** Средняя оценка пользователя на платформе XOne и средняя оценка пользователя на платформе PC не равны.\n",
    "\n",
    "В данном случае гипотезы формулируются таким образом, чтобы в нулевой подразумевалось равенство двух выборок. В случае, если нулевая гипотеза отвергается, принимается альтернативная, которая опровергает равеноство выборок."
   ]
  },
  {
   "cell_type": "code",
   "execution_count": 32,
   "metadata": {},
   "outputs": [
    {
     "name": "stdout",
     "output_type": "stream",
     "text": [
      "Размер выборки с оценкой пользователей игр на платформе XOne: 182\n",
      "Размер выборки с оценкой пользователей игр на платформе PC: 770\n"
     ]
    }
   ],
   "source": [
    "# Создадим выборки\n",
    "xone_user_score = games.query('platform == \"XOne\" and user_score != [0, -1]')['user_score']\n",
    "pc_user_score = games.query('platform == \"PC\" and user_score != [0, -1]')['user_score']\n",
    "\n",
    "print(f'Размер выборки с оценкой пользователей игр на платформе XOne: {xone_user_score.count()}')\n",
    "print(f'Размер выборки с оценкой пользователей игр на платформе PC: {pc_user_score.count()}')"
   ]
  },
  {
   "cell_type": "code",
   "execution_count": 33,
   "metadata": {},
   "outputs": [
    {
     "name": "stdout",
     "output_type": "stream",
     "text": [
      "p-значение: 4.935072360183574e-06\n",
      "Отвергаем нулевую гипотезу\n",
      "\n",
      "Проверка\n",
      "Средняя оценка пользователей для платформы XOne: 6.52\n",
      "Средняя оценка пользователей для платформы PC: 7.06\n"
     ]
    }
   ],
   "source": [
    "# Проверим гипотезу, используя метод scipy.stats.ttest_ind, используем параметр equal_var=False, т.к. выборки не равны\n",
    "# Зададим критический уровень статистической значимости, если p-value окажется меньше него, отвергнем гипотезу\n",
    "alpha = 0.05\n",
    "\n",
    "results = st.ttest_ind(xone_user_score, pc_user_score, equal_var=False)\n",
    "\n",
    "print('p-значение:', results.pvalue)\n",
    "\n",
    "if results.pvalue < alpha:\n",
    "    print('Отвергаем нулевую гипотезу')\n",
    "    print()\n",
    "else:\n",
    "    print('Не получилось отвергнуть нулевую гипотезу')\n",
    "    print()\n",
    "    \n",
    "# Для провекри выведем средние значения проверяемых переменных\n",
    "print('Проверка')\n",
    "print(f'Средняя оценка пользователей для платформы XOne: {round((xone_user_score.mean()), 2)}')\n",
    "print(f'Средняя оценка пользователей для платформы PC: {round((pc_user_score.mean()), 2)}')"
   ]
  },
  {
   "cell_type": "markdown",
   "metadata": {},
   "source": [
    "<div class=\"alert alert-block alert-success\">\n",
    " \n",
    "### Комментарий ревьюера\n",
    "    \n",
    "#### Успех\n",
    "    \n",
    "Гипотезы сформулированы и верно определен метод проверки. С выводами согласен"
   ]
  },
  {
   "cell_type": "markdown",
   "metadata": {},
   "source": [
    "Полученное значение p-value значительно меньше заданного уровня значимости, поэтому отвергаем нулевую гипотезу. Средняя оценка пользователя на платформе XOne и средняя оценка пользователя на платформе PC не равны. При выводе средних значений проверяемых переменных для проверки, это подтвердилось."
   ]
  },
  {
   "cell_type": "markdown",
   "metadata": {},
   "source": [
    "### Средние пользовательские рейтинги жанров *Action* (англ. «действие», экшен-игры) и *Sports* (англ. «спортивные соревнования») разные"
   ]
  },
  {
   "cell_type": "markdown",
   "metadata": {},
   "source": [
    "**Нулевая гипотеза (H0):** Средняя оценка пользователя жанра Action и средняя оценка пользователя жанра Sports равны.\n",
    "\n",
    "**Альтернативная гипотеза (H1):** Средняя оценка пользователя жанра Action и средняя оценка пользователя жанра Sports не равны.\n",
    "\n",
    "Как и в первом случае, гипотезы формулируются таким образом, чтобы в нулевой подразумевалось равенство двух выборок. Поэтому, несмотря на то, что в задании говорится о том, что нужно доказать или опровергуть о том, что рейтинги разные, нулевую гипотезу мы формулируем именно от равенства. В случае, если нулевая гипотеза отвергается, принимается альтернативная, которая опровергает равеноство выборок."
   ]
  },
  {
   "cell_type": "code",
   "execution_count": 34,
   "metadata": {},
   "outputs": [
    {
     "name": "stdout",
     "output_type": "stream",
     "text": [
      "Размер выборки с оценкой пользователей игр для жанра Action: 1830\n",
      "Размер выборки с оценкой пользователей для жанра Sports: 1102\n"
     ]
    }
   ],
   "source": [
    "# Создадим выборки\n",
    "action_user_score = games.query('genre == \"Action\" and user_score != [0, -1]')['user_score']\n",
    "sports_user_score = games.query('genre == \"Sports\" and user_score != [0, -1]')['user_score']\n",
    "\n",
    "print(f'Размер выборки с оценкой пользователей игр для жанра Action: {action_user_score.count()}')\n",
    "print(f'Размер выборки с оценкой пользователей для жанра Sports: {sports_user_score.count()}')"
   ]
  },
  {
   "cell_type": "code",
   "execution_count": 35,
   "metadata": {},
   "outputs": [
    {
     "name": "stdout",
     "output_type": "stream",
     "text": [
      "p-значение: 0.12024530426190531\n",
      "Не получилось отвергнуть нулевую гипотезу\n",
      "\n",
      "Проверка\n",
      "Средняя оценка пользователей для жанра Action: 7.05\n",
      "Средняя оценка пользователей для жанра Sports: 6.96\n"
     ]
    }
   ],
   "source": [
    "# Проверим гипотезу, используя метод scipy.stats.ttest_ind, используем параметр equal_var=False, т.к. выборки не равны\n",
    "# Зададим критический уровень статистической значимости, если p-value окажется меньше него, отвергнем гипотезу\n",
    "alpha = 0.05\n",
    "\n",
    "results = st.ttest_ind(action_user_score, sports_user_score, equal_var=False)\n",
    "\n",
    "print('p-значение:', results.pvalue)\n",
    "\n",
    "if results.pvalue < alpha:\n",
    "    print('Отвергаем нулевую гипотезу')\n",
    "    print()\n",
    "else:\n",
    "    print('Не получилось отвергнуть нулевую гипотезу')\n",
    "    print()\n",
    "    \n",
    "# Для провекри выведем средние значения проверяемых переменных\n",
    "print('Проверка')\n",
    "print(f'Средняя оценка пользователей для жанра Action: {round((action_user_score.mean()), 2)}')\n",
    "print(f'Средняя оценка пользователей для жанра Sports: {round((sports_user_score.mean()), 2)}')"
   ]
  },
  {
   "cell_type": "markdown",
   "metadata": {},
   "source": [
    "Полученное значение p-value больше заданного уровня значимости, поэтому нулевая гипотеза подтвердилась. Средняя оценка пользователя жанра Action и средняя оценка пользователя жанра Sports равны. При выводе средних значений проверяемых переменных для проверки, это подтвердилось.\n",
    "\n",
    "Однако в задании гипотеза звучит так: \"Средние пользовательские рейтинги жанров Action и Sports разные\". Она не подтвердиалсь."
   ]
  },
  {
   "cell_type": "markdown",
   "metadata": {},
   "source": [
    "<div class=\"alert alert-block alert-success\">\n",
    " \n",
    "### Комментарий ревьюера\n",
    "    \n",
    "#### Успех\n",
    "    \n",
    "Аналогично"
   ]
  },
  {
   "cell_type": "markdown",
   "metadata": {},
   "source": [
    "# Вывод"
   ]
  },
  {
   "cell_type": "markdown",
   "metadata": {},
   "source": [
    "Были проанализирован датасет с историческими данными о продажах игр, оценках пользователей и экспертов, жанрах и платформах и выявлены закономерности, определяющие успешность игры.\n",
    "\n",
    "В первую очередь была выполнена предобработка данных. Столбцы переименованы в соответствии с принятыми правилами названия, заполнены пропуски и удалены строки с пропусками в критически важных столбцах. Обработаны явные и неявные дубликаты и изменены типы данных для некоторых столбцов. Для дальнейшей работы с датасетом создан столбец с общим количеством проданных копий игр, в млн. шт. \n",
    "\n",
    "Далее был проведен исследовательский анализ данных:\n",
    "- Количество выпускаемых игр по годам\n",
    "- Суммарное количество продаж по платформам\n",
    "- Анализ продаж по платформам за актуальный период\n",
    "- Влияние отзывов пользователей и критиков на продажи\n",
    "- Общее распределение игр по жанрам\n",
    "\n",
    "Видна общая тенденция на рост количества выпускаемых игр с годами. В 2008-2009 годах было выпущено наибольшее количество игр. Резкий спад произошел в 2012 году.  \n",
    "\n",
    "Платформы, с наиболее высокими количествами продаж копий игр: PS2, X360, PS3, Wii, DS, PS. Таким образом, PlayStation 2 и Xbox 360 являются абсолютными лидерами.  \n",
    "\n",
    "Средняя продолжительность жизненного цикла платформы с момента ее появления до закрытия - 9-10 лет. Пик популярности обычно приходит на 5-й год.  \n",
    "\n",
    "К 2016 году платформы X360, PSV, WiiU, PS3, PC имеют несущественные продажи и готовятся к полному исчезновению. Платформа 3DS уже 6 лет на рынке и идет на спад. В 2017 году, вероятно, ситуация не изменится и продажи будут только падать. Платформы XOne и PS4 существуют на рынке всего 4 года и лидируют по продажам. Исходя из выявленной тенденции, в 2017 году игры на этих платформах должны достигнуть пика продаж. Несмотря на то, что с 2015 на 2016 мы видим незначительное снижение. На графике виден спад абсолютно всех продаж в 2016 году, но возможно это связано с тем, что за этот период нет полных данных.\n",
    "\n",
    "Медианные значения количества продаж по всем платформам смещены к 0.2 млн копий. Получается, на всех платформах выходит много игр с относительно небольшими продажами. При этом почти у каждой платформы есть значительные выбросы, по 8-10 игр-бестселлеров.\n",
    "\n",
    "Исходя из данных диаграммы рассеяния и расчета коэффициента корреляции для двух наиболее популярных платформ (PS4 и XOne), зависимость между количеством проданных копий игры и оценкой пользователей практически отсутствует. Зависимость между количеством проданных копий игры и оценкой критиков незначительная: чем выше оценка, тем больше копий игры продано. Хотя и оценки критиков влияют на продажи чуть больше. Эти зависимости подтвердились еще для шести актуальных платформ.\n",
    "\n",
    "Самыми продаваемыми жанрами по суммарным продажам в играх являются Action, Shooter, Sports и Role-Playing. Именно эти жанры продают наибольшее число копий игр. Самые низкие продажи у игр в жанрах Puzzle и Strategy. По медианному количеству продаж немного другая ситуация: лидеры Shooters, Sports, Platform. Такой результат говорит о том, что в жанрах Action есть бестселлеры с многомиллионными продажами или просто бОльшее количество игр. Но если не брать во внимание такие единичные выбросы, то ситуация немного меняется. По обоим графикам жанры Shooter и Sports находятся на лидирующих позициях.\n",
    "\n",
    "После исследовательского анализа данных были составлены портреты пользователей по регионам: Северная Америка, Европа и Япония. Был сделан вывод о том, что пользователи в Северной Америке и Европе схожи по используемым платформам (PS2, X360), игровым жанрам (Action, Sports, Shooter) и рейтингу игр (AO). Однако пользователи в Японии значительно отличаются: больше играют в жанр Role-Playing, больше используют консоли DS (которые производятся в Китае) и предпочитают игры с рейтингом K-A.\n",
    "\n",
    "В завершение были проверены две гипотезы и получены выводы:\n",
    "1. Средняя оценка пользователя на платформе XOne и средняя оценка пользователя на платформе PC не равны.\n",
    "2. Средняя оценка пользователя жанра Action и средняя оценка пользователя жанра Sports равны."
   ]
  },
  {
   "cell_type": "markdown",
   "metadata": {},
   "source": [
    "<div class=\"alert alert-block alert-success\">\n",
    " \n",
    "### Комментарий ревьюера\n",
    "    \n",
    "#### Успех\n",
    "    \n",
    "Вывод получился хорошим дополнением к проекту. С такой работой мы точно сможем составить прогноз продаж на 2017 год. Данных нам точно хватит для корректного проноза продаж. "
   ]
  },
  {
   "cell_type": "markdown",
   "metadata": {},
   "source": [
    "<div class=\"alert alert-block alert-info\">\n",
    "\n",
    "## Итоговый комментарии от ревьюера:\n",
    "    \n",
    "#### Успех\n",
    "\n",
    "Благодарю тебя за выполнение проекта. Мне очень понравилось, как ты разобралась с предобработкой данных. Твои выводы вполне логичны и все на своих местах. Ты подбираешь правильные методы для анализа и строишь хорошие графики. Однако, в проекте есть несколько замечаний, которые надо исправить:\n",
    "\n",
    "* Добавить промежуточные выводы. \n",
    "* Верно оформить некоторые графики. \n",
    "* Подправить актуальный период.\n",
    "* Ящик с усами доработать. \n",
    "* Определить самый успешный жанр по медиане или среднему. \n",
    "       \n",
    "Еще я оставил рекомендации. Очень надеюсь, что ты учтешь их в этом и последующих проектах.\n",
    "       \n",
    "Жду проект после доработки. Уверен, ты справишься.\n",
    "</div>"
   ]
  },
  {
   "cell_type": "markdown",
   "metadata": {},
   "source": [
    "<div class=\"alert alert-info\"> <b>Комментарий студента:</b> \n",
    "\n",
    "Большое спасибо за ревью! Все ошибки и недочеты исправила.\n",
    "    \n",
    "</div>"
   ]
  }
 ],
 "metadata": {
  "ExecuteTimeLog": [
   {
    "duration": 1201,
    "start_time": "2024-07-09T18:02:29.472Z"
   },
   {
    "duration": 129,
    "start_time": "2024-07-09T18:02:30.675Z"
   },
   {
    "duration": 0,
    "start_time": "2024-07-09T18:02:30.805Z"
   },
   {
    "duration": 0,
    "start_time": "2024-07-09T18:02:30.806Z"
   },
   {
    "duration": 0,
    "start_time": "2024-07-09T18:02:30.807Z"
   },
   {
    "duration": 0,
    "start_time": "2024-07-09T18:02:30.808Z"
   },
   {
    "duration": 0,
    "start_time": "2024-07-09T18:02:30.809Z"
   },
   {
    "duration": 0,
    "start_time": "2024-07-09T18:02:30.810Z"
   },
   {
    "duration": 977,
    "start_time": "2024-07-09T18:03:12.072Z"
   },
   {
    "duration": 191,
    "start_time": "2024-07-09T18:03:13.050Z"
   },
   {
    "duration": 18,
    "start_time": "2024-07-09T18:03:13.242Z"
   },
   {
    "duration": 13,
    "start_time": "2024-07-09T18:03:13.262Z"
   },
   {
    "duration": 10,
    "start_time": "2024-07-09T18:03:13.277Z"
   },
   {
    "duration": 8,
    "start_time": "2024-07-09T18:03:13.289Z"
   },
   {
    "duration": 24,
    "start_time": "2024-07-09T18:03:13.299Z"
   },
   {
    "duration": 16,
    "start_time": "2024-07-09T18:03:13.325Z"
   },
   {
    "duration": 18,
    "start_time": "2024-07-09T18:04:59.763Z"
   },
   {
    "duration": 26,
    "start_time": "2024-07-09T18:05:13.534Z"
   },
   {
    "duration": 7,
    "start_time": "2024-07-09T18:05:45.687Z"
   },
   {
    "duration": 1012,
    "start_time": "2024-07-09T18:08:47.744Z"
   },
   {
    "duration": 53,
    "start_time": "2024-07-09T18:08:48.757Z"
   },
   {
    "duration": 17,
    "start_time": "2024-07-09T18:08:48.811Z"
   },
   {
    "duration": 13,
    "start_time": "2024-07-09T18:08:48.829Z"
   },
   {
    "duration": 6,
    "start_time": "2024-07-09T18:08:48.843Z"
   },
   {
    "duration": 16,
    "start_time": "2024-07-09T18:08:48.850Z"
   },
   {
    "duration": 20,
    "start_time": "2024-07-09T18:08:48.868Z"
   },
   {
    "duration": 18,
    "start_time": "2024-07-09T18:08:48.889Z"
   },
   {
    "duration": 21,
    "start_time": "2024-07-09T18:08:48.908Z"
   },
   {
    "duration": 27,
    "start_time": "2024-07-09T18:08:48.931Z"
   },
   {
    "duration": 10,
    "start_time": "2024-07-09T18:08:48.960Z"
   },
   {
    "duration": 91,
    "start_time": "2024-07-09T18:08:48.971Z"
   },
   {
    "duration": 13,
    "start_time": "2024-07-09T18:08:49.063Z"
   },
   {
    "duration": 16,
    "start_time": "2024-07-09T18:08:49.077Z"
   },
   {
    "duration": 3,
    "start_time": "2024-07-09T18:26:38.693Z"
   },
   {
    "duration": 13,
    "start_time": "2024-07-09T18:27:22.918Z"
   },
   {
    "duration": 13,
    "start_time": "2024-07-09T18:27:47.913Z"
   },
   {
    "duration": 1033,
    "start_time": "2024-07-09T18:44:10.417Z"
   },
   {
    "duration": 51,
    "start_time": "2024-07-09T18:44:11.452Z"
   },
   {
    "duration": 14,
    "start_time": "2024-07-09T18:44:11.505Z"
   },
   {
    "duration": 12,
    "start_time": "2024-07-09T18:44:11.521Z"
   },
   {
    "duration": 5,
    "start_time": "2024-07-09T18:44:11.534Z"
   },
   {
    "duration": 8,
    "start_time": "2024-07-09T18:44:11.540Z"
   },
   {
    "duration": 12,
    "start_time": "2024-07-09T18:44:11.549Z"
   },
   {
    "duration": 15,
    "start_time": "2024-07-09T18:44:11.562Z"
   },
   {
    "duration": 47,
    "start_time": "2024-07-09T18:44:11.578Z"
   },
   {
    "duration": 26,
    "start_time": "2024-07-09T18:44:11.627Z"
   },
   {
    "duration": 7,
    "start_time": "2024-07-09T18:44:11.654Z"
   },
   {
    "duration": 23,
    "start_time": "2024-07-09T18:44:11.662Z"
   },
   {
    "duration": 13,
    "start_time": "2024-07-09T18:44:11.686Z"
   },
   {
    "duration": 33,
    "start_time": "2024-07-09T18:44:11.700Z"
   },
   {
    "duration": 14,
    "start_time": "2024-07-09T18:44:11.734Z"
   },
   {
    "duration": 2,
    "start_time": "2024-07-09T18:44:11.749Z"
   },
   {
    "duration": 6,
    "start_time": "2024-07-09T18:47:12.603Z"
   },
   {
    "duration": 101,
    "start_time": "2024-07-09T18:47:39.519Z"
   },
   {
    "duration": 7,
    "start_time": "2024-07-09T18:47:50.438Z"
   },
   {
    "duration": 7,
    "start_time": "2024-07-09T18:47:58.774Z"
   },
   {
    "duration": 5,
    "start_time": "2024-07-09T18:48:56.494Z"
   },
   {
    "duration": 59,
    "start_time": "2024-07-09T18:50:46.137Z"
   },
   {
    "duration": 289,
    "start_time": "2024-07-09T18:50:59.740Z"
   },
   {
    "duration": 274,
    "start_time": "2024-07-09T18:52:18.657Z"
   },
   {
    "duration": 263,
    "start_time": "2024-07-09T18:52:47.124Z"
   },
   {
    "duration": 1019,
    "start_time": "2024-07-09T18:53:44.015Z"
   },
   {
    "duration": 52,
    "start_time": "2024-07-09T18:53:45.036Z"
   },
   {
    "duration": 17,
    "start_time": "2024-07-09T18:53:45.089Z"
   },
   {
    "duration": 30,
    "start_time": "2024-07-09T18:53:45.108Z"
   },
   {
    "duration": 21,
    "start_time": "2024-07-09T18:53:45.141Z"
   },
   {
    "duration": 64,
    "start_time": "2024-07-09T18:53:45.164Z"
   },
   {
    "duration": 30,
    "start_time": "2024-07-09T18:53:45.230Z"
   },
   {
    "duration": 45,
    "start_time": "2024-07-09T18:53:45.262Z"
   },
   {
    "duration": 18,
    "start_time": "2024-07-09T18:53:45.309Z"
   },
   {
    "duration": 50,
    "start_time": "2024-07-09T18:53:45.328Z"
   },
   {
    "duration": 7,
    "start_time": "2024-07-09T18:53:45.379Z"
   },
   {
    "duration": 29,
    "start_time": "2024-07-09T18:53:45.387Z"
   },
   {
    "duration": 15,
    "start_time": "2024-07-09T18:53:45.418Z"
   },
   {
    "duration": 15,
    "start_time": "2024-07-09T18:53:45.436Z"
   },
   {
    "duration": 16,
    "start_time": "2024-07-09T18:53:45.452Z"
   },
   {
    "duration": 305,
    "start_time": "2024-07-09T18:53:45.470Z"
   },
   {
    "duration": 2,
    "start_time": "2024-07-09T18:53:45.776Z"
   },
   {
    "duration": 307,
    "start_time": "2024-07-09T18:54:25.456Z"
   },
   {
    "duration": 272,
    "start_time": "2024-07-09T18:56:09.031Z"
   },
   {
    "duration": 276,
    "start_time": "2024-07-09T18:56:59.699Z"
   },
   {
    "duration": 308,
    "start_time": "2024-07-09T18:57:13.895Z"
   },
   {
    "duration": 107,
    "start_time": "2024-07-09T18:59:20.717Z"
   },
   {
    "duration": 270,
    "start_time": "2024-07-09T19:00:00.940Z"
   },
   {
    "duration": 289,
    "start_time": "2024-07-09T19:00:22.390Z"
   },
   {
    "duration": 6,
    "start_time": "2024-07-09T19:08:56.437Z"
   },
   {
    "duration": 90,
    "start_time": "2024-07-09T19:24:24.447Z"
   },
   {
    "duration": 84,
    "start_time": "2024-07-09T19:24:48.436Z"
   },
   {
    "duration": 83,
    "start_time": "2024-07-09T19:25:14.882Z"
   },
   {
    "duration": 41,
    "start_time": "2024-07-09T19:25:37.109Z"
   },
   {
    "duration": 120,
    "start_time": "2024-07-09T19:28:34.983Z"
   },
   {
    "duration": 42,
    "start_time": "2024-07-09T19:28:47.292Z"
   },
   {
    "duration": 16,
    "start_time": "2024-07-09T19:31:18.756Z"
   },
   {
    "duration": 15,
    "start_time": "2024-07-09T19:31:50.264Z"
   },
   {
    "duration": 9,
    "start_time": "2024-07-09T19:32:32.947Z"
   },
   {
    "duration": 7,
    "start_time": "2024-07-09T19:33:09.581Z"
   },
   {
    "duration": 15,
    "start_time": "2024-07-09T19:33:43.222Z"
   },
   {
    "duration": 15,
    "start_time": "2024-07-09T19:34:26.520Z"
   },
   {
    "duration": 9,
    "start_time": "2024-07-09T19:35:07.765Z"
   },
   {
    "duration": 15,
    "start_time": "2024-07-09T19:35:24.102Z"
   },
   {
    "duration": 14,
    "start_time": "2024-07-09T19:35:31.299Z"
   },
   {
    "duration": 12,
    "start_time": "2024-07-09T19:35:55.996Z"
   },
   {
    "duration": 14,
    "start_time": "2024-07-09T19:36:03.874Z"
   },
   {
    "duration": 14,
    "start_time": "2024-07-09T19:38:01.371Z"
   },
   {
    "duration": 13,
    "start_time": "2024-07-09T19:38:15.942Z"
   },
   {
    "duration": 15,
    "start_time": "2024-07-09T19:38:24.399Z"
   },
   {
    "duration": 14,
    "start_time": "2024-07-09T19:38:47.506Z"
   },
   {
    "duration": 58,
    "start_time": "2024-07-09T19:39:16.757Z"
   },
   {
    "duration": 51,
    "start_time": "2024-07-09T19:39:25.531Z"
   },
   {
    "duration": 58,
    "start_time": "2024-07-09T19:39:30.020Z"
   },
   {
    "duration": 15,
    "start_time": "2024-07-09T19:39:58.105Z"
   },
   {
    "duration": 14,
    "start_time": "2024-07-09T19:40:17.059Z"
   },
   {
    "duration": 14,
    "start_time": "2024-07-09T19:42:15.757Z"
   },
   {
    "duration": 50,
    "start_time": "2024-07-09T19:49:51.522Z"
   },
   {
    "duration": 77,
    "start_time": "2024-07-09T19:50:01.162Z"
   },
   {
    "duration": 54,
    "start_time": "2024-07-09T19:50:08.461Z"
   },
   {
    "duration": 90,
    "start_time": "2024-07-09T19:51:29.004Z"
   },
   {
    "duration": 126,
    "start_time": "2024-07-09T19:52:09.169Z"
   },
   {
    "duration": 79,
    "start_time": "2024-07-09T19:52:35.238Z"
   },
   {
    "duration": 47,
    "start_time": "2024-07-10T06:46:04.879Z"
   },
   {
    "duration": 1260,
    "start_time": "2024-07-10T06:46:09.500Z"
   },
   {
    "duration": 105,
    "start_time": "2024-07-10T06:46:10.762Z"
   },
   {
    "duration": 19,
    "start_time": "2024-07-10T06:46:10.869Z"
   },
   {
    "duration": 21,
    "start_time": "2024-07-10T06:46:10.890Z"
   },
   {
    "duration": 10,
    "start_time": "2024-07-10T06:46:10.913Z"
   },
   {
    "duration": 21,
    "start_time": "2024-07-10T06:46:10.924Z"
   },
   {
    "duration": 13,
    "start_time": "2024-07-10T06:46:10.947Z"
   },
   {
    "duration": 17,
    "start_time": "2024-07-10T06:46:10.961Z"
   },
   {
    "duration": 13,
    "start_time": "2024-07-10T06:46:10.979Z"
   },
   {
    "duration": 96,
    "start_time": "2024-07-10T06:46:10.995Z"
   },
   {
    "duration": 8,
    "start_time": "2024-07-10T06:46:11.092Z"
   },
   {
    "duration": 26,
    "start_time": "2024-07-10T06:46:11.101Z"
   },
   {
    "duration": 14,
    "start_time": "2024-07-10T06:46:11.129Z"
   },
   {
    "duration": 16,
    "start_time": "2024-07-10T06:46:11.145Z"
   },
   {
    "duration": 15,
    "start_time": "2024-07-10T06:46:11.163Z"
   },
   {
    "duration": 371,
    "start_time": "2024-07-10T06:46:11.179Z"
   },
   {
    "duration": 19,
    "start_time": "2024-07-10T06:46:11.552Z"
   },
   {
    "duration": 99,
    "start_time": "2024-07-10T06:46:11.581Z"
   },
   {
    "duration": 0,
    "start_time": "2024-07-10T06:46:11.681Z"
   },
   {
    "duration": 0,
    "start_time": "2024-07-10T06:46:11.683Z"
   },
   {
    "duration": 12,
    "start_time": "2024-07-10T06:46:23.924Z"
   },
   {
    "duration": 46,
    "start_time": "2024-07-10T06:46:30.685Z"
   },
   {
    "duration": 73,
    "start_time": "2024-07-10T06:48:41.464Z"
   },
   {
    "duration": 49,
    "start_time": "2024-07-10T06:48:50.559Z"
   },
   {
    "duration": 33,
    "start_time": "2024-07-10T06:51:08.071Z"
   },
   {
    "duration": 38,
    "start_time": "2024-07-10T06:52:06.037Z"
   },
   {
    "duration": 871,
    "start_time": "2024-07-10T06:56:07.932Z"
   },
   {
    "duration": 858,
    "start_time": "2024-07-10T06:57:40.343Z"
   },
   {
    "duration": 705,
    "start_time": "2024-07-10T06:59:04.323Z"
   },
   {
    "duration": 302,
    "start_time": "2024-07-10T07:01:11.340Z"
   },
   {
    "duration": 68,
    "start_time": "2024-07-10T07:01:36.877Z"
   },
   {
    "duration": 382,
    "start_time": "2024-07-10T07:01:46.022Z"
   },
   {
    "duration": 287,
    "start_time": "2024-07-10T07:02:33.191Z"
   },
   {
    "duration": 301,
    "start_time": "2024-07-10T07:02:49.015Z"
   },
   {
    "duration": 62,
    "start_time": "2024-07-10T07:05:38.017Z"
   },
   {
    "duration": 773,
    "start_time": "2024-07-10T07:05:42.887Z"
   },
   {
    "duration": 23,
    "start_time": "2024-07-10T07:06:16.087Z"
   },
   {
    "duration": 43,
    "start_time": "2024-07-10T07:06:36.958Z"
   },
   {
    "duration": 986,
    "start_time": "2024-07-10T07:12:29.470Z"
   },
   {
    "duration": 27,
    "start_time": "2024-07-10T07:12:48.423Z"
   },
   {
    "duration": 852,
    "start_time": "2024-07-10T07:12:48.719Z"
   },
   {
    "duration": 26,
    "start_time": "2024-07-10T07:13:10.024Z"
   },
   {
    "duration": 59,
    "start_time": "2024-07-10T07:15:17.292Z"
   },
   {
    "duration": 67,
    "start_time": "2024-07-10T07:15:40.020Z"
   },
   {
    "duration": 30,
    "start_time": "2024-07-10T07:15:46.195Z"
   },
   {
    "duration": 28,
    "start_time": "2024-07-10T07:16:00.691Z"
   },
   {
    "duration": 27,
    "start_time": "2024-07-10T07:16:36.268Z"
   },
   {
    "duration": 62,
    "start_time": "2024-07-10T07:16:51.307Z"
   },
   {
    "duration": 60,
    "start_time": "2024-07-10T07:19:14.402Z"
   },
   {
    "duration": 60,
    "start_time": "2024-07-10T07:19:43.546Z"
   },
   {
    "duration": 58,
    "start_time": "2024-07-10T07:19:56.164Z"
   },
   {
    "duration": 1000,
    "start_time": "2024-07-10T07:20:12.598Z"
   },
   {
    "duration": 54,
    "start_time": "2024-07-10T07:20:13.599Z"
   },
   {
    "duration": 18,
    "start_time": "2024-07-10T07:20:13.655Z"
   },
   {
    "duration": 40,
    "start_time": "2024-07-10T07:20:13.676Z"
   },
   {
    "duration": 18,
    "start_time": "2024-07-10T07:20:13.717Z"
   },
   {
    "duration": 17,
    "start_time": "2024-07-10T07:20:13.737Z"
   },
   {
    "duration": 13,
    "start_time": "2024-07-10T07:20:13.756Z"
   },
   {
    "duration": 23,
    "start_time": "2024-07-10T07:20:13.770Z"
   },
   {
    "duration": 17,
    "start_time": "2024-07-10T07:20:13.794Z"
   },
   {
    "duration": 45,
    "start_time": "2024-07-10T07:20:13.813Z"
   },
   {
    "duration": 10,
    "start_time": "2024-07-10T07:20:13.860Z"
   },
   {
    "duration": 24,
    "start_time": "2024-07-10T07:20:13.871Z"
   },
   {
    "duration": 30,
    "start_time": "2024-07-10T07:20:13.897Z"
   },
   {
    "duration": 27,
    "start_time": "2024-07-10T07:20:13.929Z"
   },
   {
    "duration": 20,
    "start_time": "2024-07-10T07:20:13.957Z"
   },
   {
    "duration": 309,
    "start_time": "2024-07-10T07:20:13.978Z"
   },
   {
    "duration": 292,
    "start_time": "2024-07-10T07:20:14.288Z"
   },
   {
    "duration": 64,
    "start_time": "2024-07-10T07:20:14.582Z"
   },
   {
    "duration": 818,
    "start_time": "2024-07-10T07:20:14.647Z"
   },
   {
    "duration": 69,
    "start_time": "2024-07-10T07:20:15.467Z"
   },
   {
    "duration": 0,
    "start_time": "2024-07-10T07:20:15.538Z"
   },
   {
    "duration": 59,
    "start_time": "2024-07-10T07:20:29.341Z"
   },
   {
    "duration": 60,
    "start_time": "2024-07-10T07:20:56.070Z"
   },
   {
    "duration": 114,
    "start_time": "2024-07-10T07:23:00.948Z"
   },
   {
    "duration": 25,
    "start_time": "2024-07-10T07:23:21.609Z"
   },
   {
    "duration": 39,
    "start_time": "2024-07-10T07:24:27.489Z"
   },
   {
    "duration": 1008,
    "start_time": "2024-07-10T07:29:10.067Z"
   },
   {
    "duration": 25,
    "start_time": "2024-07-10T07:29:49.937Z"
   },
   {
    "duration": 39,
    "start_time": "2024-07-10T07:34:11.218Z"
   },
   {
    "duration": 37,
    "start_time": "2024-07-10T07:37:26.349Z"
   },
   {
    "duration": 22,
    "start_time": "2024-07-10T07:38:36.210Z"
   },
   {
    "duration": 1046,
    "start_time": "2024-07-10T07:42:13.511Z"
   },
   {
    "duration": 81,
    "start_time": "2024-07-10T07:42:51.686Z"
   },
   {
    "duration": 986,
    "start_time": "2024-07-10T07:42:58.214Z"
   },
   {
    "duration": 764,
    "start_time": "2024-07-10T07:43:17.176Z"
   },
   {
    "duration": 42,
    "start_time": "2024-07-10T07:45:30.190Z"
   },
   {
    "duration": 8,
    "start_time": "2024-07-10T07:45:48.258Z"
   },
   {
    "duration": 653,
    "start_time": "2024-07-10T07:45:57.043Z"
   },
   {
    "duration": 38,
    "start_time": "2024-07-10T07:46:28.755Z"
   },
   {
    "duration": 290,
    "start_time": "2024-07-10T07:46:36.166Z"
   },
   {
    "duration": 1872,
    "start_time": "2024-07-10T07:47:25.719Z"
   },
   {
    "duration": 48,
    "start_time": "2024-07-10T07:49:17.583Z"
   },
   {
    "duration": 43,
    "start_time": "2024-07-10T07:50:40.709Z"
   },
   {
    "duration": 318,
    "start_time": "2024-07-10T07:50:54.957Z"
   },
   {
    "duration": 559,
    "start_time": "2024-07-10T07:52:29.074Z"
   },
   {
    "duration": 517,
    "start_time": "2024-07-10T07:52:38.786Z"
   },
   {
    "duration": 526,
    "start_time": "2024-07-10T07:53:32.955Z"
   },
   {
    "duration": 495,
    "start_time": "2024-07-10T07:53:51.202Z"
   },
   {
    "duration": 497,
    "start_time": "2024-07-10T07:59:13.387Z"
   },
   {
    "duration": 25,
    "start_time": "2024-07-10T07:59:29.440Z"
   },
   {
    "duration": 55,
    "start_time": "2024-07-10T08:00:11.519Z"
   },
   {
    "duration": 470,
    "start_time": "2024-07-10T08:00:40.148Z"
   },
   {
    "duration": 379,
    "start_time": "2024-07-10T08:00:51.853Z"
   },
   {
    "duration": 32,
    "start_time": "2024-07-10T08:01:55.830Z"
   },
   {
    "duration": 68,
    "start_time": "2024-07-10T08:02:58.907Z"
   },
   {
    "duration": 800,
    "start_time": "2024-07-10T08:04:00.203Z"
   },
   {
    "duration": 34,
    "start_time": "2024-07-10T08:04:21.514Z"
   },
   {
    "duration": 37,
    "start_time": "2024-07-10T08:05:07.491Z"
   },
   {
    "duration": 14,
    "start_time": "2024-07-10T08:05:18.331Z"
   },
   {
    "duration": 13,
    "start_time": "2024-07-10T08:05:50.463Z"
   },
   {
    "duration": 32,
    "start_time": "2024-07-10T08:06:02.592Z"
   },
   {
    "duration": 81,
    "start_time": "2024-07-10T08:16:28.066Z"
   },
   {
    "duration": 87,
    "start_time": "2024-07-10T08:16:39.909Z"
   },
   {
    "duration": 19,
    "start_time": "2024-07-10T08:16:56.313Z"
   },
   {
    "duration": 19,
    "start_time": "2024-07-10T08:17:49.970Z"
   },
   {
    "duration": 19,
    "start_time": "2024-07-10T08:18:42.655Z"
   },
   {
    "duration": 18,
    "start_time": "2024-07-10T08:21:28.242Z"
   },
   {
    "duration": 990,
    "start_time": "2024-07-10T08:21:37.488Z"
   },
   {
    "duration": 53,
    "start_time": "2024-07-10T08:21:38.480Z"
   },
   {
    "duration": 17,
    "start_time": "2024-07-10T08:21:38.534Z"
   },
   {
    "duration": 16,
    "start_time": "2024-07-10T08:21:38.552Z"
   },
   {
    "duration": 15,
    "start_time": "2024-07-10T08:21:38.569Z"
   },
   {
    "duration": 12,
    "start_time": "2024-07-10T08:21:38.586Z"
   },
   {
    "duration": 18,
    "start_time": "2024-07-10T08:21:38.599Z"
   },
   {
    "duration": 38,
    "start_time": "2024-07-10T08:21:38.618Z"
   },
   {
    "duration": 13,
    "start_time": "2024-07-10T08:21:38.657Z"
   },
   {
    "duration": 29,
    "start_time": "2024-07-10T08:21:38.673Z"
   },
   {
    "duration": 8,
    "start_time": "2024-07-10T08:21:38.703Z"
   },
   {
    "duration": 38,
    "start_time": "2024-07-10T08:21:38.713Z"
   },
   {
    "duration": 13,
    "start_time": "2024-07-10T08:21:38.752Z"
   },
   {
    "duration": 29,
    "start_time": "2024-07-10T08:21:38.766Z"
   },
   {
    "duration": 14,
    "start_time": "2024-07-10T08:21:38.797Z"
   },
   {
    "duration": 342,
    "start_time": "2024-07-10T08:21:38.813Z"
   },
   {
    "duration": 283,
    "start_time": "2024-07-10T08:21:39.157Z"
   },
   {
    "duration": 505,
    "start_time": "2024-07-10T08:21:39.442Z"
   },
   {
    "duration": 104,
    "start_time": "2024-07-10T08:21:39.948Z"
   },
   {
    "duration": 0,
    "start_time": "2024-07-10T08:21:40.053Z"
   },
   {
    "duration": 16,
    "start_time": "2024-07-10T08:23:15.401Z"
   },
   {
    "duration": 48,
    "start_time": "2024-07-10T08:23:58.371Z"
   },
   {
    "duration": 36,
    "start_time": "2024-07-10T08:24:11.481Z"
   },
   {
    "duration": 38,
    "start_time": "2024-07-10T08:24:39.589Z"
   },
   {
    "duration": 44,
    "start_time": "2024-07-10T08:24:51.423Z"
   },
   {
    "duration": 47,
    "start_time": "2024-07-10T08:25:07.436Z"
   },
   {
    "duration": 27,
    "start_time": "2024-07-10T08:25:23.005Z"
   },
   {
    "duration": 532,
    "start_time": "2024-07-10T08:27:11.542Z"
   },
   {
    "duration": 625,
    "start_time": "2024-07-10T08:27:29.328Z"
   },
   {
    "duration": 1064,
    "start_time": "2024-07-10T08:30:12.532Z"
   },
   {
    "duration": 505,
    "start_time": "2024-07-10T08:33:32.160Z"
   },
   {
    "duration": 621,
    "start_time": "2024-07-10T08:34:16.992Z"
   },
   {
    "duration": 639,
    "start_time": "2024-07-10T08:34:29.613Z"
   },
   {
    "duration": 51,
    "start_time": "2024-07-10T11:57:34.838Z"
   },
   {
    "duration": 1233,
    "start_time": "2024-07-10T11:57:40.128Z"
   },
   {
    "duration": 107,
    "start_time": "2024-07-10T11:57:41.363Z"
   },
   {
    "duration": 17,
    "start_time": "2024-07-10T11:57:41.472Z"
   },
   {
    "duration": 13,
    "start_time": "2024-07-10T11:57:41.492Z"
   },
   {
    "duration": 7,
    "start_time": "2024-07-10T11:57:41.507Z"
   },
   {
    "duration": 15,
    "start_time": "2024-07-10T11:57:41.516Z"
   },
   {
    "duration": 15,
    "start_time": "2024-07-10T11:57:41.532Z"
   },
   {
    "duration": 17,
    "start_time": "2024-07-10T11:57:41.548Z"
   },
   {
    "duration": 13,
    "start_time": "2024-07-10T11:57:41.566Z"
   },
   {
    "duration": 56,
    "start_time": "2024-07-10T11:57:41.581Z"
   },
   {
    "duration": 7,
    "start_time": "2024-07-10T11:57:41.639Z"
   },
   {
    "duration": 16,
    "start_time": "2024-07-10T11:57:41.648Z"
   },
   {
    "duration": 14,
    "start_time": "2024-07-10T11:57:41.665Z"
   },
   {
    "duration": 45,
    "start_time": "2024-07-10T11:57:41.681Z"
   },
   {
    "duration": 14,
    "start_time": "2024-07-10T11:57:41.728Z"
   },
   {
    "duration": 329,
    "start_time": "2024-07-10T11:57:41.744Z"
   },
   {
    "duration": 283,
    "start_time": "2024-07-10T11:57:42.075Z"
   },
   {
    "duration": 507,
    "start_time": "2024-07-10T11:57:42.359Z"
   },
   {
    "duration": 591,
    "start_time": "2024-07-10T11:57:42.868Z"
   },
   {
    "duration": 2,
    "start_time": "2024-07-10T11:57:43.461Z"
   },
   {
    "duration": 492,
    "start_time": "2024-07-10T11:58:29.599Z"
   },
   {
    "duration": 100,
    "start_time": "2024-07-10T12:13:35.630Z"
   },
   {
    "duration": 14,
    "start_time": "2024-07-10T12:13:43.773Z"
   },
   {
    "duration": 344,
    "start_time": "2024-07-10T12:17:50.995Z"
   },
   {
    "duration": 8,
    "start_time": "2024-07-10T12:51:00.322Z"
   },
   {
    "duration": 37,
    "start_time": "2024-07-10T12:53:01.736Z"
   },
   {
    "duration": 35,
    "start_time": "2024-07-10T12:53:14.727Z"
   },
   {
    "duration": 32,
    "start_time": "2024-07-10T12:53:25.243Z"
   },
   {
    "duration": 34,
    "start_time": "2024-07-10T12:54:13.801Z"
   },
   {
    "duration": 546,
    "start_time": "2024-07-10T12:54:41.707Z"
   },
   {
    "duration": 61,
    "start_time": "2024-07-10T12:55:58.025Z"
   },
   {
    "duration": 81,
    "start_time": "2024-07-10T12:56:36.543Z"
   },
   {
    "duration": 4,
    "start_time": "2024-07-10T12:56:45.695Z"
   },
   {
    "duration": 36,
    "start_time": "2024-07-10T12:56:56.406Z"
   },
   {
    "duration": 36,
    "start_time": "2024-07-10T12:57:25.189Z"
   },
   {
    "duration": 140,
    "start_time": "2024-07-10T12:57:36.118Z"
   },
   {
    "duration": 127,
    "start_time": "2024-07-10T12:57:51.557Z"
   },
   {
    "duration": 38,
    "start_time": "2024-07-10T12:58:16.763Z"
   },
   {
    "duration": 55,
    "start_time": "2024-07-10T13:00:04.780Z"
   },
   {
    "duration": 43,
    "start_time": "2024-07-10T13:00:24.204Z"
   },
   {
    "duration": 133,
    "start_time": "2024-07-10T13:00:36.164Z"
   },
   {
    "duration": 128,
    "start_time": "2024-07-10T13:00:42.322Z"
   },
   {
    "duration": 40,
    "start_time": "2024-07-10T13:00:49.642Z"
   },
   {
    "duration": 47,
    "start_time": "2024-07-10T13:01:17.057Z"
   },
   {
    "duration": 43,
    "start_time": "2024-07-10T13:01:39.953Z"
   },
   {
    "duration": 131,
    "start_time": "2024-07-10T13:03:44.133Z"
   },
   {
    "duration": 130,
    "start_time": "2024-07-10T13:04:07.943Z"
   },
   {
    "duration": 107,
    "start_time": "2024-07-10T13:10:07.832Z"
   },
   {
    "duration": 111,
    "start_time": "2024-07-10T13:11:29.827Z"
   },
   {
    "duration": 256,
    "start_time": "2024-07-10T13:13:25.187Z"
   },
   {
    "duration": 150,
    "start_time": "2024-07-10T13:15:54.410Z"
   },
   {
    "duration": 215,
    "start_time": "2024-07-10T13:16:52.303Z"
   },
   {
    "duration": 250,
    "start_time": "2024-07-10T13:17:30.485Z"
   },
   {
    "duration": 272,
    "start_time": "2024-07-10T13:18:31.914Z"
   },
   {
    "duration": 298,
    "start_time": "2024-07-10T13:29:40.917Z"
   },
   {
    "duration": 297,
    "start_time": "2024-07-10T13:32:00.263Z"
   },
   {
    "duration": 1011,
    "start_time": "2024-07-10T14:05:24.328Z"
   },
   {
    "duration": 2228,
    "start_time": "2024-07-10T14:05:40.599Z"
   },
   {
    "duration": 8,
    "start_time": "2024-07-10T14:06:03.455Z"
   },
   {
    "duration": 12,
    "start_time": "2024-07-10T14:06:10.246Z"
   },
   {
    "duration": 13,
    "start_time": "2024-07-10T14:06:24.481Z"
   },
   {
    "duration": 27,
    "start_time": "2024-07-10T14:06:55.752Z"
   },
   {
    "duration": 13,
    "start_time": "2024-07-10T14:06:59.633Z"
   },
   {
    "duration": 14,
    "start_time": "2024-07-10T14:07:37.666Z"
   },
   {
    "duration": 11,
    "start_time": "2024-07-10T14:07:42.997Z"
   },
   {
    "duration": 150,
    "start_time": "2024-07-10T14:15:13.504Z"
   },
   {
    "duration": 64,
    "start_time": "2024-07-10T14:19:21.149Z"
   },
   {
    "duration": 137,
    "start_time": "2024-07-10T14:19:46.356Z"
   },
   {
    "duration": 208,
    "start_time": "2024-07-10T14:19:56.915Z"
   },
   {
    "duration": 136,
    "start_time": "2024-07-10T14:20:40.098Z"
   },
   {
    "duration": 137,
    "start_time": "2024-07-10T14:20:47.847Z"
   },
   {
    "duration": 138,
    "start_time": "2024-07-10T14:20:59.305Z"
   },
   {
    "duration": 137,
    "start_time": "2024-07-10T14:21:56.762Z"
   },
   {
    "duration": 137,
    "start_time": "2024-07-10T14:23:48.862Z"
   },
   {
    "duration": 15,
    "start_time": "2024-07-10T14:27:47.284Z"
   },
   {
    "duration": 20,
    "start_time": "2024-07-10T14:28:08.085Z"
   },
   {
    "duration": 21,
    "start_time": "2024-07-10T14:28:48.373Z"
   },
   {
    "duration": 7,
    "start_time": "2024-07-10T14:33:12.582Z"
   },
   {
    "duration": 4,
    "start_time": "2024-07-10T14:33:24.647Z"
   },
   {
    "duration": 7,
    "start_time": "2024-07-10T14:33:27.198Z"
   },
   {
    "duration": 134,
    "start_time": "2024-07-10T14:33:37.805Z"
   },
   {
    "duration": 269,
    "start_time": "2024-07-10T14:33:59.116Z"
   },
   {
    "duration": 270,
    "start_time": "2024-07-10T14:34:28.581Z"
   },
   {
    "duration": 4,
    "start_time": "2024-07-10T14:35:13.883Z"
   },
   {
    "duration": 270,
    "start_time": "2024-07-10T14:35:16.301Z"
   },
   {
    "duration": 4,
    "start_time": "2024-07-10T14:50:43.707Z"
   },
   {
    "duration": 319,
    "start_time": "2024-07-10T14:50:59.829Z"
   },
   {
    "duration": 23,
    "start_time": "2024-07-10T14:55:45.495Z"
   },
   {
    "duration": 27,
    "start_time": "2024-07-10T15:04:15.364Z"
   },
   {
    "duration": 20,
    "start_time": "2024-07-10T15:04:58.850Z"
   },
   {
    "duration": 22,
    "start_time": "2024-07-10T15:05:52.215Z"
   },
   {
    "duration": 263,
    "start_time": "2024-07-10T15:06:46.330Z"
   },
   {
    "duration": 1013,
    "start_time": "2024-07-10T15:11:42.654Z"
   },
   {
    "duration": 20,
    "start_time": "2024-07-10T15:12:27.913Z"
   },
   {
    "duration": 1156,
    "start_time": "2024-07-10T15:14:19.637Z"
   },
   {
    "duration": 1692,
    "start_time": "2024-07-10T15:15:17.526Z"
   },
   {
    "duration": 15,
    "start_time": "2024-07-10T15:29:57.003Z"
   },
   {
    "duration": 20,
    "start_time": "2024-07-10T15:30:21.472Z"
   },
   {
    "duration": 272,
    "start_time": "2024-07-10T15:32:37.895Z"
   },
   {
    "duration": 225,
    "start_time": "2024-07-10T15:32:59.758Z"
   },
   {
    "duration": 54,
    "start_time": "2024-07-10T15:33:48.084Z"
   },
   {
    "duration": 223,
    "start_time": "2024-07-10T15:33:54.954Z"
   },
   {
    "duration": 200,
    "start_time": "2024-07-10T15:34:12.163Z"
   },
   {
    "duration": 203,
    "start_time": "2024-07-10T15:34:31.338Z"
   },
   {
    "duration": 428,
    "start_time": "2024-07-10T15:34:59.372Z"
   },
   {
    "duration": 381,
    "start_time": "2024-07-10T15:37:39.802Z"
   },
   {
    "duration": 8,
    "start_time": "2024-07-10T16:30:46.615Z"
   },
   {
    "duration": 16,
    "start_time": "2024-07-10T16:32:00.690Z"
   },
   {
    "duration": 30,
    "start_time": "2024-07-10T16:32:14.703Z"
   },
   {
    "duration": 530,
    "start_time": "2024-07-10T16:35:06.826Z"
   },
   {
    "duration": 4,
    "start_time": "2024-07-10T16:37:23.170Z"
   },
   {
    "duration": 279,
    "start_time": "2024-07-10T16:38:22.063Z"
   },
   {
    "duration": 10,
    "start_time": "2024-07-10T16:38:30.133Z"
   },
   {
    "duration": 296,
    "start_time": "2024-07-10T16:38:36.567Z"
   },
   {
    "duration": 542,
    "start_time": "2024-07-10T16:40:27.872Z"
   },
   {
    "duration": 483,
    "start_time": "2024-07-10T16:41:03.264Z"
   },
   {
    "duration": 18,
    "start_time": "2024-07-10T16:46:22.516Z"
   },
   {
    "duration": 17,
    "start_time": "2024-07-10T16:46:49.004Z"
   },
   {
    "duration": 16,
    "start_time": "2024-07-10T16:47:09.056Z"
   },
   {
    "duration": 968,
    "start_time": "2024-07-10T16:47:42.975Z"
   },
   {
    "duration": 165,
    "start_time": "2024-07-10T16:48:08.808Z"
   },
   {
    "duration": 18,
    "start_time": "2024-07-10T16:48:17.693Z"
   },
   {
    "duration": 22,
    "start_time": "2024-07-10T16:48:38.574Z"
   },
   {
    "duration": 26,
    "start_time": "2024-07-10T16:48:58.894Z"
   },
   {
    "duration": 61,
    "start_time": "2024-07-10T16:49:47.102Z"
   },
   {
    "duration": 5,
    "start_time": "2024-07-10T16:50:52.329Z"
   },
   {
    "duration": 22,
    "start_time": "2024-07-10T16:51:09.393Z"
   },
   {
    "duration": 23,
    "start_time": "2024-07-10T16:51:31.266Z"
   },
   {
    "duration": 15,
    "start_time": "2024-07-10T16:51:50.133Z"
   },
   {
    "duration": 19,
    "start_time": "2024-07-10T16:52:32.870Z"
   },
   {
    "duration": 17,
    "start_time": "2024-07-10T16:55:13.765Z"
   },
   {
    "duration": 22,
    "start_time": "2024-07-10T16:55:27.374Z"
   },
   {
    "duration": 22,
    "start_time": "2024-07-10T16:55:51.053Z"
   },
   {
    "duration": 24,
    "start_time": "2024-07-10T16:56:04.071Z"
   },
   {
    "duration": 24,
    "start_time": "2024-07-10T16:56:40.999Z"
   },
   {
    "duration": 21,
    "start_time": "2024-07-10T16:57:25.413Z"
   },
   {
    "duration": 29,
    "start_time": "2024-07-10T16:58:01.538Z"
   },
   {
    "duration": 120,
    "start_time": "2024-07-10T17:00:11.018Z"
   },
   {
    "duration": 137,
    "start_time": "2024-07-10T17:02:46.113Z"
   },
   {
    "duration": 143,
    "start_time": "2024-07-10T17:03:58.621Z"
   },
   {
    "duration": 126,
    "start_time": "2024-07-10T17:06:06.484Z"
   },
   {
    "duration": 126,
    "start_time": "2024-07-10T17:07:10.882Z"
   },
   {
    "duration": 1164,
    "start_time": "2024-07-10T17:11:07.805Z"
   },
   {
    "duration": 21,
    "start_time": "2024-07-10T17:11:39.635Z"
   },
   {
    "duration": 113,
    "start_time": "2024-07-10T17:11:48.494Z"
   },
   {
    "duration": 364,
    "start_time": "2024-07-10T17:16:39.760Z"
   },
   {
    "duration": 274,
    "start_time": "2024-07-10T17:16:57.062Z"
   },
   {
    "duration": 257,
    "start_time": "2024-07-10T17:18:12.876Z"
   },
   {
    "duration": 270,
    "start_time": "2024-07-10T17:18:37.325Z"
   },
   {
    "duration": 282,
    "start_time": "2024-07-10T17:46:15.647Z"
   },
   {
    "duration": 368,
    "start_time": "2024-07-10T17:47:11.080Z"
   },
   {
    "duration": 466,
    "start_time": "2024-07-10T17:47:32.101Z"
   },
   {
    "duration": 1264,
    "start_time": "2024-07-10T17:47:59.773Z"
   },
   {
    "duration": 479,
    "start_time": "2024-07-10T17:48:30.301Z"
   },
   {
    "duration": 551,
    "start_time": "2024-07-10T17:49:55.234Z"
   },
   {
    "duration": 494,
    "start_time": "2024-07-10T17:50:25.706Z"
   },
   {
    "duration": 122,
    "start_time": "2024-07-10T17:51:10.666Z"
   },
   {
    "duration": 130,
    "start_time": "2024-07-10T17:51:44.074Z"
   },
   {
    "duration": 137,
    "start_time": "2024-07-10T17:52:40.413Z"
   },
   {
    "duration": 193,
    "start_time": "2024-07-10T17:53:01.378Z"
   },
   {
    "duration": 142,
    "start_time": "2024-07-10T17:53:09.685Z"
   },
   {
    "duration": 141,
    "start_time": "2024-07-10T17:53:42.886Z"
   },
   {
    "duration": 511,
    "start_time": "2024-07-10T17:54:13.527Z"
   },
   {
    "duration": 319,
    "start_time": "2024-07-10T17:54:49.409Z"
   },
   {
    "duration": 348,
    "start_time": "2024-07-10T17:54:57.368Z"
   },
   {
    "duration": 312,
    "start_time": "2024-07-10T17:55:46.502Z"
   },
   {
    "duration": 430,
    "start_time": "2024-07-10T17:56:07.472Z"
   },
   {
    "duration": 353,
    "start_time": "2024-07-10T17:58:20.200Z"
   },
   {
    "duration": 298,
    "start_time": "2024-07-10T17:58:32.976Z"
   },
   {
    "duration": 279,
    "start_time": "2024-07-10T17:58:51.992Z"
   },
   {
    "duration": 280,
    "start_time": "2024-07-10T18:00:26.606Z"
   },
   {
    "duration": 282,
    "start_time": "2024-07-10T18:00:53.793Z"
   },
   {
    "duration": 519,
    "start_time": "2024-07-10T18:02:31.828Z"
   },
   {
    "duration": 469,
    "start_time": "2024-07-10T18:09:02.299Z"
   },
   {
    "duration": 89,
    "start_time": "2024-07-10T18:09:39.677Z"
   },
   {
    "duration": 397,
    "start_time": "2024-07-10T18:09:47.280Z"
   },
   {
    "duration": 507,
    "start_time": "2024-07-10T18:10:06.917Z"
   },
   {
    "duration": 510,
    "start_time": "2024-07-10T18:10:22.912Z"
   },
   {
    "duration": 451,
    "start_time": "2024-07-10T18:10:47.928Z"
   },
   {
    "duration": 68,
    "start_time": "2024-07-10T18:12:19.322Z"
   },
   {
    "duration": 436,
    "start_time": "2024-07-10T18:12:24.796Z"
   },
   {
    "duration": 629,
    "start_time": "2024-07-10T18:12:59.474Z"
   },
   {
    "duration": 555,
    "start_time": "2024-07-10T18:13:25.374Z"
   },
   {
    "duration": 556,
    "start_time": "2024-07-10T18:15:35.307Z"
   },
   {
    "duration": 595,
    "start_time": "2024-07-10T18:16:09.778Z"
   },
   {
    "duration": 9,
    "start_time": "2024-07-10T18:16:43.249Z"
   },
   {
    "duration": 10,
    "start_time": "2024-07-10T18:16:51.795Z"
   },
   {
    "duration": 1066,
    "start_time": "2024-07-10T18:17:38.171Z"
   },
   {
    "duration": 53,
    "start_time": "2024-07-10T18:17:39.238Z"
   },
   {
    "duration": 16,
    "start_time": "2024-07-10T18:17:39.292Z"
   },
   {
    "duration": 13,
    "start_time": "2024-07-10T18:17:39.310Z"
   },
   {
    "duration": 8,
    "start_time": "2024-07-10T18:17:39.324Z"
   },
   {
    "duration": 8,
    "start_time": "2024-07-10T18:17:39.333Z"
   },
   {
    "duration": 11,
    "start_time": "2024-07-10T18:17:39.343Z"
   },
   {
    "duration": 16,
    "start_time": "2024-07-10T18:17:39.355Z"
   },
   {
    "duration": 41,
    "start_time": "2024-07-10T18:17:39.372Z"
   },
   {
    "duration": 29,
    "start_time": "2024-07-10T18:17:39.415Z"
   },
   {
    "duration": 8,
    "start_time": "2024-07-10T18:17:39.445Z"
   },
   {
    "duration": 17,
    "start_time": "2024-07-10T18:17:39.454Z"
   },
   {
    "duration": 39,
    "start_time": "2024-07-10T18:17:39.473Z"
   },
   {
    "duration": 17,
    "start_time": "2024-07-10T18:17:39.514Z"
   },
   {
    "duration": 13,
    "start_time": "2024-07-10T18:17:39.533Z"
   },
   {
    "duration": 331,
    "start_time": "2024-07-10T18:17:39.548Z"
   },
   {
    "duration": 287,
    "start_time": "2024-07-10T18:17:39.881Z"
   },
   {
    "duration": 497,
    "start_time": "2024-07-10T18:17:40.169Z"
   },
   {
    "duration": 326,
    "start_time": "2024-07-10T18:17:40.668Z"
   },
   {
    "duration": 377,
    "start_time": "2024-07-10T18:17:40.995Z"
   },
   {
    "duration": 19,
    "start_time": "2024-07-10T18:17:41.374Z"
   },
   {
    "duration": 5,
    "start_time": "2024-07-10T18:17:41.412Z"
   },
   {
    "duration": 297,
    "start_time": "2024-07-10T18:17:41.418Z"
   },
   {
    "duration": 4,
    "start_time": "2024-07-10T18:17:41.717Z"
   },
   {
    "duration": 283,
    "start_time": "2024-07-10T18:17:41.723Z"
   },
   {
    "duration": 1713,
    "start_time": "2024-07-10T18:17:42.007Z"
   },
   {
    "duration": 391,
    "start_time": "2024-07-10T18:17:43.721Z"
   },
   {
    "duration": 9,
    "start_time": "2024-07-10T18:17:44.115Z"
   },
   {
    "duration": 567,
    "start_time": "2024-07-10T18:17:44.125Z"
   },
   {
    "duration": 611,
    "start_time": "2024-07-10T18:17:44.694Z"
   },
   {
    "duration": 548,
    "start_time": "2024-07-10T18:17:45.307Z"
   },
   {
    "duration": 129,
    "start_time": "2024-07-10T18:17:45.857Z"
   },
   {
    "duration": 7,
    "start_time": "2024-07-10T18:24:21.100Z"
   },
   {
    "duration": 20,
    "start_time": "2024-07-10T18:24:31.794Z"
   },
   {
    "duration": 9,
    "start_time": "2024-07-10T18:24:50.295Z"
   },
   {
    "duration": 7,
    "start_time": "2024-07-10T18:25:51.606Z"
   },
   {
    "duration": 7,
    "start_time": "2024-07-10T18:26:05.694Z"
   },
   {
    "duration": 24,
    "start_time": "2024-07-10T18:26:13.830Z"
   },
   {
    "duration": 24,
    "start_time": "2024-07-10T18:26:43.078Z"
   },
   {
    "duration": 25,
    "start_time": "2024-07-10T18:27:44.713Z"
   },
   {
    "duration": 30,
    "start_time": "2024-07-10T18:28:20.598Z"
   },
   {
    "duration": 10,
    "start_time": "2024-07-10T18:29:25.003Z"
   },
   {
    "duration": 573,
    "start_time": "2024-07-10T18:29:31.211Z"
   },
   {
    "duration": 609,
    "start_time": "2024-07-10T18:29:42.299Z"
   },
   {
    "duration": 530,
    "start_time": "2024-07-10T18:29:47.859Z"
   },
   {
    "duration": 8,
    "start_time": "2024-07-10T18:32:53.842Z"
   },
   {
    "duration": 606,
    "start_time": "2024-07-10T18:33:05.241Z"
   },
   {
    "duration": 8,
    "start_time": "2024-07-10T18:34:14.071Z"
   },
   {
    "duration": 529,
    "start_time": "2024-07-10T18:34:17.157Z"
   },
   {
    "duration": 530,
    "start_time": "2024-07-10T18:34:25.239Z"
   },
   {
    "duration": 584,
    "start_time": "2024-07-10T18:34:30.062Z"
   },
   {
    "duration": 570,
    "start_time": "2024-07-10T18:34:48.274Z"
   },
   {
    "duration": 529,
    "start_time": "2024-07-10T18:34:58.913Z"
   },
   {
    "duration": 1095,
    "start_time": "2024-07-10T18:36:13.512Z"
   },
   {
    "duration": 53,
    "start_time": "2024-07-10T18:36:14.610Z"
   },
   {
    "duration": 18,
    "start_time": "2024-07-10T18:36:14.664Z"
   },
   {
    "duration": 13,
    "start_time": "2024-07-10T18:36:14.684Z"
   },
   {
    "duration": 6,
    "start_time": "2024-07-10T18:36:14.698Z"
   },
   {
    "duration": 8,
    "start_time": "2024-07-10T18:36:14.712Z"
   },
   {
    "duration": 17,
    "start_time": "2024-07-10T18:36:14.721Z"
   },
   {
    "duration": 27,
    "start_time": "2024-07-10T18:36:14.740Z"
   },
   {
    "duration": 15,
    "start_time": "2024-07-10T18:36:14.768Z"
   },
   {
    "duration": 60,
    "start_time": "2024-07-10T18:36:14.786Z"
   },
   {
    "duration": 10,
    "start_time": "2024-07-10T18:36:14.847Z"
   },
   {
    "duration": 34,
    "start_time": "2024-07-10T18:36:14.858Z"
   },
   {
    "duration": 22,
    "start_time": "2024-07-10T18:36:14.893Z"
   },
   {
    "duration": 17,
    "start_time": "2024-07-10T18:36:14.917Z"
   },
   {
    "duration": 14,
    "start_time": "2024-07-10T18:36:14.935Z"
   },
   {
    "duration": 360,
    "start_time": "2024-07-10T18:36:14.950Z"
   },
   {
    "duration": 280,
    "start_time": "2024-07-10T18:36:15.311Z"
   },
   {
    "duration": 518,
    "start_time": "2024-07-10T18:36:15.592Z"
   },
   {
    "duration": 349,
    "start_time": "2024-07-10T18:36:16.112Z"
   },
   {
    "duration": 388,
    "start_time": "2024-07-10T18:36:16.463Z"
   },
   {
    "duration": 19,
    "start_time": "2024-07-10T18:36:16.852Z"
   },
   {
    "duration": 4,
    "start_time": "2024-07-10T18:36:16.873Z"
   },
   {
    "duration": 315,
    "start_time": "2024-07-10T18:36:16.878Z"
   },
   {
    "duration": 5,
    "start_time": "2024-07-10T18:36:17.195Z"
   },
   {
    "duration": 277,
    "start_time": "2024-07-10T18:36:17.212Z"
   },
   {
    "duration": 1716,
    "start_time": "2024-07-10T18:36:17.490Z"
   },
   {
    "duration": 395,
    "start_time": "2024-07-10T18:36:19.212Z"
   },
   {
    "duration": 554,
    "start_time": "2024-07-10T18:36:19.613Z"
   },
   {
    "duration": 604,
    "start_time": "2024-07-10T18:36:20.169Z"
   },
   {
    "duration": 549,
    "start_time": "2024-07-10T18:36:20.775Z"
   },
   {
    "duration": 531,
    "start_time": "2024-07-10T18:36:21.326Z"
   },
   {
    "duration": 31,
    "start_time": "2024-07-10T18:36:21.859Z"
   },
   {
    "duration": 76,
    "start_time": "2024-07-10T18:39:15.067Z"
   },
   {
    "duration": 525,
    "start_time": "2024-07-10T18:39:18.510Z"
   },
   {
    "duration": 549,
    "start_time": "2024-07-10T18:39:26.661Z"
   },
   {
    "duration": 587,
    "start_time": "2024-07-10T18:39:31.265Z"
   },
   {
    "duration": 1064,
    "start_time": "2024-07-10T18:56:50.581Z"
   },
   {
    "duration": 53,
    "start_time": "2024-07-10T18:56:51.647Z"
   },
   {
    "duration": 16,
    "start_time": "2024-07-10T18:56:51.701Z"
   },
   {
    "duration": 13,
    "start_time": "2024-07-10T18:56:51.719Z"
   },
   {
    "duration": 6,
    "start_time": "2024-07-10T18:56:51.734Z"
   },
   {
    "duration": 10,
    "start_time": "2024-07-10T18:56:51.742Z"
   },
   {
    "duration": 12,
    "start_time": "2024-07-10T18:56:51.753Z"
   },
   {
    "duration": 24,
    "start_time": "2024-07-10T18:56:51.766Z"
   },
   {
    "duration": 30,
    "start_time": "2024-07-10T18:56:51.792Z"
   },
   {
    "duration": 27,
    "start_time": "2024-07-10T18:56:51.825Z"
   },
   {
    "duration": 7,
    "start_time": "2024-07-10T18:56:51.854Z"
   },
   {
    "duration": 24,
    "start_time": "2024-07-10T18:56:51.862Z"
   },
   {
    "duration": 32,
    "start_time": "2024-07-10T18:56:51.887Z"
   },
   {
    "duration": 15,
    "start_time": "2024-07-10T18:56:51.921Z"
   },
   {
    "duration": 21,
    "start_time": "2024-07-10T18:56:51.938Z"
   },
   {
    "duration": 318,
    "start_time": "2024-07-10T18:56:51.960Z"
   },
   {
    "duration": 288,
    "start_time": "2024-07-10T18:56:52.280Z"
   },
   {
    "duration": 492,
    "start_time": "2024-07-10T18:56:52.570Z"
   },
   {
    "duration": 337,
    "start_time": "2024-07-10T18:56:53.063Z"
   },
   {
    "duration": 377,
    "start_time": "2024-07-10T18:56:53.402Z"
   },
   {
    "duration": 18,
    "start_time": "2024-07-10T18:56:53.780Z"
   },
   {
    "duration": 15,
    "start_time": "2024-07-10T18:56:53.799Z"
   },
   {
    "duration": 284,
    "start_time": "2024-07-10T18:56:53.815Z"
   },
   {
    "duration": 4,
    "start_time": "2024-07-10T18:56:54.100Z"
   },
   {
    "duration": 281,
    "start_time": "2024-07-10T18:56:54.112Z"
   },
   {
    "duration": 1710,
    "start_time": "2024-07-10T18:56:54.395Z"
   },
   {
    "duration": 378,
    "start_time": "2024-07-10T18:56:56.112Z"
   },
   {
    "duration": 8,
    "start_time": "2024-07-10T18:56:56.493Z"
   },
   {
    "duration": 534,
    "start_time": "2024-07-10T18:56:56.502Z"
   },
   {
    "duration": 624,
    "start_time": "2024-07-10T18:56:57.038Z"
   },
   {
    "duration": 508,
    "start_time": "2024-07-10T18:56:57.663Z"
   },
   {
    "duration": 103,
    "start_time": "2024-07-10T19:15:51.832Z"
   },
   {
    "duration": 4,
    "start_time": "2024-07-10T19:17:37.396Z"
   },
   {
    "duration": 10,
    "start_time": "2024-07-10T19:17:42.010Z"
   },
   {
    "duration": 9,
    "start_time": "2024-07-10T19:17:51.241Z"
   },
   {
    "duration": 36,
    "start_time": "2024-07-10T19:18:05.635Z"
   },
   {
    "duration": 22,
    "start_time": "2024-07-10T19:18:09.198Z"
   },
   {
    "duration": 33,
    "start_time": "2024-07-10T19:18:23.767Z"
   },
   {
    "duration": 32,
    "start_time": "2024-07-10T19:19:05.541Z"
   },
   {
    "duration": 30,
    "start_time": "2024-07-10T19:19:56.557Z"
   },
   {
    "duration": 16,
    "start_time": "2024-07-10T19:20:18.742Z"
   },
   {
    "duration": 15,
    "start_time": "2024-07-10T19:22:24.514Z"
   },
   {
    "duration": 14,
    "start_time": "2024-07-10T19:22:28.322Z"
   },
   {
    "duration": 19,
    "start_time": "2024-07-10T19:22:45.484Z"
   },
   {
    "duration": 29,
    "start_time": "2024-07-10T19:22:50.828Z"
   },
   {
    "duration": 13,
    "start_time": "2024-07-10T19:22:58.954Z"
   },
   {
    "duration": 20,
    "start_time": "2024-07-10T19:27:57.626Z"
   },
   {
    "duration": 12,
    "start_time": "2024-07-10T19:28:08.829Z"
   },
   {
    "duration": 18,
    "start_time": "2024-07-10T19:31:19.199Z"
   },
   {
    "duration": 19,
    "start_time": "2024-07-10T19:31:59.209Z"
   },
   {
    "duration": 1121,
    "start_time": "2024-07-10T19:34:05.426Z"
   },
   {
    "duration": 56,
    "start_time": "2024-07-10T19:34:06.549Z"
   },
   {
    "duration": 35,
    "start_time": "2024-07-10T19:34:06.607Z"
   },
   {
    "duration": 13,
    "start_time": "2024-07-10T19:34:06.644Z"
   },
   {
    "duration": 6,
    "start_time": "2024-07-10T19:34:06.659Z"
   },
   {
    "duration": 12,
    "start_time": "2024-07-10T19:34:06.667Z"
   },
   {
    "duration": 21,
    "start_time": "2024-07-10T19:34:06.680Z"
   },
   {
    "duration": 29,
    "start_time": "2024-07-10T19:34:06.717Z"
   },
   {
    "duration": 17,
    "start_time": "2024-07-10T19:34:06.748Z"
   },
   {
    "duration": 94,
    "start_time": "2024-07-10T19:34:06.766Z"
   },
   {
    "duration": 9,
    "start_time": "2024-07-10T19:34:06.861Z"
   },
   {
    "duration": 54,
    "start_time": "2024-07-10T19:34:06.871Z"
   },
   {
    "duration": 16,
    "start_time": "2024-07-10T19:34:06.929Z"
   },
   {
    "duration": 23,
    "start_time": "2024-07-10T19:34:06.947Z"
   },
   {
    "duration": 16,
    "start_time": "2024-07-10T19:34:06.980Z"
   },
   {
    "duration": 371,
    "start_time": "2024-07-10T19:34:06.997Z"
   },
   {
    "duration": 301,
    "start_time": "2024-07-10T19:34:07.369Z"
   },
   {
    "duration": 556,
    "start_time": "2024-07-10T19:34:07.671Z"
   },
   {
    "duration": 345,
    "start_time": "2024-07-10T19:34:08.229Z"
   },
   {
    "duration": 383,
    "start_time": "2024-07-10T19:34:08.576Z"
   },
   {
    "duration": 19,
    "start_time": "2024-07-10T19:34:08.960Z"
   },
   {
    "duration": 4,
    "start_time": "2024-07-10T19:34:08.980Z"
   },
   {
    "duration": 320,
    "start_time": "2024-07-10T19:34:08.986Z"
   },
   {
    "duration": 8,
    "start_time": "2024-07-10T19:34:09.321Z"
   },
   {
    "duration": 313,
    "start_time": "2024-07-10T19:34:09.331Z"
   },
   {
    "duration": 1811,
    "start_time": "2024-07-10T19:34:09.646Z"
   },
   {
    "duration": 414,
    "start_time": "2024-07-10T19:34:11.460Z"
   },
   {
    "duration": 10,
    "start_time": "2024-07-10T19:34:11.877Z"
   },
   {
    "duration": 572,
    "start_time": "2024-07-10T19:34:11.888Z"
   },
   {
    "duration": 633,
    "start_time": "2024-07-10T19:34:12.462Z"
   },
   {
    "duration": 553,
    "start_time": "2024-07-10T19:34:13.097Z"
   },
   {
    "duration": 13,
    "start_time": "2024-07-10T19:34:13.651Z"
   },
   {
    "duration": 1087,
    "start_time": "2024-07-10T19:35:28.074Z"
   },
   {
    "duration": 62,
    "start_time": "2024-07-10T19:35:29.163Z"
   },
   {
    "duration": 17,
    "start_time": "2024-07-10T19:35:29.226Z"
   },
   {
    "duration": 13,
    "start_time": "2024-07-10T19:35:29.245Z"
   },
   {
    "duration": 6,
    "start_time": "2024-07-10T19:35:29.259Z"
   },
   {
    "duration": 11,
    "start_time": "2024-07-10T19:35:29.267Z"
   },
   {
    "duration": 12,
    "start_time": "2024-07-10T19:35:29.279Z"
   },
   {
    "duration": 27,
    "start_time": "2024-07-10T19:35:29.321Z"
   },
   {
    "duration": 20,
    "start_time": "2024-07-10T19:35:29.349Z"
   },
   {
    "duration": 55,
    "start_time": "2024-07-10T19:35:29.372Z"
   },
   {
    "duration": 8,
    "start_time": "2024-07-10T19:35:29.429Z"
   },
   {
    "duration": 27,
    "start_time": "2024-07-10T19:35:29.438Z"
   },
   {
    "duration": 15,
    "start_time": "2024-07-10T19:35:29.466Z"
   },
   {
    "duration": 16,
    "start_time": "2024-07-10T19:35:29.482Z"
   },
   {
    "duration": 31,
    "start_time": "2024-07-10T19:35:29.499Z"
   },
   {
    "duration": 318,
    "start_time": "2024-07-10T19:35:29.532Z"
   },
   {
    "duration": 318,
    "start_time": "2024-07-10T19:35:29.852Z"
   },
   {
    "duration": 554,
    "start_time": "2024-07-10T19:35:30.171Z"
   },
   {
    "duration": 349,
    "start_time": "2024-07-10T19:35:30.727Z"
   },
   {
    "duration": 413,
    "start_time": "2024-07-10T19:35:31.077Z"
   },
   {
    "duration": 40,
    "start_time": "2024-07-10T19:35:31.492Z"
   },
   {
    "duration": 12,
    "start_time": "2024-07-10T19:35:31.533Z"
   },
   {
    "duration": 304,
    "start_time": "2024-07-10T19:35:31.547Z"
   },
   {
    "duration": 3,
    "start_time": "2024-07-10T19:35:31.853Z"
   },
   {
    "duration": 324,
    "start_time": "2024-07-10T19:35:31.858Z"
   },
   {
    "duration": 1845,
    "start_time": "2024-07-10T19:35:32.184Z"
   },
   {
    "duration": 406,
    "start_time": "2024-07-10T19:35:34.030Z"
   },
   {
    "duration": 9,
    "start_time": "2024-07-10T19:35:34.439Z"
   },
   {
    "duration": 595,
    "start_time": "2024-07-10T19:35:34.450Z"
   },
   {
    "duration": 630,
    "start_time": "2024-07-10T19:35:35.047Z"
   },
   {
    "duration": 564,
    "start_time": "2024-07-10T19:35:35.678Z"
   },
   {
    "duration": 13,
    "start_time": "2024-07-10T19:35:36.244Z"
   },
   {
    "duration": 26,
    "start_time": "2024-07-10T19:37:20.664Z"
   },
   {
    "duration": 149,
    "start_time": "2024-07-10T19:38:34.797Z"
   },
   {
    "duration": 393,
    "start_time": "2024-07-10T19:39:17.934Z"
   },
   {
    "duration": 13,
    "start_time": "2024-07-10T19:40:46.276Z"
   },
   {
    "duration": 25,
    "start_time": "2024-07-10T19:44:32.816Z"
   },
   {
    "duration": 13,
    "start_time": "2024-07-10T19:44:42.170Z"
   },
   {
    "duration": 13,
    "start_time": "2024-07-10T19:44:48.276Z"
   },
   {
    "duration": 13,
    "start_time": "2024-07-10T19:44:54.668Z"
   },
   {
    "duration": 13,
    "start_time": "2024-07-10T19:44:59.734Z"
   },
   {
    "duration": 13,
    "start_time": "2024-07-10T19:45:05.653Z"
   },
   {
    "duration": 17,
    "start_time": "2024-07-10T19:45:31.233Z"
   },
   {
    "duration": 15,
    "start_time": "2024-07-10T19:47:06.875Z"
   },
   {
    "duration": 15,
    "start_time": "2024-07-10T19:47:26.171Z"
   },
   {
    "duration": 12,
    "start_time": "2024-07-10T19:48:54.039Z"
   },
   {
    "duration": 12,
    "start_time": "2024-07-10T19:48:56.624Z"
   },
   {
    "duration": 10,
    "start_time": "2024-07-10T19:49:40.057Z"
   },
   {
    "duration": 1147,
    "start_time": "2024-07-10T19:57:43.507Z"
   },
   {
    "duration": 53,
    "start_time": "2024-07-10T19:57:44.656Z"
   },
   {
    "duration": 21,
    "start_time": "2024-07-10T19:57:44.710Z"
   },
   {
    "duration": 17,
    "start_time": "2024-07-10T19:57:44.732Z"
   },
   {
    "duration": 8,
    "start_time": "2024-07-10T19:57:44.751Z"
   },
   {
    "duration": 10,
    "start_time": "2024-07-10T19:57:44.760Z"
   },
   {
    "duration": 18,
    "start_time": "2024-07-10T19:57:44.772Z"
   },
   {
    "duration": 50,
    "start_time": "2024-07-10T19:57:44.791Z"
   },
   {
    "duration": 13,
    "start_time": "2024-07-10T19:57:44.843Z"
   },
   {
    "duration": 48,
    "start_time": "2024-07-10T19:57:44.857Z"
   },
   {
    "duration": 16,
    "start_time": "2024-07-10T19:57:44.907Z"
   },
   {
    "duration": 24,
    "start_time": "2024-07-10T19:57:44.924Z"
   },
   {
    "duration": 15,
    "start_time": "2024-07-10T19:57:44.950Z"
   },
   {
    "duration": 16,
    "start_time": "2024-07-10T19:57:44.969Z"
   },
   {
    "duration": 47,
    "start_time": "2024-07-10T19:57:44.986Z"
   },
   {
    "duration": 342,
    "start_time": "2024-07-10T19:57:45.040Z"
   },
   {
    "duration": 309,
    "start_time": "2024-07-10T19:57:45.383Z"
   },
   {
    "duration": 553,
    "start_time": "2024-07-10T19:57:45.693Z"
   },
   {
    "duration": 356,
    "start_time": "2024-07-10T19:57:46.247Z"
   },
   {
    "duration": 403,
    "start_time": "2024-07-10T19:57:46.604Z"
   },
   {
    "duration": 42,
    "start_time": "2024-07-10T19:57:47.009Z"
   },
   {
    "duration": 5,
    "start_time": "2024-07-10T19:57:47.053Z"
   },
   {
    "duration": 331,
    "start_time": "2024-07-10T19:57:47.060Z"
   },
   {
    "duration": 4,
    "start_time": "2024-07-10T19:57:47.392Z"
   },
   {
    "duration": 306,
    "start_time": "2024-07-10T19:57:47.397Z"
   },
   {
    "duration": 1842,
    "start_time": "2024-07-10T19:57:47.705Z"
   },
   {
    "duration": 409,
    "start_time": "2024-07-10T19:57:49.549Z"
   },
   {
    "duration": 9,
    "start_time": "2024-07-10T19:57:49.959Z"
   },
   {
    "duration": 574,
    "start_time": "2024-07-10T19:57:49.969Z"
   },
   {
    "duration": 636,
    "start_time": "2024-07-10T19:57:50.545Z"
   },
   {
    "duration": 553,
    "start_time": "2024-07-10T19:57:51.183Z"
   },
   {
    "duration": 11,
    "start_time": "2024-07-10T19:57:51.738Z"
   },
   {
    "duration": 17,
    "start_time": "2024-07-10T19:57:51.751Z"
   },
   {
    "duration": 10,
    "start_time": "2024-07-10T19:57:51.770Z"
   },
   {
    "duration": 5,
    "start_time": "2024-07-10T19:57:51.782Z"
   },
   {
    "duration": 1125,
    "start_time": "2024-07-10T20:34:42.529Z"
   },
   {
    "duration": 71,
    "start_time": "2024-07-10T20:34:43.666Z"
   },
   {
    "duration": 25,
    "start_time": "2024-07-10T20:34:43.738Z"
   },
   {
    "duration": 13,
    "start_time": "2024-07-10T20:34:43.765Z"
   },
   {
    "duration": 6,
    "start_time": "2024-07-10T20:34:43.780Z"
   },
   {
    "duration": 9,
    "start_time": "2024-07-10T20:34:43.788Z"
   },
   {
    "duration": 32,
    "start_time": "2024-07-10T20:34:43.799Z"
   },
   {
    "duration": 29,
    "start_time": "2024-07-10T20:34:43.832Z"
   },
   {
    "duration": 13,
    "start_time": "2024-07-10T20:34:43.863Z"
   },
   {
    "duration": 30,
    "start_time": "2024-07-10T20:34:43.878Z"
   },
   {
    "duration": 36,
    "start_time": "2024-07-10T20:34:43.909Z"
   },
   {
    "duration": 16,
    "start_time": "2024-07-10T20:34:43.954Z"
   },
   {
    "duration": 18,
    "start_time": "2024-07-10T20:34:43.972Z"
   },
   {
    "duration": 17,
    "start_time": "2024-07-10T20:34:43.992Z"
   },
   {
    "duration": 29,
    "start_time": "2024-07-10T20:34:44.010Z"
   },
   {
    "duration": 360,
    "start_time": "2024-07-10T20:34:44.041Z"
   },
   {
    "duration": 362,
    "start_time": "2024-07-10T20:34:44.403Z"
   },
   {
    "duration": 603,
    "start_time": "2024-07-10T20:34:44.767Z"
   },
   {
    "duration": 391,
    "start_time": "2024-07-10T20:34:45.372Z"
   },
   {
    "duration": 474,
    "start_time": "2024-07-10T20:34:45.764Z"
   },
   {
    "duration": 21,
    "start_time": "2024-07-10T20:34:46.252Z"
   },
   {
    "duration": 4,
    "start_time": "2024-07-10T20:34:46.274Z"
   },
   {
    "duration": 307,
    "start_time": "2024-07-10T20:34:46.280Z"
   },
   {
    "duration": 3,
    "start_time": "2024-07-10T20:34:46.589Z"
   },
   {
    "duration": 359,
    "start_time": "2024-07-10T20:34:46.594Z"
   },
   {
    "duration": 2030,
    "start_time": "2024-07-10T20:34:46.956Z"
   },
   {
    "duration": 427,
    "start_time": "2024-07-10T20:34:48.988Z"
   },
   {
    "duration": 15,
    "start_time": "2024-07-10T20:34:49.418Z"
   },
   {
    "duration": 623,
    "start_time": "2024-07-10T20:34:49.434Z"
   },
   {
    "duration": 667,
    "start_time": "2024-07-10T20:34:50.061Z"
   },
   {
    "duration": 611,
    "start_time": "2024-07-10T20:34:50.741Z"
   },
   {
    "duration": 16,
    "start_time": "2024-07-10T20:34:51.355Z"
   },
   {
    "duration": 15,
    "start_time": "2024-07-10T20:34:51.373Z"
   },
   {
    "duration": 15,
    "start_time": "2024-07-10T20:34:51.390Z"
   },
   {
    "duration": 50,
    "start_time": "2024-07-10T20:34:51.406Z"
   },
   {
    "duration": 48,
    "start_time": "2024-07-11T12:41:47.875Z"
   },
   {
    "duration": 1254,
    "start_time": "2024-07-11T12:41:53.530Z"
   },
   {
    "duration": 107,
    "start_time": "2024-07-11T12:41:54.787Z"
   },
   {
    "duration": 25,
    "start_time": "2024-07-11T12:41:54.895Z"
   },
   {
    "duration": 19,
    "start_time": "2024-07-11T12:41:54.921Z"
   },
   {
    "duration": 5,
    "start_time": "2024-07-11T12:41:54.942Z"
   },
   {
    "duration": 11,
    "start_time": "2024-07-11T12:41:54.948Z"
   },
   {
    "duration": 13,
    "start_time": "2024-07-11T12:41:54.961Z"
   },
   {
    "duration": 42,
    "start_time": "2024-07-11T12:41:54.975Z"
   },
   {
    "duration": 13,
    "start_time": "2024-07-11T12:41:55.019Z"
   },
   {
    "duration": 68,
    "start_time": "2024-07-11T12:41:55.034Z"
   },
   {
    "duration": 9,
    "start_time": "2024-07-11T12:41:55.103Z"
   },
   {
    "duration": 17,
    "start_time": "2024-07-11T12:41:55.113Z"
   },
   {
    "duration": 14,
    "start_time": "2024-07-11T12:41:55.132Z"
   },
   {
    "duration": 18,
    "start_time": "2024-07-11T12:41:55.149Z"
   },
   {
    "duration": 45,
    "start_time": "2024-07-11T12:41:55.168Z"
   },
   {
    "duration": 360,
    "start_time": "2024-07-11T12:41:55.215Z"
   },
   {
    "duration": 320,
    "start_time": "2024-07-11T12:41:55.576Z"
   },
   {
    "duration": 571,
    "start_time": "2024-07-11T12:41:55.898Z"
   },
   {
    "duration": 358,
    "start_time": "2024-07-11T12:41:56.471Z"
   },
   {
    "duration": 408,
    "start_time": "2024-07-11T12:41:56.830Z"
   },
   {
    "duration": 21,
    "start_time": "2024-07-11T12:41:57.239Z"
   },
   {
    "duration": 4,
    "start_time": "2024-07-11T12:41:57.262Z"
   },
   {
    "duration": 313,
    "start_time": "2024-07-11T12:41:57.267Z"
   },
   {
    "duration": 4,
    "start_time": "2024-07-11T12:41:57.581Z"
   },
   {
    "duration": 302,
    "start_time": "2024-07-11T12:41:57.587Z"
   },
   {
    "duration": 1899,
    "start_time": "2024-07-11T12:41:57.891Z"
   },
   {
    "duration": 439,
    "start_time": "2024-07-11T12:41:59.792Z"
   },
   {
    "duration": 10,
    "start_time": "2024-07-11T12:42:00.233Z"
   },
   {
    "duration": 657,
    "start_time": "2024-07-11T12:42:00.244Z"
   },
   {
    "duration": 683,
    "start_time": "2024-07-11T12:42:00.902Z"
   },
   {
    "duration": 560,
    "start_time": "2024-07-11T12:42:01.587Z"
   },
   {
    "duration": 11,
    "start_time": "2024-07-11T12:42:02.148Z"
   },
   {
    "duration": 280,
    "start_time": "2024-07-11T12:42:02.160Z"
   },
   {
    "duration": 124,
    "start_time": "2024-07-11T12:42:02.443Z"
   },
   {
    "duration": 17,
    "start_time": "2024-07-11T12:42:02.570Z"
   },
   {
    "duration": 17,
    "start_time": "2024-07-11T12:45:30.730Z"
   },
   {
    "duration": 97,
    "start_time": "2024-07-11T12:47:13.854Z"
   },
   {
    "duration": 19,
    "start_time": "2024-07-11T12:47:22.456Z"
   },
   {
    "duration": 43,
    "start_time": "2024-07-11T17:39:56.058Z"
   },
   {
    "duration": 1175,
    "start_time": "2024-07-11T17:40:01.350Z"
   },
   {
    "duration": 104,
    "start_time": "2024-07-11T17:40:02.526Z"
   },
   {
    "duration": 17,
    "start_time": "2024-07-11T17:40:02.633Z"
   },
   {
    "duration": 37,
    "start_time": "2024-07-11T17:40:02.652Z"
   },
   {
    "duration": 68,
    "start_time": "2024-07-11T17:40:02.690Z"
   },
   {
    "duration": 20,
    "start_time": "2024-07-11T17:40:02.760Z"
   },
   {
    "duration": 48,
    "start_time": "2024-07-11T17:40:02.781Z"
   },
   {
    "duration": 35,
    "start_time": "2024-07-11T17:40:02.831Z"
   },
   {
    "duration": 12,
    "start_time": "2024-07-11T17:40:02.867Z"
   },
   {
    "duration": 39,
    "start_time": "2024-07-11T17:40:02.882Z"
   },
   {
    "duration": 6,
    "start_time": "2024-07-11T17:40:02.922Z"
   },
   {
    "duration": 16,
    "start_time": "2024-07-11T17:40:02.929Z"
   },
   {
    "duration": 12,
    "start_time": "2024-07-11T17:40:02.957Z"
   },
   {
    "duration": 32,
    "start_time": "2024-07-11T17:40:02.971Z"
   },
   {
    "duration": 24,
    "start_time": "2024-07-11T17:40:03.004Z"
   },
   {
    "duration": 93,
    "start_time": "2024-07-11T17:40:03.029Z"
   },
   {
    "duration": 0,
    "start_time": "2024-07-11T17:40:03.124Z"
   },
   {
    "duration": 0,
    "start_time": "2024-07-11T17:40:03.125Z"
   },
   {
    "duration": 0,
    "start_time": "2024-07-11T17:40:03.126Z"
   },
   {
    "duration": 0,
    "start_time": "2024-07-11T17:40:03.127Z"
   },
   {
    "duration": 0,
    "start_time": "2024-07-11T17:40:03.128Z"
   },
   {
    "duration": 0,
    "start_time": "2024-07-11T17:40:03.129Z"
   },
   {
    "duration": 0,
    "start_time": "2024-07-11T17:40:03.130Z"
   },
   {
    "duration": 0,
    "start_time": "2024-07-11T17:40:03.131Z"
   },
   {
    "duration": 0,
    "start_time": "2024-07-11T17:40:03.132Z"
   },
   {
    "duration": 0,
    "start_time": "2024-07-11T17:40:03.133Z"
   },
   {
    "duration": 0,
    "start_time": "2024-07-11T17:40:03.134Z"
   },
   {
    "duration": 0,
    "start_time": "2024-07-11T17:40:03.157Z"
   },
   {
    "duration": 0,
    "start_time": "2024-07-11T17:40:03.158Z"
   },
   {
    "duration": 0,
    "start_time": "2024-07-11T17:40:03.158Z"
   },
   {
    "duration": 0,
    "start_time": "2024-07-11T17:40:03.159Z"
   },
   {
    "duration": 0,
    "start_time": "2024-07-11T17:40:03.160Z"
   },
   {
    "duration": 0,
    "start_time": "2024-07-11T17:40:03.161Z"
   },
   {
    "duration": 0,
    "start_time": "2024-07-11T17:40:03.162Z"
   },
   {
    "duration": 0,
    "start_time": "2024-07-11T17:40:03.163Z"
   },
   {
    "duration": 285,
    "start_time": "2024-07-11T17:42:00.678Z"
   },
   {
    "duration": 1035,
    "start_time": "2024-07-11T17:44:05.326Z"
   },
   {
    "duration": 50,
    "start_time": "2024-07-11T17:44:06.362Z"
   },
   {
    "duration": 16,
    "start_time": "2024-07-11T17:44:06.414Z"
   },
   {
    "duration": 12,
    "start_time": "2024-07-11T17:44:06.431Z"
   },
   {
    "duration": 3,
    "start_time": "2024-07-11T17:44:06.444Z"
   },
   {
    "duration": 30,
    "start_time": "2024-07-11T17:44:06.448Z"
   },
   {
    "duration": 20,
    "start_time": "2024-07-11T17:44:06.480Z"
   },
   {
    "duration": 19,
    "start_time": "2024-07-11T17:44:06.502Z"
   },
   {
    "duration": 13,
    "start_time": "2024-07-11T17:44:06.522Z"
   },
   {
    "duration": 23,
    "start_time": "2024-07-11T17:44:06.538Z"
   },
   {
    "duration": 6,
    "start_time": "2024-07-11T17:44:06.563Z"
   },
   {
    "duration": 34,
    "start_time": "2024-07-11T17:44:06.571Z"
   },
   {
    "duration": 20,
    "start_time": "2024-07-11T17:44:06.606Z"
   },
   {
    "duration": 14,
    "start_time": "2024-07-11T17:44:06.627Z"
   },
   {
    "duration": 13,
    "start_time": "2024-07-11T17:44:06.643Z"
   },
   {
    "duration": 291,
    "start_time": "2024-07-11T17:44:06.657Z"
   },
   {
    "duration": 259,
    "start_time": "2024-07-11T17:44:06.950Z"
   },
   {
    "duration": 470,
    "start_time": "2024-07-11T17:44:07.210Z"
   },
   {
    "duration": 326,
    "start_time": "2024-07-11T17:44:07.682Z"
   },
   {
    "duration": 327,
    "start_time": "2024-07-11T17:44:08.009Z"
   },
   {
    "duration": 24,
    "start_time": "2024-07-11T17:44:08.337Z"
   },
   {
    "duration": 5,
    "start_time": "2024-07-11T17:44:08.363Z"
   },
   {
    "duration": 270,
    "start_time": "2024-07-11T17:44:08.369Z"
   },
   {
    "duration": 4,
    "start_time": "2024-07-11T17:44:08.641Z"
   },
   {
    "duration": 261,
    "start_time": "2024-07-11T17:44:08.657Z"
   },
   {
    "duration": 1524,
    "start_time": "2024-07-11T17:44:08.920Z"
   },
   {
    "duration": 351,
    "start_time": "2024-07-11T17:44:10.445Z"
   },
   {
    "duration": 8,
    "start_time": "2024-07-11T17:44:10.799Z"
   },
   {
    "duration": 470,
    "start_time": "2024-07-11T17:44:10.808Z"
   },
   {
    "duration": 518,
    "start_time": "2024-07-11T17:44:11.279Z"
   },
   {
    "duration": 460,
    "start_time": "2024-07-11T17:44:11.798Z"
   },
   {
    "duration": 9,
    "start_time": "2024-07-11T17:44:12.260Z"
   },
   {
    "duration": 6,
    "start_time": "2024-07-11T17:44:12.270Z"
   },
   {
    "duration": 12,
    "start_time": "2024-07-11T17:44:12.277Z"
   },
   {
    "duration": 6,
    "start_time": "2024-07-11T17:44:12.291Z"
   },
   {
    "duration": 305,
    "start_time": "2024-07-11T17:46:43.887Z"
   },
   {
    "duration": 53,
    "start_time": "2024-07-11T17:47:56.700Z"
   },
   {
    "duration": 235,
    "start_time": "2024-07-11T17:51:35.437Z"
   },
   {
    "duration": 207,
    "start_time": "2024-07-11T17:51:48.060Z"
   },
   {
    "duration": 215,
    "start_time": "2024-07-11T17:51:58.768Z"
   },
   {
    "duration": 302,
    "start_time": "2024-07-11T18:03:25.801Z"
   },
   {
    "duration": 18,
    "start_time": "2024-07-11T18:08:30.201Z"
   },
   {
    "duration": 20,
    "start_time": "2024-07-11T18:12:21.499Z"
   },
   {
    "duration": 19,
    "start_time": "2024-07-11T18:12:51.616Z"
   },
   {
    "duration": 19,
    "start_time": "2024-07-11T18:13:02.801Z"
   },
   {
    "duration": 1000,
    "start_time": "2024-07-11T18:14:03.881Z"
   },
   {
    "duration": 52,
    "start_time": "2024-07-11T18:14:04.883Z"
   },
   {
    "duration": 15,
    "start_time": "2024-07-11T18:14:04.936Z"
   },
   {
    "duration": 22,
    "start_time": "2024-07-11T18:14:04.953Z"
   },
   {
    "duration": 4,
    "start_time": "2024-07-11T18:14:04.977Z"
   },
   {
    "duration": 23,
    "start_time": "2024-07-11T18:14:04.983Z"
   },
   {
    "duration": 64,
    "start_time": "2024-07-11T18:14:05.008Z"
   },
   {
    "duration": 32,
    "start_time": "2024-07-11T18:14:05.073Z"
   },
   {
    "duration": 17,
    "start_time": "2024-07-11T18:14:05.106Z"
   },
   {
    "duration": 26,
    "start_time": "2024-07-11T18:14:05.126Z"
   },
   {
    "duration": 8,
    "start_time": "2024-07-11T18:14:05.153Z"
   },
   {
    "duration": 17,
    "start_time": "2024-07-11T18:14:05.163Z"
   },
   {
    "duration": 47,
    "start_time": "2024-07-11T18:14:05.182Z"
   },
   {
    "duration": 32,
    "start_time": "2024-07-11T18:14:05.230Z"
   },
   {
    "duration": 19,
    "start_time": "2024-07-11T18:14:05.264Z"
   },
   {
    "duration": 325,
    "start_time": "2024-07-11T18:14:05.284Z"
   },
   {
    "duration": 277,
    "start_time": "2024-07-11T18:14:05.610Z"
   },
   {
    "duration": 348,
    "start_time": "2024-07-11T18:14:05.888Z"
   },
   {
    "duration": 207,
    "start_time": "2024-07-11T18:14:06.237Z"
   },
   {
    "duration": 257,
    "start_time": "2024-07-11T18:14:06.445Z"
   },
   {
    "duration": 18,
    "start_time": "2024-07-11T18:14:06.704Z"
   },
   {
    "duration": 5,
    "start_time": "2024-07-11T18:14:06.724Z"
   },
   {
    "duration": 334,
    "start_time": "2024-07-11T18:14:06.730Z"
   },
   {
    "duration": 5,
    "start_time": "2024-07-11T18:14:07.065Z"
   },
   {
    "duration": 271,
    "start_time": "2024-07-11T18:14:07.071Z"
   },
   {
    "duration": 1574,
    "start_time": "2024-07-11T18:14:07.344Z"
   },
   {
    "duration": 373,
    "start_time": "2024-07-11T18:14:08.919Z"
   },
   {
    "duration": 8,
    "start_time": "2024-07-11T18:14:09.296Z"
   },
   {
    "duration": 521,
    "start_time": "2024-07-11T18:14:09.305Z"
   },
   {
    "duration": 593,
    "start_time": "2024-07-11T18:14:09.828Z"
   },
   {
    "duration": 501,
    "start_time": "2024-07-11T18:14:10.422Z"
   },
   {
    "duration": 12,
    "start_time": "2024-07-11T18:14:10.924Z"
   },
   {
    "duration": 21,
    "start_time": "2024-07-11T18:14:10.937Z"
   },
   {
    "duration": 13,
    "start_time": "2024-07-11T18:14:10.960Z"
   },
   {
    "duration": 12,
    "start_time": "2024-07-11T18:14:10.974Z"
   },
   {
    "duration": 19,
    "start_time": "2024-07-11T18:22:32.200Z"
   },
   {
    "duration": 1521,
    "start_time": "2024-07-11T18:26:21.389Z"
   },
   {
    "duration": 1005,
    "start_time": "2024-07-11T18:26:42.665Z"
   },
   {
    "duration": 61,
    "start_time": "2024-07-11T18:26:43.672Z"
   },
   {
    "duration": 17,
    "start_time": "2024-07-11T18:26:43.734Z"
   },
   {
    "duration": 12,
    "start_time": "2024-07-11T18:26:43.752Z"
   },
   {
    "duration": 3,
    "start_time": "2024-07-11T18:26:43.766Z"
   },
   {
    "duration": 10,
    "start_time": "2024-07-11T18:26:43.770Z"
   },
   {
    "duration": 11,
    "start_time": "2024-07-11T18:26:43.781Z"
   },
   {
    "duration": 15,
    "start_time": "2024-07-11T18:26:43.793Z"
   },
   {
    "duration": 12,
    "start_time": "2024-07-11T18:26:43.809Z"
   },
   {
    "duration": 57,
    "start_time": "2024-07-11T18:26:43.823Z"
   },
   {
    "duration": 7,
    "start_time": "2024-07-11T18:26:43.882Z"
   },
   {
    "duration": 15,
    "start_time": "2024-07-11T18:26:43.890Z"
   },
   {
    "duration": 12,
    "start_time": "2024-07-11T18:26:43.907Z"
   },
   {
    "duration": 44,
    "start_time": "2024-07-11T18:26:43.921Z"
   },
   {
    "duration": 13,
    "start_time": "2024-07-11T18:26:43.967Z"
   },
   {
    "duration": 303,
    "start_time": "2024-07-11T18:26:43.982Z"
   },
   {
    "duration": 275,
    "start_time": "2024-07-11T18:26:44.286Z"
   },
   {
    "duration": 353,
    "start_time": "2024-07-11T18:26:44.563Z"
   },
   {
    "duration": 214,
    "start_time": "2024-07-11T18:26:44.917Z"
   },
   {
    "duration": 263,
    "start_time": "2024-07-11T18:26:45.132Z"
   },
   {
    "duration": 18,
    "start_time": "2024-07-11T18:26:45.397Z"
   },
   {
    "duration": 7,
    "start_time": "2024-07-11T18:26:45.417Z"
   },
   {
    "duration": 333,
    "start_time": "2024-07-11T18:26:45.425Z"
   },
   {
    "duration": 4,
    "start_time": "2024-07-11T18:26:45.759Z"
   },
   {
    "duration": 264,
    "start_time": "2024-07-11T18:26:45.764Z"
   },
   {
    "duration": 1515,
    "start_time": "2024-07-11T18:26:46.030Z"
   },
   {
    "duration": 352,
    "start_time": "2024-07-11T18:26:47.556Z"
   },
   {
    "duration": 8,
    "start_time": "2024-07-11T18:26:47.912Z"
   },
   {
    "duration": 542,
    "start_time": "2024-07-11T18:26:47.922Z"
   },
   {
    "duration": 570,
    "start_time": "2024-07-11T18:26:48.465Z"
   },
   {
    "duration": 605,
    "start_time": "2024-07-11T18:26:49.037Z"
   },
   {
    "duration": 16,
    "start_time": "2024-07-11T18:26:49.644Z"
   },
   {
    "duration": 6,
    "start_time": "2024-07-11T18:26:49.661Z"
   },
   {
    "duration": 13,
    "start_time": "2024-07-11T18:26:49.668Z"
   },
   {
    "duration": 6,
    "start_time": "2024-07-11T18:26:49.682Z"
   },
   {
    "duration": 860,
    "start_time": "2024-07-11T18:27:58.351Z"
   },
   {
    "duration": 969,
    "start_time": "2024-07-11T18:37:23.201Z"
   },
   {
    "duration": 51,
    "start_time": "2024-07-11T18:37:24.172Z"
   },
   {
    "duration": 16,
    "start_time": "2024-07-11T18:37:24.224Z"
   },
   {
    "duration": 15,
    "start_time": "2024-07-11T18:37:24.241Z"
   },
   {
    "duration": 4,
    "start_time": "2024-07-11T18:37:24.257Z"
   },
   {
    "duration": 10,
    "start_time": "2024-07-11T18:37:24.263Z"
   },
   {
    "duration": 12,
    "start_time": "2024-07-11T18:37:24.274Z"
   },
   {
    "duration": 29,
    "start_time": "2024-07-11T18:37:24.288Z"
   },
   {
    "duration": 13,
    "start_time": "2024-07-11T18:37:24.319Z"
   },
   {
    "duration": 46,
    "start_time": "2024-07-11T18:37:24.334Z"
   },
   {
    "duration": 6,
    "start_time": "2024-07-11T18:37:24.381Z"
   },
   {
    "duration": 18,
    "start_time": "2024-07-11T18:37:24.388Z"
   },
   {
    "duration": 12,
    "start_time": "2024-07-11T18:37:24.407Z"
   },
   {
    "duration": 13,
    "start_time": "2024-07-11T18:37:24.420Z"
   },
   {
    "duration": 38,
    "start_time": "2024-07-11T18:37:24.434Z"
   },
   {
    "duration": 308,
    "start_time": "2024-07-11T18:37:24.473Z"
   },
   {
    "duration": 274,
    "start_time": "2024-07-11T18:37:24.782Z"
   },
   {
    "duration": 362,
    "start_time": "2024-07-11T18:37:25.058Z"
   },
   {
    "duration": 223,
    "start_time": "2024-07-11T18:37:25.421Z"
   },
   {
    "duration": 276,
    "start_time": "2024-07-11T18:37:25.645Z"
   },
   {
    "duration": 18,
    "start_time": "2024-07-11T18:37:25.923Z"
   },
   {
    "duration": 18,
    "start_time": "2024-07-11T18:37:25.942Z"
   },
   {
    "duration": 327,
    "start_time": "2024-07-11T18:37:25.962Z"
   },
   {
    "duration": 4,
    "start_time": "2024-07-11T18:37:26.291Z"
   },
   {
    "duration": 291,
    "start_time": "2024-07-11T18:37:26.297Z"
   },
   {
    "duration": 790,
    "start_time": "2024-07-11T18:37:26.589Z"
   },
   {
    "duration": 424,
    "start_time": "2024-07-11T18:37:27.381Z"
   },
   {
    "duration": 8,
    "start_time": "2024-07-11T18:37:27.808Z"
   },
   {
    "duration": 500,
    "start_time": "2024-07-11T18:37:27.817Z"
   },
   {
    "duration": 516,
    "start_time": "2024-07-11T18:37:28.318Z"
   },
   {
    "duration": 538,
    "start_time": "2024-07-11T18:37:28.835Z"
   },
   {
    "duration": 10,
    "start_time": "2024-07-11T18:37:29.374Z"
   },
   {
    "duration": 5,
    "start_time": "2024-07-11T18:37:29.385Z"
   },
   {
    "duration": 10,
    "start_time": "2024-07-11T18:37:29.391Z"
   },
   {
    "duration": 5,
    "start_time": "2024-07-11T18:37:29.402Z"
   },
   {
    "duration": 977,
    "start_time": "2024-07-11T18:38:37.598Z"
   },
   {
    "duration": 57,
    "start_time": "2024-07-11T18:38:38.577Z"
   },
   {
    "duration": 15,
    "start_time": "2024-07-11T18:38:38.635Z"
   },
   {
    "duration": 14,
    "start_time": "2024-07-11T18:38:38.651Z"
   },
   {
    "duration": 4,
    "start_time": "2024-07-11T18:38:38.666Z"
   },
   {
    "duration": 7,
    "start_time": "2024-07-11T18:38:38.671Z"
   },
   {
    "duration": 10,
    "start_time": "2024-07-11T18:38:38.679Z"
   },
   {
    "duration": 14,
    "start_time": "2024-07-11T18:38:38.691Z"
   },
   {
    "duration": 11,
    "start_time": "2024-07-11T18:38:38.706Z"
   },
   {
    "duration": 50,
    "start_time": "2024-07-11T18:38:38.719Z"
   },
   {
    "duration": 6,
    "start_time": "2024-07-11T18:38:38.770Z"
   },
   {
    "duration": 16,
    "start_time": "2024-07-11T18:38:38.777Z"
   },
   {
    "duration": 13,
    "start_time": "2024-07-11T18:38:38.794Z"
   },
   {
    "duration": 15,
    "start_time": "2024-07-11T18:38:38.808Z"
   },
   {
    "duration": 41,
    "start_time": "2024-07-11T18:38:38.824Z"
   },
   {
    "duration": 285,
    "start_time": "2024-07-11T18:38:38.866Z"
   },
   {
    "duration": 247,
    "start_time": "2024-07-11T18:38:39.153Z"
   },
   {
    "duration": 347,
    "start_time": "2024-07-11T18:38:39.401Z"
   },
   {
    "duration": 212,
    "start_time": "2024-07-11T18:38:39.749Z"
   },
   {
    "duration": 267,
    "start_time": "2024-07-11T18:38:39.963Z"
   },
   {
    "duration": 30,
    "start_time": "2024-07-11T18:38:40.232Z"
   },
   {
    "duration": 4,
    "start_time": "2024-07-11T18:38:40.263Z"
   },
   {
    "duration": 301,
    "start_time": "2024-07-11T18:38:40.268Z"
   },
   {
    "duration": 4,
    "start_time": "2024-07-11T18:38:40.571Z"
   },
   {
    "duration": 264,
    "start_time": "2024-07-11T18:38:40.576Z"
   },
   {
    "duration": 745,
    "start_time": "2024-07-11T18:38:40.841Z"
   },
   {
    "duration": 409,
    "start_time": "2024-07-11T18:38:41.587Z"
   },
   {
    "duration": 8,
    "start_time": "2024-07-11T18:38:41.999Z"
   },
   {
    "duration": 485,
    "start_time": "2024-07-11T18:38:42.009Z"
   },
   {
    "duration": 481,
    "start_time": "2024-07-11T18:38:42.495Z"
   },
   {
    "duration": 587,
    "start_time": "2024-07-11T18:38:42.977Z"
   },
   {
    "duration": 9,
    "start_time": "2024-07-11T18:38:43.565Z"
   },
   {
    "duration": 7,
    "start_time": "2024-07-11T18:38:43.575Z"
   },
   {
    "duration": 10,
    "start_time": "2024-07-11T18:38:43.584Z"
   },
   {
    "duration": 5,
    "start_time": "2024-07-11T18:38:43.595Z"
   },
   {
    "duration": 1240,
    "start_time": "2024-07-12T15:24:46.380Z"
   },
   {
    "duration": 201,
    "start_time": "2024-07-12T15:24:47.621Z"
   },
   {
    "duration": 17,
    "start_time": "2024-07-12T15:24:47.823Z"
   },
   {
    "duration": 35,
    "start_time": "2024-07-12T15:24:47.841Z"
   },
   {
    "duration": 10,
    "start_time": "2024-07-12T15:24:47.877Z"
   },
   {
    "duration": 9,
    "start_time": "2024-07-12T15:24:47.888Z"
   },
   {
    "duration": 11,
    "start_time": "2024-07-12T15:24:47.899Z"
   },
   {
    "duration": 16,
    "start_time": "2024-07-12T15:24:47.911Z"
   },
   {
    "duration": 13,
    "start_time": "2024-07-12T15:24:47.928Z"
   },
   {
    "duration": 90,
    "start_time": "2024-07-12T15:24:47.943Z"
   },
   {
    "duration": 8,
    "start_time": "2024-07-12T15:24:48.034Z"
   },
   {
    "duration": 19,
    "start_time": "2024-07-12T15:24:48.043Z"
   },
   {
    "duration": 15,
    "start_time": "2024-07-12T15:24:48.063Z"
   },
   {
    "duration": 18,
    "start_time": "2024-07-12T15:24:48.080Z"
   },
   {
    "duration": 16,
    "start_time": "2024-07-12T15:24:48.099Z"
   },
   {
    "duration": 332,
    "start_time": "2024-07-12T15:24:48.116Z"
   },
   {
    "duration": 285,
    "start_time": "2024-07-12T15:24:48.449Z"
   },
   {
    "duration": 367,
    "start_time": "2024-07-12T15:24:48.735Z"
   },
   {
    "duration": 218,
    "start_time": "2024-07-12T15:24:49.104Z"
   },
   {
    "duration": 267,
    "start_time": "2024-07-12T15:24:49.323Z"
   },
   {
    "duration": 19,
    "start_time": "2024-07-12T15:24:49.591Z"
   },
   {
    "duration": 3,
    "start_time": "2024-07-12T15:24:49.611Z"
   },
   {
    "duration": 348,
    "start_time": "2024-07-12T15:24:49.615Z"
   },
   {
    "duration": 4,
    "start_time": "2024-07-12T15:24:49.964Z"
   },
   {
    "duration": 328,
    "start_time": "2024-07-12T15:24:49.969Z"
   },
   {
    "duration": 804,
    "start_time": "2024-07-12T15:24:50.299Z"
   },
   {
    "duration": 437,
    "start_time": "2024-07-12T15:24:51.104Z"
   },
   {
    "duration": 8,
    "start_time": "2024-07-12T15:24:51.544Z"
   },
   {
    "duration": 519,
    "start_time": "2024-07-12T15:24:51.553Z"
   },
   {
    "duration": 513,
    "start_time": "2024-07-12T15:24:52.073Z"
   },
   {
    "duration": 564,
    "start_time": "2024-07-12T15:24:52.587Z"
   },
   {
    "duration": 11,
    "start_time": "2024-07-12T15:24:53.152Z"
   },
   {
    "duration": 19,
    "start_time": "2024-07-12T15:24:53.164Z"
   },
   {
    "duration": 45,
    "start_time": "2024-07-12T15:24:53.184Z"
   },
   {
    "duration": 18,
    "start_time": "2024-07-12T15:24:53.231Z"
   }
  ],
  "kernelspec": {
   "display_name": "Python 3 (ipykernel)",
   "language": "python",
   "name": "python3"
  },
  "language_info": {
   "codemirror_mode": {
    "name": "ipython",
    "version": 3
   },
   "file_extension": ".py",
   "mimetype": "text/x-python",
   "name": "python",
   "nbconvert_exporter": "python",
   "pygments_lexer": "ipython3",
   "version": "3.9.5"
  },
  "toc": {
   "base_numbering": 1,
   "nav_menu": {},
   "number_sections": true,
   "sideBar": true,
   "skip_h1_title": true,
   "title_cell": "Table of Contents",
   "title_sidebar": "Contents",
   "toc_cell": false,
   "toc_position": {
    "height": "calc(100% - 180px)",
    "left": "10px",
    "top": "150px",
    "width": "303.825px"
   },
   "toc_section_display": true,
   "toc_window_display": true
  }
 },
 "nbformat": 4,
 "nbformat_minor": 2
}
