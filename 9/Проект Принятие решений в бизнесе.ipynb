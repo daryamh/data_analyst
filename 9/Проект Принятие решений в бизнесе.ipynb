{
 "cells": [
  {
   "cell_type": "markdown",
   "metadata": {},
   "source": [
    "<div style=\"border:solid Chocolate 2px; padding: 40px\">\n",
    "\n",
    "<b>Дарья, приветствую!</b>\n",
    "\n",
    "Буду рада с тобой познакомиться. Меня зовут Евгения Маракова и я буду ревьюером твоего проекта. Если ты не против, то предлагаю общаться на \"ты\":) Если удобнее на \"вы\", то нет проблем, только скажи об этом.\n",
    "\n",
    "В процессе работы ты встретишь комментарии <font color='green'>зеленого</font>, <font color='gold'>желтого</font> и <font color='red'>красного</font> цветов. Что они значат, смотри ниже:\n",
    "    <br/>\n",
    "\n",
    "<div class=\"alert alert-success\">\n",
    "<h2> Комментарий ревьюера <a class=\"tocSkip\"> </h2>\n",
    "\n",
    "<b>Отлично!✅:</b> Решение на этом шаге является полностью правильным. У тебя хорошо получается проводить АВ-тестирование и анализировать данные!\n",
    "</div>\n",
    "\n",
    "<br/>\n",
    "\n",
    "<div class=\"alert alert-warning\">\n",
    "    <h2> Комментарий ревьюера <a class=\"tocSkip\"> </h2>\n",
    "    \n",
    "<b>Можно лучше⚠️:</b> Решение на этом шаге станет еще лучше, если внести небольшие коррективы.\n",
    "</div>\n",
    "\n",
    "\n",
    "<br/>\n",
    "<div class=\"alert alert-block alert-danger\">\n",
    "<h2> Комментарий ревьюера <a class=\"tocSkip\"></h2>\n",
    "\n",
    "    \n",
    "<b>Необходимо исправить❌:</b>\n",
    " Решение на этом шаге требует существенной переработки и внесения правок. Напоминаю, что проект не может быть принят с первого раза, если ревью содержит комментарии, рекомендующие доработать шаги.\n",
    "</div>\n",
    "    \n",
    "Увидев мой комментарий, не удаляй его, он будет очень полезен в случае повторной проверки работы😊\n",
    "    \n",
    "Свой комментарий помечай так, как показано ниже, тогда нам будет легче вести диалог, а мне выполнить повторную проверку проекта.\n",
    "    <div class=\"alert alert-info\"> <b>Комментарий студента: </b> </div>\n",
    "    \n"
   ]
  },
  {
   "cell_type": "markdown",
   "metadata": {},
   "source": [
    "# Проект «Принятие решений в бизнесе»"
   ]
  },
  {
   "cell_type": "markdown",
   "metadata": {},
   "source": [
    "Проведем анализ интернет-магазина. В первой части проекта приоретизируем гипотезы методами ICE и RICE. Во второй части проведем оценку результатов реализованного A/B-теста. \n",
    "\n",
    "Основные метрики, которые мы рассмотрим:\n",
    "- Выручка по группам;\n",
    "- Средний чек по группам;\n",
    "- Конверсия (среднее количество заказов на посетителя) по группам;\n",
    "- Количество заказов по пользователям;\n",
    "- Стоимости заказов;\n",
    "- Статистические значимости различий в среднем количестве заказов на посетителя между группами по «сырым» данным и отфильтрованным данным без аномалий;\n",
    "- Статистические значимости различий в среднем чеке заказа между группами по «сырым» данным и отфильтрованным данным без аномалий."
   ]
  },
  {
   "cell_type": "markdown",
   "metadata": {},
   "source": [
    "В нашем распоряжении три датасета.\n",
    "\n",
    "Файл `/datasets/hypothesis.csv`:\n",
    "- `Hypothesis` — краткое описание гипотезы;\n",
    "- `Reach` — охват пользователей по 10-балльной шкале;\n",
    "- `Impact` — влияние на пользователей по 10-балльной шкале;\n",
    "- `Confidence` — уверенность в гипотезе по 10-балльной шкале;\n",
    "- `Efforts` — затраты ресурсов на проверку гипотезы по 10-балльной шкале. Чем больше значение Efforts, тем дороже проверка гипотезы.\n",
    "\n",
    "Файл `/datasets/orders.csv`:\n",
    "- `transactionId` — идентификатор заказа;\n",
    "- `visitorId` — идентификатор пользователя, совершившего заказ;\n",
    "- `date` — дата, когда был совершён заказ;\n",
    "- `revenue` — выручка заказа;\n",
    "- `group` — группа A/B-теста, в которую попал заказ.\n",
    "\n",
    "Файл `/datasets/visitors.csv`:\n",
    "- `date` — дата;\n",
    "- `group` — группа A/B-теста;\n",
    "- `visitors` — количество пользователей в указанную дату в указанной группе A/B-теста"
   ]
  },
  {
   "cell_type": "markdown",
   "metadata": {},
   "source": [
    "<div class=\"alert alert-success\">\n",
    "<h2> Комментарий ревьюера <a class=\"tocSkip\"> </h2>\n",
    "\n",
    "<b>Отлично!✅:</b> Супер, что добавила описание проекта и данных, так будет легче каждому соореентироваться в работе!\n",
    "</div>"
   ]
  },
  {
   "cell_type": "markdown",
   "metadata": {},
   "source": [
    "<div class=\"alert alert-warning\">\n",
    "    <h2> Комментарий ревьюера <a class=\"tocSkip\"> </h2>\n",
    "    \n",
    "<b>Можно лучше⚠️:</b> Будет здорово, если в вводной части уделишь внимание решаемой бизнес-задаче. Это позволит заказчику анализа понять, на что был направлен проект. В нашем случае, происходит оценка результатов АВ теста, поэтому рекомендую указать в целях к этой части - изучение каких основных метрик будет проводиться в ходе эксперимента. В реальных проектах хорошо приводить дизайн АВ теста (или его техническое задание).\n",
    "</div>"
   ]
  },
  {
   "cell_type": "markdown",
   "metadata": {},
   "source": [
    "<div class=\"alert alert-info\"> \n",
    "<b>Комментарий студента: </b> \n",
    "\n",
    "Спасибо! Добавила\n",
    "\n",
    "</div>"
   ]
  },
  {
   "cell_type": "markdown",
   "metadata": {},
   "source": [
    "<div class=\"alert alert-success\">\n",
    "<h2> Комментарий ревьюера v2<a class=\"tocSkip\"> </h2>\n",
    "\n",
    "<b>Отлично!✅:</b> Отлично!\n",
    "</div>"
   ]
  },
  {
   "cell_type": "code",
   "execution_count": 2,
   "metadata": {},
   "outputs": [],
   "source": [
    "# Импортируем библиотеки\n",
    "import pandas as pd\n",
    "import numpy as np\n",
    "import matplotlib.pyplot as plt\n",
    "import matplotlib.ticker as ticker\n",
    "import datetime as dt\n",
    "import scipy.stats as stats"
   ]
  },
  {
   "cell_type": "markdown",
   "metadata": {},
   "source": [
    "## Загрузка данных и подготовка к анализу"
   ]
  },
  {
   "cell_type": "markdown",
   "metadata": {},
   "source": [
    "### Загрузка данных"
   ]
  },
  {
   "cell_type": "code",
   "execution_count": 3,
   "metadata": {},
   "outputs": [],
   "source": [
    "hypothesis = pd.read_csv('/datasets/hypothesis.csv')\n",
    "orders = pd.read_csv('/datasets/orders.csv')\n",
    "visitors = pd.read_csv('/datasets/visitors.csv')"
   ]
  },
  {
   "cell_type": "code",
   "execution_count": 5,
   "metadata": {},
   "outputs": [
    {
     "data": {
      "text/html": [
       "<div>\n",
       "<style scoped>\n",
       "    .dataframe tbody tr th:only-of-type {\n",
       "        vertical-align: middle;\n",
       "    }\n",
       "\n",
       "    .dataframe tbody tr th {\n",
       "        vertical-align: top;\n",
       "    }\n",
       "\n",
       "    .dataframe thead th {\n",
       "        text-align: right;\n",
       "    }\n",
       "</style>\n",
       "<table border=\"1\" class=\"dataframe\">\n",
       "  <thead>\n",
       "    <tr style=\"text-align: right;\">\n",
       "      <th></th>\n",
       "      <th>Hypothesis</th>\n",
       "      <th>Reach</th>\n",
       "      <th>Impact</th>\n",
       "      <th>Confidence</th>\n",
       "      <th>Efforts</th>\n",
       "    </tr>\n",
       "  </thead>\n",
       "  <tbody>\n",
       "    <tr>\n",
       "      <th>0</th>\n",
       "      <td>Добавить два новых канала привлечения трафика, что позволит привлекать на 30% больше пользователей</td>\n",
       "      <td>3</td>\n",
       "      <td>10</td>\n",
       "      <td>8</td>\n",
       "      <td>6</td>\n",
       "    </tr>\n",
       "    <tr>\n",
       "      <th>1</th>\n",
       "      <td>Запустить собственную службу доставки, что сократит срок доставки заказов</td>\n",
       "      <td>2</td>\n",
       "      <td>5</td>\n",
       "      <td>4</td>\n",
       "      <td>10</td>\n",
       "    </tr>\n",
       "    <tr>\n",
       "      <th>2</th>\n",
       "      <td>Добавить блоки рекомендаций товаров на сайт интернет магазина, чтобы повысить конверсию и средний чек заказа</td>\n",
       "      <td>8</td>\n",
       "      <td>3</td>\n",
       "      <td>7</td>\n",
       "      <td>3</td>\n",
       "    </tr>\n",
       "    <tr>\n",
       "      <th>3</th>\n",
       "      <td>Изменить структура категорий, что увеличит конверсию, т.к. пользователи быстрее найдут нужный товар</td>\n",
       "      <td>8</td>\n",
       "      <td>3</td>\n",
       "      <td>3</td>\n",
       "      <td>8</td>\n",
       "    </tr>\n",
       "    <tr>\n",
       "      <th>4</th>\n",
       "      <td>Изменить цвет фона главной страницы, чтобы увеличить вовлеченность пользователей</td>\n",
       "      <td>3</td>\n",
       "      <td>1</td>\n",
       "      <td>1</td>\n",
       "      <td>1</td>\n",
       "    </tr>\n",
       "  </tbody>\n",
       "</table>\n",
       "</div>"
      ],
      "text/plain": [
       "                                                                                                     Hypothesis  \\\n",
       "0            Добавить два новых канала привлечения трафика, что позволит привлекать на 30% больше пользователей   \n",
       "1                                     Запустить собственную службу доставки, что сократит срок доставки заказов   \n",
       "2  Добавить блоки рекомендаций товаров на сайт интернет магазина, чтобы повысить конверсию и средний чек заказа   \n",
       "3           Изменить структура категорий, что увеличит конверсию, т.к. пользователи быстрее найдут нужный товар   \n",
       "4                              Изменить цвет фона главной страницы, чтобы увеличить вовлеченность пользователей   \n",
       "\n",
       "   Reach  Impact  Confidence  Efforts  \n",
       "0      3      10           8        6  \n",
       "1      2       5           4       10  \n",
       "2      8       3           7        3  \n",
       "3      8       3           3        8  \n",
       "4      3       1           1        1  "
      ]
     },
     "metadata": {},
     "output_type": "display_data"
    },
    {
     "data": {
      "text/html": [
       "<div>\n",
       "<style scoped>\n",
       "    .dataframe tbody tr th:only-of-type {\n",
       "        vertical-align: middle;\n",
       "    }\n",
       "\n",
       "    .dataframe tbody tr th {\n",
       "        vertical-align: top;\n",
       "    }\n",
       "\n",
       "    .dataframe thead th {\n",
       "        text-align: right;\n",
       "    }\n",
       "</style>\n",
       "<table border=\"1\" class=\"dataframe\">\n",
       "  <thead>\n",
       "    <tr style=\"text-align: right;\">\n",
       "      <th></th>\n",
       "      <th>transactionId</th>\n",
       "      <th>visitorId</th>\n",
       "      <th>date</th>\n",
       "      <th>revenue</th>\n",
       "      <th>group</th>\n",
       "    </tr>\n",
       "  </thead>\n",
       "  <tbody>\n",
       "    <tr>\n",
       "      <th>0</th>\n",
       "      <td>3667963787</td>\n",
       "      <td>3312258926</td>\n",
       "      <td>2019-08-15</td>\n",
       "      <td>1650</td>\n",
       "      <td>B</td>\n",
       "    </tr>\n",
       "    <tr>\n",
       "      <th>1</th>\n",
       "      <td>2804400009</td>\n",
       "      <td>3642806036</td>\n",
       "      <td>2019-08-15</td>\n",
       "      <td>730</td>\n",
       "      <td>B</td>\n",
       "    </tr>\n",
       "    <tr>\n",
       "      <th>2</th>\n",
       "      <td>2961555356</td>\n",
       "      <td>4069496402</td>\n",
       "      <td>2019-08-15</td>\n",
       "      <td>400</td>\n",
       "      <td>A</td>\n",
       "    </tr>\n",
       "    <tr>\n",
       "      <th>3</th>\n",
       "      <td>3797467345</td>\n",
       "      <td>1196621759</td>\n",
       "      <td>2019-08-15</td>\n",
       "      <td>9759</td>\n",
       "      <td>B</td>\n",
       "    </tr>\n",
       "    <tr>\n",
       "      <th>4</th>\n",
       "      <td>2282983706</td>\n",
       "      <td>2322279887</td>\n",
       "      <td>2019-08-15</td>\n",
       "      <td>2308</td>\n",
       "      <td>B</td>\n",
       "    </tr>\n",
       "  </tbody>\n",
       "</table>\n",
       "</div>"
      ],
      "text/plain": [
       "   transactionId   visitorId        date  revenue group\n",
       "0     3667963787  3312258926  2019-08-15     1650     B\n",
       "1     2804400009  3642806036  2019-08-15      730     B\n",
       "2     2961555356  4069496402  2019-08-15      400     A\n",
       "3     3797467345  1196621759  2019-08-15     9759     B\n",
       "4     2282983706  2322279887  2019-08-15     2308     B"
      ]
     },
     "metadata": {},
     "output_type": "display_data"
    },
    {
     "data": {
      "text/html": [
       "<div>\n",
       "<style scoped>\n",
       "    .dataframe tbody tr th:only-of-type {\n",
       "        vertical-align: middle;\n",
       "    }\n",
       "\n",
       "    .dataframe tbody tr th {\n",
       "        vertical-align: top;\n",
       "    }\n",
       "\n",
       "    .dataframe thead th {\n",
       "        text-align: right;\n",
       "    }\n",
       "</style>\n",
       "<table border=\"1\" class=\"dataframe\">\n",
       "  <thead>\n",
       "    <tr style=\"text-align: right;\">\n",
       "      <th></th>\n",
       "      <th>date</th>\n",
       "      <th>group</th>\n",
       "      <th>visitors</th>\n",
       "    </tr>\n",
       "  </thead>\n",
       "  <tbody>\n",
       "    <tr>\n",
       "      <th>0</th>\n",
       "      <td>2019-08-01</td>\n",
       "      <td>A</td>\n",
       "      <td>719</td>\n",
       "    </tr>\n",
       "    <tr>\n",
       "      <th>1</th>\n",
       "      <td>2019-08-02</td>\n",
       "      <td>A</td>\n",
       "      <td>619</td>\n",
       "    </tr>\n",
       "    <tr>\n",
       "      <th>2</th>\n",
       "      <td>2019-08-03</td>\n",
       "      <td>A</td>\n",
       "      <td>507</td>\n",
       "    </tr>\n",
       "    <tr>\n",
       "      <th>3</th>\n",
       "      <td>2019-08-04</td>\n",
       "      <td>A</td>\n",
       "      <td>717</td>\n",
       "    </tr>\n",
       "    <tr>\n",
       "      <th>4</th>\n",
       "      <td>2019-08-05</td>\n",
       "      <td>A</td>\n",
       "      <td>756</td>\n",
       "    </tr>\n",
       "  </tbody>\n",
       "</table>\n",
       "</div>"
      ],
      "text/plain": [
       "         date group  visitors\n",
       "0  2019-08-01     A       719\n",
       "1  2019-08-02     A       619\n",
       "2  2019-08-03     A       507\n",
       "3  2019-08-04     A       717\n",
       "4  2019-08-05     A       756"
      ]
     },
     "metadata": {},
     "output_type": "display_data"
    }
   ],
   "source": [
    "# Сделаем так, чтобы гипотезы отображались полностью\n",
    "pd.options.display.max_colwidth = 150\n",
    "\n",
    "# Выведем на экран первые 5 строк датафреймов\n",
    "display(hypothesis.head())\n",
    "display(orders.head())\n",
    "display(visitors.head())"
   ]
  },
  {
   "cell_type": "markdown",
   "metadata": {},
   "source": [
    "<div class=\"alert alert-warning\">\n",
    "    <h2> Комментарий ревьюера <a class=\"tocSkip\"> </h2>\n",
    "    \n",
    "<b>Можно лучше⚠️:</b> Давай выведем названия гипотез полностью. Рекомендую использовать настройку pd.options.display.max_colwidth = 100, где 100 - количество символов. Кстати, pandas имеет много настроек - https://pandas.pydata.org/docs/user_guide/options.html. В сети есть публикации по этому поводу, например, https://towardsdatascience.com/8-commonly-used-pandas-display-options-you-should-know-a832365efa95. Лучше все же использовать дополнительные настройки тогда, когда в этом есть прямая необходимость, как в нашем проекте.\n",
    "</div>"
   ]
  },
  {
   "cell_type": "markdown",
   "metadata": {},
   "source": [
    "<div class=\"alert alert-info\"> \n",
    "<b>Комментарий студента: </b> \n",
    "\n",
    "Спасибо! Исправила\n",
    "\n",
    "</div>"
   ]
  },
  {
   "cell_type": "markdown",
   "metadata": {},
   "source": [
    "<div class=\"alert alert-success\">\n",
    "<h2> Комментарий ревьюера v2<a class=\"tocSkip\"> </h2>\n",
    "\n",
    "<b>Отлично!✅:</b> Красота!\n",
    "</div>"
   ]
  },
  {
   "cell_type": "code",
   "execution_count": 4,
   "metadata": {},
   "outputs": [
    {
     "name": "stdout",
     "output_type": "stream",
     "text": [
      "\u001b[1mИнформация для датафрейма 'hypothesis':\u001b[0m\n",
      "<class 'pandas.core.frame.DataFrame'>\n",
      "RangeIndex: 9 entries, 0 to 8\n",
      "Data columns (total 5 columns):\n",
      " #   Column      Non-Null Count  Dtype \n",
      "---  ------      --------------  ----- \n",
      " 0   Hypothesis  9 non-null      object\n",
      " 1   Reach       9 non-null      int64 \n",
      " 2   Impact      9 non-null      int64 \n",
      " 3   Confidence  9 non-null      int64 \n",
      " 4   Efforts     9 non-null      int64 \n",
      "dtypes: int64(4), object(1)\n",
      "memory usage: 488.0+ bytes\n",
      "\n",
      "\u001b[1mИнформация для датафрейма 'orders':\u001b[0m\n",
      "<class 'pandas.core.frame.DataFrame'>\n",
      "RangeIndex: 1197 entries, 0 to 1196\n",
      "Data columns (total 5 columns):\n",
      " #   Column         Non-Null Count  Dtype \n",
      "---  ------         --------------  ----- \n",
      " 0   transactionId  1197 non-null   int64 \n",
      " 1   visitorId      1197 non-null   int64 \n",
      " 2   date           1197 non-null   object\n",
      " 3   revenue        1197 non-null   int64 \n",
      " 4   group          1197 non-null   object\n",
      "dtypes: int64(3), object(2)\n",
      "memory usage: 46.9+ KB\n",
      "\n",
      "\u001b[1mИнформация для датафрейма 'visitors':\u001b[0m\n",
      "<class 'pandas.core.frame.DataFrame'>\n",
      "RangeIndex: 62 entries, 0 to 61\n",
      "Data columns (total 3 columns):\n",
      " #   Column    Non-Null Count  Dtype \n",
      "---  ------    --------------  ----- \n",
      " 0   date      62 non-null     object\n",
      " 1   group     62 non-null     object\n",
      " 2   visitors  62 non-null     int64 \n",
      "dtypes: int64(1), object(2)\n",
      "memory usage: 1.6+ KB\n",
      "\n"
     ]
    }
   ],
   "source": [
    "# Напишем функцию, выводящую общую информацию о датафрейме\n",
    "def dt_info(dt, dt_name):\n",
    "    print('\\033[1m' + f\"Информация для датафрейма '{dt_name}':\" + '\\033[0m')\n",
    "    dt.info()\n",
    "    print()\n",
    "\n",
    "# Выведем на экран общую информацию о датафреймах\n",
    "dt_info(hypothesis, 'hypothesis')\n",
    "dt_info(orders, 'orders')\n",
    "dt_info(visitors, 'visitors')"
   ]
  },
  {
   "cell_type": "markdown",
   "metadata": {},
   "source": [
    "Мы ознакомились с таблицами.\n",
    "\n",
    "В загруженном датафрейме hypothesis 5 столбцов, 9 строк с данными о гипотезах. Исходя из информации, выведенной выше, можем заметить, что имена столбцов заданы не корректно. Пропусков в данных нет.\n",
    "\n",
    "Датафрейм orders содержит 5 столбцов и 1197 строк. Названия столбцов 'transactionId' и 'visitorId' необходимо переименовать, а также изменить тип данных для столбца с датой события. Пропусков в данных нет.\n",
    "\n",
    "Датафрейм visitors содержит 3 столбца, 62 строки. Необходимо только изменить тип данных для столбца date. Пропусков в данных нет.\n",
    "\n",
    "Перейдем к предобработке данных."
   ]
  },
  {
   "cell_type": "markdown",
   "metadata": {},
   "source": [
    "<div class=\"alert alert-success\">\n",
    "<h2> Комментарий ревьюера <a class=\"tocSkip\"> </h2>\n",
    "\n",
    "<b>Отлично!✅:</b> Данные загружены верно!\n",
    "</div>"
   ]
  },
  {
   "cell_type": "markdown",
   "metadata": {},
   "source": [
    "### Предобработка данных"
   ]
  },
  {
   "cell_type": "markdown",
   "metadata": {},
   "source": [
    "#### Работа с названиями столбцов"
   ]
  },
  {
   "cell_type": "code",
   "execution_count": 5,
   "metadata": {},
   "outputs": [
    {
     "name": "stdout",
     "output_type": "stream",
     "text": [
      "Index(['hypothesis', 'reach', 'impact', 'confidence', 'efforts'], dtype='object')\n"
     ]
    }
   ],
   "source": [
    "# Переименуем столбцы датафрейма hypothesis в соответствии с принятыми правилами названия\n",
    "hypothesis.columns = hypothesis.columns.str.lower().str.replace(' ', '_')\n",
    "\n",
    "# Проверим, все ли получилось\n",
    "print(hypothesis.columns)"
   ]
  },
  {
   "cell_type": "code",
   "execution_count": 6,
   "metadata": {},
   "outputs": [
    {
     "name": "stdout",
     "output_type": "stream",
     "text": [
      "Index(['transaction_id', 'visitor_id', 'date', 'revenue', 'group'], dtype='object')\n"
     ]
    }
   ],
   "source": [
    "# Переименуем столбцы датафрейма orders в соответствии с принятыми правилами названия\n",
    "orders = orders.rename(columns={\n",
    "    'transactionId': 'transaction_id',\n",
    "    'visitorId': 'visitor_id'\n",
    "})\n",
    "\n",
    "# Проверим, все ли получилось\n",
    "print(orders.columns)"
   ]
  },
  {
   "cell_type": "markdown",
   "metadata": {},
   "source": [
    "Столбцы переименованы в соответствии с правилами."
   ]
  },
  {
   "cell_type": "markdown",
   "metadata": {},
   "source": [
    "<div class=\"alert alert-success\">\n",
    "<h2> Комментарий ревьюера <a class=\"tocSkip\"> </h2>\n",
    "\n",
    "<b>Отлично!✅:</b> Хорошо, такой формат намного лучше!\n",
    "</div>"
   ]
  },
  {
   "cell_type": "markdown",
   "metadata": {},
   "source": [
    "#### Работа с типами данных"
   ]
  },
  {
   "cell_type": "code",
   "execution_count": 7,
   "metadata": {},
   "outputs": [],
   "source": [
    "# Изменим тип данных для датафрейма 'orders'\n",
    "orders['date'] = pd.to_datetime(orders['date'])\n",
    "\n",
    "# Изменим тип данных для датафрейма 'visitors'\n",
    "visitors['date'] = pd.to_datetime(visitors['date'])"
   ]
  },
  {
   "cell_type": "code",
   "execution_count": 8,
   "metadata": {},
   "outputs": [
    {
     "name": "stdout",
     "output_type": "stream",
     "text": [
      "\u001b[1mИнформация для датафрейма 'hypothesis':\u001b[0m\n",
      "<class 'pandas.core.frame.DataFrame'>\n",
      "RangeIndex: 9 entries, 0 to 8\n",
      "Data columns (total 5 columns):\n",
      " #   Column      Non-Null Count  Dtype \n",
      "---  ------      --------------  ----- \n",
      " 0   hypothesis  9 non-null      object\n",
      " 1   reach       9 non-null      int64 \n",
      " 2   impact      9 non-null      int64 \n",
      " 3   confidence  9 non-null      int64 \n",
      " 4   efforts     9 non-null      int64 \n",
      "dtypes: int64(4), object(1)\n",
      "memory usage: 488.0+ bytes\n",
      "\n",
      "\u001b[1mИнформация для датафрейма 'orders':\u001b[0m\n",
      "<class 'pandas.core.frame.DataFrame'>\n",
      "RangeIndex: 1197 entries, 0 to 1196\n",
      "Data columns (total 5 columns):\n",
      " #   Column          Non-Null Count  Dtype         \n",
      "---  ------          --------------  -----         \n",
      " 0   transaction_id  1197 non-null   int64         \n",
      " 1   visitor_id      1197 non-null   int64         \n",
      " 2   date            1197 non-null   datetime64[ns]\n",
      " 3   revenue         1197 non-null   int64         \n",
      " 4   group           1197 non-null   object        \n",
      "dtypes: datetime64[ns](1), int64(3), object(1)\n",
      "memory usage: 46.9+ KB\n",
      "\n",
      "\u001b[1mИнформация для датафрейма 'visitors':\u001b[0m\n",
      "<class 'pandas.core.frame.DataFrame'>\n",
      "RangeIndex: 62 entries, 0 to 61\n",
      "Data columns (total 3 columns):\n",
      " #   Column    Non-Null Count  Dtype         \n",
      "---  ------    --------------  -----         \n",
      " 0   date      62 non-null     datetime64[ns]\n",
      " 1   group     62 non-null     object        \n",
      " 2   visitors  62 non-null     int64         \n",
      "dtypes: datetime64[ns](1), int64(1), object(1)\n",
      "memory usage: 1.6+ KB\n",
      "\n"
     ]
    }
   ],
   "source": [
    "# Выведем на экран общую информацию о датафреймах, чтобы проверить изменения\n",
    "dt_info(hypothesis, 'hypothesis')\n",
    "dt_info(orders, 'orders')\n",
    "dt_info(visitors, 'visitors')"
   ]
  },
  {
   "cell_type": "markdown",
   "metadata": {},
   "source": [
    "Типы данных успешно изменены."
   ]
  },
  {
   "cell_type": "markdown",
   "metadata": {},
   "source": [
    "#### Работа с дубликатами"
   ]
  },
  {
   "cell_type": "code",
   "execution_count": 9,
   "metadata": {},
   "outputs": [],
   "source": [
    "# Напишем функцию, выводящую информацию о дубикатах\n",
    "def duplicates(dt, dt_name):\n",
    "    # Проверим явные дубликаты\n",
    "    print('\\033[1m' + f\"Количество явных дубликатов в таблице '{dt_name}':\" + '\\033[0m')\n",
    "    print(f'{dt.duplicated().sum()}')\n",
    "    print()\n",
    "    \n",
    "    # Для проверки неявных дубликатов, выведем уникальные значения всех столбцов заданного датафрейма\n",
    "    for column in dt:\n",
    "        print('\\033[1m' + f'Количества уникальных значений для столбца {column}:' + '\\033[0m')\n",
    "        print(dt[column].value_counts())\n",
    "        print()"
   ]
  },
  {
   "cell_type": "code",
   "execution_count": 10,
   "metadata": {
    "scrolled": false
   },
   "outputs": [
    {
     "name": "stdout",
     "output_type": "stream",
     "text": [
      "\u001b[1mКоличество явных дубликатов в таблице 'hypothesis':\u001b[0m\n",
      "0\n",
      "\n",
      "\u001b[1mКоличества уникальных значений для столбца hypothesis:\u001b[0m\n",
      "Добавить блоки рекомендаций товаров на сайт интернет магазина, чтобы повысить конверсию и средний чек заказа    1\n",
      "Показать на главной странице баннеры с актуальными акциями и распродажами, чтобы увеличить конверсию            1\n",
      "Изменить цвет фона главной страницы, чтобы увеличить вовлеченность пользователей                                1\n",
      "Запустить собственную службу доставки, что сократит срок доставки заказов                                       1\n",
      "Запустить акцию, дающую скидку на товар в день рождения                                                         1\n",
      "Добавить форму подписки на все основные страницы, чтобы собрать базу клиентов для email-рассылок                1\n",
      "Добавить страницу отзывов клиентов о магазине, что позволит увеличить количество заказов                        1\n",
      "Добавить два новых канала привлечения трафика, что позволит привлекать на 30% больше пользователей              1\n",
      "Изменить структура категорий, что увеличит конверсию, т.к. пользователи быстрее найдут нужный товар             1\n",
      "Name: hypothesis, dtype: int64\n",
      "\n",
      "\u001b[1mКоличества уникальных значений для столбца reach:\u001b[0m\n",
      "3     3\n",
      "8     2\n",
      "1     1\n",
      "2     1\n",
      "5     1\n",
      "10    1\n",
      "Name: reach, dtype: int64\n",
      "\n",
      "\u001b[1mКоличества уникальных значений для столбца impact:\u001b[0m\n",
      "3     3\n",
      "1     1\n",
      "2     1\n",
      "5     1\n",
      "7     1\n",
      "9     1\n",
      "10    1\n",
      "Name: impact, dtype: int64\n",
      "\n",
      "\u001b[1mКоличества уникальных значений для столбца confidence:\u001b[0m\n",
      "8    3\n",
      "1    1\n",
      "2    1\n",
      "3    1\n",
      "4    1\n",
      "7    1\n",
      "9    1\n",
      "Name: confidence, dtype: int64\n",
      "\n",
      "\u001b[1mКоличества уникальных значений для столбца efforts:\u001b[0m\n",
      "3     3\n",
      "5     2\n",
      "1     1\n",
      "6     1\n",
      "8     1\n",
      "10    1\n",
      "Name: efforts, dtype: int64\n",
      "\n"
     ]
    }
   ],
   "source": [
    "# Проверим наличие дубликатов в датафрейме hypothesis\n",
    "duplicates(hypothesis, 'hypothesis')"
   ]
  },
  {
   "cell_type": "code",
   "execution_count": 11,
   "metadata": {},
   "outputs": [
    {
     "name": "stdout",
     "output_type": "stream",
     "text": [
      "\u001b[1mКоличество явных дубликатов в таблице 'orders':\u001b[0m\n",
      "0\n",
      "\n",
      "\u001b[1mКоличества уникальных значений для столбца transaction_id:\u001b[0m\n",
      "1658608862    1\n",
      "2211880073    1\n",
      "3913205113    1\n",
      "437656952     1\n",
      "3592105335    1\n",
      "             ..\n",
      "2872509092    1\n",
      "2013919907    1\n",
      "3154167297    1\n",
      "2960804513    1\n",
      "4281129020    1\n",
      "Name: transaction_id, Length: 1197, dtype: int64\n",
      "\n",
      "\u001b[1mКоличества уникальных значений для столбца visitor_id:\u001b[0m\n",
      "4256040402    11\n",
      "2458001652    11\n",
      "2378935119     9\n",
      "2038680547     8\n",
      "199603092      5\n",
      "              ..\n",
      "2406916810     1\n",
      "1255412427     1\n",
      "3866069709     1\n",
      "54447517       1\n",
      "3013339133     1\n",
      "Name: visitor_id, Length: 1031, dtype: int64\n",
      "\n",
      "\u001b[1mКоличества уникальных значений для столбца date:\u001b[0m\n",
      "2019-08-05    48\n",
      "2019-08-12    47\n",
      "2019-08-14    47\n",
      "2019-08-15    46\n",
      "2019-08-06    46\n",
      "2019-08-01    45\n",
      "2019-08-28    45\n",
      "2019-08-02    44\n",
      "2019-08-27    44\n",
      "2019-08-08    43\n",
      "2019-08-19    43\n",
      "2019-08-29    42\n",
      "2019-08-07    42\n",
      "2019-08-26    41\n",
      "2019-08-22    41\n",
      "2019-08-09    41\n",
      "2019-08-03    40\n",
      "2019-08-23    40\n",
      "2019-08-10    39\n",
      "2019-08-16    38\n",
      "2019-08-21    37\n",
      "2019-08-30    35\n",
      "2019-08-13    35\n",
      "2019-08-04    33\n",
      "2019-08-20    32\n",
      "2019-08-31    32\n",
      "2019-08-24    31\n",
      "2019-08-18    26\n",
      "2019-08-11    26\n",
      "2019-08-17    24\n",
      "2019-08-25    24\n",
      "Name: date, dtype: int64\n",
      "\n",
      "\u001b[1mКоличества уникальных значений для столбца revenue:\u001b[0m\n",
      "990       17\n",
      "890       13\n",
      "390       13\n",
      "1190      10\n",
      "400       10\n",
      "          ..\n",
      "6440       1\n",
      "45780      1\n",
      "725        1\n",
      "9800       1\n",
      "202740     1\n",
      "Name: revenue, Length: 713, dtype: int64\n",
      "\n",
      "\u001b[1mКоличества уникальных значений для столбца group:\u001b[0m\n",
      "B    640\n",
      "A    557\n",
      "Name: group, dtype: int64\n",
      "\n"
     ]
    }
   ],
   "source": [
    "# Проверим наличие дубликатов в датафрейме orders\n",
    "duplicates(orders, 'orders')"
   ]
  },
  {
   "cell_type": "code",
   "execution_count": 12,
   "metadata": {},
   "outputs": [
    {
     "name": "stdout",
     "output_type": "stream",
     "text": [
      "\u001b[1mКоличество явных дубликатов в таблице 'visitors':\u001b[0m\n",
      "0\n",
      "\n",
      "\u001b[1mКоличества уникальных значений для столбца date:\u001b[0m\n",
      "2019-08-27    2\n",
      "2019-08-24    2\n",
      "2019-08-08    2\n",
      "2019-08-14    2\n",
      "2019-08-20    2\n",
      "2019-08-26    2\n",
      "2019-08-01    2\n",
      "2019-08-07    2\n",
      "2019-08-13    2\n",
      "2019-08-19    2\n",
      "2019-08-25    2\n",
      "2019-08-31    2\n",
      "2019-08-06    2\n",
      "2019-08-12    2\n",
      "2019-08-18    2\n",
      "2019-08-30    2\n",
      "2019-08-21    2\n",
      "2019-08-05    2\n",
      "2019-08-11    2\n",
      "2019-08-17    2\n",
      "2019-08-23    2\n",
      "2019-08-29    2\n",
      "2019-08-04    2\n",
      "2019-08-10    2\n",
      "2019-08-16    2\n",
      "2019-08-22    2\n",
      "2019-08-28    2\n",
      "2019-08-03    2\n",
      "2019-08-09    2\n",
      "2019-08-15    2\n",
      "2019-08-02    2\n",
      "Name: date, dtype: int64\n",
      "\n",
      "\u001b[1mКоличества уникальных значений для столбца group:\u001b[0m\n",
      "A    31\n",
      "B    31\n",
      "Name: group, dtype: int64\n",
      "\n",
      "\u001b[1mКоличества уникальных значений для столбца visitors:\u001b[0m\n",
      "610    2\n",
      "718    2\n",
      "654    2\n",
      "490    2\n",
      "609    1\n",
      "717    1\n",
      "719    1\n",
      "720    1\n",
      "721    1\n",
      "594    1\n",
      "722    1\n",
      "468    1\n",
      "595    1\n",
      "756    1\n",
      "735    1\n",
      "769    1\n",
      "711    1\n",
      "668    1\n",
      "487    1\n",
      "361    1\n",
      "746    1\n",
      "619    1\n",
      "748    1\n",
      "621    1\n",
      "369    1\n",
      "628    1\n",
      "709    1\n",
      "378    1\n",
      "507    1\n",
      "713    1\n",
      "581    1\n",
      "770    1\n",
      "413    1\n",
      "644    1\n",
      "646    1\n",
      "650    1\n",
      "395    1\n",
      "655    1\n",
      "737    1\n",
      "531    1\n",
      "502    1\n",
      "406    1\n",
      "667    1\n",
      "412    1\n",
      "543    1\n",
      "707    1\n",
      "544    1\n",
      "546    1\n",
      "676    1\n",
      "421    1\n",
      "617    1\n",
      "679    1\n",
      "560    1\n",
      "656    1\n",
      "699    1\n",
      "575    1\n",
      "577    1\n",
      "509    1\n",
      "Name: visitors, dtype: int64\n",
      "\n"
     ]
    }
   ],
   "source": [
    "# Проверим наличие дубликатов в датафрейме visitors\n",
    "duplicates(visitors, 'visitors')"
   ]
  },
  {
   "cell_type": "markdown",
   "metadata": {},
   "source": [
    "Явные дубликаты отсутствуют, неявных также выявлено не было."
   ]
  },
  {
   "cell_type": "markdown",
   "metadata": {},
   "source": [
    "<div class=\"alert alert-success\">\n",
    "<h2> Комментарий ревьюера <a class=\"tocSkip\"> </h2>\n",
    "\n",
    "<b>Отлично!✅:</b> Типы данных заменили, убедились в корректности данных, можем двигаться дальше!\n",
    "</div>"
   ]
  },
  {
   "cell_type": "markdown",
   "metadata": {},
   "source": [
    "#### Проверка на попадание одного и того же пользователя одновременно и в группу А, и в группу B"
   ]
  },
  {
   "cell_type": "code",
   "execution_count": 13,
   "metadata": {},
   "outputs": [
    {
     "name": "stdout",
     "output_type": "stream",
     "text": [
      "Всего пользователей, попавших сразу в две группы: 58\n",
      "Доля таких пользователей от общего числа уникальных пользователей: 5.63%\n"
     ]
    }
   ],
   "source": [
    "# Создадим список идентификаторов пользователей в группе A\n",
    "orders_a = orders[orders['group'] == 'A']['visitor_id'].tolist()\n",
    "\n",
    "# Создадим список идентификаторов пользователей в группе B\n",
    "orders_b = orders[orders['group'] == 'B']['visitor_id'].tolist()\n",
    "\n",
    "# Создадим список с пересекающимися пользователями\n",
    "common_visitors = list(set(orders_a) & set(orders_b))\n",
    "\n",
    "# Выведем на экран количество пересекающихся пользователей\n",
    "print(f'Всего пользователей, попавших сразу в две группы: {len(common_visitors)}')\n",
    "\n",
    "# Выведем на экран долю таких пользователей среди общего числа уникальных пользователей\n",
    "print(f'Доля таких пользователей от общего числа уникальных пользователей: {round((len(common_visitors) / orders[\"visitor_id\"].nunique())*100, 2)}%')"
   ]
  },
  {
   "cell_type": "markdown",
   "metadata": {},
   "source": [
    "Обнаружены пользователи, которые попали в обе группы. Всего таких пользователей: 58. Один и тот же пользователь не должен участвовать одновременно в обеих группах, так как это искажает результаты теста, это является нарушением правил проведения A/B-тестов.\n",
    "\n",
    "Пользователи, попавшие сразу в обе группы, составляют примерно 5.63% от общего числа уникальных пользователей. Это может повлиять на достоверность и точность результатов теста. Процент таких пользователей небольшой, удалять такие строки мы не будем, т.к. в любом случае, к результатам всего проведенного A/B-теста необходимо относиться настороженно, возможно, ошибки возникали не только при распределении пользователей. Однако, в первую очередь необходимо обратить внимание на метод распределения пользователей между группами."
   ]
  },
  {
   "cell_type": "markdown",
   "metadata": {},
   "source": [
    "<div class=\"alert alert-success\">\n",
    "<h2> Комментарий ревьюера <a class=\"tocSkip\"> </h2>\n",
    "\n",
    "<b>Отлично!✅:</b> \n",
    "По поводу пересечения пользователей - конечно это не хорошо, и при проведении теста такое лучше избегать. Обычно, этих пользователей можно отфильтровать, но! в наших данных количество посетителей в день агрегировано. Поэтому, пользователей, которые совершили покупки в двух группах, мы можем удалить только из данных по покупкам. Тем самым мы немного занизим количество покупок на посетителя.\n",
    "\n",
    "Оптимально при работе с исходными данными отфильтровать пользователей, которые участвовали в двух группах из таблицы с визитами тоже. Но, поскольку мы этого сделать не можем, то продолжаем тест как есть, подсветив этот момент.\n",
    "</div>"
   ]
  },
  {
   "cell_type": "markdown",
   "metadata": {},
   "source": [
    "## Приоритизация гипотез"
   ]
  },
  {
   "cell_type": "markdown",
   "metadata": {},
   "source": [
    "### Метод ICE"
   ]
  },
  {
   "cell_type": "markdown",
   "metadata": {},
   "source": [
    "ICE (impact, confidence, efforts / влияние, уверенность, усилия) — один из самых популярных способов приоритизации задач. "
   ]
  },
  {
   "cell_type": "code",
   "execution_count": 14,
   "metadata": {
    "scrolled": true
   },
   "outputs": [
    {
     "data": {
      "text/html": [
       "<div>\n",
       "<style scoped>\n",
       "    .dataframe tbody tr th:only-of-type {\n",
       "        vertical-align: middle;\n",
       "    }\n",
       "\n",
       "    .dataframe tbody tr th {\n",
       "        vertical-align: top;\n",
       "    }\n",
       "\n",
       "    .dataframe thead th {\n",
       "        text-align: right;\n",
       "    }\n",
       "</style>\n",
       "<table border=\"1\" class=\"dataframe\">\n",
       "  <thead>\n",
       "    <tr style=\"text-align: right;\">\n",
       "      <th></th>\n",
       "      <th>hypothesis</th>\n",
       "      <th>ice</th>\n",
       "    </tr>\n",
       "  </thead>\n",
       "  <tbody>\n",
       "    <tr>\n",
       "      <th>8</th>\n",
       "      <td>Запустить акцию, дающую скидку на товар в день...</td>\n",
       "      <td>16.2</td>\n",
       "    </tr>\n",
       "    <tr>\n",
       "      <th>0</th>\n",
       "      <td>Добавить два новых канала привлечения трафика,...</td>\n",
       "      <td>13.3</td>\n",
       "    </tr>\n",
       "    <tr>\n",
       "      <th>7</th>\n",
       "      <td>Добавить форму подписки на все основные страни...</td>\n",
       "      <td>11.2</td>\n",
       "    </tr>\n",
       "    <tr>\n",
       "      <th>6</th>\n",
       "      <td>Показать на главной странице баннеры с актуаль...</td>\n",
       "      <td>8.0</td>\n",
       "    </tr>\n",
       "    <tr>\n",
       "      <th>2</th>\n",
       "      <td>Добавить блоки рекомендаций товаров на сайт ин...</td>\n",
       "      <td>7.0</td>\n",
       "    </tr>\n",
       "    <tr>\n",
       "      <th>1</th>\n",
       "      <td>Запустить собственную службу доставки, что сок...</td>\n",
       "      <td>2.0</td>\n",
       "    </tr>\n",
       "    <tr>\n",
       "      <th>5</th>\n",
       "      <td>Добавить страницу отзывов клиентов о магазине,...</td>\n",
       "      <td>1.3</td>\n",
       "    </tr>\n",
       "    <tr>\n",
       "      <th>3</th>\n",
       "      <td>Изменить структура категорий, что увеличит кон...</td>\n",
       "      <td>1.1</td>\n",
       "    </tr>\n",
       "    <tr>\n",
       "      <th>4</th>\n",
       "      <td>Изменить цвет фона главной страницы, чтобы уве...</td>\n",
       "      <td>1.0</td>\n",
       "    </tr>\n",
       "  </tbody>\n",
       "</table>\n",
       "</div>"
      ],
      "text/plain": [
       "                                          hypothesis   ice\n",
       "8  Запустить акцию, дающую скидку на товар в день...  16.2\n",
       "0  Добавить два новых канала привлечения трафика,...  13.3\n",
       "7  Добавить форму подписки на все основные страни...  11.2\n",
       "6  Показать на главной странице баннеры с актуаль...   8.0\n",
       "2  Добавить блоки рекомендаций товаров на сайт ин...   7.0\n",
       "1  Запустить собственную службу доставки, что сок...   2.0\n",
       "5  Добавить страницу отзывов клиентов о магазине,...   1.3\n",
       "3  Изменить структура категорий, что увеличит кон...   1.1\n",
       "4  Изменить цвет фона главной страницы, чтобы уве...   1.0"
      ]
     },
     "metadata": {},
     "output_type": "display_data"
    }
   ],
   "source": [
    "hypothesis['ice'] = round((hypothesis['impact'] * hypothesis['confidence']) / hypothesis['efforts'], 1)\n",
    "\n",
    "display(hypothesis[['hypothesis', 'ice']].sort_values(by='ice', ascending=False))"
   ]
  },
  {
   "cell_type": "markdown",
   "metadata": {},
   "source": [
    "Методом ICE топ-3 гипотез составили:\n",
    "- Запустить акцию, дающую скидку на товар в день рождения;\n",
    "- Добавить два новых канала привлечения трафика, что позволит привлекать на 30% больше пользователей;\n",
    "- Добавить форму подписки на все основные страницы, чтобы собрать базу клиентов для email-рассылок."
   ]
  },
  {
   "cell_type": "markdown",
   "metadata": {},
   "source": [
    "<div class=\"alert alert-success\">\n",
    "<h2> Комментарий ревьюера <a class=\"tocSkip\"> </h2>\n",
    "\n",
    "<b>Отлично!✅:</b> Принято!\n",
    "</div>"
   ]
  },
  {
   "cell_type": "markdown",
   "metadata": {},
   "source": [
    "### Метод RICE"
   ]
  },
  {
   "cell_type": "markdown",
   "metadata": {},
   "source": [
    "Фреймворк RICE состоит из четырех компонент:\n",
    "- Reach — скольких пользователей затронет изменение, которое вы хотите внести;\n",
    "- Impact — насколько сильно изменение повлияет на пользователей, их опыт и удовлетворение от продукта;\n",
    "- Confidence — насколько вы уверены, что это изменение повлияет на пользователей именно так; \n",
    "- Efforts — сколько стоит протестировать эту гипотезу."
   ]
  },
  {
   "cell_type": "code",
   "execution_count": 15,
   "metadata": {
    "scrolled": false
   },
   "outputs": [
    {
     "data": {
      "text/html": [
       "<div>\n",
       "<style scoped>\n",
       "    .dataframe tbody tr th:only-of-type {\n",
       "        vertical-align: middle;\n",
       "    }\n",
       "\n",
       "    .dataframe tbody tr th {\n",
       "        vertical-align: top;\n",
       "    }\n",
       "\n",
       "    .dataframe thead th {\n",
       "        text-align: right;\n",
       "    }\n",
       "</style>\n",
       "<table border=\"1\" class=\"dataframe\">\n",
       "  <thead>\n",
       "    <tr style=\"text-align: right;\">\n",
       "      <th></th>\n",
       "      <th>hypothesis</th>\n",
       "      <th>rice</th>\n",
       "    </tr>\n",
       "  </thead>\n",
       "  <tbody>\n",
       "    <tr>\n",
       "      <th>7</th>\n",
       "      <td>Добавить форму подписки на все основные страни...</td>\n",
       "      <td>112.0</td>\n",
       "    </tr>\n",
       "    <tr>\n",
       "      <th>2</th>\n",
       "      <td>Добавить блоки рекомендаций товаров на сайт ин...</td>\n",
       "      <td>56.0</td>\n",
       "    </tr>\n",
       "    <tr>\n",
       "      <th>0</th>\n",
       "      <td>Добавить два новых канала привлечения трафика,...</td>\n",
       "      <td>40.0</td>\n",
       "    </tr>\n",
       "    <tr>\n",
       "      <th>6</th>\n",
       "      <td>Показать на главной странице баннеры с актуаль...</td>\n",
       "      <td>40.0</td>\n",
       "    </tr>\n",
       "    <tr>\n",
       "      <th>8</th>\n",
       "      <td>Запустить акцию, дающую скидку на товар в день...</td>\n",
       "      <td>16.2</td>\n",
       "    </tr>\n",
       "    <tr>\n",
       "      <th>3</th>\n",
       "      <td>Изменить структура категорий, что увеличит кон...</td>\n",
       "      <td>9.0</td>\n",
       "    </tr>\n",
       "    <tr>\n",
       "      <th>1</th>\n",
       "      <td>Запустить собственную службу доставки, что сок...</td>\n",
       "      <td>4.0</td>\n",
       "    </tr>\n",
       "    <tr>\n",
       "      <th>5</th>\n",
       "      <td>Добавить страницу отзывов клиентов о магазине,...</td>\n",
       "      <td>4.0</td>\n",
       "    </tr>\n",
       "    <tr>\n",
       "      <th>4</th>\n",
       "      <td>Изменить цвет фона главной страницы, чтобы уве...</td>\n",
       "      <td>3.0</td>\n",
       "    </tr>\n",
       "  </tbody>\n",
       "</table>\n",
       "</div>"
      ],
      "text/plain": [
       "                                          hypothesis   rice\n",
       "7  Добавить форму подписки на все основные страни...  112.0\n",
       "2  Добавить блоки рекомендаций товаров на сайт ин...   56.0\n",
       "0  Добавить два новых канала привлечения трафика,...   40.0\n",
       "6  Показать на главной странице баннеры с актуаль...   40.0\n",
       "8  Запустить акцию, дающую скидку на товар в день...   16.2\n",
       "3  Изменить структура категорий, что увеличит кон...    9.0\n",
       "1  Запустить собственную службу доставки, что сок...    4.0\n",
       "5  Добавить страницу отзывов клиентов о магазине,...    4.0\n",
       "4  Изменить цвет фона главной страницы, чтобы уве...    3.0"
      ]
     },
     "metadata": {},
     "output_type": "display_data"
    }
   ],
   "source": [
    "hypothesis['rice'] = round((hypothesis['reach'] * hypothesis['impact'] * hypothesis['confidence']) / hypothesis['efforts'], 1)\n",
    "\n",
    "display(hypothesis[['hypothesis', 'rice']].sort_values(by='rice', ascending = False))"
   ]
  },
  {
   "cell_type": "markdown",
   "metadata": {},
   "source": [
    "Методом RICE в топ-4 гипотез оказались:\n",
    "- Добавить форму подписки на все основные страницы, чтобы собрать базу клиентов для email-рассылок;\n",
    "- Добавить блоки рекомендаций товаров на сайт интернет магазина, чтобы повысить конверсию и средний чек заказа;\n",
    "- Добавить два новых канала привлечения трафика, что позволит привлекать на 30% больше пользователей;\n",
    "- Показать на главной странице баннеры с актуальными акциями и распродажами, чтобы увеличить конверсию."
   ]
  },
  {
   "cell_type": "markdown",
   "metadata": {},
   "source": [
    "<div class=\"alert alert-success\">\n",
    "<h2> Комментарий ревьюера <a class=\"tocSkip\"> </h2>\n",
    "\n",
    "<b>Отлично!✅:</b> Отлично, что вывела таблицу дважды и применила сортировку по одному из фреймворков - так мы более наглядно можем наблюдать различия в их работе!\n",
    "</div>"
   ]
  },
  {
   "cell_type": "markdown",
   "metadata": {},
   "source": [
    "### Общий результат"
   ]
  },
  {
   "cell_type": "code",
   "execution_count": 16,
   "metadata": {},
   "outputs": [
    {
     "data": {
      "text/html": [
       "<div>\n",
       "<style scoped>\n",
       "    .dataframe tbody tr th:only-of-type {\n",
       "        vertical-align: middle;\n",
       "    }\n",
       "\n",
       "    .dataframe tbody tr th {\n",
       "        vertical-align: top;\n",
       "    }\n",
       "\n",
       "    .dataframe thead th {\n",
       "        text-align: right;\n",
       "    }\n",
       "</style>\n",
       "<table border=\"1\" class=\"dataframe\">\n",
       "  <thead>\n",
       "    <tr style=\"text-align: right;\">\n",
       "      <th></th>\n",
       "      <th>hypothesis</th>\n",
       "      <th>reach</th>\n",
       "      <th>impact</th>\n",
       "      <th>confidence</th>\n",
       "      <th>efforts</th>\n",
       "      <th>ice</th>\n",
       "      <th>rice</th>\n",
       "    </tr>\n",
       "  </thead>\n",
       "  <tbody>\n",
       "    <tr>\n",
       "      <th>0</th>\n",
       "      <td>Добавить два новых канала привлечения трафика,...</td>\n",
       "      <td>3</td>\n",
       "      <td>10</td>\n",
       "      <td>8</td>\n",
       "      <td>6</td>\n",
       "      <td>13.3</td>\n",
       "      <td>40.0</td>\n",
       "    </tr>\n",
       "    <tr>\n",
       "      <th>1</th>\n",
       "      <td>Запустить собственную службу доставки, что сок...</td>\n",
       "      <td>2</td>\n",
       "      <td>5</td>\n",
       "      <td>4</td>\n",
       "      <td>10</td>\n",
       "      <td>2.0</td>\n",
       "      <td>4.0</td>\n",
       "    </tr>\n",
       "    <tr>\n",
       "      <th>2</th>\n",
       "      <td>Добавить блоки рекомендаций товаров на сайт ин...</td>\n",
       "      <td>8</td>\n",
       "      <td>3</td>\n",
       "      <td>7</td>\n",
       "      <td>3</td>\n",
       "      <td>7.0</td>\n",
       "      <td>56.0</td>\n",
       "    </tr>\n",
       "    <tr>\n",
       "      <th>3</th>\n",
       "      <td>Изменить структура категорий, что увеличит кон...</td>\n",
       "      <td>8</td>\n",
       "      <td>3</td>\n",
       "      <td>3</td>\n",
       "      <td>8</td>\n",
       "      <td>1.1</td>\n",
       "      <td>9.0</td>\n",
       "    </tr>\n",
       "    <tr>\n",
       "      <th>4</th>\n",
       "      <td>Изменить цвет фона главной страницы, чтобы уве...</td>\n",
       "      <td>3</td>\n",
       "      <td>1</td>\n",
       "      <td>1</td>\n",
       "      <td>1</td>\n",
       "      <td>1.0</td>\n",
       "      <td>3.0</td>\n",
       "    </tr>\n",
       "    <tr>\n",
       "      <th>5</th>\n",
       "      <td>Добавить страницу отзывов клиентов о магазине,...</td>\n",
       "      <td>3</td>\n",
       "      <td>2</td>\n",
       "      <td>2</td>\n",
       "      <td>3</td>\n",
       "      <td>1.3</td>\n",
       "      <td>4.0</td>\n",
       "    </tr>\n",
       "    <tr>\n",
       "      <th>6</th>\n",
       "      <td>Показать на главной странице баннеры с актуаль...</td>\n",
       "      <td>5</td>\n",
       "      <td>3</td>\n",
       "      <td>8</td>\n",
       "      <td>3</td>\n",
       "      <td>8.0</td>\n",
       "      <td>40.0</td>\n",
       "    </tr>\n",
       "    <tr>\n",
       "      <th>7</th>\n",
       "      <td>Добавить форму подписки на все основные страни...</td>\n",
       "      <td>10</td>\n",
       "      <td>7</td>\n",
       "      <td>8</td>\n",
       "      <td>5</td>\n",
       "      <td>11.2</td>\n",
       "      <td>112.0</td>\n",
       "    </tr>\n",
       "    <tr>\n",
       "      <th>8</th>\n",
       "      <td>Запустить акцию, дающую скидку на товар в день...</td>\n",
       "      <td>1</td>\n",
       "      <td>9</td>\n",
       "      <td>9</td>\n",
       "      <td>5</td>\n",
       "      <td>16.2</td>\n",
       "      <td>16.2</td>\n",
       "    </tr>\n",
       "  </tbody>\n",
       "</table>\n",
       "</div>"
      ],
      "text/plain": [
       "                                          hypothesis  reach  impact  \\\n",
       "0  Добавить два новых канала привлечения трафика,...      3      10   \n",
       "1  Запустить собственную службу доставки, что сок...      2       5   \n",
       "2  Добавить блоки рекомендаций товаров на сайт ин...      8       3   \n",
       "3  Изменить структура категорий, что увеличит кон...      8       3   \n",
       "4  Изменить цвет фона главной страницы, чтобы уве...      3       1   \n",
       "5  Добавить страницу отзывов клиентов о магазине,...      3       2   \n",
       "6  Показать на главной странице баннеры с актуаль...      5       3   \n",
       "7  Добавить форму подписки на все основные страни...     10       7   \n",
       "8  Запустить акцию, дающую скидку на товар в день...      1       9   \n",
       "\n",
       "   confidence  efforts   ice   rice  \n",
       "0           8        6  13.3   40.0  \n",
       "1           4       10   2.0    4.0  \n",
       "2           7        3   7.0   56.0  \n",
       "3           3        8   1.1    9.0  \n",
       "4           1        1   1.0    3.0  \n",
       "5           2        3   1.3    4.0  \n",
       "6           8        3   8.0   40.0  \n",
       "7           8        5  11.2  112.0  \n",
       "8           9        5  16.2   16.2  "
      ]
     },
     "metadata": {},
     "output_type": "display_data"
    }
   ],
   "source": [
    "# Выведем на экран таблицу полностью, чтобы проанализировать результаты\n",
    "display(hypothesis)"
   ]
  },
  {
   "cell_type": "markdown",
   "metadata": {},
   "source": [
    "Гипотеза \"Добавить форму подписки на все основные страницы, чтобы собрать базу клиентов для email-рассылок\" затронет максимальное количество пользователей, и, учитывая также высокую занчимость остальных компонентов, выходит в лидеры, если учитывать показатель reach (охват). \"Добавить блоки рекомендаций товаров на сайт интернет магазина, чтобы повысить конверсию и средний чек заказа\" также имеет высоке охваты пользователей, которые увидят такие изменения.\n",
    "\n",
    "А вот с гипотезой \"Запустить акцию, дающую скидку на товар в день рождения\" произошло обратное. В ICE она была на первом месте, оказывая сильное влияние на пользователей, однако она затрагивает только пользователей, у которых в этот период день рождения, поэтому охват этой гипотезы небольшой, и, она стала лишь пятой.\n",
    "\n",
    "То же самое происходит и с другими гипотезами. При использовании метода RICE, собирается больше данных о продукте и, соответственно, полученые результаты более объективны."
   ]
  },
  {
   "cell_type": "markdown",
   "metadata": {},
   "source": [
    "<div class=\"alert alert-success\">\n",
    "<h2> Комментарий ревьюера <a class=\"tocSkip\"> </h2>\n",
    "\n",
    "<b>Отлично!✅:</b> Совершенно верно!\n",
    "</div><br/>"
   ]
  },
  {
   "cell_type": "markdown",
   "metadata": {},
   "source": [
    "## Анализ A/B-теста"
   ]
  },
  {
   "cell_type": "markdown",
   "metadata": {},
   "source": [
    "Был проведен A/B-тест, итоги которого хранятся в датафреймах orders и visitors. Проведем анализ полученных результатов."
   ]
  },
  {
   "cell_type": "markdown",
   "metadata": {},
   "source": [
    "Создадим датафрейм `cumulative_data` со столбцами: \n",
    "- `date` — дата;\n",
    "- `group` — группа A/B-теста (A или B);\n",
    "- `orders` — кумулятивное количество заказов на указанную дату в указанной группе;\n",
    "- `buyers` — кумулятивное количество пользователей, совершивших хотя бы один заказ, на указанную дату в указанной группе;\n",
    "- `revenue` — кумулятивная выручка на указанную дату в указанной группе (средний чек);\n",
    "- `visitors` — кумулятивное количество посетителей интернет-магазина на указанную дату в определённой группе."
   ]
  },
  {
   "cell_type": "code",
   "execution_count": 17,
   "metadata": {},
   "outputs": [
    {
     "data": {
      "text/html": [
       "<div>\n",
       "<style scoped>\n",
       "    .dataframe tbody tr th:only-of-type {\n",
       "        vertical-align: middle;\n",
       "    }\n",
       "\n",
       "    .dataframe tbody tr th {\n",
       "        vertical-align: top;\n",
       "    }\n",
       "\n",
       "    .dataframe thead th {\n",
       "        text-align: right;\n",
       "    }\n",
       "</style>\n",
       "<table border=\"1\" class=\"dataframe\">\n",
       "  <thead>\n",
       "    <tr style=\"text-align: right;\">\n",
       "      <th></th>\n",
       "      <th>date</th>\n",
       "      <th>group</th>\n",
       "      <th>orders</th>\n",
       "      <th>buyers</th>\n",
       "      <th>revenue</th>\n",
       "      <th>visitors</th>\n",
       "    </tr>\n",
       "  </thead>\n",
       "  <tbody>\n",
       "    <tr>\n",
       "      <th>0</th>\n",
       "      <td>2019-08-01</td>\n",
       "      <td>A</td>\n",
       "      <td>24</td>\n",
       "      <td>20</td>\n",
       "      <td>148579</td>\n",
       "      <td>719</td>\n",
       "    </tr>\n",
       "    <tr>\n",
       "      <th>1</th>\n",
       "      <td>2019-08-01</td>\n",
       "      <td>B</td>\n",
       "      <td>21</td>\n",
       "      <td>20</td>\n",
       "      <td>101217</td>\n",
       "      <td>713</td>\n",
       "    </tr>\n",
       "    <tr>\n",
       "      <th>2</th>\n",
       "      <td>2019-08-02</td>\n",
       "      <td>A</td>\n",
       "      <td>44</td>\n",
       "      <td>38</td>\n",
       "      <td>242401</td>\n",
       "      <td>1338</td>\n",
       "    </tr>\n",
       "    <tr>\n",
       "      <th>3</th>\n",
       "      <td>2019-08-02</td>\n",
       "      <td>B</td>\n",
       "      <td>45</td>\n",
       "      <td>43</td>\n",
       "      <td>266748</td>\n",
       "      <td>1294</td>\n",
       "    </tr>\n",
       "    <tr>\n",
       "      <th>4</th>\n",
       "      <td>2019-08-03</td>\n",
       "      <td>A</td>\n",
       "      <td>68</td>\n",
       "      <td>62</td>\n",
       "      <td>354874</td>\n",
       "      <td>1845</td>\n",
       "    </tr>\n",
       "  </tbody>\n",
       "</table>\n",
       "</div>"
      ],
      "text/plain": [
       "        date group  orders  buyers  revenue  visitors\n",
       "0 2019-08-01     A      24      20   148579       719\n",
       "1 2019-08-01     B      21      20   101217       713\n",
       "2 2019-08-02     A      44      38   242401      1338\n",
       "3 2019-08-02     B      45      43   266748      1294\n",
       "4 2019-08-03     A      68      62   354874      1845"
      ]
     },
     "metadata": {},
     "output_type": "display_data"
    }
   ],
   "source": [
    "# Создадим массив уникальных пар значений дат и групп теста\n",
    "dates_groups = orders[['date','group']].drop_duplicates()\n",
    "\n",
    "# Получим агрегированные кумулятивные по дням данные о заказах \n",
    "orders_aggregated = dates_groups.apply(lambda x: orders[np.logical_and(orders['date'] <= x['date'],\n",
    "                                                                        orders['group'] == x['group'])\n",
    "                                                        ].agg({'date': 'max',\n",
    "                                                               'group': 'max',\n",
    "                                                               'transaction_id': 'nunique',\n",
    "                                                               'visitor_id': 'nunique',\n",
    "                                                               'revenue': 'sum'}), axis=1\n",
    "                                       ).sort_values(by=['date', 'group'])\n",
    "\n",
    "# Получим агрегированные кумулятивные по дням данные о посетителях интернет-магазина \n",
    "visitors_aggregated = dates_groups.apply(lambda x: visitors[np.logical_and(visitors['date'] <= x['date'],\n",
    "                                                                           visitors['group'] == x['group'])\n",
    "                                                           ].agg({'date' : 'max', \n",
    "                                                                  'group' : 'max', \n",
    "                                                                  'visitors' : 'sum'}), axis=1\n",
    "                                        ).sort_values(by=['date','group'])\n",
    "\n",
    "# Объединим кумулятивные данные в одной таблице и присваиваем ее столбцам понятные названия\n",
    "cumulative_data = orders_aggregated.merge(visitors_aggregated, left_on=['date', 'group'], right_on=['date', 'group'])\n",
    "cumulative_data.columns = ['date', 'group', 'orders', 'buyers', 'revenue', 'visitors']\n",
    "\n",
    "# Выведем на экран первые пять строк полученого датафрейма \n",
    "display(cumulative_data.head(5))"
   ]
  },
  {
   "cell_type": "markdown",
   "metadata": {},
   "source": [
    "### Выручка по группам\n",
    "Построим график кумулятивной выручки по группам."
   ]
  },
  {
   "cell_type": "code",
   "execution_count": 18,
   "metadata": {},
   "outputs": [],
   "source": [
    "# Датафрейм с кумулятивной выручкой по дням и кумулятивным количеством заказов в группе А\n",
    "cumulative_revenue_a = cumulative_data[cumulative_data['group']=='A'][['date','revenue', 'orders']]\n",
    "\n",
    "# Датафрейм с кумулятивной выручкой по дням и кумулятивным количеством заказов в группе B\n",
    "cumulative_revenue_b = cumulative_data[cumulative_data['group']=='B'][['date','revenue', 'orders']]"
   ]
  },
  {
   "cell_type": "code",
   "execution_count": 19,
   "metadata": {},
   "outputs": [
    {
     "data": {
      "image/png": "[encoded data removed]",
      "text/plain": [
       "<Figure size 648x432 with 1 Axes>"
      ]
     },
     "metadata": {
      "needs_background": "light"
     },
     "output_type": "display_data"
    }
   ],
   "source": [
    "# Зададим размер для графика\n",
    "plt.figure(figsize=(9, 6))\n",
    "\n",
    "# Строим график выручки группы А\n",
    "plt.plot(cumulative_revenue_a['date'], cumulative_revenue_a['revenue'], label='A')\n",
    "\n",
    "# Строим график выручки группы B\n",
    "plt.plot(cumulative_revenue_b['date'], cumulative_revenue_b['revenue'], label='B')\n",
    "\n",
    "# Зададим другие настройки графика\n",
    "plt.title('График кумулятивной выручки по группам')\n",
    "plt.xlabel('Дата')\n",
    "plt.ylabel('Выручка, у.е.')\n",
    "plt.xticks(rotation = 60)\n",
    "plt.grid()\n",
    "plt.legend()\n",
    "\n",
    "# Настроим формат оси Y\n",
    "formatter = ticker.ScalarFormatter(useMathText=False)\n",
    "formatter.set_scientific(False)\n",
    "plt.gca().yaxis.set_major_formatter(formatter)\n",
    "\n",
    "# Отобразим полученый график\n",
    "plt.show()"
   ]
  },
  {
   "cell_type": "markdown",
   "metadata": {},
   "source": [
    "По графику видно, что кумулятивная выручка группы А меньше, чем у группы B, она растет линейно. А в группе В есть резкий скачок, приблизительно 2019-08-19, что может сигнализировать о всплесках числа заказов, либо о появлении очень дорогих заказов в этой выборке."
   ]
  },
  {
   "cell_type": "markdown",
   "metadata": {},
   "source": [
    "<div class=\"alert alert-success\">\n",
    "<h2> Комментарий ревьюера <a class=\"tocSkip\"> </h2>\n",
    "\n",
    "<b>Отлично!✅:</b> Согласна, все может быть!\n",
    "</div>"
   ]
  },
  {
   "cell_type": "markdown",
   "metadata": {},
   "source": [
    "### Средний чек по группам\n",
    "Построим график кумулятивного среднего чека по группам."
   ]
  },
  {
   "cell_type": "code",
   "execution_count": 20,
   "metadata": {},
   "outputs": [
    {
     "data": {
      "image/png": "[encoded data removed]",
      "text/plain": [
       "<Figure size 648x432 with 1 Axes>"
      ]
     },
     "metadata": {
      "needs_background": "light"
     },
     "output_type": "display_data"
    }
   ],
   "source": [
    "# Зададим размер для графика\n",
    "plt.figure(figsize=(9, 6))\n",
    "\n",
    "# Строим график выручки группы А\n",
    "plt.plot(cumulative_revenue_a['date'], cumulative_revenue_a['revenue']/cumulative_revenue_a['orders'], label='A')\n",
    "\n",
    "# Строим график выручки группы B\n",
    "plt.plot(cumulative_revenue_b['date'], cumulative_revenue_b['revenue']/cumulative_revenue_b['orders'], label='B')\n",
    "\n",
    "# Зададим другие настройки графика\n",
    "plt.title('График кумулятивного среднего чека по группам')\n",
    "plt.xlabel('Дата')\n",
    "plt.ylabel('Средний чек, у.е.')\n",
    "plt.xticks(rotation = 60)\n",
    "plt.grid()\n",
    "plt.legend()\n",
    "\n",
    "# Отобразим полученый график\n",
    "plt.show()"
   ]
  },
  {
   "cell_type": "markdown",
   "metadata": {},
   "source": [
    "Средний чек становится равномерным ближе к концу теста: он установился для группы A, однако после резкого скачка продолжает падать для группы B. Как и предполагалось выше, возможно, в группу B попали крупные заказы, повлиявшие и на средний чек в том числе, что отражает резкий всплеск в районе 2019-08-19 и на этом графике."
   ]
  },
  {
   "cell_type": "markdown",
   "metadata": {},
   "source": [
    "<div class=\"alert alert-success\">\n",
    "<h2> Комментарий ревьюера <a class=\"tocSkip\"> </h2>\n",
    "\n",
    "<b>Отлично!✅:</b> Молодец, верно, группа В нестабильна. Возможно, в данную группу в середине теста попали крупные заказы. Необходимо будет учесть этот факт при принятии решения о результатах A/B-теста:)\n",
    "</div>"
   ]
  },
  {
   "cell_type": "markdown",
   "metadata": {},
   "source": [
    "Построим график относительного изменения кумулятивного среднего чека группы B к группе A."
   ]
  },
  {
   "cell_type": "code",
   "execution_count": 21,
   "metadata": {},
   "outputs": [
    {
     "data": {
      "image/png": "[encoded data removed]",
      "text/plain": [
       "<Figure size 648x432 with 1 Axes>"
      ]
     },
     "metadata": {
      "needs_background": "light"
     },
     "output_type": "display_data"
    }
   ],
   "source": [
    "# Соберем данные в одном датафрейме\n",
    "merged_cumulative_revenue = cumulative_revenue_a.merge(cumulative_revenue_b, \n",
    "                                                       left_on='date', \n",
    "                                                       right_on='date', \n",
    "                                                       how='left', \n",
    "                                                       suffixes=['_a', '_b'])\n",
    "\n",
    "# Зададим размер для графика\n",
    "plt.figure(figsize=(9, 6))\n",
    "\n",
    "# Построим график отношения средних чеков\n",
    "plt.plot(merged_cumulative_revenue['date'], \n",
    "         ((merged_cumulative_revenue['revenue_b']/merged_cumulative_revenue['orders_b'])/\n",
    "          (merged_cumulative_revenue['revenue_a']/merged_cumulative_revenue['orders_a']))-1\n",
    "        )\n",
    "\n",
    "# Добавляем ось X\n",
    "plt.axhline(y=0, color='red', linestyle='--')\n",
    "\n",
    "# Зададим другие настройки графика\n",
    "plt.title('График относительного изменения кумулятивного среднего чека группы B к группе A')\n",
    "plt.xlabel('Дата')\n",
    "plt.ylabel('Отношение среднего чека группы B к группе A')\n",
    "plt.xticks(rotation = 60)\n",
    "plt.grid()\n",
    "\n",
    "# Отобразим полученый график\n",
    "plt.show()"
   ]
  },
  {
   "cell_type": "markdown",
   "metadata": {},
   "source": [
    "Относительное изменение кумулятивного среднего чека группы В к группе A повторяет поведение графика кумулятивного среднего чека. График резко \"скачет\" в нескольких точках. Все три графика указывают на наличие каких-то выбросов."
   ]
  },
  {
   "cell_type": "markdown",
   "metadata": {},
   "source": [
    "<div class=\"alert alert-success\">\n",
    "<h2> Комментарий ревьюера <a class=\"tocSkip\"> </h2>\n",
    "\n",
    "<b>Отлично!✅:</b> Отлично!\n",
    "</div>"
   ]
  },
  {
   "cell_type": "markdown",
   "metadata": {},
   "source": [
    "### Среднее количество заказов на посетителя по группам\n",
    "Построим график кумулятивного среднего количества заказов на посетителя по группам."
   ]
  },
  {
   "cell_type": "code",
   "execution_count": 22,
   "metadata": {
    "scrolled": false
   },
   "outputs": [
    {
     "data": {
      "image/png": "[encoded data removed]",
      "text/plain": [
       "<Figure size 648x432 with 1 Axes>"
      ]
     },
     "metadata": {
      "needs_background": "light"
     },
     "output_type": "display_data"
    }
   ],
   "source": [
    "# Посчитаем среднее количество заказов на посетителя\n",
    "cumulative_data['conversion'] = cumulative_data['orders']/cumulative_data['visitors']\n",
    "\n",
    "# Отделим данные по группе A\n",
    "cumulative_data_a = cumulative_data[cumulative_data['group']=='A']\n",
    "\n",
    "# Отделим данные по группе B\n",
    "cumulative_data_b = cumulative_data[cumulative_data['group']=='B']\n",
    "\n",
    "# Зададим размер для графика\n",
    "plt.figure(figsize=(9, 6))\n",
    "\n",
    "# Потроим графики\n",
    "plt.plot(cumulative_data_a['date'], cumulative_data_a['conversion'], label='A')\n",
    "plt.plot(cumulative_data_b['date'], cumulative_data_b['conversion'], label='B')\n",
    "\n",
    "# Зададим другие настройки графика\n",
    "plt.title('График кумулятивного среднего количества заказов на посетителя по группам')\n",
    "plt.xlabel('Дата')\n",
    "plt.ylabel('Конверсия')\n",
    "plt.xticks(rotation = 60)\n",
    "plt.grid()\n",
    "plt.legend()\n",
    "\n",
    "# Отобразим полученый график\n",
    "plt.show()"
   ]
  },
  {
   "cell_type": "markdown",
   "metadata": {},
   "source": [
    "На графике мы видим, что в начале месяца были резкие скачки и падения, однако после 2019-08-06 конверсия группы B стала стабильно выше конверсии группы А и конверсии обеих групп начали фиксироваться."
   ]
  },
  {
   "cell_type": "markdown",
   "metadata": {},
   "source": [
    "<div class=\"alert alert-success\">\n",
    "<h2> Комментарий ревьюера <a class=\"tocSkip\"> </h2>\n",
    "\n",
    "<b>Отлично!✅:</b> Умничка, правильно!\n",
    "</div>"
   ]
  },
  {
   "cell_type": "markdown",
   "metadata": {},
   "source": [
    "Построим график относительного изменения кумулятивного среднего количества заказов на посетителя группы B к группе A."
   ]
  },
  {
   "cell_type": "code",
   "execution_count": 23,
   "metadata": {},
   "outputs": [
    {
     "data": {
      "image/png": "[encoded data removed]",
      "text/plain": [
       "<Figure size 648x432 with 1 Axes>"
      ]
     },
     "metadata": {
      "needs_background": "light"
     },
     "output_type": "display_data"
    }
   ],
   "source": [
    "# Соберем данные в одном датафрейме\n",
    "merged_cumulative_conversions = cumulative_data_a[['date','conversion']].merge(cumulative_data_b[['date','conversion']], \n",
    "                                                                               left_on='date', \n",
    "                                                                               right_on='date', \n",
    "                                                                               how='left', \n",
    "                                                                               suffixes=['A', 'B'])\n",
    "\n",
    "# Зададим размер для графика\n",
    "plt.figure(figsize=(9, 6))\n",
    "\n",
    "# Построим график отношения среднего количества заказов на посетителя группы B к группе A\n",
    "plt.plot(merged_cumulative_conversions['date'], \n",
    "         (merged_cumulative_conversions['conversionB']/\n",
    "         merged_cumulative_conversions['conversionA'])-1\n",
    "        )\n",
    "\n",
    "# Добавляем оси X\n",
    "plt.axhline(y=0, color='red', linestyle='--')\n",
    "plt.axhline(y=0.14, color='grey', linestyle='--')\n",
    "\n",
    "# Зададим другие настройки графика\n",
    "plt.title('График относительного изменения кумулятивного среднего количества заказов на посетителя группы B относительно группы A')\n",
    "plt.xlabel('Дата')\n",
    "plt.ylabel('Отношение среднего чека группы B к группе A')\n",
    "plt.xticks(rotation = 60)\n",
    "plt.grid()\n",
    "\n",
    "# Отобразим полученый график\n",
    "plt.show()"
   ]
  },
  {
   "cell_type": "markdown",
   "metadata": {},
   "source": [
    "По графику мы также можем подтвердить, что в начале месяца конверсии были нестабильны, но на 6й день месяца мы видим стабильный прирост, который установился в пределах 10-15% выше конверсии группы А к концу периода."
   ]
  },
  {
   "cell_type": "markdown",
   "metadata": {},
   "source": [
    "<div class=\"alert alert-success\">\n",
    "<h2> Комментарий ревьюера <a class=\"tocSkip\"> </h2>\n",
    "\n",
    "<b>Отлично!✅:</b> Хорошо, давай посмотрим на аномалии:)\n",
    "</div>"
   ]
  },
  {
   "cell_type": "markdown",
   "metadata": {},
   "source": [
    "### Количество заказов по пользователям\n",
    "Построим точечный график количества заказов по пользователям и посчитаем 95-й и 99-й перцентили количества заказов на пользователя. Выберем границу для определения аномальных пользователей."
   ]
  },
  {
   "cell_type": "code",
   "execution_count": 24,
   "metadata": {
    "scrolled": false
   },
   "outputs": [
    {
     "data": {
      "text/html": [
       "<div>\n",
       "<style scoped>\n",
       "    .dataframe tbody tr th:only-of-type {\n",
       "        vertical-align: middle;\n",
       "    }\n",
       "\n",
       "    .dataframe tbody tr th {\n",
       "        vertical-align: top;\n",
       "    }\n",
       "\n",
       "    .dataframe thead th {\n",
       "        text-align: right;\n",
       "    }\n",
       "</style>\n",
       "<table border=\"1\" class=\"dataframe\">\n",
       "  <thead>\n",
       "    <tr style=\"text-align: right;\">\n",
       "      <th></th>\n",
       "      <th>user_id</th>\n",
       "      <th>orders</th>\n",
       "    </tr>\n",
       "  </thead>\n",
       "  <tbody>\n",
       "    <tr>\n",
       "      <th>1023</th>\n",
       "      <td>4256040402</td>\n",
       "      <td>11</td>\n",
       "    </tr>\n",
       "    <tr>\n",
       "      <th>591</th>\n",
       "      <td>2458001652</td>\n",
       "      <td>11</td>\n",
       "    </tr>\n",
       "    <tr>\n",
       "      <th>569</th>\n",
       "      <td>2378935119</td>\n",
       "      <td>9</td>\n",
       "    </tr>\n",
       "    <tr>\n",
       "      <th>487</th>\n",
       "      <td>2038680547</td>\n",
       "      <td>8</td>\n",
       "    </tr>\n",
       "    <tr>\n",
       "      <th>44</th>\n",
       "      <td>199603092</td>\n",
       "      <td>5</td>\n",
       "    </tr>\n",
       "    <tr>\n",
       "      <th>744</th>\n",
       "      <td>3062433592</td>\n",
       "      <td>5</td>\n",
       "    </tr>\n",
       "    <tr>\n",
       "      <th>55</th>\n",
       "      <td>237748145</td>\n",
       "      <td>5</td>\n",
       "    </tr>\n",
       "    <tr>\n",
       "      <th>917</th>\n",
       "      <td>3803269165</td>\n",
       "      <td>5</td>\n",
       "    </tr>\n",
       "    <tr>\n",
       "      <th>299</th>\n",
       "      <td>1230306981</td>\n",
       "      <td>5</td>\n",
       "    </tr>\n",
       "    <tr>\n",
       "      <th>897</th>\n",
       "      <td>3717692402</td>\n",
       "      <td>5</td>\n",
       "    </tr>\n",
       "  </tbody>\n",
       "</table>\n",
       "</div>"
      ],
      "text/plain": [
       "         user_id  orders\n",
       "1023  4256040402      11\n",
       "591   2458001652      11\n",
       "569   2378935119       9\n",
       "487   2038680547       8\n",
       "44     199603092       5\n",
       "744   3062433592       5\n",
       "55     237748145       5\n",
       "917   3803269165       5\n",
       "299   1230306981       5\n",
       "897   3717692402       5"
      ]
     },
     "metadata": {},
     "output_type": "display_data"
    }
   ],
   "source": [
    "# Создадим датафрейм с группировкой количества заказов по пользователям\n",
    "orders_by_users = orders.groupby('visitor_id', as_index=False).agg({'transaction_id': 'nunique'})\n",
    "\n",
    "# Переименуем столбцы\n",
    "orders_by_users.columns = ['user_id', 'orders']\n",
    "\n",
    "# Выведем на экран первые 10 пользователей, с наибольшим кол-вом заказов\n",
    "display(orders_by_users.sort_values(by='orders', ascending=False).head(10)) "
   ]
  },
  {
   "cell_type": "code",
   "execution_count": 25,
   "metadata": {},
   "outputs": [
    {
     "data": {
      "image/png": "[encoded data removed]",
      "text/plain": [
       "<Figure size 648x432 with 1 Axes>"
      ]
     },
     "metadata": {
      "needs_background": "light"
     },
     "output_type": "display_data"
    }
   ],
   "source": [
    "# Зададим размер для графика\n",
    "plt.figure(figsize=(9, 6))\n",
    "\n",
    "# Построим точечную диаграмму числа заказов на одного пользователя\n",
    "x_values = pd.Series(range(0,len(orders_by_users)))\n",
    "plt.scatter(x_values, orders_by_users['orders'])\n",
    "\n",
    "# Зададим другие настройки графика\n",
    "plt.title('Точечный график количества заказов по пользователям')\n",
    "plt.xlabel('Пользователь')\n",
    "plt.ylabel('Кол-во заказов')\n",
    "plt.grid()\n",
    "\n",
    "# Отобразим полученную диаграмму\n",
    "plt.show()"
   ]
  },
  {
   "cell_type": "markdown",
   "metadata": {},
   "source": [
    "Большинство пользователей делают один заказ, но при этом есть доля пользователей, которая совершает по 2 заказа. Меньше пользователей совершают от 3 до 11 заказов за месяц."
   ]
  },
  {
   "cell_type": "markdown",
   "metadata": {},
   "source": [
    "<div class=\"alert alert-success\">\n",
    "<h2> Комментарий ревьюера <a class=\"tocSkip\"> </h2>\n",
    "\n",
    "<b>Отлично!✅:</b> Верно!\n",
    "</div>"
   ]
  },
  {
   "cell_type": "code",
   "execution_count": 26,
   "metadata": {},
   "outputs": [
    {
     "name": "stdout",
     "output_type": "stream",
     "text": [
      "[2. 4.]\n"
     ]
    }
   ],
   "source": [
    "# Посчитаем 95-й и 99-й перцентили количества заказов на одного пользователя\n",
    "print(np.percentile(orders_by_users['orders'], [95, 99])) "
   ]
  },
  {
   "cell_type": "markdown",
   "metadata": {},
   "source": [
    "Не более 5% пользователей оформляли больше чем 2 заказа. И 1% пользователей заказывали более четырех раз. \n",
    "\n",
    "Выберем 2 заказа на одного пользователя за верхнюю границу числа заказов, и отсеим аномальных пользователей по ней."
   ]
  },
  {
   "cell_type": "markdown",
   "metadata": {},
   "source": [
    "<div class=\"alert alert-success\">\n",
    "<h2> Комментарий ревьюера <a class=\"tocSkip\"> </h2>\n",
    "\n",
    "<b>Отлично!✅:</b> Отлично, идем дальше!\n",
    "</div>"
   ]
  },
  {
   "cell_type": "markdown",
   "metadata": {},
   "source": [
    "### Стоимости заказов\n",
    "Построим точечный график стоимостей заказов и посчитаем 95-й и 99-й перцентили стоимости заказов. Выберем границу для определения аномальных заказов."
   ]
  },
  {
   "cell_type": "code",
   "execution_count": 27,
   "metadata": {},
   "outputs": [
    {
     "data": {
      "text/html": [
       "<div>\n",
       "<style scoped>\n",
       "    .dataframe tbody tr th:only-of-type {\n",
       "        vertical-align: middle;\n",
       "    }\n",
       "\n",
       "    .dataframe tbody tr th {\n",
       "        vertical-align: top;\n",
       "    }\n",
       "\n",
       "    .dataframe thead th {\n",
       "        text-align: right;\n",
       "    }\n",
       "</style>\n",
       "<table border=\"1\" class=\"dataframe\">\n",
       "  <thead>\n",
       "    <tr style=\"text-align: right;\">\n",
       "      <th></th>\n",
       "      <th>transaction_id</th>\n",
       "      <th>visitor_id</th>\n",
       "      <th>date</th>\n",
       "      <th>revenue</th>\n",
       "      <th>group</th>\n",
       "    </tr>\n",
       "  </thead>\n",
       "  <tbody>\n",
       "    <tr>\n",
       "      <th>425</th>\n",
       "      <td>590470918</td>\n",
       "      <td>1920142716</td>\n",
       "      <td>2019-08-19</td>\n",
       "      <td>1294500</td>\n",
       "      <td>B</td>\n",
       "    </tr>\n",
       "    <tr>\n",
       "      <th>1196</th>\n",
       "      <td>3936777065</td>\n",
       "      <td>2108080724</td>\n",
       "      <td>2019-08-15</td>\n",
       "      <td>202740</td>\n",
       "      <td>B</td>\n",
       "    </tr>\n",
       "    <tr>\n",
       "      <th>858</th>\n",
       "      <td>192721366</td>\n",
       "      <td>1316129916</td>\n",
       "      <td>2019-08-27</td>\n",
       "      <td>93940</td>\n",
       "      <td>A</td>\n",
       "    </tr>\n",
       "    <tr>\n",
       "      <th>1136</th>\n",
       "      <td>666610489</td>\n",
       "      <td>1307669133</td>\n",
       "      <td>2019-08-13</td>\n",
       "      <td>92550</td>\n",
       "      <td>A</td>\n",
       "    </tr>\n",
       "    <tr>\n",
       "      <th>744</th>\n",
       "      <td>3668308183</td>\n",
       "      <td>888512513</td>\n",
       "      <td>2019-08-27</td>\n",
       "      <td>86620</td>\n",
       "      <td>B</td>\n",
       "    </tr>\n",
       "    <tr>\n",
       "      <th>682</th>\n",
       "      <td>1216533772</td>\n",
       "      <td>4266935830</td>\n",
       "      <td>2019-08-29</td>\n",
       "      <td>78990</td>\n",
       "      <td>B</td>\n",
       "    </tr>\n",
       "    <tr>\n",
       "      <th>662</th>\n",
       "      <td>1811671147</td>\n",
       "      <td>4266935830</td>\n",
       "      <td>2019-08-29</td>\n",
       "      <td>78990</td>\n",
       "      <td>A</td>\n",
       "    </tr>\n",
       "    <tr>\n",
       "      <th>743</th>\n",
       "      <td>3603576309</td>\n",
       "      <td>4133034833</td>\n",
       "      <td>2019-08-09</td>\n",
       "      <td>67990</td>\n",
       "      <td>A</td>\n",
       "    </tr>\n",
       "    <tr>\n",
       "      <th>1103</th>\n",
       "      <td>1348774318</td>\n",
       "      <td>1164614297</td>\n",
       "      <td>2019-08-12</td>\n",
       "      <td>66350</td>\n",
       "      <td>A</td>\n",
       "    </tr>\n",
       "    <tr>\n",
       "      <th>1099</th>\n",
       "      <td>316924019</td>\n",
       "      <td>148427295</td>\n",
       "      <td>2019-08-12</td>\n",
       "      <td>65710</td>\n",
       "      <td>A</td>\n",
       "    </tr>\n",
       "  </tbody>\n",
       "</table>\n",
       "</div>"
      ],
      "text/plain": [
       "      transaction_id  visitor_id       date  revenue group\n",
       "425        590470918  1920142716 2019-08-19  1294500     B\n",
       "1196      3936777065  2108080724 2019-08-15   202740     B\n",
       "858        192721366  1316129916 2019-08-27    93940     A\n",
       "1136       666610489  1307669133 2019-08-13    92550     A\n",
       "744       3668308183   888512513 2019-08-27    86620     B\n",
       "682       1216533772  4266935830 2019-08-29    78990     B\n",
       "662       1811671147  4266935830 2019-08-29    78990     A\n",
       "743       3603576309  4133034833 2019-08-09    67990     A\n",
       "1103      1348774318  1164614297 2019-08-12    66350     A\n",
       "1099       316924019   148427295 2019-08-12    65710     A"
      ]
     },
     "metadata": {},
     "output_type": "display_data"
    }
   ],
   "source": [
    "# Отсортируем таблицу orders по убыванию стоимости заказа revenue\n",
    "display(orders.sort_values(by='revenue', ascending=False).head(10))"
   ]
  },
  {
   "cell_type": "markdown",
   "metadata": {},
   "source": [
    "В группе B есть два заказа, с сильно выбивающейся суммой - 1 294 500 у.е. и 202 740 у.е. Это явные аномалии, построим график без этих двух сильно аномальных значений стоимости заказов."
   ]
  },
  {
   "cell_type": "code",
   "execution_count": 28,
   "metadata": {},
   "outputs": [
    {
     "data": {
      "image/png": "[encoded data removed]",
      "text/plain": [
       "<Figure size 648x432 with 1 Axes>"
      ]
     },
     "metadata": {
      "needs_background": "light"
     },
     "output_type": "display_data"
    }
   ],
   "source": [
    "# Зададим размер для графика\n",
    "plt.figure(figsize=(9, 6))\n",
    "\n",
    "# Построим точечную диаграмму числа заказов на одного пользователя\n",
    "x_values = pd.Series(range(0, len(orders['revenue'])))\n",
    "plt.scatter(x_values, orders['revenue']) \n",
    "\n",
    "# Зададим другие настройки графика\n",
    "plt.title('Точечный график стоимостей заказов')\n",
    "plt.xlabel('Заказ')\n",
    "plt.ylabel('Стоимость заказов')\n",
    "plt.grid()\n",
    "\n",
    "# Отобразим полученную диаграмму без двух сильно аномальных значений стоимости заказов - 1294500 и 202740, \n",
    "# держа их в голове, чтобы график был более информативным\n",
    "plt.ylim (0, 100000)\n",
    "plt.show()"
   ]
  },
  {
   "cell_type": "markdown",
   "metadata": {},
   "source": [
    "На точечном графике стоимостей заказов видно, что в основном стоимость заказов составляет до 20 тыс. "
   ]
  },
  {
   "cell_type": "markdown",
   "metadata": {},
   "source": [
    "<div class=\"alert alert-success\">\n",
    "<h2> Комментарий ревьюера <a class=\"tocSkip\"> </h2>\n",
    "\n",
    "<b>Отлично!✅:</b> Правильно!\n",
    "</div>"
   ]
  },
  {
   "cell_type": "code",
   "execution_count": 29,
   "metadata": {},
   "outputs": [
    {
     "name": "stdout",
     "output_type": "stream",
     "text": [
      "[28000.  58233.2]\n"
     ]
    }
   ],
   "source": [
    "# Посчитаем 95-й и 99-й перцентили стоимости заказов\n",
    "print(np.percentile(orders['revenue'], [95, 99])) "
   ]
  },
  {
   "cell_type": "markdown",
   "metadata": {},
   "source": [
    "Не более, чем у 5% заказов чек дороже 28 000 у.е. И не больше, чем у 1% заказов — дороже 58 233 у.е.\n",
    "\n",
    "Верхней границей стоимости заказов выберем 28 000 у.е., и отсеим аномальных пользователей по ней."
   ]
  },
  {
   "cell_type": "markdown",
   "metadata": {},
   "source": [
    "<div class=\"alert alert-success\">\n",
    "<h2> Комментарий ревьюера <a class=\"tocSkip\"> </h2>\n",
    "\n",
    "<b>Отлично!✅:</b> Замечательное решение, молодец!\n",
    "</div>"
   ]
  },
  {
   "cell_type": "markdown",
   "metadata": {},
   "source": [
    "### Статистическая значимость "
   ]
  },
  {
   "cell_type": "markdown",
   "metadata": {},
   "source": [
    "Подготовим данные и создадим датафрейм `data` со следующими колонками:\n",
    "- `date` — дата;\n",
    "- `orders_per_date_a` — количество заказов в выбранную дату в группе A;\n",
    "- `revenue_per_date_a` — суммарная выручка в выбранную дату в группе A;\n",
    "- `orders_per_date_b` — количество заказов в выбранную дату в группе B;\n",
    "- `revenue_per_date_b` — суммарная выручка в выбранную дату в группе B;\n",
    "- `orders_cummulative_a` — суммарное число заказов до выбранной даты включительно в группе A;\n",
    "- `revenue_cummulative_a` — суммарная выручка до выбранной даты включительно в группе A;\n",
    "- `orders_cummulative_b` — суммарное количество заказов до выбранной даты включительно в группе B;\n",
    "- `revenue_cummulative_b` — суммарная выручка до выбранной даты включительно в группе B;\n",
    "- `visitors_per_date_a` — количество пользователей в выбранную дату в группе A;\n",
    "- `visitors_per_date_b` — количество пользователей в выбранную дату в группе B;\n",
    "- `visitors_cummulative_a` — количество пользователей до выбранной даты включительно в группе A;\n",
    "- `visitors_cummulative_b` — количество пользователей до выбранной даты включительно в группе B."
   ]
  },
  {
   "cell_type": "code",
   "execution_count": 30,
   "metadata": {},
   "outputs": [
    {
     "data": {
      "text/html": [
       "<div>\n",
       "<style scoped>\n",
       "    .dataframe tbody tr th:only-of-type {\n",
       "        vertical-align: middle;\n",
       "    }\n",
       "\n",
       "    .dataframe tbody tr th {\n",
       "        vertical-align: top;\n",
       "    }\n",
       "\n",
       "    .dataframe thead th {\n",
       "        text-align: right;\n",
       "    }\n",
       "</style>\n",
       "<table border=\"1\" class=\"dataframe\">\n",
       "  <thead>\n",
       "    <tr style=\"text-align: right;\">\n",
       "      <th></th>\n",
       "      <th>date</th>\n",
       "      <th>orders_per_date_a</th>\n",
       "      <th>revenue_per_date_a</th>\n",
       "      <th>orders_per_date_b</th>\n",
       "      <th>revenue_per_date_b</th>\n",
       "      <th>orders_cummulative_a</th>\n",
       "      <th>revenue_cummulative_a</th>\n",
       "      <th>orders_cummulative_b</th>\n",
       "      <th>revenue_cummulative_b</th>\n",
       "      <th>visitors_per_date_a</th>\n",
       "      <th>visitors_per_date_b</th>\n",
       "      <th>visitors_cummulative_a</th>\n",
       "      <th>visitors_cummulative_b</th>\n",
       "    </tr>\n",
       "  </thead>\n",
       "  <tbody>\n",
       "    <tr>\n",
       "      <th>0</th>\n",
       "      <td>2019-08-01</td>\n",
       "      <td>24</td>\n",
       "      <td>148579</td>\n",
       "      <td>21</td>\n",
       "      <td>101217</td>\n",
       "      <td>24</td>\n",
       "      <td>148579</td>\n",
       "      <td>21</td>\n",
       "      <td>101217</td>\n",
       "      <td>719</td>\n",
       "      <td>713</td>\n",
       "      <td>719</td>\n",
       "      <td>713</td>\n",
       "    </tr>\n",
       "    <tr>\n",
       "      <th>1</th>\n",
       "      <td>2019-08-02</td>\n",
       "      <td>20</td>\n",
       "      <td>93822</td>\n",
       "      <td>24</td>\n",
       "      <td>165531</td>\n",
       "      <td>44</td>\n",
       "      <td>242401</td>\n",
       "      <td>45</td>\n",
       "      <td>266748</td>\n",
       "      <td>619</td>\n",
       "      <td>581</td>\n",
       "      <td>1338</td>\n",
       "      <td>1294</td>\n",
       "    </tr>\n",
       "    <tr>\n",
       "      <th>2</th>\n",
       "      <td>2019-08-03</td>\n",
       "      <td>24</td>\n",
       "      <td>112473</td>\n",
       "      <td>16</td>\n",
       "      <td>114248</td>\n",
       "      <td>68</td>\n",
       "      <td>354874</td>\n",
       "      <td>61</td>\n",
       "      <td>380996</td>\n",
       "      <td>507</td>\n",
       "      <td>509</td>\n",
       "      <td>1845</td>\n",
       "      <td>1803</td>\n",
       "    </tr>\n",
       "    <tr>\n",
       "      <th>3</th>\n",
       "      <td>2019-08-04</td>\n",
       "      <td>16</td>\n",
       "      <td>70825</td>\n",
       "      <td>17</td>\n",
       "      <td>108571</td>\n",
       "      <td>84</td>\n",
       "      <td>425699</td>\n",
       "      <td>78</td>\n",
       "      <td>489567</td>\n",
       "      <td>717</td>\n",
       "      <td>770</td>\n",
       "      <td>2562</td>\n",
       "      <td>2573</td>\n",
       "    </tr>\n",
       "    <tr>\n",
       "      <th>4</th>\n",
       "      <td>2019-08-05</td>\n",
       "      <td>25</td>\n",
       "      <td>124218</td>\n",
       "      <td>23</td>\n",
       "      <td>92428</td>\n",
       "      <td>109</td>\n",
       "      <td>549917</td>\n",
       "      <td>101</td>\n",
       "      <td>581995</td>\n",
       "      <td>756</td>\n",
       "      <td>707</td>\n",
       "      <td>3318</td>\n",
       "      <td>3280</td>\n",
       "    </tr>\n",
       "  </tbody>\n",
       "</table>\n",
       "</div>"
      ],
      "text/plain": [
       "        date  orders_per_date_a  revenue_per_date_a  orders_per_date_b  \\\n",
       "0 2019-08-01                 24              148579                 21   \n",
       "1 2019-08-02                 20               93822                 24   \n",
       "2 2019-08-03                 24              112473                 16   \n",
       "3 2019-08-04                 16               70825                 17   \n",
       "4 2019-08-05                 25              124218                 23   \n",
       "\n",
       "   revenue_per_date_b  orders_cummulative_a  revenue_cummulative_a  \\\n",
       "0              101217                    24                 148579   \n",
       "1              165531                    44                 242401   \n",
       "2              114248                    68                 354874   \n",
       "3              108571                    84                 425699   \n",
       "4               92428                   109                 549917   \n",
       "\n",
       "   orders_cummulative_b  revenue_cummulative_b  visitors_per_date_a  \\\n",
       "0                    21                 101217                  719   \n",
       "1                    45                 266748                  619   \n",
       "2                    61                 380996                  507   \n",
       "3                    78                 489567                  717   \n",
       "4                   101                 581995                  756   \n",
       "\n",
       "   visitors_per_date_b  visitors_cummulative_a  visitors_cummulative_b  \n",
       "0                  713                     719                     713  \n",
       "1                  581                    1338                    1294  \n",
       "2                  509                    1845                    1803  \n",
       "3                  770                    2562                    2573  \n",
       "4                  707                    3318                    3280  "
      ]
     },
     "metadata": {},
     "output_type": "display_data"
    }
   ],
   "source": [
    "# Соберем данные по датам по посетителям из группы A\n",
    "visitors_a_daily = visitors[visitors['group'] == 'A'][['date', 'visitors']]\n",
    "visitors_a_daily.columns = ['date', 'visitors_per_date_a']\n",
    "\n",
    "visitors_a_cummulative = visitors_a_daily.apply(\n",
    "    lambda x: visitors_a_daily[visitors_a_daily['date'] <= x['date']].agg(\n",
    "        {'date': 'max', 'visitors_per_date_a': 'sum'}\n",
    "    ),\n",
    "    axis=1,\n",
    ")\n",
    "visitors_a_cummulative.columns = ['date', 'visitors_cummulative_a']\n",
    "\n",
    "# Соберем данные по датам по посетителям из группы B\n",
    "visitors_b_daily = visitors[visitors['group'] == 'B'][['date', 'visitors']]\n",
    "visitors_b_daily.columns = ['date', 'visitors_per_date_b']\n",
    "\n",
    "visitors_b_cummulative = visitors_b_daily.apply(\n",
    "    lambda x: visitors_b_daily[visitors_b_daily['date'] <= x['date']].agg(\n",
    "        {'date': 'max', 'visitors_per_date_b': 'sum'}\n",
    "    ),\n",
    "    axis=1,\n",
    ")\n",
    "visitors_b_cummulative.columns = ['date', 'visitors_cummulative_b']\n",
    "\n",
    "# Соберем данные по датам по заказам из группы A\n",
    "orders_a_daily = (\n",
    "    orders[orders['group'] == 'A'][['date', 'transaction_id', 'visitor_id', 'revenue']]\n",
    "    .groupby('date', as_index=False)\n",
    "    .agg({'transaction_id': pd.Series.nunique, 'revenue': 'sum'})\n",
    ")\n",
    "orders_a_daily.columns = ['date', 'orders_per_date_a', 'revenue_per_date_a']\n",
    "\n",
    "orders_a_cummulative = orders_a_daily.apply(\n",
    "    lambda x: orders_a_daily[orders_a_daily['date'] <= x['date']].agg(\n",
    "        {'date': 'max', 'orders_per_date_a': 'sum', 'revenue_per_date_a': 'sum'}\n",
    "    ),\n",
    "    axis=1,\n",
    ").sort_values(by=['date'])\n",
    "orders_a_cummulative.columns = [\n",
    "    'date',\n",
    "    'orders_cummulative_a',\n",
    "    'revenue_cummulative_a',\n",
    "]\n",
    "\n",
    "# Соберем данные по датам по заказам из группы B\n",
    "orders_b_daily = (\n",
    "    orders[orders['group'] == 'B'][['date', 'transaction_id', 'visitor_id', 'revenue']]\n",
    "    .groupby('date', as_index=False)\n",
    "    .agg({'transaction_id': pd.Series.nunique, 'revenue': 'sum'})\n",
    ")\n",
    "orders_b_daily.columns = ['date', 'orders_per_date_b', 'revenue_per_date_b']\n",
    "\n",
    "orders_b_cummulative = orders_b_daily.apply(\n",
    "    lambda x: orders_b_daily[orders_b_daily['date'] <= x['date']].agg(\n",
    "        {'date': 'max', 'orders_per_date_b': 'sum', 'revenue_per_date_b': 'sum'}\n",
    "    ),\n",
    "    axis=1,\n",
    ").sort_values(by=['date'])\n",
    "orders_b_cummulative.columns = [\n",
    "    'date',\n",
    "    'orders_cummulative_b',\n",
    "    'revenue_cummulative_b',\n",
    "]\n",
    "\n",
    "# Объединим полученные ранее датафреймы в один по датам\n",
    "data = (\n",
    "    orders_a_daily.merge(orders_b_daily, left_on='date', right_on='date', how='left')\n",
    "    .merge(orders_a_cummulative, left_on='date', right_on='date', how='left')\n",
    "    .merge(orders_b_cummulative, left_on='date', right_on='date', how='left')\n",
    "    .merge(visitors_a_daily, left_on='date', right_on='date', how='left')\n",
    "    .merge(visitors_b_daily, left_on='date', right_on='date', how='left')\n",
    "    .merge(visitors_a_cummulative, left_on='date', right_on='date', how='left')\n",
    "    .merge(visitors_b_cummulative, left_on='date', right_on='date', how='left')\n",
    ")\n",
    "\n",
    "# Выведем на экран первые пять строк общего датафрейма data\n",
    "display(data.head(5)) "
   ]
  },
  {
   "cell_type": "markdown",
   "metadata": {},
   "source": [
    "А также напишем функцию для проверки гипотез о равенстве групп."
   ]
  },
  {
   "cell_type": "code",
   "execution_count": 31,
   "metadata": {},
   "outputs": [],
   "source": [
    "# Зададим функцию\n",
    "def hypothesis_check(data_a, data_b):\n",
    "    alpha = 0.05\n",
    "    p_value = stats.mannwhitneyu(data_a, data_b)[1]\n",
    "    print('P-value = {0:.3f}'.format(p_value))\n",
    "\n",
    "    if (p_value < alpha):\n",
    "        print('Отвергаем нулевую гипотезу: между группами есть разница')\n",
    "    else:\n",
    "        print('Не получилось отвергнуть нулевую гипотезу, нет оснований считать, что между группами есть различия')\n",
    "    \n",
    "    print()\n",
    "    print('Относительный прирост В к А: {0:.2%}'.format(data_b.mean() / data_a.mean() - 1))"
   ]
  },
  {
   "cell_type": "markdown",
   "metadata": {},
   "source": [
    "#### Статистическая значимость различий в среднем количестве заказов на посетителя между группами по «сырым» данным\n",
    "\n",
    "Проверим, есть ли статическая значимость различий в конверсиях (среднем количестве заказов на посетителя) и какой относительный прирост конверсии группы B с помощью использования непараметрического критерия Манна-Уитни.\n",
    "\n",
    "Для начала сформулируем гипотезы. Нулевая: различий в среднем количестве заказов на постетителя между группами нет. Альтернативная: различия в среднем между группами есть. Уровень статистической значимости alpha определим 0.05."
   ]
  },
  {
   "cell_type": "markdown",
   "metadata": {},
   "source": [
    "<div class=\"alert alert-success\">\n",
    "<h2> Комментарий ревьюера <a class=\"tocSkip\"> </h2>\n",
    "\n",
    "<b>Отлично!✅:</b> Гипотезы сформулированы верно!\n",
    "</div>"
   ]
  },
  {
   "cell_type": "code",
   "execution_count": 32,
   "metadata": {},
   "outputs": [],
   "source": [
    "# Создадим переменные orders_by_users_a и orders_by_users_b c количеством совершенных заказов по пользователям\n",
    "orders_by_users_a = (\n",
    "    orders[orders['group'] == 'A']\n",
    "    .groupby('visitor_id', as_index=False)\n",
    "    .agg({'transaction_id': pd.Series.nunique})\n",
    ")\n",
    "orders_by_users_a.columns = ['user_id', 'orders']\n",
    "\n",
    "orders_by_users_b = (\n",
    "    orders[orders['group'] == 'B']\n",
    "    .groupby('visitor_id', as_index=False)\n",
    "    .agg({'transaction_id': pd.Series.nunique})\n",
    ")\n",
    "orders_by_users_b.columns = ['user_id', 'orders']\n",
    "\n",
    "# Объявим переменные sample_a и sample_b, в которых пользователям из разных групп будет соответствовать количество заказов\n",
    "sample_a = pd.concat(\n",
    "    [orders_by_users_a['orders'],pd.Series(\n",
    "        0, \n",
    "        index=np.arange(\n",
    "            data['visitors_per_date_a'].sum() - len(orders_by_users_a['orders'])\n",
    "        ), name='orders')],\n",
    "    axis=0\n",
    ")\n",
    "\n",
    "sample_b = pd.concat(\n",
    "    [orders_by_users_b['orders'],pd.Series(\n",
    "        0, \n",
    "        index=np.arange(\n",
    "            data['visitors_per_date_b'].sum() - len(orders_by_users_b['orders'])\n",
    "        ), name='orders')],\n",
    "    axis=0\n",
    ")"
   ]
  },
  {
   "cell_type": "code",
   "execution_count": 33,
   "metadata": {
    "scrolled": true
   },
   "outputs": [
    {
     "name": "stdout",
     "output_type": "stream",
     "text": [
      "P-value = 0.017\n",
      "Отвергаем нулевую гипотезу: между группами есть разница\n",
      "\n",
      "Относительный прирост В к А: 13.81%\n"
     ]
    }
   ],
   "source": [
    "# Проверим гипотезы\n",
    "hypothesis_check(sample_a, sample_b)"
   ]
  },
  {
   "cell_type": "markdown",
   "metadata": {},
   "source": [
    "P-value = 0.017, меньше 0.05. Значит, нулевую гипотезу о том, что статистически значимых различий в среднем числе заказов между группами нет, мы отвергаем. Среднее число заказов на пользователя группы B больше, чем среднее в группе А на 13,8%. Однако стоит помнить, что в этих данных есть выбросы."
   ]
  },
  {
   "cell_type": "markdown",
   "metadata": {},
   "source": [
    "<div class=\"alert alert-success\">\n",
    "<h2> Комментарий ревьюера <a class=\"tocSkip\"> </h2>\n",
    "\n",
    "<b>Отлично!✅:</b> Хорошо!\n",
    "</div>"
   ]
  },
  {
   "cell_type": "markdown",
   "metadata": {},
   "source": [
    "#### Статистическая значимость различий в среднем чеке заказа между группами по «сырым» данным\n",
    "\n",
    "Теперь посчитаем статистическую значимость различий в среднем чеке заказа между группами по «сырым» данным. \n",
    "\n",
    "Нулевая гипотеза: различий в среднем чеке между группами нет. Альтернативная гипотеза: различия в среднем чеке между группами есть."
   ]
  },
  {
   "cell_type": "code",
   "execution_count": 34,
   "metadata": {},
   "outputs": [
    {
     "name": "stdout",
     "output_type": "stream",
     "text": [
      "P-value = 0.729\n",
      "Не получилось отвергнуть нулевую гипотезу, нет оснований считать, что между группами есть различия\n",
      "\n",
      "Относительный прирост В к А: 25.87%\n"
     ]
    }
   ],
   "source": [
    "# Проверим гипотезы\n",
    "hypothesis_check(orders[orders['group']=='A']['revenue'], orders[orders['group']=='B']['revenue'])"
   ]
  },
  {
   "cell_type": "markdown",
   "metadata": {},
   "source": [
    "P-value значительно больше 0.05. Значит, причин отвергать нулевую гипотезу и считать, что в среднем чеке есть различия, нет. Средний чек группы B больше среднего чека группы A на 25,87%."
   ]
  },
  {
   "cell_type": "markdown",
   "metadata": {},
   "source": [
    "<div class=\"alert alert-success\">\n",
    "<h2> Комментарий ревьюера <a class=\"tocSkip\"> </h2>\n",
    "\n",
    "<b>Отлично!✅:</b> Согласна!\n",
    "</div>"
   ]
  },
  {
   "cell_type": "markdown",
   "metadata": {},
   "source": [
    "#### Работа с аномальными значениями выборки\n",
    "\n",
    "Ранее мы выбрали 2 заказа на одного пользователя за верхнюю границу числа заказов, и 28 000 у.е. верхней границей стоимости заказов, отсеим аномальных пользователей по этим границам. Так мы уберем 5% пользователей с большим числом заказов и 5% пользователей с дорогими заказами."
   ]
  },
  {
   "cell_type": "code",
   "execution_count": 35,
   "metadata": {},
   "outputs": [
    {
     "name": "stdout",
     "output_type": "stream",
     "text": [
      "Количество аномальных пользователей: 74\n",
      "Доля аномальных пользователей 7.18%\n"
     ]
    }
   ],
   "source": [
    "# Зададим ограничения\n",
    "orders_lim = np.percentile(orders_by_users['orders'], 95)\n",
    "revenue_lim = np.percentile(orders['revenue'], 95)\n",
    "\n",
    "# Найдем идентификаторы пользователей с выбивающимся количеством заказов\n",
    "users_with_many_orders = pd.concat(\n",
    "    [\n",
    "        orders_by_users_a[orders_by_users_a['orders'] > orders_lim]['user_id'],\n",
    "        orders_by_users_b[orders_by_users_b['orders'] > orders_lim]['user_id'],\n",
    "    ],\n",
    "    axis=0,\n",
    ")\n",
    "\n",
    "# Найдем идентификаторы пользователей с выбивающейся стоимостью заказов\n",
    "users_with_expensive_orders = orders[orders['revenue'] > revenue_lim]['visitor_id']\n",
    "\n",
    "# Объединим полученные датафреймы\n",
    "abnormal_users = (\n",
    "    pd.concat([users_with_many_orders, users_with_expensive_orders], axis=0)\n",
    "    .drop_duplicates()\n",
    "    .sort_values()\n",
    ")\n",
    "\n",
    "# Отфильтруем переменные sample_a и sample_b, в которых пользователям из разных групп будет соответствовать количество заказов,\n",
    "# исключая аномальных пользователей\n",
    "sample_a_filtered = pd.concat([orders_by_users_a[np.logical_not(orders_by_users_a['user_id'].isin(abnormal_users))]['orders'],\n",
    "        pd.Series(0,\n",
    "                  index=np.arange(data['visitors_per_date_a'].sum() - len(orders_by_users_a['orders'])),\n",
    "                  name='orders'),\n",
    "                              ],\n",
    "                              axis=0)\n",
    "\n",
    "sample_b_filtered = pd.concat([orders_by_users_b[np.logical_not(orders_by_users_b['user_id'].isin(abnormal_users))]['orders'],\n",
    "        pd.Series(0,\n",
    "                  index=np.arange(data['visitors_per_date_b'].sum() - len(orders_by_users_b['orders'])),\n",
    "                  name='orders'),\n",
    "                              ],\n",
    "                              axis=0)\n",
    "\n",
    "# Выведем на экран количество и долю аномальных пользователей\n",
    "print('Количество аномальных пользователей:',len(abnormal_users))\n",
    "print('Доля аномальных пользователей {:.2%}'.format(len(abnormal_users) / len(orders['visitor_id'].unique())))"
   ]
  },
  {
   "cell_type": "markdown",
   "metadata": {},
   "source": [
    "Всего зафиксировано 74 аномальных пользователей. Они составляют 7,18% от общего числа пользователей, участвующих в тесте."
   ]
  },
  {
   "cell_type": "markdown",
   "metadata": {},
   "source": [
    "#### Статистическая значимость различий в среднем количестве заказов на посетителя между группами по «очищенным» данным\n",
    "\n",
    "Проверим, есть ли статическая значимость различий в конверсиях (в среднем количестве заказов на посетителя) c помощью критерия Манна-Уитни и узнаем какой относительный прирост конверсии группы B по очищенным данным.\n",
    "\n",
    "Нулевая гипотеза: различий в среднем количестве заказов на постетителя между группами нет.\n",
    "Альтернативная гипотеза: различия в среднем между группами есть. Уровень статистической значимости alpha определим 0.05."
   ]
  },
  {
   "cell_type": "code",
   "execution_count": 36,
   "metadata": {},
   "outputs": [
    {
     "name": "stdout",
     "output_type": "stream",
     "text": [
      "P-value = 0.013\n",
      "Отвергаем нулевую гипотезу: между группами есть разница\n",
      "\n",
      "Относительный прирост В к А: 17.27%\n"
     ]
    }
   ],
   "source": [
    "# Проверим гипотезы\n",
    "hypothesis_check(sample_a_filtered, sample_b_filtered)"
   ]
  },
  {
   "cell_type": "markdown",
   "metadata": {},
   "source": [
    "Несмотря на обработку данных от аномалий, результат такой же - различии в среднем количестве заказов на посетителя между группами есть. Прирост у группы В относительно группы A составляет 17,27%."
   ]
  },
  {
   "cell_type": "markdown",
   "metadata": {},
   "source": [
    "<div class=\"alert alert-success\">\n",
    "<h2> Комментарий ревьюера <a class=\"tocSkip\"> </h2>\n",
    "\n",
    "<b>Отлично!✅:</b> Супер, двигаемся дальше!\n",
    "</div>"
   ]
  },
  {
   "cell_type": "markdown",
   "metadata": {},
   "source": [
    "#### Статистическая значимость различий в среднем чеке заказа между группами по «очищенным» данным\n",
    "\n",
    "Посчитаем статистическую значимость различий в среднем чеке заказа между группами по «очищенным» данным.\n",
    "\n",
    "Нулевая гипотеза: различий в среднем чеке между группами нет. Альтернативная гипотеза: различия в среднем чеке между группами есть. Уровень статистической значимости alpha 0.05."
   ]
  },
  {
   "cell_type": "code",
   "execution_count": 37,
   "metadata": {},
   "outputs": [
    {
     "name": "stdout",
     "output_type": "stream",
     "text": [
      "P-value = 0.738\n",
      "Не получилось отвергнуть нулевую гипотезу, нет оснований считать, что между группами есть различия\n",
      "\n",
      "Относительный прирост В к А: -1.96%\n"
     ]
    }
   ],
   "source": [
    "# Проверим гипотезы\n",
    "hypothesis_check(\n",
    "    orders[np.logical_and(orders['group'] == \"A\", np.logical_not(orders['visitor_id'].isin(abnormal_users)))]['revenue'], \n",
    "    orders[np.logical_and(orders['group'] == \"B\", np.logical_not(orders['visitor_id'].isin(abnormal_users)))]['revenue']\n",
    ")"
   ]
  },
  {
   "cell_type": "markdown",
   "metadata": {},
   "source": [
    "P-value все также значительно больше 0.05. Значит, причин отвергать нулевую гипотезу, нет. Однако разница между сегментами сократилась с 25.87% до -1.96%, средний чек в группе B даже стал незначительно ниже чем в группе A. "
   ]
  },
  {
   "cell_type": "markdown",
   "metadata": {},
   "source": [
    "<div class=\"alert alert-success\">\n",
    "<h2> Комментарий ревьюера <a class=\"tocSkip\"> </h2>\n",
    "\n",
    "<b>Отлично!✅:</b> Отлично!\n",
    "</div>"
   ]
  },
  {
   "cell_type": "markdown",
   "metadata": {},
   "source": [
    "## Общий вывод"
   ]
  },
  {
   "cell_type": "markdown",
   "metadata": {},
   "source": [
    "Был проведен анализ интернет-магазина. Работу можно разделить на две части. Сначала были приоретизированны гипотезы, затем был проведен анализ результатов A/B-теста.\n",
    "\n",
    "**Приоретизация гипотез**\n",
    "\n",
    "Был сформирован список из 8 гипотез, приоритеты которых мы определили с помощью методов приоритезации гипотез ICE и RICE. Так как при использовании метода RICE собирается больше данных о продукте, учитывается охват изменений, полученые результаты более подходят для нашей задачи, поэтому в выводе мы ориентированы на результаты этого метода. \n",
    "\n",
    "Наиболее перспективная гипотеза, которая затронет максимальное количество пользователей, и имеет хорошие показателями влияния и уверенности при средних затратах на внедрение, является гипотеза «Добавить форму подписки на все основные страницы, чтобы собрать базу клиентов для email-рассылок». «Добавить блоки рекомендаций товаров на сайт интернет магазина, чтобы повысить конверсию и средний чек заказа» также имеет хорошие показатели.\n",
    "\n",
    "**Анализ A/B-теста**\n",
    "\n",
    "В первую очередь стоит отметить, что на этапе предобработки данных мы выявили, что 58 пользователей попали в обе группы теста, тем самым частично исказив результаты. Пользователи, попавшие сразу в обе группы, составляют примерно 5,63% от общего числа уникальных пользователей. В первую очередь необходимо обратить внимание на метод распределения пользователей между группами.\n",
    "\n",
    "В ходе анализы было выявлено, что:\n",
    "- Большинство пользователей делают один заказ, не более 5% пользователей оформляли больше чем 2 заказа. И 1% пользователей заказывали более четырех раз.\n",
    "- В основном стоимость заказов составляет до 20 тыс., не более, чем у 5% заказов чек дороже 28 000 у.е. и не больше, чем у 1% заказов — дороже 58 233 у.е. В группе B есть два заказа, с сильно выбивающейся суммой - 1 294 500 у.е. и 202 740 у.е. \n",
    "\n",
    "Проведя анализ результатов A/B-теста мы пришли к следующим выводам:\n",
    "- Есть статистически значимое различие в среднем числе заказов между группами как по исходным данным, так и по данным после удаления аномальных значений. Конверсия группы В выше, чем группы А, на 17,27%.\n",
    "- Нет статистически значимого различия по среднему чеку между группами ни по исходным данным, ни по данным после удаления аномальных значений. В группе B, было два заказа с аномально большими выбросами, значительно влияющими на результаты. На что указывали все полученные графики. Поэтому, после фильтрации данных от аномалий, средний чек группы A, стал немного даже немного выше среднего чека группы B. \n",
    "- Кумулятивная выручка у группы В выше, чем у группы А.\n",
    "- График различия среднего чека колеблется, хотя к концу периода наблюдения тоже показывает, что результаты группы B становятся лучше группы A. Но, как указано в пункте выше, после фильтрации данных, средний чек стал немного меньше по отношению к группе A.\n",
    "- График относительного изменения кумулятивной конверсии группы B к группе A показывает, что результаты группы В стабильно лучше группы А и нет значительной тенденции к ухудшению. С середины месяца динамика конверсий обеих групп стабилизировалась.\n",
    "\n",
    "На основании вышеперечисленого, рекомендуем остановить тест, зафиксировав победу группы B."
   ]
  },
  {
   "cell_type": "markdown",
   "metadata": {},
   "source": [
    "\n",
    "\n",
    "<div class=\"alert alert-success\">\n",
    "<h2> Комментарий ревьюера <a class=\"tocSkip\"> </h2>\n",
    "\n",
    "<b>Отлично!✅:</b> Решение на этом шаге является полностью правильным. Ты здорово разобралась во влиянии выбросов на результаты сравнения средних значений и отметила преимущество статистического теста при интерпретации результатов.\n",
    "</div>"
   ]
  },
  {
   "cell_type": "markdown",
   "metadata": {},
   "source": [
    "<div style=\"border:solid Chocolate 2px; padding: 40px\">\n",
    "Даша, давай подведем итоги. Ты большая молодец, что старалась и проделала такую большую работу. Мне понравилось, что ты наполнила проект развернутыми выводами и наглядно продемонстрировала каждое задание:) \n",
    "    \n",
    "    Разберем над чем стоит поработать:\n",
    "    \n",
    "    1. Рекомендую:\n",
    "    - указать решаемую бизнес-задачу;\n",
    "    - вывести гипотезы полностью.\n",
    "    \n",
    "    Пересмотри работу и исправь ошибки. Обязательно пиши, если я могу тебе еще чем-то помочь. Удачи!)\n",
    "  "
   ]
  },
  {
   "cell_type": "markdown",
   "metadata": {},
   "source": [
    "<div class=\"alert alert-info\"> \n",
    "<b>Комментарий студента: </b> \n",
    "\n",
    "Большое спасибо! :) Вопросов больше нет\n",
    "\n",
    "</div>"
   ]
  },
  {
   "cell_type": "markdown",
   "metadata": {},
   "source": [
    "<div class=\"alert alert-success\">\n",
    "<h2> Комментарий ревьюера v2<a class=\"tocSkip\"> </h2>\n",
    "\n",
    "<b>Отлично!✅:</b> Даша, привет! Молодец, оперативно доработала парочку рекомендаций. Благодарю за обратную связь, работа принята, удачи в обучении!)\n",
    "</div>"
   ]
  }
 ],
 "metadata": {
  "ExecuteTimeLog": [
   {
    "duration": 1193,
    "start_time": "2024-10-10T12:03:08.359Z"
   },
   {
    "duration": 223,
    "start_time": "2024-10-10T12:03:09.554Z"
   },
   {
    "duration": 20,
    "start_time": "2024-10-10T12:03:09.778Z"
   },
   {
    "duration": 96,
    "start_time": "2024-10-10T12:06:57.201Z"
   },
   {
    "duration": 20,
    "start_time": "2024-10-10T12:07:48.482Z"
   },
   {
    "duration": 20,
    "start_time": "2024-10-10T12:08:02.610Z"
   },
   {
    "duration": 5,
    "start_time": "2024-10-10T12:15:48.632Z"
   },
   {
    "duration": 5,
    "start_time": "2024-10-10T12:18:13.439Z"
   },
   {
    "duration": 21,
    "start_time": "2024-10-10T12:18:39.422Z"
   },
   {
    "duration": 3,
    "start_time": "2024-10-10T12:19:44.393Z"
   },
   {
    "duration": 84,
    "start_time": "2024-10-10T12:23:12.398Z"
   },
   {
    "duration": 79,
    "start_time": "2024-10-10T12:31:12.462Z"
   },
   {
    "duration": 13,
    "start_time": "2024-10-10T12:31:54.589Z"
   },
   {
    "duration": 10,
    "start_time": "2024-10-10T12:32:03.610Z"
   },
   {
    "duration": 19,
    "start_time": "2024-10-10T12:35:14.461Z"
   },
   {
    "duration": 20,
    "start_time": "2024-10-10T12:35:26.902Z"
   },
   {
    "duration": 4,
    "start_time": "2024-10-10T12:35:38.285Z"
   },
   {
    "duration": 7,
    "start_time": "2024-10-10T12:35:59.214Z"
   },
   {
    "duration": 7,
    "start_time": "2024-10-10T12:36:49.465Z"
   },
   {
    "duration": 21,
    "start_time": "2024-10-10T12:37:32.427Z"
   },
   {
    "duration": 572,
    "start_time": "2024-10-10T12:37:39.626Z"
   },
   {
    "duration": 73,
    "start_time": "2024-10-10T12:37:40.199Z"
   },
   {
    "duration": 17,
    "start_time": "2024-10-10T12:37:40.273Z"
   },
   {
    "duration": 22,
    "start_time": "2024-10-10T12:37:40.291Z"
   },
   {
    "duration": 4,
    "start_time": "2024-10-10T12:37:40.314Z"
   },
   {
    "duration": 5,
    "start_time": "2024-10-10T12:37:40.319Z"
   },
   {
    "duration": 19,
    "start_time": "2024-10-10T12:37:40.325Z"
   },
   {
    "duration": 6,
    "start_time": "2024-10-10T12:37:40.346Z"
   },
   {
    "duration": 7,
    "start_time": "2024-10-10T12:39:50.926Z"
   },
   {
    "duration": 3,
    "start_time": "2024-10-10T12:43:30.284Z"
   },
   {
    "duration": 71,
    "start_time": "2024-10-10T12:44:18.024Z"
   },
   {
    "duration": 3,
    "start_time": "2024-10-10T12:44:26.760Z"
   },
   {
    "duration": 10,
    "start_time": "2024-10-10T12:44:30.951Z"
   },
   {
    "duration": 96,
    "start_time": "2024-10-10T12:45:23.832Z"
   },
   {
    "duration": 4,
    "start_time": "2024-10-10T12:45:38.311Z"
   },
   {
    "duration": 7,
    "start_time": "2024-10-10T12:45:40.400Z"
   },
   {
    "duration": 3,
    "start_time": "2024-10-10T12:45:50.351Z"
   },
   {
    "duration": 9,
    "start_time": "2024-10-10T12:45:54.080Z"
   },
   {
    "duration": 573,
    "start_time": "2024-10-10T12:51:11.474Z"
   },
   {
    "duration": 72,
    "start_time": "2024-10-10T12:51:12.049Z"
   },
   {
    "duration": 17,
    "start_time": "2024-10-10T12:51:12.123Z"
   },
   {
    "duration": 20,
    "start_time": "2024-10-10T12:51:12.141Z"
   },
   {
    "duration": 16,
    "start_time": "2024-10-10T12:51:12.163Z"
   },
   {
    "duration": 35,
    "start_time": "2024-10-10T12:51:12.181Z"
   },
   {
    "duration": 111,
    "start_time": "2024-10-10T12:51:12.217Z"
   },
   {
    "duration": 10,
    "start_time": "2024-10-10T12:51:12.330Z"
   },
   {
    "duration": 10,
    "start_time": "2024-10-10T12:51:12.341Z"
   },
   {
    "duration": 10,
    "start_time": "2024-10-10T12:51:12.353Z"
   },
   {
    "duration": 6,
    "start_time": "2024-10-10T12:51:12.365Z"
   },
   {
    "duration": 4,
    "start_time": "2024-10-10T12:51:49.478Z"
   },
   {
    "duration": 8,
    "start_time": "2024-10-10T12:51:52.373Z"
   },
   {
    "duration": 10,
    "start_time": "2024-10-10T12:51:57.852Z"
   },
   {
    "duration": 3,
    "start_time": "2024-10-10T12:54:16.646Z"
   },
   {
    "duration": 4,
    "start_time": "2024-10-10T12:54:30.394Z"
   },
   {
    "duration": 579,
    "start_time": "2024-10-10T12:55:32.975Z"
   },
   {
    "duration": 74,
    "start_time": "2024-10-10T12:55:33.555Z"
   },
   {
    "duration": 16,
    "start_time": "2024-10-10T12:55:33.630Z"
   },
   {
    "duration": 76,
    "start_time": "2024-10-10T12:55:33.648Z"
   },
   {
    "duration": 11,
    "start_time": "2024-10-10T12:55:33.726Z"
   },
   {
    "duration": 11,
    "start_time": "2024-10-10T12:55:33.738Z"
   },
   {
    "duration": 10,
    "start_time": "2024-10-10T12:55:33.750Z"
   },
   {
    "duration": 58,
    "start_time": "2024-10-10T12:55:33.762Z"
   },
   {
    "duration": 20,
    "start_time": "2024-10-10T12:55:33.821Z"
   },
   {
    "duration": 18,
    "start_time": "2024-10-10T12:55:33.843Z"
   },
   {
    "duration": 18,
    "start_time": "2024-10-10T12:55:33.863Z"
   },
   {
    "duration": 10,
    "start_time": "2024-10-10T12:55:33.883Z"
   },
   {
    "duration": 55,
    "start_time": "2024-10-10T13:23:21.885Z"
   },
   {
    "duration": 7,
    "start_time": "2024-10-10T13:25:55.600Z"
   },
   {
    "duration": 9,
    "start_time": "2024-10-10T13:26:02.450Z"
   },
   {
    "duration": 3,
    "start_time": "2024-10-10T13:26:24.424Z"
   },
   {
    "duration": 7,
    "start_time": "2024-10-10T13:27:54.829Z"
   },
   {
    "duration": 9,
    "start_time": "2024-10-10T13:28:54.557Z"
   },
   {
    "duration": 9,
    "start_time": "2024-10-10T13:29:08.326Z"
   },
   {
    "duration": 7,
    "start_time": "2024-10-10T13:29:17.590Z"
   },
   {
    "duration": 7,
    "start_time": "2024-10-10T13:29:28.981Z"
   },
   {
    "duration": 7,
    "start_time": "2024-10-10T13:29:32.406Z"
   },
   {
    "duration": 9,
    "start_time": "2024-10-10T13:29:36.437Z"
   },
   {
    "duration": 8,
    "start_time": "2024-10-10T13:29:40.504Z"
   },
   {
    "duration": 9,
    "start_time": "2024-10-10T13:38:40.519Z"
   },
   {
    "duration": 9,
    "start_time": "2024-10-10T13:39:13.639Z"
   },
   {
    "duration": 9,
    "start_time": "2024-10-10T13:40:10.813Z"
   },
   {
    "duration": 8,
    "start_time": "2024-10-10T13:44:24.105Z"
   },
   {
    "duration": 609,
    "start_time": "2024-10-10T13:46:57.077Z"
   },
   {
    "duration": 73,
    "start_time": "2024-10-10T13:46:57.687Z"
   },
   {
    "duration": 18,
    "start_time": "2024-10-10T13:46:57.761Z"
   },
   {
    "duration": 20,
    "start_time": "2024-10-10T13:46:57.780Z"
   },
   {
    "duration": 9,
    "start_time": "2024-10-10T13:46:57.801Z"
   },
   {
    "duration": 10,
    "start_time": "2024-10-10T13:46:57.811Z"
   },
   {
    "duration": 19,
    "start_time": "2024-10-10T13:46:57.822Z"
   },
   {
    "duration": 60,
    "start_time": "2024-10-10T13:46:57.843Z"
   },
   {
    "duration": 4,
    "start_time": "2024-10-10T13:46:57.904Z"
   },
   {
    "duration": 26,
    "start_time": "2024-10-10T13:46:57.910Z"
   },
   {
    "duration": 23,
    "start_time": "2024-10-10T13:46:57.937Z"
   },
   {
    "duration": 8,
    "start_time": "2024-10-10T13:46:57.961Z"
   },
   {
    "duration": 9,
    "start_time": "2024-10-10T13:46:57.971Z"
   },
   {
    "duration": 35,
    "start_time": "2024-10-10T13:46:57.982Z"
   },
   {
    "duration": 13,
    "start_time": "2024-10-10T13:46:58.018Z"
   },
   {
    "duration": 584,
    "start_time": "2024-10-10T14:26:06.838Z"
   },
   {
    "duration": 73,
    "start_time": "2024-10-10T14:26:07.424Z"
   },
   {
    "duration": 17,
    "start_time": "2024-10-10T14:26:07.499Z"
   },
   {
    "duration": 47,
    "start_time": "2024-10-10T14:26:07.518Z"
   },
   {
    "duration": 4,
    "start_time": "2024-10-10T14:26:07.566Z"
   },
   {
    "duration": 13,
    "start_time": "2024-10-10T14:26:07.571Z"
   },
   {
    "duration": 15,
    "start_time": "2024-10-10T14:26:07.585Z"
   },
   {
    "duration": 34,
    "start_time": "2024-10-10T14:26:07.601Z"
   },
   {
    "duration": 4,
    "start_time": "2024-10-10T14:26:07.636Z"
   },
   {
    "duration": 10,
    "start_time": "2024-10-10T14:26:07.641Z"
   },
   {
    "duration": 9,
    "start_time": "2024-10-10T14:26:07.653Z"
   },
   {
    "duration": 6,
    "start_time": "2024-10-10T14:26:07.663Z"
   },
   {
    "duration": 11,
    "start_time": "2024-10-10T14:26:07.670Z"
   },
   {
    "duration": 30,
    "start_time": "2024-10-10T14:26:07.682Z"
   },
   {
    "duration": 8,
    "start_time": "2024-10-10T14:26:07.714Z"
   },
   {
    "duration": 84,
    "start_time": "2024-10-10T14:41:27.920Z"
   },
   {
    "duration": 22,
    "start_time": "2024-10-10T14:41:33.093Z"
   },
   {
    "duration": 59,
    "start_time": "2024-10-10T14:48:13.306Z"
   },
   {
    "duration": 52,
    "start_time": "2024-10-10T14:55:08.952Z"
   },
   {
    "duration": 23,
    "start_time": "2024-10-10T14:56:18.756Z"
   },
   {
    "duration": 278,
    "start_time": "2024-10-10T14:58:57.680Z"
   },
   {
    "duration": 591,
    "start_time": "2024-10-10T15:05:11.506Z"
   },
   {
    "duration": 74,
    "start_time": "2024-10-10T15:05:12.098Z"
   },
   {
    "duration": 20,
    "start_time": "2024-10-10T15:05:12.173Z"
   },
   {
    "duration": 88,
    "start_time": "2024-10-10T15:05:12.195Z"
   },
   {
    "duration": 11,
    "start_time": "2024-10-10T15:05:12.286Z"
   },
   {
    "duration": 6,
    "start_time": "2024-10-10T15:05:12.298Z"
   },
   {
    "duration": 9,
    "start_time": "2024-10-10T15:05:12.305Z"
   },
   {
    "duration": 21,
    "start_time": "2024-10-10T15:05:12.315Z"
   },
   {
    "duration": 9,
    "start_time": "2024-10-10T15:05:12.338Z"
   },
   {
    "duration": 14,
    "start_time": "2024-10-10T15:05:12.349Z"
   },
   {
    "duration": 16,
    "start_time": "2024-10-10T15:05:12.364Z"
   },
   {
    "duration": 7,
    "start_time": "2024-10-10T15:05:12.381Z"
   },
   {
    "duration": 22,
    "start_time": "2024-10-10T15:05:12.390Z"
   },
   {
    "duration": 10,
    "start_time": "2024-10-10T15:05:12.415Z"
   },
   {
    "duration": 10,
    "start_time": "2024-10-10T15:05:12.426Z"
   },
   {
    "duration": 260,
    "start_time": "2024-10-10T15:05:12.438Z"
   },
   {
    "duration": 5,
    "start_time": "2024-10-10T15:05:12.700Z"
   },
   {
    "duration": 251,
    "start_time": "2024-10-10T15:05:12.712Z"
   },
   {
    "duration": 74,
    "start_time": "2024-10-10T15:05:12.964Z"
   },
   {
    "duration": 266,
    "start_time": "2024-10-10T15:07:29.293Z"
   },
   {
    "duration": 197,
    "start_time": "2024-10-10T15:07:38.372Z"
   },
   {
    "duration": 174,
    "start_time": "2024-10-10T15:08:21.561Z"
   },
   {
    "duration": 159,
    "start_time": "2024-10-10T15:08:29.501Z"
   },
   {
    "duration": 144,
    "start_time": "2024-10-10T15:08:37.633Z"
   },
   {
    "duration": 152,
    "start_time": "2024-10-10T15:08:51.073Z"
   },
   {
    "duration": 149,
    "start_time": "2024-10-10T15:09:04.602Z"
   },
   {
    "duration": 226,
    "start_time": "2024-10-10T15:10:38.102Z"
   },
   {
    "duration": 240,
    "start_time": "2024-10-10T15:11:03.503Z"
   },
   {
    "duration": 158,
    "start_time": "2024-10-10T15:11:15.870Z"
   },
   {
    "duration": 162,
    "start_time": "2024-10-10T15:11:39.576Z"
   },
   {
    "duration": 150,
    "start_time": "2024-10-10T15:14:17.211Z"
   },
   {
    "duration": 120,
    "start_time": "2024-10-10T15:14:20.627Z"
   },
   {
    "duration": 156,
    "start_time": "2024-10-10T15:14:27.487Z"
   },
   {
    "duration": 148,
    "start_time": "2024-10-10T15:14:53.944Z"
   },
   {
    "duration": 67,
    "start_time": "2024-10-10T15:16:02.666Z"
   },
   {
    "duration": 235,
    "start_time": "2024-10-10T15:16:20.755Z"
   },
   {
    "duration": 303,
    "start_time": "2024-10-10T15:17:21.117Z"
   },
   {
    "duration": 241,
    "start_time": "2024-10-10T15:17:26.638Z"
   },
   {
    "duration": 142,
    "start_time": "2024-10-10T15:17:33.876Z"
   },
   {
    "duration": 174,
    "start_time": "2024-10-10T15:17:44.883Z"
   },
   {
    "duration": 9,
    "start_time": "2024-10-10T15:20:59.083Z"
   },
   {
    "duration": 15,
    "start_time": "2024-10-10T15:21:32.332Z"
   },
   {
    "duration": 625,
    "start_time": "2024-10-10T15:22:36.614Z"
   },
   {
    "duration": 73,
    "start_time": "2024-10-10T15:22:37.241Z"
   },
   {
    "duration": 17,
    "start_time": "2024-10-10T15:22:37.315Z"
   },
   {
    "duration": 32,
    "start_time": "2024-10-10T15:22:37.334Z"
   },
   {
    "duration": 3,
    "start_time": "2024-10-10T15:22:37.368Z"
   },
   {
    "duration": 17,
    "start_time": "2024-10-10T15:22:37.373Z"
   },
   {
    "duration": 11,
    "start_time": "2024-10-10T15:22:37.392Z"
   },
   {
    "duration": 37,
    "start_time": "2024-10-10T15:22:37.405Z"
   },
   {
    "duration": 10,
    "start_time": "2024-10-10T15:22:37.443Z"
   },
   {
    "duration": 12,
    "start_time": "2024-10-10T15:22:37.455Z"
   },
   {
    "duration": 16,
    "start_time": "2024-10-10T15:22:37.468Z"
   },
   {
    "duration": 15,
    "start_time": "2024-10-10T15:22:37.485Z"
   },
   {
    "duration": 10,
    "start_time": "2024-10-10T15:22:37.501Z"
   },
   {
    "duration": 9,
    "start_time": "2024-10-10T15:22:37.512Z"
   },
   {
    "duration": 10,
    "start_time": "2024-10-10T15:22:37.522Z"
   },
   {
    "duration": 264,
    "start_time": "2024-10-10T15:22:37.534Z"
   },
   {
    "duration": 16,
    "start_time": "2024-10-10T15:22:37.800Z"
   },
   {
    "duration": 28,
    "start_time": "2024-10-10T15:22:37.818Z"
   },
   {
    "duration": 410,
    "start_time": "2024-10-10T15:22:37.848Z"
   },
   {
    "duration": 167,
    "start_time": "2024-10-10T15:22:38.259Z"
   },
   {
    "duration": 0,
    "start_time": "2024-10-10T15:22:38.427Z"
   },
   {
    "duration": 0,
    "start_time": "2024-10-10T15:22:38.428Z"
   },
   {
    "duration": 0,
    "start_time": "2024-10-10T15:22:38.430Z"
   },
   {
    "duration": 153,
    "start_time": "2024-10-10T15:22:49.421Z"
   },
   {
    "duration": 181,
    "start_time": "2024-10-10T15:22:52.033Z"
   },
   {
    "duration": 133,
    "start_time": "2024-10-10T15:22:53.429Z"
   },
   {
    "duration": 9,
    "start_time": "2024-10-10T15:23:36.001Z"
   },
   {
    "duration": 559,
    "start_time": "2024-10-10T15:29:22.658Z"
   },
   {
    "duration": 73,
    "start_time": "2024-10-10T15:29:23.218Z"
   },
   {
    "duration": 18,
    "start_time": "2024-10-10T15:29:23.292Z"
   },
   {
    "duration": 19,
    "start_time": "2024-10-10T15:29:23.312Z"
   },
   {
    "duration": 4,
    "start_time": "2024-10-10T15:29:23.333Z"
   },
   {
    "duration": 11,
    "start_time": "2024-10-10T15:29:23.339Z"
   },
   {
    "duration": 15,
    "start_time": "2024-10-10T15:29:23.352Z"
   },
   {
    "duration": 20,
    "start_time": "2024-10-10T15:29:23.368Z"
   },
   {
    "duration": 3,
    "start_time": "2024-10-10T15:29:23.390Z"
   },
   {
    "duration": 22,
    "start_time": "2024-10-10T15:29:23.395Z"
   },
   {
    "duration": 36,
    "start_time": "2024-10-10T15:29:23.418Z"
   },
   {
    "duration": 11,
    "start_time": "2024-10-10T15:29:23.455Z"
   },
   {
    "duration": 10,
    "start_time": "2024-10-10T15:29:23.467Z"
   },
   {
    "duration": 9,
    "start_time": "2024-10-10T15:29:23.478Z"
   },
   {
    "duration": 11,
    "start_time": "2024-10-10T15:29:23.489Z"
   },
   {
    "duration": 250,
    "start_time": "2024-10-10T15:29:23.502Z"
   },
   {
    "duration": 5,
    "start_time": "2024-10-10T15:29:23.754Z"
   },
   {
    "duration": 233,
    "start_time": "2024-10-10T15:29:23.760Z"
   },
   {
    "duration": 161,
    "start_time": "2024-10-10T15:31:24.802Z"
   },
   {
    "duration": 73,
    "start_time": "2024-10-10T15:32:52.925Z"
   },
   {
    "duration": 196,
    "start_time": "2024-10-10T15:33:27.235Z"
   },
   {
    "duration": 361,
    "start_time": "2024-10-10T15:36:29.152Z"
   },
   {
    "duration": 169,
    "start_time": "2024-10-10T15:36:51.440Z"
   },
   {
    "duration": 179,
    "start_time": "2024-10-10T15:37:12.996Z"
   },
   {
    "duration": 167,
    "start_time": "2024-10-10T15:38:00.100Z"
   },
   {
    "duration": 180,
    "start_time": "2024-10-10T15:38:11.436Z"
   },
   {
    "duration": 586,
    "start_time": "2024-10-10T15:45:25.188Z"
   },
   {
    "duration": 75,
    "start_time": "2024-10-10T15:45:25.776Z"
   },
   {
    "duration": 17,
    "start_time": "2024-10-10T15:45:25.853Z"
   },
   {
    "duration": 20,
    "start_time": "2024-10-10T15:45:25.872Z"
   },
   {
    "duration": 3,
    "start_time": "2024-10-10T15:45:25.894Z"
   },
   {
    "duration": 7,
    "start_time": "2024-10-10T15:45:25.898Z"
   },
   {
    "duration": 5,
    "start_time": "2024-10-10T15:45:25.906Z"
   },
   {
    "duration": 21,
    "start_time": "2024-10-10T15:45:25.912Z"
   },
   {
    "duration": 3,
    "start_time": "2024-10-10T15:45:25.935Z"
   },
   {
    "duration": 10,
    "start_time": "2024-10-10T15:45:25.939Z"
   },
   {
    "duration": 10,
    "start_time": "2024-10-10T15:45:25.950Z"
   },
   {
    "duration": 6,
    "start_time": "2024-10-10T15:45:25.961Z"
   },
   {
    "duration": 26,
    "start_time": "2024-10-10T15:45:25.968Z"
   },
   {
    "duration": 16,
    "start_time": "2024-10-10T15:45:25.997Z"
   },
   {
    "duration": 14,
    "start_time": "2024-10-10T15:45:26.015Z"
   },
   {
    "duration": 251,
    "start_time": "2024-10-10T15:45:26.030Z"
   },
   {
    "duration": 6,
    "start_time": "2024-10-10T15:45:26.282Z"
   },
   {
    "duration": 310,
    "start_time": "2024-10-10T15:45:26.289Z"
   },
   {
    "duration": 10,
    "start_time": "2024-10-10T15:46:18.203Z"
   },
   {
    "duration": 195,
    "start_time": "2024-10-10T15:57:35.243Z"
   },
   {
    "duration": 54,
    "start_time": "2024-10-10T15:58:27.488Z"
   },
   {
    "duration": 57,
    "start_time": "2024-10-10T15:58:58.433Z"
   },
   {
    "duration": 153,
    "start_time": "2024-10-10T16:01:57.131Z"
   },
   {
    "duration": 178,
    "start_time": "2024-10-10T16:02:15.298Z"
   },
   {
    "duration": 209,
    "start_time": "2024-10-10T16:04:05.240Z"
   },
   {
    "duration": 236,
    "start_time": "2024-10-10T16:04:51.058Z"
   },
   {
    "duration": 178,
    "start_time": "2024-10-10T16:05:01.171Z"
   },
   {
    "duration": 211,
    "start_time": "2024-10-10T16:05:36.624Z"
   },
   {
    "duration": 599,
    "start_time": "2024-10-10T16:05:56.885Z"
   },
   {
    "duration": 73,
    "start_time": "2024-10-10T16:05:57.486Z"
   },
   {
    "duration": 18,
    "start_time": "2024-10-10T16:05:57.560Z"
   },
   {
    "duration": 18,
    "start_time": "2024-10-10T16:05:57.579Z"
   },
   {
    "duration": 3,
    "start_time": "2024-10-10T16:05:57.599Z"
   },
   {
    "duration": 4,
    "start_time": "2024-10-10T16:05:57.604Z"
   },
   {
    "duration": 5,
    "start_time": "2024-10-10T16:05:57.609Z"
   },
   {
    "duration": 18,
    "start_time": "2024-10-10T16:05:57.615Z"
   },
   {
    "duration": 2,
    "start_time": "2024-10-10T16:05:57.634Z"
   },
   {
    "duration": 16,
    "start_time": "2024-10-10T16:05:57.638Z"
   },
   {
    "duration": 9,
    "start_time": "2024-10-10T16:05:57.655Z"
   },
   {
    "duration": 7,
    "start_time": "2024-10-10T16:05:57.665Z"
   },
   {
    "duration": 12,
    "start_time": "2024-10-10T16:05:57.673Z"
   },
   {
    "duration": 31,
    "start_time": "2024-10-10T16:05:57.686Z"
   },
   {
    "duration": 16,
    "start_time": "2024-10-10T16:05:57.718Z"
   },
   {
    "duration": 240,
    "start_time": "2024-10-10T16:05:57.735Z"
   },
   {
    "duration": 5,
    "start_time": "2024-10-10T16:05:57.977Z"
   },
   {
    "duration": 31,
    "start_time": "2024-10-10T16:05:57.983Z"
   },
   {
    "duration": 419,
    "start_time": "2024-10-10T16:05:58.015Z"
   },
   {
    "duration": 180,
    "start_time": "2024-10-10T16:06:43.963Z"
   },
   {
    "duration": 10,
    "start_time": "2024-10-10T16:07:36.707Z"
   },
   {
    "duration": 541,
    "start_time": "2024-10-10T16:07:52.662Z"
   },
   {
    "duration": 73,
    "start_time": "2024-10-10T16:07:53.204Z"
   },
   {
    "duration": 17,
    "start_time": "2024-10-10T16:07:53.278Z"
   },
   {
    "duration": 20,
    "start_time": "2024-10-10T16:07:53.296Z"
   },
   {
    "duration": 12,
    "start_time": "2024-10-10T16:07:53.318Z"
   },
   {
    "duration": 19,
    "start_time": "2024-10-10T16:07:53.332Z"
   },
   {
    "duration": 14,
    "start_time": "2024-10-10T16:07:53.352Z"
   },
   {
    "duration": 29,
    "start_time": "2024-10-10T16:07:53.367Z"
   },
   {
    "duration": 8,
    "start_time": "2024-10-10T16:07:53.398Z"
   },
   {
    "duration": 13,
    "start_time": "2024-10-10T16:07:53.408Z"
   },
   {
    "duration": 13,
    "start_time": "2024-10-10T16:07:53.422Z"
   },
   {
    "duration": 6,
    "start_time": "2024-10-10T16:07:53.437Z"
   },
   {
    "duration": 14,
    "start_time": "2024-10-10T16:07:53.445Z"
   },
   {
    "duration": 18,
    "start_time": "2024-10-10T16:07:53.460Z"
   },
   {
    "duration": 33,
    "start_time": "2024-10-10T16:07:53.479Z"
   },
   {
    "duration": 258,
    "start_time": "2024-10-10T16:07:53.514Z"
   },
   {
    "duration": 5,
    "start_time": "2024-10-10T16:07:53.773Z"
   },
   {
    "duration": 261,
    "start_time": "2024-10-10T16:07:53.780Z"
   },
   {
    "duration": 178,
    "start_time": "2024-10-10T16:09:12.395Z"
   },
   {
    "duration": 71,
    "start_time": "2024-10-10T16:11:03.996Z"
   },
   {
    "duration": 143,
    "start_time": "2024-10-10T16:11:35.652Z"
   },
   {
    "duration": 223,
    "start_time": "2024-10-10T16:13:05.929Z"
   },
   {
    "duration": 616,
    "start_time": "2024-10-10T16:14:20.682Z"
   },
   {
    "duration": 73,
    "start_time": "2024-10-10T16:14:21.300Z"
   },
   {
    "duration": 16,
    "start_time": "2024-10-10T16:14:21.374Z"
   },
   {
    "duration": 35,
    "start_time": "2024-10-10T16:14:21.392Z"
   },
   {
    "duration": 4,
    "start_time": "2024-10-10T16:14:21.428Z"
   },
   {
    "duration": 5,
    "start_time": "2024-10-10T16:14:21.433Z"
   },
   {
    "duration": 6,
    "start_time": "2024-10-10T16:14:21.439Z"
   },
   {
    "duration": 19,
    "start_time": "2024-10-10T16:14:21.446Z"
   },
   {
    "duration": 14,
    "start_time": "2024-10-10T16:14:21.466Z"
   },
   {
    "duration": 11,
    "start_time": "2024-10-10T16:14:21.482Z"
   },
   {
    "duration": 27,
    "start_time": "2024-10-10T16:14:21.494Z"
   },
   {
    "duration": 7,
    "start_time": "2024-10-10T16:14:21.522Z"
   },
   {
    "duration": 10,
    "start_time": "2024-10-10T16:14:21.530Z"
   },
   {
    "duration": 8,
    "start_time": "2024-10-10T16:14:21.541Z"
   },
   {
    "duration": 7,
    "start_time": "2024-10-10T16:14:21.551Z"
   },
   {
    "duration": 280,
    "start_time": "2024-10-10T16:14:21.559Z"
   },
   {
    "duration": 5,
    "start_time": "2024-10-10T16:14:21.840Z"
   },
   {
    "duration": 269,
    "start_time": "2024-10-10T16:14:21.847Z"
   },
   {
    "duration": 197,
    "start_time": "2024-10-10T16:14:22.117Z"
   },
   {
    "duration": 193,
    "start_time": "2024-10-10T16:15:03.091Z"
   },
   {
    "duration": 227,
    "start_time": "2024-10-10T16:15:25.608Z"
   },
   {
    "duration": 187,
    "start_time": "2024-10-10T16:15:28.983Z"
   },
   {
    "duration": 69,
    "start_time": "2024-10-10T16:17:18.625Z"
   },
   {
    "duration": 10,
    "start_time": "2024-10-10T16:18:39.303Z"
   },
   {
    "duration": 207,
    "start_time": "2024-10-10T16:18:55.452Z"
   },
   {
    "duration": 200,
    "start_time": "2024-10-10T16:19:15.365Z"
   },
   {
    "duration": 294,
    "start_time": "2024-10-10T16:20:45.929Z"
   },
   {
    "duration": 313,
    "start_time": "2024-10-10T16:21:03.889Z"
   },
   {
    "duration": 273,
    "start_time": "2024-10-10T16:21:17.502Z"
   },
   {
    "duration": 302,
    "start_time": "2024-10-10T16:21:22.614Z"
   },
   {
    "duration": 581,
    "start_time": "2024-10-10T16:23:29.560Z"
   },
   {
    "duration": 74,
    "start_time": "2024-10-10T16:23:30.142Z"
   },
   {
    "duration": 17,
    "start_time": "2024-10-10T16:23:30.217Z"
   },
   {
    "duration": 61,
    "start_time": "2024-10-10T16:23:30.236Z"
   },
   {
    "duration": 46,
    "start_time": "2024-10-10T16:23:30.298Z"
   },
   {
    "duration": 17,
    "start_time": "2024-10-10T16:23:30.345Z"
   },
   {
    "duration": 41,
    "start_time": "2024-10-10T16:23:30.364Z"
   },
   {
    "duration": 30,
    "start_time": "2024-10-10T16:23:30.406Z"
   },
   {
    "duration": 31,
    "start_time": "2024-10-10T16:23:30.438Z"
   },
   {
    "duration": 84,
    "start_time": "2024-10-10T16:23:30.471Z"
   },
   {
    "duration": 19,
    "start_time": "2024-10-10T16:23:30.556Z"
   },
   {
    "duration": 9,
    "start_time": "2024-10-10T16:23:30.577Z"
   },
   {
    "duration": 26,
    "start_time": "2024-10-10T16:23:30.587Z"
   },
   {
    "duration": 10,
    "start_time": "2024-10-10T16:23:30.615Z"
   },
   {
    "duration": 25,
    "start_time": "2024-10-10T16:23:30.625Z"
   },
   {
    "duration": 253,
    "start_time": "2024-10-10T16:23:30.651Z"
   },
   {
    "duration": 8,
    "start_time": "2024-10-10T16:23:30.905Z"
   },
   {
    "duration": 350,
    "start_time": "2024-10-10T16:23:30.914Z"
   },
   {
    "duration": 189,
    "start_time": "2024-10-10T16:23:31.266Z"
   },
   {
    "duration": 279,
    "start_time": "2024-10-10T16:23:31.457Z"
   },
   {
    "duration": 272,
    "start_time": "2024-10-10T16:26:18.530Z"
   },
   {
    "duration": 166,
    "start_time": "2024-10-10T16:26:33.827Z"
   },
   {
    "duration": 179,
    "start_time": "2024-10-10T16:28:52.415Z"
   },
   {
    "duration": 186,
    "start_time": "2024-10-10T16:30:12.440Z"
   },
   {
    "duration": 187,
    "start_time": "2024-10-10T16:30:41.836Z"
   },
   {
    "duration": 188,
    "start_time": "2024-10-10T16:31:12.988Z"
   },
   {
    "duration": 254,
    "start_time": "2024-10-10T16:31:41.644Z"
   },
   {
    "duration": 270,
    "start_time": "2024-10-10T16:32:07.889Z"
   },
   {
    "duration": 46,
    "start_time": "2024-10-10T16:32:22.028Z"
   },
   {
    "duration": 246,
    "start_time": "2024-10-10T16:32:36.987Z"
   },
   {
    "duration": 175,
    "start_time": "2024-10-10T16:33:06.686Z"
   },
   {
    "duration": 193,
    "start_time": "2024-10-10T16:33:20.233Z"
   },
   {
    "duration": 196,
    "start_time": "2024-10-10T16:33:40.586Z"
   },
   {
    "duration": 183,
    "start_time": "2024-10-10T16:33:50.304Z"
   },
   {
    "duration": 184,
    "start_time": "2024-10-10T16:33:52.472Z"
   },
   {
    "duration": 168,
    "start_time": "2024-10-10T16:34:26.017Z"
   },
   {
    "duration": 205,
    "start_time": "2024-10-10T16:34:39.493Z"
   },
   {
    "duration": 178,
    "start_time": "2024-10-10T16:35:22.848Z"
   },
   {
    "duration": 253,
    "start_time": "2024-10-10T16:39:18.553Z"
   },
   {
    "duration": 275,
    "start_time": "2024-10-10T16:39:39.975Z"
   },
   {
    "duration": 346,
    "start_time": "2024-10-10T16:40:04.374Z"
   },
   {
    "duration": 282,
    "start_time": "2024-10-10T16:40:17.145Z"
   },
   {
    "duration": 11,
    "start_time": "2024-10-10T16:40:51.638Z"
   },
   {
    "duration": 277,
    "start_time": "2024-10-10T16:41:02.003Z"
   },
   {
    "duration": 276,
    "start_time": "2024-10-10T16:41:12.095Z"
   },
   {
    "duration": 216,
    "start_time": "2024-10-10T16:41:23.147Z"
   },
   {
    "duration": 208,
    "start_time": "2024-10-10T16:43:39.199Z"
   },
   {
    "duration": 342,
    "start_time": "2024-10-10T16:44:59.586Z"
   },
   {
    "duration": 323,
    "start_time": "2024-10-10T16:47:56.975Z"
   },
   {
    "duration": 734,
    "start_time": "2024-10-14T04:37:25.972Z"
   },
   {
    "duration": 231,
    "start_time": "2024-10-14T04:37:26.707Z"
   },
   {
    "duration": 17,
    "start_time": "2024-10-14T04:37:26.939Z"
   },
   {
    "duration": 21,
    "start_time": "2024-10-14T04:37:26.957Z"
   },
   {
    "duration": 3,
    "start_time": "2024-10-14T04:37:26.979Z"
   },
   {
    "duration": 7,
    "start_time": "2024-10-14T04:37:26.984Z"
   },
   {
    "duration": 18,
    "start_time": "2024-10-14T04:37:26.992Z"
   },
   {
    "duration": 25,
    "start_time": "2024-10-14T04:37:27.012Z"
   },
   {
    "duration": 4,
    "start_time": "2024-10-14T04:37:27.038Z"
   },
   {
    "duration": 16,
    "start_time": "2024-10-14T04:37:27.044Z"
   },
   {
    "duration": 9,
    "start_time": "2024-10-14T04:37:27.061Z"
   },
   {
    "duration": 6,
    "start_time": "2024-10-14T04:37:27.071Z"
   },
   {
    "duration": 9,
    "start_time": "2024-10-14T04:37:27.079Z"
   },
   {
    "duration": 9,
    "start_time": "2024-10-14T04:37:27.089Z"
   },
   {
    "duration": 29,
    "start_time": "2024-10-14T04:37:27.099Z"
   },
   {
    "duration": 251,
    "start_time": "2024-10-14T04:37:27.129Z"
   },
   {
    "duration": 6,
    "start_time": "2024-10-14T04:37:27.381Z"
   },
   {
    "duration": 259,
    "start_time": "2024-10-14T04:37:27.388Z"
   },
   {
    "duration": 176,
    "start_time": "2024-10-14T04:37:27.648Z"
   },
   {
    "duration": 382,
    "start_time": "2024-10-14T04:37:27.825Z"
   },
   {
    "duration": 270,
    "start_time": "2024-10-14T04:37:28.208Z"
   },
   {
    "duration": 303,
    "start_time": "2024-10-14T04:37:28.480Z"
   },
   {
    "duration": 66,
    "start_time": "2024-10-14T07:34:53.992Z"
   },
   {
    "duration": 583,
    "start_time": "2024-10-14T07:38:25.063Z"
   },
   {
    "duration": 75,
    "start_time": "2024-10-14T07:38:25.647Z"
   },
   {
    "duration": 17,
    "start_time": "2024-10-14T07:38:25.723Z"
   },
   {
    "duration": 124,
    "start_time": "2024-10-14T07:38:25.742Z"
   },
   {
    "duration": 4,
    "start_time": "2024-10-14T07:38:25.867Z"
   },
   {
    "duration": 6,
    "start_time": "2024-10-14T07:38:25.872Z"
   },
   {
    "duration": 15,
    "start_time": "2024-10-14T07:38:25.879Z"
   },
   {
    "duration": 23,
    "start_time": "2024-10-14T07:38:25.896Z"
   },
   {
    "duration": 3,
    "start_time": "2024-10-14T07:38:25.921Z"
   },
   {
    "duration": 13,
    "start_time": "2024-10-14T07:38:25.926Z"
   },
   {
    "duration": 22,
    "start_time": "2024-10-14T07:38:25.941Z"
   },
   {
    "duration": 7,
    "start_time": "2024-10-14T07:38:25.965Z"
   },
   {
    "duration": 10,
    "start_time": "2024-10-14T07:38:25.974Z"
   },
   {
    "duration": 9,
    "start_time": "2024-10-14T07:38:25.986Z"
   },
   {
    "duration": 38,
    "start_time": "2024-10-14T07:38:25.996Z"
   },
   {
    "duration": 257,
    "start_time": "2024-10-14T07:38:26.035Z"
   },
   {
    "duration": 7,
    "start_time": "2024-10-14T07:38:26.294Z"
   },
   {
    "duration": 280,
    "start_time": "2024-10-14T07:38:26.302Z"
   },
   {
    "duration": 184,
    "start_time": "2024-10-14T07:38:26.583Z"
   },
   {
    "duration": 291,
    "start_time": "2024-10-14T07:38:26.769Z"
   },
   {
    "duration": 245,
    "start_time": "2024-10-14T07:38:27.062Z"
   },
   {
    "duration": 301,
    "start_time": "2024-10-14T07:38:27.308Z"
   },
   {
    "duration": 9,
    "start_time": "2024-10-14T07:38:27.610Z"
   },
   {
    "duration": 87,
    "start_time": "2024-10-14T07:45:31.216Z"
   },
   {
    "duration": 97,
    "start_time": "2024-10-14T07:45:42.362Z"
   },
   {
    "duration": 101,
    "start_time": "2024-10-14T07:46:02.377Z"
   },
   {
    "duration": 114,
    "start_time": "2024-10-14T07:47:37.961Z"
   },
   {
    "duration": 142,
    "start_time": "2024-10-14T07:47:58.315Z"
   },
   {
    "duration": 137,
    "start_time": "2024-10-14T07:55:10.042Z"
   },
   {
    "duration": 3,
    "start_time": "2024-10-14T07:57:16.146Z"
   },
   {
    "duration": 125,
    "start_time": "2024-10-14T08:02:48.318Z"
   },
   {
    "duration": 3,
    "start_time": "2024-10-14T08:04:20.510Z"
   },
   {
    "duration": 114,
    "start_time": "2024-10-14T08:05:03.066Z"
   },
   {
    "duration": 134,
    "start_time": "2024-10-14T08:06:36.551Z"
   },
   {
    "duration": 8,
    "start_time": "2024-10-14T08:07:58.888Z"
   },
   {
    "duration": 180,
    "start_time": "2024-10-14T08:12:30.310Z"
   },
   {
    "duration": 127,
    "start_time": "2024-10-14T08:13:08.006Z"
   },
   {
    "duration": 60,
    "start_time": "2024-10-17T06:52:39.440Z"
   },
   {
    "duration": 931,
    "start_time": "2024-10-17T06:52:50.479Z"
   },
   {
    "duration": 217,
    "start_time": "2024-10-17T06:52:51.412Z"
   },
   {
    "duration": 24,
    "start_time": "2024-10-17T06:52:51.631Z"
   },
   {
    "duration": 32,
    "start_time": "2024-10-17T06:52:51.657Z"
   },
   {
    "duration": 47,
    "start_time": "2024-10-17T06:52:51.692Z"
   },
   {
    "duration": 8,
    "start_time": "2024-10-17T06:52:51.741Z"
   },
   {
    "duration": 10,
    "start_time": "2024-10-17T06:52:51.750Z"
   },
   {
    "duration": 45,
    "start_time": "2024-10-17T06:52:51.761Z"
   },
   {
    "duration": 4,
    "start_time": "2024-10-17T06:52:51.807Z"
   },
   {
    "duration": 22,
    "start_time": "2024-10-17T06:52:51.814Z"
   },
   {
    "duration": 12,
    "start_time": "2024-10-17T06:52:51.838Z"
   },
   {
    "duration": 20,
    "start_time": "2024-10-17T06:52:51.851Z"
   },
   {
    "duration": 18,
    "start_time": "2024-10-17T06:52:51.877Z"
   },
   {
    "duration": 16,
    "start_time": "2024-10-17T06:52:51.897Z"
   },
   {
    "duration": 12,
    "start_time": "2024-10-17T06:52:51.915Z"
   },
   {
    "duration": 378,
    "start_time": "2024-10-17T06:52:51.929Z"
   },
   {
    "duration": 6,
    "start_time": "2024-10-17T06:52:52.309Z"
   },
   {
    "duration": 364,
    "start_time": "2024-10-17T06:52:52.316Z"
   },
   {
    "duration": 264,
    "start_time": "2024-10-17T06:52:52.682Z"
   },
   {
    "duration": 428,
    "start_time": "2024-10-17T06:52:52.948Z"
   },
   {
    "duration": 355,
    "start_time": "2024-10-17T06:52:53.378Z"
   },
   {
    "duration": 399,
    "start_time": "2024-10-17T06:52:53.735Z"
   },
   {
    "duration": 11,
    "start_time": "2024-10-17T06:52:54.136Z"
   },
   {
    "duration": 202,
    "start_time": "2024-10-17T06:52:54.148Z"
   },
   {
    "duration": 4,
    "start_time": "2024-10-17T06:52:54.351Z"
   },
   {
    "duration": 33,
    "start_time": "2024-10-17T06:52:54.356Z"
   },
   {
    "duration": 191,
    "start_time": "2024-10-17T06:52:54.392Z"
   },
   {
    "duration": 6,
    "start_time": "2024-10-17T06:52:54.588Z"
   },
   {
    "duration": 322,
    "start_time": "2024-10-17T06:52:54.596Z"
   },
   {
    "duration": 272,
    "start_time": "2024-10-17T06:53:02.767Z"
   },
   {
    "duration": 259,
    "start_time": "2024-10-17T06:55:03.868Z"
   },
   {
    "duration": 241,
    "start_time": "2024-10-17T07:28:07.158Z"
   },
   {
    "duration": 1219,
    "start_time": "2024-10-17T07:28:42.872Z"
   },
   {
    "duration": 84,
    "start_time": "2024-10-17T07:28:44.093Z"
   },
   {
    "duration": 33,
    "start_time": "2024-10-17T07:28:44.179Z"
   },
   {
    "duration": 91,
    "start_time": "2024-10-17T07:28:44.214Z"
   },
   {
    "duration": 6,
    "start_time": "2024-10-17T07:28:44.307Z"
   },
   {
    "duration": 62,
    "start_time": "2024-10-17T07:28:44.315Z"
   },
   {
    "duration": 10,
    "start_time": "2024-10-17T07:28:44.379Z"
   },
   {
    "duration": 93,
    "start_time": "2024-10-17T07:28:44.391Z"
   },
   {
    "duration": 6,
    "start_time": "2024-10-17T07:28:44.486Z"
   },
   {
    "duration": 20,
    "start_time": "2024-10-17T07:28:44.496Z"
   },
   {
    "duration": 66,
    "start_time": "2024-10-17T07:28:44.518Z"
   },
   {
    "duration": 13,
    "start_time": "2024-10-17T07:28:44.586Z"
   },
   {
    "duration": 18,
    "start_time": "2024-10-17T07:28:44.601Z"
   },
   {
    "duration": 69,
    "start_time": "2024-10-17T07:28:44.620Z"
   },
   {
    "duration": 24,
    "start_time": "2024-10-17T07:28:44.691Z"
   },
   {
    "duration": 876,
    "start_time": "2024-10-17T07:28:44.718Z"
   },
   {
    "duration": 11,
    "start_time": "2024-10-17T07:28:45.596Z"
   },
   {
    "duration": 687,
    "start_time": "2024-10-17T07:28:45.609Z"
   },
   {
    "duration": 256,
    "start_time": "2024-10-17T07:28:46.299Z"
   },
   {
    "duration": 398,
    "start_time": "2024-10-17T07:28:46.556Z"
   },
   {
    "duration": 291,
    "start_time": "2024-10-17T07:28:46.956Z"
   },
   {
    "duration": 409,
    "start_time": "2024-10-17T07:28:47.249Z"
   },
   {
    "duration": 21,
    "start_time": "2024-10-17T07:28:47.659Z"
   },
   {
    "duration": 194,
    "start_time": "2024-10-17T07:28:47.682Z"
   },
   {
    "duration": 6,
    "start_time": "2024-10-17T07:28:47.879Z"
   },
   {
    "duration": 17,
    "start_time": "2024-10-17T07:28:47.887Z"
   },
   {
    "duration": 218,
    "start_time": "2024-10-17T07:28:47.906Z"
   },
   {
    "duration": 4,
    "start_time": "2024-10-17T07:28:48.127Z"
   },
   {
    "duration": 293,
    "start_time": "2024-10-17T07:28:48.133Z"
   },
   {
    "duration": 198,
    "start_time": "2024-10-17T07:28:48.427Z"
   },
   {
    "duration": 208,
    "start_time": "2024-10-17T07:30:35.055Z"
   },
   {
    "duration": 276,
    "start_time": "2024-10-17T07:33:41.637Z"
   },
   {
    "duration": 179,
    "start_time": "2024-10-17T07:33:47.601Z"
   },
   {
    "duration": 196,
    "start_time": "2024-10-17T07:33:59.741Z"
   },
   {
    "duration": 12,
    "start_time": "2024-10-17T07:42:50.104Z"
   },
   {
    "duration": 14,
    "start_time": "2024-10-17T07:42:54.064Z"
   },
   {
    "duration": 18,
    "start_time": "2024-10-17T07:59:57.567Z"
   },
   {
    "duration": 6,
    "start_time": "2024-10-17T08:03:17.305Z"
   },
   {
    "duration": 59,
    "start_time": "2024-10-17T08:05:39.464Z"
   },
   {
    "duration": 92,
    "start_time": "2024-10-17T08:05:45.090Z"
   },
   {
    "duration": 76,
    "start_time": "2024-10-17T08:05:56.421Z"
   },
   {
    "duration": 66,
    "start_time": "2024-10-17T08:06:10.409Z"
   },
   {
    "duration": 93,
    "start_time": "2024-10-17T08:06:40.717Z"
   },
   {
    "duration": 18,
    "start_time": "2024-10-17T08:09:16.093Z"
   },
   {
    "duration": 15,
    "start_time": "2024-10-17T08:09:23.859Z"
   },
   {
    "duration": 581,
    "start_time": "2024-10-17T08:09:46.592Z"
   },
   {
    "duration": 15,
    "start_time": "2024-10-17T08:10:21.052Z"
   },
   {
    "duration": 8,
    "start_time": "2024-10-17T08:37:43.113Z"
   },
   {
    "duration": 9,
    "start_time": "2024-10-17T08:39:39.908Z"
   },
   {
    "duration": 7,
    "start_time": "2024-10-17T08:39:54.352Z"
   },
   {
    "duration": 6,
    "start_time": "2024-10-17T08:40:21.048Z"
   },
   {
    "duration": 67,
    "start_time": "2024-10-17T08:40:33.956Z"
   },
   {
    "duration": 85,
    "start_time": "2024-10-17T08:40:55.549Z"
   },
   {
    "duration": 8,
    "start_time": "2024-10-17T08:41:01.289Z"
   },
   {
    "duration": 10,
    "start_time": "2024-10-17T08:41:17.185Z"
   },
   {
    "duration": 12,
    "start_time": "2024-10-17T08:57:42.019Z"
   },
   {
    "duration": 17,
    "start_time": "2024-10-17T08:57:51.601Z"
   },
   {
    "duration": 8,
    "start_time": "2024-10-17T08:58:01.350Z"
   },
   {
    "duration": 8,
    "start_time": "2024-10-17T08:58:12.108Z"
   },
   {
    "duration": 7,
    "start_time": "2024-10-17T08:59:06.061Z"
   },
   {
    "duration": 10,
    "start_time": "2024-10-17T09:00:17.485Z"
   },
   {
    "duration": 73,
    "start_time": "2024-10-17T09:02:13.949Z"
   },
   {
    "duration": 8,
    "start_time": "2024-10-17T09:02:36.908Z"
   },
   {
    "duration": 8,
    "start_time": "2024-10-17T09:03:18.264Z"
   },
   {
    "duration": 10,
    "start_time": "2024-10-17T09:03:29.490Z"
   },
   {
    "duration": 9,
    "start_time": "2024-10-17T09:03:41.843Z"
   },
   {
    "duration": 8,
    "start_time": "2024-10-17T09:03:46.047Z"
   },
   {
    "duration": 1300,
    "start_time": "2024-10-17T09:08:12.478Z"
   },
   {
    "duration": 76,
    "start_time": "2024-10-17T09:08:13.781Z"
   },
   {
    "duration": 26,
    "start_time": "2024-10-17T09:08:13.859Z"
   },
   {
    "duration": 33,
    "start_time": "2024-10-17T09:08:13.888Z"
   },
   {
    "duration": 7,
    "start_time": "2024-10-17T09:08:13.923Z"
   },
   {
    "duration": 13,
    "start_time": "2024-10-17T09:08:13.931Z"
   },
   {
    "duration": 7,
    "start_time": "2024-10-17T09:08:13.946Z"
   },
   {
    "duration": 53,
    "start_time": "2024-10-17T09:08:13.955Z"
   },
   {
    "duration": 4,
    "start_time": "2024-10-17T09:08:14.010Z"
   },
   {
    "duration": 13,
    "start_time": "2024-10-17T09:08:14.016Z"
   },
   {
    "duration": 59,
    "start_time": "2024-10-17T09:08:14.030Z"
   },
   {
    "duration": 12,
    "start_time": "2024-10-17T09:08:14.091Z"
   },
   {
    "duration": 9,
    "start_time": "2024-10-17T09:08:14.106Z"
   },
   {
    "duration": 73,
    "start_time": "2024-10-17T09:08:14.116Z"
   },
   {
    "duration": 48,
    "start_time": "2024-10-17T09:08:14.191Z"
   },
   {
    "duration": 15,
    "start_time": "2024-10-17T09:08:14.275Z"
   },
   {
    "duration": 798,
    "start_time": "2024-10-17T09:08:14.292Z"
   },
   {
    "duration": 10,
    "start_time": "2024-10-17T09:08:15.093Z"
   },
   {
    "duration": 874,
    "start_time": "2024-10-17T09:08:15.105Z"
   },
   {
    "duration": 266,
    "start_time": "2024-10-17T09:08:15.981Z"
   },
   {
    "duration": 407,
    "start_time": "2024-10-17T09:08:16.248Z"
   },
   {
    "duration": 295,
    "start_time": "2024-10-17T09:08:16.656Z"
   },
   {
    "duration": 420,
    "start_time": "2024-10-17T09:08:16.953Z"
   },
   {
    "duration": 12,
    "start_time": "2024-10-17T09:08:17.375Z"
   },
   {
    "duration": 183,
    "start_time": "2024-10-17T09:08:17.389Z"
   },
   {
    "duration": 6,
    "start_time": "2024-10-17T09:08:17.577Z"
   },
   {
    "duration": 14,
    "start_time": "2024-10-17T09:08:17.585Z"
   },
   {
    "duration": 209,
    "start_time": "2024-10-17T09:08:17.603Z"
   },
   {
    "duration": 4,
    "start_time": "2024-10-17T09:08:17.813Z"
   },
   {
    "duration": 306,
    "start_time": "2024-10-17T09:08:17.819Z"
   },
   {
    "duration": 232,
    "start_time": "2024-10-17T09:08:18.127Z"
   },
   {
    "duration": 23,
    "start_time": "2024-10-17T09:08:18.361Z"
   },
   {
    "duration": 59,
    "start_time": "2024-10-17T10:53:06.471Z"
   },
   {
    "duration": 846,
    "start_time": "2024-10-17T10:53:13.360Z"
   },
   {
    "duration": 9,
    "start_time": "2024-10-17T10:53:29.457Z"
   },
   {
    "duration": 10,
    "start_time": "2024-10-17T10:57:47.993Z"
   },
   {
    "duration": 1376,
    "start_time": "2024-10-19T08:59:33.607Z"
   },
   {
    "duration": 227,
    "start_time": "2024-10-19T08:59:34.985Z"
   },
   {
    "duration": 24,
    "start_time": "2024-10-19T08:59:35.214Z"
   },
   {
    "duration": 71,
    "start_time": "2024-10-19T08:59:35.240Z"
   },
   {
    "duration": 8,
    "start_time": "2024-10-19T08:59:35.314Z"
   },
   {
    "duration": 31,
    "start_time": "2024-10-19T08:59:35.324Z"
   },
   {
    "duration": 29,
    "start_time": "2024-10-19T08:59:35.357Z"
   },
   {
    "duration": 44,
    "start_time": "2024-10-19T08:59:35.388Z"
   },
   {
    "duration": 3,
    "start_time": "2024-10-19T08:59:35.434Z"
   },
   {
    "duration": 95,
    "start_time": "2024-10-19T08:59:35.439Z"
   },
   {
    "duration": 54,
    "start_time": "2024-10-19T08:59:35.536Z"
   },
   {
    "duration": 23,
    "start_time": "2024-10-19T08:59:35.592Z"
   },
   {
    "duration": 15,
    "start_time": "2024-10-19T08:59:35.617Z"
   },
   {
    "duration": 132,
    "start_time": "2024-10-19T08:59:35.635Z"
   },
   {
    "duration": 19,
    "start_time": "2024-10-19T08:59:35.769Z"
   },
   {
    "duration": 42,
    "start_time": "2024-10-19T08:59:35.789Z"
   },
   {
    "duration": 337,
    "start_time": "2024-10-19T08:59:35.833Z"
   },
   {
    "duration": 7,
    "start_time": "2024-10-19T08:59:36.171Z"
   },
   {
    "duration": 377,
    "start_time": "2024-10-19T08:59:36.180Z"
   },
   {
    "duration": 264,
    "start_time": "2024-10-19T08:59:36.559Z"
   },
   {
    "duration": 393,
    "start_time": "2024-10-19T08:59:36.826Z"
   },
   {
    "duration": 286,
    "start_time": "2024-10-19T08:59:37.221Z"
   },
   {
    "duration": 378,
    "start_time": "2024-10-19T08:59:37.509Z"
   },
   {
    "duration": 13,
    "start_time": "2024-10-19T08:59:37.889Z"
   },
   {
    "duration": 319,
    "start_time": "2024-10-19T08:59:37.904Z"
   },
   {
    "duration": 5,
    "start_time": "2024-10-19T08:59:38.224Z"
   },
   {
    "duration": 24,
    "start_time": "2024-10-19T08:59:38.230Z"
   },
   {
    "duration": 377,
    "start_time": "2024-10-19T08:59:38.256Z"
   },
   {
    "duration": 4,
    "start_time": "2024-10-19T08:59:38.634Z"
   },
   {
    "duration": 499,
    "start_time": "2024-10-19T08:59:38.640Z"
   },
   {
    "duration": 328,
    "start_time": "2024-10-19T08:59:39.140Z"
   },
   {
    "duration": 21,
    "start_time": "2024-10-19T08:59:39.522Z"
   },
   {
    "duration": 19,
    "start_time": "2024-10-19T08:59:39.544Z"
   },
   {
    "duration": 349,
    "start_time": "2024-10-19T09:22:47.625Z"
   },
   {
    "duration": 333,
    "start_time": "2024-10-19T09:44:18.315Z"
   },
   {
    "duration": 333,
    "start_time": "2024-10-19T09:49:57.954Z"
   },
   {
    "duration": 4,
    "start_time": "2024-10-19T10:32:11.157Z"
   },
   {
    "duration": 149,
    "start_time": "2024-10-19T10:32:47.495Z"
   },
   {
    "duration": 145,
    "start_time": "2024-10-19T10:32:56.216Z"
   },
   {
    "duration": 31,
    "start_time": "2024-10-19T10:33:39.200Z"
   },
   {
    "duration": 4,
    "start_time": "2024-10-19T10:33:58.164Z"
   },
   {
    "duration": 25,
    "start_time": "2024-10-19T10:34:02.185Z"
   },
   {
    "duration": 4,
    "start_time": "2024-10-19T10:34:20.288Z"
   },
   {
    "duration": 25,
    "start_time": "2024-10-19T10:34:23.643Z"
   },
   {
    "duration": 8,
    "start_time": "2024-10-19T10:37:11.128Z"
   },
   {
    "duration": 112,
    "start_time": "2024-10-19T10:42:07.205Z"
   },
   {
    "duration": 10,
    "start_time": "2024-10-19T10:42:22.962Z"
   },
   {
    "duration": 11,
    "start_time": "2024-10-19T10:42:37.504Z"
   },
   {
    "duration": 16,
    "start_time": "2024-10-19T10:50:33.748Z"
   },
   {
    "duration": 9,
    "start_time": "2024-10-19T10:51:18.843Z"
   },
   {
    "duration": 11,
    "start_time": "2024-10-19T10:54:01.561Z"
   },
   {
    "duration": 1174,
    "start_time": "2024-10-19T10:54:31.724Z"
   },
   {
    "duration": 75,
    "start_time": "2024-10-19T10:54:32.900Z"
   },
   {
    "duration": 66,
    "start_time": "2024-10-19T10:54:32.976Z"
   },
   {
    "duration": 53,
    "start_time": "2024-10-19T10:54:33.044Z"
   },
   {
    "duration": 17,
    "start_time": "2024-10-19T10:54:33.099Z"
   },
   {
    "duration": 22,
    "start_time": "2024-10-19T10:54:33.118Z"
   },
   {
    "duration": 34,
    "start_time": "2024-10-19T10:54:33.143Z"
   },
   {
    "duration": 58,
    "start_time": "2024-10-19T10:54:33.180Z"
   },
   {
    "duration": 5,
    "start_time": "2024-10-19T10:54:33.240Z"
   },
   {
    "duration": 84,
    "start_time": "2024-10-19T10:54:33.249Z"
   },
   {
    "duration": 61,
    "start_time": "2024-10-19T10:54:33.334Z"
   },
   {
    "duration": 44,
    "start_time": "2024-10-19T10:54:33.397Z"
   },
   {
    "duration": 28,
    "start_time": "2024-10-19T10:54:33.443Z"
   },
   {
    "duration": 47,
    "start_time": "2024-10-19T10:54:33.472Z"
   },
   {
    "duration": 29,
    "start_time": "2024-10-19T10:54:33.522Z"
   },
   {
    "duration": 51,
    "start_time": "2024-10-19T10:54:33.553Z"
   },
   {
    "duration": 326,
    "start_time": "2024-10-19T10:54:33.606Z"
   },
   {
    "duration": 6,
    "start_time": "2024-10-19T10:54:33.934Z"
   },
   {
    "duration": 348,
    "start_time": "2024-10-19T10:54:33.941Z"
   },
   {
    "duration": 236,
    "start_time": "2024-10-19T10:54:34.291Z"
   },
   {
    "duration": 372,
    "start_time": "2024-10-19T10:54:34.529Z"
   },
   {
    "duration": 327,
    "start_time": "2024-10-19T10:54:34.903Z"
   },
   {
    "duration": 361,
    "start_time": "2024-10-19T10:54:35.231Z"
   },
   {
    "duration": 11,
    "start_time": "2024-10-19T10:54:35.594Z"
   },
   {
    "duration": 202,
    "start_time": "2024-10-19T10:54:35.621Z"
   },
   {
    "duration": 5,
    "start_time": "2024-10-19T10:54:35.824Z"
   },
   {
    "duration": 49,
    "start_time": "2024-10-19T10:54:35.830Z"
   },
   {
    "duration": 185,
    "start_time": "2024-10-19T10:54:35.882Z"
   },
   {
    "duration": 5,
    "start_time": "2024-10-19T10:54:36.069Z"
   },
   {
    "duration": 287,
    "start_time": "2024-10-19T10:54:36.075Z"
   },
   {
    "duration": 5,
    "start_time": "2024-10-19T10:54:36.364Z"
   },
   {
    "duration": 204,
    "start_time": "2024-10-19T10:54:36.371Z"
   },
   {
    "duration": 28,
    "start_time": "2024-10-19T10:54:36.577Z"
   },
   {
    "duration": 26,
    "start_time": "2024-10-19T10:54:36.607Z"
   },
   {
    "duration": 58,
    "start_time": "2024-10-19T10:54:36.635Z"
   },
   {
    "duration": 60,
    "start_time": "2024-10-19T10:54:36.694Z"
   },
   {
    "duration": 4,
    "start_time": "2024-10-19T10:54:53.573Z"
   },
   {
    "duration": 27,
    "start_time": "2024-10-19T10:54:58.615Z"
   },
   {
    "duration": 1143,
    "start_time": "2024-10-19T11:01:12.766Z"
   },
   {
    "duration": 74,
    "start_time": "2024-10-19T11:01:13.911Z"
   },
   {
    "duration": 24,
    "start_time": "2024-10-19T11:01:13.987Z"
   },
   {
    "duration": 27,
    "start_time": "2024-10-19T11:01:14.013Z"
   },
   {
    "duration": 5,
    "start_time": "2024-10-19T11:01:14.041Z"
   },
   {
    "duration": 66,
    "start_time": "2024-10-19T11:01:14.048Z"
   },
   {
    "duration": 16,
    "start_time": "2024-10-19T11:01:14.116Z"
   },
   {
    "duration": 29,
    "start_time": "2024-10-19T11:01:14.134Z"
   },
   {
    "duration": 4,
    "start_time": "2024-10-19T11:01:14.165Z"
   },
   {
    "duration": 24,
    "start_time": "2024-10-19T11:01:14.172Z"
   },
   {
    "duration": 24,
    "start_time": "2024-10-19T11:01:14.198Z"
   },
   {
    "duration": 8,
    "start_time": "2024-10-19T11:01:14.224Z"
   },
   {
    "duration": 8,
    "start_time": "2024-10-19T11:01:14.234Z"
   },
   {
    "duration": 14,
    "start_time": "2024-10-19T11:01:14.244Z"
   },
   {
    "duration": 26,
    "start_time": "2024-10-19T11:01:14.259Z"
   },
   {
    "duration": 40,
    "start_time": "2024-10-19T11:01:14.287Z"
   },
   {
    "duration": 333,
    "start_time": "2024-10-19T11:01:14.329Z"
   },
   {
    "duration": 6,
    "start_time": "2024-10-19T11:01:14.664Z"
   },
   {
    "duration": 408,
    "start_time": "2024-10-19T11:01:14.672Z"
   },
   {
    "duration": 271,
    "start_time": "2024-10-19T11:01:15.083Z"
   },
   {
    "duration": 326,
    "start_time": "2024-10-19T11:01:15.356Z"
   },
   {
    "duration": 276,
    "start_time": "2024-10-19T11:01:15.684Z"
   },
   {
    "duration": 372,
    "start_time": "2024-10-19T11:01:15.962Z"
   },
   {
    "duration": 13,
    "start_time": "2024-10-19T11:01:16.336Z"
   },
   {
    "duration": 182,
    "start_time": "2024-10-19T11:01:16.351Z"
   },
   {
    "duration": 4,
    "start_time": "2024-10-19T11:01:16.535Z"
   },
   {
    "duration": 12,
    "start_time": "2024-10-19T11:01:16.541Z"
   },
   {
    "duration": 190,
    "start_time": "2024-10-19T11:01:16.556Z"
   },
   {
    "duration": 4,
    "start_time": "2024-10-19T11:01:16.748Z"
   },
   {
    "duration": 249,
    "start_time": "2024-10-19T11:01:16.754Z"
   },
   {
    "duration": 4,
    "start_time": "2024-10-19T11:01:17.005Z"
   },
   {
    "duration": 149,
    "start_time": "2024-10-19T11:01:17.020Z"
   },
   {
    "duration": 27,
    "start_time": "2024-10-19T11:01:17.171Z"
   },
   {
    "duration": 25,
    "start_time": "2024-10-19T11:01:17.200Z"
   },
   {
    "duration": 25,
    "start_time": "2024-10-19T11:01:17.226Z"
   },
   {
    "duration": 34,
    "start_time": "2024-10-19T11:01:17.253Z"
   },
   {
    "duration": 113,
    "start_time": "2024-10-19T11:12:04.419Z"
   },
   {
    "duration": 12,
    "start_time": "2024-10-19T11:12:15.739Z"
   },
   {
    "duration": 1242,
    "start_time": "2024-10-19T11:51:05.154Z"
   },
   {
    "duration": 75,
    "start_time": "2024-10-19T11:51:06.398Z"
   },
   {
    "duration": 23,
    "start_time": "2024-10-19T11:51:06.475Z"
   },
   {
    "duration": 26,
    "start_time": "2024-10-19T11:51:06.500Z"
   },
   {
    "duration": 23,
    "start_time": "2024-10-19T11:51:06.528Z"
   },
   {
    "duration": 7,
    "start_time": "2024-10-19T11:51:06.552Z"
   },
   {
    "duration": 52,
    "start_time": "2024-10-19T11:51:06.561Z"
   },
   {
    "duration": 35,
    "start_time": "2024-10-19T11:51:06.615Z"
   },
   {
    "duration": 4,
    "start_time": "2024-10-19T11:51:06.652Z"
   },
   {
    "duration": 28,
    "start_time": "2024-10-19T11:51:06.660Z"
   },
   {
    "duration": 21,
    "start_time": "2024-10-19T11:51:06.690Z"
   },
   {
    "duration": 12,
    "start_time": "2024-10-19T11:51:06.713Z"
   },
   {
    "duration": 61,
    "start_time": "2024-10-19T11:51:06.727Z"
   },
   {
    "duration": 22,
    "start_time": "2024-10-19T11:51:06.791Z"
   },
   {
    "duration": 12,
    "start_time": "2024-10-19T11:51:06.814Z"
   },
   {
    "duration": 35,
    "start_time": "2024-10-19T11:51:06.828Z"
   },
   {
    "duration": 316,
    "start_time": "2024-10-19T11:51:06.865Z"
   },
   {
    "duration": 6,
    "start_time": "2024-10-19T11:51:07.182Z"
   },
   {
    "duration": 350,
    "start_time": "2024-10-19T11:51:07.190Z"
   },
   {
    "duration": 239,
    "start_time": "2024-10-19T11:51:07.542Z"
   },
   {
    "duration": 378,
    "start_time": "2024-10-19T11:51:07.783Z"
   },
   {
    "duration": 251,
    "start_time": "2024-10-19T11:51:08.163Z"
   },
   {
    "duration": 361,
    "start_time": "2024-10-19T11:51:08.420Z"
   },
   {
    "duration": 11,
    "start_time": "2024-10-19T11:51:08.783Z"
   },
   {
    "duration": 166,
    "start_time": "2024-10-19T11:51:08.796Z"
   },
   {
    "duration": 4,
    "start_time": "2024-10-19T11:51:08.964Z"
   },
   {
    "duration": 26,
    "start_time": "2024-10-19T11:51:08.969Z"
   },
   {
    "duration": 179,
    "start_time": "2024-10-19T11:51:08.998Z"
   },
   {
    "duration": 4,
    "start_time": "2024-10-19T11:51:09.178Z"
   },
   {
    "duration": 263,
    "start_time": "2024-10-19T11:51:09.184Z"
   },
   {
    "duration": 4,
    "start_time": "2024-10-19T11:51:09.448Z"
   },
   {
    "duration": 163,
    "start_time": "2024-10-19T11:51:09.453Z"
   },
   {
    "duration": 27,
    "start_time": "2024-10-19T11:51:09.617Z"
   },
   {
    "duration": 8,
    "start_time": "2024-10-19T11:51:09.646Z"
   },
   {
    "duration": 26,
    "start_time": "2024-10-19T11:51:09.655Z"
   },
   {
    "duration": 40,
    "start_time": "2024-10-19T11:51:09.683Z"
   },
   {
    "duration": 10,
    "start_time": "2024-10-19T11:51:09.725Z"
   },
   {
    "duration": 46,
    "start_time": "2024-10-19T13:13:25.421Z"
   },
   {
    "duration": 1308,
    "start_time": "2024-10-19T13:13:32.662Z"
   },
   {
    "duration": 264,
    "start_time": "2024-10-19T13:13:36.725Z"
   },
   {
    "duration": 20,
    "start_time": "2024-10-19T13:13:40.398Z"
   },
   {
    "duration": 15,
    "start_time": "2024-10-19T13:13:59.784Z"
   }
  ],
  "kernelspec": {
   "display_name": "Python 3 (ipykernel)",
   "language": "python",
   "name": "python3"
  },
  "language_info": {
   "codemirror_mode": {
    "name": "ipython",
    "version": 3
   },
   "file_extension": ".py",
   "mimetype": "text/x-python",
   "name": "python",
   "nbconvert_exporter": "python",
   "pygments_lexer": "ipython3",
   "version": "3.9.5"
  },
  "toc": {
   "base_numbering": 1,
   "nav_menu": {},
   "number_sections": true,
   "sideBar": true,
   "skip_h1_title": true,
   "title_cell": "Table of Contents",
   "title_sidebar": "Contents",
   "toc_cell": false,
   "toc_position": {
    "height": "calc(100% - 180px)",
    "left": "10px",
    "top": "150px",
    "width": "303.825px"
   },
   "toc_section_display": true,
   "toc_window_display": false
  }
 },
 "nbformat": 4,
 "nbformat_minor": 2
}
